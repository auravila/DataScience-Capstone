{
  "cells": [
    {
      "cell_type": "markdown",
      "source": [
        "# Automated ML\n",
        "\n",
        "TODO: Import Dependencies. In the cell below, import all the dependencies that you will need to complete the project."
      ],
      "metadata": {}
    },
    {
      "cell_type": "code",
      "source": [
        "import logging\n",
        "import os\n",
        "import csv\n",
        "\n",
        "from matplotlib import pyplot as plt\n",
        "import numpy as np\n",
        "import pandas as pd\n",
        "from sklearn import datasets\n",
        "import pkg_resources\n",
        "\n",
        "import azureml.core\n",
        "from azureml.core.experiment import Experiment\n",
        "from azureml.core.workspace import Workspace\n",
        "from azureml.train.automl import AutoMLConfig\n",
        "from azureml.core.dataset import Dataset\n",
        "\n",
        "from azureml.pipeline.steps import AutoMLStep\n",
        "\n",
        "#!pip install azureml-sdk==1.19.0\n",
        "\n",
        "# Check core SDK version number\n",
        "print(\"SDK version:\", azureml.core.VERSION)"
      ],
      "outputs": [
        {
          "output_type": "stream",
          "name": "stdout",
          "text": [
            "SDK version: 1.19.0\n"
          ]
        }
      ],
      "execution_count": 2,
      "metadata": {
        "gather": {
          "logged": 1611175573930
        },
        "jupyter": {
          "outputs_hidden": false,
          "source_hidden": false
        },
        "nteract": {
          "transient": {
            "deleting": false
          }
        }
      }
    },
    {
      "cell_type": "markdown",
      "source": [
        "## Dataset\n",
        "\n",
        "### Overview\n",
        "I will be using a diabetes dataset from datahub.io dataset on gestational diabetes. https://datahub.io/machine-learning/diabetes/r/diabetes.csv\n",
        "This dataset will aid to forecast gestational diabetes in women.\n"
      ],
      "metadata": {}
    },
    {
      "cell_type": "code",
      "source": [
        "from azureml.core.compute_target import ComputeTargetException\n",
        "from azureml.core.compute import AmlCompute\n",
        "from azureml.core.compute import ComputeTarget\n",
        "\n",
        "ws = Workspace.from_config()\n",
        "print(ws.name, ws.resource_group, ws.location, ws.subscription_id, sep = '\\n')\n",
        "\n",
        "# NOTE: update the cluster name to match the existing cluster\n",
        "# Choose a name for your CPU cluster\n",
        "amlcompute_cluster_name = \"DSBankCluster\"\n",
        "\n",
        "# Verify that cluster does not exist already\n",
        "try:\n",
        "    compute_target = ComputeTarget(workspace=ws, name=amlcompute_cluster_name)\n",
        "    print('Found existing cluster, use it.')\n",
        "except ComputeTargetException:\n",
        "    compute_config = AmlCompute.provisioning_configuration(vm_size='STANDARD_DS2_V12',# for GPU, use \"STANDARD_NC6\"\n",
        "                                                           #vm_priority = 'lowpriority', # optional\n",
        "                                                           max_nodes=5)\n",
        "    compute_target = ComputeTarget.create(ws, amlcompute_cluster_name, compute_config)\n",
        "\n",
        "compute_target.wait_for_completion(show_output=True, min_node_count = 1, timeout_in_minutes = 3)\n",
        "# For a more detailed view of current AmlCompute status, use get_status().\n",
        "\n",
        "###################\n",
        "# Define Dataset\n",
        "###################\n",
        "found = False\n",
        "key = \"prenataldiabetes\"\n",
        "description_text = \"Capstone Project - Forecast Diabetes\"\n",
        "\n",
        "if key in ws.datasets.keys(): \n",
        "        found = True\n",
        "        dataset = ws.datasets[key] \n",
        "\n",
        "if not found:\n",
        "        # Create AML Dataset and register it into Workspace\n",
        "        example_data = 'https://www.kaggle.com/uciml/pima-indians-diabetes-database?select=diabetes.csv'\n",
        "        dataset = Dataset.Tabular.from_delimited_files(example_data)        \n",
        "        #Register Dataset in Workspace\n",
        "        dataset = dataset.register(workspace=ws,\n",
        "                                   name=key,\n",
        "                                   description=description_text)\n",
        "\n",
        "\n",
        "df = dataset.to_pandas_dataframe()\n",
        "df.describe()"
      ],
      "outputs": [
        {
          "output_type": "stream",
          "name": "stdout",
          "text": [
            "trn-aue-aa-ml\n",
            "trn-aue-advanced-analytics-ml\n",
            "australiaeast\n",
            "8a086c9c-5530-4791-89af-62c8cdfda3fd\n",
            "Found existing cluster, use it.\n",
            "Succeeded....................................\n",
            "AmlCompute wait for completion finished\n",
            "\n",
            "Wait timeout has been reached\n",
            "Current provisioning state of AmlCompute is \"Succeeded\" and current node count is \"0\"\n"
          ]
        },
        {
          "output_type": "execute_result",
          "execution_count": 3,
          "data": {
            "text/plain": "             preg        plas        pres        skin        insu        mass  \\\ncount  768.000000  768.000000  768.000000  768.000000  768.000000  768.000000   \nmean     3.845052  120.894531   69.105469   20.536458   79.799479   31.992578   \nstd      3.369578   31.972618   19.355807   15.952218  115.244002    7.884160   \nmin      0.000000    0.000000    0.000000    0.000000    0.000000    0.000000   \n25%      1.000000   99.000000   62.000000    0.000000    0.000000   27.300000   \n50%      3.000000  117.000000   72.000000   23.000000   30.500000   32.000000   \n75%      6.000000  140.250000   80.000000   32.000000  127.250000   36.600000   \nmax     17.000000  199.000000  122.000000   99.000000  846.000000   67.100000   \n\n             pedi         age  \ncount  768.000000  768.000000  \nmean     0.471876   33.240885  \nstd      0.331329   11.760232  \nmin      0.078000   21.000000  \n25%      0.243750   24.000000  \n50%      0.372500   29.000000  \n75%      0.626250   41.000000  \nmax      2.420000   81.000000  ",
            "text/html": "<div>\n<style scoped>\n    .dataframe tbody tr th:only-of-type {\n        vertical-align: middle;\n    }\n\n    .dataframe tbody tr th {\n        vertical-align: top;\n    }\n\n    .dataframe thead th {\n        text-align: right;\n    }\n</style>\n<table border=\"1\" class=\"dataframe\">\n  <thead>\n    <tr style=\"text-align: right;\">\n      <th></th>\n      <th>preg</th>\n      <th>plas</th>\n      <th>pres</th>\n      <th>skin</th>\n      <th>insu</th>\n      <th>mass</th>\n      <th>pedi</th>\n      <th>age</th>\n    </tr>\n  </thead>\n  <tbody>\n    <tr>\n      <th>count</th>\n      <td>768.000000</td>\n      <td>768.000000</td>\n      <td>768.000000</td>\n      <td>768.000000</td>\n      <td>768.000000</td>\n      <td>768.000000</td>\n      <td>768.000000</td>\n      <td>768.000000</td>\n    </tr>\n    <tr>\n      <th>mean</th>\n      <td>3.845052</td>\n      <td>120.894531</td>\n      <td>69.105469</td>\n      <td>20.536458</td>\n      <td>79.799479</td>\n      <td>31.992578</td>\n      <td>0.471876</td>\n      <td>33.240885</td>\n    </tr>\n    <tr>\n      <th>std</th>\n      <td>3.369578</td>\n      <td>31.972618</td>\n      <td>19.355807</td>\n      <td>15.952218</td>\n      <td>115.244002</td>\n      <td>7.884160</td>\n      <td>0.331329</td>\n      <td>11.760232</td>\n    </tr>\n    <tr>\n      <th>min</th>\n      <td>0.000000</td>\n      <td>0.000000</td>\n      <td>0.000000</td>\n      <td>0.000000</td>\n      <td>0.000000</td>\n      <td>0.000000</td>\n      <td>0.078000</td>\n      <td>21.000000</td>\n    </tr>\n    <tr>\n      <th>25%</th>\n      <td>1.000000</td>\n      <td>99.000000</td>\n      <td>62.000000</td>\n      <td>0.000000</td>\n      <td>0.000000</td>\n      <td>27.300000</td>\n      <td>0.243750</td>\n      <td>24.000000</td>\n    </tr>\n    <tr>\n      <th>50%</th>\n      <td>3.000000</td>\n      <td>117.000000</td>\n      <td>72.000000</td>\n      <td>23.000000</td>\n      <td>30.500000</td>\n      <td>32.000000</td>\n      <td>0.372500</td>\n      <td>29.000000</td>\n    </tr>\n    <tr>\n      <th>75%</th>\n      <td>6.000000</td>\n      <td>140.250000</td>\n      <td>80.000000</td>\n      <td>32.000000</td>\n      <td>127.250000</td>\n      <td>36.600000</td>\n      <td>0.626250</td>\n      <td>41.000000</td>\n    </tr>\n    <tr>\n      <th>max</th>\n      <td>17.000000</td>\n      <td>199.000000</td>\n      <td>122.000000</td>\n      <td>99.000000</td>\n      <td>846.000000</td>\n      <td>67.100000</td>\n      <td>2.420000</td>\n      <td>81.000000</td>\n    </tr>\n  </tbody>\n</table>\n</div>"
          },
          "metadata": {}
        }
      ],
      "execution_count": 3,
      "metadata": {
        "collapsed": true,
        "jupyter": {
          "source_hidden": false,
          "outputs_hidden": false
        },
        "nteract": {
          "transient": {
            "deleting": false
          }
        },
        "gather": {
          "logged": 1611175777007
        }
      }
    },
    {
      "cell_type": "code",
      "source": [
        "# choose a name for experiment\n",
        "experiment_name = 'automlprenataldiabetes'\n",
        "project_folder = './Augusto_Avila/capstone'\n",
        "\n",
        "experiment=Experiment(ws, experiment_name)"
      ],
      "outputs": [],
      "execution_count": 4,
      "metadata": {
        "gather": {
          "logged": 1611175820518
        },
        "jupyter": {
          "outputs_hidden": false,
          "source_hidden": false
        },
        "nteract": {
          "transient": {
            "deleting": false
          }
        }
      }
    },
    {
      "cell_type": "markdown",
      "source": [
        "## AutoML Configuration\n",
        "\n",
        "Choosing a classification model to predict the likelihood of gestational diabetes, the variable class will hold the forecasted value and will be using the \n",
        "AUC_weighed metric as the result of initial automl experiment execution as the primary metric"
      ],
      "metadata": {}
    },
    {
      "cell_type": "code",
      "source": [
        "automl_settings = {\n",
        "    \"experiment_timeout_minutes\": 60,\n",
        "    \"max_concurrent_iterations\": 5,\n",
        "    \"primary_metric\" : 'AUC_weighted'\n",
        "}\n",
        "automl_config = AutoMLConfig(compute_target=compute_target,\n",
        "                             task = \"classification\",\n",
        "                             training_data=dataset,\n",
        "                             label_column_name=\"class\",   \n",
        "                             path = project_folder,\n",
        "                             enable_early_stopping= True,\n",
        "                             featurization= 'auto',\n",
        "                             debug_log = \"automl_errors.log\",\n",
        "                             **automl_settings\n",
        "                            )\n"
      ],
      "outputs": [],
      "execution_count": 7,
      "metadata": {
        "gather": {
          "logged": 1611175857662
        },
        "jupyter": {
          "outputs_hidden": false,
          "source_hidden": false
        },
        "nteract": {
          "transient": {
            "deleting": false
          }
        }
      }
    },
    {
      "cell_type": "code",
      "source": [
        "# TODO: Submit your experiment\n",
        "\n",
        "from azureml.widgets import RunDetails\n",
        "from azureml.core.run import Run\n",
        "\n",
        "remote_run = experiment.submit(automl_config,show_output=True)\n"
      ],
      "outputs": [
        {
          "output_type": "stream",
          "name": "stdout",
          "text": [
            "Running on remote.\n",
            "No run_configuration provided, running on DSBankCluster with default configuration\n",
            "Running on remote compute: DSBankCluster\n",
            "Parent Run ID: AutoML_14aceda5-4c46-4098-80d8-d344fee3e887\n",
            "\n",
            "Current status: FeaturesGeneration. Generating features for the dataset.\n",
            "Current status: DatasetCrossValidationSplit. Generating individually featurized CV splits.\n",
            "Current status: ModelSelection. Beginning model selection.\n",
            "\n",
            "****************************************************************************************************\n",
            "DATA GUARDRAILS: \n",
            "\n",
            "TYPE:         Cross validation\n",
            "STATUS:       DONE\n",
            "DESCRIPTION:  Each iteration of the trained model was validated through cross-validation.\n",
            "              \n",
            "DETAILS:      \n",
            "+---------------------------------+\n",
            "|Number of folds                  |\n",
            "+=================================+\n",
            "|10                               |\n",
            "+---------------------------------+\n",
            "\n",
            "****************************************************************************************************\n",
            "\n",
            "TYPE:         Class balancing detection\n",
            "STATUS:       PASSED\n",
            "DESCRIPTION:  Your inputs were analyzed, and all classes are balanced in your training data.\n",
            "              Learn more about imbalanced data: https://aka.ms/AutomatedMLImbalancedData\n",
            "\n",
            "****************************************************************************************************\n",
            "\n",
            "TYPE:         Missing feature values imputation\n",
            "STATUS:       PASSED\n",
            "DESCRIPTION:  No feature missing values were detected in the training data.\n",
            "              Learn more about missing value imputation: https://aka.ms/AutomatedMLFeaturization\n",
            "\n",
            "****************************************************************************************************\n",
            "\n",
            "TYPE:         High cardinality feature detection\n",
            "STATUS:       PASSED\n",
            "DESCRIPTION:  Your inputs were analyzed, and no high cardinality features were detected.\n",
            "              Learn more about high cardinality feature handling: https://aka.ms/AutomatedMLFeaturization\n",
            "\n",
            "****************************************************************************************************\n",
            "\n",
            "****************************************************************************************************\n",
            "ITERATION: The iteration being evaluated.\n",
            "PIPELINE: A summary description of the pipeline being evaluated.\n",
            "DURATION: Time taken for the current iteration.\n",
            "METRIC: The result of computing score on the fitted pipeline.\n",
            "BEST: The best observed score thus far.\n",
            "****************************************************************************************************\n",
            "\n",
            " ITERATION   PIPELINE                                       DURATION      METRIC      BEST\n",
            "         4   MaxAbsScaler RandomForest                      0:02:03       0.8147    0.8147\n",
            "         1   MaxAbsScaler XGBoostClassifier                 0:01:54       0.8366    0.8366\n",
            "         2   MaxAbsScaler RandomForest                      0:02:05       0.8225    0.8366\n",
            "         3   MaxAbsScaler RandomForest                      0:02:06       0.8223    0.8366\n",
            "         0   MaxAbsScaler LightGBM                          0:02:13       0.7981    0.8366\n",
            "         5   MaxAbsScaler ExtremeRandomTrees                0:02:04       0.8204    0.8366\n"
          ]
        }
      ],
      "execution_count": 8,
      "metadata": {
        "gather": {
          "logged": 1611137759232
        },
        "jupyter": {
          "outputs_hidden": false,
          "source_hidden": false
        },
        "nteract": {
          "transient": {
            "deleting": false
          }
        }
      }
    },
    {
      "cell_type": "markdown",
      "source": [
        "## Run Details\n",
        "\n",
        "OPTIONAL: Write about the different models trained and their performance. Why do you think some models did better than others?\n",
        "\n",
        "TODO: In the cell below, use the `RunDetails` widget to show the different experiments."
      ],
      "metadata": {}
    },
    {
      "cell_type": "code",
      "source": [
        "from azureml.widgets import RunDetails\n",
        "\n",
        "RunDetails(remote_run).show()\n",
        "print(remote_run.get_portal_url())\n",
        "remote_run.wait_for_completion(show_output=True)"
      ],
      "outputs": [
        {
          "output_type": "display_data",
          "data": {
            "text/plain": "_AutoMLWidget(widget_settings={'childWidgetDisplay': 'popup', 'send_telemetry': False, 'log_level': 'INFO', 's…",
            "application/vnd.jupyter.widget-view+json": {
              "version_major": 2,
              "version_minor": 0,
              "model_id": "a371db42f38149c5b76d2bd1727eb063"
            }
          },
          "metadata": {}
        },
        {
          "output_type": "display_data",
          "data": {
            "application/aml.mini.widget.v1": "{\"status\": \"Completed\", \"workbench_run_details_uri\": \"https://ml.azure.com/experiments/automlprenataldiabetes/runs/AutoML_14aceda5-4c46-4098-80d8-d344fee3e887?wsid=/subscriptions/8a086c9c-5530-4791-89af-62c8cdfda3fd/resourcegroups/trn-aue-advanced-analytics-ml/workspaces/trn-aue-aa-ml\", \"run_id\": \"AutoML_14aceda5-4c46-4098-80d8-d344fee3e887\", \"run_properties\": {\"run_id\": \"AutoML_14aceda5-4c46-4098-80d8-d344fee3e887\", \"created_utc\": \"2021-01-20T20:51:04.024664Z\", \"properties\": {\"num_iterations\": \"1000\", \"training_type\": \"TrainFull\", \"acquisition_function\": \"EI\", \"primary_metric\": \"AUC_weighted\", \"train_split\": \"0\", \"acquisition_parameter\": \"0\", \"num_cross_validation\": null, \"target\": \"DSBankCluster\", \"AMLSettingsJsonString\": \"{\\\"path\\\":null,\\\"name\\\":\\\"automlprenataldiabetes\\\",\\\"subscription_id\\\":\\\"8a086c9c-5530-4791-89af-62c8cdfda3fd\\\",\\\"resource_group\\\":\\\"trn-aue-advanced-analytics-ml\\\",\\\"workspace_name\\\":\\\"trn-aue-aa-ml\\\",\\\"region\\\":\\\"australiaeast\\\",\\\"compute_target\\\":\\\"DSBankCluster\\\",\\\"spark_service\\\":null,\\\"azure_service\\\":\\\"remote\\\",\\\"many_models\\\":false,\\\"pipeline_fetch_max_batch_size\\\":1,\\\"iterations\\\":1000,\\\"primary_metric\\\":\\\"AUC_weighted\\\",\\\"task_type\\\":\\\"classification\\\",\\\"data_script\\\":null,\\\"validation_size\\\":0.0,\\\"n_cross_validations\\\":null,\\\"y_min\\\":null,\\\"y_max\\\":null,\\\"num_classes\\\":null,\\\"featurization\\\":\\\"auto\\\",\\\"_ignore_package_version_incompatibilities\\\":false,\\\"is_timeseries\\\":false,\\\"max_cores_per_iteration\\\":1,\\\"max_concurrent_iterations\\\":5,\\\"iteration_timeout_minutes\\\":null,\\\"mem_in_mb\\\":null,\\\"enforce_time_on_windows\\\":false,\\\"experiment_timeout_minutes\\\":60,\\\"experiment_exit_score\\\":null,\\\"whitelist_models\\\":null,\\\"blacklist_algos\\\":[\\\"TensorFlowLinearClassifier\\\",\\\"TensorFlowDNN\\\"],\\\"supported_models\\\":[\\\"LogisticRegression\\\",\\\"ExtremeRandomTrees\\\",\\\"BernoulliNaiveBayes\\\",\\\"AveragedPerceptronClassifier\\\",\\\"TensorFlowLinearClassifier\\\",\\\"LinearSVM\\\",\\\"MultinomialNaiveBayes\\\",\\\"LightGBM\\\",\\\"GradientBoosting\\\",\\\"DecisionTree\\\",\\\"XGBoostClassifier\\\",\\\"TensorFlowDNN\\\",\\\"SGD\\\",\\\"SVM\\\",\\\"KNN\\\",\\\"RandomForest\\\"],\\\"auto_blacklist\\\":true,\\\"blacklist_samples_reached\\\":false,\\\"exclude_nan_labels\\\":true,\\\"verbosity\\\":20,\\\"_debug_log\\\":\\\"azureml_automl.log\\\",\\\"show_warnings\\\":false,\\\"model_explainability\\\":true,\\\"service_url\\\":null,\\\"sdk_url\\\":null,\\\"sdk_packages\\\":null,\\\"enable_onnx_compatible_models\\\":false,\\\"enable_split_onnx_featurizer_estimator_models\\\":false,\\\"vm_type\\\":\\\"STANDARD_DS12_V2\\\",\\\"telemetry_verbosity\\\":20,\\\"send_telemetry\\\":true,\\\"enable_dnn\\\":false,\\\"scenario\\\":\\\"SDK-1.13.0\\\",\\\"environment_label\\\":null,\\\"force_text_dnn\\\":false,\\\"enable_feature_sweeping\\\":true,\\\"enable_early_stopping\\\":true,\\\"early_stopping_n_iters\\\":10,\\\"metrics\\\":null,\\\"enable_ensembling\\\":true,\\\"enable_stack_ensembling\\\":true,\\\"ensemble_iterations\\\":15,\\\"enable_tf\\\":false,\\\"enable_subsampling\\\":null,\\\"subsample_seed\\\":null,\\\"enable_nimbusml\\\":false,\\\"enable_streaming\\\":false,\\\"force_streaming\\\":false,\\\"track_child_runs\\\":true,\\\"allowed_private_models\\\":[],\\\"label_column_name\\\":\\\"class\\\",\\\"weight_column_name\\\":null,\\\"cv_split_column_names\\\":null,\\\"enable_local_managed\\\":false,\\\"_local_managed_run_id\\\":null,\\\"cost_mode\\\":1,\\\"lag_length\\\":0,\\\"metric_operation\\\":\\\"maximize\\\",\\\"preprocess\\\":true}\", \"DataPrepJsonString\": \"{\\\\\\\"training_data\\\\\\\": \\\\\\\"{\\\\\\\\\\\\\\\"blocks\\\\\\\\\\\\\\\": [{\\\\\\\\\\\\\\\"id\\\\\\\\\\\\\\\": \\\\\\\\\\\\\\\"4e02d4d9-80bf-4f65-b930-677856d5d6ff\\\\\\\\\\\\\\\", \\\\\\\\\\\\\\\"type\\\\\\\\\\\\\\\": \\\\\\\\\\\\\\\"Microsoft.DPrep.GetDatastoreFilesBlock\\\\\\\\\\\\\\\", \\\\\\\\\\\\\\\"arguments\\\\\\\\\\\\\\\": {\\\\\\\\\\\\\\\"datastores\\\\\\\\\\\\\\\": [{\\\\\\\\\\\\\\\"datastoreName\\\\\\\\\\\\\\\": \\\\\\\\\\\\\\\"aaproject\\\\\\\\\\\\\\\", \\\\\\\\\\\\\\\"path\\\\\\\\\\\\\\\": \\\\\\\\\\\\\\\"UI/01-20-2021_093901_UTC/diabetes_csv.csv\\\\\\\\\\\\\\\", \\\\\\\\\\\\\\\"resourceGroup\\\\\\\\\\\\\\\": \\\\\\\\\\\\\\\"trn-aue-advanced-analytics-ml\\\\\\\\\\\\\\\", \\\\\\\\\\\\\\\"subscription\\\\\\\\\\\\\\\": \\\\\\\\\\\\\\\"8a086c9c-5530-4791-89af-62c8cdfda3fd\\\\\\\\\\\\\\\", \\\\\\\\\\\\\\\"workspaceName\\\\\\\\\\\\\\\": \\\\\\\\\\\\\\\"trn-aue-aa-ml\\\\\\\\\\\\\\\"}]}, \\\\\\\\\\\\\\\"localData\\\\\\\\\\\\\\\": {}, \\\\\\\\\\\\\\\"isEnabled\\\\\\\\\\\\\\\": true, \\\\\\\\\\\\\\\"name\\\\\\\\\\\\\\\": null, \\\\\\\\\\\\\\\"annotation\\\\\\\\\\\\\\\": null}, {\\\\\\\\\\\\\\\"id\\\\\\\\\\\\\\\": \\\\\\\\\\\\\\\"ae154ae3-26e6-42af-9b01-df3cfb087203\\\\\\\\\\\\\\\", \\\\\\\\\\\\\\\"type\\\\\\\\\\\\\\\": \\\\\\\\\\\\\\\"Microsoft.DPrep.ParseDelimitedBlock\\\\\\\\\\\\\\\", \\\\\\\\\\\\\\\"arguments\\\\\\\\\\\\\\\": {\\\\\\\\\\\\\\\"columnHeadersMode\\\\\\\\\\\\\\\": 1, \\\\\\\\\\\\\\\"fileEncoding\\\\\\\\\\\\\\\": 0, \\\\\\\\\\\\\\\"handleQuotedLineBreaks\\\\\\\\\\\\\\\": false, \\\\\\\\\\\\\\\"preview\\\\\\\\\\\\\\\": false, \\\\\\\\\\\\\\\"separator\\\\\\\\\\\\\\\": \\\\\\\\\\\\\\\",\\\\\\\\\\\\\\\", \\\\\\\\\\\\\\\"skipRows\\\\\\\\\\\\\\\": 0, \\\\\\\\\\\\\\\"skipRowsMode\\\\\\\\\\\\\\\": 0}, \\\\\\\\\\\\\\\"localData\\\\\\\\\\\\\\\": {}, \\\\\\\\\\\\\\\"isEnabled\\\\\\\\\\\\\\\": true, \\\\\\\\\\\\\\\"name\\\\\\\\\\\\\\\": null, \\\\\\\\\\\\\\\"annotation\\\\\\\\\\\\\\\": null}, {\\\\\\\\\\\\\\\"id\\\\\\\\\\\\\\\": \\\\\\\\\\\\\\\"d42884f1-4ceb-4d4b-b5ed-d61c7031ef2f\\\\\\\\\\\\\\\", \\\\\\\\\\\\\\\"type\\\\\\\\\\\\\\\": \\\\\\\\\\\\\\\"Microsoft.DPrep.DropColumnsBlock\\\\\\\\\\\\\\\", \\\\\\\\\\\\\\\"arguments\\\\\\\\\\\\\\\": {\\\\\\\\\\\\\\\"columns\\\\\\\\\\\\\\\": {\\\\\\\\\\\\\\\"type\\\\\\\\\\\\\\\": 0, \\\\\\\\\\\\\\\"details\\\\\\\\\\\\\\\": {\\\\\\\\\\\\\\\"selectedColumns\\\\\\\\\\\\\\\": [\\\\\\\\\\\\\\\"Path\\\\\\\\\\\\\\\"]}}}, \\\\\\\\\\\\\\\"localData\\\\\\\\\\\\\\\": {}, \\\\\\\\\\\\\\\"isEnabled\\\\\\\\\\\\\\\": true, \\\\\\\\\\\\\\\"name\\\\\\\\\\\\\\\": null, \\\\\\\\\\\\\\\"annotation\\\\\\\\\\\\\\\": null}, {\\\\\\\\\\\\\\\"id\\\\\\\\\\\\\\\": \\\\\\\\\\\\\\\"5f4b4e85-e31c-45d0-aff3-03595e8a2365\\\\\\\\\\\\\\\", \\\\\\\\\\\\\\\"type\\\\\\\\\\\\\\\": \\\\\\\\\\\\\\\"Microsoft.DPrep.SetColumnTypesBlock\\\\\\\\\\\\\\\", \\\\\\\\\\\\\\\"arguments\\\\\\\\\\\\\\\": {\\\\\\\\\\\\\\\"columnConversion\\\\\\\\\\\\\\\": [{\\\\\\\\\\\\\\\"column\\\\\\\\\\\\\\\": {\\\\\\\\\\\\\\\"type\\\\\\\\\\\\\\\": 2, \\\\\\\\\\\\\\\"details\\\\\\\\\\\\\\\": {\\\\\\\\\\\\\\\"selectedColumn\\\\\\\\\\\\\\\": \\\\\\\\\\\\\\\"Path\\\\\\\\\\\\\\\"}}, \\\\\\\\\\\\\\\"typeProperty\\\\\\\\\\\\\\\": 0}, {\\\\\\\\\\\\\\\"column\\\\\\\\\\\\\\\": {\\\\\\\\\\\\\\\"type\\\\\\\\\\\\\\\": 2, \\\\\\\\\\\\\\\"details\\\\\\\\\\\\\\\": {\\\\\\\\\\\\\\\"selectedColumn\\\\\\\\\\\\\\\": \\\\\\\\\\\\\\\"preg\\\\\\\\\\\\\\\"}}, \\\\\\\\\\\\\\\"typeProperty\\\\\\\\\\\\\\\": 2}, {\\\\\\\\\\\\\\\"column\\\\\\\\\\\\\\\": {\\\\\\\\\\\\\\\"type\\\\\\\\\\\\\\\": 2, \\\\\\\\\\\\\\\"details\\\\\\\\\\\\\\\": {\\\\\\\\\\\\\\\"selectedColumn\\\\\\\\\\\\\\\": \\\\\\\\\\\\\\\"plas\\\\\\\\\\\\\\\"}}, \\\\\\\\\\\\\\\"typeProperty\\\\\\\\\\\\\\\": 2}, {\\\\\\\\\\\\\\\"column\\\\\\\\\\\\\\\": {\\\\\\\\\\\\\\\"type\\\\\\\\\\\\\\\": 2, \\\\\\\\\\\\\\\"details\\\\\\\\\\\\\\\": {\\\\\\\\\\\\\\\"selectedColumn\\\\\\\\\\\\\\\": \\\\\\\\\\\\\\\"pres\\\\\\\\\\\\\\\"}}, \\\\\\\\\\\\\\\"typeProperty\\\\\\\\\\\\\\\": 2}, {\\\\\\\\\\\\\\\"column\\\\\\\\\\\\\\\": {\\\\\\\\\\\\\\\"type\\\\\\\\\\\\\\\": 2, \\\\\\\\\\\\\\\"details\\\\\\\\\\\\\\\": {\\\\\\\\\\\\\\\"selectedColumn\\\\\\\\\\\\\\\": \\\\\\\\\\\\\\\"skin\\\\\\\\\\\\\\\"}}, \\\\\\\\\\\\\\\"typeProperty\\\\\\\\\\\\\\\": 2}, {\\\\\\\\\\\\\\\"column\\\\\\\\\\\\\\\": {\\\\\\\\\\\\\\\"type\\\\\\\\\\\\\\\": 2, \\\\\\\\\\\\\\\"details\\\\\\\\\\\\\\\": {\\\\\\\\\\\\\\\"selectedColumn\\\\\\\\\\\\\\\": \\\\\\\\\\\\\\\"insu\\\\\\\\\\\\\\\"}}, \\\\\\\\\\\\\\\"typeProperty\\\\\\\\\\\\\\\": 2}, {\\\\\\\\\\\\\\\"column\\\\\\\\\\\\\\\": {\\\\\\\\\\\\\\\"type\\\\\\\\\\\\\\\": 2, \\\\\\\\\\\\\\\"details\\\\\\\\\\\\\\\": {\\\\\\\\\\\\\\\"selectedColumn\\\\\\\\\\\\\\\": \\\\\\\\\\\\\\\"mass\\\\\\\\\\\\\\\"}}, \\\\\\\\\\\\\\\"typeProperty\\\\\\\\\\\\\\\": 3}, {\\\\\\\\\\\\\\\"column\\\\\\\\\\\\\\\": {\\\\\\\\\\\\\\\"type\\\\\\\\\\\\\\\": 2, \\\\\\\\\\\\\\\"details\\\\\\\\\\\\\\\": {\\\\\\\\\\\\\\\"selectedColumn\\\\\\\\\\\\\\\": \\\\\\\\\\\\\\\"pedi\\\\\\\\\\\\\\\"}}, \\\\\\\\\\\\\\\"typeProperty\\\\\\\\\\\\\\\": 3}, {\\\\\\\\\\\\\\\"column\\\\\\\\\\\\\\\": {\\\\\\\\\\\\\\\"type\\\\\\\\\\\\\\\": 2, \\\\\\\\\\\\\\\"details\\\\\\\\\\\\\\\": {\\\\\\\\\\\\\\\"selectedColumn\\\\\\\\\\\\\\\": \\\\\\\\\\\\\\\"age\\\\\\\\\\\\\\\"}}, \\\\\\\\\\\\\\\"typeProperty\\\\\\\\\\\\\\\": 2}, {\\\\\\\\\\\\\\\"column\\\\\\\\\\\\\\\": {\\\\\\\\\\\\\\\"type\\\\\\\\\\\\\\\": 2, \\\\\\\\\\\\\\\"details\\\\\\\\\\\\\\\": {\\\\\\\\\\\\\\\"selectedColumn\\\\\\\\\\\\\\\": \\\\\\\\\\\\\\\"class\\\\\\\\\\\\\\\"}}, \\\\\\\\\\\\\\\"typeProperty\\\\\\\\\\\\\\\": 0}]}, \\\\\\\\\\\\\\\"localData\\\\\\\\\\\\\\\": {}, \\\\\\\\\\\\\\\"isEnabled\\\\\\\\\\\\\\\": true, \\\\\\\\\\\\\\\"name\\\\\\\\\\\\\\\": null, \\\\\\\\\\\\\\\"annotation\\\\\\\\\\\\\\\": null}], \\\\\\\\\\\\\\\"inspectors\\\\\\\\\\\\\\\": [], \\\\\\\\\\\\\\\"meta\\\\\\\\\\\\\\\": {\\\\\\\\\\\\\\\"savedDatasetId\\\\\\\\\\\\\\\": \\\\\\\\\\\\\\\"377b9e7e-fd34-4a83-953d-b0acbc04c07f\\\\\\\\\\\\\\\", \\\\\\\\\\\\\\\"datasetType\\\\\\\\\\\\\\\": \\\\\\\\\\\\\\\"tabular\\\\\\\\\\\\\\\", \\\\\\\\\\\\\\\"subscriptionId\\\\\\\\\\\\\\\": \\\\\\\\\\\\\\\"8a086c9c-5530-4791-89af-62c8cdfda3fd\\\\\\\\\\\\\\\", \\\\\\\\\\\\\\\"workspaceId\\\\\\\\\\\\\\\": \\\\\\\\\\\\\\\"c3f71a46-26f3-421c-8037-b5fa54f65e44\\\\\\\\\\\\\\\", \\\\\\\\\\\\\\\"workspaceLocation\\\\\\\\\\\\\\\": \\\\\\\\\\\\\\\"australiaeast\\\\\\\\\\\\\\\"}}\\\\\\\", \\\\\\\"activities\\\\\\\": 0}\", \"EnableSubsampling\": null, \"runTemplate\": \"AutoML\", \"azureml.runsource\": \"automl\", \"display_task_type\": \"classification\", \"dependencies_versions\": \"{\\\"azureml-widgets\\\": \\\"1.19.0\\\", \\\"azureml-train\\\": \\\"1.19.0\\\", \\\"azureml-train-restclients-hyperdrive\\\": \\\"1.19.0\\\", \\\"azureml-train-core\\\": \\\"1.19.0\\\", \\\"azureml-train-automl\\\": \\\"1.19.0\\\", \\\"azureml-train-automl-runtime\\\": \\\"1.19.0\\\", \\\"azureml-train-automl-client\\\": \\\"1.19.0\\\", \\\"azureml-tensorboard\\\": \\\"1.19.0\\\", \\\"azureml-telemetry\\\": \\\"1.19.0\\\", \\\"azureml-sdk\\\": \\\"1.19.0\\\", \\\"azureml-samples\\\": \\\"0+unknown\\\", \\\"azureml-pipeline\\\": \\\"1.19.0\\\", \\\"azureml-pipeline-steps\\\": \\\"1.19.0\\\", \\\"azureml-pipeline-core\\\": \\\"1.19.0\\\", \\\"azureml-opendatasets\\\": \\\"1.19.0\\\", \\\"azureml-model-management-sdk\\\": \\\"1.0.1b6.post1\\\", \\\"azureml-mlflow\\\": \\\"1.19.0\\\", \\\"azureml-interpret\\\": \\\"1.19.0\\\", \\\"azureml-explain-model\\\": \\\"1.19.0\\\", \\\"azureml-defaults\\\": \\\"1.19.0\\\", \\\"azureml-dataset-runtime\\\": \\\"1.19.0\\\", \\\"azureml-dataprep\\\": \\\"2.6.1\\\", \\\"azureml-dataprep-rslex\\\": \\\"1.4.0\\\", \\\"azureml-dataprep-native\\\": \\\"26.0.0\\\", \\\"azureml-datadrift\\\": \\\"1.19.0\\\", \\\"azureml-core\\\": \\\"1.19.0\\\", \\\"azureml-contrib-services\\\": \\\"1.19.0\\\", \\\"azureml-contrib-server\\\": \\\"1.19.0\\\", \\\"azureml-contrib-reinforcementlearning\\\": \\\"1.19.0\\\", \\\"azureml-contrib-pipeline-steps\\\": \\\"1.19.0\\\", \\\"azureml-contrib-notebook\\\": \\\"1.19.0\\\", \\\"azureml-contrib-interpret\\\": \\\"1.19.0\\\", \\\"azureml-contrib-gbdt\\\": \\\"1.19.0\\\", \\\"azureml-contrib-fairness\\\": \\\"1.19.0\\\", \\\"azureml-contrib-dataset\\\": \\\"1.19.0\\\", \\\"azureml-cli-common\\\": \\\"1.19.0\\\", \\\"azureml-automl-runtime\\\": \\\"1.19.0\\\", \\\"azureml-automl-core\\\": \\\"1.19.0\\\", \\\"azureml-accel-models\\\": \\\"1.19.0\\\"}\", \"_aml_system_scenario_identification\": \"Remote.Parent\", \"ClientType\": \"SDK\", \"environment_cpu_name\": \"AzureML-AutoML\", \"environment_cpu_label\": \"prod\", \"environment_gpu_name\": \"AzureML-AutoML-GPU\", \"environment_gpu_label\": \"prod\", \"root_attribution\": \"automl\", \"attribution\": \"AutoML\", \"Orchestrator\": \"AutoML\", \"CancelUri\": \"https://australiaeast.experiments.azureml.net/jasmine/v1.0/subscriptions/8a086c9c-5530-4791-89af-62c8cdfda3fd/resourceGroups/trn-aue-advanced-analytics-ml/providers/Microsoft.MachineLearningServices/workspaces/trn-aue-aa-ml/experimentids/5436b107-d9d9-4731-8816-3da7f9d6bea5/cancel/AutoML_14aceda5-4c46-4098-80d8-d344fee3e887\", \"ClientSdkVersion\": \"1.20.0\", \"snapshotId\": \"00000000-0000-0000-0000-000000000000\", \"SetupRunId\": \"AutoML_14aceda5-4c46-4098-80d8-d344fee3e887_setup\", \"SetupRunContainerId\": \"dcid.AutoML_14aceda5-4c46-4098-80d8-d344fee3e887_setup\", \"FeaturizationRunJsonPath\": \"featurizer_container.json\", \"FeaturizationRunId\": \"AutoML_14aceda5-4c46-4098-80d8-d344fee3e887_featurize\", \"ProblemInfoJsonString\": \"{\\\"dataset_num_categorical\\\": 0, \\\"is_sparse\\\": true, \\\"subsampling\\\": false, \\\"dataset_classes\\\": 2, \\\"dataset_features\\\": 24, \\\"dataset_samples\\\": 768, \\\"single_frequency_class_detected\\\": false}\", \"ModelExplainRunId\": \"AutoML_14aceda5-4c46-4098-80d8-d344fee3e887_ModelExplain\"}, \"tags\": {\"model_explain_run\": \"best_run\", \"_aml_system_azureml.automlComponent\": \"AutoML\", \"pipeline_id\": \"\", \"score\": \"\", \"predicted_cost\": \"\", \"fit_time\": \"\", \"training_percent\": \"\", \"iteration\": \"\", \"run_preprocessor\": \"\", \"run_algorithm\": \"\", \"dynamic_whitelisting_iterations\": \"<25>;<30>;<35>;\", \"automl_best_child_run_id\": \"AutoML_14aceda5-4c46-4098-80d8-d344fee3e887_38\", \"model_explain_best_run_child_id\": \"AutoML_14aceda5-4c46-4098-80d8-d344fee3e887_38\"}, \"end_time_utc\": \"2021-01-20T21:20:28.238825Z\", \"status\": \"Completed\", \"log_files\": {}, \"log_groups\": [], \"run_duration\": \"0:29:24\"}, \"child_runs\": [{\"run_id\": \"AutoML_14aceda5-4c46-4098-80d8-d344fee3e887_0\", \"run_number\": 209, \"metric\": null, \"status\": \"Completed\", \"run_type\": \"azureml.scriptrun\", \"training_percent\": \"100\", \"start_time\": \"2021-01-20T21:01:20.866755Z\", \"end_time\": \"2021-01-20T21:03:33.74504Z\", \"created_time\": \"2021-01-20T20:58:34.384347Z\", \"created_time_dt\": \"2021-01-20T20:58:34.384347Z\", \"duration\": \"0:04:59\", \"iteration\": \"0\", \"goal\": \"AUC_weighted_max\", \"run_name\": \"MaxAbsScaler, LightGBM\", \"run_properties\": \"copy=True\", \"primary_metric\": 0.79810139, \"best_metric\": 0.79810139}, {\"run_id\": \"AutoML_14aceda5-4c46-4098-80d8-d344fee3e887_2\", \"run_number\": 210, \"metric\": null, \"status\": \"Completed\", \"run_type\": \"azureml.scriptrun\", \"training_percent\": \"100\", \"start_time\": \"2021-01-20T21:01:20.147171Z\", \"end_time\": \"2021-01-20T21:03:25.42865Z\", \"created_time\": \"2021-01-20T20:58:34.404875Z\", \"created_time_dt\": \"2021-01-20T20:58:34.404875Z\", \"duration\": \"0:04:51\", \"iteration\": \"2\", \"goal\": \"AUC_weighted_max\", \"run_name\": \"MaxAbsScaler, RandomForest\", \"run_properties\": \"copy=True\", \"primary_metric\": 0.82252751, \"best_metric\": 0.83662103}, {\"run_id\": \"AutoML_14aceda5-4c46-4098-80d8-d344fee3e887_3\", \"run_number\": 211, \"metric\": null, \"status\": \"Completed\", \"run_type\": \"azureml.scriptrun\", \"training_percent\": \"100\", \"start_time\": \"2021-01-20T21:01:21.141689Z\", \"end_time\": \"2021-01-20T21:03:27.38454Z\", \"created_time\": \"2021-01-20T20:58:34.42716Z\", \"created_time_dt\": \"2021-01-20T20:58:34.42716Z\", \"duration\": \"0:04:52\", \"iteration\": \"3\", \"goal\": \"AUC_weighted_max\", \"run_name\": \"MaxAbsScaler, RandomForest\", \"run_properties\": \"copy=True\", \"primary_metric\": 0.82230323, \"best_metric\": 0.83662103}, {\"run_id\": \"AutoML_14aceda5-4c46-4098-80d8-d344fee3e887_1\", \"run_number\": 212, \"metric\": null, \"status\": \"Completed\", \"run_type\": \"azureml.scriptrun\", \"training_percent\": \"100\", \"start_time\": \"2021-01-20T21:00:53.295098Z\", \"end_time\": \"2021-01-20T21:02:47.625822Z\", \"created_time\": \"2021-01-20T20:58:34.437845Z\", \"created_time_dt\": \"2021-01-20T20:58:34.437845Z\", \"duration\": \"0:04:13\", \"iteration\": \"1\", \"goal\": \"AUC_weighted_max\", \"run_name\": \"MaxAbsScaler, XGBoostClassifier\", \"run_properties\": \"copy=True\", \"primary_metric\": 0.83662103, \"best_metric\": 0.83662103}, {\"run_id\": \"AutoML_14aceda5-4c46-4098-80d8-d344fee3e887_4\", \"run_number\": 213, \"metric\": null, \"status\": \"Completed\", \"run_type\": \"azureml.scriptrun\", \"training_percent\": \"100\", \"start_time\": \"2021-01-20T20:58:45.72846Z\", \"end_time\": \"2021-01-20T21:00:48.73286Z\", \"created_time\": \"2021-01-20T20:58:34.549379Z\", \"created_time_dt\": \"2021-01-20T20:58:34.549379Z\", \"duration\": \"0:02:14\", \"iteration\": \"4\", \"goal\": \"AUC_weighted_max\", \"run_name\": \"MaxAbsScaler, RandomForest\", \"run_properties\": \"copy=True\", \"primary_metric\": 0.81466277, \"best_metric\": 0.83662103}, {\"run_id\": \"AutoML_14aceda5-4c46-4098-80d8-d344fee3e887_5\", \"run_number\": 214, \"metric\": null, \"status\": \"Completed\", \"run_type\": \"azureml.scriptrun\", \"training_percent\": \"100\", \"start_time\": \"2021-01-20T21:01:31.499564Z\", \"end_time\": \"2021-01-20T21:03:35.955202Z\", \"created_time\": \"2021-01-20T21:00:53.245877Z\", \"created_time_dt\": \"2021-01-20T21:00:53.245877Z\", \"duration\": \"0:02:42\", \"iteration\": \"5\", \"goal\": \"AUC_weighted_max\", \"run_name\": \"MaxAbsScaler, ExtremeRandomTrees\", \"run_properties\": \"copy=True\", \"primary_metric\": 0.82039051, \"best_metric\": 0.83662103}, {\"run_id\": \"AutoML_14aceda5-4c46-4098-80d8-d344fee3e887_6\", \"run_number\": 215, \"metric\": null, \"status\": \"Completed\", \"run_type\": \"azureml.scriptrun\", \"training_percent\": \"100\", \"start_time\": \"2021-01-20T21:03:02.43188Z\", \"end_time\": \"2021-01-20T21:04:51.525682Z\", \"created_time\": \"2021-01-20T21:02:51.213771Z\", \"created_time_dt\": \"2021-01-20T21:02:51.213771Z\", \"duration\": \"0:02:00\", \"iteration\": \"6\", \"goal\": \"AUC_weighted_max\", \"run_name\": \"MaxAbsScaler, ExtremeRandomTrees\", \"run_properties\": \"copy=True\", \"primary_metric\": 0.82050509, \"best_metric\": 0.83662103}, {\"run_id\": \"AutoML_14aceda5-4c46-4098-80d8-d344fee3e887_7\", \"run_number\": 216, \"metric\": null, \"status\": \"Completed\", \"run_type\": \"azureml.scriptrun\", \"training_percent\": \"100\", \"start_time\": \"2021-01-20T21:03:41.89093Z\", \"end_time\": \"2021-01-20T21:05:40.969234Z\", \"created_time\": \"2021-01-20T21:03:29.068808Z\", \"created_time_dt\": \"2021-01-20T21:03:29.068808Z\", \"duration\": \"0:02:11\", \"iteration\": \"7\", \"goal\": \"AUC_weighted_max\", \"run_name\": \"MaxAbsScaler, ExtremeRandomTrees\", \"run_properties\": \"copy=True\", \"primary_metric\": 0.79883224, \"best_metric\": 0.83662103}, {\"run_id\": \"AutoML_14aceda5-4c46-4098-80d8-d344fee3e887_8\", \"run_number\": 217, \"metric\": null, \"status\": \"Completed\", \"run_type\": \"azureml.scriptrun\", \"training_percent\": \"100\", \"start_time\": \"2021-01-20T21:03:45.292381Z\", \"end_time\": \"2021-01-20T21:05:40.46249Z\", \"created_time\": \"2021-01-20T21:03:35.142034Z\", \"created_time_dt\": \"2021-01-20T21:03:35.142034Z\", \"duration\": \"0:02:05\", \"iteration\": \"8\", \"goal\": \"AUC_weighted_max\", \"run_name\": \"MaxAbsScaler, RandomForest\", \"run_properties\": \"copy=True\", \"primary_metric\": 0.80010804, \"best_metric\": 0.83662103}, {\"run_id\": \"AutoML_14aceda5-4c46-4098-80d8-d344fee3e887_9\", \"run_number\": 218, \"metric\": null, \"status\": \"Completed\", \"run_type\": \"azureml.scriptrun\", \"training_percent\": \"100\", \"start_time\": \"2021-01-20T21:03:51.380258Z\", \"end_time\": \"2021-01-20T21:05:54.420748Z\", \"created_time\": \"2021-01-20T21:03:39.93899Z\", \"created_time_dt\": \"2021-01-20T21:03:39.93899Z\", \"duration\": \"0:02:14\", \"iteration\": \"9\", \"goal\": \"AUC_weighted_max\", \"run_name\": \"MaxAbsScaler, ExtremeRandomTrees\", \"run_properties\": \"copy=True\", \"primary_metric\": 0.7860469, \"best_metric\": 0.83662103}, {\"run_id\": \"AutoML_14aceda5-4c46-4098-80d8-d344fee3e887_10\", \"run_number\": 219, \"metric\": null, \"status\": \"Completed\", \"run_type\": \"azureml.scriptrun\", \"training_percent\": \"100\", \"start_time\": \"2021-01-20T21:03:50.020796Z\", \"end_time\": \"2021-01-20T21:05:53.364708Z\", \"created_time\": \"2021-01-20T21:03:40.105559Z\", \"created_time_dt\": \"2021-01-20T21:03:40.105559Z\", \"duration\": \"0:02:13\", \"iteration\": \"10\", \"goal\": \"AUC_weighted_max\", \"run_name\": \"MaxAbsScaler, RandomForest\", \"run_properties\": \"copy=True\", \"primary_metric\": 0.80772633, \"best_metric\": 0.83662103}, {\"run_id\": \"AutoML_14aceda5-4c46-4098-80d8-d344fee3e887_11\", \"run_number\": 220, \"metric\": null, \"status\": \"Completed\", \"run_type\": \"azureml.scriptrun\", \"training_percent\": \"100\", \"start_time\": \"2021-01-20T21:05:05.560247Z\", \"end_time\": \"2021-01-20T21:06:56.893154Z\", \"created_time\": \"2021-01-20T21:04:55.175082Z\", \"created_time_dt\": \"2021-01-20T21:04:55.175082Z\", \"duration\": \"0:02:01\", \"iteration\": \"11\", \"goal\": \"AUC_weighted_max\", \"run_name\": \"MaxAbsScaler, RandomForest\", \"run_properties\": \"copy=True\", \"primary_metric\": 0.81109829, \"best_metric\": 0.83662103}, {\"run_id\": \"AutoML_14aceda5-4c46-4098-80d8-d344fee3e887_12\", \"run_number\": 221, \"metric\": null, \"status\": \"Completed\", \"run_type\": \"azureml.scriptrun\", \"training_percent\": \"100\", \"start_time\": \"2021-01-20T21:05:54.262197Z\", \"end_time\": \"2021-01-20T21:07:53.982125Z\", \"created_time\": \"2021-01-20T21:05:43.782706Z\", \"created_time_dt\": \"2021-01-20T21:05:43.782706Z\", \"duration\": \"0:02:10\", \"iteration\": \"12\", \"goal\": \"AUC_weighted_max\", \"run_name\": \"MaxAbsScaler, RandomForest\", \"run_properties\": \"copy=True\", \"primary_metric\": 0.78749852, \"best_metric\": 0.83662103}, {\"run_id\": \"AutoML_14aceda5-4c46-4098-80d8-d344fee3e887_13\", \"run_number\": 222, \"metric\": null, \"status\": \"Completed\", \"run_type\": \"azureml.scriptrun\", \"training_percent\": \"100\", \"start_time\": \"2021-01-20T21:05:54.923282Z\", \"end_time\": \"2021-01-20T21:07:55.336373Z\", \"created_time\": \"2021-01-20T21:05:43.848764Z\", \"created_time_dt\": \"2021-01-20T21:05:43.848764Z\", \"duration\": \"0:02:11\", \"iteration\": \"13\", \"goal\": \"AUC_weighted_max\", \"run_name\": \"StandardScalerWrapper, XGBoostClassifier\", \"run_properties\": \"<azureml.automl.runtime.shared.model_wrappers.StandardScalerWrapper object at 0x7fc906ac8fd0\", \"primary_metric\": 0.82080753, \"best_metric\": 0.83662103}, {\"run_id\": \"AutoML_14aceda5-4c46-4098-80d8-d344fee3e887_14\", \"run_number\": 223, \"metric\": null, \"status\": \"Completed\", \"run_type\": \"azureml.scriptrun\", \"training_percent\": \"100\", \"start_time\": \"2021-01-20T21:06:08.808652Z\", \"end_time\": \"2021-01-20T21:08:05.472863Z\", \"created_time\": \"2021-01-20T21:05:57.152558Z\", \"created_time_dt\": \"2021-01-20T21:05:57.152558Z\", \"duration\": \"0:02:08\", \"iteration\": \"14\", \"goal\": \"AUC_weighted_max\", \"run_name\": \"MaxAbsScaler, RandomForest\", \"run_properties\": \"copy=True\", \"primary_metric\": 0.80467608, \"best_metric\": 0.83662103}, {\"run_id\": \"AutoML_14aceda5-4c46-4098-80d8-d344fee3e887_15\", \"run_number\": 224, \"metric\": null, \"status\": \"Completed\", \"run_type\": \"azureml.scriptrun\", \"training_percent\": \"100\", \"start_time\": \"2021-01-20T21:06:12.385192Z\", \"end_time\": \"2021-01-20T21:08:12.890684Z\", \"created_time\": \"2021-01-20T21:06:02.081685Z\", \"created_time_dt\": \"2021-01-20T21:06:02.081685Z\", \"duration\": \"0:02:10\", \"iteration\": \"15\", \"goal\": \"AUC_weighted_max\", \"run_name\": \"StandardScalerWrapper, ExtremeRandomTrees\", \"run_properties\": \"<azureml.automl.runtime.shared.model_wrappers.StandardScalerWrapper object at 0x7efbf53b7c88\", \"primary_metric\": 0.82135511, \"best_metric\": 0.83662103}, {\"run_id\": \"AutoML_14aceda5-4c46-4098-80d8-d344fee3e887_16\", \"run_number\": 225, \"metric\": null, \"status\": \"Completed\", \"run_type\": \"azureml.scriptrun\", \"training_percent\": \"100\", \"start_time\": \"2021-01-20T21:07:10.420583Z\", \"end_time\": \"2021-01-20T21:09:06.890109Z\", \"created_time\": \"2021-01-20T21:06:59.979269Z\", \"created_time_dt\": \"2021-01-20T21:06:59.979269Z\", \"duration\": \"0:02:06\", \"iteration\": \"16\", \"goal\": \"AUC_weighted_max\", \"run_name\": \"MaxAbsScaler, ExtremeRandomTrees\", \"run_properties\": \"copy=True\", \"primary_metric\": 0.81776799, \"best_metric\": 0.83662103}, {\"run_id\": \"AutoML_14aceda5-4c46-4098-80d8-d344fee3e887_17\", \"run_number\": 226, \"metric\": null, \"status\": \"Completed\", \"run_type\": \"azureml.scriptrun\", \"training_percent\": \"100\", \"start_time\": \"2021-01-20T21:08:11.587395Z\", \"end_time\": \"2021-01-20T21:10:08.912387Z\", \"created_time\": \"2021-01-20T21:07:57.670796Z\", \"created_time_dt\": \"2021-01-20T21:07:57.670796Z\", \"duration\": \"0:02:11\", \"iteration\": \"17\", \"goal\": \"AUC_weighted_max\", \"run_name\": \"MaxAbsScaler, ExtremeRandomTrees\", \"run_properties\": \"copy=True\", \"primary_metric\": 0.80678053, \"best_metric\": 0.83662103}, {\"run_id\": \"AutoML_14aceda5-4c46-4098-80d8-d344fee3e887_18\", \"run_number\": 227, \"metric\": null, \"status\": \"Completed\", \"run_type\": \"azureml.scriptrun\", \"training_percent\": \"100\", \"start_time\": \"2021-01-20T21:08:12.981108Z\", \"end_time\": \"2021-01-20T21:10:12.538323Z\", \"created_time\": \"2021-01-20T21:08:03.421233Z\", \"created_time_dt\": \"2021-01-20T21:08:03.421233Z\", \"duration\": \"0:02:09\", \"iteration\": \"18\", \"goal\": \"AUC_weighted_max\", \"run_name\": \"MaxAbsScaler, RandomForest\", \"run_properties\": \"copy=True\", \"primary_metric\": 0.80961746, \"best_metric\": 0.83662103}, {\"run_id\": \"AutoML_14aceda5-4c46-4098-80d8-d344fee3e887_19\", \"run_number\": 228, \"metric\": null, \"status\": \"Completed\", \"run_type\": \"azureml.scriptrun\", \"training_percent\": \"100\", \"start_time\": \"2021-01-20T21:08:18.059731Z\", \"end_time\": \"2021-01-20T21:10:13.626562Z\", \"created_time\": \"2021-01-20T21:08:08.301631Z\", \"created_time_dt\": \"2021-01-20T21:08:08.301631Z\", \"duration\": \"0:02:05\", \"iteration\": \"19\", \"goal\": \"AUC_weighted_max\", \"run_name\": \"MaxAbsScaler, LightGBM\", \"run_properties\": \"copy=True\", \"primary_metric\": 0.82230628, \"best_metric\": 0.83662103}, {\"run_id\": \"AutoML_14aceda5-4c46-4098-80d8-d344fee3e887_20\", \"run_number\": 229, \"metric\": null, \"status\": \"Completed\", \"run_type\": \"azureml.scriptrun\", \"training_percent\": \"100\", \"start_time\": \"2021-01-20T21:08:26.479467Z\", \"end_time\": \"2021-01-20T21:10:22.302681Z\", \"created_time\": \"2021-01-20T21:08:15.847341Z\", \"created_time_dt\": \"2021-01-20T21:08:15.847341Z\", \"duration\": \"0:02:06\", \"iteration\": \"20\", \"goal\": \"AUC_weighted_max\", \"run_name\": \"StandardScalerWrapper, XGBoostClassifier\", \"run_properties\": \"<azureml.automl.runtime.shared.model_wrappers.StandardScalerWrapper object at 0x7f3926e5b7b8\", \"primary_metric\": 0.82402664, \"best_metric\": 0.83662103}, {\"run_id\": \"AutoML_14aceda5-4c46-4098-80d8-d344fee3e887_21\", \"run_number\": 230, \"metric\": null, \"status\": \"Completed\", \"run_type\": \"azureml.scriptrun\", \"training_percent\": \"100\", \"start_time\": \"2021-01-20T21:09:22.338427Z\", \"end_time\": \"2021-01-20T21:11:18.675355Z\", \"created_time\": \"2021-01-20T21:09:10.361724Z\", \"created_time_dt\": \"2021-01-20T21:09:10.361724Z\", \"duration\": \"0:02:08\", \"iteration\": \"21\", \"goal\": \"AUC_weighted_max\", \"run_name\": \"StandardScalerWrapper, XGBoostClassifier\", \"run_properties\": \"<azureml.automl.runtime.shared.model_wrappers.StandardScalerWrapper object at 0x7f0c4082e908\", \"primary_metric\": 0.82984727, \"best_metric\": 0.83662103}, {\"run_id\": \"AutoML_14aceda5-4c46-4098-80d8-d344fee3e887_22\", \"run_number\": 231, \"metric\": null, \"status\": \"Completed\", \"run_type\": \"azureml.scriptrun\", \"training_percent\": \"100\", \"start_time\": \"2021-01-20T21:10:22.208129Z\", \"end_time\": \"2021-01-20T21:12:14.766509Z\", \"created_time\": \"2021-01-20T21:10:11.51445Z\", \"created_time_dt\": \"2021-01-20T21:10:11.51445Z\", \"duration\": \"0:02:03\", \"iteration\": \"22\", \"goal\": \"AUC_weighted_max\", \"run_name\": \"MaxAbsScaler, LightGBM\", \"run_properties\": \"copy=True\", \"primary_metric\": 0.81522085, \"best_metric\": 0.83662103}, {\"run_id\": \"AutoML_14aceda5-4c46-4098-80d8-d344fee3e887_23\", \"run_number\": 232, \"metric\": null, \"status\": \"Completed\", \"run_type\": \"azureml.scriptrun\", \"training_percent\": \"100\", \"start_time\": \"2021-01-20T21:10:25.246802Z\", \"end_time\": \"2021-01-20T21:12:16.178892Z\", \"created_time\": \"2021-01-20T21:10:15.235846Z\", \"created_time_dt\": \"2021-01-20T21:10:15.235846Z\", \"duration\": \"0:02:00\", \"iteration\": \"23\", \"goal\": \"AUC_weighted_max\", \"run_name\": \"StandardScalerWrapper, XGBoostClassifier\", \"run_properties\": \"<azureml.automl.runtime.shared.model_wrappers.StandardScalerWrapper object at 0x7feaa1143588\", \"primary_metric\": 0.81328092, \"best_metric\": 0.83662103}, {\"run_id\": \"AutoML_14aceda5-4c46-4098-80d8-d344fee3e887_24\", \"run_number\": 233, \"metric\": null, \"status\": \"Completed\", \"run_type\": \"azureml.scriptrun\", \"training_percent\": \"100\", \"start_time\": \"2021-01-20T21:10:30.684463Z\", \"end_time\": \"2021-01-20T21:12:25.853923Z\", \"created_time\": \"2021-01-20T21:10:20.470Z\", \"created_time_dt\": \"2021-01-20T21:10:20.470Z\", \"duration\": \"0:02:05\", \"iteration\": \"24\", \"goal\": \"AUC_weighted_max\", \"run_name\": \"StandardScalerWrapper, XGBoostClassifier\", \"run_properties\": \"<azureml.automl.runtime.shared.model_wrappers.StandardScalerWrapper object at 0x7f9cf4037470\", \"primary_metric\": 0.81611286, \"best_metric\": 0.83662103}, {\"run_id\": \"AutoML_14aceda5-4c46-4098-80d8-d344fee3e887_25\", \"run_number\": 234, \"metric\": null, \"status\": \"Completed\", \"run_type\": \"azureml.scriptrun\", \"training_percent\": \"100\", \"start_time\": \"2021-01-20T21:10:37.122085Z\", \"end_time\": \"2021-01-20T21:12:33.224519Z\", \"created_time\": \"2021-01-20T21:10:25.269698Z\", \"created_time_dt\": \"2021-01-20T21:10:25.269698Z\", \"duration\": \"0:02:07\", \"iteration\": \"25\", \"goal\": \"AUC_weighted_max\", \"run_name\": \"StandardScalerWrapper, XGBoostClassifier\", \"run_properties\": \"<azureml.automl.runtime.shared.model_wrappers.StandardScalerWrapper object at 0x7effe95bd198\", \"primary_metric\": 0.78680683, \"best_metric\": 0.83662103}, {\"run_id\": \"AutoML_14aceda5-4c46-4098-80d8-d344fee3e887_26\", \"run_number\": 235, \"metric\": null, \"status\": \"Completed\", \"run_type\": \"azureml.scriptrun\", \"training_percent\": \"100\", \"start_time\": \"2021-01-20T21:11:33.474618Z\", \"end_time\": \"2021-01-20T21:13:25.8591Z\", \"created_time\": \"2021-01-20T21:11:20.879172Z\", \"created_time_dt\": \"2021-01-20T21:11:20.879172Z\", \"duration\": \"0:02:04\", \"iteration\": \"26\", \"goal\": \"AUC_weighted_max\", \"run_name\": \"MaxAbsScaler, LightGBM\", \"run_properties\": \"copy=True\", \"primary_metric\": 0.82737712, \"best_metric\": 0.83662103}, {\"run_id\": \"AutoML_14aceda5-4c46-4098-80d8-d344fee3e887_27\", \"run_number\": 236, \"metric\": null, \"status\": \"Completed\", \"run_type\": \"azureml.scriptrun\", \"training_percent\": \"100\", \"start_time\": \"2021-01-20T21:12:27.498384Z\", \"end_time\": \"2021-01-20T21:14:18.823335Z\", \"created_time\": \"2021-01-20T21:12:16.879987Z\", \"created_time_dt\": \"2021-01-20T21:12:16.879987Z\", \"duration\": \"0:02:01\", \"iteration\": \"27\", \"goal\": \"AUC_weighted_max\", \"run_name\": \"StandardScalerWrapper, XGBoostClassifier\", \"run_properties\": \"<azureml.automl.runtime.shared.model_wrappers.StandardScalerWrapper object at 0x7f89ed125978\", \"primary_metric\": 0.82168714, \"best_metric\": 0.83662103}, {\"run_id\": \"AutoML_14aceda5-4c46-4098-80d8-d344fee3e887_28\", \"run_number\": 237, \"metric\": null, \"status\": \"Completed\", \"run_type\": \"azureml.scriptrun\", \"training_percent\": \"100\", \"start_time\": \"2021-01-20T21:12:30.373953Z\", \"end_time\": \"2021-01-20T21:14:21.38859Z\", \"created_time\": \"2021-01-20T21:12:20.595579Z\", \"created_time_dt\": \"2021-01-20T21:12:20.595579Z\", \"duration\": \"0:02:00\", \"iteration\": \"28\", \"goal\": \"AUC_weighted_max\", \"run_name\": \"SparseNormalizer, XGBoostClassifier\", \"run_properties\": \"<azureml.automl.runtime.shared.model_wrappers.SparseNormalizer object at 0x7fee2a74a7b8\", \"primary_metric\": 0.74709214, \"best_metric\": 0.83662103}, {\"run_id\": \"AutoML_14aceda5-4c46-4098-80d8-d344fee3e887_29\", \"run_number\": 238, \"metric\": null, \"status\": \"Completed\", \"run_type\": \"azureml.scriptrun\", \"training_percent\": \"100\", \"start_time\": \"2021-01-20T21:12:39.226484Z\", \"end_time\": \"2021-01-20T21:14:36.153349Z\", \"created_time\": \"2021-01-20T21:12:27.897515Z\", \"created_time_dt\": \"2021-01-20T21:12:27.897515Z\", \"duration\": \"0:02:08\", \"iteration\": \"29\", \"goal\": \"AUC_weighted_max\", \"run_name\": \"MaxAbsScaler, LightGBM\", \"run_properties\": \"copy=True\", \"primary_metric\": 0.83066096, \"best_metric\": 0.83662103}, {\"run_id\": \"AutoML_14aceda5-4c46-4098-80d8-d344fee3e887_30\", \"run_number\": 239, \"metric\": null, \"status\": \"Completed\", \"run_type\": \"azureml.scriptrun\", \"training_percent\": \"100\", \"start_time\": \"2021-01-20T21:12:46.704553Z\", \"end_time\": \"2021-01-20T21:14:35.594566Z\", \"created_time\": \"2021-01-20T21:12:36.319257Z\", \"created_time_dt\": \"2021-01-20T21:12:36.319257Z\", \"duration\": \"0:01:59\", \"iteration\": \"30\", \"goal\": \"AUC_weighted_max\", \"run_name\": \"SparseNormalizer, XGBoostClassifier\", \"run_properties\": \"<azureml.automl.runtime.shared.model_wrappers.SparseNormalizer object at 0x7f849388ab38\", \"primary_metric\": 0.69760339, \"best_metric\": 0.83662103}, {\"run_id\": \"AutoML_14aceda5-4c46-4098-80d8-d344fee3e887_31\", \"run_number\": 240, \"metric\": null, \"status\": \"Completed\", \"run_type\": \"azureml.scriptrun\", \"training_percent\": \"100\", \"start_time\": \"2021-01-20T21:13:39.114716Z\", \"end_time\": \"2021-01-20T21:15:27.157826Z\", \"created_time\": \"2021-01-20T21:13:27.966182Z\", \"created_time_dt\": \"2021-01-20T21:13:27.966182Z\", \"duration\": \"0:01:59\", \"iteration\": \"31\", \"goal\": \"AUC_weighted_max\", \"run_name\": \"MaxAbsScaler, LightGBM\", \"run_properties\": \"copy=True\", \"primary_metric\": 0.82668533, \"best_metric\": 0.83662103}, {\"run_id\": \"AutoML_14aceda5-4c46-4098-80d8-d344fee3e887_32\", \"run_number\": 241, \"metric\": null, \"status\": \"Completed\", \"run_type\": \"azureml.scriptrun\", \"training_percent\": \"100\", \"start_time\": \"2021-01-20T21:14:32.367763Z\", \"end_time\": \"2021-01-20T21:16:27.67244Z\", \"created_time\": \"2021-01-20T21:14:21.793431Z\", \"created_time_dt\": \"2021-01-20T21:14:21.793431Z\", \"duration\": \"0:02:05\", \"iteration\": \"32\", \"goal\": \"AUC_weighted_max\", \"run_name\": \"SparseNormalizer, XGBoostClassifier\", \"run_properties\": \"<azureml.automl.runtime.shared.model_wrappers.SparseNormalizer object at 0x7f528fe42fd0\", \"primary_metric\": 0.74373012, \"best_metric\": 0.83662103}, {\"run_id\": \"AutoML_14aceda5-4c46-4098-80d8-d344fee3e887_33\", \"run_number\": 242, \"metric\": null, \"status\": \"Completed\", \"run_type\": \"azureml.scriptrun\", \"training_percent\": \"100\", \"start_time\": \"2021-01-20T21:14:36.451471Z\", \"end_time\": \"2021-01-20T21:16:32.687388Z\", \"created_time\": \"2021-01-20T21:14:25.859902Z\", \"created_time_dt\": \"2021-01-20T21:14:25.859902Z\", \"duration\": \"0:02:06\", \"iteration\": \"33\", \"goal\": \"AUC_weighted_max\", \"run_name\": \"StandardScalerWrapper, XGBoostClassifier\", \"run_properties\": \"<azureml.automl.runtime.shared.model_wrappers.StandardScalerWrapper object at 0x7fb8187db048\", \"primary_metric\": 0.81265617, \"best_metric\": 0.83662103}, {\"run_id\": \"AutoML_14aceda5-4c46-4098-80d8-d344fee3e887_34\", \"run_number\": 243, \"metric\": null, \"status\": \"Canceled\", \"run_type\": \"azureml.scriptrun\", \"training_percent\": \"100\", \"start_time\": \"2021-01-20T21:14:48.266924Z\", \"end_time\": \"2021-01-20T21:16:41.645734Z\", \"created_time\": \"2021-01-20T21:14:37.643186Z\", \"created_time_dt\": \"2021-01-20T21:14:37.643186Z\", \"duration\": \"0:02:04\", \"iteration\": \"34\", \"goal\": \"AUC_weighted_max\", \"run_name\": \"MaxAbsScaler, LogisticRegression\", \"run_properties\": \"copy=True\", \"primary_metric\": 0.81597639, \"best_metric\": 0.83662103}, {\"run_id\": \"AutoML_14aceda5-4c46-4098-80d8-d344fee3e887_35\", \"run_number\": 244, \"metric\": null, \"status\": \"Canceled\", \"run_type\": \"azureml.scriptrun\", \"training_percent\": \"100\", \"start_time\": \"2021-01-20T21:14:52.315814Z\", \"end_time\": \"2021-01-20T21:16:41.305858Z\", \"created_time\": \"2021-01-20T21:14:42.225232Z\", \"created_time_dt\": \"2021-01-20T21:14:42.225232Z\", \"duration\": \"0:01:59\", \"iteration\": \"35\", \"goal\": \"AUC_weighted_max\", \"run_name\": \"SparseNormalizer, XGBoostClassifier\", \"run_properties\": \"<azureml.automl.runtime.shared.model_wrappers.SparseNormalizer object at 0x7fcd29e12da0\", \"primary_metric\": 0.7415964, \"best_metric\": 0.83662103}, {\"run_id\": \"AutoML_14aceda5-4c46-4098-80d8-d344fee3e887_36\", \"run_number\": 245, \"metric\": null, \"status\": \"Canceled\", \"run_type\": \"azureml.scriptrun\", \"training_percent\": \"100\", \"start_time\": \"2021-01-20T21:15:40.185985Z\", \"end_time\": \"2021-01-20T21:16:57.326506Z\", \"created_time\": \"2021-01-20T21:15:29.480202Z\", \"created_time_dt\": \"2021-01-20T21:15:29.480202Z\", \"duration\": \"0:01:27\", \"iteration\": \"36\", \"goal\": null, \"run_name\": \"Canceled\", \"run_properties\": null}, {\"run_id\": \"AutoML_14aceda5-4c46-4098-80d8-d344fee3e887_37\", \"run_number\": 246, \"metric\": null, \"status\": \"Canceled\", \"run_type\": \"azureml.scriptrun\", \"training_percent\": \"100\", \"start_time\": \"2021-01-20T21:16:29.921181Z\", \"end_time\": \"2021-01-20T21:16:46.267563Z\", \"created_time\": \"2021-01-20T21:16:29.921181Z\", \"created_time_dt\": \"2021-01-20T21:16:29.921181Z\", \"duration\": \"0:00:16\", \"iteration\": \"37\", \"goal\": null, \"run_name\": \"Canceled\", \"run_properties\": null}, {\"run_id\": \"AutoML_14aceda5-4c46-4098-80d8-d344fee3e887_38\", \"run_number\": 247, \"metric\": null, \"status\": \"Completed\", \"run_type\": \"azureml.scriptrun\", \"training_percent\": \"100\", \"start_time\": \"2021-01-20T21:17:08.685031Z\", \"end_time\": \"2021-01-20T21:20:20.634544Z\", \"created_time\": \"2021-01-20T21:16:58.228568Z\", \"created_time_dt\": \"2021-01-20T21:16:58.228568Z\", \"duration\": \"0:03:22\", \"iteration\": \"38\", \"goal\": \"AUC_weighted_max\", \"run_name\": \"VotingEnsemble\", \"run_properties\": \"classification_labels=None,\\n                              estimators=[('1',\\n                                           Pipeline(memory=None,\\n                                                    steps=[('maxabsscaler',\\n                                                            MaxAbsScaler(copy=True\", \"primary_metric\": 0.84709967, \"best_metric\": 0.84709967}, {\"run_id\": \"AutoML_14aceda5-4c46-4098-80d8-d344fee3e887_39\", \"run_number\": 248, \"metric\": null, \"status\": \"Completed\", \"run_type\": \"azureml.scriptrun\", \"training_percent\": \"100\", \"start_time\": \"2021-01-20T21:17:09.273485Z\", \"end_time\": \"2021-01-20T21:20:21.35725Z\", \"created_time\": \"2021-01-20T21:16:58.353929Z\", \"created_time_dt\": \"2021-01-20T21:16:58.353929Z\", \"duration\": \"0:03:23\", \"iteration\": \"39\", \"goal\": \"AUC_weighted_max\", \"run_name\": \"StackEnsemble\", \"run_properties\": \"base_learners=[('1',\\n                                        Pipeline(memory=None,\\n                                                 steps=[('maxabsscaler',\\n                                                         MaxAbsScaler(copy=True\", \"primary_metric\": 0.84268691, \"best_metric\": 0.84709967}], \"children_metrics\": {\"categories\": [0], \"series\": {\"AUC_macro\": [{\"categories\": [\"0\", \"1\", \"2\", \"3\", \"4\", \"5\", \"6\", \"7\", \"8\", \"9\", \"10\", \"11\", \"12\", \"13\", \"14\", \"15\", \"16\", \"17\", \"18\", \"19\", \"20\", \"21\", \"22\", \"23\", \"24\", \"25\", \"26\", \"27\", \"28\", \"29\", \"30\", \"31\", \"32\", \"33\", \"34\", \"35\", \"38\", \"39\"], \"mode\": \"markers\", \"name\": \"AUC_macro\", \"stepped\": false, \"type\": \"scatter\", \"data\": [0.7981013916226355, 0.8366210317228242, 0.8225275090042217, 0.8223032251766395, 0.8146627692674265, 0.8203905095377758, 0.820505085225362, 0.7988322449023678, 0.8001080439821233, 0.7860469013600158, 0.807726331971725, 0.8110982900831336, 0.7874985196924333, 0.8208075252024681, 0.804676083655133, 0.8213551120608631, 0.8177679888200984, 0.8067805309326687, 0.8096174590915508, 0.8223062796119006, 0.8240266352875374, 0.8298472723094127, 0.8152208505797622, 0.8132809201585477, 0.8161128629984556, 0.7868068256935233, 0.8273771238627171, 0.8216871432462923, 0.7470921367223642, 0.8306609550711862, 0.6976033883636872, 0.8266853340828598, 0.7437301169367629, 0.8126561686834268, 0.815976390885988, 0.7415963968218494, 0.8470996737662964, 0.8426869110006889]}, {\"categories\": [\"0\", \"1\", \"2\", \"3\", \"4\", \"5\", \"6\", \"7\", \"8\", \"9\", \"10\", \"11\", \"12\", \"13\", \"14\", \"15\", \"16\", \"17\", \"18\", \"19\", \"20\", \"21\", \"22\", \"23\", \"24\", \"25\", \"26\", \"27\", \"28\", \"29\", \"30\", \"31\", \"32\", \"33\", \"34\", \"35\", \"38\", \"39\"], \"mode\": \"lines\", \"name\": \"AUC_macro_max\", \"stepped\": true, \"type\": \"scatter\", \"data\": [0.7981013916226355, 0.8366210317228242, 0.8366210317228242, 0.8366210317228242, 0.8366210317228242, 0.8366210317228242, 0.8366210317228242, 0.8366210317228242, 0.8366210317228242, 0.8366210317228242, 0.8366210317228242, 0.8366210317228242, 0.8366210317228242, 0.8366210317228242, 0.8366210317228242, 0.8366210317228242, 0.8366210317228242, 0.8366210317228242, 0.8366210317228242, 0.8366210317228242, 0.8366210317228242, 0.8366210317228242, 0.8366210317228242, 0.8366210317228242, 0.8366210317228242, 0.8366210317228242, 0.8366210317228242, 0.8366210317228242, 0.8366210317228242, 0.8366210317228242, 0.8366210317228242, 0.8366210317228242, 0.8366210317228242, 0.8366210317228242, 0.8366210317228242, 0.8366210317228242, 0.8470996737662964, 0.8470996737662964]}], \"average_precision_score_weighted\": [{\"categories\": [\"0\", \"1\", \"2\", \"3\", \"4\", \"5\", \"6\", \"7\", \"8\", \"9\", \"10\", \"11\", \"12\", \"13\", \"14\", \"15\", \"16\", \"17\", \"18\", \"19\", \"20\", \"21\", \"22\", \"23\", \"24\", \"25\", \"26\", \"27\", \"28\", \"29\", \"30\", \"31\", \"32\", \"33\", \"34\", \"35\", \"38\", \"39\"], \"mode\": \"markers\", \"name\": \"average_precision_score_weighted\", \"stepped\": false, \"type\": \"scatter\", \"data\": [0.8088900198552287, 0.8456601055549087, 0.835778701791301, 0.8381425478409751, 0.8281977342358603, 0.8330741648000558, 0.8355265026569221, 0.8156554762467525, 0.8218850049369291, 0.8098034949018953, 0.8221215103155899, 0.8260907552817194, 0.8065569371836718, 0.8362007182476587, 0.8186621175956859, 0.8373220328572721, 0.8368238213844815, 0.8257521876956794, 0.8235007173095938, 0.8351010416705931, 0.8353056656890262, 0.8366171171379992, 0.8266773135730267, 0.8253850658441383, 0.8271530854832049, 0.8036932228257159, 0.8374158802793283, 0.8353452465304411, 0.7717188579522611, 0.8441634095584301, 0.7294086558013467, 0.8337832962127993, 0.7680987263300717, 0.8166568935320472, 0.8306570209227155, 0.7697968021433994, 0.8576450605626029, 0.8535066804270957]}, {\"categories\": [\"0\", \"1\", \"2\", \"3\", \"4\", \"5\", \"6\", \"7\", \"8\", \"9\", \"10\", \"11\", \"12\", \"13\", \"14\", \"15\", \"16\", \"17\", \"18\", \"19\", \"20\", \"21\", \"22\", \"23\", \"24\", \"25\", \"26\", \"27\", \"28\", \"29\", \"30\", \"31\", \"32\", \"33\", \"34\", \"35\", \"38\", \"39\"], \"mode\": \"lines\", \"name\": \"average_precision_score_weighted_max\", \"stepped\": true, \"type\": \"scatter\", \"data\": [0.8088900198552287, 0.8456601055549087, 0.8456601055549087, 0.8456601055549087, 0.8456601055549087, 0.8456601055549087, 0.8456601055549087, 0.8456601055549087, 0.8456601055549087, 0.8456601055549087, 0.8456601055549087, 0.8456601055549087, 0.8456601055549087, 0.8456601055549087, 0.8456601055549087, 0.8456601055549087, 0.8456601055549087, 0.8456601055549087, 0.8456601055549087, 0.8456601055549087, 0.8456601055549087, 0.8456601055549087, 0.8456601055549087, 0.8456601055549087, 0.8456601055549087, 0.8456601055549087, 0.8456601055549087, 0.8456601055549087, 0.8456601055549087, 0.8456601055549087, 0.8456601055549087, 0.8456601055549087, 0.8456601055549087, 0.8456601055549087, 0.8456601055549087, 0.8456601055549087, 0.8576450605626029, 0.8576450605626029]}], \"accuracy\": [{\"categories\": [\"0\", \"1\", \"2\", \"3\", \"4\", \"5\", \"6\", \"7\", \"8\", \"9\", \"10\", \"11\", \"12\", \"13\", \"14\", \"15\", \"16\", \"17\", \"18\", \"19\", \"20\", \"21\", \"22\", \"23\", \"24\", \"25\", \"26\", \"27\", \"28\", \"29\", \"30\", \"31\", \"32\", \"33\", \"34\", \"35\", \"38\", \"39\"], \"mode\": \"markers\", \"name\": \"accuracy\", \"stepped\": false, \"type\": \"scatter\", \"data\": [0.7396103896103897, 0.7695659603554341, 0.7604408749145591, 0.7643711551606289, 0.7487354750512646, 0.7474538619275461, 0.7565276828434724, 0.7200786056049213, 0.6692071086807929, 0.7096889952153109, 0.7252221462747779, 0.7265892002734108, 0.7045283663704717, 0.7565618591934381, 0.7434381408065619, 0.7643882433356117, 0.7396445659603554, 0.7226589200273411, 0.7369788106630212, 0.7434894053315106, 0.7656356801093642, 0.7643882433356118, 0.7448906356801095, 0.746120984278879, 0.7591079972658921, 0.7395933014354067, 0.7603896103896104, 0.7486671223513329, 0.7109876965140123, 0.7525974025974026, 0.6927204374572796, 0.6496753246753247, 0.7004784688995215, 0.7512816131237183, 0.7708817498291183, 0.6966848940533151, 0.7825871496924128, 0.7722146274777854]}, {\"categories\": [\"0\", \"1\", \"2\", \"3\", \"4\", \"5\", \"6\", \"7\", \"8\", \"9\", \"10\", \"11\", \"12\", \"13\", \"14\", \"15\", \"16\", \"17\", \"18\", \"19\", \"20\", \"21\", \"22\", \"23\", \"24\", \"25\", \"26\", \"27\", \"28\", \"29\", \"30\", \"31\", \"32\", \"33\", \"34\", \"35\", \"38\", \"39\"], \"mode\": \"lines\", \"name\": \"accuracy_max\", \"stepped\": true, \"type\": \"scatter\", \"data\": [0.7396103896103897, 0.7695659603554341, 0.7695659603554341, 0.7695659603554341, 0.7695659603554341, 0.7695659603554341, 0.7695659603554341, 0.7695659603554341, 0.7695659603554341, 0.7695659603554341, 0.7695659603554341, 0.7695659603554341, 0.7695659603554341, 0.7695659603554341, 0.7695659603554341, 0.7695659603554341, 0.7695659603554341, 0.7695659603554341, 0.7695659603554341, 0.7695659603554341, 0.7695659603554341, 0.7695659603554341, 0.7695659603554341, 0.7695659603554341, 0.7695659603554341, 0.7695659603554341, 0.7695659603554341, 0.7695659603554341, 0.7695659603554341, 0.7695659603554341, 0.7695659603554341, 0.7695659603554341, 0.7695659603554341, 0.7695659603554341, 0.7708817498291183, 0.7708817498291183, 0.7825871496924128, 0.7825871496924128]}], \"norm_macro_recall\": [{\"categories\": [\"0\", \"1\", \"2\", \"3\", \"4\", \"5\", \"6\", \"7\", \"8\", \"9\", \"10\", \"11\", \"12\", \"13\", \"14\", \"15\", \"16\", \"17\", \"18\", \"19\", \"20\", \"21\", \"22\", \"23\", \"24\", \"25\", \"26\", \"27\", \"28\", \"29\", \"30\", \"31\", \"32\", \"33\", \"34\", \"35\", \"38\", \"39\"], \"mode\": \"markers\", \"name\": \"norm_macro_recall\", \"stepped\": false, \"type\": \"scatter\", \"data\": [0.41071764429576385, 0.4736393046669162, 0.39960424687858137, 0.5145226851222306, 0.3632050690475836, 0.3681273198002456, 0.36424314274574476, 0.2555841196691058, 0.06034039738963084, 0.40333252615680165, 0.44176338780383884, 0.4597702176155861, 0.4234841059624738, 0.41328434138196846, 0.37014642665250286, 0.4004589591542224, 0.4821932048898523, 0.43630022896877063, 0.49369994105684967, 0.3927047672194618, 0.4585824978388608, 0.4676302461313814, 0.41117035204416386, 0.41645293226964986, 0.44809444493724576, 0.40267729823628323, 0.44648621856860976, 0.4282613528944908, 0.3146602312316745, 0.35682102994359105, 0.2044238410869874, 0.007308916163387247, 0.28668631599989114, 0.39537999515140043, 0.4352408422038204, 0.25966380451982246, 0.47089821319691333, 0.46171245930803273]}, {\"categories\": [\"0\", \"1\", \"2\", \"3\", \"4\", \"5\", \"6\", \"7\", \"8\", \"9\", \"10\", \"11\", \"12\", \"13\", \"14\", \"15\", \"16\", \"17\", \"18\", \"19\", \"20\", \"21\", \"22\", \"23\", \"24\", \"25\", \"26\", \"27\", \"28\", \"29\", \"30\", \"31\", \"32\", \"33\", \"34\", \"35\", \"38\", \"39\"], \"mode\": \"lines\", \"name\": \"norm_macro_recall_max\", \"stepped\": true, \"type\": \"scatter\", \"data\": [0.41071764429576385, 0.4736393046669162, 0.4736393046669162, 0.5145226851222306, 0.5145226851222306, 0.5145226851222306, 0.5145226851222306, 0.5145226851222306, 0.5145226851222306, 0.5145226851222306, 0.5145226851222306, 0.5145226851222306, 0.5145226851222306, 0.5145226851222306, 0.5145226851222306, 0.5145226851222306, 0.5145226851222306, 0.5145226851222306, 0.5145226851222306, 0.5145226851222306, 0.5145226851222306, 0.5145226851222306, 0.5145226851222306, 0.5145226851222306, 0.5145226851222306, 0.5145226851222306, 0.5145226851222306, 0.5145226851222306, 0.5145226851222306, 0.5145226851222306, 0.5145226851222306, 0.5145226851222306, 0.5145226851222306, 0.5145226851222306, 0.5145226851222306, 0.5145226851222306, 0.5145226851222306, 0.5145226851222306]}], \"balanced_accuracy\": [{\"categories\": [\"0\", \"1\", \"2\", \"3\", \"4\", \"5\", \"6\", \"7\", \"8\", \"9\", \"10\", \"11\", \"12\", \"13\", \"14\", \"15\", \"16\", \"17\", \"18\", \"19\", \"20\", \"21\", \"22\", \"23\", \"24\", \"25\", \"26\", \"27\", \"28\", \"29\", \"30\", \"31\", \"32\", \"33\", \"34\", \"35\", \"38\", \"39\"], \"mode\": \"markers\", \"name\": \"balanced_accuracy\", \"stepped\": false, \"type\": \"scatter\", \"data\": [0.7053588221478819, 0.7368196523334581, 0.6998021234392907, 0.7572613425611153, 0.6816025345237917, 0.6840636599001229, 0.6821215713728724, 0.627792059834553, 0.5301701986948155, 0.7016662630784009, 0.7208816939019195, 0.7298851088077931, 0.7117420529812368, 0.7066421706909842, 0.6850732133262515, 0.7002294795771112, 0.741096602444926, 0.7181501144843854, 0.746849970528425, 0.696352383609731, 0.7292912489194303, 0.7338151230656906, 0.705585176022082, 0.708226466134825, 0.724047222468623, 0.7013386491181416, 0.7232431092843049, 0.7141306764472454, 0.6573301156158373, 0.6784105149717956, 0.6022119205434937, 0.5016512529534884, 0.6433431579999457, 0.6976899975757002, 0.7176204211019102, 0.6298319022599113, 0.7354491065984565, 0.7308562296540164]}, {\"categories\": [\"0\", \"1\", \"2\", \"3\", \"4\", \"5\", \"6\", \"7\", \"8\", \"9\", \"10\", \"11\", \"12\", \"13\", \"14\", \"15\", \"16\", \"17\", \"18\", \"19\", \"20\", \"21\", \"22\", \"23\", \"24\", \"25\", \"26\", \"27\", \"28\", \"29\", \"30\", \"31\", \"32\", \"33\", \"34\", \"35\", \"38\", \"39\"], \"mode\": \"lines\", \"name\": \"balanced_accuracy_max\", \"stepped\": true, \"type\": \"scatter\", \"data\": [0.7053588221478819, 0.7368196523334581, 0.7368196523334581, 0.7572613425611153, 0.7572613425611153, 0.7572613425611153, 0.7572613425611153, 0.7572613425611153, 0.7572613425611153, 0.7572613425611153, 0.7572613425611153, 0.7572613425611153, 0.7572613425611153, 0.7572613425611153, 0.7572613425611153, 0.7572613425611153, 0.7572613425611153, 0.7572613425611153, 0.7572613425611153, 0.7572613425611153, 0.7572613425611153, 0.7572613425611153, 0.7572613425611153, 0.7572613425611153, 0.7572613425611153, 0.7572613425611153, 0.7572613425611153, 0.7572613425611153, 0.7572613425611153, 0.7572613425611153, 0.7572613425611153, 0.7572613425611153, 0.7572613425611153, 0.7572613425611153, 0.7572613425611153, 0.7572613425611153, 0.7572613425611153, 0.7572613425611153]}], \"f1_score_weighted\": [{\"categories\": [\"0\", \"1\", \"2\", \"3\", \"4\", \"5\", \"6\", \"7\", \"8\", \"9\", \"10\", \"11\", \"12\", \"13\", \"14\", \"15\", \"16\", \"17\", \"18\", \"19\", \"20\", \"21\", \"22\", \"23\", \"24\", \"25\", \"26\", \"27\", \"28\", \"29\", \"30\", \"31\", \"32\", \"33\", \"34\", \"35\", \"38\", \"39\"], \"mode\": \"markers\", \"name\": \"f1_score_weighted\", \"stepped\": false, \"type\": \"scatter\", \"data\": [0.7376523503026942, 0.7674902736086928, 0.7471704755448619, 0.7684479167406117, 0.732047687370691, 0.731763320916589, 0.7364645659727801, 0.6851620407816813, 0.5542960921218997, 0.7146021516051482, 0.7304661033995734, 0.7319746344648206, 0.7111130806269099, 0.7489865561083529, 0.7326477008051103, 0.749852971243365, 0.7456752780220968, 0.7285765516018783, 0.7432904643059723, 0.7379882064803635, 0.762640417488469, 0.7629439253604393, 0.7423193533904254, 0.7428570411811651, 0.7569847044829338, 0.737350710928568, 0.7573182390161486, 0.7465194187634643, 0.7013629169642851, 0.7328479967253541, 0.658384278943032, 0.5185492191487663, 0.689203402801496, 0.7420865564870891, 0.7624539450656646, 0.6819812335642677, 0.7765213036437363, 0.7683732496194542]}, {\"categories\": [\"0\", \"1\", \"2\", \"3\", \"4\", \"5\", \"6\", \"7\", \"8\", \"9\", \"10\", \"11\", \"12\", \"13\", \"14\", \"15\", \"16\", \"17\", \"18\", \"19\", \"20\", \"21\", \"22\", \"23\", \"24\", \"25\", \"26\", \"27\", \"28\", \"29\", \"30\", \"31\", \"32\", \"33\", \"34\", \"35\", \"38\", \"39\"], \"mode\": \"lines\", \"name\": \"f1_score_weighted_max\", \"stepped\": true, \"type\": \"scatter\", \"data\": [0.7376523503026942, 0.7674902736086928, 0.7674902736086928, 0.7684479167406117, 0.7684479167406117, 0.7684479167406117, 0.7684479167406117, 0.7684479167406117, 0.7684479167406117, 0.7684479167406117, 0.7684479167406117, 0.7684479167406117, 0.7684479167406117, 0.7684479167406117, 0.7684479167406117, 0.7684479167406117, 0.7684479167406117, 0.7684479167406117, 0.7684479167406117, 0.7684479167406117, 0.7684479167406117, 0.7684479167406117, 0.7684479167406117, 0.7684479167406117, 0.7684479167406117, 0.7684479167406117, 0.7684479167406117, 0.7684479167406117, 0.7684479167406117, 0.7684479167406117, 0.7684479167406117, 0.7684479167406117, 0.7684479167406117, 0.7684479167406117, 0.7684479167406117, 0.7684479167406117, 0.7765213036437363, 0.7765213036437363]}], \"recall_score_micro\": [{\"categories\": [\"0\", \"1\", \"2\", \"3\", \"4\", \"5\", \"6\", \"7\", \"8\", \"9\", \"10\", \"11\", \"12\", \"13\", \"14\", \"15\", \"16\", \"17\", \"18\", \"19\", \"20\", \"21\", \"22\", \"23\", \"24\", \"25\", \"26\", \"27\", \"28\", \"29\", \"30\", \"31\", \"32\", \"33\", \"34\", \"35\", \"38\", \"39\"], \"mode\": \"markers\", \"name\": \"recall_score_micro\", \"stepped\": false, \"type\": \"scatter\", \"data\": [0.7396103896103897, 0.7695659603554341, 0.7604408749145591, 0.7643711551606289, 0.7487354750512646, 0.7474538619275461, 0.7565276828434724, 0.7200786056049213, 0.6692071086807929, 0.7096889952153109, 0.7252221462747779, 0.7265892002734108, 0.7045283663704717, 0.7565618591934381, 0.7434381408065619, 0.7643882433356117, 0.7396445659603554, 0.7226589200273411, 0.7369788106630212, 0.7434894053315106, 0.7656356801093642, 0.7643882433356118, 0.7448906356801095, 0.746120984278879, 0.7591079972658921, 0.7395933014354067, 0.7603896103896104, 0.7486671223513329, 0.7109876965140123, 0.7525974025974026, 0.6927204374572796, 0.6496753246753247, 0.7004784688995215, 0.7512816131237183, 0.7708817498291183, 0.6966848940533151, 0.7825871496924128, 0.7722146274777854]}, {\"categories\": [\"0\", \"1\", \"2\", \"3\", \"4\", \"5\", \"6\", \"7\", \"8\", \"9\", \"10\", \"11\", \"12\", \"13\", \"14\", \"15\", \"16\", \"17\", \"18\", \"19\", \"20\", \"21\", \"22\", \"23\", \"24\", \"25\", \"26\", \"27\", \"28\", \"29\", \"30\", \"31\", \"32\", \"33\", \"34\", \"35\", \"38\", \"39\"], \"mode\": \"lines\", \"name\": \"recall_score_micro_max\", \"stepped\": true, \"type\": \"scatter\", \"data\": [0.7396103896103897, 0.7695659603554341, 0.7695659603554341, 0.7695659603554341, 0.7695659603554341, 0.7695659603554341, 0.7695659603554341, 0.7695659603554341, 0.7695659603554341, 0.7695659603554341, 0.7695659603554341, 0.7695659603554341, 0.7695659603554341, 0.7695659603554341, 0.7695659603554341, 0.7695659603554341, 0.7695659603554341, 0.7695659603554341, 0.7695659603554341, 0.7695659603554341, 0.7695659603554341, 0.7695659603554341, 0.7695659603554341, 0.7695659603554341, 0.7695659603554341, 0.7695659603554341, 0.7695659603554341, 0.7695659603554341, 0.7695659603554341, 0.7695659603554341, 0.7695659603554341, 0.7695659603554341, 0.7695659603554341, 0.7695659603554341, 0.7708817498291183, 0.7708817498291183, 0.7825871496924128, 0.7825871496924128]}], \"f1_score_micro\": [{\"categories\": [\"0\", \"1\", \"2\", \"3\", \"4\", \"5\", \"6\", \"7\", \"8\", \"9\", \"10\", \"11\", \"12\", \"13\", \"14\", \"15\", \"16\", \"17\", \"18\", \"19\", \"20\", \"21\", \"22\", \"23\", \"24\", \"25\", \"26\", \"27\", \"28\", \"29\", \"30\", \"31\", \"32\", \"33\", \"34\", \"35\", \"38\", \"39\"], \"mode\": \"markers\", \"name\": \"f1_score_micro\", \"stepped\": false, \"type\": \"scatter\", \"data\": [0.7396103896103897, 0.7695659603554341, 0.7604408749145591, 0.7643711551606288, 0.7487354750512645, 0.7474538619275461, 0.7565276828434724, 0.7200786056049213, 0.6692071086807929, 0.7096889952153109, 0.7252221462747779, 0.7265892002734108, 0.7045283663704717, 0.7565618591934381, 0.7434381408065619, 0.7643882433356117, 0.7396445659603554, 0.7226589200273411, 0.7369788106630212, 0.7434894053315106, 0.7656356801093642, 0.7643882433356118, 0.7448906356801095, 0.746120984278879, 0.7591079972658921, 0.7395933014354067, 0.7603896103896104, 0.7486671223513329, 0.7109876965140123, 0.7525974025974026, 0.6927204374572796, 0.6496753246753247, 0.7004784688995215, 0.7512816131237183, 0.7708817498291183, 0.6966848940533151, 0.7825871496924128, 0.7722146274777854]}, {\"categories\": [\"0\", \"1\", \"2\", \"3\", \"4\", \"5\", \"6\", \"7\", \"8\", \"9\", \"10\", \"11\", \"12\", \"13\", \"14\", \"15\", \"16\", \"17\", \"18\", \"19\", \"20\", \"21\", \"22\", \"23\", \"24\", \"25\", \"26\", \"27\", \"28\", \"29\", \"30\", \"31\", \"32\", \"33\", \"34\", \"35\", \"38\", \"39\"], \"mode\": \"lines\", \"name\": \"f1_score_micro_max\", \"stepped\": true, \"type\": \"scatter\", \"data\": [0.7396103896103897, 0.7695659603554341, 0.7695659603554341, 0.7695659603554341, 0.7695659603554341, 0.7695659603554341, 0.7695659603554341, 0.7695659603554341, 0.7695659603554341, 0.7695659603554341, 0.7695659603554341, 0.7695659603554341, 0.7695659603554341, 0.7695659603554341, 0.7695659603554341, 0.7695659603554341, 0.7695659603554341, 0.7695659603554341, 0.7695659603554341, 0.7695659603554341, 0.7695659603554341, 0.7695659603554341, 0.7695659603554341, 0.7695659603554341, 0.7695659603554341, 0.7695659603554341, 0.7695659603554341, 0.7695659603554341, 0.7695659603554341, 0.7695659603554341, 0.7695659603554341, 0.7695659603554341, 0.7695659603554341, 0.7695659603554341, 0.7708817498291183, 0.7708817498291183, 0.7825871496924128, 0.7825871496924128]}], \"log_loss\": [{\"categories\": [\"0\", \"1\", \"2\", \"3\", \"4\", \"5\", \"6\", \"7\", \"8\", \"9\", \"10\", \"11\", \"12\", \"13\", \"14\", \"15\", \"16\", \"17\", \"18\", \"19\", \"20\", \"21\", \"22\", \"23\", \"24\", \"25\", \"26\", \"27\", \"28\", \"29\", \"30\", \"31\", \"32\", \"33\", \"34\", \"35\", \"38\", \"39\"], \"mode\": \"markers\", \"name\": \"log_loss\", \"stepped\": false, \"type\": \"scatter\", \"data\": [0.6480770950597856, 0.4752990014529053, 0.4998051452143919, 0.5079873837039456, 0.5166477205828877, 0.5050980591949271, 0.5152134049075116, 0.5431092987528218, 0.5834464055346796, 0.6329733392726234, 0.5692777232303647, 0.5746033261007409, 0.6521321284461147, 0.5399900419024505, 0.506933243640866, 0.5002139545141595, 0.5524143135216726, 0.5683186226565156, 0.5845603974544687, 0.48532808858878324, 0.4925117186247898, 0.4953372290721231, 0.5201432773723467, 0.5490501417451764, 0.5243508876759967, 0.665186068910875, 0.4848309433122081, 0.49864955203801065, 0.5747919430310239, 0.50759487955028, 0.6113593666565962, 0.579826659075947, 0.5671936386437799, 0.5468321409541537, 0.49398367155605705, 0.5554270990515195, 0.4905791336310693, 0.47220870806021986]}, {\"categories\": [\"0\", \"1\", \"2\", \"3\", \"4\", \"5\", \"6\", \"7\", \"8\", \"9\", \"10\", \"11\", \"12\", \"13\", \"14\", \"15\", \"16\", \"17\", \"18\", \"19\", \"20\", \"21\", \"22\", \"23\", \"24\", \"25\", \"26\", \"27\", \"28\", \"29\", \"30\", \"31\", \"32\", \"33\", \"34\", \"35\", \"38\", \"39\"], \"mode\": \"lines\", \"name\": \"log_loss_min\", \"stepped\": true, \"type\": \"scatter\", \"data\": [0.6480770950597856, 0.4752990014529053, 0.4752990014529053, 0.4752990014529053, 0.4752990014529053, 0.4752990014529053, 0.4752990014529053, 0.4752990014529053, 0.4752990014529053, 0.4752990014529053, 0.4752990014529053, 0.4752990014529053, 0.4752990014529053, 0.4752990014529053, 0.4752990014529053, 0.4752990014529053, 0.4752990014529053, 0.4752990014529053, 0.4752990014529053, 0.4752990014529053, 0.4752990014529053, 0.4752990014529053, 0.4752990014529053, 0.4752990014529053, 0.4752990014529053, 0.4752990014529053, 0.4752990014529053, 0.4752990014529053, 0.4752990014529053, 0.4752990014529053, 0.4752990014529053, 0.4752990014529053, 0.4752990014529053, 0.4752990014529053, 0.4752990014529053, 0.4752990014529053, 0.4752990014529053, 0.47220870806021986]}], \"AUC_micro\": [{\"categories\": [\"0\", \"1\", \"2\", \"3\", \"4\", \"5\", \"6\", \"7\", \"8\", \"9\", \"10\", \"11\", \"12\", \"13\", \"14\", \"15\", \"16\", \"17\", \"18\", \"19\", \"20\", \"21\", \"22\", \"23\", \"24\", \"25\", \"26\", \"27\", \"28\", \"29\", \"30\", \"31\", \"32\", \"33\", \"34\", \"35\", \"38\", \"39\"], \"mode\": \"markers\", \"name\": \"AUC_micro\", \"stepped\": false, \"type\": \"scatter\", \"data\": [0.8242456616125537, 0.8556880349836874, 0.8409689374822753, 0.8318999229805704, 0.827940047954348, 0.8380290734915332, 0.8332981485902664, 0.8071561346431387, 0.786965343359019, 0.7883083798868327, 0.8064514401488715, 0.8044429050551564, 0.7823969254834096, 0.844475000572331, 0.8282122498503762, 0.8391301803567515, 0.8199015420939098, 0.8119939540798807, 0.8040086253818851, 0.8443936798981857, 0.8451741060770364, 0.8497669735919369, 0.8381858893256255, 0.835504605163876, 0.8393107946573698, 0.8122127685693448, 0.8486626313032939, 0.8446213188006366, 0.790671780777053, 0.84126717168862, 0.7534833800853964, 0.7974486642256545, 0.7841533691153254, 0.8338311699991918, 0.8424064787426839, 0.7857048393291064, 0.8620310826077185, 0.8586768216134695]}, {\"categories\": [\"0\", \"1\", \"2\", \"3\", \"4\", \"5\", \"6\", \"7\", \"8\", \"9\", \"10\", \"11\", \"12\", \"13\", \"14\", \"15\", \"16\", \"17\", \"18\", \"19\", \"20\", \"21\", \"22\", \"23\", \"24\", \"25\", \"26\", \"27\", \"28\", \"29\", \"30\", \"31\", \"32\", \"33\", \"34\", \"35\", \"38\", \"39\"], \"mode\": \"lines\", \"name\": \"AUC_micro_max\", \"stepped\": true, \"type\": \"scatter\", \"data\": [0.8242456616125537, 0.8556880349836874, 0.8556880349836874, 0.8556880349836874, 0.8556880349836874, 0.8556880349836874, 0.8556880349836874, 0.8556880349836874, 0.8556880349836874, 0.8556880349836874, 0.8556880349836874, 0.8556880349836874, 0.8556880349836874, 0.8556880349836874, 0.8556880349836874, 0.8556880349836874, 0.8556880349836874, 0.8556880349836874, 0.8556880349836874, 0.8556880349836874, 0.8556880349836874, 0.8556880349836874, 0.8556880349836874, 0.8556880349836874, 0.8556880349836874, 0.8556880349836874, 0.8556880349836874, 0.8556880349836874, 0.8556880349836874, 0.8556880349836874, 0.8556880349836874, 0.8556880349836874, 0.8556880349836874, 0.8556880349836874, 0.8556880349836874, 0.8556880349836874, 0.8620310826077185, 0.8620310826077185]}], \"precision_score_macro\": [{\"categories\": [\"0\", \"1\", \"2\", \"3\", \"4\", \"5\", \"6\", \"7\", \"8\", \"9\", \"10\", \"11\", \"12\", \"13\", \"14\", \"15\", \"16\", \"17\", \"18\", \"19\", \"20\", \"21\", \"22\", \"23\", \"24\", \"25\", \"26\", \"27\", \"28\", \"29\", \"30\", \"31\", \"32\", \"33\", \"34\", \"35\", \"38\", \"39\"], \"mode\": \"markers\", \"name\": \"precision_score_macro\", \"stepped\": false, \"type\": \"scatter\", \"data\": [0.7112261247846459, 0.7448891884111544, 0.748290170485127, 0.7426226006653726, 0.7373242563507443, 0.736709311278674, 0.7539011877936153, 0.7206180462913343, 0.569604281865457, 0.6904003514085295, 0.7042752724885547, 0.7127786706670335, 0.6961690482054014, 0.7365605949242839, 0.7227539348366084, 0.7519899576025407, 0.723690800468605, 0.7031896000023032, 0.72428789138096, 0.7174121073576392, 0.7396391393586124, 0.7403965681149594, 0.718134752697632, 0.7211120271690014, 0.7322794801213324, 0.7107737856506116, 0.7366524670461636, 0.7241168729080172, 0.6811579304315372, 0.7495661068820864, 0.6737417466371973, 0.40079505582137165, 0.6668354311884258, 0.7295088530078773, 0.7554699359819149, 0.6605547426855665, 0.7642348738570608, 0.7506048226265218]}, {\"categories\": [\"0\", \"1\", \"2\", \"3\", \"4\", \"5\", \"6\", \"7\", \"8\", \"9\", \"10\", \"11\", \"12\", \"13\", \"14\", \"15\", \"16\", \"17\", \"18\", \"19\", \"20\", \"21\", \"22\", \"23\", \"24\", \"25\", \"26\", \"27\", \"28\", \"29\", \"30\", \"31\", \"32\", \"33\", \"34\", \"35\", \"38\", \"39\"], \"mode\": \"lines\", \"name\": \"precision_score_macro_max\", \"stepped\": true, \"type\": \"scatter\", \"data\": [0.7112261247846459, 0.7448891884111544, 0.748290170485127, 0.748290170485127, 0.748290170485127, 0.748290170485127, 0.7539011877936153, 0.7539011877936153, 0.7539011877936153, 0.7539011877936153, 0.7539011877936153, 0.7539011877936153, 0.7539011877936153, 0.7539011877936153, 0.7539011877936153, 0.7539011877936153, 0.7539011877936153, 0.7539011877936153, 0.7539011877936153, 0.7539011877936153, 0.7539011877936153, 0.7539011877936153, 0.7539011877936153, 0.7539011877936153, 0.7539011877936153, 0.7539011877936153, 0.7539011877936153, 0.7539011877936153, 0.7539011877936153, 0.7539011877936153, 0.7539011877936153, 0.7539011877936153, 0.7539011877936153, 0.7539011877936153, 0.7554699359819149, 0.7554699359819149, 0.7642348738570608, 0.7642348738570608]}], \"matthews_correlation\": [{\"categories\": [\"0\", \"1\", \"2\", \"3\", \"4\", \"5\", \"6\", \"7\", \"8\", \"9\", \"10\", \"11\", \"12\", \"13\", \"14\", \"15\", \"16\", \"17\", \"18\", \"19\", \"20\", \"21\", \"22\", \"23\", \"24\", \"25\", \"26\", \"27\", \"28\", \"29\", \"30\", \"31\", \"32\", \"33\", \"34\", \"35\", \"38\", \"39\"], \"mode\": \"markers\", \"name\": \"matthews_correlation\", \"stepped\": false, \"type\": \"scatter\", \"data\": [0.4163237794803841, 0.4814237328189323, 0.4448255793113659, 0.49934756923459434, 0.4148818092234044, 0.4155882200126606, 0.42972242307752867, 0.3347987289599512, 0.1332785087724885, 0.3916591123747311, 0.42457690714806795, 0.4420233017191424, 0.40710874962734944, 0.4416434332541396, 0.4052229719769489, 0.4485360940080746, 0.46416987195691056, 0.42084461366175807, 0.4701956587729817, 0.41265260783877833, 0.46857938586539943, 0.47375087351202155, 0.423054777853055, 0.42862188295384407, 0.456012284881378, 0.411715829806106, 0.45939284641569644, 0.4376641878769762, 0.33689052739390735, 0.42178895576443826, 0.2635645258218803, 0.008199831605176174, 0.3086151888975319, 0.42576120012511315, 0.47116535788600367, 0.28844716264505765, 0.49836616285209867, 0.4807360512693437]}, {\"categories\": [\"0\", \"1\", \"2\", \"3\", \"4\", \"5\", \"6\", \"7\", \"8\", \"9\", \"10\", \"11\", \"12\", \"13\", \"14\", \"15\", \"16\", \"17\", \"18\", \"19\", \"20\", \"21\", \"22\", \"23\", \"24\", \"25\", \"26\", \"27\", \"28\", \"29\", \"30\", \"31\", \"32\", \"33\", \"34\", \"35\", \"38\", \"39\"], \"mode\": \"lines\", \"name\": \"matthews_correlation_max\", \"stepped\": true, \"type\": \"scatter\", \"data\": [0.4163237794803841, 0.4814237328189323, 0.4814237328189323, 0.49934756923459434, 0.49934756923459434, 0.49934756923459434, 0.49934756923459434, 0.49934756923459434, 0.49934756923459434, 0.49934756923459434, 0.49934756923459434, 0.49934756923459434, 0.49934756923459434, 0.49934756923459434, 0.49934756923459434, 0.49934756923459434, 0.49934756923459434, 0.49934756923459434, 0.49934756923459434, 0.49934756923459434, 0.49934756923459434, 0.49934756923459434, 0.49934756923459434, 0.49934756923459434, 0.49934756923459434, 0.49934756923459434, 0.49934756923459434, 0.49934756923459434, 0.49934756923459434, 0.49934756923459434, 0.49934756923459434, 0.49934756923459434, 0.49934756923459434, 0.49934756923459434, 0.49934756923459434, 0.49934756923459434, 0.49934756923459434, 0.49934756923459434]}], \"precision_score_weighted\": [{\"categories\": [\"0\", \"1\", \"2\", \"3\", \"4\", \"5\", \"6\", \"7\", \"8\", \"9\", \"10\", \"11\", \"12\", \"13\", \"14\", \"15\", \"16\", \"17\", \"18\", \"19\", \"20\", \"21\", \"22\", \"23\", \"24\", \"25\", \"26\", \"27\", \"28\", \"29\", \"30\", \"31\", \"32\", \"33\", \"34\", \"35\", \"38\", \"39\"], \"mode\": \"markers\", \"name\": \"precision_score_weighted\", \"stepped\": false, \"type\": \"scatter\", \"data\": [0.7396148182527014, 0.7692657656068833, 0.7604722250146329, 0.7796146301803304, 0.7489274339259845, 0.75122452807116, 0.7604837217525712, 0.7266757662675458, 0.5964654939294276, 0.7346427201377608, 0.7465301273835897, 0.756447676348502, 0.7425357974129656, 0.7552237707775337, 0.7422847885945287, 0.764790727521364, 0.7670719046158707, 0.7464268877350895, 0.7697989700688346, 0.7433837940645757, 0.7631865534306315, 0.766965482354679, 0.7462686320677201, 0.7470513241044096, 0.7589928420361292, 0.7394720645437738, 0.7604086378632331, 0.7507538301589359, 0.7080242707017188, 0.7554782013734315, 0.6930085253837974, 0.4771784952345445, 0.6926265137790694, 0.7473999212892053, 0.7708105815911883, 0.6872066746874363, 0.7805283065153878, 0.7715106145005046]}, {\"categories\": [\"0\", \"1\", \"2\", \"3\", \"4\", \"5\", \"6\", \"7\", \"8\", \"9\", \"10\", \"11\", \"12\", \"13\", \"14\", \"15\", \"16\", \"17\", \"18\", \"19\", \"20\", \"21\", \"22\", \"23\", \"24\", \"25\", \"26\", \"27\", \"28\", \"29\", \"30\", \"31\", \"32\", \"33\", \"34\", \"35\", \"38\", \"39\"], \"mode\": \"lines\", \"name\": \"precision_score_weighted_max\", \"stepped\": true, \"type\": \"scatter\", \"data\": [0.7396148182527014, 0.7692657656068833, 0.7692657656068833, 0.7796146301803304, 0.7796146301803304, 0.7796146301803304, 0.7796146301803304, 0.7796146301803304, 0.7796146301803304, 0.7796146301803304, 0.7796146301803304, 0.7796146301803304, 0.7796146301803304, 0.7796146301803304, 0.7796146301803304, 0.7796146301803304, 0.7796146301803304, 0.7796146301803304, 0.7796146301803304, 0.7796146301803304, 0.7796146301803304, 0.7796146301803304, 0.7796146301803304, 0.7796146301803304, 0.7796146301803304, 0.7796146301803304, 0.7796146301803304, 0.7796146301803304, 0.7796146301803304, 0.7796146301803304, 0.7796146301803304, 0.7796146301803304, 0.7796146301803304, 0.7796146301803304, 0.7796146301803304, 0.7796146301803304, 0.7805283065153878, 0.7805283065153878]}], \"recall_score_macro\": [{\"categories\": [\"0\", \"1\", \"2\", \"3\", \"4\", \"5\", \"6\", \"7\", \"8\", \"9\", \"10\", \"11\", \"12\", \"13\", \"14\", \"15\", \"16\", \"17\", \"18\", \"19\", \"20\", \"21\", \"22\", \"23\", \"24\", \"25\", \"26\", \"27\", \"28\", \"29\", \"30\", \"31\", \"32\", \"33\", \"34\", \"35\", \"38\", \"39\"], \"mode\": \"markers\", \"name\": \"recall_score_macro\", \"stepped\": false, \"type\": \"scatter\", \"data\": [0.7053588221478819, 0.7368196523334581, 0.6998021234392907, 0.7572613425611153, 0.6816025345237917, 0.6840636599001229, 0.6821215713728724, 0.627792059834553, 0.5301701986948155, 0.7016662630784009, 0.7208816939019195, 0.7298851088077931, 0.7117420529812368, 0.7066421706909842, 0.6850732133262515, 0.7002294795771112, 0.741096602444926, 0.7181501144843854, 0.746849970528425, 0.696352383609731, 0.7292912489194303, 0.7338151230656906, 0.705585176022082, 0.708226466134825, 0.724047222468623, 0.7013386491181416, 0.7232431092843049, 0.7141306764472454, 0.6573301156158373, 0.6784105149717956, 0.6022119205434937, 0.5016512529534884, 0.6433431579999457, 0.6976899975757002, 0.7176204211019102, 0.6298319022599113, 0.7354491065984565, 0.7308562296540164]}, {\"categories\": [\"0\", \"1\", \"2\", \"3\", \"4\", \"5\", \"6\", \"7\", \"8\", \"9\", \"10\", \"11\", \"12\", \"13\", \"14\", \"15\", \"16\", \"17\", \"18\", \"19\", \"20\", \"21\", \"22\", \"23\", \"24\", \"25\", \"26\", \"27\", \"28\", \"29\", \"30\", \"31\", \"32\", \"33\", \"34\", \"35\", \"38\", \"39\"], \"mode\": \"lines\", \"name\": \"recall_score_macro_max\", \"stepped\": true, \"type\": \"scatter\", \"data\": [0.7053588221478819, 0.7368196523334581, 0.7368196523334581, 0.7572613425611153, 0.7572613425611153, 0.7572613425611153, 0.7572613425611153, 0.7572613425611153, 0.7572613425611153, 0.7572613425611153, 0.7572613425611153, 0.7572613425611153, 0.7572613425611153, 0.7572613425611153, 0.7572613425611153, 0.7572613425611153, 0.7572613425611153, 0.7572613425611153, 0.7572613425611153, 0.7572613425611153, 0.7572613425611153, 0.7572613425611153, 0.7572613425611153, 0.7572613425611153, 0.7572613425611153, 0.7572613425611153, 0.7572613425611153, 0.7572613425611153, 0.7572613425611153, 0.7572613425611153, 0.7572613425611153, 0.7572613425611153, 0.7572613425611153, 0.7572613425611153, 0.7572613425611153, 0.7572613425611153, 0.7572613425611153, 0.7572613425611153]}], \"f1_score_macro\": [{\"categories\": [\"0\", \"1\", \"2\", \"3\", \"4\", \"5\", \"6\", \"7\", \"8\", \"9\", \"10\", \"11\", \"12\", \"13\", \"14\", \"15\", \"16\", \"17\", \"18\", \"19\", \"20\", \"21\", \"22\", \"23\", \"24\", \"25\", \"26\", \"27\", \"28\", \"29\", \"30\", \"31\", \"32\", \"33\", \"34\", \"35\", \"38\", \"39\"], \"mode\": \"markers\", \"name\": \"f1_score_macro\", \"stepped\": false, \"type\": \"scatter\", \"data\": [0.7060869524729553, 0.7386733613551352, 0.7082426572327204, 0.7455546242567758, 0.6896038635128205, 0.6894221719683474, 0.6912769905417661, 0.6268844987131537, 0.4511289707684766, 0.6877501496067822, 0.7061575054581862, 0.7105422049373151, 0.6897457354035719, 0.7133648428740039, 0.6917163577835608, 0.7086580489006578, 0.723507699350213, 0.7037378440582467, 0.7237339959112639, 0.7006019900541947, 0.7323429719874582, 0.7339091535370454, 0.7080983085986131, 0.7103741857447166, 0.7257953980090168, 0.7035258831465685, 0.7264464396653592, 0.7153525852528915, 0.6598147975310394, 0.6880608869537074, 0.5959268848633192, 0.401211702685186, 0.6461505617152529, 0.705075327147772, 0.7266983353831917, 0.6334529999308613, 0.743654431246761, 0.7366679098172884]}, {\"categories\": [\"0\", \"1\", \"2\", \"3\", \"4\", \"5\", \"6\", \"7\", \"8\", \"9\", \"10\", \"11\", \"12\", \"13\", \"14\", \"15\", \"16\", \"17\", \"18\", \"19\", \"20\", \"21\", \"22\", \"23\", \"24\", \"25\", \"26\", \"27\", \"28\", \"29\", \"30\", \"31\", \"32\", \"33\", \"34\", \"35\", \"38\", \"39\"], \"mode\": \"lines\", \"name\": \"f1_score_macro_max\", \"stepped\": true, \"type\": \"scatter\", \"data\": [0.7060869524729553, 0.7386733613551352, 0.7386733613551352, 0.7455546242567758, 0.7455546242567758, 0.7455546242567758, 0.7455546242567758, 0.7455546242567758, 0.7455546242567758, 0.7455546242567758, 0.7455546242567758, 0.7455546242567758, 0.7455546242567758, 0.7455546242567758, 0.7455546242567758, 0.7455546242567758, 0.7455546242567758, 0.7455546242567758, 0.7455546242567758, 0.7455546242567758, 0.7455546242567758, 0.7455546242567758, 0.7455546242567758, 0.7455546242567758, 0.7455546242567758, 0.7455546242567758, 0.7455546242567758, 0.7455546242567758, 0.7455546242567758, 0.7455546242567758, 0.7455546242567758, 0.7455546242567758, 0.7455546242567758, 0.7455546242567758, 0.7455546242567758, 0.7455546242567758, 0.7455546242567758, 0.7455546242567758]}], \"average_precision_score_macro\": [{\"categories\": [\"0\", \"1\", \"2\", \"3\", \"4\", \"5\", \"6\", \"7\", \"8\", \"9\", \"10\", \"11\", \"12\", \"13\", \"14\", \"15\", \"16\", \"17\", \"18\", \"19\", \"20\", \"21\", \"22\", \"23\", \"24\", \"25\", \"26\", \"27\", \"28\", \"29\", \"30\", \"31\", \"32\", \"33\", \"34\", \"35\", \"38\", \"39\"], \"mode\": \"markers\", \"name\": \"average_precision_score_macro\", \"stepped\": false, \"type\": \"scatter\", \"data\": [0.7742813465855433, 0.817147214521911, 0.8058331446399402, 0.8077234243013469, 0.7955671340776613, 0.8001171496732464, 0.8028130425481033, 0.7783978471006218, 0.7907914549234818, 0.7736341978109336, 0.7852918237696503, 0.7940181179190768, 0.7699847624567657, 0.808682183717061, 0.7840345289830122, 0.8051111296606871, 0.8040039436451855, 0.7912415733140357, 0.7877404773315057, 0.8004886674886272, 0.8017118355199807, 0.8056548266270042, 0.7923490340846248, 0.7920414064829485, 0.7935532742420122, 0.7662694299025903, 0.8084013300383639, 0.8027961680041908, 0.7406457812799168, 0.8127424780771626, 0.6895595189788699, 0.799420132860954, 0.7330777485106894, 0.7834293299028665, 0.8024127541814894, 0.7334253977005518, 0.8286493694718878, 0.8239668945872236]}, {\"categories\": [\"0\", \"1\", \"2\", \"3\", \"4\", \"5\", \"6\", \"7\", \"8\", \"9\", \"10\", \"11\", \"12\", \"13\", \"14\", \"15\", \"16\", \"17\", \"18\", \"19\", \"20\", \"21\", \"22\", \"23\", \"24\", \"25\", \"26\", \"27\", \"28\", \"29\", \"30\", \"31\", \"32\", \"33\", \"34\", \"35\", \"38\", \"39\"], \"mode\": \"lines\", \"name\": \"average_precision_score_macro_max\", \"stepped\": true, \"type\": \"scatter\", \"data\": [0.7742813465855433, 0.817147214521911, 0.817147214521911, 0.817147214521911, 0.817147214521911, 0.817147214521911, 0.817147214521911, 0.817147214521911, 0.817147214521911, 0.817147214521911, 0.817147214521911, 0.817147214521911, 0.817147214521911, 0.817147214521911, 0.817147214521911, 0.817147214521911, 0.817147214521911, 0.817147214521911, 0.817147214521911, 0.817147214521911, 0.817147214521911, 0.817147214521911, 0.817147214521911, 0.817147214521911, 0.817147214521911, 0.817147214521911, 0.817147214521911, 0.817147214521911, 0.817147214521911, 0.817147214521911, 0.817147214521911, 0.817147214521911, 0.817147214521911, 0.817147214521911, 0.817147214521911, 0.817147214521911, 0.8286493694718878, 0.8286493694718878]}], \"recall_score_weighted\": [{\"categories\": [\"0\", \"1\", \"2\", \"3\", \"4\", \"5\", \"6\", \"7\", \"8\", \"9\", \"10\", \"11\", \"12\", \"13\", \"14\", \"15\", \"16\", \"17\", \"18\", \"19\", \"20\", \"21\", \"22\", \"23\", \"24\", \"25\", \"26\", \"27\", \"28\", \"29\", \"30\", \"31\", \"32\", \"33\", \"34\", \"35\", \"38\", \"39\"], \"mode\": \"markers\", \"name\": \"recall_score_weighted\", \"stepped\": false, \"type\": \"scatter\", \"data\": [0.7396103896103897, 0.7695659603554341, 0.7604408749145591, 0.7643711551606289, 0.7487354750512646, 0.7474538619275461, 0.7565276828434724, 0.7200786056049213, 0.6692071086807929, 0.7096889952153109, 0.7252221462747779, 0.7265892002734108, 0.7045283663704717, 0.7565618591934381, 0.7434381408065619, 0.7643882433356117, 0.7396445659603554, 0.7226589200273411, 0.7369788106630212, 0.7434894053315106, 0.7656356801093642, 0.7643882433356118, 0.7448906356801095, 0.746120984278879, 0.7591079972658921, 0.7395933014354067, 0.7603896103896104, 0.7486671223513329, 0.7109876965140123, 0.7525974025974026, 0.6927204374572796, 0.6496753246753247, 0.7004784688995215, 0.7512816131237183, 0.7708817498291183, 0.6966848940533151, 0.7825871496924128, 0.7722146274777854]}, {\"categories\": [\"0\", \"1\", \"2\", \"3\", \"4\", \"5\", \"6\", \"7\", \"8\", \"9\", \"10\", \"11\", \"12\", \"13\", \"14\", \"15\", \"16\", \"17\", \"18\", \"19\", \"20\", \"21\", \"22\", \"23\", \"24\", \"25\", \"26\", \"27\", \"28\", \"29\", \"30\", \"31\", \"32\", \"33\", \"34\", \"35\", \"38\", \"39\"], \"mode\": \"lines\", \"name\": \"recall_score_weighted_max\", \"stepped\": true, \"type\": \"scatter\", \"data\": [0.7396103896103897, 0.7695659603554341, 0.7695659603554341, 0.7695659603554341, 0.7695659603554341, 0.7695659603554341, 0.7695659603554341, 0.7695659603554341, 0.7695659603554341, 0.7695659603554341, 0.7695659603554341, 0.7695659603554341, 0.7695659603554341, 0.7695659603554341, 0.7695659603554341, 0.7695659603554341, 0.7695659603554341, 0.7695659603554341, 0.7695659603554341, 0.7695659603554341, 0.7695659603554341, 0.7695659603554341, 0.7695659603554341, 0.7695659603554341, 0.7695659603554341, 0.7695659603554341, 0.7695659603554341, 0.7695659603554341, 0.7695659603554341, 0.7695659603554341, 0.7695659603554341, 0.7695659603554341, 0.7695659603554341, 0.7695659603554341, 0.7708817498291183, 0.7708817498291183, 0.7825871496924128, 0.7825871496924128]}], \"weighted_accuracy\": [{\"categories\": [\"0\", \"1\", \"2\", \"3\", \"4\", \"5\", \"6\", \"7\", \"8\", \"9\", \"10\", \"11\", \"12\", \"13\", \"14\", \"15\", \"16\", \"17\", \"18\", \"19\", \"20\", \"21\", \"22\", \"23\", \"24\", \"25\", \"26\", \"27\", \"28\", \"29\", \"30\", \"31\", \"32\", \"33\", \"34\", \"35\", \"38\", \"39\"], \"mode\": \"markers\", \"name\": \"weighted_accuracy\", \"stepped\": false, \"type\": \"scatter\", \"data\": [0.7658219048734536, 0.7945054420815822, 0.8073468351233911, 0.7694289553284607, 0.8009094433888755, 0.7967387085069858, 0.8139817365325086, 0.7914756503405757, 0.7782773487118324, 0.7141871629325087, 0.7277532186973799, 0.7227884178660231, 0.6991813447234214, 0.7947134642091852, 0.787696102368115, 0.8135196068669585, 0.7374815265490006, 0.7249686818070407, 0.7290590441401859, 0.7793562818141588, 0.7923072490351333, 0.7876656489043206, 0.7737974914965314, 0.7752159501425506, 0.785399388693536, 0.7682773412831079, 0.7882692577010817, 0.7757362399087467, 0.7525873450322276, 0.8098534985473359, 0.7623000990558145, 0.7649006354921283, 0.7448915969659227, 0.7921448699416143, 0.8117254012697881, 0.7477284063089693, 0.817237747955278, 0.8029730961464334]}, {\"categories\": [\"0\", \"1\", \"2\", \"3\", \"4\", \"5\", \"6\", \"7\", \"8\", \"9\", \"10\", \"11\", \"12\", \"13\", \"14\", \"15\", \"16\", \"17\", \"18\", \"19\", \"20\", \"21\", \"22\", \"23\", \"24\", \"25\", \"26\", \"27\", \"28\", \"29\", \"30\", \"31\", \"32\", \"33\", \"34\", \"35\", \"38\", \"39\"], \"mode\": \"lines\", \"name\": \"weighted_accuracy_max\", \"stepped\": true, \"type\": \"scatter\", \"data\": [0.7658219048734536, 0.7945054420815822, 0.8073468351233911, 0.8073468351233911, 0.8073468351233911, 0.8073468351233911, 0.8139817365325086, 0.8139817365325086, 0.8139817365325086, 0.8139817365325086, 0.8139817365325086, 0.8139817365325086, 0.8139817365325086, 0.8139817365325086, 0.8139817365325086, 0.8139817365325086, 0.8139817365325086, 0.8139817365325086, 0.8139817365325086, 0.8139817365325086, 0.8139817365325086, 0.8139817365325086, 0.8139817365325086, 0.8139817365325086, 0.8139817365325086, 0.8139817365325086, 0.8139817365325086, 0.8139817365325086, 0.8139817365325086, 0.8139817365325086, 0.8139817365325086, 0.8139817365325086, 0.8139817365325086, 0.8139817365325086, 0.8139817365325086, 0.8139817365325086, 0.817237747955278, 0.817237747955278]}], \"average_precision_score_micro\": [{\"categories\": [\"0\", \"1\", \"2\", \"3\", \"4\", \"5\", \"6\", \"7\", \"8\", \"9\", \"10\", \"11\", \"12\", \"13\", \"14\", \"15\", \"16\", \"17\", \"18\", \"19\", \"20\", \"21\", \"22\", \"23\", \"24\", \"25\", \"26\", \"27\", \"28\", \"29\", \"30\", \"31\", \"32\", \"33\", \"34\", \"35\", \"38\", \"39\"], \"mode\": \"markers\", \"name\": \"average_precision_score_micro\", \"stepped\": false, \"type\": \"scatter\", \"data\": [0.8229290538102472, 0.8549562655774119, 0.8427386707023288, 0.8360946262760038, 0.8324516931912672, 0.8412039016233533, 0.8389190378107308, 0.8149799649683859, 0.7994081398287964, 0.7890230416485013, 0.8078473270456724, 0.8059491696591087, 0.7888357222299387, 0.8440167132857228, 0.8289790420217631, 0.8426707911075949, 0.8234390865997867, 0.8170625292707054, 0.8081130843767257, 0.8481665708323544, 0.848898506132646, 0.8485687405511617, 0.8389823937410112, 0.835167072801771, 0.8384628409140362, 0.813259039495868, 0.8477308763743803, 0.8477232410673853, 0.7818839894173537, 0.8446993992457724, 0.744240625674242, 0.811398975556787, 0.7827506036651931, 0.8293173352087979, 0.8379282042248383, 0.7841314449726016, 0.8656141628812881, 0.8621361632807709]}, {\"categories\": [\"0\", \"1\", \"2\", \"3\", \"4\", \"5\", \"6\", \"7\", \"8\", \"9\", \"10\", \"11\", \"12\", \"13\", \"14\", \"15\", \"16\", \"17\", \"18\", \"19\", \"20\", \"21\", \"22\", \"23\", \"24\", \"25\", \"26\", \"27\", \"28\", \"29\", \"30\", \"31\", \"32\", \"33\", \"34\", \"35\", \"38\", \"39\"], \"mode\": \"lines\", \"name\": \"average_precision_score_micro_max\", \"stepped\": true, \"type\": \"scatter\", \"data\": [0.8229290538102472, 0.8549562655774119, 0.8549562655774119, 0.8549562655774119, 0.8549562655774119, 0.8549562655774119, 0.8549562655774119, 0.8549562655774119, 0.8549562655774119, 0.8549562655774119, 0.8549562655774119, 0.8549562655774119, 0.8549562655774119, 0.8549562655774119, 0.8549562655774119, 0.8549562655774119, 0.8549562655774119, 0.8549562655774119, 0.8549562655774119, 0.8549562655774119, 0.8549562655774119, 0.8549562655774119, 0.8549562655774119, 0.8549562655774119, 0.8549562655774119, 0.8549562655774119, 0.8549562655774119, 0.8549562655774119, 0.8549562655774119, 0.8549562655774119, 0.8549562655774119, 0.8549562655774119, 0.8549562655774119, 0.8549562655774119, 0.8549562655774119, 0.8549562655774119, 0.8656141628812881, 0.8656141628812881]}], \"precision_score_micro\": [{\"categories\": [\"0\", \"1\", \"2\", \"3\", \"4\", \"5\", \"6\", \"7\", \"8\", \"9\", \"10\", \"11\", \"12\", \"13\", \"14\", \"15\", \"16\", \"17\", \"18\", \"19\", \"20\", \"21\", \"22\", \"23\", \"24\", \"25\", \"26\", \"27\", \"28\", \"29\", \"30\", \"31\", \"32\", \"33\", \"34\", \"35\", \"38\", \"39\"], \"mode\": \"markers\", \"name\": \"precision_score_micro\", \"stepped\": false, \"type\": \"scatter\", \"data\": [0.7396103896103897, 0.7695659603554341, 0.7604408749145591, 0.7643711551606289, 0.7487354750512646, 0.7474538619275461, 0.7565276828434724, 0.7200786056049213, 0.6692071086807929, 0.7096889952153109, 0.7252221462747779, 0.7265892002734108, 0.7045283663704717, 0.7565618591934381, 0.7434381408065619, 0.7643882433356117, 0.7396445659603554, 0.7226589200273411, 0.7369788106630212, 0.7434894053315106, 0.7656356801093642, 0.7643882433356118, 0.7448906356801095, 0.746120984278879, 0.7591079972658921, 0.7395933014354067, 0.7603896103896104, 0.7486671223513329, 0.7109876965140123, 0.7525974025974026, 0.6927204374572796, 0.6496753246753247, 0.7004784688995215, 0.7512816131237183, 0.7708817498291183, 0.6966848940533151, 0.7825871496924128, 0.7722146274777854]}, {\"categories\": [\"0\", \"1\", \"2\", \"3\", \"4\", \"5\", \"6\", \"7\", \"8\", \"9\", \"10\", \"11\", \"12\", \"13\", \"14\", \"15\", \"16\", \"17\", \"18\", \"19\", \"20\", \"21\", \"22\", \"23\", \"24\", \"25\", \"26\", \"27\", \"28\", \"29\", \"30\", \"31\", \"32\", \"33\", \"34\", \"35\", \"38\", \"39\"], \"mode\": \"lines\", \"name\": \"precision_score_micro_max\", \"stepped\": true, \"type\": \"scatter\", \"data\": [0.7396103896103897, 0.7695659603554341, 0.7695659603554341, 0.7695659603554341, 0.7695659603554341, 0.7695659603554341, 0.7695659603554341, 0.7695659603554341, 0.7695659603554341, 0.7695659603554341, 0.7695659603554341, 0.7695659603554341, 0.7695659603554341, 0.7695659603554341, 0.7695659603554341, 0.7695659603554341, 0.7695659603554341, 0.7695659603554341, 0.7695659603554341, 0.7695659603554341, 0.7695659603554341, 0.7695659603554341, 0.7695659603554341, 0.7695659603554341, 0.7695659603554341, 0.7695659603554341, 0.7695659603554341, 0.7695659603554341, 0.7695659603554341, 0.7695659603554341, 0.7695659603554341, 0.7695659603554341, 0.7695659603554341, 0.7695659603554341, 0.7708817498291183, 0.7708817498291183, 0.7825871496924128, 0.7825871496924128]}], \"AUC_weighted\": [{\"categories\": [\"0\", \"1\", \"2\", \"3\", \"4\", \"5\", \"6\", \"7\", \"8\", \"9\", \"10\", \"11\", \"12\", \"13\", \"14\", \"15\", \"16\", \"17\", \"18\", \"19\", \"20\", \"21\", \"22\", \"23\", \"24\", \"25\", \"26\", \"27\", \"28\", \"29\", \"30\", \"31\", \"32\", \"33\", \"34\", \"35\", \"38\", \"39\"], \"mode\": \"markers\", \"name\": \"AUC_weighted\", \"stepped\": false, \"type\": \"scatter\", \"data\": [0.7981013916226355, 0.8366210317228242, 0.8225275090042217, 0.8223032251766395, 0.8146627692674266, 0.8203905095377758, 0.820505085225362, 0.7988322449023678, 0.8001080439821233, 0.7860469013600158, 0.807726331971725, 0.8110982900831335, 0.7874985196924333, 0.8208075252024681, 0.804676083655133, 0.8213551120608631, 0.8177679888200984, 0.8067805309326685, 0.8096174590915508, 0.8223062796119004, 0.8240266352875374, 0.8298472723094127, 0.8152208505797622, 0.8132809201585477, 0.8161128629984556, 0.7868068256935232, 0.8273771238627171, 0.8216871432462926, 0.7470921367223642, 0.830660955071186, 0.6976033883636872, 0.8266853340828598, 0.7437301169367629, 0.8126561686834268, 0.815976390885988, 0.7415963968218494, 0.8470996737662964, 0.8426869110006889]}, {\"categories\": [\"0\", \"1\", \"2\", \"3\", \"4\", \"5\", \"6\", \"7\", \"8\", \"9\", \"10\", \"11\", \"12\", \"13\", \"14\", \"15\", \"16\", \"17\", \"18\", \"19\", \"20\", \"21\", \"22\", \"23\", \"24\", \"25\", \"26\", \"27\", \"28\", \"29\", \"30\", \"31\", \"32\", \"33\", \"34\", \"35\", \"38\", \"39\"], \"mode\": \"lines\", \"name\": \"AUC_weighted_max\", \"stepped\": true, \"type\": \"scatter\", \"data\": [0.7981013916226355, 0.8366210317228242, 0.8366210317228242, 0.8366210317228242, 0.8366210317228242, 0.8366210317228242, 0.8366210317228242, 0.8366210317228242, 0.8366210317228242, 0.8366210317228242, 0.8366210317228242, 0.8366210317228242, 0.8366210317228242, 0.8366210317228242, 0.8366210317228242, 0.8366210317228242, 0.8366210317228242, 0.8366210317228242, 0.8366210317228242, 0.8366210317228242, 0.8366210317228242, 0.8366210317228242, 0.8366210317228242, 0.8366210317228242, 0.8366210317228242, 0.8366210317228242, 0.8366210317228242, 0.8366210317228242, 0.8366210317228242, 0.8366210317228242, 0.8366210317228242, 0.8366210317228242, 0.8366210317228242, 0.8366210317228242, 0.8366210317228242, 0.8366210317228242, 0.8470996737662964, 0.8470996737662964]}]}, \"metricName\": null, \"primaryMetricName\": \"AUC_weighted\", \"showLegend\": false}, \"run_metrics\": [{\"name\": \"experiment_status\", \"run_id\": \"AutoML_14aceda5-4c46-4098-80d8-d344fee3e887\", \"categories\": [0, 1, 2, 3, 4, 5, 6, 7, 8, 9, 10, 11, 12, 13], \"series\": [{\"data\": [\"DatasetEvaluation\", \"FeaturesGeneration\", \"DatasetFeaturization\", \"DatasetFeaturizationCompleted\", \"DatasetCrossValidationSplit\", \"ModelSelection\", \"BestRunExplainModel\", \"ModelExplanationDataSetSetup\", \"PickSurrogateModel\", \"EngineeredFeatureExplanations\", \"EngineeredFeatureExplanations\", \"RawFeaturesExplanations\", \"RawFeaturesExplanations\", \"BestRunExplainModel\"]}]}, {\"name\": \"experiment_status_description\", \"run_id\": \"AutoML_14aceda5-4c46-4098-80d8-d344fee3e887\", \"categories\": [0, 1, 2, 3, 4, 5, 6, 7, 8, 9, 10, 11, 12, 13], \"series\": [{\"data\": [\"Gathering dataset statistics.\", \"Generating features for the dataset.\", \"Beginning to fit featurizers and featurize the dataset.\", \"Completed fit featurizers and featurizing the dataset.\", \"Generating individually featurized CV splits.\", \"Beginning model selection.\", \"Best run model explanations started\", \"Model explanations data setup completed\", \"Choosing LightGBM as the surrogate model for explanations\", \"Computation of engineered features started\", \"Computation of engineered features completed\", \"Computation of raw features started\", \"Computation of raw features completed\", \"Best run model explanations completed\"]}]}, {\"name\": \"matthews_correlation\", \"run_id\": \"AutoML_14aceda5-4c46-4098-80d8-d344fee3e887\", \"categories\": [0], \"series\": [{\"data\": [0.49836616285209867]}]}, {\"name\": \"recall_score_weighted\", \"run_id\": \"AutoML_14aceda5-4c46-4098-80d8-d344fee3e887\", \"categories\": [0], \"series\": [{\"data\": [0.7825871496924128]}]}, {\"name\": \"norm_macro_recall\", \"run_id\": \"AutoML_14aceda5-4c46-4098-80d8-d344fee3e887\", \"categories\": [0], \"series\": [{\"data\": [0.47089821319691333]}]}, {\"name\": \"f1_score_macro\", \"run_id\": \"AutoML_14aceda5-4c46-4098-80d8-d344fee3e887\", \"categories\": [0], \"series\": [{\"data\": [0.743654431246761]}]}, {\"name\": \"average_precision_score_micro\", \"run_id\": \"AutoML_14aceda5-4c46-4098-80d8-d344fee3e887\", \"categories\": [0], \"series\": [{\"data\": [0.8656141628812881]}]}, {\"name\": \"weighted_accuracy\", \"run_id\": \"AutoML_14aceda5-4c46-4098-80d8-d344fee3e887\", \"categories\": [0], \"series\": [{\"data\": [0.817237747955278]}]}, {\"name\": \"average_precision_score_weighted\", \"run_id\": \"AutoML_14aceda5-4c46-4098-80d8-d344fee3e887\", \"categories\": [0], \"series\": [{\"data\": [0.8576450605626029]}]}, {\"name\": \"precision_score_micro\", \"run_id\": \"AutoML_14aceda5-4c46-4098-80d8-d344fee3e887\", \"categories\": [0], \"series\": [{\"data\": [0.7825871496924128]}]}, {\"name\": \"AUC_weighted\", \"run_id\": \"AutoML_14aceda5-4c46-4098-80d8-d344fee3e887\", \"categories\": [0], \"series\": [{\"data\": [0.8470996737662964]}]}, {\"name\": \"balanced_accuracy\", \"run_id\": \"AutoML_14aceda5-4c46-4098-80d8-d344fee3e887\", \"categories\": [0], \"series\": [{\"data\": [0.7354491065984565]}]}, {\"name\": \"precision_score_macro\", \"run_id\": \"AutoML_14aceda5-4c46-4098-80d8-d344fee3e887\", \"categories\": [0], \"series\": [{\"data\": [0.7642348738570608]}]}, {\"name\": \"f1_score_micro\", \"run_id\": \"AutoML_14aceda5-4c46-4098-80d8-d344fee3e887\", \"categories\": [0], \"series\": [{\"data\": [0.7825871496924128]}]}, {\"name\": \"recall_score_macro\", \"run_id\": \"AutoML_14aceda5-4c46-4098-80d8-d344fee3e887\", \"categories\": [0], \"series\": [{\"data\": [0.7354491065984565]}]}, {\"name\": \"f1_score_weighted\", \"run_id\": \"AutoML_14aceda5-4c46-4098-80d8-d344fee3e887\", \"categories\": [0], \"series\": [{\"data\": [0.7765213036437363]}]}, {\"name\": \"AUC_micro\", \"run_id\": \"AutoML_14aceda5-4c46-4098-80d8-d344fee3e887\", \"categories\": [0], \"series\": [{\"data\": [0.8620310826077185]}]}, {\"name\": \"precision_score_weighted\", \"run_id\": \"AutoML_14aceda5-4c46-4098-80d8-d344fee3e887\", \"categories\": [0], \"series\": [{\"data\": [0.7805283065153878]}]}, {\"name\": \"average_precision_score_macro\", \"run_id\": \"AutoML_14aceda5-4c46-4098-80d8-d344fee3e887\", \"categories\": [0], \"series\": [{\"data\": [0.8286493694718878]}]}, {\"name\": \"recall_score_micro\", \"run_id\": \"AutoML_14aceda5-4c46-4098-80d8-d344fee3e887\", \"categories\": [0], \"series\": [{\"data\": [0.7825871496924128]}]}, {\"name\": \"AUC_macro\", \"run_id\": \"AutoML_14aceda5-4c46-4098-80d8-d344fee3e887\", \"categories\": [0], \"series\": [{\"data\": [0.8470996737662964]}]}, {\"name\": \"accuracy\", \"run_id\": \"AutoML_14aceda5-4c46-4098-80d8-d344fee3e887\", \"categories\": [0], \"series\": [{\"data\": [0.7825871496924128]}]}, {\"name\": \"log_loss\", \"run_id\": \"AutoML_14aceda5-4c46-4098-80d8-d344fee3e887\", \"categories\": [0], \"series\": [{\"data\": [0.4905791336310693]}]}], \"run_logs\": \"\\nRun is completed.\", \"graph\": {}, \"widget_settings\": {\"childWidgetDisplay\": \"popup\", \"send_telemetry\": false, \"log_level\": \"INFO\", \"sdk_version\": \"1.19.0\"}, \"loading\": false}"
          },
          "metadata": {}
        },
        {
          "output_type": "stream",
          "name": "stdout",
          "text": [
            "https://ml.azure.com/experiments/automlprenataldiabetes/runs/AutoML_14aceda5-4c46-4098-80d8-d344fee3e887?wsid=/subscriptions/8a086c9c-5530-4791-89af-62c8cdfda3fd/resourcegroups/trn-aue-advanced-analytics-ml/workspaces/trn-aue-aa-ml\n",
            "\n",
            "\n",
            "****************************************************************************************************\n",
            "DATA GUARDRAILS: \n",
            "\n",
            "TYPE:         Cross validation\n",
            "STATUS:       DONE\n",
            "DESCRIPTION:  Each iteration of the trained model was validated through cross-validation.\n",
            "              \n",
            "DETAILS:      \n",
            "+---------------------------------+\n",
            "|Number of folds                  |\n",
            "+=================================+\n",
            "|10                               |\n",
            "+---------------------------------+\n",
            "\n",
            "****************************************************************************************************\n",
            "\n",
            "TYPE:         Class balancing detection\n",
            "STATUS:       PASSED\n",
            "DESCRIPTION:  Your inputs were analyzed, and all classes are balanced in your training data.\n",
            "              Learn more about imbalanced data: https://aka.ms/AutomatedMLImbalancedData\n",
            "\n",
            "****************************************************************************************************\n",
            "\n",
            "TYPE:         Missing feature values imputation\n",
            "STATUS:       PASSED\n",
            "DESCRIPTION:  No feature missing values were detected in the training data.\n",
            "              Learn more about missing value imputation: https://aka.ms/AutomatedMLFeaturization\n",
            "\n",
            "****************************************************************************************************\n",
            "\n",
            "TYPE:         High cardinality feature detection\n",
            "STATUS:       PASSED\n",
            "DESCRIPTION:  Your inputs were analyzed, and no high cardinality features were detected.\n",
            "              Learn more about high cardinality feature handling: https://aka.ms/AutomatedMLFeaturization\n",
            "\n",
            "****************************************************************************************************\n",
            "\n",
            "****************************************************************************************************\n",
            "ITERATION: The iteration being evaluated.\n",
            "PIPELINE: A summary description of the pipeline being evaluated.\n",
            "DURATION: Time taken for the current iteration.\n",
            "METRIC: The result of computing score on the fitted pipeline.\n",
            "BEST: The best observed score thus far.\n",
            "****************************************************************************************************\n",
            "\n",
            " ITERATION   PIPELINE                                       DURATION      METRIC      BEST\n",
            "         0   MaxAbsScaler LightGBM                          0:02:13       0.7981    0.7981\n",
            "         1   MaxAbsScaler XGBoostClassifier                 0:01:54       0.8366    0.8366\n",
            "         2   MaxAbsScaler RandomForest                      0:02:05       0.8225    0.8366\n",
            "         3   MaxAbsScaler RandomForest                      0:02:06       0.8223    0.8366\n",
            "         4   MaxAbsScaler RandomForest                      0:02:03       0.8147    0.8366\n",
            "         5   MaxAbsScaler ExtremeRandomTrees                0:02:04       0.8204    0.8366\n",
            "         6   MaxAbsScaler ExtremeRandomTrees                0:01:49       0.8205    0.8366\n",
            "         7   MaxAbsScaler ExtremeRandomTrees                0:01:59       0.7988    0.8366\n",
            "         8   MaxAbsScaler RandomForest                      0:01:55       0.8001    0.8366\n",
            "         9   MaxAbsScaler ExtremeRandomTrees                0:02:03       0.7860    0.8366\n",
            "        10   MaxAbsScaler RandomForest                      0:02:03       0.8077    0.8366\n",
            "        11   MaxAbsScaler RandomForest                      0:01:51       0.8111    0.8366\n",
            "        12   MaxAbsScaler RandomForest                      0:02:00       0.7875    0.8366\n",
            "        13   StandardScalerWrapper XGBoostClassifier        0:02:00       0.8208    0.8366\n",
            "        14   MaxAbsScaler RandomForest                      0:01:57       0.8047    0.8366\n",
            "        15   StandardScalerWrapper ExtremeRandomTrees       0:02:01       0.8214    0.8366\n",
            "        16   MaxAbsScaler ExtremeRandomTrees                0:01:56       0.8178    0.8366\n",
            "        17   MaxAbsScaler ExtremeRandomTrees                0:01:57       0.8068    0.8366\n",
            "        18   MaxAbsScaler RandomForest                      0:02:00       0.8096    0.8366\n",
            "        19   MaxAbsScaler LightGBM                          0:01:56       0.8223    0.8366\n",
            "        20   StandardScalerWrapper XGBoostClassifier        0:01:56       0.8240    0.8366\n",
            "        21   StandardScalerWrapper XGBoostClassifier        0:01:56       0.8298    0.8366\n",
            "        22   MaxAbsScaler LightGBM                          0:01:53       0.8152    0.8366\n",
            "        23   StandardScalerWrapper XGBoostClassifier        0:01:51       0.8133    0.8366\n",
            "        24   StandardScalerWrapper XGBoostClassifier        0:01:55       0.8161    0.8366\n",
            "        25   StandardScalerWrapper XGBoostClassifier        0:01:56       0.7868    0.8366\n",
            "        26   MaxAbsScaler LightGBM                          0:01:52       0.8274    0.8366\n",
            "        27   StandardScalerWrapper XGBoostClassifier        0:01:51       0.8217    0.8366\n",
            "        28   SparseNormalizer XGBoostClassifier             0:01:51       0.7471    0.8366\n",
            "        29   MaxAbsScaler LightGBM                          0:01:57       0.8307    0.8366\n",
            "        30   SparseNormalizer XGBoostClassifier             0:01:49       0.6976    0.8366\n",
            "        31   MaxAbsScaler LightGBM                          0:01:48       0.8267    0.8366\n",
            "        32   SparseNormalizer XGBoostClassifier             0:01:55       0.7437    0.8366\n",
            "        33   StandardScalerWrapper XGBoostClassifier        0:01:56       0.8127    0.8366\n",
            "        34   MaxAbsScaler LogisticRegression                0:01:53       0.8160    0.8366\n",
            "        35   SparseNormalizer XGBoostClassifier             0:01:49       0.7416    0.8366\n",
            "        36                                                  0:01:17          nan    0.8366\n",
            "        37                                                  0:00:16          nan    0.8366\n",
            "        38    VotingEnsemble                                0:03:12       0.8471    0.8471\n",
            "        39    StackEnsemble                                 0:03:12       0.8427    0.8471\n"
          ]
        },
        {
          "output_type": "execute_result",
          "execution_count": 10,
          "data": {
            "text/plain": "{'runId': 'AutoML_14aceda5-4c46-4098-80d8-d344fee3e887',\n 'target': 'DSBankCluster',\n 'status': 'Completed',\n 'startTimeUtc': '2021-01-20T20:51:18.82635Z',\n 'endTimeUtc': '2021-01-20T21:20:28.238825Z',\n 'properties': {'num_iterations': '1000',\n  'training_type': 'TrainFull',\n  'acquisition_function': 'EI',\n  'primary_metric': 'AUC_weighted',\n  'train_split': '0',\n  'acquisition_parameter': '0',\n  'num_cross_validation': None,\n  'target': 'DSBankCluster',\n  'AMLSettingsJsonString': '{\"path\":null,\"name\":\"automlprenataldiabetes\",\"subscription_id\":\"8a086c9c-5530-4791-89af-62c8cdfda3fd\",\"resource_group\":\"trn-aue-advanced-analytics-ml\",\"workspace_name\":\"trn-aue-aa-ml\",\"region\":\"australiaeast\",\"compute_target\":\"DSBankCluster\",\"spark_service\":null,\"azure_service\":\"remote\",\"many_models\":false,\"pipeline_fetch_max_batch_size\":1,\"iterations\":1000,\"primary_metric\":\"AUC_weighted\",\"task_type\":\"classification\",\"data_script\":null,\"validation_size\":0.0,\"n_cross_validations\":null,\"y_min\":null,\"y_max\":null,\"num_classes\":null,\"featurization\":\"auto\",\"_ignore_package_version_incompatibilities\":false,\"is_timeseries\":false,\"max_cores_per_iteration\":1,\"max_concurrent_iterations\":5,\"iteration_timeout_minutes\":null,\"mem_in_mb\":null,\"enforce_time_on_windows\":false,\"experiment_timeout_minutes\":60,\"experiment_exit_score\":null,\"whitelist_models\":null,\"blacklist_algos\":[\"TensorFlowLinearClassifier\",\"TensorFlowDNN\"],\"supported_models\":[\"LogisticRegression\",\"ExtremeRandomTrees\",\"BernoulliNaiveBayes\",\"AveragedPerceptronClassifier\",\"TensorFlowLinearClassifier\",\"LinearSVM\",\"MultinomialNaiveBayes\",\"LightGBM\",\"GradientBoosting\",\"DecisionTree\",\"XGBoostClassifier\",\"TensorFlowDNN\",\"SGD\",\"SVM\",\"KNN\",\"RandomForest\"],\"auto_blacklist\":true,\"blacklist_samples_reached\":false,\"exclude_nan_labels\":true,\"verbosity\":20,\"_debug_log\":\"azureml_automl.log\",\"show_warnings\":false,\"model_explainability\":true,\"service_url\":null,\"sdk_url\":null,\"sdk_packages\":null,\"enable_onnx_compatible_models\":false,\"enable_split_onnx_featurizer_estimator_models\":false,\"vm_type\":\"STANDARD_DS12_V2\",\"telemetry_verbosity\":20,\"send_telemetry\":true,\"enable_dnn\":false,\"scenario\":\"SDK-1.13.0\",\"environment_label\":null,\"force_text_dnn\":false,\"enable_feature_sweeping\":true,\"enable_early_stopping\":true,\"early_stopping_n_iters\":10,\"metrics\":null,\"enable_ensembling\":true,\"enable_stack_ensembling\":true,\"ensemble_iterations\":15,\"enable_tf\":false,\"enable_subsampling\":null,\"subsample_seed\":null,\"enable_nimbusml\":false,\"enable_streaming\":false,\"force_streaming\":false,\"track_child_runs\":true,\"allowed_private_models\":[],\"label_column_name\":\"class\",\"weight_column_name\":null,\"cv_split_column_names\":null,\"enable_local_managed\":false,\"_local_managed_run_id\":null,\"cost_mode\":1,\"lag_length\":0,\"metric_operation\":\"maximize\",\"preprocess\":true}',\n  'DataPrepJsonString': '{\\\\\"training_data\\\\\": \\\\\"{\\\\\\\\\\\\\"blocks\\\\\\\\\\\\\": [{\\\\\\\\\\\\\"id\\\\\\\\\\\\\": \\\\\\\\\\\\\"4e02d4d9-80bf-4f65-b930-677856d5d6ff\\\\\\\\\\\\\", \\\\\\\\\\\\\"type\\\\\\\\\\\\\": \\\\\\\\\\\\\"Microsoft.DPrep.GetDatastoreFilesBlock\\\\\\\\\\\\\", \\\\\\\\\\\\\"arguments\\\\\\\\\\\\\": {\\\\\\\\\\\\\"datastores\\\\\\\\\\\\\": [{\\\\\\\\\\\\\"datastoreName\\\\\\\\\\\\\": \\\\\\\\\\\\\"aaproject\\\\\\\\\\\\\", \\\\\\\\\\\\\"path\\\\\\\\\\\\\": \\\\\\\\\\\\\"UI/01-20-2021_093901_UTC/diabetes_csv.csv\\\\\\\\\\\\\", \\\\\\\\\\\\\"resourceGroup\\\\\\\\\\\\\": \\\\\\\\\\\\\"trn-aue-advanced-analytics-ml\\\\\\\\\\\\\", \\\\\\\\\\\\\"subscription\\\\\\\\\\\\\": \\\\\\\\\\\\\"8a086c9c-5530-4791-89af-62c8cdfda3fd\\\\\\\\\\\\\", \\\\\\\\\\\\\"workspaceName\\\\\\\\\\\\\": \\\\\\\\\\\\\"trn-aue-aa-ml\\\\\\\\\\\\\"}]}, \\\\\\\\\\\\\"localData\\\\\\\\\\\\\": {}, \\\\\\\\\\\\\"isEnabled\\\\\\\\\\\\\": true, \\\\\\\\\\\\\"name\\\\\\\\\\\\\": null, \\\\\\\\\\\\\"annotation\\\\\\\\\\\\\": null}, {\\\\\\\\\\\\\"id\\\\\\\\\\\\\": \\\\\\\\\\\\\"ae154ae3-26e6-42af-9b01-df3cfb087203\\\\\\\\\\\\\", \\\\\\\\\\\\\"type\\\\\\\\\\\\\": \\\\\\\\\\\\\"Microsoft.DPrep.ParseDelimitedBlock\\\\\\\\\\\\\", \\\\\\\\\\\\\"arguments\\\\\\\\\\\\\": {\\\\\\\\\\\\\"columnHeadersMode\\\\\\\\\\\\\": 1, \\\\\\\\\\\\\"fileEncoding\\\\\\\\\\\\\": 0, \\\\\\\\\\\\\"handleQuotedLineBreaks\\\\\\\\\\\\\": false, \\\\\\\\\\\\\"preview\\\\\\\\\\\\\": false, \\\\\\\\\\\\\"separator\\\\\\\\\\\\\": \\\\\\\\\\\\\",\\\\\\\\\\\\\", \\\\\\\\\\\\\"skipRows\\\\\\\\\\\\\": 0, \\\\\\\\\\\\\"skipRowsMode\\\\\\\\\\\\\": 0}, \\\\\\\\\\\\\"localData\\\\\\\\\\\\\": {}, \\\\\\\\\\\\\"isEnabled\\\\\\\\\\\\\": true, \\\\\\\\\\\\\"name\\\\\\\\\\\\\": null, \\\\\\\\\\\\\"annotation\\\\\\\\\\\\\": null}, {\\\\\\\\\\\\\"id\\\\\\\\\\\\\": \\\\\\\\\\\\\"d42884f1-4ceb-4d4b-b5ed-d61c7031ef2f\\\\\\\\\\\\\", \\\\\\\\\\\\\"type\\\\\\\\\\\\\": \\\\\\\\\\\\\"Microsoft.DPrep.DropColumnsBlock\\\\\\\\\\\\\", \\\\\\\\\\\\\"arguments\\\\\\\\\\\\\": {\\\\\\\\\\\\\"columns\\\\\\\\\\\\\": {\\\\\\\\\\\\\"type\\\\\\\\\\\\\": 0, \\\\\\\\\\\\\"details\\\\\\\\\\\\\": {\\\\\\\\\\\\\"selectedColumns\\\\\\\\\\\\\": [\\\\\\\\\\\\\"Path\\\\\\\\\\\\\"]}}}, \\\\\\\\\\\\\"localData\\\\\\\\\\\\\": {}, \\\\\\\\\\\\\"isEnabled\\\\\\\\\\\\\": true, \\\\\\\\\\\\\"name\\\\\\\\\\\\\": null, \\\\\\\\\\\\\"annotation\\\\\\\\\\\\\": null}, {\\\\\\\\\\\\\"id\\\\\\\\\\\\\": \\\\\\\\\\\\\"5f4b4e85-e31c-45d0-aff3-03595e8a2365\\\\\\\\\\\\\", \\\\\\\\\\\\\"type\\\\\\\\\\\\\": \\\\\\\\\\\\\"Microsoft.DPrep.SetColumnTypesBlock\\\\\\\\\\\\\", \\\\\\\\\\\\\"arguments\\\\\\\\\\\\\": {\\\\\\\\\\\\\"columnConversion\\\\\\\\\\\\\": [{\\\\\\\\\\\\\"column\\\\\\\\\\\\\": {\\\\\\\\\\\\\"type\\\\\\\\\\\\\": 2, \\\\\\\\\\\\\"details\\\\\\\\\\\\\": {\\\\\\\\\\\\\"selectedColumn\\\\\\\\\\\\\": \\\\\\\\\\\\\"Path\\\\\\\\\\\\\"}}, \\\\\\\\\\\\\"typeProperty\\\\\\\\\\\\\": 0}, {\\\\\\\\\\\\\"column\\\\\\\\\\\\\": {\\\\\\\\\\\\\"type\\\\\\\\\\\\\": 2, \\\\\\\\\\\\\"details\\\\\\\\\\\\\": {\\\\\\\\\\\\\"selectedColumn\\\\\\\\\\\\\": \\\\\\\\\\\\\"preg\\\\\\\\\\\\\"}}, \\\\\\\\\\\\\"typeProperty\\\\\\\\\\\\\": 2}, {\\\\\\\\\\\\\"column\\\\\\\\\\\\\": {\\\\\\\\\\\\\"type\\\\\\\\\\\\\": 2, \\\\\\\\\\\\\"details\\\\\\\\\\\\\": {\\\\\\\\\\\\\"selectedColumn\\\\\\\\\\\\\": \\\\\\\\\\\\\"plas\\\\\\\\\\\\\"}}, \\\\\\\\\\\\\"typeProperty\\\\\\\\\\\\\": 2}, {\\\\\\\\\\\\\"column\\\\\\\\\\\\\": {\\\\\\\\\\\\\"type\\\\\\\\\\\\\": 2, \\\\\\\\\\\\\"details\\\\\\\\\\\\\": {\\\\\\\\\\\\\"selectedColumn\\\\\\\\\\\\\": \\\\\\\\\\\\\"pres\\\\\\\\\\\\\"}}, \\\\\\\\\\\\\"typeProperty\\\\\\\\\\\\\": 2}, {\\\\\\\\\\\\\"column\\\\\\\\\\\\\": {\\\\\\\\\\\\\"type\\\\\\\\\\\\\": 2, \\\\\\\\\\\\\"details\\\\\\\\\\\\\": {\\\\\\\\\\\\\"selectedColumn\\\\\\\\\\\\\": \\\\\\\\\\\\\"skin\\\\\\\\\\\\\"}}, \\\\\\\\\\\\\"typeProperty\\\\\\\\\\\\\": 2}, {\\\\\\\\\\\\\"column\\\\\\\\\\\\\": {\\\\\\\\\\\\\"type\\\\\\\\\\\\\": 2, \\\\\\\\\\\\\"details\\\\\\\\\\\\\": {\\\\\\\\\\\\\"selectedColumn\\\\\\\\\\\\\": \\\\\\\\\\\\\"insu\\\\\\\\\\\\\"}}, \\\\\\\\\\\\\"typeProperty\\\\\\\\\\\\\": 2}, {\\\\\\\\\\\\\"column\\\\\\\\\\\\\": {\\\\\\\\\\\\\"type\\\\\\\\\\\\\": 2, \\\\\\\\\\\\\"details\\\\\\\\\\\\\": {\\\\\\\\\\\\\"selectedColumn\\\\\\\\\\\\\": \\\\\\\\\\\\\"mass\\\\\\\\\\\\\"}}, \\\\\\\\\\\\\"typeProperty\\\\\\\\\\\\\": 3}, {\\\\\\\\\\\\\"column\\\\\\\\\\\\\": {\\\\\\\\\\\\\"type\\\\\\\\\\\\\": 2, \\\\\\\\\\\\\"details\\\\\\\\\\\\\": {\\\\\\\\\\\\\"selectedColumn\\\\\\\\\\\\\": \\\\\\\\\\\\\"pedi\\\\\\\\\\\\\"}}, \\\\\\\\\\\\\"typeProperty\\\\\\\\\\\\\": 3}, {\\\\\\\\\\\\\"column\\\\\\\\\\\\\": {\\\\\\\\\\\\\"type\\\\\\\\\\\\\": 2, \\\\\\\\\\\\\"details\\\\\\\\\\\\\": {\\\\\\\\\\\\\"selectedColumn\\\\\\\\\\\\\": \\\\\\\\\\\\\"age\\\\\\\\\\\\\"}}, \\\\\\\\\\\\\"typeProperty\\\\\\\\\\\\\": 2}, {\\\\\\\\\\\\\"column\\\\\\\\\\\\\": {\\\\\\\\\\\\\"type\\\\\\\\\\\\\": 2, \\\\\\\\\\\\\"details\\\\\\\\\\\\\": {\\\\\\\\\\\\\"selectedColumn\\\\\\\\\\\\\": \\\\\\\\\\\\\"class\\\\\\\\\\\\\"}}, \\\\\\\\\\\\\"typeProperty\\\\\\\\\\\\\": 0}]}, \\\\\\\\\\\\\"localData\\\\\\\\\\\\\": {}, \\\\\\\\\\\\\"isEnabled\\\\\\\\\\\\\": true, \\\\\\\\\\\\\"name\\\\\\\\\\\\\": null, \\\\\\\\\\\\\"annotation\\\\\\\\\\\\\": null}], \\\\\\\\\\\\\"inspectors\\\\\\\\\\\\\": [], \\\\\\\\\\\\\"meta\\\\\\\\\\\\\": {\\\\\\\\\\\\\"savedDatasetId\\\\\\\\\\\\\": \\\\\\\\\\\\\"377b9e7e-fd34-4a83-953d-b0acbc04c07f\\\\\\\\\\\\\", \\\\\\\\\\\\\"datasetType\\\\\\\\\\\\\": \\\\\\\\\\\\\"tabular\\\\\\\\\\\\\", \\\\\\\\\\\\\"subscriptionId\\\\\\\\\\\\\": \\\\\\\\\\\\\"8a086c9c-5530-4791-89af-62c8cdfda3fd\\\\\\\\\\\\\", \\\\\\\\\\\\\"workspaceId\\\\\\\\\\\\\": \\\\\\\\\\\\\"c3f71a46-26f3-421c-8037-b5fa54f65e44\\\\\\\\\\\\\", \\\\\\\\\\\\\"workspaceLocation\\\\\\\\\\\\\": \\\\\\\\\\\\\"australiaeast\\\\\\\\\\\\\"}}\\\\\", \\\\\"activities\\\\\": 0}',\n  'EnableSubsampling': None,\n  'runTemplate': 'AutoML',\n  'azureml.runsource': 'automl',\n  'display_task_type': 'classification',\n  'dependencies_versions': '{\"azureml-widgets\": \"1.19.0\", \"azureml-train\": \"1.19.0\", \"azureml-train-restclients-hyperdrive\": \"1.19.0\", \"azureml-train-core\": \"1.19.0\", \"azureml-train-automl\": \"1.19.0\", \"azureml-train-automl-runtime\": \"1.19.0\", \"azureml-train-automl-client\": \"1.19.0\", \"azureml-tensorboard\": \"1.19.0\", \"azureml-telemetry\": \"1.19.0\", \"azureml-sdk\": \"1.19.0\", \"azureml-samples\": \"0+unknown\", \"azureml-pipeline\": \"1.19.0\", \"azureml-pipeline-steps\": \"1.19.0\", \"azureml-pipeline-core\": \"1.19.0\", \"azureml-opendatasets\": \"1.19.0\", \"azureml-model-management-sdk\": \"1.0.1b6.post1\", \"azureml-mlflow\": \"1.19.0\", \"azureml-interpret\": \"1.19.0\", \"azureml-explain-model\": \"1.19.0\", \"azureml-defaults\": \"1.19.0\", \"azureml-dataset-runtime\": \"1.19.0\", \"azureml-dataprep\": \"2.6.1\", \"azureml-dataprep-rslex\": \"1.4.0\", \"azureml-dataprep-native\": \"26.0.0\", \"azureml-datadrift\": \"1.19.0\", \"azureml-core\": \"1.19.0\", \"azureml-contrib-services\": \"1.19.0\", \"azureml-contrib-server\": \"1.19.0\", \"azureml-contrib-reinforcementlearning\": \"1.19.0\", \"azureml-contrib-pipeline-steps\": \"1.19.0\", \"azureml-contrib-notebook\": \"1.19.0\", \"azureml-contrib-interpret\": \"1.19.0\", \"azureml-contrib-gbdt\": \"1.19.0\", \"azureml-contrib-fairness\": \"1.19.0\", \"azureml-contrib-dataset\": \"1.19.0\", \"azureml-cli-common\": \"1.19.0\", \"azureml-automl-runtime\": \"1.19.0\", \"azureml-automl-core\": \"1.19.0\", \"azureml-accel-models\": \"1.19.0\"}',\n  '_aml_system_scenario_identification': 'Remote.Parent',\n  'ClientType': 'SDK',\n  'environment_cpu_name': 'AzureML-AutoML',\n  'environment_cpu_label': 'prod',\n  'environment_gpu_name': 'AzureML-AutoML-GPU',\n  'environment_gpu_label': 'prod',\n  'root_attribution': 'automl',\n  'attribution': 'AutoML',\n  'Orchestrator': 'AutoML',\n  'CancelUri': 'https://australiaeast.experiments.azureml.net/jasmine/v1.0/subscriptions/8a086c9c-5530-4791-89af-62c8cdfda3fd/resourceGroups/trn-aue-advanced-analytics-ml/providers/Microsoft.MachineLearningServices/workspaces/trn-aue-aa-ml/experimentids/5436b107-d9d9-4731-8816-3da7f9d6bea5/cancel/AutoML_14aceda5-4c46-4098-80d8-d344fee3e887',\n  'ClientSdkVersion': '1.20.0',\n  'snapshotId': '00000000-0000-0000-0000-000000000000',\n  'SetupRunId': 'AutoML_14aceda5-4c46-4098-80d8-d344fee3e887_setup',\n  'SetupRunContainerId': 'dcid.AutoML_14aceda5-4c46-4098-80d8-d344fee3e887_setup',\n  'FeaturizationRunJsonPath': 'featurizer_container.json',\n  'FeaturizationRunId': 'AutoML_14aceda5-4c46-4098-80d8-d344fee3e887_featurize',\n  'ProblemInfoJsonString': '{\"dataset_num_categorical\": 0, \"is_sparse\": true, \"subsampling\": false, \"dataset_classes\": 2, \"dataset_features\": 24, \"dataset_samples\": 768, \"single_frequency_class_detected\": false}',\n  'ModelExplainRunId': 'AutoML_14aceda5-4c46-4098-80d8-d344fee3e887_ModelExplain'},\n 'inputDatasets': [{'dataset': {'id': '377b9e7e-fd34-4a83-953d-b0acbc04c07f'}, 'consumptionDetails': {'type': 'RunInput', 'inputName': 'training_data', 'mechanism': 'Direct'}}],\n 'outputDatasets': [],\n 'logFiles': {}}"
          },
          "metadata": {}
        }
      ],
      "execution_count": 10,
      "metadata": {
        "gather": {
          "logged": 1611177885460
        },
        "jupyter": {
          "outputs_hidden": false,
          "source_hidden": false
        },
        "nteract": {
          "transient": {
            "deleting": false
          }
        }
      }
    },
    {
      "cell_type": "markdown",
      "source": [
        "## Best Model\n",
        "\n",
        "TODO: In the cell below, get the best model from the automl experiments and display all the properties of the model.\n",
        "\n"
      ],
      "metadata": {}
    },
    {
      "cell_type": "code",
      "source": [
        "import joblib\n",
        "import azureml.train.automl\n",
        "\n",
        "# Get your best run and save the model from that run.\n",
        "\n",
        "#!pip install azureml-train-automl-runtime==1.20.0\n",
        "\n",
        "if \"output\" not in os.listdir():\n",
        "   os.mkdir(\"./output\")   \n",
        "\n",
        "remote_run.get_metrics('AUC_weighted')\n",
        "\n",
        "best_run, fitted_model = remote_run.get_output()\n",
        "print(best_run)\n",
        "print(fitted_model)\n",
        "\n",
        "#best_run = remote_run.get_best_child()\n",
        "best_run_metrics = best_run.get_metrics()\n",
        "parameter_values = best_run.get_details()['runDefinition']['arguments']\n",
        "\n",
        "print ('Best run id:',best_run.id)\n",
        "print ('################################')\n",
        "print ('\\n Accuracy:',best_run_metrics['AUC_weighted'])\n",
        "print ('################################')\n",
        "print ('\\n Learning rate:', parameter_values)\n",
        "print ('################################')\n",
        "\n",
        "\n",
        "best_run.get_details()\n",
        "best_run.get_tags()\n"
      ],
      "outputs": [
        {
          "output_type": "stream",
          "name": "stderr",
          "text": [
            "WARNING:root:The version of the SDK does not match the version the model was trained on.\n",
            "WARNING:root:The consistency in the result may not be guaranteed.\n",
            "WARNING:root:Package:azureml-automl-core, training version:1.20.0, current version:1.19.0\n",
            "Package:azureml-automl-runtime, training version:1.20.0, current version:1.19.0\n",
            "Package:azureml-core, training version:1.20.0, current version:1.19.0\n",
            "Package:azureml-dataprep, training version:2.7.2, current version:2.6.1\n",
            "Package:azureml-dataprep-native, training version:27.0.0, current version:26.0.0\n",
            "Package:azureml-dataprep-rslex, training version:1.5.0, current version:1.4.0\n",
            "Package:azureml-dataset-runtime, training version:1.20.0, current version:1.19.0\n",
            "Package:azureml-defaults, training version:1.20.0, current version:1.19.0\n",
            "Package:azureml-interpret, training version:1.20.0, current version:1.19.0\n",
            "Package:azureml-pipeline-core, training version:1.20.0, current version:1.19.0\n",
            "Package:azureml-telemetry, training version:1.20.0, current version:1.19.0\n",
            "Package:azureml-train-automl-client, training version:1.20.0, current version:1.19.0\n",
            "Package:azureml-train-automl-runtime, training version:1.20.0, current version:1.19.0\n",
            "WARNING:root:Please ensure the version of your local conda dependencies match the version on which your model was trained in order to properly retrieve your model.\n"
          ]
        },
        {
          "output_type": "stream",
          "name": "stdout",
          "text": [
            "Run(Experiment: automlprenataldiabetes,\n",
            "Id: AutoML_14aceda5-4c46-4098-80d8-d344fee3e887_38,\n",
            "Type: azureml.scriptrun,\n",
            "Status: Completed)\n",
            "Pipeline(memory=None,\n",
            "         steps=[('datatransformer',\n",
            "                 DataTransformer(enable_dnn=None, enable_feature_sweeping=None,\n",
            "                                 feature_sweeping_config=None,\n",
            "                                 feature_sweeping_timeout=None,\n",
            "                                 featurization_config=None, force_text_dnn=None,\n",
            "                                 is_cross_validation=None,\n",
            "                                 is_onnx_compatible=None, logger=None,\n",
            "                                 observer=None, task=None, working_dir=None)),\n",
            "                ('prefittedsoftvotingclassifier',...\n",
            "                                                                                                  min_samples_split=0.15052631578947367,\n",
            "                                                                                                  min_weight_fraction_leaf=0.0,\n",
            "                                                                                                  n_estimators=10,\n",
            "                                                                                                  n_jobs=1,\n",
            "                                                                                                  oob_score=True,\n",
            "                                                                                                  random_state=None,\n",
            "                                                                                                  verbose=0,\n",
            "                                                                                                  warm_start=False))],\n",
            "                                                                     verbose=False))],\n",
            "                                               flatten_transform=None,\n",
            "                                               weights=[0.1111111111111111,\n",
            "                                                        0.1111111111111111,\n",
            "                                                        0.1111111111111111,\n",
            "                                                        0.1111111111111111,\n",
            "                                                        0.1111111111111111,\n",
            "                                                        0.1111111111111111,\n",
            "                                                        0.1111111111111111,\n",
            "                                                        0.2222222222222222]))],\n",
            "         verbose=False)\n",
            "Y_transformer(['LabelEncoder', LabelEncoder()])\n",
            "Best run id: AutoML_14aceda5-4c46-4098-80d8-d344fee3e887_38\n",
            "################################\n",
            "\n",
            " Accuracy: 0.8470996737662964\n",
            "################################\n",
            "\n",
            " Learning rate: []\n",
            "################################\n"
          ]
        },
        {
          "output_type": "execute_result",
          "execution_count": 15,
          "data": {
            "text/plain": "{'_aml_system_azureml.automlComponent': 'AutoML',\n '_aml_system_ComputeTargetStatus': '{\"AllocationState\":\"steady\",\"PreparingNodeCount\":0,\"RunningNodeCount\":3,\"CurrentNodeCount\":5}',\n 'ensembled_iterations': '[1, 29, 21, 26, 31, 2, 6, 16]',\n 'ensembled_algorithms': \"['XGBoostClassifier', 'LightGBM', 'XGBoostClassifier', 'LightGBM', 'LightGBM', 'RandomForest', 'ExtremeRandomTrees', 'ExtremeRandomTrees']\",\n 'ensemble_weights': '[0.1111111111111111, 0.1111111111111111, 0.1111111111111111, 0.1111111111111111, 0.1111111111111111, 0.1111111111111111, 0.1111111111111111, 0.2222222222222222]',\n 'best_individual_pipeline_score': '0.8366210317228242',\n 'best_individual_iteration': '1',\n '_aml_system_automl_is_child_run_end_telemetry_event_logged': 'True',\n 'model_explain_run_id': 'AutoML_14aceda5-4c46-4098-80d8-d344fee3e887_ModelExplain',\n 'model_explanation': 'True'}"
          },
          "metadata": {}
        }
      ],
      "execution_count": 15,
      "metadata": {
        "gather": {
          "logged": 1611178142472
        },
        "jupyter": {
          "outputs_hidden": false,
          "source_hidden": false
        },
        "nteract": {
          "transient": {
            "deleting": false
          }
        }
      }
    },
    {
      "cell_type": "code",
      "source": [
        "\n",
        "best_run.get_file_names()\n",
        "joblib.dump(parameter_values,filename='./output/Capstone_automl_best.joblib')"
      ],
      "outputs": [
        {
          "output_type": "execute_result",
          "execution_count": 17,
          "data": {
            "text/plain": "['./output/Capstone_automl_best.joblib']"
          },
          "metadata": {}
        }
      ],
      "execution_count": 17,
      "metadata": {
        "gather": {
          "logged": 1611178212219
        },
        "jupyter": {
          "outputs_hidden": false,
          "source_hidden": false
        },
        "nteract": {
          "transient": {
            "deleting": false
          }
        }
      }
    },
    {
      "cell_type": "markdown",
      "source": [
        "## Model Deployment\n",
        "\n",
        "Remember you have to deploy only one of the two models you trained.. Perform the steps in the rest of this notebook only if you wish to deploy this model.\n",
        "\n",
        "TODO: In the cell below, register the model, create an inference config and deploy the model as a web service."
      ],
      "metadata": {}
    },
    {
      "cell_type": "code",
      "source": [],
      "outputs": [],
      "execution_count": null,
      "metadata": {
        "gather": {
          "logged": 1598431435189
        },
        "jupyter": {
          "outputs_hidden": false,
          "source_hidden": false
        },
        "nteract": {
          "transient": {
            "deleting": false
          }
        }
      }
    },
    {
      "cell_type": "markdown",
      "source": [
        "TODO: In the cell below, send a request to the web service you deployed to test it."
      ],
      "metadata": {
        "collapsed": true,
        "gather": {
          "logged": 1598431657736
        },
        "jupyter": {
          "outputs_hidden": false,
          "source_hidden": false
        },
        "nteract": {
          "transient": {
            "deleting": false
          }
        }
      }
    },
    {
      "cell_type": "code",
      "source": [],
      "outputs": [],
      "execution_count": null,
      "metadata": {
        "gather": {
          "logged": 1598432707604
        },
        "jupyter": {
          "outputs_hidden": false,
          "source_hidden": false
        },
        "nteract": {
          "transient": {
            "deleting": false
          }
        }
      }
    },
    {
      "cell_type": "markdown",
      "source": [
        "TODO: In the cell below, print the logs of the web service and delete the service"
      ],
      "metadata": {
        "collapsed": true,
        "gather": {
          "logged": 1598432765711
        },
        "jupyter": {
          "outputs_hidden": false,
          "source_hidden": false
        },
        "nteract": {
          "transient": {
            "deleting": false
          }
        }
      }
    },
    {
      "cell_type": "code",
      "source": [],
      "outputs": [],
      "execution_count": null,
      "metadata": {
        "jupyter": {
          "outputs_hidden": false,
          "source_hidden": false
        },
        "nteract": {
          "transient": {
            "deleting": false
          }
        }
      }
    }
  ],
  "metadata": {
    "kernel_info": {
      "name": "python3"
    },
    "kernelspec": {
      "name": "python3",
      "language": "python",
      "display_name": "Python 3"
    },
    "language_info": {
      "name": "python",
      "version": "3.6.9",
      "mimetype": "text/x-python",
      "codemirror_mode": {
        "name": "ipython",
        "version": 3
      },
      "pygments_lexer": "ipython3",
      "nbconvert_exporter": "python",
      "file_extension": ".py"
    },
    "nteract": {
      "version": "nteract-front-end@1.0.0"
    }
  },
  "nbformat": 4,
  "nbformat_minor": 2
}