{
 "cells": [
  {
   "cell_type": "markdown",
   "metadata": {},
   "source": [
    "# Automated ML\n",
    "\n",
    "Import Dependencies. "
   ]
  },
  {
   "cell_type": "code",
   "execution_count": 4,
   "metadata": {
    "gather": {
     "logged": 1612430254592
    },
    "jupyter": {
     "outputs_hidden": false,
     "source_hidden": false
    },
    "nteract": {
     "transient": {
      "deleting": false
     }
    }
   },
   "outputs": [
    {
     "name": "stdout",
     "output_type": "stream",
     "text": [
      "SDK version: 1.20.0\n"
     ]
    }
   ],
   "source": [
    "import logging\n",
    "import os\n",
    "import csv\n",
    "\n",
    "from matplotlib import pyplot as plt\n",
    "import numpy as np\n",
    "import pandas as pd\n",
    "from sklearn import datasets\n",
    "import pkg_resources\n",
    "\n",
    "import azureml.core\n",
    "from azureml.core.experiment import Experiment\n",
    "from azureml.core.workspace import Workspace\n",
    "from azureml.train.automl import AutoMLConfig\n",
    "from azureml.core.dataset import Dataset\n",
    "\n",
    "from azureml.pipeline.steps import AutoMLStep\n",
    "\n",
    "#!pip install azureml-sdk==1.19.0\n",
    "\n",
    "# Check core SDK version number\n",
    "print(\"SDK version:\", azureml.core.VERSION)"
   ]
  },
  {
   "cell_type": "markdown",
   "metadata": {},
   "source": [
    "## Dataset\n",
    "\n",
    "### Overview\n",
    "I will be using a diabetes dataset from datahub.io dataset on gestational diabetes. https://datahub.io/machine-learning/diabetes/r/diabetes.csv\n",
    "This dataset will aid to forecast gestational diabetes in women.\n"
   ]
  },
  {
   "cell_type": "code",
   "execution_count": 5,
   "metadata": {
    "collapsed": true,
    "gather": {
     "logged": 1612430445294
    },
    "jupyter": {
     "outputs_hidden": false,
     "source_hidden": false
    },
    "nteract": {
     "transient": {
      "deleting": false
     }
    }
   },
   "outputs": [
    {
     "name": "stdout",
     "output_type": "stream",
     "text": [
      "trn-aue-aa-ml\n",
      "trn-aue-advanced-analytics-ml\n",
      "australiaeast\n",
      "8a086c9c-5530-4791-89af-62c8cdfda3fd\n",
      "Found existing cluster, use it.\n",
      "Succeeded....................................\n",
      "AmlCompute wait for completion finished\n",
      "\n",
      "Wait timeout has been reached\n",
      "Current provisioning state of AmlCompute is \"Succeeded\" and current node count is \"0\"\n"
     ]
    },
    {
     "data": {
      "text/html": [
       "<div>\n",
       "<style scoped>\n",
       "    .dataframe tbody tr th:only-of-type {\n",
       "        vertical-align: middle;\n",
       "    }\n",
       "\n",
       "    .dataframe tbody tr th {\n",
       "        vertical-align: top;\n",
       "    }\n",
       "\n",
       "    .dataframe thead th {\n",
       "        text-align: right;\n",
       "    }\n",
       "</style>\n",
       "<table border=\"1\" class=\"dataframe\">\n",
       "  <thead>\n",
       "    <tr style=\"text-align: right;\">\n",
       "      <th></th>\n",
       "      <th>preg</th>\n",
       "      <th>plas</th>\n",
       "      <th>pres</th>\n",
       "      <th>skin</th>\n",
       "      <th>insu</th>\n",
       "      <th>mass</th>\n",
       "      <th>pedi</th>\n",
       "      <th>age</th>\n",
       "    </tr>\n",
       "  </thead>\n",
       "  <tbody>\n",
       "    <tr>\n",
       "      <th>count</th>\n",
       "      <td>768.000000</td>\n",
       "      <td>768.000000</td>\n",
       "      <td>768.000000</td>\n",
       "      <td>768.000000</td>\n",
       "      <td>768.000000</td>\n",
       "      <td>768.000000</td>\n",
       "      <td>768.000000</td>\n",
       "      <td>768.000000</td>\n",
       "    </tr>\n",
       "    <tr>\n",
       "      <th>mean</th>\n",
       "      <td>3.845052</td>\n",
       "      <td>120.894531</td>\n",
       "      <td>69.105469</td>\n",
       "      <td>20.536458</td>\n",
       "      <td>79.799479</td>\n",
       "      <td>31.992578</td>\n",
       "      <td>0.471876</td>\n",
       "      <td>33.240885</td>\n",
       "    </tr>\n",
       "    <tr>\n",
       "      <th>std</th>\n",
       "      <td>3.369578</td>\n",
       "      <td>31.972618</td>\n",
       "      <td>19.355807</td>\n",
       "      <td>15.952218</td>\n",
       "      <td>115.244002</td>\n",
       "      <td>7.884160</td>\n",
       "      <td>0.331329</td>\n",
       "      <td>11.760232</td>\n",
       "    </tr>\n",
       "    <tr>\n",
       "      <th>min</th>\n",
       "      <td>0.000000</td>\n",
       "      <td>0.000000</td>\n",
       "      <td>0.000000</td>\n",
       "      <td>0.000000</td>\n",
       "      <td>0.000000</td>\n",
       "      <td>0.000000</td>\n",
       "      <td>0.078000</td>\n",
       "      <td>21.000000</td>\n",
       "    </tr>\n",
       "    <tr>\n",
       "      <th>25%</th>\n",
       "      <td>1.000000</td>\n",
       "      <td>99.000000</td>\n",
       "      <td>62.000000</td>\n",
       "      <td>0.000000</td>\n",
       "      <td>0.000000</td>\n",
       "      <td>27.300000</td>\n",
       "      <td>0.243750</td>\n",
       "      <td>24.000000</td>\n",
       "    </tr>\n",
       "    <tr>\n",
       "      <th>50%</th>\n",
       "      <td>3.000000</td>\n",
       "      <td>117.000000</td>\n",
       "      <td>72.000000</td>\n",
       "      <td>23.000000</td>\n",
       "      <td>30.500000</td>\n",
       "      <td>32.000000</td>\n",
       "      <td>0.372500</td>\n",
       "      <td>29.000000</td>\n",
       "    </tr>\n",
       "    <tr>\n",
       "      <th>75%</th>\n",
       "      <td>6.000000</td>\n",
       "      <td>140.250000</td>\n",
       "      <td>80.000000</td>\n",
       "      <td>32.000000</td>\n",
       "      <td>127.250000</td>\n",
       "      <td>36.600000</td>\n",
       "      <td>0.626250</td>\n",
       "      <td>41.000000</td>\n",
       "    </tr>\n",
       "    <tr>\n",
       "      <th>max</th>\n",
       "      <td>17.000000</td>\n",
       "      <td>199.000000</td>\n",
       "      <td>122.000000</td>\n",
       "      <td>99.000000</td>\n",
       "      <td>846.000000</td>\n",
       "      <td>67.100000</td>\n",
       "      <td>2.420000</td>\n",
       "      <td>81.000000</td>\n",
       "    </tr>\n",
       "  </tbody>\n",
       "</table>\n",
       "</div>"
      ],
      "text/plain": [
       "             preg        plas        pres        skin        insu        mass  \\\n",
       "count  768.000000  768.000000  768.000000  768.000000  768.000000  768.000000   \n",
       "mean     3.845052  120.894531   69.105469   20.536458   79.799479   31.992578   \n",
       "std      3.369578   31.972618   19.355807   15.952218  115.244002    7.884160   \n",
       "min      0.000000    0.000000    0.000000    0.000000    0.000000    0.000000   \n",
       "25%      1.000000   99.000000   62.000000    0.000000    0.000000   27.300000   \n",
       "50%      3.000000  117.000000   72.000000   23.000000   30.500000   32.000000   \n",
       "75%      6.000000  140.250000   80.000000   32.000000  127.250000   36.600000   \n",
       "max     17.000000  199.000000  122.000000   99.000000  846.000000   67.100000   \n",
       "\n",
       "             pedi         age  \n",
       "count  768.000000  768.000000  \n",
       "mean     0.471876   33.240885  \n",
       "std      0.331329   11.760232  \n",
       "min      0.078000   21.000000  \n",
       "25%      0.243750   24.000000  \n",
       "50%      0.372500   29.000000  \n",
       "75%      0.626250   41.000000  \n",
       "max      2.420000   81.000000  "
      ]
     },
     "execution_count": 5,
     "metadata": {},
     "output_type": "execute_result"
    }
   ],
   "source": [
    "from azureml.core.compute_target import ComputeTargetException\n",
    "from azureml.core.compute import AmlCompute\n",
    "from azureml.core.compute import ComputeTarget\n",
    "\n",
    "ws = Workspace.from_config()\n",
    "print(ws.name, ws.resource_group, ws.location, ws.subscription_id, sep = '\\n')\n",
    "\n",
    "# NOTE: update the cluster name to match the existing cluster\n",
    "# Choose a name for your CPU cluster\n",
    "amlcompute_cluster_name = \"pimadiabetes\"\n",
    "\n",
    "# Verify that cluster does not exist already\n",
    "try:\n",
    "    compute_target = ComputeTarget(workspace=ws, name=amlcompute_cluster_name)\n",
    "    print('Found existing cluster, use it.')\n",
    "except ComputeTargetException:\n",
    "    compute_config = AmlCompute.provisioning_configuration(vm_size='STANDARD_DS2_V12',# for GPU, use \"STANDARD_NC6\"\n",
    "                                                           #vm_priority = 'lowpriority', # optional\n",
    "                                                           max_nodes=5)\n",
    "    compute_target = ComputeTarget.create(ws, amlcompute_cluster_name, compute_config)\n",
    "\n",
    "compute_target.wait_for_completion(show_output=True, min_node_count = 1, timeout_in_minutes = 3)\n",
    "# For a more detailed view of current AmlCompute status, use get_status().\n",
    "\n",
    "###################\n",
    "# Define Dataset\n",
    "###################\n",
    "found = False\n",
    "key = \"pimadiabetes\"\n",
    "description_text = \"Capstone Project - Forecast Diabetes\"\n",
    "\n",
    "if key in ws.datasets.keys(): \n",
    "        found = True\n",
    "        dataset = ws.datasets[key] \n",
    "\n",
    "if not found:\n",
    "        # Create AML Dataset and register it into Workspace\n",
    "        example_data = 'https://datahub.io/machine-learning/diabetes/r/diabetes.csv'\n",
    "        dataset = Dataset.Tabular.from_delimited_files(example_data)        \n",
    "        #Register Dataset in Workspace\n",
    "        dataset = dataset.register(workspace=ws,\n",
    "                                   name=key,\n",
    "                                   description=description_text)\n",
    "\n",
    "\n",
    "df = dataset.to_pandas_dataframe()\n",
    "df.describe()"
   ]
  },
  {
   "cell_type": "code",
   "execution_count": 6,
   "metadata": {
    "gather": {
     "logged": 1612432573229
    },
    "jupyter": {
     "outputs_hidden": false,
     "source_hidden": false
    },
    "nteract": {
     "transient": {
      "deleting": false
     }
    }
   },
   "outputs": [],
   "source": [
    "# choose a name for experiment\n",
    "experiment_name = 'automlpimadiabetesNoFeat'\n",
    "project_folder = './Augusto_Avila/capstone'\n",
    "\n",
    "experiment=Experiment(ws, experiment_name)"
   ]
  },
  {
   "cell_type": "markdown",
   "metadata": {},
   "source": [
    "## AutoML Configuration\n",
    "\n",
    "Choosing a classification model to predict the likelihood of gestational diabetes, the variable class will hold the forecasted value and will be using the \n",
    "AUC_weighed metric as the result of initial automl experiment execution as the primary metric"
   ]
  },
  {
   "cell_type": "code",
   "execution_count": 7,
   "metadata": {
    "gather": {
     "logged": 1612432583492
    },
    "jupyter": {
     "outputs_hidden": false,
     "source_hidden": false
    },
    "nteract": {
     "transient": {
      "deleting": false
     }
    }
   },
   "outputs": [],
   "source": [
    "automl_settings = {\n",
    "    \"experiment_timeout_minutes\": 60,\n",
    "    \"max_concurrent_iterations\": 5,\n",
    "    \"primary_metric\" : 'AUC_weighted'\n",
    "}\n",
    "automl_config = AutoMLConfig(compute_target=amlcompute_cluster_name,\n",
    "                             task = \"classification\",\n",
    "                             training_data=dataset,\n",
    "                             label_column_name=\"class\",   \n",
    "                             path = project_folder,\n",
    "                             enable_early_stopping= True,\n",
    "                             enable_onnx_compatible_models=True,\n",
    "                             featurization= 'auto',\n",
    "                             debug_log = \"automl_errors.log\",\n",
    "                             **automl_settings\n",
    "                            )\n"
   ]
  },
  {
   "cell_type": "code",
   "execution_count": 8,
   "metadata": {
    "gather": {
     "logged": 1612218879357
    },
    "jupyter": {
     "outputs_hidden": false,
     "source_hidden": false
    },
    "nteract": {
     "transient": {
      "deleting": false
     }
    }
   },
   "outputs": [
    {
     "name": "stdout",
     "output_type": "stream",
     "text": [
      "Running on remote.\n",
      "No run_configuration provided, running on pimadiabetes with default configuration\n",
      "Running on remote compute: pimadiabetes\n",
      "Parent Run ID: AutoML_fb57bb5b-6d97-45b1-aa8c-de8c5dc27fca\n",
      "\n",
      "Current status: FeaturesGeneration. Generating features for the dataset.\n",
      "Current status: DatasetCrossValidationSplit. Generating individually featurized CV splits.\n",
      "Current status: ModelSelection. Beginning model selection.\n",
      "\n",
      "****************************************************************************************************\n",
      "DATA GUARDRAILS: \n",
      "\n",
      "TYPE:         Cross validation\n",
      "STATUS:       DONE\n",
      "DESCRIPTION:  Each iteration of the trained model was validated through cross-validation.\n",
      "              \n",
      "DETAILS:      \n",
      "+---------------------------------+\n",
      "|Number of folds                  |\n",
      "+=================================+\n",
      "|10                               |\n",
      "+---------------------------------+\n",
      "\n",
      "****************************************************************************************************\n",
      "\n",
      "TYPE:         Class balancing detection\n",
      "STATUS:       PASSED\n",
      "DESCRIPTION:  Your inputs were analyzed, and all classes are balanced in your training data.\n",
      "              Learn more about imbalanced data: https://aka.ms/AutomatedMLImbalancedData\n",
      "\n",
      "****************************************************************************************************\n",
      "\n",
      "TYPE:         Missing feature values imputation\n",
      "STATUS:       PASSED\n",
      "DESCRIPTION:  No feature missing values were detected in the training data.\n",
      "              Learn more about missing value imputation: https://aka.ms/AutomatedMLFeaturization\n",
      "\n",
      "****************************************************************************************************\n",
      "\n",
      "TYPE:         High cardinality feature detection\n",
      "STATUS:       PASSED\n",
      "DESCRIPTION:  Your inputs were analyzed, and no high cardinality features were detected.\n",
      "              Learn more about high cardinality feature handling: https://aka.ms/AutomatedMLFeaturization\n",
      "\n",
      "****************************************************************************************************\n",
      "\n",
      "****************************************************************************************************\n",
      "ITERATION: The iteration being evaluated.\n",
      "PIPELINE: A summary description of the pipeline being evaluated.\n",
      "DURATION: Time taken for the current iteration.\n",
      "METRIC: The result of computing score on the fitted pipeline.\n",
      "BEST: The best observed score thus far.\n",
      "****************************************************************************************************\n",
      "\n",
      " ITERATION   PIPELINE                                       DURATION      METRIC      BEST\n",
      "         1   MaxAbsScaler XGBoostClassifier                 0:02:07       0.8366    0.8366\n",
      "         3   MaxAbsScaler RandomForest                      0:02:08       0.8305    0.8366\n",
      "         0   MaxAbsScaler LightGBM                          0:02:16       0.7981    0.8366\n",
      "         2   MaxAbsScaler RandomForest                      0:02:09       0.8258    0.8366\n",
      "         5   MaxAbsScaler ExtremeRandomTrees                0:02:11       0.8120    0.8366\n",
      "         4   MaxAbsScaler RandomForest                      0:02:22       0.8210    0.8366\n",
      "         6   MaxAbsScaler ExtremeRandomTrees                0:02:13       0.8149    0.8366\n",
      "         8   MaxAbsScaler RandomForest                      0:02:00       0.8013    0.8366\n",
      "        10   MaxAbsScaler RandomForest                      0:02:01       0.8086    0.8366\n",
      "         7   MaxAbsScaler ExtremeRandomTrees                0:02:16       0.7928    0.8366\n",
      "         9   MaxAbsScaler ExtremeRandomTrees                0:02:13       0.7776    0.8366\n"
     ]
    }
   ],
   "source": [
    "## Submit Experiment\n",
    "\n",
    "from azureml.widgets import RunDetails\n",
    "from azureml.core.run import Run\n",
    "\n",
    "remote_run = experiment.submit(automl_config,show_output=True)\n"
   ]
  },
  {
   "cell_type": "markdown",
   "metadata": {},
   "source": [
    "## Run Details\n",
    "\n"
   ]
  },
  {
   "cell_type": "code",
   "execution_count": 10,
   "metadata": {
    "gather": {
     "logged": 1612435149406
    },
    "jupyter": {
     "outputs_hidden": false,
     "source_hidden": false
    },
    "nteract": {
     "transient": {
      "deleting": false
     }
    }
   },
   "outputs": [
    {
     "data": {
      "application/vnd.jupyter.widget-view+json": {
       "model_id": "8bb8efa62dbe485c8f3bb16ff8f5176a",
       "version_major": 2,
       "version_minor": 0
      },
      "text/plain": [
       "_AutoMLWidget(widget_settings={'childWidgetDisplay': 'popup', 'send_telemetry': False, 'log_level': 'INFO', 's…"
      ]
     },
     "metadata": {},
     "output_type": "display_data"
    },
    {
     "data": {
      "application/aml.mini.widget.v1": "{\"status\": \"Completed\", \"workbench_run_details_uri\": \"https://ml.azure.com/experiments/automlpimadiabetesNoFeat/runs/AutoML_fb57bb5b-6d97-45b1-aa8c-de8c5dc27fca?wsid=/subscriptions/8a086c9c-5530-4791-89af-62c8cdfda3fd/resourcegroups/trn-aue-advanced-analytics-ml/workspaces/trn-aue-aa-ml\", \"run_id\": \"AutoML_fb57bb5b-6d97-45b1-aa8c-de8c5dc27fca\", \"run_properties\": {\"run_id\": \"AutoML_fb57bb5b-6d97-45b1-aa8c-de8c5dc27fca\", \"created_utc\": \"2021-02-04T09:56:37.694883Z\", \"properties\": {\"num_iterations\": \"1000\", \"training_type\": \"TrainFull\", \"acquisition_function\": \"EI\", \"primary_metric\": \"AUC_weighted\", \"train_split\": \"0\", \"acquisition_parameter\": \"0\", \"num_cross_validation\": null, \"target\": \"pimadiabetes\", \"AMLSettingsJsonString\": \"{\\\"path\\\":null,\\\"name\\\":\\\"automlpimadiabetesNoFeat\\\",\\\"subscription_id\\\":\\\"8a086c9c-5530-4791-89af-62c8cdfda3fd\\\",\\\"resource_group\\\":\\\"trn-aue-advanced-analytics-ml\\\",\\\"workspace_name\\\":\\\"trn-aue-aa-ml\\\",\\\"region\\\":\\\"australiaeast\\\",\\\"compute_target\\\":\\\"pimadiabetes\\\",\\\"spark_service\\\":null,\\\"azure_service\\\":\\\"remote\\\",\\\"many_models\\\":false,\\\"pipeline_fetch_max_batch_size\\\":1,\\\"iterations\\\":1000,\\\"primary_metric\\\":\\\"AUC_weighted\\\",\\\"task_type\\\":\\\"classification\\\",\\\"data_script\\\":null,\\\"validation_size\\\":0.0,\\\"n_cross_validations\\\":null,\\\"y_min\\\":null,\\\"y_max\\\":null,\\\"num_classes\\\":null,\\\"featurization\\\":\\\"auto\\\",\\\"_ignore_package_version_incompatibilities\\\":false,\\\"is_timeseries\\\":false,\\\"max_cores_per_iteration\\\":1,\\\"max_concurrent_iterations\\\":5,\\\"iteration_timeout_minutes\\\":null,\\\"mem_in_mb\\\":null,\\\"enforce_time_on_windows\\\":false,\\\"experiment_timeout_minutes\\\":60,\\\"experiment_exit_score\\\":null,\\\"whitelist_models\\\":null,\\\"blacklist_algos\\\":[\\\"TensorFlowLinearClassifier\\\",\\\"TensorFlowDNN\\\"],\\\"supported_models\\\":[\\\"ExtremeRandomTrees\\\",\\\"LogisticRegression\\\",\\\"XGBoostClassifier\\\",\\\"SVM\\\",\\\"GradientBoosting\\\",\\\"TensorFlowDNN\\\",\\\"KNN\\\",\\\"RandomForest\\\",\\\"SGD\\\",\\\"BernoulliNaiveBayes\\\",\\\"LinearSVM\\\",\\\"DecisionTree\\\",\\\"TensorFlowLinearClassifier\\\",\\\"LightGBM\\\",\\\"AveragedPerceptronClassifier\\\",\\\"MultinomialNaiveBayes\\\"],\\\"auto_blacklist\\\":true,\\\"blacklist_samples_reached\\\":false,\\\"exclude_nan_labels\\\":true,\\\"verbosity\\\":20,\\\"_debug_log\\\":\\\"azureml_automl.log\\\",\\\"show_warnings\\\":false,\\\"model_explainability\\\":true,\\\"service_url\\\":null,\\\"sdk_url\\\":null,\\\"sdk_packages\\\":null,\\\"enable_onnx_compatible_models\\\":true,\\\"enable_split_onnx_featurizer_estimator_models\\\":false,\\\"vm_type\\\":\\\"STANDARD_DS12_V2\\\",\\\"telemetry_verbosity\\\":20,\\\"send_telemetry\\\":true,\\\"enable_dnn\\\":false,\\\"scenario\\\":\\\"SDK-1.13.0\\\",\\\"environment_label\\\":null,\\\"force_text_dnn\\\":false,\\\"enable_feature_sweeping\\\":false,\\\"enable_early_stopping\\\":true,\\\"early_stopping_n_iters\\\":10,\\\"metrics\\\":null,\\\"enable_ensembling\\\":true,\\\"enable_stack_ensembling\\\":false,\\\"ensemble_iterations\\\":15,\\\"enable_tf\\\":false,\\\"enable_subsampling\\\":null,\\\"subsample_seed\\\":null,\\\"enable_nimbusml\\\":false,\\\"enable_streaming\\\":false,\\\"force_streaming\\\":false,\\\"track_child_runs\\\":true,\\\"allowed_private_models\\\":[],\\\"label_column_name\\\":\\\"class\\\",\\\"weight_column_name\\\":null,\\\"cv_split_column_names\\\":null,\\\"enable_local_managed\\\":false,\\\"_local_managed_run_id\\\":null,\\\"cost_mode\\\":1,\\\"lag_length\\\":0,\\\"metric_operation\\\":\\\"maximize\\\",\\\"preprocess\\\":true}\", \"DataPrepJsonString\": \"{\\\\\\\"training_data\\\\\\\": \\\\\\\"{\\\\\\\\\\\\\\\"blocks\\\\\\\\\\\\\\\": [{\\\\\\\\\\\\\\\"id\\\\\\\\\\\\\\\": \\\\\\\\\\\\\\\"40256732-caf5-4231-aa61-100bc802370b\\\\\\\\\\\\\\\", \\\\\\\\\\\\\\\"type\\\\\\\\\\\\\\\": \\\\\\\\\\\\\\\"Microsoft.DPrep.GetDatastoreFilesBlock\\\\\\\\\\\\\\\", \\\\\\\\\\\\\\\"arguments\\\\\\\\\\\\\\\": {\\\\\\\\\\\\\\\"datastores\\\\\\\\\\\\\\\": [{\\\\\\\\\\\\\\\"datastoreName\\\\\\\\\\\\\\\": \\\\\\\\\\\\\\\"workspaceblobstore\\\\\\\\\\\\\\\", \\\\\\\\\\\\\\\"path\\\\\\\\\\\\\\\": \\\\\\\\\\\\\\\"UI/01-26-2021_082414_UTC/diabetes_csv.csv\\\\\\\\\\\\\\\", \\\\\\\\\\\\\\\"resourceGroup\\\\\\\\\\\\\\\": \\\\\\\\\\\\\\\"trn-aue-advanced-analytics-ml\\\\\\\\\\\\\\\", \\\\\\\\\\\\\\\"subscription\\\\\\\\\\\\\\\": \\\\\\\\\\\\\\\"8a086c9c-5530-4791-89af-62c8cdfda3fd\\\\\\\\\\\\\\\", \\\\\\\\\\\\\\\"workspaceName\\\\\\\\\\\\\\\": \\\\\\\\\\\\\\\"trn-aue-aa-ml\\\\\\\\\\\\\\\"}]}, \\\\\\\\\\\\\\\"localData\\\\\\\\\\\\\\\": {}, \\\\\\\\\\\\\\\"isEnabled\\\\\\\\\\\\\\\": true, \\\\\\\\\\\\\\\"name\\\\\\\\\\\\\\\": null, \\\\\\\\\\\\\\\"annotation\\\\\\\\\\\\\\\": null}, {\\\\\\\\\\\\\\\"id\\\\\\\\\\\\\\\": \\\\\\\\\\\\\\\"7585aae3-de77-49af-b03a-fc49e7d03f0b\\\\\\\\\\\\\\\", \\\\\\\\\\\\\\\"type\\\\\\\\\\\\\\\": \\\\\\\\\\\\\\\"Microsoft.DPrep.ParseDelimitedBlock\\\\\\\\\\\\\\\", \\\\\\\\\\\\\\\"arguments\\\\\\\\\\\\\\\": {\\\\\\\\\\\\\\\"columnHeadersMode\\\\\\\\\\\\\\\": 1, \\\\\\\\\\\\\\\"fileEncoding\\\\\\\\\\\\\\\": 0, \\\\\\\\\\\\\\\"handleQuotedLineBreaks\\\\\\\\\\\\\\\": false, \\\\\\\\\\\\\\\"preview\\\\\\\\\\\\\\\": false, \\\\\\\\\\\\\\\"separator\\\\\\\\\\\\\\\": \\\\\\\\\\\\\\\",\\\\\\\\\\\\\\\", \\\\\\\\\\\\\\\"skipRows\\\\\\\\\\\\\\\": 0, \\\\\\\\\\\\\\\"skipRowsMode\\\\\\\\\\\\\\\": 0}, \\\\\\\\\\\\\\\"localData\\\\\\\\\\\\\\\": {}, \\\\\\\\\\\\\\\"isEnabled\\\\\\\\\\\\\\\": true, \\\\\\\\\\\\\\\"name\\\\\\\\\\\\\\\": null, \\\\\\\\\\\\\\\"annotation\\\\\\\\\\\\\\\": null}, {\\\\\\\\\\\\\\\"id\\\\\\\\\\\\\\\": \\\\\\\\\\\\\\\"2a4a8c85-06e5-473c-8e9d-66a1caae4b31\\\\\\\\\\\\\\\", \\\\\\\\\\\\\\\"type\\\\\\\\\\\\\\\": \\\\\\\\\\\\\\\"Microsoft.DPrep.DropColumnsBlock\\\\\\\\\\\\\\\", \\\\\\\\\\\\\\\"arguments\\\\\\\\\\\\\\\": {\\\\\\\\\\\\\\\"columns\\\\\\\\\\\\\\\": {\\\\\\\\\\\\\\\"type\\\\\\\\\\\\\\\": 0, \\\\\\\\\\\\\\\"details\\\\\\\\\\\\\\\": {\\\\\\\\\\\\\\\"selectedColumns\\\\\\\\\\\\\\\": [\\\\\\\\\\\\\\\"Path\\\\\\\\\\\\\\\"]}}}, \\\\\\\\\\\\\\\"localData\\\\\\\\\\\\\\\": {}, \\\\\\\\\\\\\\\"isEnabled\\\\\\\\\\\\\\\": true, \\\\\\\\\\\\\\\"name\\\\\\\\\\\\\\\": null, \\\\\\\\\\\\\\\"annotation\\\\\\\\\\\\\\\": null}, {\\\\\\\\\\\\\\\"id\\\\\\\\\\\\\\\": \\\\\\\\\\\\\\\"648ce0d8-a8e2-4da0-9c92-19ec61f9e142\\\\\\\\\\\\\\\", \\\\\\\\\\\\\\\"type\\\\\\\\\\\\\\\": \\\\\\\\\\\\\\\"Microsoft.DPrep.SetColumnTypesBlock\\\\\\\\\\\\\\\", \\\\\\\\\\\\\\\"arguments\\\\\\\\\\\\\\\": {\\\\\\\\\\\\\\\"columnConversion\\\\\\\\\\\\\\\": [{\\\\\\\\\\\\\\\"column\\\\\\\\\\\\\\\": {\\\\\\\\\\\\\\\"type\\\\\\\\\\\\\\\": 2, \\\\\\\\\\\\\\\"details\\\\\\\\\\\\\\\": {\\\\\\\\\\\\\\\"selectedColumn\\\\\\\\\\\\\\\": \\\\\\\\\\\\\\\"Path\\\\\\\\\\\\\\\"}}, \\\\\\\\\\\\\\\"typeProperty\\\\\\\\\\\\\\\": 0}, {\\\\\\\\\\\\\\\"column\\\\\\\\\\\\\\\": {\\\\\\\\\\\\\\\"type\\\\\\\\\\\\\\\": 2, \\\\\\\\\\\\\\\"details\\\\\\\\\\\\\\\": {\\\\\\\\\\\\\\\"selectedColumn\\\\\\\\\\\\\\\": \\\\\\\\\\\\\\\"preg\\\\\\\\\\\\\\\"}}, \\\\\\\\\\\\\\\"typeProperty\\\\\\\\\\\\\\\": 2}, {\\\\\\\\\\\\\\\"column\\\\\\\\\\\\\\\": {\\\\\\\\\\\\\\\"type\\\\\\\\\\\\\\\": 2, \\\\\\\\\\\\\\\"details\\\\\\\\\\\\\\\": {\\\\\\\\\\\\\\\"selectedColumn\\\\\\\\\\\\\\\": \\\\\\\\\\\\\\\"plas\\\\\\\\\\\\\\\"}}, \\\\\\\\\\\\\\\"typeProperty\\\\\\\\\\\\\\\": 2}, {\\\\\\\\\\\\\\\"column\\\\\\\\\\\\\\\": {\\\\\\\\\\\\\\\"type\\\\\\\\\\\\\\\": 2, \\\\\\\\\\\\\\\"details\\\\\\\\\\\\\\\": {\\\\\\\\\\\\\\\"selectedColumn\\\\\\\\\\\\\\\": \\\\\\\\\\\\\\\"pres\\\\\\\\\\\\\\\"}}, \\\\\\\\\\\\\\\"typeProperty\\\\\\\\\\\\\\\": 2}, {\\\\\\\\\\\\\\\"column\\\\\\\\\\\\\\\": {\\\\\\\\\\\\\\\"type\\\\\\\\\\\\\\\": 2, \\\\\\\\\\\\\\\"details\\\\\\\\\\\\\\\": {\\\\\\\\\\\\\\\"selectedColumn\\\\\\\\\\\\\\\": \\\\\\\\\\\\\\\"skin\\\\\\\\\\\\\\\"}}, \\\\\\\\\\\\\\\"typeProperty\\\\\\\\\\\\\\\": 2}, {\\\\\\\\\\\\\\\"column\\\\\\\\\\\\\\\": {\\\\\\\\\\\\\\\"type\\\\\\\\\\\\\\\": 2, \\\\\\\\\\\\\\\"details\\\\\\\\\\\\\\\": {\\\\\\\\\\\\\\\"selectedColumn\\\\\\\\\\\\\\\": \\\\\\\\\\\\\\\"insu\\\\\\\\\\\\\\\"}}, \\\\\\\\\\\\\\\"typeProperty\\\\\\\\\\\\\\\": 2}, {\\\\\\\\\\\\\\\"column\\\\\\\\\\\\\\\": {\\\\\\\\\\\\\\\"type\\\\\\\\\\\\\\\": 2, \\\\\\\\\\\\\\\"details\\\\\\\\\\\\\\\": {\\\\\\\\\\\\\\\"selectedColumn\\\\\\\\\\\\\\\": \\\\\\\\\\\\\\\"mass\\\\\\\\\\\\\\\"}}, \\\\\\\\\\\\\\\"typeProperty\\\\\\\\\\\\\\\": 3}, {\\\\\\\\\\\\\\\"column\\\\\\\\\\\\\\\": {\\\\\\\\\\\\\\\"type\\\\\\\\\\\\\\\": 2, \\\\\\\\\\\\\\\"details\\\\\\\\\\\\\\\": {\\\\\\\\\\\\\\\"selectedColumn\\\\\\\\\\\\\\\": \\\\\\\\\\\\\\\"pedi\\\\\\\\\\\\\\\"}}, \\\\\\\\\\\\\\\"typeProperty\\\\\\\\\\\\\\\": 3}, {\\\\\\\\\\\\\\\"column\\\\\\\\\\\\\\\": {\\\\\\\\\\\\\\\"type\\\\\\\\\\\\\\\": 2, \\\\\\\\\\\\\\\"details\\\\\\\\\\\\\\\": {\\\\\\\\\\\\\\\"selectedColumn\\\\\\\\\\\\\\\": \\\\\\\\\\\\\\\"age\\\\\\\\\\\\\\\"}}, \\\\\\\\\\\\\\\"typeProperty\\\\\\\\\\\\\\\": 2}, {\\\\\\\\\\\\\\\"column\\\\\\\\\\\\\\\": {\\\\\\\\\\\\\\\"type\\\\\\\\\\\\\\\": 2, \\\\\\\\\\\\\\\"details\\\\\\\\\\\\\\\": {\\\\\\\\\\\\\\\"selectedColumn\\\\\\\\\\\\\\\": \\\\\\\\\\\\\\\"class\\\\\\\\\\\\\\\"}}, \\\\\\\\\\\\\\\"typeProperty\\\\\\\\\\\\\\\": 0}]}, \\\\\\\\\\\\\\\"localData\\\\\\\\\\\\\\\": {}, \\\\\\\\\\\\\\\"isEnabled\\\\\\\\\\\\\\\": true, \\\\\\\\\\\\\\\"name\\\\\\\\\\\\\\\": null, \\\\\\\\\\\\\\\"annotation\\\\\\\\\\\\\\\": null}], \\\\\\\\\\\\\\\"inspectors\\\\\\\\\\\\\\\": [], \\\\\\\\\\\\\\\"meta\\\\\\\\\\\\\\\": {\\\\\\\\\\\\\\\"savedDatasetId\\\\\\\\\\\\\\\": \\\\\\\\\\\\\\\"3a186ba5-5d2b-44ee-9193-6374f4ee91f1\\\\\\\\\\\\\\\", \\\\\\\\\\\\\\\"datasetType\\\\\\\\\\\\\\\": \\\\\\\\\\\\\\\"tabular\\\\\\\\\\\\\\\", \\\\\\\\\\\\\\\"subscriptionId\\\\\\\\\\\\\\\": \\\\\\\\\\\\\\\"8a086c9c-5530-4791-89af-62c8cdfda3fd\\\\\\\\\\\\\\\", \\\\\\\\\\\\\\\"workspaceId\\\\\\\\\\\\\\\": \\\\\\\\\\\\\\\"c3f71a46-26f3-421c-8037-b5fa54f65e44\\\\\\\\\\\\\\\", \\\\\\\\\\\\\\\"workspaceLocation\\\\\\\\\\\\\\\": \\\\\\\\\\\\\\\"australiaeast\\\\\\\\\\\\\\\"}}\\\\\\\", \\\\\\\"activities\\\\\\\": 0}\", \"EnableSubsampling\": null, \"runTemplate\": \"AutoML\", \"azureml.runsource\": \"automl\", \"display_task_type\": \"classification\", \"dependencies_versions\": \"{\\\"azureml-widgets\\\": \\\"1.20.0\\\", \\\"azureml-train\\\": \\\"1.18.0\\\", \\\"azureml-train-restclients-hyperdrive\\\": \\\"1.18.0\\\", \\\"azureml-train-core\\\": \\\"1.18.0.post1\\\", \\\"azureml-train-automl\\\": \\\"1.9.0\\\", \\\"azureml-train-automl-runtime\\\": \\\"1.20.0\\\", \\\"azureml-train-automl-client\\\": \\\"1.20.0\\\", \\\"azureml-tensorboard\\\": \\\"1.9.0\\\", \\\"azureml-telemetry\\\": \\\"1.20.0\\\", \\\"azureml-samples\\\": \\\"0+unknown\\\", \\\"azureml-pipeline\\\": \\\"1.18.0\\\", \\\"azureml-pipeline-steps\\\": \\\"1.18.0\\\", \\\"azureml-pipeline-core\\\": \\\"1.18.0\\\", \\\"azureml-opendatasets\\\": \\\"1.9.0\\\", \\\"azureml-monitoring\\\": \\\"0.1.0a18\\\", \\\"azureml-model-management-sdk\\\": \\\"1.0.1b6.post1\\\", \\\"azureml-mlflow\\\": \\\"1.9.0\\\", \\\"azureml-interpret\\\": \\\"1.20.0\\\", \\\"azureml-explain-model\\\": \\\"1.9.0\\\", \\\"azureml-defaults\\\": \\\"1.20.0\\\", \\\"azureml-dataset-runtime\\\": \\\"1.20.0\\\", \\\"azureml-dataprep\\\": \\\"2.7.3\\\", \\\"azureml-dataprep-rslex\\\": \\\"1.5.0\\\", \\\"azureml-dataprep-native\\\": \\\"27.0.0\\\", \\\"azureml-datadrift\\\": \\\"1.9.0\\\", \\\"azureml-core\\\": \\\"1.20.0.post1\\\", \\\"azureml-contrib-services\\\": \\\"1.9.0\\\", \\\"azureml-contrib-server\\\": \\\"1.9.0\\\", \\\"azureml-contrib-reinforcementlearning\\\": \\\"1.9.0\\\", \\\"azureml-contrib-pipeline-steps\\\": \\\"1.9.0\\\", \\\"azureml-contrib-notebook\\\": \\\"1.9.0\\\", \\\"azureml-contrib-interpret\\\": \\\"1.9.0\\\", \\\"azureml-contrib-gbdt\\\": \\\"1.9.0\\\", \\\"azureml-contrib-fairness\\\": \\\"1.9.0\\\", \\\"azureml-contrib-dataset\\\": \\\"1.9.0\\\", \\\"azureml-cli-common\\\": \\\"1.9.0\\\", \\\"azureml-automl-runtime\\\": \\\"1.20.0\\\", \\\"azureml-automl-core\\\": \\\"1.20.0\\\", \\\"azureml-accel-models\\\": \\\"1.9.0\\\"}\", \"_aml_system_scenario_identification\": \"Remote.Parent\", \"ClientType\": \"SDK\", \"environment_cpu_name\": \"AzureML-AutoML\", \"environment_cpu_label\": \"prod\", \"environment_gpu_name\": \"AzureML-AutoML-GPU\", \"environment_gpu_label\": \"prod\", \"root_attribution\": \"automl\", \"attribution\": \"AutoML\", \"Orchestrator\": \"AutoML\", \"CancelUri\": \"https://australiaeast.experiments.azureml.net/jasmine/v1.0/subscriptions/8a086c9c-5530-4791-89af-62c8cdfda3fd/resourceGroups/trn-aue-advanced-analytics-ml/providers/Microsoft.MachineLearningServices/workspaces/trn-aue-aa-ml/experimentids/dca7dec5-3756-4c43-bb86-f8a97a7eb3f0/cancel/AutoML_fb57bb5b-6d97-45b1-aa8c-de8c5dc27fca\", \"ClientSdkVersion\": \"1.21.0\", \"snapshotId\": \"00000000-0000-0000-0000-000000000000\", \"SetupRunId\": \"AutoML_fb57bb5b-6d97-45b1-aa8c-de8c5dc27fca_setup\", \"SetupRunContainerId\": \"dcid.AutoML_fb57bb5b-6d97-45b1-aa8c-de8c5dc27fca_setup\", \"FeaturizationRunJsonPath\": \"featurizer_container.json\", \"FeaturizationRunId\": \"AutoML_fb57bb5b-6d97-45b1-aa8c-de8c5dc27fca_featurize\", \"ProblemInfoJsonString\": \"{\\\"dataset_num_categorical\\\": 0, \\\"is_sparse\\\": true, \\\"subsampling\\\": false, \\\"dataset_classes\\\": 2, \\\"dataset_features\\\": 24, \\\"dataset_samples\\\": 768, \\\"single_frequency_class_detected\\\": false}\", \"ModelExplainRunId\": \"AutoML_fb57bb5b-6d97-45b1-aa8c-de8c5dc27fca_ModelExplain\"}, \"tags\": {\"model_explain_run\": \"best_run\", \"_aml_system_azureml.automlComponent\": \"AutoML\", \"pipeline_id\": \"\", \"score\": \"\", \"predicted_cost\": \"\", \"fit_time\": \"\", \"training_percent\": \"\", \"iteration\": \"\", \"run_preprocessor\": \"\", \"run_algorithm\": \"\", \"dynamic_whitelisting_iterations\": \"<25>;<30>;<35>;\", \"automl_best_child_run_id\": \"AutoML_fb57bb5b-6d97-45b1-aa8c-de8c5dc27fca_38\", \"model_explain_best_run_child_id\": \"AutoML_fb57bb5b-6d97-45b1-aa8c-de8c5dc27fca_38\"}, \"end_time_utc\": \"2021-02-04T10:27:03.700954Z\", \"status\": \"Completed\", \"log_files\": {}, \"log_groups\": [], \"run_duration\": \"0:30:26\"}, \"child_runs\": [{\"run_id\": \"AutoML_fb57bb5b-6d97-45b1-aa8c-de8c5dc27fca_1\", \"run_number\": 63, \"metric\": null, \"status\": \"Completed\", \"run_type\": \"azureml.scriptrun\", \"training_percent\": \"100\", \"start_time\": \"2021-02-04T10:04:55.108529Z\", \"end_time\": \"2021-02-04T10:07:02.135346Z\", \"created_time\": \"2021-02-04T10:04:44.325162Z\", \"created_time_dt\": \"2021-02-04T10:04:44.325162Z\", \"duration\": \"0:02:17\", \"iteration\": \"1\", \"goal\": \"AUC_weighted_max\", \"run_name\": \"MaxAbsScaler, XGBoostClassifier\", \"run_properties\": \"copy=True\", \"primary_metric\": 0.83662103, \"best_metric\": 0.83662103}, {\"run_id\": \"AutoML_fb57bb5b-6d97-45b1-aa8c-de8c5dc27fca_3\", \"run_number\": 64, \"metric\": null, \"status\": \"Completed\", \"run_type\": \"azureml.scriptrun\", \"training_percent\": \"100\", \"start_time\": \"2021-02-04T10:07:04.930038Z\", \"end_time\": \"2021-02-04T10:09:12.442944Z\", \"created_time\": \"2021-02-04T10:04:44.32748Z\", \"created_time_dt\": \"2021-02-04T10:04:44.32748Z\", \"duration\": \"0:04:28\", \"iteration\": \"3\", \"goal\": \"AUC_weighted_max\", \"run_name\": \"MaxAbsScaler, RandomForest\", \"run_properties\": \"copy=True\", \"primary_metric\": 0.8304854, \"best_metric\": 0.83662103}, {\"run_id\": \"AutoML_fb57bb5b-6d97-45b1-aa8c-de8c5dc27fca_2\", \"run_number\": 65, \"metric\": null, \"status\": \"Completed\", \"run_type\": \"azureml.scriptrun\", \"training_percent\": \"100\", \"start_time\": \"2021-02-04T10:07:24.095478Z\", \"end_time\": \"2021-02-04T10:09:33.444877Z\", \"created_time\": \"2021-02-04T10:04:44.351534Z\", \"created_time_dt\": \"2021-02-04T10:04:44.351534Z\", \"duration\": \"0:04:49\", \"iteration\": \"2\", \"goal\": \"AUC_weighted_max\", \"run_name\": \"MaxAbsScaler, RandomForest\", \"run_properties\": \"copy=True\", \"primary_metric\": 0.82576231, \"best_metric\": 0.83662103}, {\"run_id\": \"AutoML_fb57bb5b-6d97-45b1-aa8c-de8c5dc27fca_0\", \"run_number\": 66, \"metric\": null, \"status\": \"Completed\", \"run_type\": \"azureml.scriptrun\", \"training_percent\": \"100\", \"start_time\": \"2021-02-04T10:07:22.886212Z\", \"end_time\": \"2021-02-04T10:09:38.70214Z\", \"created_time\": \"2021-02-04T10:04:44.325943Z\", \"created_time_dt\": \"2021-02-04T10:04:44.325943Z\", \"duration\": \"0:04:54\", \"iteration\": \"0\", \"goal\": \"AUC_weighted_max\", \"run_name\": \"MaxAbsScaler, LightGBM\", \"run_properties\": \"copy=True\", \"primary_metric\": 0.79810139, \"best_metric\": 0.79810139}, {\"run_id\": \"AutoML_fb57bb5b-6d97-45b1-aa8c-de8c5dc27fca_4\", \"run_number\": 67, \"metric\": null, \"status\": \"Completed\", \"run_type\": \"azureml.scriptrun\", \"training_percent\": \"100\", \"start_time\": \"2021-02-04T10:07:26.014015Z\", \"end_time\": \"2021-02-04T10:09:48.269615Z\", \"created_time\": \"2021-02-04T10:04:44.329687Z\", \"created_time_dt\": \"2021-02-04T10:04:44.329687Z\", \"duration\": \"0:05:03\", \"iteration\": \"4\", \"goal\": \"AUC_weighted_max\", \"run_name\": \"MaxAbsScaler, RandomForest\", \"run_properties\": \"copy=True\", \"primary_metric\": 0.82104111, \"best_metric\": 0.83662103}, {\"run_id\": \"AutoML_fb57bb5b-6d97-45b1-aa8c-de8c5dc27fca_5\", \"run_number\": 68, \"metric\": null, \"status\": \"Completed\", \"run_type\": \"azureml.scriptrun\", \"training_percent\": \"100\", \"start_time\": \"2021-02-04T10:07:27.376199Z\", \"end_time\": \"2021-02-04T10:09:38.256953Z\", \"created_time\": \"2021-02-04T10:07:03.706848Z\", \"created_time_dt\": \"2021-02-04T10:07:03.706848Z\", \"duration\": \"0:02:34\", \"iteration\": \"5\", \"goal\": \"AUC_weighted_max\", \"run_name\": \"MaxAbsScaler, ExtremeRandomTrees\", \"run_properties\": \"copy=True\", \"primary_metric\": 0.81204659, \"best_metric\": 0.83662103}, {\"run_id\": \"AutoML_fb57bb5b-6d97-45b1-aa8c-de8c5dc27fca_6\", \"run_number\": 69, \"metric\": null, \"status\": \"Completed\", \"run_type\": \"azureml.scriptrun\", \"training_percent\": \"100\", \"start_time\": \"2021-02-04T10:09:25.41342Z\", \"end_time\": \"2021-02-04T10:11:38.221906Z\", \"created_time\": \"2021-02-04T10:09:15.024752Z\", \"created_time_dt\": \"2021-02-04T10:09:15.024752Z\", \"duration\": \"0:02:23\", \"iteration\": \"6\", \"goal\": \"AUC_weighted_max\", \"run_name\": \"MaxAbsScaler, ExtremeRandomTrees\", \"run_properties\": \"copy=True\", \"primary_metric\": 0.81489948, \"best_metric\": 0.83662103}, {\"run_id\": \"AutoML_fb57bb5b-6d97-45b1-aa8c-de8c5dc27fca_7\", \"run_number\": 70, \"metric\": null, \"status\": \"Completed\", \"run_type\": \"azureml.scriptrun\", \"training_percent\": \"100\", \"start_time\": \"2021-02-04T10:09:46.428985Z\", \"end_time\": \"2021-02-04T10:12:01.979401Z\", \"created_time\": \"2021-02-04T10:09:36.265185Z\", \"created_time_dt\": \"2021-02-04T10:09:36.265185Z\", \"duration\": \"0:02:25\", \"iteration\": \"7\", \"goal\": \"AUC_weighted_max\", \"run_name\": \"MaxAbsScaler, ExtremeRandomTrees\", \"run_properties\": \"copy=True\", \"primary_metric\": 0.79278067, \"best_metric\": 0.83662103}, {\"run_id\": \"AutoML_fb57bb5b-6d97-45b1-aa8c-de8c5dc27fca_8\", \"run_number\": 71, \"metric\": null, \"status\": \"Completed\", \"run_type\": \"azureml.scriptrun\", \"training_percent\": \"100\", \"start_time\": \"2021-02-04T10:09:51.226118Z\", \"end_time\": \"2021-02-04T10:11:50.820044Z\", \"created_time\": \"2021-02-04T10:09:41.471114Z\", \"created_time_dt\": \"2021-02-04T10:09:41.471114Z\", \"duration\": \"0:02:09\", \"iteration\": \"8\", \"goal\": \"AUC_weighted_max\", \"run_name\": \"MaxAbsScaler, RandomForest\", \"run_properties\": \"copy=True\", \"primary_metric\": 0.80134799, \"best_metric\": 0.83662103}, {\"run_id\": \"AutoML_fb57bb5b-6d97-45b1-aa8c-de8c5dc27fca_9\", \"run_number\": 72, \"metric\": null, \"status\": \"Completed\", \"run_type\": \"azureml.scriptrun\", \"training_percent\": \"100\", \"start_time\": \"2021-02-04T10:09:57.725848Z\", \"end_time\": \"2021-02-04T10:12:10.841773Z\", \"created_time\": \"2021-02-04T10:09:46.399779Z\", \"created_time_dt\": \"2021-02-04T10:09:46.399779Z\", \"duration\": \"0:02:24\", \"iteration\": \"9\", \"goal\": \"AUC_weighted_max\", \"run_name\": \"MaxAbsScaler, ExtremeRandomTrees\", \"run_properties\": \"copy=True\", \"primary_metric\": 0.77755066, \"best_metric\": 0.83662103}, {\"run_id\": \"AutoML_fb57bb5b-6d97-45b1-aa8c-de8c5dc27fca_10\", \"run_number\": 73, \"metric\": null, \"status\": \"Completed\", \"run_type\": \"azureml.scriptrun\", \"training_percent\": \"100\", \"start_time\": \"2021-02-04T10:10:04.527965Z\", \"end_time\": \"2021-02-04T10:12:05.547617Z\", \"created_time\": \"2021-02-04T10:09:52.565909Z\", \"created_time_dt\": \"2021-02-04T10:09:52.565909Z\", \"duration\": \"0:02:12\", \"iteration\": \"10\", \"goal\": \"AUC_weighted_max\", \"run_name\": \"MaxAbsScaler, RandomForest\", \"run_properties\": \"copy=True\", \"primary_metric\": 0.80857901, \"best_metric\": 0.83662103}, {\"run_id\": \"AutoML_fb57bb5b-6d97-45b1-aa8c-de8c5dc27fca_11\", \"run_number\": 74, \"metric\": null, \"status\": \"Completed\", \"run_type\": \"azureml.scriptrun\", \"training_percent\": \"100\", \"start_time\": \"2021-02-04T10:11:53.123654Z\", \"end_time\": \"2021-02-04T10:13:52.610157Z\", \"created_time\": \"2021-02-04T10:11:42.517637Z\", \"created_time_dt\": \"2021-02-04T10:11:42.517637Z\", \"duration\": \"0:02:10\", \"iteration\": \"11\", \"goal\": \"AUC_weighted_max\", \"run_name\": \"MaxAbsScaler, RandomForest\", \"run_properties\": \"copy=True\", \"primary_metric\": 0.81168418, \"best_metric\": 0.83662103}, {\"run_id\": \"AutoML_fb57bb5b-6d97-45b1-aa8c-de8c5dc27fca_12\", \"run_number\": 75, \"metric\": null, \"status\": \"Completed\", \"run_type\": \"azureml.scriptrun\", \"training_percent\": \"100\", \"start_time\": \"2021-02-04T10:12:04.900233Z\", \"end_time\": \"2021-02-04T10:14:08.406241Z\", \"created_time\": \"2021-02-04T10:11:54.156254Z\", \"created_time_dt\": \"2021-02-04T10:11:54.156254Z\", \"duration\": \"0:02:14\", \"iteration\": \"12\", \"goal\": \"AUC_weighted_max\", \"run_name\": \"MaxAbsScaler, RandomForest\", \"run_properties\": \"copy=True\", \"primary_metric\": 0.77478914, \"best_metric\": 0.83662103}, {\"run_id\": \"AutoML_fb57bb5b-6d97-45b1-aa8c-de8c5dc27fca_13\", \"run_number\": 76, \"metric\": null, \"status\": \"Completed\", \"run_type\": \"azureml.scriptrun\", \"training_percent\": \"100\", \"start_time\": \"2021-02-04T10:12:19.13077Z\", \"end_time\": \"2021-02-04T10:14:23.725733Z\", \"created_time\": \"2021-02-04T10:12:05.864169Z\", \"created_time_dt\": \"2021-02-04T10:12:05.864169Z\", \"duration\": \"0:02:17\", \"iteration\": \"13\", \"goal\": \"AUC_weighted_max\", \"run_name\": \"StandardScalerWrapper, XGBoostClassifier\", \"run_properties\": \"<azureml.automl.runtime.shared.model_wrappers.StandardScalerWrapper object at 0x7f47ca292ba8\", \"primary_metric\": 0.82080753, \"best_metric\": 0.83662103}, {\"run_id\": \"AutoML_fb57bb5b-6d97-45b1-aa8c-de8c5dc27fca_14\", \"run_number\": 77, \"metric\": null, \"status\": \"Completed\", \"run_type\": \"azureml.scriptrun\", \"training_percent\": \"100\", \"start_time\": \"2021-02-04T10:12:23.971579Z\", \"end_time\": \"2021-02-04T10:14:20.4448Z\", \"created_time\": \"2021-02-04T10:12:13.570065Z\", \"created_time_dt\": \"2021-02-04T10:12:13.570065Z\", \"duration\": \"0:02:06\", \"iteration\": \"14\", \"goal\": \"AUC_weighted_max\", \"run_name\": \"MaxAbsScaler, RandomForest\", \"run_properties\": \"copy=True\", \"primary_metric\": 0.81643176, \"best_metric\": 0.83662103}, {\"run_id\": \"AutoML_fb57bb5b-6d97-45b1-aa8c-de8c5dc27fca_15\", \"run_number\": 78, \"metric\": null, \"status\": \"Completed\", \"run_type\": \"azureml.scriptrun\", \"training_percent\": \"100\", \"start_time\": \"2021-02-04T10:12:29.459221Z\", \"end_time\": \"2021-02-04T10:14:30.384318Z\", \"created_time\": \"2021-02-04T10:12:18.41093Z\", \"created_time_dt\": \"2021-02-04T10:12:18.41093Z\", \"duration\": \"0:02:11\", \"iteration\": \"15\", \"goal\": \"AUC_weighted_max\", \"run_name\": \"StandardScalerWrapper, ExtremeRandomTrees\", \"run_properties\": \"<azureml.automl.runtime.shared.model_wrappers.StandardScalerWrapper object at 0x7f082b465c50\", \"primary_metric\": 0.8227087, \"best_metric\": 0.83662103}, {\"run_id\": \"AutoML_fb57bb5b-6d97-45b1-aa8c-de8c5dc27fca_16\", \"run_number\": 79, \"metric\": null, \"status\": \"Completed\", \"run_type\": \"azureml.scriptrun\", \"training_percent\": \"100\", \"start_time\": \"2021-02-04T10:14:08.953661Z\", \"end_time\": \"2021-02-04T10:16:12.202184Z\", \"created_time\": \"2021-02-04T10:13:57.850686Z\", \"created_time_dt\": \"2021-02-04T10:13:57.850686Z\", \"duration\": \"0:02:14\", \"iteration\": \"16\", \"goal\": \"AUC_weighted_max\", \"run_name\": \"MaxAbsScaler, ExtremeRandomTrees\", \"run_properties\": \"copy=True\", \"primary_metric\": 0.80464717, \"best_metric\": 0.83662103}, {\"run_id\": \"AutoML_fb57bb5b-6d97-45b1-aa8c-de8c5dc27fca_17\", \"run_number\": 80, \"metric\": null, \"status\": \"Completed\", \"run_type\": \"azureml.scriptrun\", \"training_percent\": \"100\", \"start_time\": \"2021-02-04T10:14:22.639594Z\", \"end_time\": \"2021-02-04T10:16:30.156198Z\", \"created_time\": \"2021-02-04T10:14:12.289432Z\", \"created_time_dt\": \"2021-02-04T10:14:12.289432Z\", \"duration\": \"0:02:17\", \"iteration\": \"17\", \"goal\": \"AUC_weighted_max\", \"run_name\": \"MaxAbsScaler, ExtremeRandomTrees\", \"run_properties\": \"copy=True\", \"primary_metric\": 0.80486413, \"best_metric\": 0.83662103}, {\"run_id\": \"AutoML_fb57bb5b-6d97-45b1-aa8c-de8c5dc27fca_18\", \"run_number\": 81, \"metric\": null, \"status\": \"Completed\", \"run_type\": \"azureml.scriptrun\", \"training_percent\": \"100\", \"start_time\": \"2021-02-04T10:14:33.707787Z\", \"end_time\": \"2021-02-04T10:16:36.765015Z\", \"created_time\": \"2021-02-04T10:14:23.695164Z\", \"created_time_dt\": \"2021-02-04T10:14:23.695164Z\", \"duration\": \"0:02:13\", \"iteration\": \"18\", \"goal\": \"AUC_weighted_max\", \"run_name\": \"MaxAbsScaler, RandomForest\", \"run_properties\": \"copy=True\", \"primary_metric\": 0.81212922, \"best_metric\": 0.83662103}, {\"run_id\": \"AutoML_fb57bb5b-6d97-45b1-aa8c-de8c5dc27fca_19\", \"run_number\": 82, \"metric\": null, \"status\": \"Completed\", \"run_type\": \"azureml.scriptrun\", \"training_percent\": \"100\", \"start_time\": \"2021-02-04T10:14:39.002797Z\", \"end_time\": \"2021-02-04T10:16:43.025346Z\", \"created_time\": \"2021-02-04T10:14:28.265376Z\", \"created_time_dt\": \"2021-02-04T10:14:28.265376Z\", \"duration\": \"0:02:14\", \"iteration\": \"19\", \"goal\": \"AUC_weighted_max\", \"run_name\": \"MaxAbsScaler, LightGBM\", \"run_properties\": \"copy=True\", \"primary_metric\": 0.82230628, \"best_metric\": 0.83662103}, {\"run_id\": \"AutoML_fb57bb5b-6d97-45b1-aa8c-de8c5dc27fca_20\", \"run_number\": 83, \"metric\": null, \"status\": \"Completed\", \"run_type\": \"azureml.scriptrun\", \"training_percent\": \"100\", \"start_time\": \"2021-02-04T10:14:43.786113Z\", \"end_time\": \"2021-02-04T10:16:50.982385Z\", \"created_time\": \"2021-02-04T10:14:33.175444Z\", \"created_time_dt\": \"2021-02-04T10:14:33.175444Z\", \"duration\": \"0:02:17\", \"iteration\": \"20\", \"goal\": \"AUC_weighted_max\", \"run_name\": \"StandardScalerWrapper, XGBoostClassifier\", \"run_properties\": \"<azureml.automl.runtime.shared.model_wrappers.StandardScalerWrapper object at 0x7f74f86f7390\", \"primary_metric\": 0.82402664, \"best_metric\": 0.83662103}, {\"run_id\": \"AutoML_fb57bb5b-6d97-45b1-aa8c-de8c5dc27fca_21\", \"run_number\": 84, \"metric\": null, \"status\": \"Completed\", \"run_type\": \"azureml.scriptrun\", \"training_percent\": \"100\", \"start_time\": \"2021-02-04T10:16:25.58901Z\", \"end_time\": \"2021-02-04T10:18:28.571108Z\", \"created_time\": \"2021-02-04T10:16:15.14493Z\", \"created_time_dt\": \"2021-02-04T10:16:15.14493Z\", \"duration\": \"0:02:13\", \"iteration\": \"21\", \"goal\": \"AUC_weighted_max\", \"run_name\": \"StandardScalerWrapper, XGBoostClassifier\", \"run_properties\": \"<azureml.automl.runtime.shared.model_wrappers.StandardScalerWrapper object at 0x7f9a85944978\", \"primary_metric\": 0.82984727, \"best_metric\": 0.83662103}, {\"run_id\": \"AutoML_fb57bb5b-6d97-45b1-aa8c-de8c5dc27fca_22\", \"run_number\": 85, \"metric\": null, \"status\": \"Completed\", \"run_type\": \"azureml.scriptrun\", \"training_percent\": \"100\", \"start_time\": \"2021-02-04T10:16:42.344941Z\", \"end_time\": \"2021-02-04T10:18:42.423129Z\", \"created_time\": \"2021-02-04T10:16:32.547295Z\", \"created_time_dt\": \"2021-02-04T10:16:32.547295Z\", \"duration\": \"0:02:09\", \"iteration\": \"22\", \"goal\": \"AUC_weighted_max\", \"run_name\": \"StandardScalerWrapper, XGBoostClassifier\", \"run_properties\": \"<azureml.automl.runtime.shared.model_wrappers.StandardScalerWrapper object at 0x7f1df012bd68\", \"primary_metric\": 0.81328092, \"best_metric\": 0.83662103}, {\"run_id\": \"AutoML_fb57bb5b-6d97-45b1-aa8c-de8c5dc27fca_23\", \"run_number\": 86, \"metric\": null, \"status\": \"Completed\", \"run_type\": \"azureml.scriptrun\", \"training_percent\": \"100\", \"start_time\": \"2021-02-04T10:16:51.405635Z\", \"end_time\": \"2021-02-04T10:18:52.623925Z\", \"created_time\": \"2021-02-04T10:16:39.13601Z\", \"created_time_dt\": \"2021-02-04T10:16:39.13601Z\", \"duration\": \"0:02:13\", \"iteration\": \"23\", \"goal\": \"AUC_weighted_max\", \"run_name\": \"MaxAbsScaler, LightGBM\", \"run_properties\": \"copy=True\", \"primary_metric\": 0.81522085, \"best_metric\": 0.83662103}, {\"run_id\": \"AutoML_fb57bb5b-6d97-45b1-aa8c-de8c5dc27fca_24\", \"run_number\": 87, \"metric\": null, \"status\": \"Completed\", \"run_type\": \"azureml.scriptrun\", \"training_percent\": \"100\", \"start_time\": \"2021-02-04T10:16:56.986618Z\", \"end_time\": \"2021-02-04T10:19:06.26547Z\", \"created_time\": \"2021-02-04T10:16:45.766576Z\", \"created_time_dt\": \"2021-02-04T10:16:45.766576Z\", \"duration\": \"0:02:20\", \"iteration\": \"24\", \"goal\": \"AUC_weighted_max\", \"run_name\": \"StandardScalerWrapper, XGBoostClassifier\", \"run_properties\": \"<azureml.automl.runtime.shared.model_wrappers.StandardScalerWrapper object at 0x7f1b16084438\", \"primary_metric\": 0.81611286, \"best_metric\": 0.83662103}, {\"run_id\": \"AutoML_fb57bb5b-6d97-45b1-aa8c-de8c5dc27fca_25\", \"run_number\": 88, \"metric\": null, \"status\": \"Completed\", \"run_type\": \"azureml.scriptrun\", \"training_percent\": \"100\", \"start_time\": \"2021-02-04T10:17:04.060995Z\", \"end_time\": \"2021-02-04T10:19:11.704741Z\", \"created_time\": \"2021-02-04T10:16:54.323265Z\", \"created_time_dt\": \"2021-02-04T10:16:54.323265Z\", \"duration\": \"0:02:17\", \"iteration\": \"25\", \"goal\": \"AUC_weighted_max\", \"run_name\": \"StandardScalerWrapper, XGBoostClassifier\", \"run_properties\": \"<azureml.automl.runtime.shared.model_wrappers.StandardScalerWrapper object at 0x7fcfaca6ab70\", \"primary_metric\": 0.78680683, \"best_metric\": 0.83662103}, {\"run_id\": \"AutoML_fb57bb5b-6d97-45b1-aa8c-de8c5dc27fca_26\", \"run_number\": 89, \"metric\": null, \"status\": \"Completed\", \"run_type\": \"azureml.scriptrun\", \"training_percent\": \"100\", \"start_time\": \"2021-02-04T10:18:42.393674Z\", \"end_time\": \"2021-02-04T10:20:51.731063Z\", \"created_time\": \"2021-02-04T10:18:31.138867Z\", \"created_time_dt\": \"2021-02-04T10:18:31.138867Z\", \"duration\": \"0:02:20\", \"iteration\": \"26\", \"goal\": \"AUC_weighted_max\", \"run_name\": \"MaxAbsScaler, GradientBoosting\", \"run_properties\": \"copy=True\", \"primary_metric\": 0.82267213, \"best_metric\": 0.83662103}, {\"run_id\": \"AutoML_fb57bb5b-6d97-45b1-aa8c-de8c5dc27fca_27\", \"run_number\": 90, \"metric\": null, \"status\": \"Completed\", \"run_type\": \"azureml.scriptrun\", \"training_percent\": \"100\", \"start_time\": \"2021-02-04T10:18:54.656417Z\", \"end_time\": \"2021-02-04T10:20:54.111691Z\", \"created_time\": \"2021-02-04T10:18:44.402264Z\", \"created_time_dt\": \"2021-02-04T10:18:44.402264Z\", \"duration\": \"0:02:09\", \"iteration\": \"27\", \"goal\": \"AUC_weighted_max\", \"run_name\": \"StandardScalerWrapper, XGBoostClassifier\", \"run_properties\": \"<azureml.automl.runtime.shared.model_wrappers.StandardScalerWrapper object at 0x7f3dd4abae80\", \"primary_metric\": 0.81265617, \"best_metric\": 0.83662103}, {\"run_id\": \"AutoML_fb57bb5b-6d97-45b1-aa8c-de8c5dc27fca_28\", \"run_number\": 91, \"metric\": null, \"status\": \"Completed\", \"run_type\": \"azureml.scriptrun\", \"training_percent\": \"100\", \"start_time\": \"2021-02-04T10:19:05.15669Z\", \"end_time\": \"2021-02-04T10:21:04.173761Z\", \"created_time\": \"2021-02-04T10:18:54.935466Z\", \"created_time_dt\": \"2021-02-04T10:18:54.935466Z\", \"duration\": \"0:02:09\", \"iteration\": \"28\", \"goal\": \"AUC_weighted_max\", \"run_name\": \"SparseNormalizer, XGBoostClassifier\", \"run_properties\": \"<azureml.automl.runtime.shared.model_wrappers.SparseNormalizer object at 0x7f94395b9160\", \"primary_metric\": 0.74709214, \"best_metric\": 0.83662103}, {\"run_id\": \"AutoML_fb57bb5b-6d97-45b1-aa8c-de8c5dc27fca_29\", \"run_number\": 92, \"metric\": null, \"status\": \"Completed\", \"run_type\": \"azureml.scriptrun\", \"training_percent\": \"100\", \"start_time\": \"2021-02-04T10:19:18.805984Z\", \"end_time\": \"2021-02-04T10:21:15.289482Z\", \"created_time\": \"2021-02-04T10:19:08.183084Z\", \"created_time_dt\": \"2021-02-04T10:19:08.183084Z\", \"duration\": \"0:02:07\", \"iteration\": \"29\", \"goal\": \"AUC_weighted_max\", \"run_name\": \"TruncatedSVDWrapper, XGBoostClassifier\", \"run_properties\": \"n_components=0.8510526315789474, random_state=None\", \"primary_metric\": 0.80601311, \"best_metric\": 0.83662103}, {\"run_id\": \"AutoML_fb57bb5b-6d97-45b1-aa8c-de8c5dc27fca_30\", \"run_number\": 93, \"metric\": null, \"status\": \"Completed\", \"run_type\": \"azureml.scriptrun\", \"training_percent\": \"100\", \"start_time\": \"2021-02-04T10:19:24.267422Z\", \"end_time\": \"2021-02-04T10:21:23.177219Z\", \"created_time\": \"2021-02-04T10:19:14.681817Z\", \"created_time_dt\": \"2021-02-04T10:19:14.681817Z\", \"duration\": \"0:02:08\", \"iteration\": \"30\", \"goal\": \"AUC_weighted_max\", \"run_name\": \"TruncatedSVDWrapper, XGBoostClassifier\", \"run_properties\": \"n_components=0.40578947368421053, random_state=None\", \"primary_metric\": 0.78224988, \"best_metric\": 0.83662103}, {\"run_id\": \"AutoML_fb57bb5b-6d97-45b1-aa8c-de8c5dc27fca_31\", \"run_number\": 94, \"metric\": null, \"status\": \"Completed\", \"run_type\": \"azureml.scriptrun\", \"training_percent\": \"100\", \"start_time\": \"2021-02-04T10:21:03.769361Z\", \"end_time\": \"2021-02-04T10:23:04.327225Z\", \"created_time\": \"2021-02-04T10:20:53.369911Z\", \"created_time_dt\": \"2021-02-04T10:20:53.369911Z\", \"duration\": \"0:02:10\", \"iteration\": \"31\", \"goal\": \"AUC_weighted_max\", \"run_name\": \"SparseNormalizer, XGBoostClassifier\", \"run_properties\": \"<azureml.automl.runtime.shared.model_wrappers.SparseNormalizer object at 0x7f00e92745c0\", \"primary_metric\": 0.68161267, \"best_metric\": 0.83662103}, {\"run_id\": \"AutoML_fb57bb5b-6d97-45b1-aa8c-de8c5dc27fca_32\", \"run_number\": 95, \"metric\": null, \"status\": \"Completed\", \"run_type\": \"azureml.scriptrun\", \"training_percent\": \"100\", \"start_time\": \"2021-02-04T10:21:06.764082Z\", \"end_time\": \"2021-02-04T10:23:11.235022Z\", \"created_time\": \"2021-02-04T10:20:56.40737Z\", \"created_time_dt\": \"2021-02-04T10:20:56.40737Z\", \"duration\": \"0:02:14\", \"iteration\": \"32\", \"goal\": \"AUC_weighted_max\", \"run_name\": \"StandardScalerWrapper, LogisticRegression\", \"run_properties\": \"<azureml.automl.runtime.shared.model_wrappers.StandardScalerWrapper object at 0x7f2210685908\", \"primary_metric\": 0.82542084, \"best_metric\": 0.83662103}, {\"run_id\": \"AutoML_fb57bb5b-6d97-45b1-aa8c-de8c5dc27fca_33\", \"run_number\": 96, \"metric\": null, \"status\": \"Canceled\", \"run_type\": \"azureml.scriptrun\", \"training_percent\": \"100\", \"start_time\": \"2021-02-04T10:21:17.69321Z\", \"end_time\": \"2021-02-04T10:23:35.210837Z\", \"created_time\": \"2021-02-04T10:21:06.000261Z\", \"created_time_dt\": \"2021-02-04T10:21:06.000261Z\", \"duration\": \"0:02:29\", \"iteration\": \"33\", \"goal\": \"AUC_weighted_max\", \"run_name\": \"MaxAbsScaler, LogisticRegression\", \"run_properties\": \"copy=True\", \"primary_metric\": 0.82170218, \"best_metric\": 0.83662103}, {\"run_id\": \"AutoML_fb57bb5b-6d97-45b1-aa8c-de8c5dc27fca_34\", \"run_number\": 97, \"metric\": null, \"status\": \"Completed\", \"run_type\": \"azureml.scriptrun\", \"training_percent\": \"100\", \"start_time\": \"2021-02-04T10:21:29.022287Z\", \"end_time\": \"2021-02-04T10:23:25.970607Z\", \"created_time\": \"2021-02-04T10:21:17.668509Z\", \"created_time_dt\": \"2021-02-04T10:21:17.668509Z\", \"duration\": \"0:02:08\", \"iteration\": \"34\", \"goal\": \"AUC_weighted_max\", \"run_name\": \"MaxAbsScaler, SGD\", \"run_properties\": \"copy=True\", \"primary_metric\": 0.81903151, \"best_metric\": 0.83662103}, {\"run_id\": \"AutoML_fb57bb5b-6d97-45b1-aa8c-de8c5dc27fca_35\", \"run_number\": 98, \"metric\": null, \"status\": \"Canceled\", \"run_type\": \"azureml.scriptrun\", \"training_percent\": \"100\", \"start_time\": \"2021-02-04T10:21:37.968754Z\", \"end_time\": \"2021-02-04T10:23:34.6916Z\", \"created_time\": \"2021-02-04T10:21:26.59066Z\", \"created_time_dt\": \"2021-02-04T10:21:26.59066Z\", \"duration\": \"0:02:08\", \"iteration\": \"35\", \"goal\": \"AUC_weighted_max\", \"run_name\": \"StandardScalerWrapper, XGBoostClassifier\", \"run_properties\": \"<azureml.automl.runtime.shared.model_wrappers.StandardScalerWrapper object at 0x7f89945fc898\", \"primary_metric\": 0.79365812, \"best_metric\": 0.83662103}, {\"run_id\": \"AutoML_fb57bb5b-6d97-45b1-aa8c-de8c5dc27fca_36\", \"run_number\": 99, \"metric\": null, \"status\": \"Canceled\", \"run_type\": \"azureml.scriptrun\", \"training_percent\": \"100\", \"start_time\": \"2021-02-04T10:23:17.111858Z\", \"end_time\": \"2021-02-04T10:23:33.499071Z\", \"created_time\": \"2021-02-04T10:23:06.619075Z\", \"created_time_dt\": \"2021-02-04T10:23:06.619075Z\", \"duration\": \"0:00:26\", \"iteration\": \"36\", \"goal\": null, \"run_name\": \"Canceled\", \"run_properties\": null}, {\"run_id\": \"AutoML_fb57bb5b-6d97-45b1-aa8c-de8c5dc27fca_37\", \"run_number\": 100, \"metric\": null, \"status\": \"Canceled\", \"run_type\": \"azureml.scriptrun\", \"training_percent\": \"100\", \"start_time\": \"2021-02-04T10:23:24.932611Z\", \"end_time\": \"2021-02-04T10:23:34.642321Z\", \"created_time\": \"2021-02-04T10:23:13.544669Z\", \"created_time_dt\": \"2021-02-04T10:23:13.544669Z\", \"duration\": \"0:00:21\", \"iteration\": \"37\", \"goal\": null, \"run_name\": \"Canceled\", \"run_properties\": null}, {\"run_id\": \"AutoML_fb57bb5b-6d97-45b1-aa8c-de8c5dc27fca_38\", \"run_number\": 101, \"metric\": null, \"status\": \"Completed\", \"run_type\": \"azureml.scriptrun\", \"training_percent\": \"100\", \"start_time\": \"2021-02-04T10:23:47.478798Z\", \"end_time\": \"2021-02-04T10:26:56.403503Z\", \"created_time\": \"2021-02-04T10:23:36.280004Z\", \"created_time_dt\": \"2021-02-04T10:23:36.280004Z\", \"duration\": \"0:03:20\", \"iteration\": \"38\", \"goal\": \"AUC_weighted_max\", \"run_name\": \"VotingEnsemble\", \"run_properties\": \"classification_labels=None,\\n                              estimators=[('1',\\n                                           Pipeline(memory=None,\\n                                                    steps=[('maxabsscaler',\\n                                                            MaxAbsScaler(copy=True\", \"primary_metric\": 0.84683147, \"best_metric\": 0.84683147}], \"children_metrics\": {\"categories\": [0], \"series\": {\"precision_score_macro\": [{\"categories\": [\"0\", \"1\", \"2\", \"3\", \"4\", \"5\", \"6\", \"7\", \"8\", \"9\", \"10\", \"11\", \"12\", \"13\", \"14\", \"15\", \"16\", \"17\", \"18\", \"19\", \"20\", \"21\", \"22\", \"23\", \"24\", \"25\", \"26\", \"27\", \"28\", \"29\", \"30\", \"31\", \"32\", \"33\", \"34\", \"35\", \"38\"], \"mode\": \"markers\", \"name\": \"precision_score_macro\", \"stepped\": false, \"type\": \"scatter\", \"data\": [0.7112261247846459, 0.7448891884111544, 0.7482276980381337, 0.7328562147038644, 0.7474212316480183, 0.7376847001356324, 0.7249033184336031, 0.7406869823469157, 0.45192766005923907, 0.6995824044046696, 0.724139508969366, 0.7243604063601985, 0.6858720102226317, 0.7365605949242839, 0.7410476510430026, 0.7540107952894332, 0.7094118787753971, 0.7054954307806645, 0.7201331738856147, 0.7174121073576392, 0.7396391393586124, 0.7403965681149594, 0.7211120271690014, 0.718134752697632, 0.7322794801213324, 0.7107737856506116, 0.7343679721454646, 0.7295088530078773, 0.6811579304315372, 0.736692869283123, 0.7041743023073774, 0.6331087844983069, 0.7167225381521757, 0.7487930726847549, 0.7583543896217791, 0.7022321591417403, 0.7522425836367452]}, {\"categories\": [\"0\", \"1\", \"2\", \"3\", \"4\", \"5\", \"6\", \"7\", \"8\", \"9\", \"10\", \"11\", \"12\", \"13\", \"14\", \"15\", \"16\", \"17\", \"18\", \"19\", \"20\", \"21\", \"22\", \"23\", \"24\", \"25\", \"26\", \"27\", \"28\", \"29\", \"30\", \"31\", \"32\", \"33\", \"34\", \"35\", \"38\"], \"mode\": \"lines\", \"name\": \"precision_score_macro_max\", \"stepped\": true, \"type\": \"scatter\", \"data\": [0.7112261247846459, 0.7448891884111544, 0.7482276980381337, 0.7482276980381337, 0.7482276980381337, 0.7482276980381337, 0.7482276980381337, 0.7482276980381337, 0.7482276980381337, 0.7482276980381337, 0.7482276980381337, 0.7482276980381337, 0.7482276980381337, 0.7482276980381337, 0.7482276980381337, 0.7540107952894332, 0.7540107952894332, 0.7540107952894332, 0.7540107952894332, 0.7540107952894332, 0.7540107952894332, 0.7540107952894332, 0.7540107952894332, 0.7540107952894332, 0.7540107952894332, 0.7540107952894332, 0.7540107952894332, 0.7540107952894332, 0.7540107952894332, 0.7540107952894332, 0.7540107952894332, 0.7540107952894332, 0.7540107952894332, 0.7540107952894332, 0.7583543896217791, 0.7583543896217791, 0.7583543896217791]}], \"recall_score_weighted\": [{\"categories\": [\"0\", \"1\", \"2\", \"3\", \"4\", \"5\", \"6\", \"7\", \"8\", \"9\", \"10\", \"11\", \"12\", \"13\", \"14\", \"15\", \"16\", \"17\", \"18\", \"19\", \"20\", \"21\", \"22\", \"23\", \"24\", \"25\", \"26\", \"27\", \"28\", \"29\", \"30\", \"31\", \"32\", \"33\", \"34\", \"35\", \"38\"], \"mode\": \"markers\", \"name\": \"recall_score_weighted\", \"stepped\": false, \"type\": \"scatter\", \"data\": [0.7396103896103897, 0.7695659603554341, 0.7616712235133287, 0.7526999316473001, 0.7565447710184553, 0.7500341763499658, 0.7409261790840738, 0.7265550239234451, 0.6548701298701298, 0.7213602187286399, 0.7396787423103213, 0.746120984278879, 0.6940874914559125, 0.7565618591934381, 0.7605092276144909, 0.760457963089542, 0.7291695146958305, 0.7240943267259057, 0.729272043745728, 0.7434894053315106, 0.7656356801093642, 0.7643882433356118, 0.746120984278879, 0.7448906356801095, 0.7591079972658921, 0.7395933014354067, 0.7551948051948052, 0.7512816131237183, 0.7109876965140123, 0.7591934381408066, 0.7318181818181818, 0.6653622693096377, 0.7395591250854409, 0.7683014354066987, 0.7656527682843474, 0.7317498291182502, 0.774812030075188]}, {\"categories\": [\"0\", \"1\", \"2\", \"3\", \"4\", \"5\", \"6\", \"7\", \"8\", \"9\", \"10\", \"11\", \"12\", \"13\", \"14\", \"15\", \"16\", \"17\", \"18\", \"19\", \"20\", \"21\", \"22\", \"23\", \"24\", \"25\", \"26\", \"27\", \"28\", \"29\", \"30\", \"31\", \"32\", \"33\", \"34\", \"35\", \"38\"], \"mode\": \"lines\", \"name\": \"recall_score_weighted_max\", \"stepped\": true, \"type\": \"scatter\", \"data\": [0.7396103896103897, 0.7695659603554341, 0.7695659603554341, 0.7695659603554341, 0.7695659603554341, 0.7695659603554341, 0.7695659603554341, 0.7695659603554341, 0.7695659603554341, 0.7695659603554341, 0.7695659603554341, 0.7695659603554341, 0.7695659603554341, 0.7695659603554341, 0.7695659603554341, 0.7695659603554341, 0.7695659603554341, 0.7695659603554341, 0.7695659603554341, 0.7695659603554341, 0.7695659603554341, 0.7695659603554341, 0.7695659603554341, 0.7695659603554341, 0.7695659603554341, 0.7695659603554341, 0.7695659603554341, 0.7695659603554341, 0.7695659603554341, 0.7695659603554341, 0.7695659603554341, 0.7695659603554341, 0.7695659603554341, 0.7695659603554341, 0.7695659603554341, 0.7695659603554341, 0.774812030075188]}], \"average_precision_score_micro\": [{\"categories\": [\"0\", \"1\", \"2\", \"3\", \"4\", \"5\", \"6\", \"7\", \"8\", \"9\", \"10\", \"11\", \"12\", \"13\", \"14\", \"15\", \"16\", \"17\", \"18\", \"19\", \"20\", \"21\", \"22\", \"23\", \"24\", \"25\", \"26\", \"27\", \"28\", \"29\", \"30\", \"31\", \"32\", \"33\", \"34\", \"35\", \"38\"], \"mode\": \"markers\", \"name\": \"average_precision_score_micro\", \"stepped\": false, \"type\": \"scatter\", \"data\": [0.8229290538102472, 0.8549562655774119, 0.8487133038930625, 0.8409501223699285, 0.8387959638529588, 0.835138500200984, 0.8340820491902132, 0.8133393175867825, 0.8041423905628976, 0.7801240458946583, 0.8110242553336162, 0.8165803441250159, 0.7790866715971888, 0.8440167132857228, 0.8360091430356059, 0.8447310967206125, 0.8099437972751641, 0.8176860575731851, 0.8082445039167524, 0.8481665708323544, 0.848898506132646, 0.8485687405511617, 0.835167072801771, 0.8389823937410112, 0.8384628409140362, 0.813259039495868, 0.843660960253996, 0.8293173352087979, 0.7818839894173537, 0.8327997785616315, 0.8110844792104148, 0.723336678500669, 0.8147086209324321, 0.840932576318448, 0.836776448574124, 0.8173710760789843, 0.8657908935862183]}, {\"categories\": [\"0\", \"1\", \"2\", \"3\", \"4\", \"5\", \"6\", \"7\", \"8\", \"9\", \"10\", \"11\", \"12\", \"13\", \"14\", \"15\", \"16\", \"17\", \"18\", \"19\", \"20\", \"21\", \"22\", \"23\", \"24\", \"25\", \"26\", \"27\", \"28\", \"29\", \"30\", \"31\", \"32\", \"33\", \"34\", \"35\", \"38\"], \"mode\": \"lines\", \"name\": \"average_precision_score_micro_max\", \"stepped\": true, \"type\": \"scatter\", \"data\": [0.8229290538102472, 0.8549562655774119, 0.8549562655774119, 0.8549562655774119, 0.8549562655774119, 0.8549562655774119, 0.8549562655774119, 0.8549562655774119, 0.8549562655774119, 0.8549562655774119, 0.8549562655774119, 0.8549562655774119, 0.8549562655774119, 0.8549562655774119, 0.8549562655774119, 0.8549562655774119, 0.8549562655774119, 0.8549562655774119, 0.8549562655774119, 0.8549562655774119, 0.8549562655774119, 0.8549562655774119, 0.8549562655774119, 0.8549562655774119, 0.8549562655774119, 0.8549562655774119, 0.8549562655774119, 0.8549562655774119, 0.8549562655774119, 0.8549562655774119, 0.8549562655774119, 0.8549562655774119, 0.8549562655774119, 0.8549562655774119, 0.8549562655774119, 0.8549562655774119, 0.8657908935862183]}], \"AUC_weighted\": [{\"categories\": [\"0\", \"1\", \"2\", \"3\", \"4\", \"5\", \"6\", \"7\", \"8\", \"9\", \"10\", \"11\", \"12\", \"13\", \"14\", \"15\", \"16\", \"17\", \"18\", \"19\", \"20\", \"21\", \"22\", \"23\", \"24\", \"25\", \"26\", \"27\", \"28\", \"29\", \"30\", \"31\", \"32\", \"33\", \"34\", \"35\", \"38\"], \"mode\": \"markers\", \"name\": \"AUC_weighted\", \"stepped\": false, \"type\": \"scatter\", \"data\": [0.7981013916226355, 0.8366210317228242, 0.8257623107623748, 0.8304854016035733, 0.8210411149820311, 0.8120465901942989, 0.8148994848493085, 0.7927806652507627, 0.8013479863047779, 0.7775506581327138, 0.8085790072831204, 0.8116841827453001, 0.7747891353435976, 0.8208075252024681, 0.8164317623135069, 0.8227087016596203, 0.8046471697874755, 0.8048641335165986, 0.8121292187335495, 0.8223062796119004, 0.8240266352875374, 0.8298472723094127, 0.8132809201585477, 0.8152208505797622, 0.8161128629984556, 0.7868068256935232, 0.8226721292736098, 0.8126561686834268, 0.7470921367223642, 0.806013114574734, 0.7822498772655473, 0.6816126722063267, 0.82542084202531, 0.821702184515163, 0.8190315106637003, 0.793658121340302, 0.8468314726552164]}, {\"categories\": [\"0\", \"1\", \"2\", \"3\", \"4\", \"5\", \"6\", \"7\", \"8\", \"9\", \"10\", \"11\", \"12\", \"13\", \"14\", \"15\", \"16\", \"17\", \"18\", \"19\", \"20\", \"21\", \"22\", \"23\", \"24\", \"25\", \"26\", \"27\", \"28\", \"29\", \"30\", \"31\", \"32\", \"33\", \"34\", \"35\", \"38\"], \"mode\": \"lines\", \"name\": \"AUC_weighted_max\", \"stepped\": true, \"type\": \"scatter\", \"data\": [0.7981013916226355, 0.8366210317228242, 0.8366210317228242, 0.8366210317228242, 0.8366210317228242, 0.8366210317228242, 0.8366210317228242, 0.8366210317228242, 0.8366210317228242, 0.8366210317228242, 0.8366210317228242, 0.8366210317228242, 0.8366210317228242, 0.8366210317228242, 0.8366210317228242, 0.8366210317228242, 0.8366210317228242, 0.8366210317228242, 0.8366210317228242, 0.8366210317228242, 0.8366210317228242, 0.8366210317228242, 0.8366210317228242, 0.8366210317228242, 0.8366210317228242, 0.8366210317228242, 0.8366210317228242, 0.8366210317228242, 0.8366210317228242, 0.8366210317228242, 0.8366210317228242, 0.8366210317228242, 0.8366210317228242, 0.8366210317228242, 0.8366210317228242, 0.8366210317228242, 0.8468314726552164]}], \"recall_score_macro\": [{\"categories\": [\"0\", \"1\", \"2\", \"3\", \"4\", \"5\", \"6\", \"7\", \"8\", \"9\", \"10\", \"11\", \"12\", \"13\", \"14\", \"15\", \"16\", \"17\", \"18\", \"19\", \"20\", \"21\", \"22\", \"23\", \"24\", \"25\", \"26\", \"27\", \"28\", \"29\", \"30\", \"31\", \"32\", \"33\", \"34\", \"35\", \"38\"], \"mode\": \"markers\", \"name\": \"recall_score_macro\", \"stepped\": false, \"type\": \"scatter\", \"data\": [0.7053588221478819, 0.7368196523334581, 0.7029078550837805, 0.7470995655014059, 0.6905727915242434, 0.682277956799495, 0.6692707867939374, 0.627819924469121, 0.5059846980976014, 0.7107932986635961, 0.7414155481181341, 0.7385171633266039, 0.7026144144102782, 0.7066421706909842, 0.7055041196959558, 0.6940789836191253, 0.7208700706938121, 0.7205323487171886, 0.7409698331921893, 0.696352383609731, 0.7292912489194303, 0.7338151230656906, 0.708226466134825, 0.705585176022082, 0.724047222468623, 0.7013386491181416, 0.7172896205353406, 0.6976899975757002, 0.6573301156158373, 0.7074952572595252, 0.681506790516198, 0.5515150915288087, 0.7254804493766465, 0.719521237741496, 0.7005248282695598, 0.6947291993906668, 0.735536959538117]}, {\"categories\": [\"0\", \"1\", \"2\", \"3\", \"4\", \"5\", \"6\", \"7\", \"8\", \"9\", \"10\", \"11\", \"12\", \"13\", \"14\", \"15\", \"16\", \"17\", \"18\", \"19\", \"20\", \"21\", \"22\", \"23\", \"24\", \"25\", \"26\", \"27\", \"28\", \"29\", \"30\", \"31\", \"32\", \"33\", \"34\", \"35\", \"38\"], \"mode\": \"lines\", \"name\": \"recall_score_macro_max\", \"stepped\": true, \"type\": \"scatter\", \"data\": [0.7053588221478819, 0.7368196523334581, 0.7368196523334581, 0.7470995655014059, 0.7470995655014059, 0.7470995655014059, 0.7470995655014059, 0.7470995655014059, 0.7470995655014059, 0.7470995655014059, 0.7470995655014059, 0.7470995655014059, 0.7470995655014059, 0.7470995655014059, 0.7470995655014059, 0.7470995655014059, 0.7470995655014059, 0.7470995655014059, 0.7470995655014059, 0.7470995655014059, 0.7470995655014059, 0.7470995655014059, 0.7470995655014059, 0.7470995655014059, 0.7470995655014059, 0.7470995655014059, 0.7470995655014059, 0.7470995655014059, 0.7470995655014059, 0.7470995655014059, 0.7470995655014059, 0.7470995655014059, 0.7470995655014059, 0.7470995655014059, 0.7470995655014059, 0.7470995655014059, 0.7470995655014059]}], \"matthews_correlation\": [{\"categories\": [\"0\", \"1\", \"2\", \"3\", \"4\", \"5\", \"6\", \"7\", \"8\", \"9\", \"10\", \"11\", \"12\", \"13\", \"14\", \"15\", \"16\", \"17\", \"18\", \"19\", \"20\", \"21\", \"22\", \"23\", \"24\", \"25\", \"26\", \"27\", \"28\", \"29\", \"30\", \"31\", \"32\", \"33\", \"34\", \"35\", \"38\"], \"mode\": \"markers\", \"name\": \"matthews_correlation\", \"stepped\": false, \"type\": \"scatter\", \"data\": [0.4163237794803841, 0.4814237328189323, 0.4481959652289797, 0.47939706368928475, 0.4325494921160654, 0.4157483647407981, 0.3898332548532924, 0.34892498873704936, 0.04052696086030684, 0.4100348468205266, 0.4648441631287946, 0.46235138067901127, 0.3878017724036895, 0.4416434332541396, 0.4445181475610869, 0.44321855807146926, 0.4297318660263742, 0.4254303485362049, 0.4600276860703637, 0.41265260783877833, 0.46857938586539943, 0.47375087351202155, 0.42862188295384407, 0.423054777853055, 0.456012284881378, 0.411715829806106, 0.4507578414081291, 0.42576120012511315, 0.33689052739390735, 0.44267757629700694, 0.3842932300002749, 0.16396846971954554, 0.4419096580749423, 0.4670443191339716, 0.4508410859099383, 0.39661208180890234, 0.48724858062263027]}, {\"categories\": [\"0\", \"1\", \"2\", \"3\", \"4\", \"5\", \"6\", \"7\", \"8\", \"9\", \"10\", \"11\", \"12\", \"13\", \"14\", \"15\", \"16\", \"17\", \"18\", \"19\", \"20\", \"21\", \"22\", \"23\", \"24\", \"25\", \"26\", \"27\", \"28\", \"29\", \"30\", \"31\", \"32\", \"33\", \"34\", \"35\", \"38\"], \"mode\": \"lines\", \"name\": \"matthews_correlation_max\", \"stepped\": true, \"type\": \"scatter\", \"data\": [0.4163237794803841, 0.4814237328189323, 0.4814237328189323, 0.4814237328189323, 0.4814237328189323, 0.4814237328189323, 0.4814237328189323, 0.4814237328189323, 0.4814237328189323, 0.4814237328189323, 0.4814237328189323, 0.4814237328189323, 0.4814237328189323, 0.4814237328189323, 0.4814237328189323, 0.4814237328189323, 0.4814237328189323, 0.4814237328189323, 0.4814237328189323, 0.4814237328189323, 0.4814237328189323, 0.4814237328189323, 0.4814237328189323, 0.4814237328189323, 0.4814237328189323, 0.4814237328189323, 0.4814237328189323, 0.4814237328189323, 0.4814237328189323, 0.4814237328189323, 0.4814237328189323, 0.4814237328189323, 0.4814237328189323, 0.4814237328189323, 0.4814237328189323, 0.4814237328189323, 0.48724858062263027]}], \"average_precision_score_macro\": [{\"categories\": [\"0\", \"1\", \"2\", \"3\", \"4\", \"5\", \"6\", \"7\", \"8\", \"9\", \"10\", \"11\", \"12\", \"13\", \"14\", \"15\", \"16\", \"17\", \"18\", \"19\", \"20\", \"21\", \"22\", \"23\", \"24\", \"25\", \"26\", \"27\", \"28\", \"29\", \"30\", \"31\", \"32\", \"33\", \"34\", \"35\", \"38\"], \"mode\": \"markers\", \"name\": \"average_precision_score_macro\", \"stepped\": false, \"type\": \"scatter\", \"data\": [0.7742813465855433, 0.817147214521911, 0.8105968824335635, 0.8084808087849751, 0.7963172237059515, 0.7940562872671137, 0.7970593950037259, 0.7822423213826012, 0.7794239593490749, 0.7596347101540865, 0.7861290230226011, 0.790121326013026, 0.7580455173736602, 0.808682183717061, 0.7955382697174914, 0.8051128556963558, 0.7940407484045364, 0.7918894624981198, 0.789666604168867, 0.8004886674886272, 0.8017118355199807, 0.8056548266270042, 0.7920414064829485, 0.7923490340846248, 0.7935532742420122, 0.7662694299025903, 0.8034076348437594, 0.7834293299028665, 0.7406457812799168, 0.7906546035688103, 0.7630967889567748, 0.6596148278221279, 0.8078358758674351, 0.8061913865529668, 0.8046270917915403, 0.7711304778369344, 0.8306467510424242]}, {\"categories\": [\"0\", \"1\", \"2\", \"3\", \"4\", \"5\", \"6\", \"7\", \"8\", \"9\", \"10\", \"11\", \"12\", \"13\", \"14\", \"15\", \"16\", \"17\", \"18\", \"19\", \"20\", \"21\", \"22\", \"23\", \"24\", \"25\", \"26\", \"27\", \"28\", \"29\", \"30\", \"31\", \"32\", \"33\", \"34\", \"35\", \"38\"], \"mode\": \"lines\", \"name\": \"average_precision_score_macro_max\", \"stepped\": true, \"type\": \"scatter\", \"data\": [0.7742813465855433, 0.817147214521911, 0.817147214521911, 0.817147214521911, 0.817147214521911, 0.817147214521911, 0.817147214521911, 0.817147214521911, 0.817147214521911, 0.817147214521911, 0.817147214521911, 0.817147214521911, 0.817147214521911, 0.817147214521911, 0.817147214521911, 0.817147214521911, 0.817147214521911, 0.817147214521911, 0.817147214521911, 0.817147214521911, 0.817147214521911, 0.817147214521911, 0.817147214521911, 0.817147214521911, 0.817147214521911, 0.817147214521911, 0.817147214521911, 0.817147214521911, 0.817147214521911, 0.817147214521911, 0.817147214521911, 0.817147214521911, 0.817147214521911, 0.817147214521911, 0.817147214521911, 0.817147214521911, 0.8306467510424242]}], \"average_precision_score_weighted\": [{\"categories\": [\"0\", \"1\", \"2\", \"3\", \"4\", \"5\", \"6\", \"7\", \"8\", \"9\", \"10\", \"11\", \"12\", \"13\", \"14\", \"15\", \"16\", \"17\", \"18\", \"19\", \"20\", \"21\", \"22\", \"23\", \"24\", \"25\", \"26\", \"27\", \"28\", \"29\", \"30\", \"31\", \"32\", \"33\", \"34\", \"35\", \"38\"], \"mode\": \"markers\", \"name\": \"average_precision_score_weighted\", \"stepped\": false, \"type\": \"scatter\", \"data\": [0.8088900198552287, 0.8456601055549087, 0.8407343742986084, 0.8394369245269001, 0.8300332195679383, 0.8270845602821282, 0.83013653833912, 0.8167597553764357, 0.8162412161884847, 0.798546245417721, 0.8209862675361072, 0.823299302629421, 0.7962590025991274, 0.8362007182476587, 0.8275521429878421, 0.837927791101676, 0.8256081584835993, 0.8260032979129182, 0.823431625033772, 0.8351010416705931, 0.8353056656890262, 0.8366171171379992, 0.8253850658441383, 0.8266773135730267, 0.8271530854832049, 0.8036932228257159, 0.8338099118772073, 0.8166568935320472, 0.7717188579522611, 0.8232194223603807, 0.7995637479559635, 0.7016095110600704, 0.8366180588963671, 0.8345578351120899, 0.833538759756917, 0.8074142476723937, 0.8580361456760176]}, {\"categories\": [\"0\", \"1\", \"2\", \"3\", \"4\", \"5\", \"6\", \"7\", \"8\", \"9\", \"10\", \"11\", \"12\", \"13\", \"14\", \"15\", \"16\", \"17\", \"18\", \"19\", \"20\", \"21\", \"22\", \"23\", \"24\", \"25\", \"26\", \"27\", \"28\", \"29\", \"30\", \"31\", \"32\", \"33\", \"34\", \"35\", \"38\"], \"mode\": \"lines\", \"name\": \"average_precision_score_weighted_max\", \"stepped\": true, \"type\": \"scatter\", \"data\": [0.8088900198552287, 0.8456601055549087, 0.8456601055549087, 0.8456601055549087, 0.8456601055549087, 0.8456601055549087, 0.8456601055549087, 0.8456601055549087, 0.8456601055549087, 0.8456601055549087, 0.8456601055549087, 0.8456601055549087, 0.8456601055549087, 0.8456601055549087, 0.8456601055549087, 0.8456601055549087, 0.8456601055549087, 0.8456601055549087, 0.8456601055549087, 0.8456601055549087, 0.8456601055549087, 0.8456601055549087, 0.8456601055549087, 0.8456601055549087, 0.8456601055549087, 0.8456601055549087, 0.8456601055549087, 0.8456601055549087, 0.8456601055549087, 0.8456601055549087, 0.8456601055549087, 0.8456601055549087, 0.8456601055549087, 0.8456601055549087, 0.8456601055549087, 0.8456601055549087, 0.8580361456760176]}], \"f1_score_weighted\": [{\"categories\": [\"0\", \"1\", \"2\", \"3\", \"4\", \"5\", \"6\", \"7\", \"8\", \"9\", \"10\", \"11\", \"12\", \"13\", \"14\", \"15\", \"16\", \"17\", \"18\", \"19\", \"20\", \"21\", \"22\", \"23\", \"24\", \"25\", \"26\", \"27\", \"28\", \"29\", \"30\", \"31\", \"32\", \"33\", \"34\", \"35\", \"38\"], \"mode\": \"markers\", \"name\": \"f1_score_weighted\", \"stepped\": false, \"type\": \"scatter\", \"data\": [0.7376523503026942, 0.7674902736086928, 0.7508293840025397, 0.7571405547437008, 0.7377913124756337, 0.734343043670265, 0.7232841605379647, 0.6863135886381071, 0.5254010118361898, 0.7261255897026051, 0.7447714894772908, 0.7499849238023228, 0.7007560331914282, 0.7489865561083529, 0.7515500143256607, 0.7446675881477434, 0.7334023758274489, 0.7298601467517006, 0.7363272542700161, 0.7379882064803635, 0.762640417488469, 0.7629439253604393, 0.7428570411811651, 0.7423193533904254, 0.7569847044829338, 0.737350710928568, 0.7517746654256952, 0.7420865564870891, 0.7013629169642851, 0.7515405261397655, 0.7242671032689085, 0.6057758995306628, 0.742712055695114, 0.7616138800799549, 0.7511524102529433, 0.7301173352097925, 0.7716211979533176]}, {\"categories\": [\"0\", \"1\", \"2\", \"3\", \"4\", \"5\", \"6\", \"7\", \"8\", \"9\", \"10\", \"11\", \"12\", \"13\", \"14\", \"15\", \"16\", \"17\", \"18\", \"19\", \"20\", \"21\", \"22\", \"23\", \"24\", \"25\", \"26\", \"27\", \"28\", \"29\", \"30\", \"31\", \"32\", \"33\", \"34\", \"35\", \"38\"], \"mode\": \"lines\", \"name\": \"f1_score_weighted_max\", \"stepped\": true, \"type\": \"scatter\", \"data\": [0.7376523503026942, 0.7674902736086928, 0.7674902736086928, 0.7674902736086928, 0.7674902736086928, 0.7674902736086928, 0.7674902736086928, 0.7674902736086928, 0.7674902736086928, 0.7674902736086928, 0.7674902736086928, 0.7674902736086928, 0.7674902736086928, 0.7674902736086928, 0.7674902736086928, 0.7674902736086928, 0.7674902736086928, 0.7674902736086928, 0.7674902736086928, 0.7674902736086928, 0.7674902736086928, 0.7674902736086928, 0.7674902736086928, 0.7674902736086928, 0.7674902736086928, 0.7674902736086928, 0.7674902736086928, 0.7674902736086928, 0.7674902736086928, 0.7674902736086928, 0.7674902736086928, 0.7674902736086928, 0.7674902736086928, 0.7674902736086928, 0.7674902736086928, 0.7674902736086928, 0.7716211979533176]}], \"precision_score_micro\": [{\"categories\": [\"0\", \"1\", \"2\", \"3\", \"4\", \"5\", \"6\", \"7\", \"8\", \"9\", \"10\", \"11\", \"12\", \"13\", \"14\", \"15\", \"16\", \"17\", \"18\", \"19\", \"20\", \"21\", \"22\", \"23\", \"24\", \"25\", \"26\", \"27\", \"28\", \"29\", \"30\", \"31\", \"32\", \"33\", \"34\", \"35\", \"38\"], \"mode\": \"markers\", \"name\": \"precision_score_micro\", \"stepped\": false, \"type\": \"scatter\", \"data\": [0.7396103896103897, 0.7695659603554341, 0.7616712235133287, 0.7526999316473001, 0.7565447710184553, 0.7500341763499658, 0.7409261790840738, 0.7265550239234451, 0.6548701298701298, 0.7213602187286399, 0.7396787423103213, 0.746120984278879, 0.6940874914559125, 0.7565618591934381, 0.7605092276144909, 0.760457963089542, 0.7291695146958305, 0.7240943267259057, 0.729272043745728, 0.7434894053315106, 0.7656356801093642, 0.7643882433356118, 0.746120984278879, 0.7448906356801095, 0.7591079972658921, 0.7395933014354067, 0.7551948051948052, 0.7512816131237183, 0.7109876965140123, 0.7591934381408066, 0.7318181818181818, 0.6653622693096377, 0.7395591250854409, 0.7683014354066987, 0.7656527682843474, 0.7317498291182502, 0.774812030075188]}, {\"categories\": [\"0\", \"1\", \"2\", \"3\", \"4\", \"5\", \"6\", \"7\", \"8\", \"9\", \"10\", \"11\", \"12\", \"13\", \"14\", \"15\", \"16\", \"17\", \"18\", \"19\", \"20\", \"21\", \"22\", \"23\", \"24\", \"25\", \"26\", \"27\", \"28\", \"29\", \"30\", \"31\", \"32\", \"33\", \"34\", \"35\", \"38\"], \"mode\": \"lines\", \"name\": \"precision_score_micro_max\", \"stepped\": true, \"type\": \"scatter\", \"data\": [0.7396103896103897, 0.7695659603554341, 0.7695659603554341, 0.7695659603554341, 0.7695659603554341, 0.7695659603554341, 0.7695659603554341, 0.7695659603554341, 0.7695659603554341, 0.7695659603554341, 0.7695659603554341, 0.7695659603554341, 0.7695659603554341, 0.7695659603554341, 0.7695659603554341, 0.7695659603554341, 0.7695659603554341, 0.7695659603554341, 0.7695659603554341, 0.7695659603554341, 0.7695659603554341, 0.7695659603554341, 0.7695659603554341, 0.7695659603554341, 0.7695659603554341, 0.7695659603554341, 0.7695659603554341, 0.7695659603554341, 0.7695659603554341, 0.7695659603554341, 0.7695659603554341, 0.7695659603554341, 0.7695659603554341, 0.7695659603554341, 0.7695659603554341, 0.7695659603554341, 0.774812030075188]}], \"f1_score_micro\": [{\"categories\": [\"0\", \"1\", \"2\", \"3\", \"4\", \"5\", \"6\", \"7\", \"8\", \"9\", \"10\", \"11\", \"12\", \"13\", \"14\", \"15\", \"16\", \"17\", \"18\", \"19\", \"20\", \"21\", \"22\", \"23\", \"24\", \"25\", \"26\", \"27\", \"28\", \"29\", \"30\", \"31\", \"32\", \"33\", \"34\", \"35\", \"38\"], \"mode\": \"markers\", \"name\": \"f1_score_micro\", \"stepped\": false, \"type\": \"scatter\", \"data\": [0.7396103896103897, 0.7695659603554341, 0.7616712235133287, 0.7526999316473001, 0.7565447710184553, 0.7500341763499658, 0.7409261790840738, 0.7265550239234451, 0.6548701298701298, 0.7213602187286399, 0.7396787423103213, 0.746120984278879, 0.6940874914559124, 0.7565618591934381, 0.7605092276144909, 0.760457963089542, 0.7291695146958304, 0.7240943267259057, 0.729272043745728, 0.7434894053315106, 0.7656356801093642, 0.7643882433356118, 0.746120984278879, 0.7448906356801095, 0.7591079972658921, 0.7395933014354067, 0.7551948051948052, 0.7512816131237183, 0.7109876965140123, 0.7591934381408066, 0.7318181818181818, 0.6653622693096377, 0.7395591250854409, 0.7683014354066987, 0.7656527682843474, 0.7317498291182502, 0.774812030075188]}, {\"categories\": [\"0\", \"1\", \"2\", \"3\", \"4\", \"5\", \"6\", \"7\", \"8\", \"9\", \"10\", \"11\", \"12\", \"13\", \"14\", \"15\", \"16\", \"17\", \"18\", \"19\", \"20\", \"21\", \"22\", \"23\", \"24\", \"25\", \"26\", \"27\", \"28\", \"29\", \"30\", \"31\", \"32\", \"33\", \"34\", \"35\", \"38\"], \"mode\": \"lines\", \"name\": \"f1_score_micro_max\", \"stepped\": true, \"type\": \"scatter\", \"data\": [0.7396103896103897, 0.7695659603554341, 0.7695659603554341, 0.7695659603554341, 0.7695659603554341, 0.7695659603554341, 0.7695659603554341, 0.7695659603554341, 0.7695659603554341, 0.7695659603554341, 0.7695659603554341, 0.7695659603554341, 0.7695659603554341, 0.7695659603554341, 0.7695659603554341, 0.7695659603554341, 0.7695659603554341, 0.7695659603554341, 0.7695659603554341, 0.7695659603554341, 0.7695659603554341, 0.7695659603554341, 0.7695659603554341, 0.7695659603554341, 0.7695659603554341, 0.7695659603554341, 0.7695659603554341, 0.7695659603554341, 0.7695659603554341, 0.7695659603554341, 0.7695659603554341, 0.7695659603554341, 0.7695659603554341, 0.7695659603554341, 0.7695659603554341, 0.7695659603554341, 0.774812030075188]}], \"f1_score_macro\": [{\"categories\": [\"0\", \"1\", \"2\", \"3\", \"4\", \"5\", \"6\", \"7\", \"8\", \"9\", \"10\", \"11\", \"12\", \"13\", \"14\", \"15\", \"16\", \"17\", \"18\", \"19\", \"20\", \"21\", \"22\", \"23\", \"24\", \"25\", \"26\", \"27\", \"28\", \"29\", \"30\", \"31\", \"32\", \"33\", \"34\", \"35\", \"38\"], \"mode\": \"markers\", \"name\": \"f1_score_macro\", \"stepped\": false, \"type\": \"scatter\", \"data\": [0.7060869524729553, 0.7386733613551352, 0.7132594240482472, 0.7342635265799057, 0.6964847275127383, 0.6910264501731247, 0.6772034769518591, 0.624633850904793, 0.40748256988409154, 0.6995120451794207, 0.722604886874384, 0.7256569707263874, 0.6796913531999601, 0.7133648428740039, 0.7139087574410298, 0.7029974499679337, 0.7081961422071931, 0.7055720973405772, 0.7169513218170322, 0.7006019900541947, 0.7323429719874582, 0.7339091535370454, 0.7103741857447166, 0.7080983085986131, 0.7257953980090168, 0.7035258831465685, 0.7204406134222676, 0.705075327147772, 0.6598147975310394, 0.7145627341788671, 0.6856132146730809, 0.5250549493932896, 0.7167032172822877, 0.7269881458326962, 0.7084051489915503, 0.6960376815626034, 0.7409511382066434]}, {\"categories\": [\"0\", \"1\", \"2\", \"3\", \"4\", \"5\", \"6\", \"7\", \"8\", \"9\", \"10\", \"11\", \"12\", \"13\", \"14\", \"15\", \"16\", \"17\", \"18\", \"19\", \"20\", \"21\", \"22\", \"23\", \"24\", \"25\", \"26\", \"27\", \"28\", \"29\", \"30\", \"31\", \"32\", \"33\", \"34\", \"35\", \"38\"], \"mode\": \"lines\", \"name\": \"f1_score_macro_max\", \"stepped\": true, \"type\": \"scatter\", \"data\": [0.7060869524729553, 0.7386733613551352, 0.7386733613551352, 0.7386733613551352, 0.7386733613551352, 0.7386733613551352, 0.7386733613551352, 0.7386733613551352, 0.7386733613551352, 0.7386733613551352, 0.7386733613551352, 0.7386733613551352, 0.7386733613551352, 0.7386733613551352, 0.7386733613551352, 0.7386733613551352, 0.7386733613551352, 0.7386733613551352, 0.7386733613551352, 0.7386733613551352, 0.7386733613551352, 0.7386733613551352, 0.7386733613551352, 0.7386733613551352, 0.7386733613551352, 0.7386733613551352, 0.7386733613551352, 0.7386733613551352, 0.7386733613551352, 0.7386733613551352, 0.7386733613551352, 0.7386733613551352, 0.7386733613551352, 0.7386733613551352, 0.7386733613551352, 0.7386733613551352, 0.7409511382066434]}], \"weighted_accuracy\": [{\"categories\": [\"0\", \"1\", \"2\", \"3\", \"4\", \"5\", \"6\", \"7\", \"8\", \"9\", \"10\", \"11\", \"12\", \"13\", \"14\", \"15\", \"16\", \"17\", \"18\", \"19\", \"20\", \"21\", \"22\", \"23\", \"24\", \"25\", \"26\", \"27\", \"28\", \"29\", \"30\", \"31\", \"32\", \"33\", \"34\", \"35\", \"38\"], \"mode\": \"markers\", \"name\": \"weighted_accuracy\", \"stepped\": false, \"type\": \"scatter\", \"data\": [0.7658219048734536, 0.7945054420815822, 0.8058724838091974, 0.7564470839382986, 0.8072616202241253, 0.8019753818985299, 0.7958613209413257, 0.8028247880551012, 0.7702700816043868, 0.7280007783175647, 0.7376574842932098, 0.7508882942032205, 0.6865379696744514, 0.7947134642091852, 0.8015760618609585, 0.8113599464961994, 0.7347215665563206, 0.7264551864730711, 0.7221353091897804, 0.7793562818141588, 0.7923072490351333, 0.7876656489043206, 0.7752159501425506, 0.7737974914965314, 0.785399388693536, 0.7682773412831079, 0.7843392501982127, 0.7921448699416143, 0.7525873450322276, 0.7980882964389985, 0.7703634296164339, 0.7534427646627713, 0.7488613414494372, 0.8055427754007946, 0.8125086016950187, 0.7595101767261567, 0.8036880648961665]}, {\"categories\": [\"0\", \"1\", \"2\", \"3\", \"4\", \"5\", \"6\", \"7\", \"8\", \"9\", \"10\", \"11\", \"12\", \"13\", \"14\", \"15\", \"16\", \"17\", \"18\", \"19\", \"20\", \"21\", \"22\", \"23\", \"24\", \"25\", \"26\", \"27\", \"28\", \"29\", \"30\", \"31\", \"32\", \"33\", \"34\", \"35\", \"38\"], \"mode\": \"lines\", \"name\": \"weighted_accuracy_max\", \"stepped\": true, \"type\": \"scatter\", \"data\": [0.7658219048734536, 0.7945054420815822, 0.8058724838091974, 0.8058724838091974, 0.8072616202241253, 0.8072616202241253, 0.8072616202241253, 0.8072616202241253, 0.8072616202241253, 0.8072616202241253, 0.8072616202241253, 0.8072616202241253, 0.8072616202241253, 0.8072616202241253, 0.8072616202241253, 0.8113599464961994, 0.8113599464961994, 0.8113599464961994, 0.8113599464961994, 0.8113599464961994, 0.8113599464961994, 0.8113599464961994, 0.8113599464961994, 0.8113599464961994, 0.8113599464961994, 0.8113599464961994, 0.8113599464961994, 0.8113599464961994, 0.8113599464961994, 0.8113599464961994, 0.8113599464961994, 0.8113599464961994, 0.8113599464961994, 0.8113599464961994, 0.8125086016950187, 0.8125086016950187, 0.8125086016950187]}], \"recall_score_micro\": [{\"categories\": [\"0\", \"1\", \"2\", \"3\", \"4\", \"5\", \"6\", \"7\", \"8\", \"9\", \"10\", \"11\", \"12\", \"13\", \"14\", \"15\", \"16\", \"17\", \"18\", \"19\", \"20\", \"21\", \"22\", \"23\", \"24\", \"25\", \"26\", \"27\", \"28\", \"29\", \"30\", \"31\", \"32\", \"33\", \"34\", \"35\", \"38\"], \"mode\": \"markers\", \"name\": \"recall_score_micro\", \"stepped\": false, \"type\": \"scatter\", \"data\": [0.7396103896103897, 0.7695659603554341, 0.7616712235133287, 0.7526999316473001, 0.7565447710184553, 0.7500341763499658, 0.7409261790840738, 0.7265550239234451, 0.6548701298701298, 0.7213602187286399, 0.7396787423103213, 0.746120984278879, 0.6940874914559125, 0.7565618591934381, 0.7605092276144909, 0.760457963089542, 0.7291695146958305, 0.7240943267259057, 0.729272043745728, 0.7434894053315106, 0.7656356801093642, 0.7643882433356118, 0.746120984278879, 0.7448906356801095, 0.7591079972658921, 0.7395933014354067, 0.7551948051948052, 0.7512816131237183, 0.7109876965140123, 0.7591934381408066, 0.7318181818181818, 0.6653622693096377, 0.7395591250854409, 0.7683014354066987, 0.7656527682843474, 0.7317498291182502, 0.774812030075188]}, {\"categories\": [\"0\", \"1\", \"2\", \"3\", \"4\", \"5\", \"6\", \"7\", \"8\", \"9\", \"10\", \"11\", \"12\", \"13\", \"14\", \"15\", \"16\", \"17\", \"18\", \"19\", \"20\", \"21\", \"22\", \"23\", \"24\", \"25\", \"26\", \"27\", \"28\", \"29\", \"30\", \"31\", \"32\", \"33\", \"34\", \"35\", \"38\"], \"mode\": \"lines\", \"name\": \"recall_score_micro_max\", \"stepped\": true, \"type\": \"scatter\", \"data\": [0.7396103896103897, 0.7695659603554341, 0.7695659603554341, 0.7695659603554341, 0.7695659603554341, 0.7695659603554341, 0.7695659603554341, 0.7695659603554341, 0.7695659603554341, 0.7695659603554341, 0.7695659603554341, 0.7695659603554341, 0.7695659603554341, 0.7695659603554341, 0.7695659603554341, 0.7695659603554341, 0.7695659603554341, 0.7695659603554341, 0.7695659603554341, 0.7695659603554341, 0.7695659603554341, 0.7695659603554341, 0.7695659603554341, 0.7695659603554341, 0.7695659603554341, 0.7695659603554341, 0.7695659603554341, 0.7695659603554341, 0.7695659603554341, 0.7695659603554341, 0.7695659603554341, 0.7695659603554341, 0.7695659603554341, 0.7695659603554341, 0.7695659603554341, 0.7695659603554341, 0.774812030075188]}], \"accuracy\": [{\"categories\": [\"0\", \"1\", \"2\", \"3\", \"4\", \"5\", \"6\", \"7\", \"8\", \"9\", \"10\", \"11\", \"12\", \"13\", \"14\", \"15\", \"16\", \"17\", \"18\", \"19\", \"20\", \"21\", \"22\", \"23\", \"24\", \"25\", \"26\", \"27\", \"28\", \"29\", \"30\", \"31\", \"32\", \"33\", \"34\", \"35\", \"38\"], \"mode\": \"markers\", \"name\": \"accuracy\", \"stepped\": false, \"type\": \"scatter\", \"data\": [0.7396103896103897, 0.7695659603554341, 0.7616712235133287, 0.7526999316473001, 0.7565447710184553, 0.7500341763499658, 0.7409261790840738, 0.7265550239234451, 0.6548701298701298, 0.7213602187286399, 0.7396787423103213, 0.746120984278879, 0.6940874914559125, 0.7565618591934381, 0.7605092276144909, 0.760457963089542, 0.7291695146958305, 0.7240943267259057, 0.729272043745728, 0.7434894053315106, 0.7656356801093642, 0.7643882433356118, 0.746120984278879, 0.7448906356801095, 0.7591079972658921, 0.7395933014354067, 0.7551948051948052, 0.7512816131237183, 0.7109876965140123, 0.7591934381408066, 0.7318181818181818, 0.6653622693096377, 0.7395591250854409, 0.7683014354066987, 0.7656527682843474, 0.7317498291182502, 0.774812030075188]}, {\"categories\": [\"0\", \"1\", \"2\", \"3\", \"4\", \"5\", \"6\", \"7\", \"8\", \"9\", \"10\", \"11\", \"12\", \"13\", \"14\", \"15\", \"16\", \"17\", \"18\", \"19\", \"20\", \"21\", \"22\", \"23\", \"24\", \"25\", \"26\", \"27\", \"28\", \"29\", \"30\", \"31\", \"32\", \"33\", \"34\", \"35\", \"38\"], \"mode\": \"lines\", \"name\": \"accuracy_max\", \"stepped\": true, \"type\": \"scatter\", \"data\": [0.7396103896103897, 0.7695659603554341, 0.7695659603554341, 0.7695659603554341, 0.7695659603554341, 0.7695659603554341, 0.7695659603554341, 0.7695659603554341, 0.7695659603554341, 0.7695659603554341, 0.7695659603554341, 0.7695659603554341, 0.7695659603554341, 0.7695659603554341, 0.7695659603554341, 0.7695659603554341, 0.7695659603554341, 0.7695659603554341, 0.7695659603554341, 0.7695659603554341, 0.7695659603554341, 0.7695659603554341, 0.7695659603554341, 0.7695659603554341, 0.7695659603554341, 0.7695659603554341, 0.7695659603554341, 0.7695659603554341, 0.7695659603554341, 0.7695659603554341, 0.7695659603554341, 0.7695659603554341, 0.7695659603554341, 0.7695659603554341, 0.7695659603554341, 0.7695659603554341, 0.774812030075188]}], \"AUC_macro\": [{\"categories\": [\"0\", \"1\", \"2\", \"3\", \"4\", \"5\", \"6\", \"7\", \"8\", \"9\", \"10\", \"11\", \"12\", \"13\", \"14\", \"15\", \"16\", \"17\", \"18\", \"19\", \"20\", \"21\", \"22\", \"23\", \"24\", \"25\", \"26\", \"27\", \"28\", \"29\", \"30\", \"31\", \"32\", \"33\", \"34\", \"35\", \"38\"], \"mode\": \"markers\", \"name\": \"AUC_macro\", \"stepped\": false, \"type\": \"scatter\", \"data\": [0.7981013916226355, 0.8366210317228242, 0.8257623107623748, 0.8304854016035733, 0.8210411149820311, 0.8120465901942989, 0.8148994848493085, 0.7927806652507627, 0.8013479863047779, 0.7775506581327137, 0.8085790072831204, 0.8116841827453001, 0.7747891353435976, 0.8208075252024681, 0.8164317623135069, 0.8227087016596203, 0.8046471697874755, 0.8048641335165986, 0.8121292187335495, 0.8223062796119006, 0.8240266352875374, 0.8298472723094127, 0.8132809201585477, 0.8152208505797622, 0.8161128629984556, 0.7868068256935233, 0.82267212927361, 0.8126561686834268, 0.7470921367223642, 0.806013114574734, 0.7822498772655473, 0.6816126722063267, 0.82542084202531, 0.8217021845151631, 0.8190315106637003, 0.793658121340302, 0.8468314726552164]}, {\"categories\": [\"0\", \"1\", \"2\", \"3\", \"4\", \"5\", \"6\", \"7\", \"8\", \"9\", \"10\", \"11\", \"12\", \"13\", \"14\", \"15\", \"16\", \"17\", \"18\", \"19\", \"20\", \"21\", \"22\", \"23\", \"24\", \"25\", \"26\", \"27\", \"28\", \"29\", \"30\", \"31\", \"32\", \"33\", \"34\", \"35\", \"38\"], \"mode\": \"lines\", \"name\": \"AUC_macro_max\", \"stepped\": true, \"type\": \"scatter\", \"data\": [0.7981013916226355, 0.8366210317228242, 0.8366210317228242, 0.8366210317228242, 0.8366210317228242, 0.8366210317228242, 0.8366210317228242, 0.8366210317228242, 0.8366210317228242, 0.8366210317228242, 0.8366210317228242, 0.8366210317228242, 0.8366210317228242, 0.8366210317228242, 0.8366210317228242, 0.8366210317228242, 0.8366210317228242, 0.8366210317228242, 0.8366210317228242, 0.8366210317228242, 0.8366210317228242, 0.8366210317228242, 0.8366210317228242, 0.8366210317228242, 0.8366210317228242, 0.8366210317228242, 0.8366210317228242, 0.8366210317228242, 0.8366210317228242, 0.8366210317228242, 0.8366210317228242, 0.8366210317228242, 0.8366210317228242, 0.8366210317228242, 0.8366210317228242, 0.8366210317228242, 0.8468314726552164]}], \"balanced_accuracy\": [{\"categories\": [\"0\", \"1\", \"2\", \"3\", \"4\", \"5\", \"6\", \"7\", \"8\", \"9\", \"10\", \"11\", \"12\", \"13\", \"14\", \"15\", \"16\", \"17\", \"18\", \"19\", \"20\", \"21\", \"22\", \"23\", \"24\", \"25\", \"26\", \"27\", \"28\", \"29\", \"30\", \"31\", \"32\", \"33\", \"34\", \"35\", \"38\"], \"mode\": \"markers\", \"name\": \"balanced_accuracy\", \"stepped\": false, \"type\": \"scatter\", \"data\": [0.7053588221478819, 0.7368196523334581, 0.7029078550837805, 0.7470995655014059, 0.6905727915242434, 0.682277956799495, 0.6692707867939374, 0.627819924469121, 0.5059846980976014, 0.7107932986635961, 0.7414155481181341, 0.7385171633266039, 0.7026144144102782, 0.7066421706909842, 0.7055041196959558, 0.6940789836191253, 0.7208700706938121, 0.7205323487171886, 0.7409698331921893, 0.696352383609731, 0.7292912489194303, 0.7338151230656906, 0.708226466134825, 0.705585176022082, 0.724047222468623, 0.7013386491181416, 0.7172896205353406, 0.6976899975757002, 0.6573301156158373, 0.7074952572595252, 0.681506790516198, 0.5515150915288087, 0.7254804493766465, 0.719521237741496, 0.7005248282695598, 0.6947291993906668, 0.735536959538117]}, {\"categories\": [\"0\", \"1\", \"2\", \"3\", \"4\", \"5\", \"6\", \"7\", \"8\", \"9\", \"10\", \"11\", \"12\", \"13\", \"14\", \"15\", \"16\", \"17\", \"18\", \"19\", \"20\", \"21\", \"22\", \"23\", \"24\", \"25\", \"26\", \"27\", \"28\", \"29\", \"30\", \"31\", \"32\", \"33\", \"34\", \"35\", \"38\"], \"mode\": \"lines\", \"name\": \"balanced_accuracy_max\", \"stepped\": true, \"type\": \"scatter\", \"data\": [0.7053588221478819, 0.7368196523334581, 0.7368196523334581, 0.7470995655014059, 0.7470995655014059, 0.7470995655014059, 0.7470995655014059, 0.7470995655014059, 0.7470995655014059, 0.7470995655014059, 0.7470995655014059, 0.7470995655014059, 0.7470995655014059, 0.7470995655014059, 0.7470995655014059, 0.7470995655014059, 0.7470995655014059, 0.7470995655014059, 0.7470995655014059, 0.7470995655014059, 0.7470995655014059, 0.7470995655014059, 0.7470995655014059, 0.7470995655014059, 0.7470995655014059, 0.7470995655014059, 0.7470995655014059, 0.7470995655014059, 0.7470995655014059, 0.7470995655014059, 0.7470995655014059, 0.7470995655014059, 0.7470995655014059, 0.7470995655014059, 0.7470995655014059, 0.7470995655014059, 0.7470995655014059]}], \"precision_score_weighted\": [{\"categories\": [\"0\", \"1\", \"2\", \"3\", \"4\", \"5\", \"6\", \"7\", \"8\", \"9\", \"10\", \"11\", \"12\", \"13\", \"14\", \"15\", \"16\", \"17\", \"18\", \"19\", \"20\", \"21\", \"22\", \"23\", \"24\", \"25\", \"26\", \"27\", \"28\", \"29\", \"30\", \"31\", \"32\", \"33\", \"34\", \"35\", \"38\"], \"mode\": \"markers\", \"name\": \"precision_score_weighted\", \"stepped\": false, \"type\": \"scatter\", \"data\": [0.7396148182527014, 0.7692657656068833, 0.7595839334472381, 0.7711781236814105, 0.7561201083528623, 0.7501017739357966, 0.7382712113657945, 0.7399744235031617, 0.5241105290333894, 0.7409384633087479, 0.7676110629172672, 0.7635800364945253, 0.7335890227064266, 0.7552237707775337, 0.757818826302923, 0.7639131899200777, 0.7496087380054425, 0.7481629965826926, 0.7658702989890455, 0.7433837940645757, 0.7631865534306315, 0.766965482354679, 0.7470513241044096, 0.7462686320677201, 0.7589928420361292, 0.7394720645437738, 0.7576755000857698, 0.7473999212892053, 0.7080242707017188, 0.7563576161117016, 0.7286718414713266, 0.6539482338593953, 0.7537240674383193, 0.767229524759855, 0.7655858038232173, 0.7327815131037186, 0.7733694645673027]}, {\"categories\": [\"0\", \"1\", \"2\", \"3\", \"4\", \"5\", \"6\", \"7\", \"8\", \"9\", \"10\", \"11\", \"12\", \"13\", \"14\", \"15\", \"16\", \"17\", \"18\", \"19\", \"20\", \"21\", \"22\", \"23\", \"24\", \"25\", \"26\", \"27\", \"28\", \"29\", \"30\", \"31\", \"32\", \"33\", \"34\", \"35\", \"38\"], \"mode\": \"lines\", \"name\": \"precision_score_weighted_max\", \"stepped\": true, \"type\": \"scatter\", \"data\": [0.7396148182527014, 0.7692657656068833, 0.7692657656068833, 0.7711781236814105, 0.7711781236814105, 0.7711781236814105, 0.7711781236814105, 0.7711781236814105, 0.7711781236814105, 0.7711781236814105, 0.7711781236814105, 0.7711781236814105, 0.7711781236814105, 0.7711781236814105, 0.7711781236814105, 0.7711781236814105, 0.7711781236814105, 0.7711781236814105, 0.7711781236814105, 0.7711781236814105, 0.7711781236814105, 0.7711781236814105, 0.7711781236814105, 0.7711781236814105, 0.7711781236814105, 0.7711781236814105, 0.7711781236814105, 0.7711781236814105, 0.7711781236814105, 0.7711781236814105, 0.7711781236814105, 0.7711781236814105, 0.7711781236814105, 0.7711781236814105, 0.7711781236814105, 0.7711781236814105, 0.7733694645673027]}], \"log_loss\": [{\"categories\": [\"0\", \"1\", \"2\", \"3\", \"4\", \"5\", \"6\", \"7\", \"8\", \"9\", \"10\", \"11\", \"12\", \"13\", \"14\", \"15\", \"16\", \"17\", \"18\", \"19\", \"20\", \"21\", \"22\", \"23\", \"24\", \"25\", \"26\", \"27\", \"28\", \"29\", \"30\", \"31\", \"32\", \"33\", \"34\", \"35\", \"38\"], \"mode\": \"markers\", \"name\": \"log_loss\", \"stepped\": false, \"type\": \"scatter\", \"data\": [0.6480770950597856, 0.4752990014529053, 0.48955834576938095, 0.5050942023287923, 0.5142173165933865, 0.5104080016792586, 0.5162564566784147, 0.5467222726313133, 0.5863952270600976, 0.6349564379502853, 0.5627455628885183, 0.5652886619936517, 0.6528858745739905, 0.5399900419024505, 0.5007399436907547, 0.4988310037607544, 0.5601373956768663, 0.5703489177212266, 0.5850896786861757, 0.48532808858878324, 0.4925117186247898, 0.4953372290721231, 0.5490501417451764, 0.5201432773723467, 0.5243508876759967, 0.665186068910875, 0.4915918182944795, 0.5468321409541537, 0.5747919430310239, 0.5148813615278071, 0.5363744259052919, 0.6180062956720171, 0.5179769663445951, 0.48945228326985524, 0.5309860594313699, 0.7738923742701568, 0.4736229235183222]}, {\"categories\": [\"0\", \"1\", \"2\", \"3\", \"4\", \"5\", \"6\", \"7\", \"8\", \"9\", \"10\", \"11\", \"12\", \"13\", \"14\", \"15\", \"16\", \"17\", \"18\", \"19\", \"20\", \"21\", \"22\", \"23\", \"24\", \"25\", \"26\", \"27\", \"28\", \"29\", \"30\", \"31\", \"32\", \"33\", \"34\", \"35\", \"38\"], \"mode\": \"lines\", \"name\": \"log_loss_min\", \"stepped\": true, \"type\": \"scatter\", \"data\": [0.6480770950597856, 0.4752990014529053, 0.4752990014529053, 0.4752990014529053, 0.4752990014529053, 0.4752990014529053, 0.4752990014529053, 0.4752990014529053, 0.4752990014529053, 0.4752990014529053, 0.4752990014529053, 0.4752990014529053, 0.4752990014529053, 0.4752990014529053, 0.4752990014529053, 0.4752990014529053, 0.4752990014529053, 0.4752990014529053, 0.4752990014529053, 0.4752990014529053, 0.4752990014529053, 0.4752990014529053, 0.4752990014529053, 0.4752990014529053, 0.4752990014529053, 0.4752990014529053, 0.4752990014529053, 0.4752990014529053, 0.4752990014529053, 0.4752990014529053, 0.4752990014529053, 0.4752990014529053, 0.4752990014529053, 0.4752990014529053, 0.4752990014529053, 0.4752990014529053, 0.4736229235183222]}], \"AUC_micro\": [{\"categories\": [\"0\", \"1\", \"2\", \"3\", \"4\", \"5\", \"6\", \"7\", \"8\", \"9\", \"10\", \"11\", \"12\", \"13\", \"14\", \"15\", \"16\", \"17\", \"18\", \"19\", \"20\", \"21\", \"22\", \"23\", \"24\", \"25\", \"26\", \"27\", \"28\", \"29\", \"30\", \"31\", \"32\", \"33\", \"34\", \"35\", \"38\"], \"mode\": \"markers\", \"name\": \"AUC_micro\", \"stepped\": false, \"type\": \"scatter\", \"data\": [0.8242456616125537, 0.8556880349836874, 0.8466705127713959, 0.838966207462358, 0.833583084855929, 0.8324652197821963, 0.830190959479417, 0.805746631772372, 0.7861203576345949, 0.7812360625667818, 0.8100790185010155, 0.8173372033046638, 0.769740766662197, 0.844475000572331, 0.8385788414287443, 0.8409673723315934, 0.8089585896170239, 0.8099631885903786, 0.8061942035462109, 0.8443936798981857, 0.8451741060770364, 0.8497669735919369, 0.835504605163876, 0.8381858893256255, 0.8393107946573698, 0.8122127685693448, 0.8415565785619208, 0.8338311699991918, 0.790671780777053, 0.8324374091570192, 0.8134367426831541, 0.7346809796581804, 0.8253753645983473, 0.8465846163675517, 0.8378126038080349, 0.8185535823495854, 0.8631820085695505]}, {\"categories\": [\"0\", \"1\", \"2\", \"3\", \"4\", \"5\", \"6\", \"7\", \"8\", \"9\", \"10\", \"11\", \"12\", \"13\", \"14\", \"15\", \"16\", \"17\", \"18\", \"19\", \"20\", \"21\", \"22\", \"23\", \"24\", \"25\", \"26\", \"27\", \"28\", \"29\", \"30\", \"31\", \"32\", \"33\", \"34\", \"35\", \"38\"], \"mode\": \"lines\", \"name\": \"AUC_micro_max\", \"stepped\": true, \"type\": \"scatter\", \"data\": [0.8242456616125537, 0.8556880349836874, 0.8556880349836874, 0.8556880349836874, 0.8556880349836874, 0.8556880349836874, 0.8556880349836874, 0.8556880349836874, 0.8556880349836874, 0.8556880349836874, 0.8556880349836874, 0.8556880349836874, 0.8556880349836874, 0.8556880349836874, 0.8556880349836874, 0.8556880349836874, 0.8556880349836874, 0.8556880349836874, 0.8556880349836874, 0.8556880349836874, 0.8556880349836874, 0.8556880349836874, 0.8556880349836874, 0.8556880349836874, 0.8556880349836874, 0.8556880349836874, 0.8556880349836874, 0.8556880349836874, 0.8556880349836874, 0.8556880349836874, 0.8556880349836874, 0.8556880349836874, 0.8556880349836874, 0.8556880349836874, 0.8556880349836874, 0.8556880349836874, 0.8631820085695505]}], \"norm_macro_recall\": [{\"categories\": [\"0\", \"1\", \"2\", \"3\", \"4\", \"5\", \"6\", \"7\", \"8\", \"9\", \"10\", \"11\", \"12\", \"13\", \"14\", \"15\", \"16\", \"17\", \"18\", \"19\", \"20\", \"21\", \"22\", \"23\", \"24\", \"25\", \"26\", \"27\", \"28\", \"29\", \"30\", \"31\", \"32\", \"33\", \"34\", \"35\", \"38\"], \"mode\": \"markers\", \"name\": \"norm_macro_recall\", \"stepped\": false, \"type\": \"scatter\", \"data\": [0.41071764429576385, 0.4736393046669162, 0.40581571016756113, 0.4941991310028119, 0.38114558304848684, 0.3645559135989901, 0.3385415735878746, 0.255639848938242, 0.01196939619520263, 0.42158659732719245, 0.4828310962362684, 0.4770343266532079, 0.40522882882055644, 0.41328434138196846, 0.4110082393919118, 0.38815796723825063, 0.44174014138762424, 0.44106469743437743, 0.48193966638437863, 0.3927047672194618, 0.4585824978388608, 0.4676302461313814, 0.41645293226964986, 0.41117035204416386, 0.44809444493724576, 0.40267729823628323, 0.4345792410706812, 0.39537999515140043, 0.3146602312316745, 0.41499051451905034, 0.36301358103239617, 0.10541447478272263, 0.45096089875329276, 0.4390424754829921, 0.4010496565391194, 0.3894583987813337, 0.47107391907623397]}, {\"categories\": [\"0\", \"1\", \"2\", \"3\", \"4\", \"5\", \"6\", \"7\", \"8\", \"9\", \"10\", \"11\", \"12\", \"13\", \"14\", \"15\", \"16\", \"17\", \"18\", \"19\", \"20\", \"21\", \"22\", \"23\", \"24\", \"25\", \"26\", \"27\", \"28\", \"29\", \"30\", \"31\", \"32\", \"33\", \"34\", \"35\", \"38\"], \"mode\": \"lines\", \"name\": \"norm_macro_recall_max\", \"stepped\": true, \"type\": \"scatter\", \"data\": [0.41071764429576385, 0.4736393046669162, 0.4736393046669162, 0.4941991310028119, 0.4941991310028119, 0.4941991310028119, 0.4941991310028119, 0.4941991310028119, 0.4941991310028119, 0.4941991310028119, 0.4941991310028119, 0.4941991310028119, 0.4941991310028119, 0.4941991310028119, 0.4941991310028119, 0.4941991310028119, 0.4941991310028119, 0.4941991310028119, 0.4941991310028119, 0.4941991310028119, 0.4941991310028119, 0.4941991310028119, 0.4941991310028119, 0.4941991310028119, 0.4941991310028119, 0.4941991310028119, 0.4941991310028119, 0.4941991310028119, 0.4941991310028119, 0.4941991310028119, 0.4941991310028119, 0.4941991310028119, 0.4941991310028119, 0.4941991310028119, 0.4941991310028119, 0.4941991310028119, 0.4941991310028119]}]}, \"metricName\": null, \"primaryMetricName\": \"AUC_weighted\", \"showLegend\": false}, \"run_metrics\": [{\"name\": \"experiment_status\", \"run_id\": \"AutoML_fb57bb5b-6d97-45b1-aa8c-de8c5dc27fca\", \"categories\": [0, 1, 2, 3, 4, 5, 6, 7, 8, 9, 10, 11, 12, 13], \"series\": [{\"data\": [\"DatasetEvaluation\", \"FeaturesGeneration\", \"DatasetFeaturization\", \"DatasetFeaturizationCompleted\", \"DatasetCrossValidationSplit\", \"ModelSelection\", \"BestRunExplainModel\", \"ModelExplanationDataSetSetup\", \"PickSurrogateModel\", \"EngineeredFeatureExplanations\", \"EngineeredFeatureExplanations\", \"RawFeaturesExplanations\", \"RawFeaturesExplanations\", \"BestRunExplainModel\"]}]}, {\"name\": \"experiment_status_description\", \"run_id\": \"AutoML_fb57bb5b-6d97-45b1-aa8c-de8c5dc27fca\", \"categories\": [0, 1, 2, 3, 4, 5, 6, 7, 8, 9, 10, 11, 12, 13], \"series\": [{\"data\": [\"Gathering dataset statistics.\", \"Generating features for the dataset.\", \"Beginning to fit featurizers and featurize the dataset.\", \"Completed fit featurizers and featurizing the dataset.\", \"Generating individually featurized CV splits.\", \"Beginning model selection.\", \"Best run model explanations started\", \"Model explanations data setup completed\", \"Choosing LightGBM as the surrogate model for explanations\", \"Computation of engineered features started\", \"Computation of engineered features completed\", \"Computation of raw features started\", \"Computation of raw features completed\", \"Best run model explanations completed\"]}]}, {\"name\": \"AUC_micro\", \"run_id\": \"AutoML_fb57bb5b-6d97-45b1-aa8c-de8c5dc27fca\", \"categories\": [0], \"series\": [{\"data\": [0.8631820085695505]}]}, {\"name\": \"average_precision_score_weighted\", \"run_id\": \"AutoML_fb57bb5b-6d97-45b1-aa8c-de8c5dc27fca\", \"categories\": [0], \"series\": [{\"data\": [0.8580361456760176]}]}, {\"name\": \"AUC_weighted\", \"run_id\": \"AutoML_fb57bb5b-6d97-45b1-aa8c-de8c5dc27fca\", \"categories\": [0], \"series\": [{\"data\": [0.8468314726552164]}]}, {\"name\": \"f1_score_weighted\", \"run_id\": \"AutoML_fb57bb5b-6d97-45b1-aa8c-de8c5dc27fca\", \"categories\": [0], \"series\": [{\"data\": [0.7716211979533176]}]}, {\"name\": \"f1_score_macro\", \"run_id\": \"AutoML_fb57bb5b-6d97-45b1-aa8c-de8c5dc27fca\", \"categories\": [0], \"series\": [{\"data\": [0.7409511382066434]}]}, {\"name\": \"matthews_correlation\", \"run_id\": \"AutoML_fb57bb5b-6d97-45b1-aa8c-de8c5dc27fca\", \"categories\": [0], \"series\": [{\"data\": [0.48724858062263027]}]}, {\"name\": \"precision_score_macro\", \"run_id\": \"AutoML_fb57bb5b-6d97-45b1-aa8c-de8c5dc27fca\", \"categories\": [0], \"series\": [{\"data\": [0.7522425836367452]}]}, {\"name\": \"precision_score_micro\", \"run_id\": \"AutoML_fb57bb5b-6d97-45b1-aa8c-de8c5dc27fca\", \"categories\": [0], \"series\": [{\"data\": [0.774812030075188]}]}, {\"name\": \"norm_macro_recall\", \"run_id\": \"AutoML_fb57bb5b-6d97-45b1-aa8c-de8c5dc27fca\", \"categories\": [0], \"series\": [{\"data\": [0.47107391907623397]}]}, {\"name\": \"recall_score_micro\", \"run_id\": \"AutoML_fb57bb5b-6d97-45b1-aa8c-de8c5dc27fca\", \"categories\": [0], \"series\": [{\"data\": [0.774812030075188]}]}, {\"name\": \"weighted_accuracy\", \"run_id\": \"AutoML_fb57bb5b-6d97-45b1-aa8c-de8c5dc27fca\", \"categories\": [0], \"series\": [{\"data\": [0.8036880648961665]}]}, {\"name\": \"log_loss\", \"run_id\": \"AutoML_fb57bb5b-6d97-45b1-aa8c-de8c5dc27fca\", \"categories\": [0], \"series\": [{\"data\": [0.4736229235183222]}]}, {\"name\": \"accuracy\", \"run_id\": \"AutoML_fb57bb5b-6d97-45b1-aa8c-de8c5dc27fca\", \"categories\": [0], \"series\": [{\"data\": [0.774812030075188]}]}, {\"name\": \"average_precision_score_macro\", \"run_id\": \"AutoML_fb57bb5b-6d97-45b1-aa8c-de8c5dc27fca\", \"categories\": [0], \"series\": [{\"data\": [0.8306467510424242]}]}, {\"name\": \"balanced_accuracy\", \"run_id\": \"AutoML_fb57bb5b-6d97-45b1-aa8c-de8c5dc27fca\", \"categories\": [0], \"series\": [{\"data\": [0.735536959538117]}]}, {\"name\": \"average_precision_score_micro\", \"run_id\": \"AutoML_fb57bb5b-6d97-45b1-aa8c-de8c5dc27fca\", \"categories\": [0], \"series\": [{\"data\": [0.8657908935862183]}]}, {\"name\": \"recall_score_weighted\", \"run_id\": \"AutoML_fb57bb5b-6d97-45b1-aa8c-de8c5dc27fca\", \"categories\": [0], \"series\": [{\"data\": [0.774812030075188]}]}, {\"name\": \"recall_score_macro\", \"run_id\": \"AutoML_fb57bb5b-6d97-45b1-aa8c-de8c5dc27fca\", \"categories\": [0], \"series\": [{\"data\": [0.735536959538117]}]}, {\"name\": \"precision_score_weighted\", \"run_id\": \"AutoML_fb57bb5b-6d97-45b1-aa8c-de8c5dc27fca\", \"categories\": [0], \"series\": [{\"data\": [0.7733694645673027]}]}, {\"name\": \"AUC_macro\", \"run_id\": \"AutoML_fb57bb5b-6d97-45b1-aa8c-de8c5dc27fca\", \"categories\": [0], \"series\": [{\"data\": [0.8468314726552164]}]}, {\"name\": \"f1_score_micro\", \"run_id\": \"AutoML_fb57bb5b-6d97-45b1-aa8c-de8c5dc27fca\", \"categories\": [0], \"series\": [{\"data\": [0.774812030075188]}]}], \"run_logs\": \"\\nRun is completed.\", \"graph\": {}, \"widget_settings\": {\"childWidgetDisplay\": \"popup\", \"send_telemetry\": false, \"log_level\": \"INFO\", \"sdk_version\": \"1.20.0\"}, \"loading\": false}"
     },
     "metadata": {},
     "output_type": "display_data"
    },
    {
     "name": "stdout",
     "output_type": "stream",
     "text": [
      "https://ml.azure.com/experiments/automlpimadiabetesNoFeat/runs/AutoML_fb57bb5b-6d97-45b1-aa8c-de8c5dc27fca?wsid=/subscriptions/8a086c9c-5530-4791-89af-62c8cdfda3fd/resourcegroups/trn-aue-advanced-analytics-ml/workspaces/trn-aue-aa-ml\n",
      "\n",
      "\n",
      "****************************************************************************************************\n",
      "DATA GUARDRAILS: \n",
      "\n",
      "TYPE:         Cross validation\n",
      "STATUS:       DONE\n",
      "DESCRIPTION:  Each iteration of the trained model was validated through cross-validation.\n",
      "              \n",
      "DETAILS:      \n",
      "+---------------------------------+\n",
      "|Number of folds                  |\n",
      "+=================================+\n",
      "|10                               |\n",
      "+---------------------------------+\n",
      "\n",
      "****************************************************************************************************\n",
      "\n",
      "TYPE:         Class balancing detection\n",
      "STATUS:       PASSED\n",
      "DESCRIPTION:  Your inputs were analyzed, and all classes are balanced in your training data.\n",
      "              Learn more about imbalanced data: https://aka.ms/AutomatedMLImbalancedData\n",
      "\n",
      "****************************************************************************************************\n",
      "\n",
      "TYPE:         Missing feature values imputation\n",
      "STATUS:       PASSED\n",
      "DESCRIPTION:  No feature missing values were detected in the training data.\n",
      "              Learn more about missing value imputation: https://aka.ms/AutomatedMLFeaturization\n",
      "\n",
      "****************************************************************************************************\n",
      "\n",
      "TYPE:         High cardinality feature detection\n",
      "STATUS:       PASSED\n",
      "DESCRIPTION:  Your inputs were analyzed, and no high cardinality features were detected.\n",
      "              Learn more about high cardinality feature handling: https://aka.ms/AutomatedMLFeaturization\n",
      "\n",
      "****************************************************************************************************\n",
      "\n",
      "****************************************************************************************************\n",
      "ITERATION: The iteration being evaluated.\n",
      "PIPELINE: A summary description of the pipeline being evaluated.\n",
      "DURATION: Time taken for the current iteration.\n",
      "METRIC: The result of computing score on the fitted pipeline.\n",
      "BEST: The best observed score thus far.\n",
      "****************************************************************************************************\n",
      "\n",
      " ITERATION   PIPELINE                                       DURATION      METRIC      BEST\n",
      "         0   MaxAbsScaler LightGBM                          0:02:16       0.7981    0.7981\n",
      "         1   MaxAbsScaler XGBoostClassifier                 0:02:07       0.8366    0.8366\n",
      "         2   MaxAbsScaler RandomForest                      0:02:09       0.8258    0.8366\n",
      "         3   MaxAbsScaler RandomForest                      0:02:08       0.8305    0.8366\n",
      "         4   MaxAbsScaler RandomForest                      0:02:22       0.8210    0.8366\n",
      "         5   MaxAbsScaler ExtremeRandomTrees                0:02:11       0.8120    0.8366\n",
      "         6   MaxAbsScaler ExtremeRandomTrees                0:02:13       0.8149    0.8366\n",
      "         7   MaxAbsScaler ExtremeRandomTrees                0:02:16       0.7928    0.8366\n",
      "         8   MaxAbsScaler RandomForest                      0:02:00       0.8013    0.8366\n",
      "         9   MaxAbsScaler ExtremeRandomTrees                0:02:13       0.7776    0.8366\n",
      "        10   MaxAbsScaler RandomForest                      0:02:01       0.8086    0.8366\n",
      "        11   MaxAbsScaler RandomForest                      0:01:59       0.8117    0.8366\n",
      "        12   MaxAbsScaler RandomForest                      0:02:04       0.7748    0.8366\n",
      "        13   StandardScalerWrapper XGBoostClassifier        0:02:05       0.8208    0.8366\n",
      "        14   MaxAbsScaler RandomForest                      0:01:56       0.8164    0.8366\n",
      "        15   StandardScalerWrapper ExtremeRandomTrees       0:02:01       0.8227    0.8366\n",
      "        16   MaxAbsScaler ExtremeRandomTrees                0:02:03       0.8046    0.8366\n",
      "        17   MaxAbsScaler ExtremeRandomTrees                0:02:08       0.8049    0.8366\n",
      "        18   MaxAbsScaler RandomForest                      0:02:03       0.8121    0.8366\n",
      "        19   MaxAbsScaler LightGBM                          0:02:04       0.8223    0.8366\n",
      "        20   StandardScalerWrapper XGBoostClassifier        0:02:07       0.8240    0.8366\n",
      "        21   StandardScalerWrapper XGBoostClassifier        0:02:03       0.8298    0.8366\n",
      "        22   StandardScalerWrapper XGBoostClassifier        0:02:00       0.8133    0.8366\n",
      "        23   MaxAbsScaler LightGBM                          0:02:01       0.8152    0.8366\n",
      "        24   StandardScalerWrapper XGBoostClassifier        0:02:09       0.8161    0.8366\n",
      "        25   StandardScalerWrapper XGBoostClassifier        0:02:08       0.7868    0.8366\n",
      "        26   MaxAbsScaler GradientBoosting                  0:02:09       0.8227    0.8366\n",
      "        27   StandardScalerWrapper XGBoostClassifier        0:01:59       0.8127    0.8366\n",
      "        28   SparseNormalizer XGBoostClassifier             0:01:59       0.7471    0.8366\n",
      "        29   TruncatedSVDWrapper XGBoostClassifier          0:01:56       0.8060    0.8366\n",
      "        30   TruncatedSVDWrapper XGBoostClassifier          0:01:59       0.7822    0.8366\n",
      "        31   SparseNormalizer XGBoostClassifier             0:02:01       0.6816    0.8366\n",
      "        32   StandardScalerWrapper LogisticRegression       0:02:04       0.8254    0.8366\n",
      "        33   MaxAbsScaler LogisticRegression                0:02:18       0.8217    0.8366\n",
      "        34   MaxAbsScaler SGD                               0:01:57       0.8190    0.8366\n",
      "        35   StandardScalerWrapper XGBoostClassifier        0:01:57       0.7937    0.8366\n",
      "        36                                                  0:00:16          nan    0.8366\n",
      "        37                                                  0:00:10          nan    0.8366\n",
      "        38    VotingEnsemble                                0:03:09       0.8468    0.8468\n"
     ]
    },
    {
     "name": "stderr",
     "output_type": "stream",
     "text": [
      "WARNING:root:The version of the SDK does not match the version the model was trained on.\n",
      "WARNING:root:The consistency in the result may not be guaranteed.\n",
      "WARNING:root:Package:azureml-automl-core, training version:1.21.0, current version:1.20.0\n",
      "Package:azureml-automl-runtime, training version:1.21.0, current version:1.20.0\n",
      "Package:azureml-core, training version:1.21.0.post1, current version:1.20.0.post1\n",
      "Package:azureml-dataprep, training version:2.8.2, current version:2.7.3\n",
      "Package:azureml-dataprep-native, training version:28.0.0, current version:27.0.0\n",
      "Package:azureml-dataprep-rslex, training version:1.6.0, current version:1.5.0\n",
      "Package:azureml-dataset-runtime, training version:1.21.0, current version:1.20.0\n",
      "Package:azureml-defaults, training version:1.21.0, current version:1.20.0\n",
      "Package:azureml-interpret, training version:1.21.0, current version:1.20.0\n",
      "Package:azureml-pipeline-core, training version:1.21.0, current version:1.18.0\n",
      "Package:azureml-telemetry, training version:1.21.0, current version:1.20.0\n",
      "Package:azureml-train-automl-client, training version:1.21.0, current version:1.20.0\n",
      "Package:azureml-train-automl-runtime, training version:1.21.0, current version:1.20.0\n",
      "WARNING:root:Please ensure the version of your local conda dependencies match the version on which your model was trained in order to properly retrieve your model.\n"
     ]
    },
    {
     "data": {
      "text/plain": [
       "[('1',\n",
       "  Pipeline(memory=None,\n",
       "           steps=[('maxabsscaler', MaxAbsScaler(copy=True)),\n",
       "                  ('xgboostclassifier',\n",
       "                   XGBoostClassifier(base_score=0.5, booster='gbtree',\n",
       "                                     colsample_bylevel=1, colsample_bynode=1,\n",
       "                                     colsample_bytree=1, gamma=0,\n",
       "                                     learning_rate=0.1, max_delta_step=0,\n",
       "                                     max_depth=3, min_child_weight=1, missing=nan,\n",
       "                                     n_estimators=100, n_jobs=1, nthread=None,\n",
       "                                     objective='binary:logistic', random_state=0,\n",
       "                                     reg_alpha=0, reg_lambda=1,\n",
       "                                     scale_pos_weight=1, seed=None, silent=None,\n",
       "                                     subsample=1, tree_method='auto', verbose=-10,\n",
       "                                     verbosity=0))],\n",
       "           verbose=False)),\n",
       " ('3',\n",
       "  Pipeline(memory=None,\n",
       "           steps=[('maxabsscaler', MaxAbsScaler(copy=True)),\n",
       "                  ('randomforestclassifier',\n",
       "                   RandomForestClassifier(bootstrap=True, ccp_alpha=0.0,\n",
       "                                          class_weight='balanced',\n",
       "                                          criterion='gini', max_depth=None,\n",
       "                                          max_features='log2',\n",
       "                                          max_leaf_nodes=None, max_samples=None,\n",
       "                                          min_impurity_decrease=0.0,\n",
       "                                          min_impurity_split=None,\n",
       "                                          min_samples_leaf=0.01,\n",
       "                                          min_samples_split=0.01,\n",
       "                                          min_weight_fraction_leaf=0.0,\n",
       "                                          n_estimators=25, n_jobs=1,\n",
       "                                          oob_score=True, random_state=None,\n",
       "                                          verbose=0, warm_start=False))],\n",
       "           verbose=False)),\n",
       " ('21',\n",
       "  Pipeline(memory=None,\n",
       "           steps=[('standardscalerwrapper',\n",
       "                   <azureml.automl.runtime.shared.model_wrappers.StandardScalerWrapper object at 0x7f466f9a19b0>),\n",
       "                  ('xgboostclassifier',\n",
       "                   XGBoostClassifier(base_score=0.5, booster='gbtree',\n",
       "                                     colsample_bylevel=1, colsample_bynode=1,\n",
       "                                     colsample_bytree=1, eta=0.2, gamma=0.01,\n",
       "                                     learning_rate=0.1, max_delta_step=0,\n",
       "                                     max_depth=7, max_leaves=0,\n",
       "                                     min_child_weight=1, missing=nan,\n",
       "                                     n_estimators=50, n_jobs=1, nthread=None,\n",
       "                                     objective='reg:logistic', random_state=0,\n",
       "                                     reg_alpha=1.3541666666666667,\n",
       "                                     reg_lambda=0.625, scale_pos_weight=1,\n",
       "                                     seed=None, silent=None, subsample=1,\n",
       "                                     tree_method='auto', verbose=-10,\n",
       "                                     verbosity=0))],\n",
       "           verbose=False)),\n",
       " ('2',\n",
       "  Pipeline(memory=None,\n",
       "           steps=[('maxabsscaler', MaxAbsScaler(copy=True)),\n",
       "                  ('randomforestclassifier',\n",
       "                   RandomForestClassifier(bootstrap=False, ccp_alpha=0.0,\n",
       "                                          class_weight=None, criterion='gini',\n",
       "                                          max_depth=None, max_features='sqrt',\n",
       "                                          max_leaf_nodes=None, max_samples=None,\n",
       "                                          min_impurity_decrease=0.0,\n",
       "                                          min_impurity_split=None,\n",
       "                                          min_samples_leaf=0.01,\n",
       "                                          min_samples_split=0.10368421052631578,\n",
       "                                          min_weight_fraction_leaf=0.0,\n",
       "                                          n_estimators=10, n_jobs=1,\n",
       "                                          oob_score=False, random_state=None,\n",
       "                                          verbose=0, warm_start=False))],\n",
       "           verbose=False)),\n",
       " ('32',\n",
       "  Pipeline(memory=None,\n",
       "           steps=[('standardscalerwrapper',\n",
       "                   <azureml.automl.runtime.shared.model_wrappers.StandardScalerWrapper object at 0x7f466f9b2278>),\n",
       "                  ('logisticregression',\n",
       "                   LogisticRegression(C=0.12648552168552957,\n",
       "                                      class_weight='balanced', dual=False,\n",
       "                                      fit_intercept=True, intercept_scaling=1,\n",
       "                                      l1_ratio=None, max_iter=100,\n",
       "                                      multi_class='ovr', n_jobs=1, penalty='l2',\n",
       "                                      random_state=None, solver='newton-cg',\n",
       "                                      tol=0.0001, verbose=0, warm_start=False))],\n",
       "           verbose=False)),\n",
       " ('15',\n",
       "  Pipeline(memory=None,\n",
       "           steps=[('standardscalerwrapper',\n",
       "                   <azureml.automl.runtime.shared.model_wrappers.StandardScalerWrapper object at 0x7f466f9b2908>),\n",
       "                  ('extratreesclassifier',\n",
       "                   ExtraTreesClassifier(bootstrap=False, ccp_alpha=0.0,\n",
       "                                        class_weight=None, criterion='gini',\n",
       "                                        max_depth=None, max_features=None,\n",
       "                                        max_leaf_nodes=None, max_samples=None,\n",
       "                                        min_impurity_decrease=0.0,\n",
       "                                        min_impurity_split=None,\n",
       "                                        min_samples_leaf=0.06157894736842105,\n",
       "                                        min_samples_split=0.15052631578947367,\n",
       "                                        min_weight_fraction_leaf=0.0,\n",
       "                                        n_estimators=10, n_jobs=1,\n",
       "                                        oob_score=False, random_state=None,\n",
       "                                        verbose=0, warm_start=False))],\n",
       "           verbose=False)),\n",
       " ('26',\n",
       "  Pipeline(memory=None,\n",
       "           steps=[('maxabsscaler', MaxAbsScaler(copy=True)),\n",
       "                  ('gradientboostingclassifier',\n",
       "                   GradientBoostingClassifier(ccp_alpha=0.0,\n",
       "                                              criterion='friedman_mse', init=None,\n",
       "                                              learning_rate=0.1, loss='deviance',\n",
       "                                              max_depth=3, max_features=0.8,\n",
       "                                              max_leaf_nodes=None,\n",
       "                                              min_impurity_decrease=0.0,\n",
       "                                              min_impurity_split=None,\n",
       "                                              min_samples_leaf=0.19052631578947368,\n",
       "                                              min_samples_split=0.19736842105263158,\n",
       "                                              min_weight_fraction_leaf=0.0,\n",
       "                                              n_estimators=200,\n",
       "                                              n_iter_no_change=None,\n",
       "                                              presort='deprecated',\n",
       "                                              random_state=None,\n",
       "                                              subsample=0.5736842105263158,\n",
       "                                              tol=0.0001, validation_fraction=0.1,\n",
       "                                              verbose=0, warm_start=False))],\n",
       "           verbose=False)),\n",
       " ('33',\n",
       "  Pipeline(memory=None,\n",
       "           steps=[('maxabsscaler', MaxAbsScaler(copy=True)),\n",
       "                  ('logisticregression',\n",
       "                   LogisticRegression(C=4714.8663634573895, class_weight=None,\n",
       "                                      dual=False, fit_intercept=True,\n",
       "                                      intercept_scaling=1, l1_ratio=None,\n",
       "                                      max_iter=100, multi_class='multinomial',\n",
       "                                      n_jobs=1, penalty='l2', random_state=None,\n",
       "                                      solver='lbfgs', tol=0.0001, verbose=0,\n",
       "                                      warm_start=False))],\n",
       "           verbose=False)),\n",
       " ('4',\n",
       "  Pipeline(memory=None,\n",
       "           steps=[('maxabsscaler', MaxAbsScaler(copy=True)),\n",
       "                  ('randomforestclassifier',\n",
       "                   RandomForestClassifier(bootstrap=True, ccp_alpha=0.0,\n",
       "                                          class_weight=None, criterion='gini',\n",
       "                                          max_depth=None, max_features='sqrt',\n",
       "                                          max_leaf_nodes=None, max_samples=None,\n",
       "                                          min_impurity_decrease=0.0,\n",
       "                                          min_impurity_split=None,\n",
       "                                          min_samples_leaf=0.035789473684210524,\n",
       "                                          min_samples_split=0.01,\n",
       "                                          min_weight_fraction_leaf=0.0,\n",
       "                                          n_estimators=10, n_jobs=1,\n",
       "                                          oob_score=True, random_state=None,\n",
       "                                          verbose=0, warm_start=False))],\n",
       "           verbose=False)),\n",
       " ('18',\n",
       "  Pipeline(memory=None,\n",
       "           steps=[('maxabsscaler', MaxAbsScaler(copy=True)),\n",
       "                  ('randomforestclassifier',\n",
       "                   RandomForestClassifier(bootstrap=False, ccp_alpha=0.0,\n",
       "                                          class_weight='balanced',\n",
       "                                          criterion='gini', max_depth=None,\n",
       "                                          max_features='sqrt',\n",
       "                                          max_leaf_nodes=None, max_samples=None,\n",
       "                                          min_impurity_decrease=0.0,\n",
       "                                          min_impurity_split=None,\n",
       "                                          min_samples_leaf=0.1131578947368421,\n",
       "                                          min_samples_split=0.2442105263157895,\n",
       "                                          min_weight_fraction_leaf=0.0,\n",
       "                                          n_estimators=25, n_jobs=1,\n",
       "                                          oob_score=False, random_state=None,\n",
       "                                          verbose=0, warm_start=False))],\n",
       "           verbose=False)),\n",
       " ('10',\n",
       "  Pipeline(memory=None,\n",
       "           steps=[('maxabsscaler', MaxAbsScaler(copy=True)),\n",
       "                  ('randomforestclassifier',\n",
       "                   RandomForestClassifier(bootstrap=True, ccp_alpha=0.0,\n",
       "                                          class_weight='balanced',\n",
       "                                          criterion='entropy', max_depth=None,\n",
       "                                          max_features='sqrt',\n",
       "                                          max_leaf_nodes=None, max_samples=None,\n",
       "                                          min_impurity_decrease=0.0,\n",
       "                                          min_impurity_split=None,\n",
       "                                          min_samples_leaf=0.01,\n",
       "                                          min_samples_split=0.2442105263157895,\n",
       "                                          min_weight_fraction_leaf=0.0,\n",
       "                                          n_estimators=10, n_jobs=1,\n",
       "                                          oob_score=False, random_state=None,\n",
       "                                          verbose=0, warm_start=False))],\n",
       "           verbose=False))]"
      ]
     },
     "execution_count": 10,
     "metadata": {},
     "output_type": "execute_result"
    }
   ],
   "source": [
    "from azureml.widgets import RunDetails\n",
    "\n",
    "RunDetails(remote_run).show()\n",
    "print(remote_run.get_portal_url())\n",
    "remote_run.wait_for_completion(show_output=True)\n",
    "\n",
    "\n",
    "best_run, fitted_model = remote_run.get_output()\n",
    "\n",
    "fitted_model.steps[1][1].estimators"
   ]
  },
  {
   "cell_type": "code",
   "execution_count": 16,
   "metadata": {
    "gather": {
     "logged": 1612348432581
    },
    "jupyter": {
     "outputs_hidden": false,
     "source_hidden": false
    },
    "nteract": {
     "transient": {
      "deleting": false
     }
    }
   },
   "outputs": [
    {
     "name": "stdout",
     "output_type": "stream",
     "text": [
      "Run(Experiment: automlpimadiabetesNoFeat,\n",
      "Id: AutoML_fb57bb5b-6d97-45b1-aa8c-de8c5dc27fca_38,\n",
      "Type: azureml.scriptrun,\n",
      "Status: Completed)\n",
      "0.8468314726552164\n"
     ]
    }
   ],
   "source": [
    "# Print Best Run\n",
    "\n",
    "print(best_run)\n",
    "\n",
    "print(best_run.properties['score'])"
   ]
  },
  {
   "cell_type": "code",
   "execution_count": 27,
   "metadata": {
    "gather": {
     "logged": 1612348442658
    },
    "jupyter": {
     "outputs_hidden": false,
     "source_hidden": false
    },
    "nteract": {
     "transient": {
      "deleting": false
     }
    }
   },
   "outputs": [
    {
     "name": "stdout",
     "output_type": "stream",
     "text": [
      "Pipeline(memory=None,\n",
      "         steps=[('prefittedsoftvotingclassifier',\n",
      "                 PreFittedSoftVotingClassifier(classification_labels=None,\n",
      "                                               estimators=[('34',\n",
      "                                                            Pipeline(memory=None,\n",
      "                                                                     steps=[('MinMaxScaler',\n",
      "                                                                             MinMaxScaler(copy=True,\n",
      "                                                                                          feature_range=(0,\n",
      "                                                                                                         1))),\n",
      "                                                                            ('ExtraTreesClassifier',\n",
      "                                                                             ExtraTreesClassifier(bootstrap=True,\n",
      "                                                                                                  ccp_alpha=0.0,\n",
      "                                                                                                  class_weight='balanced',\n",
      "                                                                                                  criterion='gini',\n",
      "                                                                                                  max_depth=...\n",
      "                                                                                                    oob_score=False,\n",
      "                                                                                                    random_state=None,\n",
      "                                                                                                    verbose=0,\n",
      "                                                                                                    warm_start=False))],\n",
      "                                                                     verbose=False))],\n",
      "                                               flatten_transform=None,\n",
      "                                               weights=[0.09090909090909091,\n",
      "                                                        0.09090909090909091,\n",
      "                                                        0.09090909090909091,\n",
      "                                                        0.09090909090909091,\n",
      "                                                        0.09090909090909091,\n",
      "                                                        0.09090909090909091,\n",
      "                                                        0.09090909090909091,\n",
      "                                                        0.09090909090909091,\n",
      "                                                        0.09090909090909091,\n",
      "                                                        0.09090909090909091,\n",
      "                                                        0.09090909090909091]))],\n",
      "         verbose=False)\n"
     ]
    }
   ],
   "source": [
    "# Print Fitted Model\n",
    "\n",
    "print(fitted_model)"
   ]
  },
  {
   "cell_type": "markdown",
   "metadata": {},
   "source": [
    "## Best Model\n",
    "\n",
    "Get the best model from the automl experiments and display all the properties of the model.\n",
    "\n"
   ]
  },
  {
   "cell_type": "code",
   "execution_count": 17,
   "metadata": {
    "gather": {
     "logged": 1612219144417
    },
    "jupyter": {
     "outputs_hidden": false,
     "source_hidden": false
    },
    "nteract": {
     "transient": {
      "deleting": false
     }
    }
   },
   "outputs": [
    {
     "name": "stderr",
     "output_type": "stream",
     "text": [
      "WARNING:root:The version of the SDK does not match the version the model was trained on.\n",
      "WARNING:root:The consistency in the result may not be guaranteed.\n",
      "WARNING:root:Package:azureml-automl-core, training version:1.21.0, current version:1.20.0\n",
      "Package:azureml-automl-runtime, training version:1.21.0, current version:1.20.0\n",
      "Package:azureml-core, training version:1.21.0.post1, current version:1.20.0.post1\n",
      "Package:azureml-dataprep, training version:2.8.2, current version:2.7.3\n",
      "Package:azureml-dataprep-native, training version:28.0.0, current version:27.0.0\n",
      "Package:azureml-dataprep-rslex, training version:1.6.0, current version:1.5.0\n",
      "Package:azureml-dataset-runtime, training version:1.21.0, current version:1.20.0\n",
      "Package:azureml-defaults, training version:1.21.0, current version:1.20.0\n",
      "Package:azureml-interpret, training version:1.21.0, current version:1.20.0\n",
      "Package:azureml-pipeline-core, training version:1.21.0, current version:1.18.0\n",
      "Package:azureml-telemetry, training version:1.21.0, current version:1.20.0\n",
      "Package:azureml-train-automl-client, training version:1.21.0, current version:1.20.0\n",
      "Package:azureml-train-automl-runtime, training version:1.21.0, current version:1.20.0\n",
      "WARNING:root:Please ensure the version of your local conda dependencies match the version on which your model was trained in order to properly retrieve your model.\n"
     ]
    },
    {
     "name": "stdout",
     "output_type": "stream",
     "text": [
      "Run(Experiment: automlpimadiabetesNoFeat,\n",
      "Id: AutoML_fb57bb5b-6d97-45b1-aa8c-de8c5dc27fca_38,\n",
      "Type: azureml.scriptrun,\n",
      "Status: Completed)\n",
      "Pipeline(memory=None,\n",
      "         steps=[('datatransformer',\n",
      "                 DataTransformer(enable_dnn=None, enable_feature_sweeping=None,\n",
      "                                 feature_sweeping_config=None,\n",
      "                                 feature_sweeping_timeout=None,\n",
      "                                 featurization_config=None, force_text_dnn=None,\n",
      "                                 is_cross_validation=None,\n",
      "                                 is_onnx_compatible=None, logger=None,\n",
      "                                 observer=None, task=None, working_dir=None)),\n",
      "                ('prefittedsoftvotingclassifier',...\n",
      "                                                                                                    oob_score=False,\n",
      "                                                                                                    random_state=None,\n",
      "                                                                                                    verbose=0,\n",
      "                                                                                                    warm_start=False))],\n",
      "                                                                     verbose=False))],\n",
      "                                               flatten_transform=None,\n",
      "                                               weights=[0.2857142857142857,\n",
      "                                                        0.07142857142857142,\n",
      "                                                        0.07142857142857142,\n",
      "                                                        0.07142857142857142,\n",
      "                                                        0.07142857142857142,\n",
      "                                                        0.07142857142857142,\n",
      "                                                        0.07142857142857142,\n",
      "                                                        0.07142857142857142,\n",
      "                                                        0.07142857142857142,\n",
      "                                                        0.07142857142857142,\n",
      "                                                        0.07142857142857142]))],\n",
      "         verbose=False)\n",
      "Y_transformer(['LabelEncoder', LabelEncoder()])\n",
      "Best run id: AutoML_fb57bb5b-6d97-45b1-aa8c-de8c5dc27fca_38\n",
      "################################\n",
      "\n",
      " AUC_weighted: 0.8468314726552164\n",
      "################################\n",
      "\n",
      " Learning rate: []\n",
      "################################\n"
     ]
    },
    {
     "data": {
      "text/plain": [
       "{'_aml_system_azureml.automlComponent': 'AutoML',\n",
       " '_aml_system_ComputeTargetStatus': '{\"AllocationState\":\"steady\",\"PreparingNodeCount\":0,\"RunningNodeCount\":5,\"CurrentNodeCount\":5}',\n",
       " 'ensembled_iterations': '[1, 3, 21, 2, 32, 15, 26, 33, 4, 18, 10]',\n",
       " 'ensembled_algorithms': \"['XGBoostClassifier', 'RandomForest', 'XGBoostClassifier', 'RandomForest', 'LogisticRegression', 'ExtremeRandomTrees', 'GradientBoosting', 'LogisticRegression', 'RandomForest', 'RandomForest', 'RandomForest']\",\n",
       " 'ensemble_weights': '[0.2857142857142857, 0.07142857142857142, 0.07142857142857142, 0.07142857142857142, 0.07142857142857142, 0.07142857142857142, 0.07142857142857142, 0.07142857142857142, 0.07142857142857142, 0.07142857142857142, 0.07142857142857142]',\n",
       " 'best_individual_pipeline_score': '0.8366210317228242',\n",
       " 'best_individual_iteration': '1',\n",
       " '_aml_system_automl_is_child_run_end_telemetry_event_logged': 'True',\n",
       " 'model_explain_run_id': 'AutoML_fb57bb5b-6d97-45b1-aa8c-de8c5dc27fca_ModelExplain',\n",
       " 'model_explanation': 'True'}"
      ]
     },
     "execution_count": 17,
     "metadata": {},
     "output_type": "execute_result"
    }
   ],
   "source": [
    "import joblib\n",
    "import azureml.train.automl\n",
    "\n",
    "# Get your best run and save the model from that run.\n",
    "\n",
    "#!pip install azureml-train-automl-runtime==1.20.0\n",
    "\n",
    "#!pip install azureml-sklearn\n",
    "\n",
    "if \"output\" not in os.listdir():\n",
    "   os.mkdir(\"./output\")   \n",
    "\n",
    "remote_run.get_metrics('AUC_weighted')\n",
    "\n",
    "best_run, fitted_model = remote_run.get_output()\n",
    "print(best_run)\n",
    "print(fitted_model)\n",
    "\n",
    "#best_run = remote_run.get_best_child()\n",
    "best_run_metrics = best_run.get_metrics()\n",
    "parameter_values = best_run.get_details()['runDefinition']['arguments']\n",
    "\n",
    "print ('Best run id:',best_run.id)\n",
    "print ('################################')\n",
    "print ('\\n AUC_weighted:',best_run_metrics['AUC_weighted'])\n",
    "print ('################################')\n",
    "print ('\\n Learning rate:', parameter_values)\n",
    "print ('################################')\n",
    "\n",
    "\n",
    "best_run.get_details()\n",
    "best_run.get_tags()\n"
   ]
  },
  {
   "cell_type": "code",
   "execution_count": 8,
   "metadata": {
    "gather": {
     "logged": 1611657251126
    },
    "jupyter": {
     "outputs_hidden": false,
     "source_hidden": false
    },
    "nteract": {
     "transient": {
      "deleting": false
     }
    }
   },
   "outputs": [
    {
     "data": {
      "text/plain": [
       "['./output/Capstone_automl_best.joblib']"
      ]
     },
     "execution_count": 8,
     "metadata": {},
     "output_type": "execute_result"
    }
   ],
   "source": [
    "\n",
    "best_run.get_file_names()\n",
    "joblib.dump(parameter_values,filename='./output/Capstone_automl_best.joblib')"
   ]
  },
  {
   "cell_type": "markdown",
   "metadata": {},
   "source": [
    "## Model Deployment\n",
    "\n",
    "Remember you have to deploy only one of the two models you trained.. Perform the steps in the rest of this notebook only if you wish to deploy this model.\n"
   ]
  },
  {
   "cell_type": "code",
   "execution_count": 48,
   "metadata": {
    "gather": {
     "logged": 1611664012368
    },
    "jupyter": {
     "outputs_hidden": false,
     "source_hidden": false
    },
    "nteract": {
     "transient": {
      "deleting": false
     }
    }
   },
   "outputs": [
    {
     "name": "stdout",
     "output_type": "stream",
     "text": [
      "automlpimadiabetes\tautomlpimadiabetes:3\t3\n"
     ]
    }
   ],
   "source": [
    "\n",
    "model_dep = remote_run.register_model(model_name='automlpimadiabetes',\n",
    "                           tags={'Name': 'Pima Diabetes Best AutoML Model'})#,\n",
    "                           #model_path='outputs/automldiabetesbmodel.pkl')\n",
    "print(model_dep.name, model_dep.id, model_dep.version, sep='\\t')"
   ]
  },
  {
   "cell_type": "markdown",
   "metadata": {
    "collapsed": true,
    "gather": {
     "logged": 1598431657736
    },
    "jupyter": {
     "outputs_hidden": false,
     "source_hidden": false
    },
    "nteract": {
     "transient": {
      "deleting": false
     }
    }
   },
   "source": [
    "## Register the WebService"
   ]
  },
  {
   "cell_type": "code",
   "execution_count": 61,
   "metadata": {
    "gather": {
     "logged": 1598432707604
    },
    "jupyter": {
     "outputs_hidden": false,
     "source_hidden": false
    },
    "nteract": {
     "transient": {
      "deleting": false
     }
    }
   },
   "outputs": [
    {
     "name": "stdout",
     "output_type": "stream",
     "text": [
      "Tips: You can try get_logs(): https://aka.ms/debugimage#dockerlog or local deployment: https://aka.ms/debugimage#debug-locally to debug if deployment takes longer than 10 minutes.\n",
      "Running........................................................................................................................."
     ]
    }
   ],
   "source": [
    "from azureml.core.webservice import AciWebservice, Webservice\n",
    "from azureml.core.model import Model\n",
    "from azureml.core.environment import Environment\n",
    "from azureml.core.model import InferenceConfig\n",
    "\n",
    "bestmodel, fmodel = remote_run.get_output()\n",
    "bestmodel.download_file('outputs/scoring_file_v_1_0_0.py', 'scoring.py')  \n",
    "#bestmodel.download_file('outputs/conda_env_v_1_0_0.yml', myenv)  \n",
    "\n",
    "#env = Environment.get(ws, \"AzureML-Minimal\").clone('temp')\n",
    "#env = Environment.get(ws, \"AzureML-Minimal\",'myenv')\n",
    "#env = Environment.from_conda_specification(name='automl',file_path='conda_env_v_1_0_0.yml')\n",
    "\n",
    "env = bestmodel.get_environment()\n",
    "\n",
    "for pip_package in [\"scikit-learn\"]:\n",
    "    env.python.conda_dependencies.add_pip_package(pip_package)\n",
    "\n",
    "inference_config = InferenceConfig(entry_script='scoring.py',\n",
    "                                    environment=env)\n",
    "\n",
    "\n",
    "deployment_config = AciWebservice.deploy_configuration(cpu_cores = 1, memory_gb = 1)\n",
    "service = Model.deploy(ws, \"pimadiabetesendpv3\", [model_dep], inference_config, deployment_config)\n",
    "service.wait_for_deployment(show_output = True)\n",
    "print(service.state)\n",
    "\n"
   ]
  },
  {
   "cell_type": "markdown",
   "metadata": {
    "collapsed": true,
    "gather": {
     "logged": 1598432765711
    },
    "jupyter": {
     "outputs_hidden": false,
     "source_hidden": false
    },
    "nteract": {
     "transient": {
      "deleting": false
     }
    }
   },
   "source": [
    "## Test and delete WebService"
   ]
  },
  {
   "cell_type": "code",
   "execution_count": 7,
   "metadata": {
    "gather": {
     "logged": 1612323685296
    },
    "jupyter": {
     "outputs_hidden": false,
     "source_hidden": false
    },
    "nteract": {
     "transient": {
      "deleting": false
     }
    }
   },
   "outputs": [
    {
     "name": "stdout",
     "output_type": "stream",
     "text": [
      "http://159a4ac6-4925-4238-bd97-dbe0430d3a97.australiaeast.azurecontainer.io/score\n",
      "<Response [200]>\n",
      "\"{\\\"result\\\": [\\\"tested_negative\\\", \\\"tested_positive\\\", \\\"tested_positive\\\"]}\"\n"
     ]
    }
   ],
   "source": [
    "import requests\n",
    "import json\n",
    "from azureml.core.authentication import InteractiveLoginAuthentication\n",
    "from azureml.core.webservice import AciWebservice, Webservice\n",
    "\n",
    "\n",
    "service = Webservice(workspace=ws, name='pimadiabetesendpv3')\n",
    "print(service.scoring_uri)\n",
    "scoring_uri = service.scoring_uri\n",
    "#print(service.swagger_uri)\n",
    "\n",
    "# Set the content type\n",
    "headers = {'Content-Type': 'application/json'}\n",
    "# If authentication is enabled, set the authorization header\n",
    "headers['Authorization'] = f'Bearer {key}'\n",
    "\n",
    "# URL for the web service\n",
    "#scoring_uri = '<your web service URI>'\n",
    "# If the service is authenticated, set the key or token\n",
    "#key = '<your key or token>'\n",
    "\n",
    "# Two sets of data to score, so we get two results back\n",
    "data = {\"data\":\n",
    "        [\n",
    "            [\n",
    "                1,\n",
    "                150,\n",
    "                80,\n",
    "                29,\n",
    "                0,\n",
    "                28.1,\n",
    "                0.627,\n",
    "                25,\n",
    "            ],\n",
    "            [\n",
    "               3,\n",
    "                150,\n",
    "                80,\n",
    "                29,\n",
    "                0,\n",
    "                28.1,\n",
    "                0.627,\n",
    "                44,],\n",
    "            [\n",
    "               4,\n",
    "                150,\n",
    "                80,\n",
    "                29,\n",
    "                0,\n",
    "                28.1,\n",
    "                0.627,\n",
    "                45,]\n",
    "        ]\n",
    "        }\n",
    "# Convert to JSON string\n",
    "input_data = json.dumps(data)\n",
    "\n",
    "# Make the request and display the response\n",
    "resp = requests.post(scoring_uri, input_data, headers=headers)\n",
    "print (resp)\n",
    "print(resp.text)"
   ]
  },
  {
   "cell_type": "markdown",
   "metadata": {
    "nteract": {
     "transient": {
      "deleting": false
     }
    }
   },
   "source": [
    "## Enable Logging and Log Capture"
   ]
  },
  {
   "cell_type": "code",
   "execution_count": 8,
   "metadata": {
    "collapsed": true,
    "gather": {
     "logged": 1612090088330
    },
    "jupyter": {
     "outputs_hidden": false,
     "source_hidden": false
    },
    "nteract": {
     "transient": {
      "deleting": false
     }
    }
   },
   "outputs": [],
   "source": [
    "service = Webservice(workspace=ws, name='pimadiabetesendpv3')\n",
    "service.update(enable_app_insights=True)\n",
    "\n",
    "logs = service.get_logs()\n",
    "print(logs)"
   ]
  },
  {
   "cell_type": "markdown",
   "metadata": {
    "nteract": {
     "transient": {
      "deleting": false
     }
    }
   },
   "source": [
    "## Delete WebSERVICE"
   ]
  },
  {
   "cell_type": "code",
   "execution_count": 69,
   "metadata": {
    "collapsed": true,
    "gather": {
     "logged": 1611729855749
    },
    "jupyter": {
     "outputs_hidden": false,
     "source_hidden": false
    },
    "nteract": {
     "transient": {
      "deleting": false
     }
    }
   },
   "outputs": [],
   "source": [
    "service = Webservice(workspace=ws, name='pimadiabetesendpv2')\n",
    "service.delete()"
   ]
  },
  {
   "cell_type": "markdown",
   "metadata": {
    "nteract": {
     "transient": {
      "deleting": false
     }
    }
   },
   "source": [
    "## ONNX Model"
   ]
  },
  {
   "cell_type": "code",
   "execution_count": 85,
   "metadata": {
    "collapsed": true,
    "gather": {
     "logged": 1611742861467
    },
    "jupyter": {
     "outputs_hidden": false,
     "source_hidden": false
    },
    "nteract": {
     "transient": {
      "deleting": false
     }
    }
   },
   "outputs": [
    {
     "name": "stdout",
     "output_type": "stream",
     "text": [
      "Registering model best_model.onnx\n"
     ]
    }
   ],
   "source": [
    "from azureml.automl.runtime.onnx_convert import OnnxConverter\n",
    "\n",
    "best_run, onnx_mdl = remote_run.get_output(return_onnx_model=True)\n",
    "\n",
    "onnx_fl_path = \"./best_model.onnx\"\n",
    "OnnxConverter.save_onnx_model(onnx_mdl, onnx_fl_path)\n",
    "\n",
    "\n",
    "model = Model.register(model_path = \"./\",\n",
    "                       model_name = \"best_model.onnx\",\n",
    "                       tags = {\"onnx\": \"MyFirstonnx\"},\n",
    "                       description = \"pimadiabetesonnx\",\n",
    "                       workspace = ws)\n",
    "\n"
   ]
  },
  {
   "cell_type": "code",
   "execution_count": 27,
   "metadata": {
    "collapsed": true,
    "gather": {
     "logged": 1612219220807
    },
    "jupyter": {
     "outputs_hidden": false,
     "source_hidden": false
    },
    "nteract": {
     "transient": {
      "deleting": false
     }
    }
   },
   "outputs": [],
   "source": [
    "from azureml.core.webservice import AciWebservice, Webservice\n",
    "from azureml.core.model import Model\n",
    "from azureml.core.environment import Environment\n",
    "from azureml.core.model import InferenceConfig\n",
    "\n",
    "bestmodel, fmodel = remote_run.get_output()\n",
    "#bestmodel.download_file('outputs/scoring_file_v_1_0_0.py', 'scoring.py') \n",
    "bestmodel.download_file('outputs/conda_env_v_1_0_0.yml', 'myenv.yml')  "
   ]
  },
  {
   "cell_type": "code",
   "execution_count": 15,
   "metadata": {
    "gather": {
     "logged": 1612435662237
    },
    "jupyter": {
     "outputs_hidden": false,
     "source_hidden": false
    },
    "nteract": {
     "transient": {
      "deleting": false
     }
    }
   },
   "outputs": [
    {
     "name": "stdout",
     "output_type": "stream",
     "text": [
      "datatransformer\n",
      "{'enable_dnn': None,\n",
      " 'enable_feature_sweeping': None,\n",
      " 'feature_sweeping_config': None,\n",
      " 'feature_sweeping_timeout': None,\n",
      " 'featurization_config': None,\n",
      " 'force_text_dnn': None,\n",
      " 'is_cross_validation': None,\n",
      " 'is_onnx_compatible': None,\n",
      " 'logger': None,\n",
      " 'observer': None,\n",
      " 'task': None,\n",
      " 'working_dir': None}\n",
      "\n",
      "prefittedsoftvotingclassifier\n",
      "{'estimators': ['1', '3', '21', '2', '32', '15', '26', '33', '4', '18', '10'],\n",
      " 'weights': [0.2857142857142857,\n",
      "             0.07142857142857142,\n",
      "             0.07142857142857142,\n",
      "             0.07142857142857142,\n",
      "             0.07142857142857142,\n",
      "             0.07142857142857142,\n",
      "             0.07142857142857142,\n",
      "             0.07142857142857142,\n",
      "             0.07142857142857142,\n",
      "             0.07142857142857142,\n",
      "             0.07142857142857142]}\n",
      "\n",
      "1 - maxabsscaler\n",
      "{'copy': True}\n",
      "\n",
      "1 - xgboostclassifier\n",
      "{'base_score': 0.5,\n",
      " 'booster': 'gbtree',\n",
      " 'colsample_bylevel': 1,\n",
      " 'colsample_bynode': 1,\n",
      " 'colsample_bytree': 1,\n",
      " 'gamma': 0,\n",
      " 'learning_rate': 0.1,\n",
      " 'max_delta_step': 0,\n",
      " 'max_depth': 3,\n",
      " 'min_child_weight': 1,\n",
      " 'missing': nan,\n",
      " 'n_estimators': 100,\n",
      " 'n_jobs': 1,\n",
      " 'nthread': None,\n",
      " 'objective': 'binary:logistic',\n",
      " 'random_state': 0,\n",
      " 'reg_alpha': 0,\n",
      " 'reg_lambda': 1,\n",
      " 'scale_pos_weight': 1,\n",
      " 'seed': None,\n",
      " 'silent': None,\n",
      " 'subsample': 1,\n",
      " 'tree_method': 'auto',\n",
      " 'verbose': -10,\n",
      " 'verbosity': 0}\n",
      "\n",
      "3 - maxabsscaler\n",
      "{'copy': True}\n",
      "\n",
      "3 - randomforestclassifier\n",
      "{'bootstrap': True,\n",
      " 'ccp_alpha': 0.0,\n",
      " 'class_weight': 'balanced',\n",
      " 'criterion': 'gini',\n",
      " 'max_depth': None,\n",
      " 'max_features': 'log2',\n",
      " 'max_leaf_nodes': None,\n",
      " 'max_samples': None,\n",
      " 'min_impurity_decrease': 0.0,\n",
      " 'min_impurity_split': None,\n",
      " 'min_samples_leaf': 0.01,\n",
      " 'min_samples_split': 0.01,\n",
      " 'min_weight_fraction_leaf': 0.0,\n",
      " 'n_estimators': 25,\n",
      " 'n_jobs': 1,\n",
      " 'oob_score': True,\n",
      " 'random_state': None,\n",
      " 'verbose': 0,\n",
      " 'warm_start': False}\n",
      "\n",
      "21 - standardscalerwrapper\n",
      "{'class_name': 'StandardScaler',\n",
      " 'copy': True,\n",
      " 'module_name': 'sklearn.preprocessing._data',\n",
      " 'with_mean': False,\n",
      " 'with_std': False}\n",
      "\n",
      "21 - xgboostclassifier\n",
      "{'base_score': 0.5,\n",
      " 'booster': 'gbtree',\n",
      " 'colsample_bylevel': 1,\n",
      " 'colsample_bynode': 1,\n",
      " 'colsample_bytree': 1,\n",
      " 'eta': 0.2,\n",
      " 'gamma': 0.01,\n",
      " 'learning_rate': 0.1,\n",
      " 'max_delta_step': 0,\n",
      " 'max_depth': 7,\n",
      " 'max_leaves': 0,\n",
      " 'min_child_weight': 1,\n",
      " 'missing': nan,\n",
      " 'n_estimators': 50,\n",
      " 'n_jobs': 1,\n",
      " 'nthread': None,\n",
      " 'objective': 'reg:logistic',\n",
      " 'random_state': 0,\n",
      " 'reg_alpha': 1.3541666666666667,\n",
      " 'reg_lambda': 0.625,\n",
      " 'scale_pos_weight': 1,\n",
      " 'seed': None,\n",
      " 'silent': None,\n",
      " 'subsample': 1,\n",
      " 'tree_method': 'auto',\n",
      " 'verbose': -10,\n",
      " 'verbosity': 0}\n",
      "\n",
      "2 - maxabsscaler\n",
      "{'copy': True}\n",
      "\n",
      "2 - randomforestclassifier\n",
      "{'bootstrap': False,\n",
      " 'ccp_alpha': 0.0,\n",
      " 'class_weight': None,\n",
      " 'criterion': 'gini',\n",
      " 'max_depth': None,\n",
      " 'max_features': 'sqrt',\n",
      " 'max_leaf_nodes': None,\n",
      " 'max_samples': None,\n",
      " 'min_impurity_decrease': 0.0,\n",
      " 'min_impurity_split': None,\n",
      " 'min_samples_leaf': 0.01,\n",
      " 'min_samples_split': 0.10368421052631578,\n",
      " 'min_weight_fraction_leaf': 0.0,\n",
      " 'n_estimators': 10,\n",
      " 'n_jobs': 1,\n",
      " 'oob_score': False,\n",
      " 'random_state': None,\n",
      " 'verbose': 0,\n",
      " 'warm_start': False}\n",
      "\n",
      "32 - standardscalerwrapper\n",
      "{'class_name': 'StandardScaler',\n",
      " 'copy': True,\n",
      " 'module_name': 'sklearn.preprocessing._data',\n",
      " 'with_mean': False,\n",
      " 'with_std': False}\n",
      "\n",
      "32 - logisticregression\n",
      "{'C': 0.12648552168552957,\n",
      " 'class_weight': 'balanced',\n",
      " 'dual': False,\n",
      " 'fit_intercept': True,\n",
      " 'intercept_scaling': 1,\n",
      " 'l1_ratio': None,\n",
      " 'max_iter': 100,\n",
      " 'multi_class': 'ovr',\n",
      " 'n_jobs': 1,\n",
      " 'penalty': 'l2',\n",
      " 'random_state': None,\n",
      " 'solver': 'newton-cg',\n",
      " 'tol': 0.0001,\n",
      " 'verbose': 0,\n",
      " 'warm_start': False}\n",
      "\n",
      "15 - standardscalerwrapper\n",
      "{'class_name': 'StandardScaler',\n",
      " 'copy': True,\n",
      " 'module_name': 'sklearn.preprocessing._data',\n",
      " 'with_mean': False,\n",
      " 'with_std': False}\n",
      "\n",
      "15 - extratreesclassifier\n",
      "{'bootstrap': False,\n",
      " 'ccp_alpha': 0.0,\n",
      " 'class_weight': None,\n",
      " 'criterion': 'gini',\n",
      " 'max_depth': None,\n",
      " 'max_features': None,\n",
      " 'max_leaf_nodes': None,\n",
      " 'max_samples': None,\n",
      " 'min_impurity_decrease': 0.0,\n",
      " 'min_impurity_split': None,\n",
      " 'min_samples_leaf': 0.06157894736842105,\n",
      " 'min_samples_split': 0.15052631578947367,\n",
      " 'min_weight_fraction_leaf': 0.0,\n",
      " 'n_estimators': 10,\n",
      " 'n_jobs': 1,\n",
      " 'oob_score': False,\n",
      " 'random_state': None,\n",
      " 'verbose': 0,\n",
      " 'warm_start': False}\n",
      "\n",
      "26 - maxabsscaler\n",
      "{'copy': True}\n",
      "\n",
      "26 - gradientboostingclassifier\n",
      "{'ccp_alpha': 0.0,\n",
      " 'criterion': 'friedman_mse',\n",
      " 'init': None,\n",
      " 'learning_rate': 0.1,\n",
      " 'loss': 'deviance',\n",
      " 'max_depth': 3,\n",
      " 'max_features': 0.8,\n",
      " 'max_leaf_nodes': None,\n",
      " 'min_impurity_decrease': 0.0,\n",
      " 'min_impurity_split': None,\n",
      " 'min_samples_leaf': 0.19052631578947368,\n",
      " 'min_samples_split': 0.19736842105263158,\n",
      " 'min_weight_fraction_leaf': 0.0,\n",
      " 'n_estimators': 200,\n",
      " 'n_iter_no_change': None,\n",
      " 'presort': 'deprecated',\n",
      " 'random_state': None,\n",
      " 'subsample': 0.5736842105263158,\n",
      " 'tol': 0.0001,\n",
      " 'validation_fraction': 0.1,\n",
      " 'verbose': 0,\n",
      " 'warm_start': False}\n",
      "\n",
      "33 - maxabsscaler\n",
      "{'copy': True}\n",
      "\n",
      "33 - logisticregression\n",
      "{'C': 4714.8663634573895,\n",
      " 'class_weight': None,\n",
      " 'dual': False,\n",
      " 'fit_intercept': True,\n",
      " 'intercept_scaling': 1,\n",
      " 'l1_ratio': None,\n",
      " 'max_iter': 100,\n",
      " 'multi_class': 'multinomial',\n",
      " 'n_jobs': 1,\n",
      " 'penalty': 'l2',\n",
      " 'random_state': None,\n",
      " 'solver': 'lbfgs',\n",
      " 'tol': 0.0001,\n",
      " 'verbose': 0,\n",
      " 'warm_start': False}\n",
      "\n",
      "4 - maxabsscaler\n",
      "{'copy': True}\n",
      "\n",
      "4 - randomforestclassifier\n",
      "{'bootstrap': True,\n",
      " 'ccp_alpha': 0.0,\n",
      " 'class_weight': None,\n",
      " 'criterion': 'gini',\n",
      " 'max_depth': None,\n",
      " 'max_features': 'sqrt',\n",
      " 'max_leaf_nodes': None,\n",
      " 'max_samples': None,\n",
      " 'min_impurity_decrease': 0.0,\n",
      " 'min_impurity_split': None,\n",
      " 'min_samples_leaf': 0.035789473684210524,\n",
      " 'min_samples_split': 0.01,\n",
      " 'min_weight_fraction_leaf': 0.0,\n",
      " 'n_estimators': 10,\n",
      " 'n_jobs': 1,\n",
      " 'oob_score': True,\n",
      " 'random_state': None,\n",
      " 'verbose': 0,\n",
      " 'warm_start': False}\n",
      "\n",
      "18 - maxabsscaler\n",
      "{'copy': True}\n",
      "\n",
      "18 - randomforestclassifier\n",
      "{'bootstrap': False,\n",
      " 'ccp_alpha': 0.0,\n",
      " 'class_weight': 'balanced',\n",
      " 'criterion': 'gini',\n",
      " 'max_depth': None,\n",
      " 'max_features': 'sqrt',\n",
      " 'max_leaf_nodes': None,\n",
      " 'max_samples': None,\n",
      " 'min_impurity_decrease': 0.0,\n",
      " 'min_impurity_split': None,\n",
      " 'min_samples_leaf': 0.1131578947368421,\n",
      " 'min_samples_split': 0.2442105263157895,\n",
      " 'min_weight_fraction_leaf': 0.0,\n",
      " 'n_estimators': 25,\n",
      " 'n_jobs': 1,\n",
      " 'oob_score': False,\n",
      " 'random_state': None,\n",
      " 'verbose': 0,\n",
      " 'warm_start': False}\n",
      "\n",
      "10 - maxabsscaler\n",
      "{'copy': True}\n",
      "\n",
      "10 - randomforestclassifier\n",
      "{'bootstrap': True,\n",
      " 'ccp_alpha': 0.0,\n",
      " 'class_weight': 'balanced',\n",
      " 'criterion': 'entropy',\n",
      " 'max_depth': None,\n",
      " 'max_features': 'sqrt',\n",
      " 'max_leaf_nodes': None,\n",
      " 'max_samples': None,\n",
      " 'min_impurity_decrease': 0.0,\n",
      " 'min_impurity_split': None,\n",
      " 'min_samples_leaf': 0.01,\n",
      " 'min_samples_split': 0.2442105263157895,\n",
      " 'min_weight_fraction_leaf': 0.0,\n",
      " 'n_estimators': 10,\n",
      " 'n_jobs': 1,\n",
      " 'oob_score': False,\n",
      " 'random_state': None,\n",
      " 'verbose': 0,\n",
      " 'warm_start': False}\n",
      "\n"
     ]
    }
   ],
   "source": [
    "from pprint import pprint\n",
    "\n",
    "def print_model(fitted_model, prefix=\"\"):\n",
    "    for step in fitted_model.steps:\n",
    "        print(prefix + step[0])\n",
    "        if hasattr(step[1], 'estimators') and hasattr(step[1], 'weights'):\n",
    "            pprint({'estimators': list(\n",
    "                e[0] for e in step[1].estimators), 'weights': step[1].weights})\n",
    "            print()\n",
    "            for estimator in step[1].estimators:\n",
    "                print_model(estimator[1], estimator[0] + ' - ')\n",
    "        else:\n",
    "            pprint(step[1].get_params())\n",
    "            print()\n",
    "\n",
    "print_model(fitted_model)"
   ]
  },
  {
   "cell_type": "code",
   "execution_count": null,
   "metadata": {},
   "outputs": [],
   "source": []
  }
 ],
 "metadata": {
  "kernel_info": {
   "name": "python3"
  },
  "kernelspec": {
   "display_name": "Python 3",
   "language": "python",
   "name": "python3"
  },
  "language_info": {
   "codemirror_mode": {
    "name": "ipython",
    "version": 3
   },
   "file_extension": ".py",
   "mimetype": "text/x-python",
   "name": "python",
   "nbconvert_exporter": "python",
   "pygments_lexer": "ipython3",
   "version": "3.6.9"
  },
  "nteract": {
   "version": "nteract-front-end@1.0.0"
  }
 },
 "nbformat": 4,
 "nbformat_minor": 2
}
