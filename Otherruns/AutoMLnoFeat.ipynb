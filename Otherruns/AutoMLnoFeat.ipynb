{
 "cells": [
  {
   "cell_type": "markdown",
   "metadata": {},
   "source": [
    "# Automated ML\n",
    "\n",
    "Import Dependencies. "
   ]
  },
  {
   "cell_type": "code",
   "execution_count": 9,
   "metadata": {
    "gather": {
     "logged": 1612344860263
    },
    "jupyter": {
     "outputs_hidden": false,
     "source_hidden": false
    },
    "nteract": {
     "transient": {
      "deleting": false
     }
    }
   },
   "outputs": [
    {
     "name": "stdout",
     "output_type": "stream",
     "text": [
      "SDK version: 1.20.0\n"
     ]
    }
   ],
   "source": [
    "import logging\n",
    "import os\n",
    "import csv\n",
    "\n",
    "from matplotlib import pyplot as plt\n",
    "import numpy as np\n",
    "import pandas as pd\n",
    "from sklearn import datasets\n",
    "import pkg_resources\n",
    "\n",
    "import azureml.core\n",
    "from azureml.core.experiment import Experiment\n",
    "from azureml.core.workspace import Workspace\n",
    "from azureml.train.automl import AutoMLConfig\n",
    "from azureml.core.dataset import Dataset\n",
    "\n",
    "from azureml.pipeline.steps import AutoMLStep\n",
    "\n",
    "#!pip install azureml-sdk==1.19.0\n",
    "\n",
    "# Check core SDK version number\n",
    "print(\"SDK version:\", azureml.core.VERSION)"
   ]
  },
  {
   "cell_type": "markdown",
   "metadata": {},
   "source": [
    "## Dataset\n",
    "\n",
    "### Overview\n",
    "I will be using a diabetes dataset from datahub.io dataset on gestational diabetes. https://datahub.io/machine-learning/diabetes/r/diabetes.csv\n",
    "This dataset will aid to forecast gestational diabetes in women.\n"
   ]
  },
  {
   "cell_type": "code",
   "execution_count": 15,
   "metadata": {
    "collapsed": true,
    "gather": {
     "logged": 1612345238202
    },
    "jupyter": {
     "outputs_hidden": false,
     "source_hidden": false
    },
    "nteract": {
     "transient": {
      "deleting": false
     }
    }
   },
   "outputs": [
    {
     "name": "stdout",
     "output_type": "stream",
     "text": [
      "trn-aue-aa-ml\n",
      "trn-aue-advanced-analytics-ml\n",
      "australiaeast\n",
      "8a086c9c-5530-4791-89af-62c8cdfda3fd\n",
      "Found existing cluster, use it.\n",
      "Succeeded....................................\n",
      "AmlCompute wait for completion finished\n",
      "\n",
      "Wait timeout has been reached\n",
      "Current provisioning state of AmlCompute is \"Succeeded\" and current node count is \"0\"\n"
     ]
    },
    {
     "data": {
      "text/html": [
       "<div>\n",
       "<style scoped>\n",
       "    .dataframe tbody tr th:only-of-type {\n",
       "        vertical-align: middle;\n",
       "    }\n",
       "\n",
       "    .dataframe tbody tr th {\n",
       "        vertical-align: top;\n",
       "    }\n",
       "\n",
       "    .dataframe thead th {\n",
       "        text-align: right;\n",
       "    }\n",
       "</style>\n",
       "<table border=\"1\" class=\"dataframe\">\n",
       "  <thead>\n",
       "    <tr style=\"text-align: right;\">\n",
       "      <th></th>\n",
       "      <th>preg</th>\n",
       "      <th>plas</th>\n",
       "      <th>pres</th>\n",
       "      <th>skin</th>\n",
       "      <th>insu</th>\n",
       "      <th>mass</th>\n",
       "      <th>pedi</th>\n",
       "      <th>age</th>\n",
       "    </tr>\n",
       "  </thead>\n",
       "  <tbody>\n",
       "    <tr>\n",
       "      <th>count</th>\n",
       "      <td>768.000000</td>\n",
       "      <td>768.000000</td>\n",
       "      <td>768.000000</td>\n",
       "      <td>768.000000</td>\n",
       "      <td>768.000000</td>\n",
       "      <td>768.000000</td>\n",
       "      <td>768.000000</td>\n",
       "      <td>768.000000</td>\n",
       "    </tr>\n",
       "    <tr>\n",
       "      <th>mean</th>\n",
       "      <td>3.845052</td>\n",
       "      <td>120.894531</td>\n",
       "      <td>69.105469</td>\n",
       "      <td>20.536458</td>\n",
       "      <td>79.799479</td>\n",
       "      <td>31.992578</td>\n",
       "      <td>0.471876</td>\n",
       "      <td>33.240885</td>\n",
       "    </tr>\n",
       "    <tr>\n",
       "      <th>std</th>\n",
       "      <td>3.369578</td>\n",
       "      <td>31.972618</td>\n",
       "      <td>19.355807</td>\n",
       "      <td>15.952218</td>\n",
       "      <td>115.244002</td>\n",
       "      <td>7.884160</td>\n",
       "      <td>0.331329</td>\n",
       "      <td>11.760232</td>\n",
       "    </tr>\n",
       "    <tr>\n",
       "      <th>min</th>\n",
       "      <td>0.000000</td>\n",
       "      <td>0.000000</td>\n",
       "      <td>0.000000</td>\n",
       "      <td>0.000000</td>\n",
       "      <td>0.000000</td>\n",
       "      <td>0.000000</td>\n",
       "      <td>0.078000</td>\n",
       "      <td>21.000000</td>\n",
       "    </tr>\n",
       "    <tr>\n",
       "      <th>25%</th>\n",
       "      <td>1.000000</td>\n",
       "      <td>99.000000</td>\n",
       "      <td>62.000000</td>\n",
       "      <td>0.000000</td>\n",
       "      <td>0.000000</td>\n",
       "      <td>27.300000</td>\n",
       "      <td>0.243750</td>\n",
       "      <td>24.000000</td>\n",
       "    </tr>\n",
       "    <tr>\n",
       "      <th>50%</th>\n",
       "      <td>3.000000</td>\n",
       "      <td>117.000000</td>\n",
       "      <td>72.000000</td>\n",
       "      <td>23.000000</td>\n",
       "      <td>30.500000</td>\n",
       "      <td>32.000000</td>\n",
       "      <td>0.372500</td>\n",
       "      <td>29.000000</td>\n",
       "    </tr>\n",
       "    <tr>\n",
       "      <th>75%</th>\n",
       "      <td>6.000000</td>\n",
       "      <td>140.250000</td>\n",
       "      <td>80.000000</td>\n",
       "      <td>32.000000</td>\n",
       "      <td>127.250000</td>\n",
       "      <td>36.600000</td>\n",
       "      <td>0.626250</td>\n",
       "      <td>41.000000</td>\n",
       "    </tr>\n",
       "    <tr>\n",
       "      <th>max</th>\n",
       "      <td>17.000000</td>\n",
       "      <td>199.000000</td>\n",
       "      <td>122.000000</td>\n",
       "      <td>99.000000</td>\n",
       "      <td>846.000000</td>\n",
       "      <td>67.100000</td>\n",
       "      <td>2.420000</td>\n",
       "      <td>81.000000</td>\n",
       "    </tr>\n",
       "  </tbody>\n",
       "</table>\n",
       "</div>"
      ],
      "text/plain": [
       "             preg        plas        pres        skin        insu        mass  \\\n",
       "count  768.000000  768.000000  768.000000  768.000000  768.000000  768.000000   \n",
       "mean     3.845052  120.894531   69.105469   20.536458   79.799479   31.992578   \n",
       "std      3.369578   31.972618   19.355807   15.952218  115.244002    7.884160   \n",
       "min      0.000000    0.000000    0.000000    0.000000    0.000000    0.000000   \n",
       "25%      1.000000   99.000000   62.000000    0.000000    0.000000   27.300000   \n",
       "50%      3.000000  117.000000   72.000000   23.000000   30.500000   32.000000   \n",
       "75%      6.000000  140.250000   80.000000   32.000000  127.250000   36.600000   \n",
       "max     17.000000  199.000000  122.000000   99.000000  846.000000   67.100000   \n",
       "\n",
       "             pedi         age  \n",
       "count  768.000000  768.000000  \n",
       "mean     0.471876   33.240885  \n",
       "std      0.331329   11.760232  \n",
       "min      0.078000   21.000000  \n",
       "25%      0.243750   24.000000  \n",
       "50%      0.372500   29.000000  \n",
       "75%      0.626250   41.000000  \n",
       "max      2.420000   81.000000  "
      ]
     },
     "execution_count": 15,
     "metadata": {},
     "output_type": "execute_result"
    }
   ],
   "source": [
    "from azureml.core.compute_target import ComputeTargetException\n",
    "from azureml.core.compute import AmlCompute\n",
    "from azureml.core.compute import ComputeTarget\n",
    "\n",
    "ws = Workspace.from_config()\n",
    "print(ws.name, ws.resource_group, ws.location, ws.subscription_id, sep = '\\n')\n",
    "\n",
    "# NOTE: update the cluster name to match the existing cluster\n",
    "# Choose a name for your CPU cluster\n",
    "amlcompute_cluster_name = \"pimadiabetes\"\n",
    "\n",
    "# Verify that cluster does not exist already\n",
    "try:\n",
    "    compute_target = ComputeTarget(workspace=ws, name=amlcompute_cluster_name)\n",
    "    print('Found existing cluster, use it.')\n",
    "except ComputeTargetException:\n",
    "    compute_config = AmlCompute.provisioning_configuration(vm_size='STANDARD_DS2_V12',# for GPU, use \"STANDARD_NC6\"\n",
    "                                                           #vm_priority = 'lowpriority', # optional\n",
    "                                                           max_nodes=5)\n",
    "    compute_target = ComputeTarget.create(ws, amlcompute_cluster_name, compute_config)\n",
    "\n",
    "compute_target.wait_for_completion(show_output=True, min_node_count = 1, timeout_in_minutes = 3)\n",
    "# For a more detailed view of current AmlCompute status, use get_status().\n",
    "\n",
    "###################\n",
    "# Define Dataset\n",
    "###################\n",
    "found = False\n",
    "key = \"pimadiabetes\"\n",
    "description_text = \"Capstone Project - Forecast Diabetes\"\n",
    "\n",
    "if key in ws.datasets.keys(): \n",
    "        found = True\n",
    "        dataset = ws.datasets[key] \n",
    "\n",
    "if not found:\n",
    "        # Create AML Dataset and register it into Workspace\n",
    "        example_data = 'https://datahub.io/machine-learning/diabetes/r/diabetes.csv'\n",
    "        dataset = Dataset.Tabular.from_delimited_files(example_data)        \n",
    "        #Register Dataset in Workspace\n",
    "        dataset = dataset.register(workspace=ws,\n",
    "                                   name=key,\n",
    "                                   description=description_text)\n",
    "\n",
    "\n",
    "df = dataset.to_pandas_dataframe()\n",
    "df.describe()"
   ]
  },
  {
   "cell_type": "code",
   "execution_count": 16,
   "metadata": {
    "gather": {
     "logged": 1612345284688
    },
    "jupyter": {
     "outputs_hidden": false,
     "source_hidden": false
    },
    "nteract": {
     "transient": {
      "deleting": false
     }
    }
   },
   "outputs": [],
   "source": [
    "# choose a name for experiment\n",
    "experiment_name = 'automlpimadiabetesNoFeat'\n",
    "project_folder = './Augusto_Avila/capstone'\n",
    "\n",
    "experiment=Experiment(ws, experiment_name)"
   ]
  },
  {
   "cell_type": "markdown",
   "metadata": {},
   "source": [
    "## AutoML Configuration\n",
    "\n",
    "Choosing a classification model to predict the likelihood of gestational diabetes, the variable class will hold the forecasted value and will be using the \n",
    "AUC_weighed metric as the result of initial automl experiment execution as the primary metric"
   ]
  },
  {
   "cell_type": "code",
   "execution_count": 21,
   "metadata": {
    "gather": {
     "logged": 1612345361515
    },
    "jupyter": {
     "outputs_hidden": false,
     "source_hidden": false
    },
    "nteract": {
     "transient": {
      "deleting": false
     }
    }
   },
   "outputs": [],
   "source": [
    "automl_settings = {\n",
    "    \"experiment_timeout_minutes\": 60,\n",
    "    \"max_concurrent_iterations\": 5,\n",
    "    \"primary_metric\" : 'AUC_weighted'\n",
    "}\n",
    "automl_config = AutoMLConfig(compute_target=amlcompute_cluster_name,\n",
    "                             task = \"classification\",\n",
    "                             training_data=dataset,\n",
    "                             label_column_name=\"class\",   \n",
    "                             path = project_folder,\n",
    "                             enable_early_stopping= True,\n",
    "                             enable_onnx_compatible_models=True,\n",
    "                             featurization= 'off',\n",
    "                             debug_log = \"automl_errors.log\",\n",
    "                             **automl_settings\n",
    "                            )\n"
   ]
  },
  {
   "cell_type": "code",
   "execution_count": 22,
   "metadata": {
    "gather": {
     "logged": 1612218879357
    },
    "jupyter": {
     "outputs_hidden": false,
     "source_hidden": false
    },
    "nteract": {
     "transient": {
      "deleting": false
     }
    }
   },
   "outputs": [
    {
     "name": "stdout",
     "output_type": "stream",
     "text": [
      "Running on remote.\n",
      "No run_configuration provided, running on pimadiabetes with default configuration\n",
      "Running on remote compute: pimadiabetes\n",
      "Parent Run ID: AutoML_719a1e66-cebe-467b-a703-4e27f4c221be\n",
      "\n",
      "Current status: ModelSelection. Beginning model selection.\n",
      "\n",
      "****************************************************************************************************\n",
      "DATA GUARDRAILS: \n",
      "\n",
      "TYPE:         Cross validation\n",
      "STATUS:       DONE\n",
      "DESCRIPTION:  Each iteration of the trained model was validated through cross-validation.\n",
      "              \n",
      "DETAILS:      \n",
      "+---------------------------------+\n",
      "|Number of folds                  |\n",
      "+=================================+\n",
      "|10                               |\n",
      "+---------------------------------+\n",
      "\n",
      "****************************************************************************************************\n",
      "\n",
      "TYPE:         Class balancing detection\n",
      "STATUS:       PASSED\n",
      "DESCRIPTION:  Your inputs were analyzed, and all classes are balanced in your training data.\n",
      "              Learn more about imbalanced data: https://aka.ms/AutomatedMLImbalancedData\n",
      "\n",
      "****************************************************************************************************\n",
      "\n",
      "****************************************************************************************************\n",
      "ITERATION: The iteration being evaluated.\n",
      "PIPELINE: A summary description of the pipeline being evaluated.\n",
      "DURATION: Time taken for the current iteration.\n",
      "METRIC: The result of computing score on the fitted pipeline.\n",
      "BEST: The best observed score thus far.\n",
      "****************************************************************************************************\n",
      "\n",
      " ITERATION   PIPELINE                                       DURATION      METRIC      BEST\n",
      "         2   MinMaxScaler RandomForest                      0:01:56       0.8315    0.8315\n",
      "         4   MinMaxScaler RandomForest                      0:02:02       0.8307    0.8315\n",
      "         0   MaxAbsScaler LightGBM                          0:02:07       0.8047    0.8315\n",
      "         1   MaxAbsScaler XGBoostClassifier                 0:02:07       0.8342    0.8342\n",
      "         3   RobustScaler ExtremeRandomTrees                0:02:08       0.8330    0.8342\n",
      "         5   MinMaxScaler RandomForest                      0:02:06       0.8173    0.8342\n",
      "         6   StandardScalerWrapper RandomForest             0:01:53       0.8237    0.8342\n",
      "         7   MinMaxScaler ExtremeRandomTrees                0:01:56       0.8182    0.8342\n",
      "        10   MinMaxScaler ExtremeRandomTrees                0:01:57       0.8307    0.8342\n",
      "         8   MinMaxScaler ExtremeRandomTrees                0:02:00       0.8312    0.8342\n",
      "         9   SparseNormalizer KNN                           0:02:00       0.6956    0.8342\n",
      "        11   RobustScaler ExtremeRandomTrees                0:01:48       0.8198    0.8342\n",
      "        12   StandardScalerWrapper RandomForest             0:01:49       0.8288    0.8342\n",
      "        13   StandardScalerWrapper SGD                      0:01:52       0.8304    0.8342\n",
      "        14   RobustScaler RandomForest                      0:01:45       0.8082    0.8342\n",
      "        15   StandardScalerWrapper KNN                      0:01:55       0.7833    0.8342\n",
      "        16   MinMaxScaler RandomForest                      0:01:55       0.8227    0.8342\n",
      "        17   MinMaxScaler ExtremeRandomTrees                0:01:52       0.8005    0.8342\n",
      "        18   MaxAbsScaler RandomForest                      0:01:55       0.8150    0.8342\n",
      "        19   StandardScalerWrapper XGBoostClassifier        0:01:48       0.8277    0.8342\n",
      "        20   MaxAbsScaler RandomForest                      0:02:04       0.8257    0.8342\n",
      "        21   MaxAbsScaler ExtremeRandomTrees                0:01:57       0.8218    0.8342\n",
      "        22   MaxAbsScaler ExtremeRandomTrees                0:01:48       0.8335    0.8342\n",
      "        23   StandardScalerWrapper LogisticRegression       0:01:52       0.8309    0.8342\n",
      "        24   MaxAbsScaler LogisticRegression                0:01:55       0.8307    0.8342\n",
      "        25   StandardScalerWrapper XGBoostClassifier        0:01:52       0.8125    0.8342\n",
      "        26   StandardScalerWrapper SVM                      0:01:53       0.8123    0.8342\n",
      "        27   MinMaxScaler SVM                               0:01:55       0.8080    0.8342\n",
      "        28   MinMaxScaler LightGBM                          0:01:51       0.8241    0.8342\n",
      "        29   StandardScalerWrapper XGBoostClassifier        0:01:52       0.8176    0.8342\n",
      "        30   PCA XGBoostClassifier                          0:01:56       0.6773    0.8342\n",
      "        31   RobustScaler LightGBM                          0:01:53       0.8224    0.8342\n",
      "        32   MaxAbsScaler LightGBM                          0:01:51       0.8021    0.8342\n",
      "        33   RobustScaler LightGBM                          0:01:55       0.8153    0.8342\n",
      "        34   MinMaxScaler ExtremeRandomTrees                0:01:52       0.8400    0.8400\n",
      "        35   StandardScalerWrapper XGBoostClassifier        0:01:35       0.7962    0.8400\n",
      "        37                                                  0:00:07          nan    0.8400\n",
      "        36                                                  0:01:08          nan    0.8400\n",
      "        40   StandardScalerWrapper LightGBM                 0:01:52       0.8282    0.8400\n",
      "        41   SparseNormalizer XGBoostClassifier             0:01:48       0.7162    0.8400\n",
      "        38   SparseNormalizer XGBoostClassifier             0:01:56       0.6920    0.8400\n",
      "        39   StandardScalerWrapper ExtremeRandomTrees       0:02:04       0.8339    0.8400\n",
      "        42   SparseNormalizer XGBoostClassifier             0:01:57       0.6771    0.8400\n",
      "        43   MinMaxScaler LightGBM                          0:01:55       0.8295    0.8400\n",
      "        44   RobustScaler ExtremeRandomTrees                0:01:55       0.8368    0.8400\n",
      "        45   TruncatedSVDWrapper ExtremeRandomTrees         0:01:57       0.7252    0.8400\n",
      "        46   RobustScaler LightGBM                          0:01:49       0.8202    0.8400\n",
      "        47   RobustScaler LightGBM                          0:01:48       0.8089    0.8400\n",
      "        48   RobustScaler KNN                               0:01:51       0.8013    0.8400\n",
      "        49   RobustScaler KNN                               0:01:56       0.7979    0.8400\n",
      "        50   TruncatedSVDWrapper ExtremeRandomTrees         0:01:52       0.6601    0.8400\n",
      "        51   SparseNormalizer XGBoostClassifier             0:01:48       0.6979    0.8400\n",
      "        52   StandardScalerWrapper XGBoostClassifier        0:01:53       0.8177    0.8400\n",
      "        53                                                  0:00:17          nan    0.8400\n"
     ]
    }
   ],
   "source": [
    "## Submit Experiment\n",
    "\n",
    "from azureml.widgets import RunDetails\n",
    "from azureml.core.run import Run\n",
    "\n",
    "remote_run = experiment.submit(automl_config,show_output=True)\n"
   ]
  },
  {
   "cell_type": "markdown",
   "metadata": {},
   "source": [
    "## Run Details\n",
    "\n"
   ]
  },
  {
   "cell_type": "code",
   "execution_count": null,
   "metadata": {
    "gather": {
     "logged": 1612176629207
    },
    "jupyter": {
     "outputs_hidden": false,
     "source_hidden": false
    },
    "nteract": {
     "transient": {
      "deleting": false
     }
    }
   },
   "outputs": [
    {
     "data": {
      "application/vnd.jupyter.widget-view+json": {
       "model_id": "ce1257dec0a546dab4f8922a6f96e38e",
       "version_major": 2,
       "version_minor": 0
      },
      "text/plain": [
       "_AutoMLWidget(widget_settings={'childWidgetDisplay': 'popup', 'send_telemetry': False, 'log_level': 'INFO', 's…"
      ]
     },
     "metadata": {},
     "output_type": "display_data"
    },
    {
     "data": {
      "application/aml.mini.widget.v1": "{\"status\": \"Completed\", \"workbench_run_details_uri\": \"https://ml.azure.com/experiments/automlpimadiabetesNoFeat/runs/AutoML_719a1e66-cebe-467b-a703-4e27f4c221be?wsid=/subscriptions/8a086c9c-5530-4791-89af-62c8cdfda3fd/resourcegroups/trn-aue-advanced-analytics-ml/workspaces/trn-aue-aa-ml\", \"run_id\": \"AutoML_719a1e66-cebe-467b-a703-4e27f4c221be\", \"run_properties\": {\"run_id\": \"AutoML_719a1e66-cebe-467b-a703-4e27f4c221be\", \"created_utc\": \"2021-02-03T09:42:52.874711Z\", \"properties\": {\"num_iterations\": \"1000\", \"training_type\": \"TrainFull\", \"acquisition_function\": \"EI\", \"primary_metric\": \"AUC_weighted\", \"train_split\": \"0\", \"acquisition_parameter\": \"0\", \"num_cross_validation\": null, \"target\": \"pimadiabetes\", \"AMLSettingsJsonString\": \"{\\\"path\\\":null,\\\"name\\\":\\\"automlpimadiabetesNoFeat\\\",\\\"subscription_id\\\":\\\"8a086c9c-5530-4791-89af-62c8cdfda3fd\\\",\\\"resource_group\\\":\\\"trn-aue-advanced-analytics-ml\\\",\\\"workspace_name\\\":\\\"trn-aue-aa-ml\\\",\\\"region\\\":\\\"australiaeast\\\",\\\"compute_target\\\":\\\"pimadiabetes\\\",\\\"spark_service\\\":null,\\\"azure_service\\\":\\\"remote\\\",\\\"many_models\\\":false,\\\"pipeline_fetch_max_batch_size\\\":1,\\\"iterations\\\":1000,\\\"primary_metric\\\":\\\"AUC_weighted\\\",\\\"task_type\\\":\\\"classification\\\",\\\"data_script\\\":null,\\\"validation_size\\\":0.0,\\\"n_cross_validations\\\":null,\\\"y_min\\\":null,\\\"y_max\\\":null,\\\"num_classes\\\":null,\\\"featurization\\\":\\\"off\\\",\\\"_ignore_package_version_incompatibilities\\\":false,\\\"is_timeseries\\\":false,\\\"max_cores_per_iteration\\\":1,\\\"max_concurrent_iterations\\\":5,\\\"iteration_timeout_minutes\\\":null,\\\"mem_in_mb\\\":null,\\\"enforce_time_on_windows\\\":false,\\\"experiment_timeout_minutes\\\":60,\\\"experiment_exit_score\\\":null,\\\"whitelist_models\\\":null,\\\"blacklist_algos\\\":[\\\"TensorFlowLinearClassifier\\\",\\\"TensorFlowDNN\\\"],\\\"supported_models\\\":[\\\"ExtremeRandomTrees\\\",\\\"MultinomialNaiveBayes\\\",\\\"LogisticRegression\\\",\\\"SVM\\\",\\\"KNN\\\",\\\"XGBoostClassifier\\\",\\\"LightGBM\\\",\\\"TensorFlowDNN\\\",\\\"BernoulliNaiveBayes\\\",\\\"AveragedPerceptronClassifier\\\",\\\"SGD\\\",\\\"GradientBoosting\\\",\\\"TensorFlowLinearClassifier\\\",\\\"LinearSVM\\\",\\\"DecisionTree\\\",\\\"RandomForest\\\"],\\\"auto_blacklist\\\":true,\\\"blacklist_samples_reached\\\":false,\\\"exclude_nan_labels\\\":true,\\\"verbosity\\\":20,\\\"_debug_log\\\":\\\"azureml_automl.log\\\",\\\"show_warnings\\\":false,\\\"model_explainability\\\":true,\\\"service_url\\\":null,\\\"sdk_url\\\":null,\\\"sdk_packages\\\":null,\\\"enable_onnx_compatible_models\\\":true,\\\"enable_split_onnx_featurizer_estimator_models\\\":false,\\\"vm_type\\\":\\\"STANDARD_DS12_V2\\\",\\\"telemetry_verbosity\\\":20,\\\"send_telemetry\\\":true,\\\"enable_dnn\\\":false,\\\"scenario\\\":\\\"SDK-1.13.0\\\",\\\"environment_label\\\":null,\\\"force_text_dnn\\\":false,\\\"enable_feature_sweeping\\\":false,\\\"enable_early_stopping\\\":true,\\\"early_stopping_n_iters\\\":10,\\\"metrics\\\":null,\\\"enable_ensembling\\\":true,\\\"enable_stack_ensembling\\\":false,\\\"ensemble_iterations\\\":15,\\\"enable_tf\\\":false,\\\"enable_subsampling\\\":null,\\\"subsample_seed\\\":null,\\\"enable_nimbusml\\\":false,\\\"enable_streaming\\\":false,\\\"force_streaming\\\":false,\\\"track_child_runs\\\":true,\\\"allowed_private_models\\\":[],\\\"label_column_name\\\":\\\"class\\\",\\\"weight_column_name\\\":null,\\\"cv_split_column_names\\\":null,\\\"enable_local_managed\\\":false,\\\"_local_managed_run_id\\\":null,\\\"cost_mode\\\":1,\\\"lag_length\\\":0,\\\"metric_operation\\\":\\\"maximize\\\",\\\"preprocess\\\":false}\", \"DataPrepJsonString\": \"{\\\\\\\"training_data\\\\\\\": \\\\\\\"{\\\\\\\\\\\\\\\"blocks\\\\\\\\\\\\\\\": [{\\\\\\\\\\\\\\\"id\\\\\\\\\\\\\\\": \\\\\\\\\\\\\\\"40256732-caf5-4231-aa61-100bc802370b\\\\\\\\\\\\\\\", \\\\\\\\\\\\\\\"type\\\\\\\\\\\\\\\": \\\\\\\\\\\\\\\"Microsoft.DPrep.GetDatastoreFilesBlock\\\\\\\\\\\\\\\", \\\\\\\\\\\\\\\"arguments\\\\\\\\\\\\\\\": {\\\\\\\\\\\\\\\"datastores\\\\\\\\\\\\\\\": [{\\\\\\\\\\\\\\\"datastoreName\\\\\\\\\\\\\\\": \\\\\\\\\\\\\\\"workspaceblobstore\\\\\\\\\\\\\\\", \\\\\\\\\\\\\\\"path\\\\\\\\\\\\\\\": \\\\\\\\\\\\\\\"UI/01-26-2021_082414_UTC/diabetes_csv.csv\\\\\\\\\\\\\\\", \\\\\\\\\\\\\\\"resourceGroup\\\\\\\\\\\\\\\": \\\\\\\\\\\\\\\"trn-aue-advanced-analytics-ml\\\\\\\\\\\\\\\", \\\\\\\\\\\\\\\"subscription\\\\\\\\\\\\\\\": \\\\\\\\\\\\\\\"8a086c9c-5530-4791-89af-62c8cdfda3fd\\\\\\\\\\\\\\\", \\\\\\\\\\\\\\\"workspaceName\\\\\\\\\\\\\\\": \\\\\\\\\\\\\\\"trn-aue-aa-ml\\\\\\\\\\\\\\\"}]}, \\\\\\\\\\\\\\\"localData\\\\\\\\\\\\\\\": {}, \\\\\\\\\\\\\\\"isEnabled\\\\\\\\\\\\\\\": true, \\\\\\\\\\\\\\\"name\\\\\\\\\\\\\\\": null, \\\\\\\\\\\\\\\"annotation\\\\\\\\\\\\\\\": null}, {\\\\\\\\\\\\\\\"id\\\\\\\\\\\\\\\": \\\\\\\\\\\\\\\"7585aae3-de77-49af-b03a-fc49e7d03f0b\\\\\\\\\\\\\\\", \\\\\\\\\\\\\\\"type\\\\\\\\\\\\\\\": \\\\\\\\\\\\\\\"Microsoft.DPrep.ParseDelimitedBlock\\\\\\\\\\\\\\\", \\\\\\\\\\\\\\\"arguments\\\\\\\\\\\\\\\": {\\\\\\\\\\\\\\\"columnHeadersMode\\\\\\\\\\\\\\\": 1, \\\\\\\\\\\\\\\"fileEncoding\\\\\\\\\\\\\\\": 0, \\\\\\\\\\\\\\\"handleQuotedLineBreaks\\\\\\\\\\\\\\\": false, \\\\\\\\\\\\\\\"preview\\\\\\\\\\\\\\\": false, \\\\\\\\\\\\\\\"separator\\\\\\\\\\\\\\\": \\\\\\\\\\\\\\\",\\\\\\\\\\\\\\\", \\\\\\\\\\\\\\\"skipRows\\\\\\\\\\\\\\\": 0, \\\\\\\\\\\\\\\"skipRowsMode\\\\\\\\\\\\\\\": 0}, \\\\\\\\\\\\\\\"localData\\\\\\\\\\\\\\\": {}, \\\\\\\\\\\\\\\"isEnabled\\\\\\\\\\\\\\\": true, \\\\\\\\\\\\\\\"name\\\\\\\\\\\\\\\": null, \\\\\\\\\\\\\\\"annotation\\\\\\\\\\\\\\\": null}, {\\\\\\\\\\\\\\\"id\\\\\\\\\\\\\\\": \\\\\\\\\\\\\\\"2a4a8c85-06e5-473c-8e9d-66a1caae4b31\\\\\\\\\\\\\\\", \\\\\\\\\\\\\\\"type\\\\\\\\\\\\\\\": \\\\\\\\\\\\\\\"Microsoft.DPrep.DropColumnsBlock\\\\\\\\\\\\\\\", \\\\\\\\\\\\\\\"arguments\\\\\\\\\\\\\\\": {\\\\\\\\\\\\\\\"columns\\\\\\\\\\\\\\\": {\\\\\\\\\\\\\\\"type\\\\\\\\\\\\\\\": 0, \\\\\\\\\\\\\\\"details\\\\\\\\\\\\\\\": {\\\\\\\\\\\\\\\"selectedColumns\\\\\\\\\\\\\\\": [\\\\\\\\\\\\\\\"Path\\\\\\\\\\\\\\\"]}}}, \\\\\\\\\\\\\\\"localData\\\\\\\\\\\\\\\": {}, \\\\\\\\\\\\\\\"isEnabled\\\\\\\\\\\\\\\": true, \\\\\\\\\\\\\\\"name\\\\\\\\\\\\\\\": null, \\\\\\\\\\\\\\\"annotation\\\\\\\\\\\\\\\": null}, {\\\\\\\\\\\\\\\"id\\\\\\\\\\\\\\\": \\\\\\\\\\\\\\\"648ce0d8-a8e2-4da0-9c92-19ec61f9e142\\\\\\\\\\\\\\\", \\\\\\\\\\\\\\\"type\\\\\\\\\\\\\\\": \\\\\\\\\\\\\\\"Microsoft.DPrep.SetColumnTypesBlock\\\\\\\\\\\\\\\", \\\\\\\\\\\\\\\"arguments\\\\\\\\\\\\\\\": {\\\\\\\\\\\\\\\"columnConversion\\\\\\\\\\\\\\\": [{\\\\\\\\\\\\\\\"column\\\\\\\\\\\\\\\": {\\\\\\\\\\\\\\\"type\\\\\\\\\\\\\\\": 2, \\\\\\\\\\\\\\\"details\\\\\\\\\\\\\\\": {\\\\\\\\\\\\\\\"selectedColumn\\\\\\\\\\\\\\\": \\\\\\\\\\\\\\\"Path\\\\\\\\\\\\\\\"}}, \\\\\\\\\\\\\\\"typeProperty\\\\\\\\\\\\\\\": 0}, {\\\\\\\\\\\\\\\"column\\\\\\\\\\\\\\\": {\\\\\\\\\\\\\\\"type\\\\\\\\\\\\\\\": 2, \\\\\\\\\\\\\\\"details\\\\\\\\\\\\\\\": {\\\\\\\\\\\\\\\"selectedColumn\\\\\\\\\\\\\\\": \\\\\\\\\\\\\\\"preg\\\\\\\\\\\\\\\"}}, \\\\\\\\\\\\\\\"typeProperty\\\\\\\\\\\\\\\": 2}, {\\\\\\\\\\\\\\\"column\\\\\\\\\\\\\\\": {\\\\\\\\\\\\\\\"type\\\\\\\\\\\\\\\": 2, \\\\\\\\\\\\\\\"details\\\\\\\\\\\\\\\": {\\\\\\\\\\\\\\\"selectedColumn\\\\\\\\\\\\\\\": \\\\\\\\\\\\\\\"plas\\\\\\\\\\\\\\\"}}, \\\\\\\\\\\\\\\"typeProperty\\\\\\\\\\\\\\\": 2}, {\\\\\\\\\\\\\\\"column\\\\\\\\\\\\\\\": {\\\\\\\\\\\\\\\"type\\\\\\\\\\\\\\\": 2, \\\\\\\\\\\\\\\"details\\\\\\\\\\\\\\\": {\\\\\\\\\\\\\\\"selectedColumn\\\\\\\\\\\\\\\": \\\\\\\\\\\\\\\"pres\\\\\\\\\\\\\\\"}}, \\\\\\\\\\\\\\\"typeProperty\\\\\\\\\\\\\\\": 2}, {\\\\\\\\\\\\\\\"column\\\\\\\\\\\\\\\": {\\\\\\\\\\\\\\\"type\\\\\\\\\\\\\\\": 2, \\\\\\\\\\\\\\\"details\\\\\\\\\\\\\\\": {\\\\\\\\\\\\\\\"selectedColumn\\\\\\\\\\\\\\\": \\\\\\\\\\\\\\\"skin\\\\\\\\\\\\\\\"}}, \\\\\\\\\\\\\\\"typeProperty\\\\\\\\\\\\\\\": 2}, {\\\\\\\\\\\\\\\"column\\\\\\\\\\\\\\\": {\\\\\\\\\\\\\\\"type\\\\\\\\\\\\\\\": 2, \\\\\\\\\\\\\\\"details\\\\\\\\\\\\\\\": {\\\\\\\\\\\\\\\"selectedColumn\\\\\\\\\\\\\\\": \\\\\\\\\\\\\\\"insu\\\\\\\\\\\\\\\"}}, \\\\\\\\\\\\\\\"typeProperty\\\\\\\\\\\\\\\": 2}, {\\\\\\\\\\\\\\\"column\\\\\\\\\\\\\\\": {\\\\\\\\\\\\\\\"type\\\\\\\\\\\\\\\": 2, \\\\\\\\\\\\\\\"details\\\\\\\\\\\\\\\": {\\\\\\\\\\\\\\\"selectedColumn\\\\\\\\\\\\\\\": \\\\\\\\\\\\\\\"mass\\\\\\\\\\\\\\\"}}, \\\\\\\\\\\\\\\"typeProperty\\\\\\\\\\\\\\\": 3}, {\\\\\\\\\\\\\\\"column\\\\\\\\\\\\\\\": {\\\\\\\\\\\\\\\"type\\\\\\\\\\\\\\\": 2, \\\\\\\\\\\\\\\"details\\\\\\\\\\\\\\\": {\\\\\\\\\\\\\\\"selectedColumn\\\\\\\\\\\\\\\": \\\\\\\\\\\\\\\"pedi\\\\\\\\\\\\\\\"}}, \\\\\\\\\\\\\\\"typeProperty\\\\\\\\\\\\\\\": 3}, {\\\\\\\\\\\\\\\"column\\\\\\\\\\\\\\\": {\\\\\\\\\\\\\\\"type\\\\\\\\\\\\\\\": 2, \\\\\\\\\\\\\\\"details\\\\\\\\\\\\\\\": {\\\\\\\\\\\\\\\"selectedColumn\\\\\\\\\\\\\\\": \\\\\\\\\\\\\\\"age\\\\\\\\\\\\\\\"}}, \\\\\\\\\\\\\\\"typeProperty\\\\\\\\\\\\\\\": 2}, {\\\\\\\\\\\\\\\"column\\\\\\\\\\\\\\\": {\\\\\\\\\\\\\\\"type\\\\\\\\\\\\\\\": 2, \\\\\\\\\\\\\\\"details\\\\\\\\\\\\\\\": {\\\\\\\\\\\\\\\"selectedColumn\\\\\\\\\\\\\\\": \\\\\\\\\\\\\\\"class\\\\\\\\\\\\\\\"}}, \\\\\\\\\\\\\\\"typeProperty\\\\\\\\\\\\\\\": 0}]}, \\\\\\\\\\\\\\\"localData\\\\\\\\\\\\\\\": {}, \\\\\\\\\\\\\\\"isEnabled\\\\\\\\\\\\\\\": true, \\\\\\\\\\\\\\\"name\\\\\\\\\\\\\\\": null, \\\\\\\\\\\\\\\"annotation\\\\\\\\\\\\\\\": null}], \\\\\\\\\\\\\\\"inspectors\\\\\\\\\\\\\\\": [], \\\\\\\\\\\\\\\"meta\\\\\\\\\\\\\\\": {\\\\\\\\\\\\\\\"savedDatasetId\\\\\\\\\\\\\\\": \\\\\\\\\\\\\\\"3a186ba5-5d2b-44ee-9193-6374f4ee91f1\\\\\\\\\\\\\\\", \\\\\\\\\\\\\\\"datasetType\\\\\\\\\\\\\\\": \\\\\\\\\\\\\\\"tabular\\\\\\\\\\\\\\\", \\\\\\\\\\\\\\\"subscriptionId\\\\\\\\\\\\\\\": \\\\\\\\\\\\\\\"8a086c9c-5530-4791-89af-62c8cdfda3fd\\\\\\\\\\\\\\\", \\\\\\\\\\\\\\\"workspaceId\\\\\\\\\\\\\\\": \\\\\\\\\\\\\\\"c3f71a46-26f3-421c-8037-b5fa54f65e44\\\\\\\\\\\\\\\", \\\\\\\\\\\\\\\"workspaceLocation\\\\\\\\\\\\\\\": \\\\\\\\\\\\\\\"australiaeast\\\\\\\\\\\\\\\"}}\\\\\\\", \\\\\\\"activities\\\\\\\": 0}\", \"EnableSubsampling\": null, \"runTemplate\": \"AutoML\", \"azureml.runsource\": \"automl\", \"display_task_type\": \"classification\", \"dependencies_versions\": \"{\\\"azureml-widgets\\\": \\\"1.20.0\\\", \\\"azureml-train\\\": \\\"1.18.0\\\", \\\"azureml-train-restclients-hyperdrive\\\": \\\"1.18.0\\\", \\\"azureml-train-core\\\": \\\"1.18.0.post1\\\", \\\"azureml-train-automl\\\": \\\"1.9.0\\\", \\\"azureml-train-automl-runtime\\\": \\\"1.20.0\\\", \\\"azureml-train-automl-client\\\": \\\"1.20.0\\\", \\\"azureml-tensorboard\\\": \\\"1.9.0\\\", \\\"azureml-telemetry\\\": \\\"1.20.0\\\", \\\"azureml-samples\\\": \\\"0+unknown\\\", \\\"azureml-pipeline\\\": \\\"1.18.0\\\", \\\"azureml-pipeline-steps\\\": \\\"1.18.0\\\", \\\"azureml-pipeline-core\\\": \\\"1.18.0\\\", \\\"azureml-opendatasets\\\": \\\"1.9.0\\\", \\\"azureml-monitoring\\\": \\\"0.1.0a18\\\", \\\"azureml-model-management-sdk\\\": \\\"1.0.1b6.post1\\\", \\\"azureml-mlflow\\\": \\\"1.9.0\\\", \\\"azureml-interpret\\\": \\\"1.20.0\\\", \\\"azureml-explain-model\\\": \\\"1.9.0\\\", \\\"azureml-defaults\\\": \\\"1.20.0\\\", \\\"azureml-dataset-runtime\\\": \\\"1.20.0\\\", \\\"azureml-dataprep\\\": \\\"2.7.3\\\", \\\"azureml-dataprep-rslex\\\": \\\"1.5.0\\\", \\\"azureml-dataprep-native\\\": \\\"27.0.0\\\", \\\"azureml-datadrift\\\": \\\"1.9.0\\\", \\\"azureml-core\\\": \\\"1.20.0.post1\\\", \\\"azureml-contrib-services\\\": \\\"1.9.0\\\", \\\"azureml-contrib-server\\\": \\\"1.9.0\\\", \\\"azureml-contrib-reinforcementlearning\\\": \\\"1.9.0\\\", \\\"azureml-contrib-pipeline-steps\\\": \\\"1.9.0\\\", \\\"azureml-contrib-notebook\\\": \\\"1.9.0\\\", \\\"azureml-contrib-interpret\\\": \\\"1.9.0\\\", \\\"azureml-contrib-gbdt\\\": \\\"1.9.0\\\", \\\"azureml-contrib-fairness\\\": \\\"1.9.0\\\", \\\"azureml-contrib-dataset\\\": \\\"1.9.0\\\", \\\"azureml-cli-common\\\": \\\"1.9.0\\\", \\\"azureml-automl-runtime\\\": \\\"1.20.0\\\", \\\"azureml-automl-core\\\": \\\"1.20.0\\\", \\\"azureml-accel-models\\\": \\\"1.9.0\\\"}\", \"_aml_system_scenario_identification\": \"Remote.Parent\", \"ClientType\": \"SDK\", \"environment_cpu_name\": \"AzureML-AutoML\", \"environment_cpu_label\": \"prod\", \"environment_gpu_name\": \"AzureML-AutoML-GPU\", \"environment_gpu_label\": \"prod\", \"root_attribution\": \"automl\", \"attribution\": \"AutoML\", \"Orchestrator\": \"AutoML\", \"CancelUri\": \"https://australiaeast.experiments.azureml.net/jasmine/v1.0/subscriptions/8a086c9c-5530-4791-89af-62c8cdfda3fd/resourceGroups/trn-aue-advanced-analytics-ml/providers/Microsoft.MachineLearningServices/workspaces/trn-aue-aa-ml/experimentids/dca7dec5-3756-4c43-bb86-f8a97a7eb3f0/cancel/AutoML_719a1e66-cebe-467b-a703-4e27f4c221be\", \"ClientSdkVersion\": \"1.21.0\", \"snapshotId\": \"00000000-0000-0000-0000-000000000000\", \"SetupRunId\": \"AutoML_719a1e66-cebe-467b-a703-4e27f4c221be_setup\", \"SetupRunContainerId\": \"dcid.AutoML_719a1e66-cebe-467b-a703-4e27f4c221be_setup\", \"ProblemInfoJsonString\": \"{\\\"dataset_num_categorical\\\": 0, \\\"is_sparse\\\": false, \\\"subsampling\\\": false, \\\"dataset_classes\\\": 2, \\\"dataset_features\\\": 8, \\\"dataset_samples\\\": 768, \\\"single_frequency_class_detected\\\": false}\", \"ModelExplainRunId\": \"AutoML_719a1e66-cebe-467b-a703-4e27f4c221be_ModelExplain\"}, \"tags\": {\"model_explain_run\": \"best_run\", \"_aml_system_azureml.automlComponent\": \"AutoML\", \"pipeline_id\": \"\", \"score\": \"\", \"predicted_cost\": \"\", \"fit_time\": \"\", \"training_percent\": \"\", \"iteration\": \"\", \"run_preprocessor\": \"\", \"run_algorithm\": \"\", \"dynamic_whitelisting_iterations\": \"<25>;<30>;<35>;<38>;<45>;<50>;\", \"automl_best_child_run_id\": \"AutoML_719a1e66-cebe-467b-a703-4e27f4c221be_54\", \"model_explain_best_run_child_id\": \"AutoML_719a1e66-cebe-467b-a703-4e27f4c221be_54\"}, \"end_time_utc\": \"2021-02-03T10:15:25.207536Z\", \"status\": \"Completed\", \"log_files\": {}, \"log_groups\": [], \"run_duration\": \"0:32:32\"}, \"child_runs\": [{\"run_id\": \"AutoML_719a1e66-cebe-467b-a703-4e27f4c221be_0\", \"run_number\": 3, \"metric\": null, \"status\": \"Completed\", \"run_type\": \"azureml.scriptrun\", \"training_percent\": \"100\", \"start_time\": \"2021-02-03T09:50:46.217171Z\", \"end_time\": \"2021-02-03T09:52:53.273771Z\", \"created_time\": \"2021-02-03T09:47:40.893324Z\", \"created_time_dt\": \"2021-02-03T09:47:40.893324Z\", \"duration\": \"0:05:12\", \"iteration\": \"0\", \"goal\": \"AUC_weighted_max\", \"run_name\": \"MaxAbsScaler, LightGBM\", \"run_properties\": \"boosting_type='gbdt', class_weight=None,\\n                   colsample_bytree=1.0, importance_type='split',\\n                   learning_rate=0.1, max_depth=-1, min_child_samples=20,\\n                   min_child_weight=0.001, min_split_gain=0.0, n_estimators=100,\\n                   n_jobs=1, num_leaves=31, objective=None, random_state=None,\\n                   reg_alpha=0.0, reg_lambda=0.0, silent=True, subsample=1.0,\\n                   subsample_for_bin=200000, subsample_freq=0, verbose=-10\", \"primary_metric\": 0.80470658, \"best_metric\": 0.80470658}, {\"run_id\": \"AutoML_719a1e66-cebe-467b-a703-4e27f4c221be_2\", \"run_number\": 4, \"metric\": null, \"status\": \"Completed\", \"run_type\": \"azureml.scriptrun\", \"training_percent\": \"100\", \"start_time\": \"2021-02-03T09:47:51.287301Z\", \"end_time\": \"2021-02-03T09:49:47.450987Z\", \"created_time\": \"2021-02-03T09:47:40.943322Z\", \"created_time_dt\": \"2021-02-03T09:47:40.943322Z\", \"duration\": \"0:02:06\", \"iteration\": \"2\", \"goal\": \"AUC_weighted_max\", \"run_name\": \"MinMaxScaler, RandomForest\", \"run_properties\": \"bootstrap=False, ccp_alpha=0.0, class_weight=None,\\n                       criterion='gini', max_depth=None, max_features='sqrt',\\n                       max_leaf_nodes=None, max_samples=None,\\n                       min_impurity_decrease=0.0, min_impurity_split=None,\\n                       min_samples_leaf=0.01,\\n                       min_samples_split=0.10368421052631578,\\n                       min_weight_fraction_leaf=0.0, n_estimators=10, n_jobs=1,\\n                       oob_score=False, random_state=None, verbose=0,\\n                       warm_start=False\", \"primary_metric\": 0.83151946, \"best_metric\": 0.83415339}, {\"run_id\": \"AutoML_719a1e66-cebe-467b-a703-4e27f4c221be_1\", \"run_number\": 5, \"metric\": null, \"status\": \"Completed\", \"run_type\": \"azureml.scriptrun\", \"training_percent\": \"100\", \"start_time\": \"2021-02-03T09:50:45.825258Z\", \"end_time\": \"2021-02-03T09:52:53.061645Z\", \"created_time\": \"2021-02-03T09:47:40.948104Z\", \"created_time_dt\": \"2021-02-03T09:47:40.948104Z\", \"duration\": \"0:05:12\", \"iteration\": \"1\", \"goal\": \"AUC_weighted_max\", \"run_name\": \"MaxAbsScaler, XGBoostClassifier\", \"run_properties\": \"base_score=0.5, booster='gbtree', colsample_bylevel=1,\\n                  colsample_bynode=1, colsample_bytree=1, gamma=0,\\n                  learning_rate=0.1, max_delta_step=0, max_depth=3,\\n                  min_child_weight=1, missing=None, n_estimators=100, n_jobs=1,\\n                  nthread=None, objective='binary:logistic', random_state=0,\\n                  reg_alpha=0, reg_lambda=1, scale_pos_weight=1, seed=None,\\n                  silent=None, subsample=1, tree_method='auto', verbose=-10,\\n                  verbosity=0\", \"primary_metric\": 0.83415339, \"best_metric\": 0.83415339}, {\"run_id\": \"AutoML_719a1e66-cebe-467b-a703-4e27f4c221be_3\", \"run_number\": 6, \"metric\": null, \"status\": \"Completed\", \"run_type\": \"azureml.scriptrun\", \"training_percent\": \"100\", \"start_time\": \"2021-02-03T09:50:48.582915Z\", \"end_time\": \"2021-02-03T09:52:56.457502Z\", \"created_time\": \"2021-02-03T09:47:40.967774Z\", \"created_time_dt\": \"2021-02-03T09:47:40.967774Z\", \"duration\": \"0:05:15\", \"iteration\": \"3\", \"goal\": \"AUC_weighted_max\", \"run_name\": \"RobustScaler, ExtremeRandomTrees\", \"run_properties\": \"bootstrap=False, ccp_alpha=0.0, class_weight=None,\\n                     criterion='entropy', max_depth=None, max_features='log2',\\n                     max_leaf_nodes=None, max_samples=None,\\n                     min_impurity_decrease=0.0, min_impurity_split=None,\\n                     min_samples_leaf=0.01,\\n                     min_samples_split=0.10368421052631578,\\n                     min_weight_fraction_leaf=0.0, n_estimators=50, n_jobs=1,\\n                     oob_score=False, random_state=None, verbose=0,\\n                     warm_start=False\", \"primary_metric\": 0.83297323, \"best_metric\": 0.83415339}, {\"run_id\": \"AutoML_719a1e66-cebe-467b-a703-4e27f4c221be_4\", \"run_number\": 7, \"metric\": null, \"status\": \"Completed\", \"run_type\": \"azureml.scriptrun\", \"training_percent\": \"100\", \"start_time\": \"2021-02-03T09:49:51.392837Z\", \"end_time\": \"2021-02-03T09:51:53.176167Z\", \"created_time\": \"2021-02-03T09:47:40.975494Z\", \"created_time_dt\": \"2021-02-03T09:47:40.975494Z\", \"duration\": \"0:04:12\", \"iteration\": \"4\", \"goal\": \"AUC_weighted_max\", \"run_name\": \"MinMaxScaler, RandomForest\", \"run_properties\": \"bootstrap=True, ccp_alpha=0.0, class_weight='balanced',\\n                       criterion='gini', max_depth=None, max_features='log2',\\n                       max_leaf_nodes=None, max_samples=None,\\n                       min_impurity_decrease=0.0, min_impurity_split=None,\\n                       min_samples_leaf=0.01, min_samples_split=0.01,\\n                       min_weight_fraction_leaf=0.0, n_estimators=25, n_jobs=1,\\n                       oob_score=True, random_state=None, verbose=0,\\n                       warm_start=False\", \"primary_metric\": 0.83070684, \"best_metric\": 0.83415339}, {\"run_id\": \"AutoML_719a1e66-cebe-467b-a703-4e27f4c221be_5\", \"run_number\": 8, \"metric\": null, \"status\": \"Completed\", \"run_type\": \"azureml.scriptrun\", \"training_percent\": \"100\", \"start_time\": \"2021-02-03T09:50:44.992965Z\", \"end_time\": \"2021-02-03T09:52:51.122251Z\", \"created_time\": \"2021-02-03T09:49:50.227584Z\", \"created_time_dt\": \"2021-02-03T09:49:50.227584Z\", \"duration\": \"0:03:00\", \"iteration\": \"5\", \"goal\": \"AUC_weighted_max\", \"run_name\": \"MinMaxScaler, RandomForest\", \"run_properties\": \"bootstrap=True, ccp_alpha=0.0, class_weight=None,\\n                       criterion='gini', max_depth=None, max_features='sqrt',\\n                       max_leaf_nodes=None, max_samples=None,\\n                       min_impurity_decrease=0.0, min_impurity_split=None,\\n                       min_samples_leaf=0.035789473684210524,\\n                       min_samples_split=0.01, min_weight_fraction_leaf=0.0,\\n                       n_estimators=10, n_jobs=1, oob_score=True,\\n                       random_state=None, verbose=0, warm_start=False\", \"primary_metric\": 0.81732048, \"best_metric\": 0.83415339}, {\"run_id\": \"AutoML_719a1e66-cebe-467b-a703-4e27f4c221be_6\", \"run_number\": 9, \"metric\": null, \"status\": \"Completed\", \"run_type\": \"azureml.scriptrun\", \"training_percent\": \"100\", \"start_time\": \"2021-02-03T09:52:07.776039Z\", \"end_time\": \"2021-02-03T09:54:00.744065Z\", \"created_time\": \"2021-02-03T09:51:56.233181Z\", \"created_time_dt\": \"2021-02-03T09:51:56.233181Z\", \"duration\": \"0:02:04\", \"iteration\": \"6\", \"goal\": \"AUC_weighted_max\", \"run_name\": \"StandardScalerWrapper, RandomForest\", \"run_properties\": \"bootstrap=False, ccp_alpha=0.0, class_weight=None,\\n                       criterion='entropy', max_depth=None, max_features='log2',\\n                       max_leaf_nodes=None, max_samples=None,\\n                       min_impurity_decrease=0.0, min_impurity_split=None,\\n                       min_samples_leaf=0.01, min_samples_split=0.01,\\n                       min_weight_fraction_leaf=0.0, n_estimators=10, n_jobs=1,\\n                       oob_score=False, random_state=None, verbose=0,\\n                       warm_start=False\", \"primary_metric\": 0.82370005, \"best_metric\": 0.83415339}, {\"run_id\": \"AutoML_719a1e66-cebe-467b-a703-4e27f4c221be_7\", \"run_number\": 10, \"metric\": null, \"status\": \"Completed\", \"run_type\": \"azureml.scriptrun\", \"training_percent\": \"100\", \"start_time\": \"2021-02-03T09:53:04.603947Z\", \"end_time\": \"2021-02-03T09:55:00.622611Z\", \"created_time\": \"2021-02-03T09:52:53.69902Z\", \"created_time_dt\": \"2021-02-03T09:52:53.69902Z\", \"duration\": \"0:02:06\", \"iteration\": \"7\", \"goal\": \"AUC_weighted_max\", \"run_name\": \"MinMaxScaler, ExtremeRandomTrees\", \"run_properties\": \"bootstrap=True, ccp_alpha=0.0, class_weight=None,\\n                     criterion='gini', max_depth=None, max_features=0.9,\\n                     max_leaf_nodes=None, max_samples=None,\\n                     min_impurity_decrease=0.0, min_impurity_split=None,\\n                     min_samples_leaf=0.01,\\n                     min_samples_split=0.15052631578947367,\\n                     min_weight_fraction_leaf=0.0, n_estimators=10, n_jobs=1,\\n                     oob_score=True, random_state=None, verbose=0,\\n                     warm_start=False\", \"primary_metric\": 0.81822184, \"best_metric\": 0.83415339}, {\"run_id\": \"AutoML_719a1e66-cebe-467b-a703-4e27f4c221be_8\", \"run_number\": 11, \"metric\": null, \"status\": \"Completed\", \"run_type\": \"azureml.scriptrun\", \"training_percent\": \"100\", \"start_time\": \"2021-02-03T09:53:09.61593Z\", \"end_time\": \"2021-02-03T09:55:10.098484Z\", \"created_time\": \"2021-02-03T09:52:58.812295Z\", \"created_time_dt\": \"2021-02-03T09:52:58.812295Z\", \"duration\": \"0:02:11\", \"iteration\": \"8\", \"goal\": \"AUC_weighted_max\", \"run_name\": \"MinMaxScaler, ExtremeRandomTrees\", \"run_properties\": \"bootstrap=True, ccp_alpha=0.0, class_weight=None,\\n                     criterion='entropy', max_depth=None, max_features=0.3,\\n                     max_leaf_nodes=None, max_samples=None,\\n                     min_impurity_decrease=0.0, min_impurity_split=None,\\n                     min_samples_leaf=0.01,\\n                     min_samples_split=0.056842105263157895,\\n                     min_weight_fraction_leaf=0.0, n_estimators=25, n_jobs=1,\\n                     oob_score=True, random_state=None, verbose=0,\\n                     warm_start=False\", \"primary_metric\": 0.83118882, \"best_metric\": 0.83415339}, {\"run_id\": \"AutoML_719a1e66-cebe-467b-a703-4e27f4c221be_9\", \"run_number\": 12, \"metric\": null, \"status\": \"Completed\", \"run_type\": \"azureml.scriptrun\", \"training_percent\": \"100\", \"start_time\": \"2021-02-03T09:53:08.500572Z\", \"end_time\": \"2021-02-03T09:55:08.334961Z\", \"created_time\": \"2021-02-03T09:52:58.835144Z\", \"created_time_dt\": \"2021-02-03T09:52:58.835144Z\", \"duration\": \"0:02:09\", \"iteration\": \"9\", \"goal\": \"AUC_weighted_max\", \"run_name\": \"SparseNormalizer, KNN\", \"run_properties\": \"algorithm='auto', leaf_size=30, metric='l1',\\n                     metric_params=None, n_jobs=1, n_neighbors=9, p=2,\\n                     weights='distance'\", \"primary_metric\": 0.6956388, \"best_metric\": 0.83415339}, {\"run_id\": \"AutoML_719a1e66-cebe-467b-a703-4e27f4c221be_10\", \"run_number\": 13, \"metric\": null, \"status\": \"Completed\", \"run_type\": \"azureml.scriptrun\", \"training_percent\": \"100\", \"start_time\": \"2021-02-03T09:53:14.609448Z\", \"end_time\": \"2021-02-03T09:55:11.533894Z\", \"created_time\": \"2021-02-03T09:53:03.2221Z\", \"created_time_dt\": \"2021-02-03T09:53:03.2221Z\", \"duration\": \"0:02:08\", \"iteration\": \"10\", \"goal\": \"AUC_weighted_max\", \"run_name\": \"MinMaxScaler, ExtremeRandomTrees\", \"run_properties\": \"bootstrap=False, ccp_alpha=0.0, class_weight=None,\\n                     criterion='entropy', max_depth=None, max_features='sqrt',\\n                     max_leaf_nodes=None, max_samples=None,\\n                     min_impurity_decrease=0.0, min_impurity_split=None,\\n                     min_samples_leaf=0.01,\\n                     min_samples_split=0.15052631578947367,\\n                     min_weight_fraction_leaf=0.0, n_estimators=25, n_jobs=1,\\n                     oob_score=False, random_state=None, verbose=0,\\n                     warm_start=False\", \"primary_metric\": 0.830655, \"best_metric\": 0.83415339}, {\"run_id\": \"AutoML_719a1e66-cebe-467b-a703-4e27f4c221be_11\", \"run_number\": 14, \"metric\": null, \"status\": \"Completed\", \"run_type\": \"azureml.scriptrun\", \"training_percent\": \"100\", \"start_time\": \"2021-02-03T09:54:15.14181Z\", \"end_time\": \"2021-02-03T09:56:03.475099Z\", \"created_time\": \"2021-02-03T09:54:04.007379Z\", \"created_time_dt\": \"2021-02-03T09:54:04.007379Z\", \"duration\": \"0:01:59\", \"iteration\": \"11\", \"goal\": \"AUC_weighted_max\", \"run_name\": \"RobustScaler, ExtremeRandomTrees\", \"run_properties\": \"bootstrap=True, ccp_alpha=0.0, class_weight=None,\\n                     criterion='entropy', max_depth=None, max_features=0.5,\\n                     max_leaf_nodes=None, max_samples=None,\\n                     min_impurity_decrease=0.0, min_impurity_split=None,\\n                     min_samples_leaf=0.01,\\n                     min_samples_split=0.15052631578947367,\\n                     min_weight_fraction_leaf=0.0, n_estimators=25, n_jobs=1,\\n                     oob_score=False, random_state=None, verbose=0,\\n                     warm_start=False\", \"primary_metric\": 0.81984294, \"best_metric\": 0.83415339}, {\"run_id\": \"AutoML_719a1e66-cebe-467b-a703-4e27f4c221be_12\", \"run_number\": 15, \"metric\": null, \"status\": \"Completed\", \"run_type\": \"azureml.scriptrun\", \"training_percent\": \"100\", \"start_time\": \"2021-02-03T09:55:14.778033Z\", \"end_time\": \"2021-02-03T09:57:03.285002Z\", \"created_time\": \"2021-02-03T09:55:03.964553Z\", \"created_time_dt\": \"2021-02-03T09:55:03.964553Z\", \"duration\": \"0:01:59\", \"iteration\": \"12\", \"goal\": \"AUC_weighted_max\", \"run_name\": \"StandardScalerWrapper, RandomForest\", \"run_properties\": \"bootstrap=False, ccp_alpha=0.0, class_weight='balanced',\\n                       criterion='entropy', max_depth=None, max_features='log2',\\n                       max_leaf_nodes=None, max_samples=None,\\n                       min_impurity_decrease=0.0, min_impurity_split=None,\\n                       min_samples_leaf=0.01,\\n                       min_samples_split=0.29105263157894734,\\n                       min_weight_fraction_leaf=0.0, n_estimators=25, n_jobs=1,\\n                       oob_score=False, random_state=None, verbose=0,\\n                       warm_start=False\", \"primary_metric\": 0.82884631, \"best_metric\": 0.83415339}, {\"run_id\": \"AutoML_719a1e66-cebe-467b-a703-4e27f4c221be_13\", \"run_number\": 16, \"metric\": null, \"status\": \"Completed\", \"run_type\": \"azureml.scriptrun\", \"training_percent\": \"100\", \"start_time\": \"2021-02-03T09:55:26.403547Z\", \"end_time\": \"2021-02-03T09:57:18.332052Z\", \"created_time\": \"2021-02-03T09:55:11.667285Z\", \"created_time_dt\": \"2021-02-03T09:55:11.667285Z\", \"duration\": \"0:02:06\", \"iteration\": \"13\", \"goal\": \"AUC_weighted_max\", \"run_name\": \"StandardScalerWrapper, SGD\", \"run_properties\": \"alpha=10, class_weight=None, eta0=0.01, fit_intercept=True,\\n                     l1_ratio=0.7959183673469387, learning_rate='constant',\\n                     loss='log', max_iter=1000, n_jobs=1, penalty='none',\\n                     power_t=0.4444444444444444, random_state=None, tol=0.01\", \"primary_metric\": 0.8303735, \"best_metric\": 0.83415339}, {\"run_id\": \"AutoML_719a1e66-cebe-467b-a703-4e27f4c221be_14\", \"run_number\": 17, \"metric\": null, \"status\": \"Completed\", \"run_type\": \"azureml.scriptrun\", \"training_percent\": \"100\", \"start_time\": \"2021-02-03T09:55:28.453452Z\", \"end_time\": \"2021-02-03T09:57:13.159733Z\", \"created_time\": \"2021-02-03T09:55:16.735537Z\", \"created_time_dt\": \"2021-02-03T09:55:16.735537Z\", \"duration\": \"0:01:56\", \"iteration\": \"14\", \"goal\": \"AUC_weighted_max\", \"run_name\": \"RobustScaler, RandomForest\", \"run_properties\": \"bootstrap=True, ccp_alpha=0.0, class_weight='balanced',\\n                       criterion='entropy', max_depth=None, max_features=0.2,\\n                       max_leaf_nodes=None, max_samples=None,\\n                       min_impurity_decrease=0.0, min_impurity_split=None,\\n                       min_samples_leaf=0.01,\\n                       min_samples_split=0.10368421052631578,\\n                       min_weight_fraction_leaf=0.0, n_estimators=10, n_jobs=1,\\n                       oob_score=True, random_state=None, verbose=0,\\n                       warm_start=False\", \"primary_metric\": 0.80820932, \"best_metric\": 0.83415339}, {\"run_id\": \"AutoML_719a1e66-cebe-467b-a703-4e27f4c221be_15\", \"run_number\": 18, \"metric\": null, \"status\": \"Completed\", \"run_type\": \"azureml.scriptrun\", \"training_percent\": \"100\", \"start_time\": \"2021-02-03T09:55:26.70848Z\", \"end_time\": \"2021-02-03T09:57:21.439266Z\", \"created_time\": \"2021-02-03T09:55:16.769047Z\", \"created_time_dt\": \"2021-02-03T09:55:16.769047Z\", \"duration\": \"0:02:04\", \"iteration\": \"15\", \"goal\": \"AUC_weighted_max\", \"run_name\": \"StandardScalerWrapper, KNN\", \"run_properties\": \"algorithm='auto', leaf_size=30, metric='cityblock',\\n                     metric_params=None, n_jobs=1, n_neighbors=11, p=2,\\n                     weights='distance'\", \"primary_metric\": 0.78329846, \"best_metric\": 0.83415339}, {\"run_id\": \"AutoML_719a1e66-cebe-467b-a703-4e27f4c221be_16\", \"run_number\": 19, \"metric\": null, \"status\": \"Completed\", \"run_type\": \"azureml.scriptrun\", \"training_percent\": \"100\", \"start_time\": \"2021-02-03T09:56:17.096033Z\", \"end_time\": \"2021-02-03T09:58:11.832395Z\", \"created_time\": \"2021-02-03T09:56:07.354726Z\", \"created_time_dt\": \"2021-02-03T09:56:07.354726Z\", \"duration\": \"0:02:04\", \"iteration\": \"16\", \"goal\": \"AUC_weighted_max\", \"run_name\": \"MinMaxScaler, RandomForest\", \"run_properties\": \"bootstrap=True, ccp_alpha=0.0, class_weight=None,\\n                       criterion='gini', max_depth=None, max_features=0.05,\\n                       max_leaf_nodes=None, max_samples=None,\\n                       min_impurity_decrease=0.0, min_impurity_split=None,\\n                       min_samples_leaf=0.01,\\n                       min_samples_split=0.10368421052631578,\\n                       min_weight_fraction_leaf=0.0, n_estimators=25, n_jobs=1,\\n                       oob_score=False, random_state=None, verbose=0,\\n                       warm_start=False\", \"primary_metric\": 0.82269505, \"best_metric\": 0.83415339}, {\"run_id\": \"AutoML_719a1e66-cebe-467b-a703-4e27f4c221be_17\", \"run_number\": 20, \"metric\": null, \"status\": \"Completed\", \"run_type\": \"azureml.scriptrun\", \"training_percent\": \"100\", \"start_time\": \"2021-02-03T09:57:17.569531Z\", \"end_time\": \"2021-02-03T09:59:09.880973Z\", \"created_time\": \"2021-02-03T09:57:06.592894Z\", \"created_time_dt\": \"2021-02-03T09:57:06.592894Z\", \"duration\": \"0:02:03\", \"iteration\": \"17\", \"goal\": \"AUC_weighted_max\", \"run_name\": \"MinMaxScaler, ExtremeRandomTrees\", \"run_properties\": \"bootstrap=True, ccp_alpha=0.0, class_weight='balanced',\\n                     criterion='gini', max_depth=None, max_features=0.1,\\n                     max_leaf_nodes=None, max_samples=None,\\n                     min_impurity_decrease=0.0, min_impurity_split=None,\\n                     min_samples_leaf=0.01,\\n                     min_samples_split=0.15052631578947367,\\n                     min_weight_fraction_leaf=0.0, n_estimators=50, n_jobs=1,\\n                     oob_score=False, random_state=None, verbose=0,\\n                     warm_start=False\", \"primary_metric\": 0.80052646, \"best_metric\": 0.83415339}, {\"run_id\": \"AutoML_719a1e66-cebe-467b-a703-4e27f4c221be_18\", \"run_number\": 21, \"metric\": null, \"status\": \"Completed\", \"run_type\": \"azureml.scriptrun\", \"training_percent\": \"100\", \"start_time\": \"2021-02-03T09:57:26.209662Z\", \"end_time\": \"2021-02-03T09:59:20.926147Z\", \"created_time\": \"2021-02-03T09:57:16.710735Z\", \"created_time_dt\": \"2021-02-03T09:57:16.710735Z\", \"duration\": \"0:02:04\", \"iteration\": \"18\", \"goal\": \"AUC_weighted_max\", \"run_name\": \"MaxAbsScaler, RandomForest\", \"run_properties\": \"bootstrap=False, ccp_alpha=0.0, class_weight='balanced',\\n                       criterion='gini', max_depth=None, max_features=0.05,\\n                       max_leaf_nodes=None, max_samples=None,\\n                       min_impurity_decrease=0.0, min_impurity_split=None,\\n                       min_samples_leaf=0.06157894736842105,\\n                       min_samples_split=0.056842105263157895,\\n                       min_weight_fraction_leaf=0.0, n_estimators=50, n_jobs=1,\\n                       oob_score=False, random_state=None, verbose=0,\\n                       warm_start=False\", \"primary_metric\": 0.81497342, \"best_metric\": 0.83415339}, {\"run_id\": \"AutoML_719a1e66-cebe-467b-a703-4e27f4c221be_19\", \"run_number\": 22, \"metric\": null, \"status\": \"Completed\", \"run_type\": \"azureml.scriptrun\", \"training_percent\": \"100\", \"start_time\": \"2021-02-03T09:57:31.950904Z\", \"end_time\": \"2021-02-03T09:59:20.266214Z\", \"created_time\": \"2021-02-03T09:57:21.579691Z\", \"created_time_dt\": \"2021-02-03T09:57:21.579691Z\", \"duration\": \"0:01:58\", \"iteration\": \"19\", \"goal\": \"AUC_weighted_max\", \"run_name\": \"StandardScalerWrapper, XGBoostClassifier\", \"run_properties\": \"base_score=0.5, booster='gbtree', colsample_bylevel=1,\\n                  colsample_bynode=1, colsample_bytree=0.7, eta=0.001, gamma=0,\\n                  learning_rate=0.1, max_delta_step=0, max_depth=5,\\n                  max_leaves=0, min_child_weight=1, missing=None,\\n                  n_estimators=10, n_jobs=1, nthread=None,\\n                  objective='reg:logistic', random_state=0,\\n                  reg_alpha=1.1458333333333335, reg_lambda=1.3541666666666667,\\n                  scale_pos_weight=1, seed=None, silent=None, subsample=0.6,\\n                  tree_method='auto', verbose=-10, verbosity=0\", \"primary_metric\": 0.82772626, \"best_metric\": 0.83415339}, {\"run_id\": \"AutoML_719a1e66-cebe-467b-a703-4e27f4c221be_20\", \"run_number\": 23, \"metric\": null, \"status\": \"Completed\", \"run_type\": \"azureml.scriptrun\", \"training_percent\": \"100\", \"start_time\": \"2021-02-03T09:57:36.769181Z\", \"end_time\": \"2021-02-03T09:59:41.019699Z\", \"created_time\": \"2021-02-03T09:57:26.20453Z\", \"created_time_dt\": \"2021-02-03T09:57:26.20453Z\", \"duration\": \"0:02:14\", \"iteration\": \"20\", \"goal\": \"AUC_weighted_max\", \"run_name\": \"MaxAbsScaler, RandomForest\", \"run_properties\": \"bootstrap=True, ccp_alpha=0.0, class_weight=None,\\n                       criterion='gini', max_depth=None, max_features='log2',\\n                       max_leaf_nodes=None, max_samples=None,\\n                       min_impurity_decrease=0.0, min_impurity_split=None,\\n                       min_samples_leaf=0.01, min_samples_split=0.01,\\n                       min_weight_fraction_leaf=0.0, n_estimators=10, n_jobs=1,\\n                       oob_score=False, random_state=None, verbose=0,\\n                       warm_start=False\", \"primary_metric\": 0.82570676, \"best_metric\": 0.83415339}, {\"run_id\": \"AutoML_719a1e66-cebe-467b-a703-4e27f4c221be_21\", \"run_number\": 24, \"metric\": null, \"status\": \"Completed\", \"run_type\": \"azureml.scriptrun\", \"training_percent\": \"100\", \"start_time\": \"2021-02-03T09:58:25.866255Z\", \"end_time\": \"2021-02-03T10:00:22.565993Z\", \"created_time\": \"2021-02-03T09:58:14.687516Z\", \"created_time_dt\": \"2021-02-03T09:58:14.687516Z\", \"duration\": \"0:02:07\", \"iteration\": \"21\", \"goal\": \"AUC_weighted_max\", \"run_name\": \"MaxAbsScaler, ExtremeRandomTrees\", \"run_properties\": \"bootstrap=True, ccp_alpha=0.0, class_weight='balanced',\\n                     criterion='gini', max_depth=None, max_features=0.4,\\n                     max_leaf_nodes=None, max_samples=None,\\n                     min_impurity_decrease=0.0, min_impurity_split=None,\\n                     min_samples_leaf=0.01,\\n                     min_samples_split=0.15052631578947367,\\n                     min_weight_fraction_leaf=0.0, n_estimators=10, n_jobs=1,\\n                     oob_score=True, random_state=None, verbose=0,\\n                     warm_start=False\", \"primary_metric\": 0.82175495, \"best_metric\": 0.83415339}, {\"run_id\": \"AutoML_719a1e66-cebe-467b-a703-4e27f4c221be_22\", \"run_number\": 25, \"metric\": null, \"status\": \"Completed\", \"run_type\": \"azureml.scriptrun\", \"training_percent\": \"100\", \"start_time\": \"2021-02-03T09:59:23.257321Z\", \"end_time\": \"2021-02-03T10:01:10.829299Z\", \"created_time\": \"2021-02-03T09:59:12.98303Z\", \"created_time_dt\": \"2021-02-03T09:59:12.98303Z\", \"duration\": \"0:01:57\", \"iteration\": \"22\", \"goal\": \"AUC_weighted_max\", \"run_name\": \"MaxAbsScaler, ExtremeRandomTrees\", \"run_properties\": \"bootstrap=True, ccp_alpha=0.0, class_weight='balanced',\\n                     criterion='gini', max_depth=None, max_features='log2',\\n                     max_leaf_nodes=None, max_samples=None,\\n                     min_impurity_decrease=0.0, min_impurity_split=None,\\n                     min_samples_leaf=0.01, min_samples_split=0.01,\\n                     min_weight_fraction_leaf=0.0, n_estimators=50, n_jobs=1,\\n                     oob_score=True, random_state=None, verbose=0,\\n                     warm_start=False\", \"primary_metric\": 0.83348976, \"best_metric\": 0.83415339}, {\"run_id\": \"AutoML_719a1e66-cebe-467b-a703-4e27f4c221be_23\", \"run_number\": 26, \"metric\": null, \"status\": \"Completed\", \"run_type\": \"azureml.scriptrun\", \"training_percent\": \"100\", \"start_time\": \"2021-02-03T09:59:34.258463Z\", \"end_time\": \"2021-02-03T10:01:26.747546Z\", \"created_time\": \"2021-02-03T09:59:23.236457Z\", \"created_time_dt\": \"2021-02-03T09:59:23.236457Z\", \"duration\": \"0:02:03\", \"iteration\": \"23\", \"goal\": \"AUC_weighted_max\", \"run_name\": \"StandardScalerWrapper, LogisticRegression\", \"run_properties\": \"C=0.2682695795279725, class_weight='balanced', dual=False,\\n                   fit_intercept=True, intercept_scaling=1, l1_ratio=None,\\n                   max_iter=100, multi_class='multinomial', n_jobs=1,\\n                   penalty='l2', random_state=None, solver='saga', tol=0.0001,\\n                   verbose=0, warm_start=False\", \"primary_metric\": 0.83090773, \"best_metric\": 0.83415339}, {\"run_id\": \"AutoML_719a1e66-cebe-467b-a703-4e27f4c221be_24\", \"run_number\": 27, \"metric\": null, \"status\": \"Completed\", \"run_type\": \"azureml.scriptrun\", \"training_percent\": \"100\", \"start_time\": \"2021-02-03T09:59:38.181166Z\", \"end_time\": \"2021-02-03T10:01:33.673255Z\", \"created_time\": \"2021-02-03T09:59:27.405023Z\", \"created_time_dt\": \"2021-02-03T09:59:27.405023Z\", \"duration\": \"0:02:06\", \"iteration\": \"24\", \"goal\": \"AUC_weighted_max\", \"run_name\": \"MaxAbsScaler, LogisticRegression\", \"run_properties\": \"C=5.428675439323859, class_weight=None, dual=False,\\n                   fit_intercept=True, intercept_scaling=1, l1_ratio=None,\\n                   max_iter=100, multi_class='ovr', n_jobs=1, penalty='l2',\\n                   random_state=None, solver='saga', tol=0.0001, verbose=0,\\n                   warm_start=False\", \"primary_metric\": 0.83071811, \"best_metric\": 0.83415339}, {\"run_id\": \"AutoML_719a1e66-cebe-467b-a703-4e27f4c221be_25\", \"run_number\": 28, \"metric\": null, \"status\": \"Completed\", \"run_type\": \"azureml.scriptrun\", \"training_percent\": \"100\", \"start_time\": \"2021-02-03T09:59:55.020877Z\", \"end_time\": \"2021-02-03T10:01:47.447329Z\", \"created_time\": \"2021-02-03T09:59:44.606624Z\", \"created_time_dt\": \"2021-02-03T09:59:44.606624Z\", \"duration\": \"0:02:02\", \"iteration\": \"25\", \"goal\": \"AUC_weighted_max\", \"run_name\": \"StandardScalerWrapper, XGBoostClassifier\", \"run_properties\": \"base_score=0.5, booster='gbtree', colsample_bylevel=1,\\n                  colsample_bynode=1, colsample_bytree=1, eta=0.3, gamma=0,\\n                  grow_policy='lossguide', learning_rate=0.1, max_bin=1023,\\n                  max_delta_step=0, max_depth=0, max_leaves=255,\\n                  min_child_weight=1, missing=None, n_estimators=100, n_jobs=1,\\n                  nthread=None, objective='reg:logistic', random_state=0,\\n                  reg_alpha=0, reg_lambda=0.7291666666666667,\\n                  scale_pos_weight=1, seed=None, silent=None, subsample=0.5,\\n                  tree_method='hist', verbose=-10, verbosity=0\", \"primary_metric\": 0.81248073, \"best_metric\": 0.83415339}, {\"run_id\": \"AutoML_719a1e66-cebe-467b-a703-4e27f4c221be_26\", \"run_number\": 29, \"metric\": null, \"status\": \"Completed\", \"run_type\": \"azureml.scriptrun\", \"training_percent\": \"100\", \"start_time\": \"2021-02-03T10:00:35.426294Z\", \"end_time\": \"2021-02-03T10:02:28.115788Z\", \"created_time\": \"2021-02-03T10:00:24.46065Z\", \"created_time_dt\": \"2021-02-03T10:00:24.46065Z\", \"duration\": \"0:02:03\", \"iteration\": \"26\", \"goal\": \"AUC_weighted_max\", \"run_name\": \"StandardScalerWrapper, SVM\", \"run_properties\": \"C=51.79474679231202, break_ties=False, cache_size=200,\\n           class_weight='balanced', coef0=0.0, decision_function_shape='ovr',\\n           degree=3, gamma='scale', kernel='rbf', max_iter=-1, probability=True,\\n           random_state=None, shrinking=True, tol=0.001, verbose=False\", \"primary_metric\": 0.81226222, \"best_metric\": 0.83415339}, {\"run_id\": \"AutoML_719a1e66-cebe-467b-a703-4e27f4c221be_27\", \"run_number\": 30, \"metric\": null, \"status\": \"Completed\", \"run_type\": \"azureml.scriptrun\", \"training_percent\": \"100\", \"start_time\": \"2021-02-03T10:01:22.761554Z\", \"end_time\": \"2021-02-03T10:03:17.765581Z\", \"created_time\": \"2021-02-03T10:01:12.79839Z\", \"created_time_dt\": \"2021-02-03T10:01:12.79839Z\", \"duration\": \"0:02:04\", \"iteration\": \"27\", \"goal\": \"AUC_weighted_max\", \"run_name\": \"MinMaxScaler, SVM\", \"run_properties\": \"C=51.79474679231202, break_ties=False, cache_size=200,\\n           class_weight=None, coef0=0.0, decision_function_shape='ovr',\\n           degree=3, gamma='scale', kernel='rbf', max_iter=-1, probability=True,\\n           random_state=None, shrinking=True, tol=0.001, verbose=False\", \"primary_metric\": 0.80798156, \"best_metric\": 0.83415339}, {\"run_id\": \"AutoML_719a1e66-cebe-467b-a703-4e27f4c221be_28\", \"run_number\": 31, \"metric\": null, \"status\": \"Completed\", \"run_type\": \"azureml.scriptrun\", \"training_percent\": \"100\", \"start_time\": \"2021-02-03T10:01:38.507075Z\", \"end_time\": \"2021-02-03T10:03:29.461546Z\", \"created_time\": \"2021-02-03T10:01:28.429534Z\", \"created_time_dt\": \"2021-02-03T10:01:28.429534Z\", \"duration\": \"0:02:01\", \"iteration\": \"28\", \"goal\": \"AUC_weighted_max\", \"run_name\": \"MinMaxScaler, LightGBM\", \"run_properties\": \"boosting_type='goss', class_weight=None,\\n                   colsample_bytree=0.8911111111111111, importance_type='split',\\n                   learning_rate=0.04737368421052632, max_bin=60, max_depth=10,\\n                   min_child_samples=6, min_child_weight=9,\\n                   min_split_gain=0.631578947368421, n_estimators=200, n_jobs=1,\\n                   num_leaves=107, objective=None, random_state=None,\\n                   reg_alpha=0.5263157894736842, reg_lambda=0.05263157894736842,\\n                   silent=True, subsample=1, subsample_for_bin=200000,\\n                   subsample_freq=0, verbose=-10\", \"primary_metric\": 0.82414099, \"best_metric\": 0.83415339}, {\"run_id\": \"AutoML_719a1e66-cebe-467b-a703-4e27f4c221be_29\", \"run_number\": 32, \"metric\": null, \"status\": \"Completed\", \"run_type\": \"azureml.scriptrun\", \"training_percent\": \"100\", \"start_time\": \"2021-02-03T10:01:46.123123Z\", \"end_time\": \"2021-02-03T10:03:38.456855Z\", \"created_time\": \"2021-02-03T10:01:35.362031Z\", \"created_time_dt\": \"2021-02-03T10:01:35.362031Z\", \"duration\": \"0:02:03\", \"iteration\": \"29\", \"goal\": \"AUC_weighted_max\", \"run_name\": \"StandardScalerWrapper, XGBoostClassifier\", \"run_properties\": \"base_score=0.5, booster='gbtree', colsample_bylevel=1,\\n                  colsample_bynode=1, colsample_bytree=1, eta=0.2, gamma=0,\\n                  grow_policy='lossguide', learning_rate=0.1, max_bin=255,\\n                  max_delta_step=0, max_depth=4, max_leaves=15,\\n                  min_child_weight=1, missing=None, n_estimators=100, n_jobs=1,\\n                  nthread=None, objective='reg:logistic', random_state=0,\\n                  reg_alpha=0.9375, reg_lambda=0, scale_pos_weight=1, seed=None,\\n                  silent=None, subsample=0.5, tree_method='hist', verbose=-10,\\n                  verbosity=0\", \"primary_metric\": 0.81760249, \"best_metric\": 0.83415339}, {\"run_id\": \"AutoML_719a1e66-cebe-467b-a703-4e27f4c221be_30\", \"run_number\": 33, \"metric\": null, \"status\": \"Completed\", \"run_type\": \"azureml.scriptrun\", \"training_percent\": \"100\", \"start_time\": \"2021-02-03T10:02:01.349722Z\", \"end_time\": \"2021-02-03T10:03:57.539038Z\", \"created_time\": \"2021-02-03T10:01:50.565875Z\", \"created_time_dt\": \"2021-02-03T10:01:50.565875Z\", \"duration\": \"0:02:06\", \"iteration\": \"30\", \"goal\": \"AUC_weighted_max\", \"run_name\": \"PCA, XGBoostClassifier\", \"run_properties\": \"base_score=0.5, booster='gbtree', colsample_bylevel=1,\\n                  colsample_bynode=1, colsample_bytree=1, eta=0.1, gamma=0,\\n                  learning_rate=0.1, max_delta_step=0, max_depth=9,\\n                  max_leaves=0, min_child_weight=1, missing=None,\\n                  n_estimators=100, n_jobs=1, nthread=None,\\n                  objective='reg:logistic', random_state=0, reg_alpha=0,\\n                  reg_lambda=0.9375, scale_pos_weight=1, seed=None, silent=None,\\n                  subsample=0.5, tree_method='auto', verbose=-10, verbosity=0\", \"primary_metric\": 0.67733663, \"best_metric\": 0.83415339}, {\"run_id\": \"AutoML_719a1e66-cebe-467b-a703-4e27f4c221be_31\", \"run_number\": 34, \"metric\": null, \"status\": \"Completed\", \"run_type\": \"azureml.scriptrun\", \"training_percent\": \"100\", \"start_time\": \"2021-02-03T10:02:40.879727Z\", \"end_time\": \"2021-02-03T10:04:34.065717Z\", \"created_time\": \"2021-02-03T10:02:29.877499Z\", \"created_time_dt\": \"2021-02-03T10:02:29.877499Z\", \"duration\": \"0:02:04\", \"iteration\": \"31\", \"goal\": \"AUC_weighted_max\", \"run_name\": \"RobustScaler, LightGBM\", \"run_properties\": \"boosting_type='gbdt', class_weight=None,\\n                   colsample_bytree=0.2977777777777778, importance_type='split',\\n                   learning_rate=0.05263631578947369, max_bin=120, max_depth=6,\\n                   min_child_samples=51, min_child_weight=7,\\n                   min_split_gain=0.894736842105263, n_estimators=200, n_jobs=1,\\n                   num_leaves=176, objective=None, random_state=None,\\n                   reg_alpha=0.5789473684210527, reg_lambda=0.5263157894736842,\\n                   silent=True, subsample=0.14894736842105263,\\n                   subsample_for_bin=200000, subsample_freq=0, verbose=-10\", \"primary_metric\": 0.82244931, \"best_metric\": 0.83415339}, {\"run_id\": \"AutoML_719a1e66-cebe-467b-a703-4e27f4c221be_32\", \"run_number\": 35, \"metric\": null, \"status\": \"Completed\", \"run_type\": \"azureml.scriptrun\", \"training_percent\": \"100\", \"start_time\": \"2021-02-03T10:03:30.332616Z\", \"end_time\": \"2021-02-03T10:05:21.767277Z\", \"created_time\": \"2021-02-03T10:03:19.995232Z\", \"created_time_dt\": \"2021-02-03T10:03:19.995232Z\", \"duration\": \"0:02:01\", \"iteration\": \"32\", \"goal\": \"AUC_weighted_max\", \"run_name\": \"MaxAbsScaler, LightGBM\", \"run_properties\": \"boosting_type='goss', class_weight=None,\\n                   colsample_bytree=0.1988888888888889, importance_type='split',\\n                   learning_rate=0.04737368421052632, max_bin=110, max_depth=5,\\n                   min_child_samples=16, min_child_weight=1,\\n                   min_split_gain=0.894736842105263, n_estimators=25, n_jobs=1,\\n                   num_leaves=167, objective=None, random_state=None,\\n                   reg_alpha=0.3157894736842105, reg_lambda=0.15789473684210525,\\n                   silent=True, subsample=1, subsample_for_bin=200000,\\n                   subsample_freq=0, verbose=-10\", \"primary_metric\": 0.80205537, \"best_metric\": 0.83415339}, {\"run_id\": \"AutoML_719a1e66-cebe-467b-a703-4e27f4c221be_33\", \"run_number\": 36, \"metric\": null, \"status\": \"Completed\", \"run_type\": \"azureml.scriptrun\", \"training_percent\": \"100\", \"start_time\": \"2021-02-03T10:03:41.659701Z\", \"end_time\": \"2021-02-03T10:05:36.300794Z\", \"created_time\": \"2021-02-03T10:03:31.344799Z\", \"created_time_dt\": \"2021-02-03T10:03:31.344799Z\", \"duration\": \"0:02:04\", \"iteration\": \"33\", \"goal\": \"AUC_weighted_max\", \"run_name\": \"RobustScaler, LightGBM\", \"run_properties\": \"boosting_type='goss', class_weight=None,\\n                   colsample_bytree=0.1988888888888889, importance_type='split',\\n                   learning_rate=0.07894947368421053, max_bin=10, max_depth=8,\\n                   min_child_samples=16, min_child_weight=1,\\n                   min_split_gain=0.15789473684210525, n_estimators=25,\\n                   n_jobs=1, num_leaves=128, objective=None, random_state=None,\\n                   reg_alpha=0.2631578947368421, reg_lambda=0.10526315789473684,\\n                   silent=True, subsample=1, subsample_for_bin=200000,\\n                   subsample_freq=0, verbose=-10\", \"primary_metric\": 0.81534375, \"best_metric\": 0.83415339}, {\"run_id\": \"AutoML_719a1e66-cebe-467b-a703-4e27f4c221be_34\", \"run_number\": 37, \"metric\": null, \"status\": \"Canceled\", \"run_type\": \"azureml.scriptrun\", \"training_percent\": \"100\", \"start_time\": \"2021-02-03T10:03:49.960173Z\", \"end_time\": \"2021-02-03T10:05:42.405993Z\", \"created_time\": \"2021-02-03T10:03:40.357497Z\", \"created_time_dt\": \"2021-02-03T10:03:40.357497Z\", \"duration\": \"0:02:02\", \"iteration\": \"34\", \"goal\": \"AUC_weighted_max\", \"run_name\": \"MinMaxScaler, ExtremeRandomTrees\", \"run_properties\": \"bootstrap=True, ccp_alpha=0.0, class_weight='balanced',\\n                     criterion='gini', max_depth=None, max_features=None,\\n                     max_leaf_nodes=None, max_samples=None,\\n                     min_impurity_decrease=0.0, min_impurity_split=None,\\n                     min_samples_leaf=0.01,\\n                     min_samples_split=0.056842105263157895,\\n                     min_weight_fraction_leaf=0.0, n_estimators=50, n_jobs=1,\\n                     oob_score=True, random_state=None, verbose=0,\\n                     warm_start=False\", \"primary_metric\": 0.83996541, \"best_metric\": 0.83996541}, {\"run_id\": \"AutoML_719a1e66-cebe-467b-a703-4e27f4c221be_35\", \"run_number\": 38, \"metric\": null, \"status\": \"Canceled\", \"run_type\": \"azureml.scriptrun\", \"training_percent\": \"100\", \"start_time\": \"2021-02-03T10:04:10.932157Z\", \"end_time\": \"2021-02-03T10:05:45.762523Z\", \"created_time\": \"2021-02-03T10:04:00.871903Z\", \"created_time_dt\": \"2021-02-03T10:04:00.871903Z\", \"duration\": \"0:01:44\", \"iteration\": \"35\", \"goal\": \"AUC_weighted_max\", \"run_name\": \"StandardScalerWrapper, XGBoostClassifier\", \"run_properties\": \"base_score=0.5, booster='gbtree', colsample_bylevel=1,\\n                  colsample_bynode=1, colsample_bytree=0.8, eta=0.4, gamma=0,\\n                  learning_rate=0.1, max_delta_step=0, max_depth=4,\\n                  max_leaves=0, min_child_weight=1, missing=None,\\n                  n_estimators=800, n_jobs=1, nthread=None,\\n                  objective='reg:logistic', random_state=0,\\n                  reg_alpha=1.1458333333333335, reg_lambda=1.4583333333333335,\\n                  scale_pos_weight=1, seed=None, silent=None, subsample=0.5,\\n                  tree_method='auto', verbose=-10, verbosity=0\", \"primary_metric\": 0.7961526, \"best_metric\": 0.83996541}, {\"run_id\": \"AutoML_719a1e66-cebe-467b-a703-4e27f4c221be_36\", \"run_number\": 39, \"metric\": null, \"status\": \"Canceled\", \"run_type\": \"azureml.scriptrun\", \"training_percent\": \"100\", \"start_time\": \"2021-02-03T10:04:48.686817Z\", \"end_time\": \"2021-02-03T10:05:57.135157Z\", \"created_time\": \"2021-02-03T10:04:36.897825Z\", \"created_time_dt\": \"2021-02-03T10:04:36.897825Z\", \"duration\": \"0:01:20\", \"iteration\": \"36\", \"goal\": null, \"run_name\": \"Canceled\", \"run_properties\": null}, {\"run_id\": \"AutoML_719a1e66-cebe-467b-a703-4e27f4c221be_37\", \"run_number\": 40, \"metric\": null, \"status\": \"Canceled\", \"run_type\": \"azureml.scriptrun\", \"training_percent\": \"100\", \"start_time\": \"2021-02-03T10:05:34.847753Z\", \"end_time\": \"2021-02-03T10:05:42.269721Z\", \"created_time\": \"2021-02-03T10:05:23.685231Z\", \"created_time_dt\": \"2021-02-03T10:05:23.685231Z\", \"duration\": \"0:00:18\", \"iteration\": \"37\", \"goal\": null, \"run_name\": \"Canceled\", \"run_properties\": null}, {\"run_id\": \"AutoML_719a1e66-cebe-467b-a703-4e27f4c221be_38\", \"run_number\": 41, \"metric\": null, \"status\": \"Completed\", \"run_type\": \"azureml.scriptrun\", \"training_percent\": \"100\", \"start_time\": \"2021-02-03T10:05:56.314524Z\", \"end_time\": \"2021-02-03T10:07:52.465537Z\", \"created_time\": \"2021-02-03T10:05:45.456427Z\", \"created_time_dt\": \"2021-02-03T10:05:45.456427Z\", \"duration\": \"0:02:07\", \"iteration\": \"38\", \"goal\": \"AUC_weighted_max\", \"run_name\": \"SparseNormalizer, XGBoostClassifier\", \"run_properties\": \"base_score=0.5, booster='gbtree', colsample_bylevel=1,\\n                  colsample_bynode=1, colsample_bytree=1, eta=0.5, gamma=0,\\n                  grow_policy='lossguide', learning_rate=0.1, max_bin=255,\\n                  max_delta_step=0, max_depth=9, max_leaves=3,\\n                  min_child_weight=1, missing=None, n_estimators=100, n_jobs=1,\\n                  nthread=None, objective='reg:logistic', random_state=0,\\n                  reg_alpha=0.3125, reg_lambda=0, scale_pos_weight=1, seed=None,\\n                  silent=None, subsample=0.5, tree_method='hist', verbose=-10,\\n                  verbosity=0\", \"primary_metric\": 0.69197341, \"best_metric\": 0.83996541}, {\"run_id\": \"AutoML_719a1e66-cebe-467b-a703-4e27f4c221be_40\", \"run_number\": 42, \"metric\": null, \"status\": \"Completed\", \"run_type\": \"azureml.scriptrun\", \"training_percent\": \"100\", \"start_time\": \"2021-02-03T10:05:56.760889Z\", \"end_time\": \"2021-02-03T10:07:49.072478Z\", \"created_time\": \"2021-02-03T10:05:45.462868Z\", \"created_time_dt\": \"2021-02-03T10:05:45.462868Z\", \"duration\": \"0:02:03\", \"iteration\": \"40\", \"goal\": \"AUC_weighted_max\", \"run_name\": \"StandardScalerWrapper, LightGBM\", \"run_properties\": \"boosting_type='gbdt', class_weight=None,\\n                   colsample_bytree=0.3966666666666666, importance_type='split',\\n                   learning_rate=0.015797894736842105, max_bin=20, max_depth=3,\\n                   min_child_samples=3, min_child_weight=5,\\n                   min_split_gain=0.3157894736842105, n_estimators=400,\\n                   n_jobs=1, num_leaves=110, objective=None, random_state=None,\\n                   reg_alpha=0, reg_lambda=0.42105263157894735, silent=True,\\n                   subsample=0.3468421052631579, subsample_for_bin=200000,\\n                   subsample_freq=0, verbose=-10\", \"primary_metric\": 0.82824801, \"best_metric\": 0.83996541}, {\"run_id\": \"AutoML_719a1e66-cebe-467b-a703-4e27f4c221be_39\", \"run_number\": 43, \"metric\": null, \"status\": \"Completed\", \"run_type\": \"azureml.scriptrun\", \"training_percent\": \"100\", \"start_time\": \"2021-02-03T10:05:55.537402Z\", \"end_time\": \"2021-02-03T10:07:59.948046Z\", \"created_time\": \"2021-02-03T10:05:45.477427Z\", \"created_time_dt\": \"2021-02-03T10:05:45.477427Z\", \"duration\": \"0:02:14\", \"iteration\": \"39\", \"goal\": \"AUC_weighted_max\", \"run_name\": \"StandardScalerWrapper, ExtremeRandomTrees\", \"run_properties\": \"bootstrap=False, ccp_alpha=0.0, class_weight='balanced',\\n                     criterion='entropy', max_depth=None, max_features=0.7,\\n                     max_leaf_nodes=None, max_samples=None,\\n                     min_impurity_decrease=0.0, min_impurity_split=None,\\n                     min_samples_leaf=0.035789473684210524,\\n                     min_samples_split=0.10368421052631578,\\n                     min_weight_fraction_leaf=0.0, n_estimators=600, n_jobs=1,\\n                     oob_score=False, random_state=None, verbose=0,\\n                     warm_start=False\", \"primary_metric\": 0.83391618, \"best_metric\": 0.83996541}, {\"run_id\": \"AutoML_719a1e66-cebe-467b-a703-4e27f4c221be_41\", \"run_number\": 44, \"metric\": null, \"status\": \"Completed\", \"run_type\": \"azureml.scriptrun\", \"training_percent\": \"100\", \"start_time\": \"2021-02-03T10:06:00.048922Z\", \"end_time\": \"2021-02-03T10:07:47.677359Z\", \"created_time\": \"2021-02-03T10:05:49.664483Z\", \"created_time_dt\": \"2021-02-03T10:05:49.664483Z\", \"duration\": \"0:01:58\", \"iteration\": \"41\", \"goal\": \"AUC_weighted_max\", \"run_name\": \"SparseNormalizer, XGBoostClassifier\", \"run_properties\": \"base_score=0.5, booster='gbtree', colsample_bylevel=1,\\n                  colsample_bynode=1, colsample_bytree=0.8, eta=0.05,\\n                  gamma=0.01, grow_policy='lossguide', learning_rate=0.1,\\n                  max_bin=255, max_delta_step=0, max_depth=6, max_leaves=15,\\n                  min_child_weight=1, missing=None, n_estimators=10, n_jobs=1,\\n                  nthread=None, objective='reg:logistic', random_state=0,\\n                  reg_alpha=0.9375, reg_lambda=1.6666666666666667,\\n                  scale_pos_weight=1, seed=None, silent=None, subsample=0.6,\\n                  tree_method='hist', verbose=-10, verbosity=0\", \"primary_metric\": 0.71616628, \"best_metric\": 0.83996541}, {\"run_id\": \"AutoML_719a1e66-cebe-467b-a703-4e27f4c221be_42\", \"run_number\": 45, \"metric\": null, \"status\": \"Completed\", \"run_type\": \"azureml.scriptrun\", \"training_percent\": \"100\", \"start_time\": \"2021-02-03T10:06:10.40787Z\", \"end_time\": \"2021-02-03T10:08:07.093696Z\", \"created_time\": \"2021-02-03T10:05:59.323626Z\", \"created_time_dt\": \"2021-02-03T10:05:59.323626Z\", \"duration\": \"0:02:07\", \"iteration\": \"42\", \"goal\": \"AUC_weighted_max\", \"run_name\": \"SparseNormalizer, XGBoostClassifier\", \"run_properties\": \"base_score=0.5, booster='gbtree', colsample_bylevel=1,\\n                  colsample_bynode=1, colsample_bytree=1, eta=0.001, gamma=0,\\n                  grow_policy='lossguide', learning_rate=0.1, max_bin=63,\\n                  max_delta_step=0, max_depth=0, max_leaves=127,\\n                  min_child_weight=1, missing=None, n_estimators=800, n_jobs=1,\\n                  nthread=None, objective='reg:logistic', random_state=0,\\n                  reg_alpha=0, reg_lambda=0.5208333333333334,\\n                  scale_pos_weight=1, seed=None, silent=None, subsample=0.5,\\n                  tree_method='hist', verbose=-10, verbosity=0\", \"primary_metric\": 0.67714833, \"best_metric\": 0.83996541}, {\"run_id\": \"AutoML_719a1e66-cebe-467b-a703-4e27f4c221be_43\", \"run_number\": 46, \"metric\": null, \"status\": \"Completed\", \"run_type\": \"azureml.scriptrun\", \"training_percent\": \"100\", \"start_time\": \"2021-02-03T10:08:00.221042Z\", \"end_time\": \"2021-02-03T10:09:55.62762Z\", \"created_time\": \"2021-02-03T10:07:50.227199Z\", \"created_time_dt\": \"2021-02-03T10:07:50.227199Z\", \"duration\": \"0:02:05\", \"iteration\": \"43\", \"goal\": \"AUC_weighted_max\", \"run_name\": \"MinMaxScaler, LightGBM\", \"run_properties\": \"boosting_type='goss', class_weight=None,\\n                   colsample_bytree=0.4955555555555555, importance_type='split',\\n                   learning_rate=0.06316157894736842, max_bin=210, max_depth=5,\\n                   min_child_samples=43, min_child_weight=4,\\n                   min_split_gain=0.6842105263157894, n_estimators=50, n_jobs=1,\\n                   num_leaves=26, objective=None, random_state=None,\\n                   reg_alpha=0.21052631578947367,\\n                   reg_lambda=0.21052631578947367, silent=True, subsample=1,\\n                   subsample_for_bin=200000, subsample_freq=0, verbose=-10\", \"primary_metric\": 0.82950608, \"best_metric\": 0.83996541}, {\"run_id\": \"AutoML_719a1e66-cebe-467b-a703-4e27f4c221be_44\", \"run_number\": 47, \"metric\": null, \"status\": \"Completed\", \"run_type\": \"azureml.scriptrun\", \"training_percent\": \"100\", \"start_time\": \"2021-02-03T10:08:04.525142Z\", \"end_time\": \"2021-02-03T10:09:59.948102Z\", \"created_time\": \"2021-02-03T10:07:54.013248Z\", \"created_time_dt\": \"2021-02-03T10:07:54.013248Z\", \"duration\": \"0:02:05\", \"iteration\": \"44\", \"goal\": \"AUC_weighted_max\", \"run_name\": \"RobustScaler, ExtremeRandomTrees\", \"run_properties\": \"bootstrap=False, ccp_alpha=0.0, class_weight=None,\\n                     criterion='entropy', max_depth=None, max_features=0.8,\\n                     max_leaf_nodes=None, max_samples=None,\\n                     min_impurity_decrease=0.0, min_impurity_split=None,\\n                     min_samples_leaf=0.01,\\n                     min_samples_split=0.15052631578947367,\\n                     min_weight_fraction_leaf=0.0, n_estimators=400, n_jobs=1,\\n                     oob_score=False, random_state=None, verbose=0,\\n                     warm_start=False\", \"primary_metric\": 0.83679594, \"best_metric\": 0.83996541}, {\"run_id\": \"AutoML_719a1e66-cebe-467b-a703-4e27f4c221be_45\", \"run_number\": 48, \"metric\": null, \"status\": \"Completed\", \"run_type\": \"azureml.scriptrun\", \"training_percent\": \"100\", \"start_time\": \"2021-02-03T10:08:09.225866Z\", \"end_time\": \"2021-02-03T10:10:05.768881Z\", \"created_time\": \"2021-02-03T10:07:58.878377Z\", \"created_time_dt\": \"2021-02-03T10:07:58.878377Z\", \"duration\": \"0:02:06\", \"iteration\": \"45\", \"goal\": \"AUC_weighted_max\", \"run_name\": \"TruncatedSVDWrapper, ExtremeRandomTrees\", \"run_properties\": \"bootstrap=True, ccp_alpha=0.0, class_weight='balanced',\\n                     criterion='entropy', max_depth=None, max_features=0.05,\\n                     max_leaf_nodes=None, max_samples=None,\\n                     min_impurity_decrease=0.0, min_impurity_split=None,\\n                     min_samples_leaf=0.035789473684210524,\\n                     min_samples_split=0.5252631578947369,\\n                     min_weight_fraction_leaf=0.0, n_estimators=100, n_jobs=1,\\n                     oob_score=True, random_state=None, verbose=0,\\n                     warm_start=False\", \"primary_metric\": 0.7252296, \"best_metric\": 0.83996541}, {\"run_id\": \"AutoML_719a1e66-cebe-467b-a703-4e27f4c221be_46\", \"run_number\": 49, \"metric\": null, \"status\": \"Completed\", \"run_type\": \"azureml.scriptrun\", \"training_percent\": \"100\", \"start_time\": \"2021-02-03T10:08:12.778685Z\", \"end_time\": \"2021-02-03T10:10:01.844002Z\", \"created_time\": \"2021-02-03T10:08:02.257703Z\", \"created_time_dt\": \"2021-02-03T10:08:02.257703Z\", \"duration\": \"0:01:59\", \"iteration\": \"46\", \"goal\": \"AUC_weighted_max\", \"run_name\": \"RobustScaler, LightGBM\", \"run_properties\": \"boosting_type='gbdt', class_weight=None,\\n                   colsample_bytree=0.3966666666666666, importance_type='split',\\n                   learning_rate=0.06842421052631578, max_bin=300, max_depth=4,\\n                   min_child_samples=19, min_child_weight=5,\\n                   min_split_gain=0.21052631578947367, n_estimators=200,\\n                   n_jobs=1, num_leaves=47, objective=None, random_state=None,\\n                   reg_alpha=0.9473684210526315, reg_lambda=0.42105263157894735,\\n                   silent=True, subsample=0.05, subsample_for_bin=200000,\\n                   subsample_freq=0, verbose=-10\", \"primary_metric\": 0.82015911, \"best_metric\": 0.83996541}, {\"run_id\": \"AutoML_719a1e66-cebe-467b-a703-4e27f4c221be_47\", \"run_number\": 50, \"metric\": null, \"status\": \"Completed\", \"run_type\": \"azureml.scriptrun\", \"training_percent\": \"100\", \"start_time\": \"2021-02-03T10:08:20.137993Z\", \"end_time\": \"2021-02-03T10:10:08.4825Z\", \"created_time\": \"2021-02-03T10:08:09.343947Z\", \"created_time_dt\": \"2021-02-03T10:08:09.343947Z\", \"duration\": \"0:01:59\", \"iteration\": \"47\", \"goal\": \"AUC_weighted_max\", \"run_name\": \"RobustScaler, LightGBM\", \"run_properties\": \"boosting_type='goss', class_weight=None,\\n                   colsample_bytree=0.3966666666666666, importance_type='split',\\n                   learning_rate=0.1, max_bin=280, max_depth=-1,\\n                   min_child_samples=1, min_child_weight=5,\\n                   min_split_gain=0.2631578947368421, n_estimators=50, n_jobs=1,\\n                   num_leaves=20, objective=None, random_state=None,\\n                   reg_alpha=0.3157894736842105, reg_lambda=0.7894736842105263,\\n                   silent=True, subsample=1, subsample_for_bin=200000,\\n                   subsample_freq=0, verbose=-10\", \"primary_metric\": 0.80893227, \"best_metric\": 0.83996541}, {\"run_id\": \"AutoML_719a1e66-cebe-467b-a703-4e27f4c221be_48\", \"run_number\": 51, \"metric\": null, \"status\": \"Completed\", \"run_type\": \"azureml.scriptrun\", \"training_percent\": \"100\", \"start_time\": \"2021-02-03T10:10:08.649552Z\", \"end_time\": \"2021-02-03T10:11:59.921524Z\", \"created_time\": \"2021-02-03T10:09:58.136861Z\", \"created_time_dt\": \"2021-02-03T10:09:58.136861Z\", \"duration\": \"0:02:01\", \"iteration\": \"48\", \"goal\": \"AUC_weighted_max\", \"run_name\": \"RobustScaler, KNN\", \"run_properties\": \"algorithm='auto', leaf_size=30, metric='manhattan',\\n                     metric_params=None, n_jobs=1, n_neighbors=12, p=2,\\n                     weights='distance'\", \"primary_metric\": 0.80129562, \"best_metric\": 0.83996541}, {\"run_id\": \"AutoML_719a1e66-cebe-467b-a703-4e27f4c221be_49\", \"run_number\": 52, \"metric\": null, \"status\": \"Canceled\", \"run_type\": \"azureml.scriptrun\", \"training_percent\": \"100\", \"start_time\": \"2021-02-03T10:10:12.662742Z\", \"end_time\": \"2021-02-03T10:12:09.138669Z\", \"created_time\": \"2021-02-03T10:10:02.196063Z\", \"created_time_dt\": \"2021-02-03T10:10:02.196063Z\", \"duration\": \"0:02:06\", \"iteration\": \"49\", \"goal\": \"AUC_weighted_max\", \"run_name\": \"RobustScaler, KNN\", \"run_properties\": \"algorithm='auto', leaf_size=30, metric='cityblock',\\n                     metric_params=None, n_jobs=1, n_neighbors=10, p=2,\\n                     weights='distance'\", \"primary_metric\": 0.797868, \"best_metric\": 0.83996541}, {\"run_id\": \"AutoML_719a1e66-cebe-467b-a703-4e27f4c221be_50\", \"run_number\": 53, \"metric\": null, \"status\": \"Completed\", \"run_type\": \"azureml.scriptrun\", \"training_percent\": \"100\", \"start_time\": \"2021-02-03T10:10:16.048606Z\", \"end_time\": \"2021-02-03T10:12:07.915737Z\", \"created_time\": \"2021-02-03T10:10:06.298575Z\", \"created_time_dt\": \"2021-02-03T10:10:06.298575Z\", \"duration\": \"0:02:01\", \"iteration\": \"50\", \"goal\": \"AUC_weighted_max\", \"run_name\": \"TruncatedSVDWrapper, ExtremeRandomTrees\", \"run_properties\": \"bootstrap=True, ccp_alpha=0.0, class_weight=None,\\n                     criterion='gini', max_depth=None, max_features=0.4,\\n                     max_leaf_nodes=None, max_samples=None,\\n                     min_impurity_decrease=0.0, min_impurity_split=None,\\n                     min_samples_leaf=0.035789473684210524,\\n                     min_samples_split=0.01, min_weight_fraction_leaf=0.0,\\n                     n_estimators=10, n_jobs=1, oob_score=False,\\n                     random_state=None, verbose=0, warm_start=False\", \"primary_metric\": 0.66014868, \"best_metric\": 0.83996541}, {\"run_id\": \"AutoML_719a1e66-cebe-467b-a703-4e27f4c221be_51\", \"run_number\": 54, \"metric\": null, \"status\": \"Completed\", \"run_type\": \"azureml.scriptrun\", \"training_percent\": \"100\", \"start_time\": \"2021-02-03T10:10:19.969505Z\", \"end_time\": \"2021-02-03T10:12:08.401713Z\", \"created_time\": \"2021-02-03T10:10:09.685833Z\", \"created_time_dt\": \"2021-02-03T10:10:09.685833Z\", \"duration\": \"0:01:58\", \"iteration\": \"51\", \"goal\": \"AUC_weighted_max\", \"run_name\": \"SparseNormalizer, XGBoostClassifier\", \"run_properties\": \"base_score=0.5, booster='gbtree', colsample_bylevel=1,\\n                  colsample_bynode=1, colsample_bytree=0.5, eta=0.05, gamma=0,\\n                  learning_rate=0.1, max_delta_step=0, max_depth=9,\\n                  max_leaves=255, min_child_weight=1, missing=None,\\n                  n_estimators=25, n_jobs=1, nthread=None,\\n                  objective='reg:logistic', random_state=0,\\n                  reg_alpha=2.3958333333333335, reg_lambda=0.8333333333333334,\\n                  scale_pos_weight=1, seed=None, silent=None, subsample=0.9,\\n                  tree_method='auto', verbose=-10, verbosity=0\", \"primary_metric\": 0.69785976, \"best_metric\": 0.83996541}, {\"run_id\": \"AutoML_719a1e66-cebe-467b-a703-4e27f4c221be_52\", \"run_number\": 55, \"metric\": null, \"status\": \"Canceled\", \"run_type\": \"azureml.scriptrun\", \"training_percent\": \"100\", \"start_time\": \"2021-02-03T10:10:23.908347Z\", \"end_time\": \"2021-02-03T10:12:17.206705Z\", \"created_time\": \"2021-02-03T10:10:12.74967Z\", \"created_time_dt\": \"2021-02-03T10:10:12.74967Z\", \"duration\": \"0:02:04\", \"iteration\": \"52\", \"goal\": \"AUC_weighted_max\", \"run_name\": \"StandardScalerWrapper, XGBoostClassifier\", \"run_properties\": \"base_score=0.5, booster='gbtree', colsample_bylevel=1,\\n                  colsample_bynode=1, colsample_bytree=0.6, eta=0.3, gamma=0,\\n                  learning_rate=0.1, max_delta_step=0, max_depth=4,\\n                  max_leaves=3, min_child_weight=1, missing=None,\\n                  n_estimators=100, n_jobs=1, nthread=None,\\n                  objective='reg:logistic', random_state=0, reg_alpha=0,\\n                  reg_lambda=0.9375, scale_pos_weight=1, seed=None, silent=None,\\n                  subsample=1, tree_method='auto', verbose=-10, verbosity=0\", \"primary_metric\": 0.8177005, \"best_metric\": 0.83996541}, {\"run_id\": \"AutoML_719a1e66-cebe-467b-a703-4e27f4c221be_53\", \"run_number\": 56, \"metric\": null, \"status\": \"Canceled\", \"run_type\": \"azureml.scriptrun\", \"training_percent\": \"100\", \"start_time\": \"2021-02-03T10:12:02.708809Z\", \"end_time\": \"2021-02-03T10:12:19.612368Z\", \"created_time\": \"2021-02-03T10:12:02.708809Z\", \"created_time_dt\": \"2021-02-03T10:12:02.708809Z\", \"duration\": \"0:00:16\", \"iteration\": \"53\", \"goal\": null, \"run_name\": \"Canceled\", \"run_properties\": null}, {\"run_id\": \"AutoML_719a1e66-cebe-467b-a703-4e27f4c221be_54\", \"run_number\": 57, \"metric\": null, \"status\": \"Completed\", \"run_type\": \"azureml.scriptrun\", \"training_percent\": \"100\", \"start_time\": \"2021-02-03T10:12:33.287073Z\", \"end_time\": \"2021-02-03T10:15:15.567623Z\", \"created_time\": \"2021-02-03T10:12:20.40081Z\", \"created_time_dt\": \"2021-02-03T10:12:20.40081Z\", \"duration\": \"0:02:55\", \"iteration\": \"54\", \"goal\": \"AUC_weighted_max\", \"run_name\": \"VotingEnsemble\", \"run_properties\": \"\", \"primary_metric\": 0.84738174, \"best_metric\": 0.84738174}], \"children_metrics\": {\"categories\": [0], \"series\": {\"balanced_accuracy\": [{\"categories\": [\"0\", \"1\", \"2\", \"3\", \"4\", \"5\", \"6\", \"7\", \"8\", \"9\", \"10\", \"11\", \"12\", \"13\", \"14\", \"15\", \"16\", \"17\", \"18\", \"19\", \"20\", \"21\", \"22\", \"23\", \"24\", \"25\", \"26\", \"27\", \"28\", \"29\", \"30\", \"31\", \"32\", \"33\", \"34\", \"35\", \"38\", \"39\", \"40\", \"41\", \"42\", \"43\", \"44\", \"45\", \"46\", \"47\", \"48\", \"49\", \"50\", \"51\", \"52\", \"54\"], \"mode\": \"markers\", \"name\": \"balanced_accuracy\", \"stepped\": false, \"type\": \"scatter\", \"data\": [0.705894562036278, 0.7228965630531063, 0.7202267763337782, 0.686056582371466, 0.7571222132143641, 0.7083384771693152, 0.711138352350427, 0.6883746491312638, 0.6012318930996041, 0.6332376010314558, 0.6215022103688678, 0.6736967581437611, 0.7587654503926144, 0.7265717833856742, 0.7439495465594939, 0.6830729063594672, 0.6880430979930565, 0.7321631679803683, 0.7330336688813297, 0.7054050866616683, 0.7342827879177417, 0.744864638199833, 0.750218365431353, 0.7459278379560365, 0.7234675249740383, 0.7173618585485062, 0.7035463130878934, 0.6927377145221258, 0.7294561110258116, 0.7136913780822349, 0.5849324524885852, 0.704780789768822, 0.6438206564414657, 0.675692541589639, 0.749275870390084, 0.6990540598307448, 0.5863304185460696, 0.7569042599777338, 0.7144857281282214, 0.6204023225502616, 0.6118371557562053, 0.719482852909911, 0.7079891691679248, 0.6616347866463934, 0.7060182622133635, 0.7016667175986403, 0.6950102010597662, 0.6974508534734507, 0.5, 0.6007918123113654, 0.7204942923301033, 0.7320188849853091]}, {\"categories\": [\"0\", \"1\", \"2\", \"3\", \"4\", \"5\", \"6\", \"7\", \"8\", \"9\", \"10\", \"11\", \"12\", \"13\", \"14\", \"15\", \"16\", \"17\", \"18\", \"19\", \"20\", \"21\", \"22\", \"23\", \"24\", \"25\", \"26\", \"27\", \"28\", \"29\", \"30\", \"31\", \"32\", \"33\", \"34\", \"35\", \"38\", \"39\", \"40\", \"41\", \"42\", \"43\", \"44\", \"45\", \"46\", \"47\", \"48\", \"49\", \"50\", \"51\", \"52\", \"54\"], \"mode\": \"lines\", \"name\": \"balanced_accuracy_max\", \"stepped\": true, \"type\": \"scatter\", \"data\": [0.705894562036278, 0.7228965630531063, 0.7228965630531063, 0.7228965630531063, 0.7571222132143641, 0.7571222132143641, 0.7571222132143641, 0.7571222132143641, 0.7571222132143641, 0.7571222132143641, 0.7571222132143641, 0.7571222132143641, 0.7587654503926144, 0.7587654503926144, 0.7587654503926144, 0.7587654503926144, 0.7587654503926144, 0.7587654503926144, 0.7587654503926144, 0.7587654503926144, 0.7587654503926144, 0.7587654503926144, 0.7587654503926144, 0.7587654503926144, 0.7587654503926144, 0.7587654503926144, 0.7587654503926144, 0.7587654503926144, 0.7587654503926144, 0.7587654503926144, 0.7587654503926144, 0.7587654503926144, 0.7587654503926144, 0.7587654503926144, 0.7587654503926144, 0.7587654503926144, 0.7587654503926144, 0.7587654503926144, 0.7587654503926144, 0.7587654503926144, 0.7587654503926144, 0.7587654503926144, 0.7587654503926144, 0.7587654503926144, 0.7587654503926144, 0.7587654503926144, 0.7587654503926144, 0.7587654503926144, 0.7587654503926144, 0.7587654503926144, 0.7587654503926144, 0.7587654503926144]}], \"precision_score_micro\": [{\"categories\": [\"0\", \"1\", \"2\", \"3\", \"4\", \"5\", \"6\", \"7\", \"8\", \"9\", \"10\", \"11\", \"12\", \"13\", \"14\", \"15\", \"16\", \"17\", \"18\", \"19\", \"20\", \"21\", \"22\", \"23\", \"24\", \"25\", \"26\", \"27\", \"28\", \"29\", \"30\", \"31\", \"32\", \"33\", \"34\", \"35\", \"38\", \"39\", \"40\", \"41\", \"42\", \"43\", \"44\", \"45\", \"46\", \"47\", \"48\", \"49\", \"50\", \"51\", \"52\", \"54\"], \"mode\": \"markers\", \"name\": \"precision_score_micro\", \"stepped\": false, \"type\": \"scatter\", \"data\": [0.7435577580314423, 0.7631237183868763, 0.7695317840054683, 0.7644053315105948, 0.7657211209842789, 0.7565618591934381, 0.7500170881749829, 0.7527341079972659, 0.7122351332877649, 0.6927375256322623, 0.7226760082023239, 0.7473855092276145, 0.7526486671223515, 0.7761278195488722, 0.7382946001367054, 0.7304340396445659, 0.7565618591934381, 0.7343472317156527, 0.7213773069036228, 0.7578434723171565, 0.774794941900205, 0.7421223513328776, 0.7500000000000001, 0.753896103896104, 0.7748120300751878, 0.7500512645249486, 0.7565276828434724, 0.7565447710184553, 0.7605092276144908, 0.7514012303485988, 0.6393198906356801, 0.7526315789473684, 0.740909090909091, 0.7448393711551606, 0.7500854408749146, 0.7343984962406015, 0.6679596719070402, 0.7473855092276145, 0.7591934381408066, 0.6900888585099111, 0.6626452494873547, 0.7643198906356802, 0.7708817498291183, 0.6706254272043746, 0.7461722488038278, 0.7487354750512646, 0.746138072453862, 0.746120984278879, 0.650974025974026, 0.6848257006151742, 0.7526486671223513, 0.7682843472317158]}, {\"categories\": [\"0\", \"1\", \"2\", \"3\", \"4\", \"5\", \"6\", \"7\", \"8\", \"9\", \"10\", \"11\", \"12\", \"13\", \"14\", \"15\", \"16\", \"17\", \"18\", \"19\", \"20\", \"21\", \"22\", \"23\", \"24\", \"25\", \"26\", \"27\", \"28\", \"29\", \"30\", \"31\", \"32\", \"33\", \"34\", \"35\", \"38\", \"39\", \"40\", \"41\", \"42\", \"43\", \"44\", \"45\", \"46\", \"47\", \"48\", \"49\", \"50\", \"51\", \"52\", \"54\"], \"mode\": \"lines\", \"name\": \"precision_score_micro_max\", \"stepped\": true, \"type\": \"scatter\", \"data\": [0.7435577580314423, 0.7631237183868763, 0.7695317840054683, 0.7695317840054683, 0.7695317840054683, 0.7695317840054683, 0.7695317840054683, 0.7695317840054683, 0.7695317840054683, 0.7695317840054683, 0.7695317840054683, 0.7695317840054683, 0.7695317840054683, 0.7761278195488722, 0.7761278195488722, 0.7761278195488722, 0.7761278195488722, 0.7761278195488722, 0.7761278195488722, 0.7761278195488722, 0.7761278195488722, 0.7761278195488722, 0.7761278195488722, 0.7761278195488722, 0.7761278195488722, 0.7761278195488722, 0.7761278195488722, 0.7761278195488722, 0.7761278195488722, 0.7761278195488722, 0.7761278195488722, 0.7761278195488722, 0.7761278195488722, 0.7761278195488722, 0.7761278195488722, 0.7761278195488722, 0.7761278195488722, 0.7761278195488722, 0.7761278195488722, 0.7761278195488722, 0.7761278195488722, 0.7761278195488722, 0.7761278195488722, 0.7761278195488722, 0.7761278195488722, 0.7761278195488722, 0.7761278195488722, 0.7761278195488722, 0.7761278195488722, 0.7761278195488722, 0.7761278195488722, 0.7761278195488722]}], \"AUC_weighted\": [{\"categories\": [\"0\", \"1\", \"2\", \"3\", \"4\", \"5\", \"6\", \"7\", \"8\", \"9\", \"10\", \"11\", \"12\", \"13\", \"14\", \"15\", \"16\", \"17\", \"18\", \"19\", \"20\", \"21\", \"22\", \"23\", \"24\", \"25\", \"26\", \"27\", \"28\", \"29\", \"30\", \"31\", \"32\", \"33\", \"34\", \"35\", \"38\", \"39\", \"40\", \"41\", \"42\", \"43\", \"44\", \"45\", \"46\", \"47\", \"48\", \"49\", \"50\", \"51\", \"52\", \"54\"], \"mode\": \"markers\", \"name\": \"AUC_weighted\", \"stepped\": false, \"type\": \"scatter\", \"data\": [0.8047065842848043, 0.8341533851938084, 0.8315194632062761, 0.8329732302225255, 0.8307068393719875, 0.8173204797188536, 0.8237000494853793, 0.8182218396366769, 0.8311888154999348, 0.6956388000246898, 0.8306549979385034, 0.8198429417994653, 0.8288463134993197, 0.8303735005288825, 0.808209317383586, 0.7832984565292282, 0.8226950493454638, 0.8005264588396173, 0.8149734168013694, 0.8277262591655052, 0.8257067614339606, 0.8217549486395626, 0.8334897568607138, 0.830907729176289, 0.8307181095537957, 0.8124807341305921, 0.8122622248122824, 0.8079815591126203, 0.8241409884789952, 0.8176024852755791, 0.6773366263860157, 0.8224493101627857, 0.8020553725651436, 0.815343752814389, 0.8399654119918425, 0.796152596660877, 0.6919734115220375, 0.8339161820813141, 0.82824801299642, 0.716166277887598, 0.6771483272263844, 0.8295060792367893, 0.8367959411989953, 0.725229603107926, 0.8201591135790391, 0.8089322688233628, 0.8012956187043316, 0.7978680009060659, 0.6601486820292356, 0.6978597623952515, 0.8177004953850437, 0.8473817441643637]}, {\"categories\": [\"0\", \"1\", \"2\", \"3\", \"4\", \"5\", \"6\", \"7\", \"8\", \"9\", \"10\", \"11\", \"12\", \"13\", \"14\", \"15\", \"16\", \"17\", \"18\", \"19\", \"20\", \"21\", \"22\", \"23\", \"24\", \"25\", \"26\", \"27\", \"28\", \"29\", \"30\", \"31\", \"32\", \"33\", \"34\", \"35\", \"38\", \"39\", \"40\", \"41\", \"42\", \"43\", \"44\", \"45\", \"46\", \"47\", \"48\", \"49\", \"50\", \"51\", \"52\", \"54\"], \"mode\": \"lines\", \"name\": \"AUC_weighted_max\", \"stepped\": true, \"type\": \"scatter\", \"data\": [0.8047065842848043, 0.8341533851938084, 0.8341533851938084, 0.8341533851938084, 0.8341533851938084, 0.8341533851938084, 0.8341533851938084, 0.8341533851938084, 0.8341533851938084, 0.8341533851938084, 0.8341533851938084, 0.8341533851938084, 0.8341533851938084, 0.8341533851938084, 0.8341533851938084, 0.8341533851938084, 0.8341533851938084, 0.8341533851938084, 0.8341533851938084, 0.8341533851938084, 0.8341533851938084, 0.8341533851938084, 0.8341533851938084, 0.8341533851938084, 0.8341533851938084, 0.8341533851938084, 0.8341533851938084, 0.8341533851938084, 0.8341533851938084, 0.8341533851938084, 0.8341533851938084, 0.8341533851938084, 0.8341533851938084, 0.8341533851938084, 0.8399654119918425, 0.8399654119918425, 0.8399654119918425, 0.8399654119918425, 0.8399654119918425, 0.8399654119918425, 0.8399654119918425, 0.8399654119918425, 0.8399654119918425, 0.8399654119918425, 0.8399654119918425, 0.8399654119918425, 0.8399654119918425, 0.8399654119918425, 0.8399654119918425, 0.8399654119918425, 0.8399654119918425, 0.8473817441643637]}], \"average_precision_score_weighted\": [{\"categories\": [\"0\", \"1\", \"2\", \"3\", \"4\", \"5\", \"6\", \"7\", \"8\", \"9\", \"10\", \"11\", \"12\", \"13\", \"14\", \"15\", \"16\", \"17\", \"18\", \"19\", \"20\", \"21\", \"22\", \"23\", \"24\", \"25\", \"26\", \"27\", \"28\", \"29\", \"30\", \"31\", \"32\", \"33\", \"34\", \"35\", \"38\", \"39\", \"40\", \"41\", \"42\", \"43\", \"44\", \"45\", \"46\", \"47\", \"48\", \"49\", \"50\", \"51\", \"52\", \"54\"], \"mode\": \"markers\", \"name\": \"average_precision_score_weighted\", \"stepped\": false, \"type\": \"scatter\", \"data\": [0.8166952051856443, 0.8471851898851035, 0.8458915399371524, 0.8456150694789896, 0.8393495069277517, 0.8287425703499279, 0.834967959116115, 0.8341651519087009, 0.8452881764974929, 0.7134489812791877, 0.84339071407689, 0.8305855015344351, 0.8409824416316122, 0.8402493508860136, 0.8220646319345051, 0.7968346759961937, 0.8392910423959667, 0.817080868207752, 0.8293914166660432, 0.8421733268245746, 0.8325535039085089, 0.8400525510887272, 0.8504212439934248, 0.8406172073621276, 0.8409073407665157, 0.8247950991665534, 0.8162910341251048, 0.814660233341702, 0.83333251874084, 0.8276230610907799, 0.710530723214668, 0.8369219734900686, 0.814511122129414, 0.8308853155996856, 0.8511822453213951, 0.8117194550424658, 0.7247243604764739, 0.8465757733619974, 0.841934435007102, 0.738070896333314, 0.7065680578883908, 0.8414669733518949, 0.848606781070641, 0.7489703231706732, 0.8350946174120096, 0.8260184470540924, 0.8076065034807242, 0.8045013817526625, 0.6839281531187411, 0.722265898085419, 0.8298249965316034, 0.8563965039142104]}, {\"categories\": [\"0\", \"1\", \"2\", \"3\", \"4\", \"5\", \"6\", \"7\", \"8\", \"9\", \"10\", \"11\", \"12\", \"13\", \"14\", \"15\", \"16\", \"17\", \"18\", \"19\", \"20\", \"21\", \"22\", \"23\", \"24\", \"25\", \"26\", \"27\", \"28\", \"29\", \"30\", \"31\", \"32\", \"33\", \"34\", \"35\", \"38\", \"39\", \"40\", \"41\", \"42\", \"43\", \"44\", \"45\", \"46\", \"47\", \"48\", \"49\", \"50\", \"51\", \"52\", \"54\"], \"mode\": \"lines\", \"name\": \"average_precision_score_weighted_max\", \"stepped\": true, \"type\": \"scatter\", \"data\": [0.8166952051856443, 0.8471851898851035, 0.8471851898851035, 0.8471851898851035, 0.8471851898851035, 0.8471851898851035, 0.8471851898851035, 0.8471851898851035, 0.8471851898851035, 0.8471851898851035, 0.8471851898851035, 0.8471851898851035, 0.8471851898851035, 0.8471851898851035, 0.8471851898851035, 0.8471851898851035, 0.8471851898851035, 0.8471851898851035, 0.8471851898851035, 0.8471851898851035, 0.8471851898851035, 0.8471851898851035, 0.8504212439934248, 0.8504212439934248, 0.8504212439934248, 0.8504212439934248, 0.8504212439934248, 0.8504212439934248, 0.8504212439934248, 0.8504212439934248, 0.8504212439934248, 0.8504212439934248, 0.8504212439934248, 0.8504212439934248, 0.8511822453213951, 0.8511822453213951, 0.8511822453213951, 0.8511822453213951, 0.8511822453213951, 0.8511822453213951, 0.8511822453213951, 0.8511822453213951, 0.8511822453213951, 0.8511822453213951, 0.8511822453213951, 0.8511822453213951, 0.8511822453213951, 0.8511822453213951, 0.8511822453213951, 0.8511822453213951, 0.8511822453213951, 0.8563965039142104]}], \"accuracy\": [{\"categories\": [\"0\", \"1\", \"2\", \"3\", \"4\", \"5\", \"6\", \"7\", \"8\", \"9\", \"10\", \"11\", \"12\", \"13\", \"14\", \"15\", \"16\", \"17\", \"18\", \"19\", \"20\", \"21\", \"22\", \"23\", \"24\", \"25\", \"26\", \"27\", \"28\", \"29\", \"30\", \"31\", \"32\", \"33\", \"34\", \"35\", \"38\", \"39\", \"40\", \"41\", \"42\", \"43\", \"44\", \"45\", \"46\", \"47\", \"48\", \"49\", \"50\", \"51\", \"52\", \"54\"], \"mode\": \"markers\", \"name\": \"accuracy\", \"stepped\": false, \"type\": \"scatter\", \"data\": [0.7435577580314423, 0.7631237183868763, 0.7695317840054683, 0.7644053315105948, 0.7657211209842789, 0.7565618591934381, 0.7500170881749829, 0.7527341079972659, 0.7122351332877649, 0.6927375256322623, 0.7226760082023239, 0.7473855092276145, 0.7526486671223515, 0.7761278195488722, 0.7382946001367054, 0.7304340396445659, 0.7565618591934381, 0.7343472317156527, 0.7213773069036228, 0.7578434723171565, 0.774794941900205, 0.7421223513328776, 0.7500000000000001, 0.753896103896104, 0.7748120300751878, 0.7500512645249486, 0.7565276828434724, 0.7565447710184553, 0.7605092276144908, 0.7514012303485988, 0.6393198906356801, 0.7526315789473684, 0.740909090909091, 0.7448393711551606, 0.7500854408749146, 0.7343984962406015, 0.6679596719070402, 0.7473855092276145, 0.7591934381408066, 0.6900888585099111, 0.6626452494873547, 0.7643198906356802, 0.7708817498291183, 0.6706254272043746, 0.7461722488038278, 0.7487354750512646, 0.746138072453862, 0.746120984278879, 0.650974025974026, 0.6848257006151742, 0.7526486671223513, 0.7682843472317158]}, {\"categories\": [\"0\", \"1\", \"2\", \"3\", \"4\", \"5\", \"6\", \"7\", \"8\", \"9\", \"10\", \"11\", \"12\", \"13\", \"14\", \"15\", \"16\", \"17\", \"18\", \"19\", \"20\", \"21\", \"22\", \"23\", \"24\", \"25\", \"26\", \"27\", \"28\", \"29\", \"30\", \"31\", \"32\", \"33\", \"34\", \"35\", \"38\", \"39\", \"40\", \"41\", \"42\", \"43\", \"44\", \"45\", \"46\", \"47\", \"48\", \"49\", \"50\", \"51\", \"52\", \"54\"], \"mode\": \"lines\", \"name\": \"accuracy_max\", \"stepped\": true, \"type\": \"scatter\", \"data\": [0.7435577580314423, 0.7631237183868763, 0.7695317840054683, 0.7695317840054683, 0.7695317840054683, 0.7695317840054683, 0.7695317840054683, 0.7695317840054683, 0.7695317840054683, 0.7695317840054683, 0.7695317840054683, 0.7695317840054683, 0.7695317840054683, 0.7761278195488722, 0.7761278195488722, 0.7761278195488722, 0.7761278195488722, 0.7761278195488722, 0.7761278195488722, 0.7761278195488722, 0.7761278195488722, 0.7761278195488722, 0.7761278195488722, 0.7761278195488722, 0.7761278195488722, 0.7761278195488722, 0.7761278195488722, 0.7761278195488722, 0.7761278195488722, 0.7761278195488722, 0.7761278195488722, 0.7761278195488722, 0.7761278195488722, 0.7761278195488722, 0.7761278195488722, 0.7761278195488722, 0.7761278195488722, 0.7761278195488722, 0.7761278195488722, 0.7761278195488722, 0.7761278195488722, 0.7761278195488722, 0.7761278195488722, 0.7761278195488722, 0.7761278195488722, 0.7761278195488722, 0.7761278195488722, 0.7761278195488722, 0.7761278195488722, 0.7761278195488722, 0.7761278195488722, 0.7761278195488722]}], \"weighted_accuracy\": [{\"categories\": [\"0\", \"1\", \"2\", \"3\", \"4\", \"5\", \"6\", \"7\", \"8\", \"9\", \"10\", \"11\", \"12\", \"13\", \"14\", \"15\", \"16\", \"17\", \"18\", \"19\", \"20\", \"21\", \"22\", \"23\", \"24\", \"25\", \"26\", \"27\", \"28\", \"29\", \"30\", \"31\", \"32\", \"33\", \"34\", \"35\", \"38\", \"39\", \"40\", \"41\", \"42\", \"43\", \"44\", \"45\", \"46\", \"47\", \"48\", \"49\", \"50\", \"51\", \"52\", \"54\"], \"mode\": \"markers\", \"name\": \"weighted_accuracy\", \"stepped\": false, \"type\": \"scatter\", \"data\": [0.7716760438246812, 0.7931002205760166, 0.8067335114600315, 0.824161261617944, 0.7716746422287095, 0.7945741062990179, 0.7804342988433977, 0.8023175681316459, 0.7994744040046582, 0.7378149417872647, 0.8019817296829996, 0.8044471041563084, 0.7481634384860247, 0.8142154845915742, 0.7331632690807155, 0.7670787549450281, 0.8097764306974126, 0.736718722681462, 0.7116697243581823, 0.7974432279617149, 0.8054776705926823, 0.7394950444224342, 0.7492479593200752, 0.759142224097497, 0.814472569987662, 0.77467444868347, 0.7978216817770185, 0.8057447747020688, 0.784551137568684, 0.7799975039190645, 0.6811890745654375, 0.7889984498114516, 0.8157474840926664, 0.7975586207641401, 0.7504870993420139, 0.7616004352804902, 0.7306852644759169, 0.7393183658277114, 0.7934666596004897, 0.7448966613481395, 0.7019875727611479, 0.7990013748546723, 0.8190508115577353, 0.6766897506707997, 0.7769750298222144, 0.7836193229481958, 0.7860232596364166, 0.7844631969414884, 0.7681437801712667, 0.7502363024473039, 0.7780150021271156, 0.7955374799929864]}, {\"categories\": [\"0\", \"1\", \"2\", \"3\", \"4\", \"5\", \"6\", \"7\", \"8\", \"9\", \"10\", \"11\", \"12\", \"13\", \"14\", \"15\", \"16\", \"17\", \"18\", \"19\", \"20\", \"21\", \"22\", \"23\", \"24\", \"25\", \"26\", \"27\", \"28\", \"29\", \"30\", \"31\", \"32\", \"33\", \"34\", \"35\", \"38\", \"39\", \"40\", \"41\", \"42\", \"43\", \"44\", \"45\", \"46\", \"47\", \"48\", \"49\", \"50\", \"51\", \"52\", \"54\"], \"mode\": \"lines\", \"name\": \"weighted_accuracy_max\", \"stepped\": true, \"type\": \"scatter\", \"data\": [0.7716760438246812, 0.7931002205760166, 0.8067335114600315, 0.824161261617944, 0.824161261617944, 0.824161261617944, 0.824161261617944, 0.824161261617944, 0.824161261617944, 0.824161261617944, 0.824161261617944, 0.824161261617944, 0.824161261617944, 0.824161261617944, 0.824161261617944, 0.824161261617944, 0.824161261617944, 0.824161261617944, 0.824161261617944, 0.824161261617944, 0.824161261617944, 0.824161261617944, 0.824161261617944, 0.824161261617944, 0.824161261617944, 0.824161261617944, 0.824161261617944, 0.824161261617944, 0.824161261617944, 0.824161261617944, 0.824161261617944, 0.824161261617944, 0.824161261617944, 0.824161261617944, 0.824161261617944, 0.824161261617944, 0.824161261617944, 0.824161261617944, 0.824161261617944, 0.824161261617944, 0.824161261617944, 0.824161261617944, 0.824161261617944, 0.824161261617944, 0.824161261617944, 0.824161261617944, 0.824161261617944, 0.824161261617944, 0.824161261617944, 0.824161261617944, 0.824161261617944, 0.824161261617944]}], \"average_precision_score_micro\": [{\"categories\": [\"0\", \"1\", \"2\", \"3\", \"4\", \"5\", \"6\", \"7\", \"8\", \"9\", \"10\", \"11\", \"12\", \"13\", \"14\", \"15\", \"16\", \"17\", \"18\", \"19\", \"20\", \"21\", \"22\", \"23\", \"24\", \"25\", \"26\", \"27\", \"28\", \"29\", \"30\", \"31\", \"32\", \"33\", \"34\", \"35\", \"38\", \"39\", \"40\", \"41\", \"42\", \"43\", \"44\", \"45\", \"46\", \"47\", \"48\", \"49\", \"50\", \"51\", \"52\", \"54\"], \"mode\": \"markers\", \"name\": \"average_precision_score_micro\", \"stepped\": false, \"type\": \"scatter\", \"data\": [0.8279338939151699, 0.8541946711031742, 0.8519341980087178, 0.8446766608524028, 0.8429526739957559, 0.8381704399862967, 0.8398399341779472, 0.8405317967597444, 0.8247017983802536, 0.7328416462128349, 0.8254900905672302, 0.8317393549974043, 0.8304095289216923, 0.8437172774348418, 0.8165866913532417, 0.805056186153547, 0.8379355488241478, 0.8031196362277928, 0.8156932930981732, 0.8501334209825904, 0.8416567358100053, 0.8233682797398048, 0.8427014364660538, 0.820742565184165, 0.8454207741245604, 0.8364751371229646, 0.8289598554485543, 0.8198346330941856, 0.8439523675198618, 0.8376170128282231, 0.72498276097759, 0.8449887982021819, 0.8114020447547274, 0.837711513891678, 0.8420385554112579, 0.8193892053334316, 0.7436457985968591, 0.8333248894451932, 0.8492797176586961, 0.7567913944651805, 0.7171478641891893, 0.8525459724961848, 0.8528291617543164, 0.7029018951790004, 0.8442655779924737, 0.8369247205471005, 0.8177453280059032, 0.8132190030445203, 0.7044317156107127, 0.7421395681554717, 0.8402682261121891, 0.8629466507965724]}, {\"categories\": [\"0\", \"1\", \"2\", \"3\", \"4\", \"5\", \"6\", \"7\", \"8\", \"9\", \"10\", \"11\", \"12\", \"13\", \"14\", \"15\", \"16\", \"17\", \"18\", \"19\", \"20\", \"21\", \"22\", \"23\", \"24\", \"25\", \"26\", \"27\", \"28\", \"29\", \"30\", \"31\", \"32\", \"33\", \"34\", \"35\", \"38\", \"39\", \"40\", \"41\", \"42\", \"43\", \"44\", \"45\", \"46\", \"47\", \"48\", \"49\", \"50\", \"51\", \"52\", \"54\"], \"mode\": \"lines\", \"name\": \"average_precision_score_micro_max\", \"stepped\": true, \"type\": \"scatter\", \"data\": [0.8279338939151699, 0.8541946711031742, 0.8541946711031742, 0.8541946711031742, 0.8541946711031742, 0.8541946711031742, 0.8541946711031742, 0.8541946711031742, 0.8541946711031742, 0.8541946711031742, 0.8541946711031742, 0.8541946711031742, 0.8541946711031742, 0.8541946711031742, 0.8541946711031742, 0.8541946711031742, 0.8541946711031742, 0.8541946711031742, 0.8541946711031742, 0.8541946711031742, 0.8541946711031742, 0.8541946711031742, 0.8541946711031742, 0.8541946711031742, 0.8541946711031742, 0.8541946711031742, 0.8541946711031742, 0.8541946711031742, 0.8541946711031742, 0.8541946711031742, 0.8541946711031742, 0.8541946711031742, 0.8541946711031742, 0.8541946711031742, 0.8541946711031742, 0.8541946711031742, 0.8541946711031742, 0.8541946711031742, 0.8541946711031742, 0.8541946711031742, 0.8541946711031742, 0.8541946711031742, 0.8541946711031742, 0.8541946711031742, 0.8541946711031742, 0.8541946711031742, 0.8541946711031742, 0.8541946711031742, 0.8541946711031742, 0.8541946711031742, 0.8541946711031742, 0.8629466507965724]}], \"AUC_micro\": [{\"categories\": [\"0\", \"1\", \"2\", \"3\", \"4\", \"5\", \"6\", \"7\", \"8\", \"9\", \"10\", \"11\", \"12\", \"13\", \"14\", \"15\", \"16\", \"17\", \"18\", \"19\", \"20\", \"21\", \"22\", \"23\", \"24\", \"25\", \"26\", \"27\", \"28\", \"29\", \"30\", \"31\", \"32\", \"33\", \"34\", \"35\", \"38\", \"39\", \"40\", \"41\", \"42\", \"43\", \"44\", \"45\", \"46\", \"47\", \"48\", \"49\", \"50\", \"51\", \"52\", \"54\"], \"mode\": \"markers\", \"name\": \"AUC_micro\", \"stepped\": false, \"type\": \"scatter\", \"data\": [0.8286307728947673, 0.8526077629604989, 0.8508799271293876, 0.8403055705581608, 0.8431530556179798, 0.8358953234232042, 0.8432178429280185, 0.8372278681853457, 0.8164473158600222, 0.7423341226442729, 0.8183986645527008, 0.828116527453911, 0.8264552543276416, 0.850797604875608, 0.8135612860446025, 0.8144503967540178, 0.8346197489778632, 0.8064286520221513, 0.8107044130007489, 0.8473485150224096, 0.8436439668814115, 0.8187299567270877, 0.836577904323974, 0.8313689134910849, 0.851601487874287, 0.8356892403833172, 0.8312237092646175, 0.831188020325, 0.8429348017795062, 0.8379677464493274, 0.7238360914636682, 0.8439682246379012, 0.8077213263227041, 0.8346962603177304, 0.8429356953170224, 0.8204095386122672, 0.744114353062486, 0.8313576333099574, 0.8477465976661034, 0.7594252206044846, 0.7236152738149356, 0.8480096481027337, 0.8508436220576918, 0.7172403829666754, 0.8416640249882146, 0.8343469805907299, 0.8266101750445835, 0.8249656601268287, 0.7238267034796336, 0.7490105911644206, 0.8399846621073281, 0.8621462409051898]}, {\"categories\": [\"0\", \"1\", \"2\", \"3\", \"4\", \"5\", \"6\", \"7\", \"8\", \"9\", \"10\", \"11\", \"12\", \"13\", \"14\", \"15\", \"16\", \"17\", \"18\", \"19\", \"20\", \"21\", \"22\", \"23\", \"24\", \"25\", \"26\", \"27\", \"28\", \"29\", \"30\", \"31\", \"32\", \"33\", \"34\", \"35\", \"38\", \"39\", \"40\", \"41\", \"42\", \"43\", \"44\", \"45\", \"46\", \"47\", \"48\", \"49\", \"50\", \"51\", \"52\", \"54\"], \"mode\": \"lines\", \"name\": \"AUC_micro_max\", \"stepped\": true, \"type\": \"scatter\", \"data\": [0.8286307728947673, 0.8526077629604989, 0.8526077629604989, 0.8526077629604989, 0.8526077629604989, 0.8526077629604989, 0.8526077629604989, 0.8526077629604989, 0.8526077629604989, 0.8526077629604989, 0.8526077629604989, 0.8526077629604989, 0.8526077629604989, 0.8526077629604989, 0.8526077629604989, 0.8526077629604989, 0.8526077629604989, 0.8526077629604989, 0.8526077629604989, 0.8526077629604989, 0.8526077629604989, 0.8526077629604989, 0.8526077629604989, 0.8526077629604989, 0.8526077629604989, 0.8526077629604989, 0.8526077629604989, 0.8526077629604989, 0.8526077629604989, 0.8526077629604989, 0.8526077629604989, 0.8526077629604989, 0.8526077629604989, 0.8526077629604989, 0.8526077629604989, 0.8526077629604989, 0.8526077629604989, 0.8526077629604989, 0.8526077629604989, 0.8526077629604989, 0.8526077629604989, 0.8526077629604989, 0.8526077629604989, 0.8526077629604989, 0.8526077629604989, 0.8526077629604989, 0.8526077629604989, 0.8526077629604989, 0.8526077629604989, 0.8526077629604989, 0.8526077629604989, 0.8621462409051898]}], \"AUC_macro\": [{\"categories\": [\"0\", \"1\", \"2\", \"3\", \"4\", \"5\", \"6\", \"7\", \"8\", \"9\", \"10\", \"11\", \"12\", \"13\", \"14\", \"15\", \"16\", \"17\", \"18\", \"19\", \"20\", \"21\", \"22\", \"23\", \"24\", \"25\", \"26\", \"27\", \"28\", \"29\", \"30\", \"31\", \"32\", \"33\", \"34\", \"35\", \"38\", \"39\", \"40\", \"41\", \"42\", \"43\", \"44\", \"45\", \"46\", \"47\", \"48\", \"49\", \"50\", \"51\", \"52\", \"54\"], \"mode\": \"markers\", \"name\": \"AUC_macro\", \"stepped\": false, \"type\": \"scatter\", \"data\": [0.8047065842848043, 0.8341533851938084, 0.8315194632062763, 0.8329732302225255, 0.8307068393719877, 0.8173204797188536, 0.8237000494853793, 0.8182218396366767, 0.8311888154999348, 0.6956388000246898, 0.8306549979385034, 0.8198429417994653, 0.8288463134993197, 0.8303735005288825, 0.8082093173835861, 0.7832984565292284, 0.8226950493454638, 0.8005264588396173, 0.8149734168013694, 0.827726259165505, 0.8257067614339606, 0.8217549486395626, 0.8334897568607138, 0.830907729176289, 0.8307181095537954, 0.8124807341305921, 0.8122622248122824, 0.8079815591126203, 0.8241409884789952, 0.8176024852755791, 0.6773366263860157, 0.8224493101627859, 0.8020553725651436, 0.815343752814389, 0.8399654119918427, 0.7961525966608771, 0.6919734115220374, 0.8339161820813141, 0.82824801299642, 0.716166277887598, 0.6771483272263844, 0.8295060792367895, 0.8367959411989953, 0.7252296031079261, 0.8201591135790391, 0.8089322688233628, 0.8012956187043319, 0.7978680009060659, 0.6601486820292356, 0.6978597623952514, 0.8177004953850437, 0.847381744164364]}, {\"categories\": [\"0\", \"1\", \"2\", \"3\", \"4\", \"5\", \"6\", \"7\", \"8\", \"9\", \"10\", \"11\", \"12\", \"13\", \"14\", \"15\", \"16\", \"17\", \"18\", \"19\", \"20\", \"21\", \"22\", \"23\", \"24\", \"25\", \"26\", \"27\", \"28\", \"29\", \"30\", \"31\", \"32\", \"33\", \"34\", \"35\", \"38\", \"39\", \"40\", \"41\", \"42\", \"43\", \"44\", \"45\", \"46\", \"47\", \"48\", \"49\", \"50\", \"51\", \"52\", \"54\"], \"mode\": \"lines\", \"name\": \"AUC_macro_max\", \"stepped\": true, \"type\": \"scatter\", \"data\": [0.8047065842848043, 0.8341533851938084, 0.8341533851938084, 0.8341533851938084, 0.8341533851938084, 0.8341533851938084, 0.8341533851938084, 0.8341533851938084, 0.8341533851938084, 0.8341533851938084, 0.8341533851938084, 0.8341533851938084, 0.8341533851938084, 0.8341533851938084, 0.8341533851938084, 0.8341533851938084, 0.8341533851938084, 0.8341533851938084, 0.8341533851938084, 0.8341533851938084, 0.8341533851938084, 0.8341533851938084, 0.8341533851938084, 0.8341533851938084, 0.8341533851938084, 0.8341533851938084, 0.8341533851938084, 0.8341533851938084, 0.8341533851938084, 0.8341533851938084, 0.8341533851938084, 0.8341533851938084, 0.8341533851938084, 0.8341533851938084, 0.8399654119918427, 0.8399654119918427, 0.8399654119918427, 0.8399654119918427, 0.8399654119918427, 0.8399654119918427, 0.8399654119918427, 0.8399654119918427, 0.8399654119918427, 0.8399654119918427, 0.8399654119918427, 0.8399654119918427, 0.8399654119918427, 0.8399654119918427, 0.8399654119918427, 0.8399654119918427, 0.8399654119918427, 0.847381744164364]}], \"f1_score_weighted\": [{\"categories\": [\"0\", \"1\", \"2\", \"3\", \"4\", \"5\", \"6\", \"7\", \"8\", \"9\", \"10\", \"11\", \"12\", \"13\", \"14\", \"15\", \"16\", \"17\", \"18\", \"19\", \"20\", \"21\", \"22\", \"23\", \"24\", \"25\", \"26\", \"27\", \"28\", \"29\", \"30\", \"31\", \"32\", \"33\", \"34\", \"35\", \"38\", \"39\", \"40\", \"41\", \"42\", \"43\", \"44\", \"45\", \"46\", \"47\", \"48\", \"49\", \"50\", \"51\", \"52\", \"54\"], \"mode\": \"markers\", \"name\": \"f1_score_weighted\", \"stepped\": false, \"type\": \"scatter\", \"data\": [0.7400557071711693, 0.7593331990784715, 0.7623301086946274, 0.7428277981501024, 0.7689241798678663, 0.748626334284807, 0.7452525058100968, 0.7388189232613543, 0.6485882633349076, 0.681800753991955, 0.6728308955902027, 0.7245823698499432, 0.7580715901783539, 0.7683053592874656, 0.7446097284867563, 0.7239624101496224, 0.7394667315127996, 0.7388751238604054, 0.7279595430908161, 0.7500986552839433, 0.7705706867336157, 0.7475322075412499, 0.7552152555640534, 0.7574596071272994, 0.7662507568929506, 0.7489065672188062, 0.7468531955926119, 0.7428509075861381, 0.7594741434512837, 0.7488556085002246, 0.6322911943466123, 0.74609785282598, 0.7030369184789136, 0.7294294190235096, 0.7546478211904237, 0.7325762082727041, 0.6421361442879172, 0.7535299751861673, 0.7539388330658345, 0.6706695799802673, 0.6557823201962573, 0.7582713686010031, 0.757567765842199, 0.6751862609927722, 0.742889256632877, 0.7437269291509464, 0.7368343179774601, 0.7374385672083411, 0.5146909419914976, 0.655599120318455, 0.7509509710556509, 0.7653596664080272]}, {\"categories\": [\"0\", \"1\", \"2\", \"3\", \"4\", \"5\", \"6\", \"7\", \"8\", \"9\", \"10\", \"11\", \"12\", \"13\", \"14\", \"15\", \"16\", \"17\", \"18\", \"19\", \"20\", \"21\", \"22\", \"23\", \"24\", \"25\", \"26\", \"27\", \"28\", \"29\", \"30\", \"31\", \"32\", \"33\", \"34\", \"35\", \"38\", \"39\", \"40\", \"41\", \"42\", \"43\", \"44\", \"45\", \"46\", \"47\", \"48\", \"49\", \"50\", \"51\", \"52\", \"54\"], \"mode\": \"lines\", \"name\": \"f1_score_weighted_max\", \"stepped\": true, \"type\": \"scatter\", \"data\": [0.7400557071711693, 0.7593331990784715, 0.7623301086946274, 0.7623301086946274, 0.7689241798678663, 0.7689241798678663, 0.7689241798678663, 0.7689241798678663, 0.7689241798678663, 0.7689241798678663, 0.7689241798678663, 0.7689241798678663, 0.7689241798678663, 0.7689241798678663, 0.7689241798678663, 0.7689241798678663, 0.7689241798678663, 0.7689241798678663, 0.7689241798678663, 0.7689241798678663, 0.7705706867336157, 0.7705706867336157, 0.7705706867336157, 0.7705706867336157, 0.7705706867336157, 0.7705706867336157, 0.7705706867336157, 0.7705706867336157, 0.7705706867336157, 0.7705706867336157, 0.7705706867336157, 0.7705706867336157, 0.7705706867336157, 0.7705706867336157, 0.7705706867336157, 0.7705706867336157, 0.7705706867336157, 0.7705706867336157, 0.7705706867336157, 0.7705706867336157, 0.7705706867336157, 0.7705706867336157, 0.7705706867336157, 0.7705706867336157, 0.7705706867336157, 0.7705706867336157, 0.7705706867336157, 0.7705706867336157, 0.7705706867336157, 0.7705706867336157, 0.7705706867336157, 0.7705706867336157]}], \"recall_score_macro\": [{\"categories\": [\"0\", \"1\", \"2\", \"3\", \"4\", \"5\", \"6\", \"7\", \"8\", \"9\", \"10\", \"11\", \"12\", \"13\", \"14\", \"15\", \"16\", \"17\", \"18\", \"19\", \"20\", \"21\", \"22\", \"23\", \"24\", \"25\", \"26\", \"27\", \"28\", \"29\", \"30\", \"31\", \"32\", \"33\", \"34\", \"35\", \"38\", \"39\", \"40\", \"41\", \"42\", \"43\", \"44\", \"45\", \"46\", \"47\", \"48\", \"49\", \"50\", \"51\", \"52\", \"54\"], \"mode\": \"markers\", \"name\": \"recall_score_macro\", \"stepped\": false, \"type\": \"scatter\", \"data\": [0.705894562036278, 0.7228965630531063, 0.7202267763337782, 0.686056582371466, 0.7571222132143641, 0.7083384771693152, 0.711138352350427, 0.6883746491312638, 0.6012318930996041, 0.6332376010314558, 0.6215022103688678, 0.6736967581437611, 0.7587654503926144, 0.7265717833856742, 0.7439495465594939, 0.6830729063594672, 0.6880430979930565, 0.7321631679803683, 0.7330336688813297, 0.7054050866616683, 0.7342827879177417, 0.744864638199833, 0.750218365431353, 0.7459278379560365, 0.7234675249740383, 0.7173618585485062, 0.7035463130878934, 0.6927377145221258, 0.7294561110258116, 0.7136913780822349, 0.5849324524885852, 0.704780789768822, 0.6438206564414657, 0.675692541589639, 0.749275870390084, 0.6990540598307448, 0.5863304185460696, 0.7569042599777338, 0.7144857281282214, 0.6204023225502616, 0.6118371557562053, 0.719482852909911, 0.7079891691679248, 0.6616347866463934, 0.7060182622133635, 0.7016667175986403, 0.6950102010597662, 0.6974508534734507, 0.5, 0.6007918123113654, 0.7204942923301033, 0.7320188849853091]}, {\"categories\": [\"0\", \"1\", \"2\", \"3\", \"4\", \"5\", \"6\", \"7\", \"8\", \"9\", \"10\", \"11\", \"12\", \"13\", \"14\", \"15\", \"16\", \"17\", \"18\", \"19\", \"20\", \"21\", \"22\", \"23\", \"24\", \"25\", \"26\", \"27\", \"28\", \"29\", \"30\", \"31\", \"32\", \"33\", \"34\", \"35\", \"38\", \"39\", \"40\", \"41\", \"42\", \"43\", \"44\", \"45\", \"46\", \"47\", \"48\", \"49\", \"50\", \"51\", \"52\", \"54\"], \"mode\": \"lines\", \"name\": \"recall_score_macro_max\", \"stepped\": true, \"type\": \"scatter\", \"data\": [0.705894562036278, 0.7228965630531063, 0.7228965630531063, 0.7228965630531063, 0.7571222132143641, 0.7571222132143641, 0.7571222132143641, 0.7571222132143641, 0.7571222132143641, 0.7571222132143641, 0.7571222132143641, 0.7571222132143641, 0.7587654503926144, 0.7587654503926144, 0.7587654503926144, 0.7587654503926144, 0.7587654503926144, 0.7587654503926144, 0.7587654503926144, 0.7587654503926144, 0.7587654503926144, 0.7587654503926144, 0.7587654503926144, 0.7587654503926144, 0.7587654503926144, 0.7587654503926144, 0.7587654503926144, 0.7587654503926144, 0.7587654503926144, 0.7587654503926144, 0.7587654503926144, 0.7587654503926144, 0.7587654503926144, 0.7587654503926144, 0.7587654503926144, 0.7587654503926144, 0.7587654503926144, 0.7587654503926144, 0.7587654503926144, 0.7587654503926144, 0.7587654503926144, 0.7587654503926144, 0.7587654503926144, 0.7587654503926144, 0.7587654503926144, 0.7587654503926144, 0.7587654503926144, 0.7587654503926144, 0.7587654503926144, 0.7587654503926144, 0.7587654503926144, 0.7587654503926144]}], \"average_precision_score_macro\": [{\"categories\": [\"0\", \"1\", \"2\", \"3\", \"4\", \"5\", \"6\", \"7\", \"8\", \"9\", \"10\", \"11\", \"12\", \"13\", \"14\", \"15\", \"16\", \"17\", \"18\", \"19\", \"20\", \"21\", \"22\", \"23\", \"24\", \"25\", \"26\", \"27\", \"28\", \"29\", \"30\", \"31\", \"32\", \"33\", \"34\", \"35\", \"38\", \"39\", \"40\", \"41\", \"42\", \"43\", \"44\", \"45\", \"46\", \"47\", \"48\", \"49\", \"50\", \"51\", \"52\", \"54\"], \"mode\": \"markers\", \"name\": \"average_precision_score_macro\", \"stepped\": false, \"type\": \"scatter\", \"data\": [0.7830906870873722, 0.8192234255073597, 0.8176683034797719, 0.8150385768336115, 0.806235129239046, 0.7946843436682699, 0.8054623052777924, 0.8034017395207004, 0.8175492351742564, 0.6683699362476203, 0.8139981668245111, 0.7984571263781867, 0.8100627198002028, 0.8124351444500469, 0.7864329218534888, 0.7672745293661871, 0.8090506197555328, 0.7840848751230908, 0.7964709735768137, 0.8122698991293298, 0.8015849413175413, 0.8116340792497775, 0.8214504822370611, 0.8121873309536995, 0.8127527617360185, 0.7916380431112333, 0.7815915308841523, 0.7829356739402884, 0.800904047279329, 0.7936394963490457, 0.6683064031816741, 0.8058744988733805, 0.7784182531076761, 0.7958216630936281, 0.8239510455695799, 0.7770482902454573, 0.6813819660196024, 0.8165042210906032, 0.8114885617763236, 0.6991403942351161, 0.6634078883816807, 0.8102020305220738, 0.82005391025466, 0.7102594010274197, 0.8026586457649152, 0.7910762932395594, 0.7770328320448313, 0.7754107591329503, 0.6403461727668928, 0.679054959975584, 0.7986152955812404, 0.8287844745317304]}, {\"categories\": [\"0\", \"1\", \"2\", \"3\", \"4\", \"5\", \"6\", \"7\", \"8\", \"9\", \"10\", \"11\", \"12\", \"13\", \"14\", \"15\", \"16\", \"17\", \"18\", \"19\", \"20\", \"21\", \"22\", \"23\", \"24\", \"25\", \"26\", \"27\", \"28\", \"29\", \"30\", \"31\", \"32\", \"33\", \"34\", \"35\", \"38\", \"39\", \"40\", \"41\", \"42\", \"43\", \"44\", \"45\", \"46\", \"47\", \"48\", \"49\", \"50\", \"51\", \"52\", \"54\"], \"mode\": \"lines\", \"name\": \"average_precision_score_macro_max\", \"stepped\": true, \"type\": \"scatter\", \"data\": [0.7830906870873722, 0.8192234255073597, 0.8192234255073597, 0.8192234255073597, 0.8192234255073597, 0.8192234255073597, 0.8192234255073597, 0.8192234255073597, 0.8192234255073597, 0.8192234255073597, 0.8192234255073597, 0.8192234255073597, 0.8192234255073597, 0.8192234255073597, 0.8192234255073597, 0.8192234255073597, 0.8192234255073597, 0.8192234255073597, 0.8192234255073597, 0.8192234255073597, 0.8192234255073597, 0.8192234255073597, 0.8214504822370611, 0.8214504822370611, 0.8214504822370611, 0.8214504822370611, 0.8214504822370611, 0.8214504822370611, 0.8214504822370611, 0.8214504822370611, 0.8214504822370611, 0.8214504822370611, 0.8214504822370611, 0.8214504822370611, 0.8239510455695799, 0.8239510455695799, 0.8239510455695799, 0.8239510455695799, 0.8239510455695799, 0.8239510455695799, 0.8239510455695799, 0.8239510455695799, 0.8239510455695799, 0.8239510455695799, 0.8239510455695799, 0.8239510455695799, 0.8239510455695799, 0.8239510455695799, 0.8239510455695799, 0.8239510455695799, 0.8239510455695799, 0.8287844745317304]}], \"recall_score_micro\": [{\"categories\": [\"0\", \"1\", \"2\", \"3\", \"4\", \"5\", \"6\", \"7\", \"8\", \"9\", \"10\", \"11\", \"12\", \"13\", \"14\", \"15\", \"16\", \"17\", \"18\", \"19\", \"20\", \"21\", \"22\", \"23\", \"24\", \"25\", \"26\", \"27\", \"28\", \"29\", \"30\", \"31\", \"32\", \"33\", \"34\", \"35\", \"38\", \"39\", \"40\", \"41\", \"42\", \"43\", \"44\", \"45\", \"46\", \"47\", \"48\", \"49\", \"50\", \"51\", \"52\", \"54\"], \"mode\": \"markers\", \"name\": \"recall_score_micro\", \"stepped\": false, \"type\": \"scatter\", \"data\": [0.7435577580314423, 0.7631237183868763, 0.7695317840054683, 0.7644053315105948, 0.7657211209842789, 0.7565618591934381, 0.7500170881749829, 0.7527341079972659, 0.7122351332877649, 0.6927375256322623, 0.7226760082023239, 0.7473855092276145, 0.7526486671223515, 0.7761278195488722, 0.7382946001367054, 0.7304340396445659, 0.7565618591934381, 0.7343472317156527, 0.7213773069036228, 0.7578434723171565, 0.774794941900205, 0.7421223513328776, 0.7500000000000001, 0.753896103896104, 0.7748120300751878, 0.7500512645249486, 0.7565276828434724, 0.7565447710184553, 0.7605092276144908, 0.7514012303485988, 0.6393198906356801, 0.7526315789473684, 0.740909090909091, 0.7448393711551606, 0.7500854408749146, 0.7343984962406015, 0.6679596719070402, 0.7473855092276145, 0.7591934381408066, 0.6900888585099111, 0.6626452494873547, 0.7643198906356802, 0.7708817498291183, 0.6706254272043746, 0.7461722488038278, 0.7487354750512646, 0.746138072453862, 0.746120984278879, 0.650974025974026, 0.6848257006151742, 0.7526486671223513, 0.7682843472317158]}, {\"categories\": [\"0\", \"1\", \"2\", \"3\", \"4\", \"5\", \"6\", \"7\", \"8\", \"9\", \"10\", \"11\", \"12\", \"13\", \"14\", \"15\", \"16\", \"17\", \"18\", \"19\", \"20\", \"21\", \"22\", \"23\", \"24\", \"25\", \"26\", \"27\", \"28\", \"29\", \"30\", \"31\", \"32\", \"33\", \"34\", \"35\", \"38\", \"39\", \"40\", \"41\", \"42\", \"43\", \"44\", \"45\", \"46\", \"47\", \"48\", \"49\", \"50\", \"51\", \"52\", \"54\"], \"mode\": \"lines\", \"name\": \"recall_score_micro_max\", \"stepped\": true, \"type\": \"scatter\", \"data\": [0.7435577580314423, 0.7631237183868763, 0.7695317840054683, 0.7695317840054683, 0.7695317840054683, 0.7695317840054683, 0.7695317840054683, 0.7695317840054683, 0.7695317840054683, 0.7695317840054683, 0.7695317840054683, 0.7695317840054683, 0.7695317840054683, 0.7761278195488722, 0.7761278195488722, 0.7761278195488722, 0.7761278195488722, 0.7761278195488722, 0.7761278195488722, 0.7761278195488722, 0.7761278195488722, 0.7761278195488722, 0.7761278195488722, 0.7761278195488722, 0.7761278195488722, 0.7761278195488722, 0.7761278195488722, 0.7761278195488722, 0.7761278195488722, 0.7761278195488722, 0.7761278195488722, 0.7761278195488722, 0.7761278195488722, 0.7761278195488722, 0.7761278195488722, 0.7761278195488722, 0.7761278195488722, 0.7761278195488722, 0.7761278195488722, 0.7761278195488722, 0.7761278195488722, 0.7761278195488722, 0.7761278195488722, 0.7761278195488722, 0.7761278195488722, 0.7761278195488722, 0.7761278195488722, 0.7761278195488722, 0.7761278195488722, 0.7761278195488722, 0.7761278195488722, 0.7761278195488722]}], \"recall_score_weighted\": [{\"categories\": [\"0\", \"1\", \"2\", \"3\", \"4\", \"5\", \"6\", \"7\", \"8\", \"9\", \"10\", \"11\", \"12\", \"13\", \"14\", \"15\", \"16\", \"17\", \"18\", \"19\", \"20\", \"21\", \"22\", \"23\", \"24\", \"25\", \"26\", \"27\", \"28\", \"29\", \"30\", \"31\", \"32\", \"33\", \"34\", \"35\", \"38\", \"39\", \"40\", \"41\", \"42\", \"43\", \"44\", \"45\", \"46\", \"47\", \"48\", \"49\", \"50\", \"51\", \"52\", \"54\"], \"mode\": \"markers\", \"name\": \"recall_score_weighted\", \"stepped\": false, \"type\": \"scatter\", \"data\": [0.7435577580314423, 0.7631237183868763, 0.7695317840054683, 0.7644053315105948, 0.7657211209842789, 0.7565618591934381, 0.7500170881749829, 0.7527341079972659, 0.7122351332877649, 0.6927375256322623, 0.7226760082023239, 0.7473855092276145, 0.7526486671223515, 0.7761278195488722, 0.7382946001367054, 0.7304340396445659, 0.7565618591934381, 0.7343472317156527, 0.7213773069036228, 0.7578434723171565, 0.774794941900205, 0.7421223513328776, 0.7500000000000001, 0.753896103896104, 0.7748120300751878, 0.7500512645249486, 0.7565276828434724, 0.7565447710184553, 0.7605092276144908, 0.7514012303485988, 0.6393198906356801, 0.7526315789473684, 0.740909090909091, 0.7448393711551606, 0.7500854408749146, 0.7343984962406015, 0.6679596719070402, 0.7473855092276145, 0.7591934381408066, 0.6900888585099111, 0.6626452494873547, 0.7643198906356802, 0.7708817498291183, 0.6706254272043746, 0.7461722488038278, 0.7487354750512646, 0.746138072453862, 0.746120984278879, 0.650974025974026, 0.6848257006151742, 0.7526486671223513, 0.7682843472317158]}, {\"categories\": [\"0\", \"1\", \"2\", \"3\", \"4\", \"5\", \"6\", \"7\", \"8\", \"9\", \"10\", \"11\", \"12\", \"13\", \"14\", \"15\", \"16\", \"17\", \"18\", \"19\", \"20\", \"21\", \"22\", \"23\", \"24\", \"25\", \"26\", \"27\", \"28\", \"29\", \"30\", \"31\", \"32\", \"33\", \"34\", \"35\", \"38\", \"39\", \"40\", \"41\", \"42\", \"43\", \"44\", \"45\", \"46\", \"47\", \"48\", \"49\", \"50\", \"51\", \"52\", \"54\"], \"mode\": \"lines\", \"name\": \"recall_score_weighted_max\", \"stepped\": true, \"type\": \"scatter\", \"data\": [0.7435577580314423, 0.7631237183868763, 0.7695317840054683, 0.7695317840054683, 0.7695317840054683, 0.7695317840054683, 0.7695317840054683, 0.7695317840054683, 0.7695317840054683, 0.7695317840054683, 0.7695317840054683, 0.7695317840054683, 0.7695317840054683, 0.7761278195488722, 0.7761278195488722, 0.7761278195488722, 0.7761278195488722, 0.7761278195488722, 0.7761278195488722, 0.7761278195488722, 0.7761278195488722, 0.7761278195488722, 0.7761278195488722, 0.7761278195488722, 0.7761278195488722, 0.7761278195488722, 0.7761278195488722, 0.7761278195488722, 0.7761278195488722, 0.7761278195488722, 0.7761278195488722, 0.7761278195488722, 0.7761278195488722, 0.7761278195488722, 0.7761278195488722, 0.7761278195488722, 0.7761278195488722, 0.7761278195488722, 0.7761278195488722, 0.7761278195488722, 0.7761278195488722, 0.7761278195488722, 0.7761278195488722, 0.7761278195488722, 0.7761278195488722, 0.7761278195488722, 0.7761278195488722, 0.7761278195488722, 0.7761278195488722, 0.7761278195488722, 0.7761278195488722, 0.7761278195488722]}], \"f1_score_macro\": [{\"categories\": [\"0\", \"1\", \"2\", \"3\", \"4\", \"5\", \"6\", \"7\", \"8\", \"9\", \"10\", \"11\", \"12\", \"13\", \"14\", \"15\", \"16\", \"17\", \"18\", \"19\", \"20\", \"21\", \"22\", \"23\", \"24\", \"25\", \"26\", \"27\", \"28\", \"29\", \"30\", \"31\", \"32\", \"33\", \"34\", \"35\", \"38\", \"39\", \"40\", \"41\", \"42\", \"43\", \"44\", \"45\", \"46\", \"47\", \"48\", \"49\", \"50\", \"51\", \"52\", \"54\"], \"mode\": \"markers\", \"name\": \"f1_score_macro\", \"stepped\": false, \"type\": \"scatter\", \"data\": [0.7070632412698734, 0.7273272940233336, 0.7281690917716219, 0.6967628070374553, 0.7473462716545092, 0.7133400478415883, 0.7134119659146541, 0.6966256624383942, 0.5775539994216071, 0.6367975990768373, 0.6087912718668927, 0.677798884555042, 0.7383208656755447, 0.7343169607668015, 0.7236504495092447, 0.687040737618666, 0.6967424953021146, 0.7160659922131924, 0.7079304957144579, 0.7137690728257571, 0.739517764658858, 0.726742679318015, 0.7342747491280303, 0.7348310765130313, 0.7314232430465444, 0.7182907565890954, 0.7107522473488704, 0.7022100459440299, 0.7297871155864829, 0.7166722246289798, 0.5850060592440758, 0.7101323016459358, 0.6439068168463616, 0.684072490582741, 0.7335618080256864, 0.6997214705244819, 0.5835183849572796, 0.7342616595651246, 0.7199117168174682, 0.6205200028215141, 0.6110329775252243, 0.725465276663073, 0.7183549916532439, 0.6474282376510969, 0.709323731412075, 0.7065155795466599, 0.6991973332195318, 0.7009370706243189, 0.3936285549782772, 0.597039637410019, 0.7207603358401052, 0.7354148627420873]}, {\"categories\": [\"0\", \"1\", \"2\", \"3\", \"4\", \"5\", \"6\", \"7\", \"8\", \"9\", \"10\", \"11\", \"12\", \"13\", \"14\", \"15\", \"16\", \"17\", \"18\", \"19\", \"20\", \"21\", \"22\", \"23\", \"24\", \"25\", \"26\", \"27\", \"28\", \"29\", \"30\", \"31\", \"32\", \"33\", \"34\", \"35\", \"38\", \"39\", \"40\", \"41\", \"42\", \"43\", \"44\", \"45\", \"46\", \"47\", \"48\", \"49\", \"50\", \"51\", \"52\", \"54\"], \"mode\": \"lines\", \"name\": \"f1_score_macro_max\", \"stepped\": true, \"type\": \"scatter\", \"data\": [0.7070632412698734, 0.7273272940233336, 0.7281690917716219, 0.7281690917716219, 0.7473462716545092, 0.7473462716545092, 0.7473462716545092, 0.7473462716545092, 0.7473462716545092, 0.7473462716545092, 0.7473462716545092, 0.7473462716545092, 0.7473462716545092, 0.7473462716545092, 0.7473462716545092, 0.7473462716545092, 0.7473462716545092, 0.7473462716545092, 0.7473462716545092, 0.7473462716545092, 0.7473462716545092, 0.7473462716545092, 0.7473462716545092, 0.7473462716545092, 0.7473462716545092, 0.7473462716545092, 0.7473462716545092, 0.7473462716545092, 0.7473462716545092, 0.7473462716545092, 0.7473462716545092, 0.7473462716545092, 0.7473462716545092, 0.7473462716545092, 0.7473462716545092, 0.7473462716545092, 0.7473462716545092, 0.7473462716545092, 0.7473462716545092, 0.7473462716545092, 0.7473462716545092, 0.7473462716545092, 0.7473462716545092, 0.7473462716545092, 0.7473462716545092, 0.7473462716545092, 0.7473462716545092, 0.7473462716545092, 0.7473462716545092, 0.7473462716545092, 0.7473462716545092, 0.7473462716545092]}], \"norm_macro_recall\": [{\"categories\": [\"0\", \"1\", \"2\", \"3\", \"4\", \"5\", \"6\", \"7\", \"8\", \"9\", \"10\", \"11\", \"12\", \"13\", \"14\", \"15\", \"16\", \"17\", \"18\", \"19\", \"20\", \"21\", \"22\", \"23\", \"24\", \"25\", \"26\", \"27\", \"28\", \"29\", \"30\", \"31\", \"32\", \"33\", \"34\", \"35\", \"38\", \"39\", \"40\", \"41\", \"42\", \"43\", \"44\", \"45\", \"46\", \"47\", \"48\", \"49\", \"50\", \"51\", \"52\", \"54\"], \"mode\": \"markers\", \"name\": \"norm_macro_recall\", \"stepped\": false, \"type\": \"scatter\", \"data\": [0.41178912407255625, 0.4457931261062127, 0.4404535526675565, 0.3721131647429321, 0.5142444264287283, 0.41667695433863017, 0.4222767047008539, 0.3767492982625277, 0.20246378619920796, 0.26647520206291153, 0.2430044207377354, 0.34739351628752224, 0.5175309007852287, 0.4531435667713485, 0.4878990931189876, 0.3661458127189344, 0.37608619598611304, 0.4643263359607365, 0.46606733776265924, 0.4108101733233367, 0.46856557583548336, 0.489729276399666, 0.5004367308627059, 0.49185567591207296, 0.4469350499480768, 0.4347237170970125, 0.4070926261757868, 0.38547542904425186, 0.45891222205162324, 0.42738275616446997, 0.18289677516401937, 0.4095615795376439, 0.2876413128829315, 0.35138508317927786, 0.4985517407801681, 0.3981081196614894, 0.1726608370921392, 0.5138085199554677, 0.4289714562564429, 0.24080464510052338, 0.22575764484574404, 0.4389657058198219, 0.4159783383358494, 0.323269573292787, 0.41203652442672684, 0.40333343519728065, 0.39002040211953215, 0.3949017069469012, 0.0, 0.20158362462273077, 0.4409885846602067, 0.46403776997061835]}, {\"categories\": [\"0\", \"1\", \"2\", \"3\", \"4\", \"5\", \"6\", \"7\", \"8\", \"9\", \"10\", \"11\", \"12\", \"13\", \"14\", \"15\", \"16\", \"17\", \"18\", \"19\", \"20\", \"21\", \"22\", \"23\", \"24\", \"25\", \"26\", \"27\", \"28\", \"29\", \"30\", \"31\", \"32\", \"33\", \"34\", \"35\", \"38\", \"39\", \"40\", \"41\", \"42\", \"43\", \"44\", \"45\", \"46\", \"47\", \"48\", \"49\", \"50\", \"51\", \"52\", \"54\"], \"mode\": \"lines\", \"name\": \"norm_macro_recall_max\", \"stepped\": true, \"type\": \"scatter\", \"data\": [0.41178912407255625, 0.4457931261062127, 0.4457931261062127, 0.4457931261062127, 0.5142444264287283, 0.5142444264287283, 0.5142444264287283, 0.5142444264287283, 0.5142444264287283, 0.5142444264287283, 0.5142444264287283, 0.5142444264287283, 0.5175309007852287, 0.5175309007852287, 0.5175309007852287, 0.5175309007852287, 0.5175309007852287, 0.5175309007852287, 0.5175309007852287, 0.5175309007852287, 0.5175309007852287, 0.5175309007852287, 0.5175309007852287, 0.5175309007852287, 0.5175309007852287, 0.5175309007852287, 0.5175309007852287, 0.5175309007852287, 0.5175309007852287, 0.5175309007852287, 0.5175309007852287, 0.5175309007852287, 0.5175309007852287, 0.5175309007852287, 0.5175309007852287, 0.5175309007852287, 0.5175309007852287, 0.5175309007852287, 0.5175309007852287, 0.5175309007852287, 0.5175309007852287, 0.5175309007852287, 0.5175309007852287, 0.5175309007852287, 0.5175309007852287, 0.5175309007852287, 0.5175309007852287, 0.5175309007852287, 0.5175309007852287, 0.5175309007852287, 0.5175309007852287, 0.5175309007852287]}], \"matthews_correlation\": [{\"categories\": [\"0\", \"1\", \"2\", \"3\", \"4\", \"5\", \"6\", \"7\", \"8\", \"9\", \"10\", \"11\", \"12\", \"13\", \"14\", \"15\", \"16\", \"17\", \"18\", \"19\", \"20\", \"21\", \"22\", \"23\", \"24\", \"25\", \"26\", \"27\", \"28\", \"29\", \"30\", \"31\", \"32\", \"33\", \"34\", \"35\", \"38\", \"39\", \"40\", \"41\", \"42\", \"43\", \"44\", \"45\", \"46\", \"47\", \"48\", \"49\", \"50\", \"51\", \"52\", \"54\"], \"mode\": \"markers\", \"name\": \"matthews_correlation\", \"stepped\": false, \"type\": \"scatter\", \"data\": [0.42012394649713614, 0.463594682849522, 0.47006396255740385, 0.4477845480064964, 0.5031220173627408, 0.44462220631984223, 0.4356313007430595, 0.42282121894154895, 0.31074111664000253, 0.2903942611048055, 0.3460119188737439, 0.41191520452769836, 0.4984886591420465, 0.4867224533538243, 0.46717680666986494, 0.38451366245716184, 0.4352116689019236, 0.44998997299375176, 0.44545862066962394, 0.4412992495507525, 0.48587060788750397, 0.47172199664425796, 0.48367969211597306, 0.47891918456630844, 0.48274888053917825, 0.4405865618235949, 0.44046518672731405, 0.43544923915140066, 0.4672243024034808, 0.4379487324431648, 0.1751208085386017, 0.4341590547979405, 0.3892955452151293, 0.39947589552944496, 0.4823835131239217, 0.4045340610859496, 0.20581443466807578, 0.4917098328601126, 0.45001477068569307, 0.2715568287143443, 0.2323359472989937, 0.4647979630432849, 0.46691960693851675, 0.3135594777113447, 0.4292585776544919, 0.42327020231906387, 0.42080872780180806, 0.4248143384333744, 0.0, 0.24617640956704862, 0.44839123366474165, 0.47778623776534995]}, {\"categories\": [\"0\", \"1\", \"2\", \"3\", \"4\", \"5\", \"6\", \"7\", \"8\", \"9\", \"10\", \"11\", \"12\", \"13\", \"14\", \"15\", \"16\", \"17\", \"18\", \"19\", \"20\", \"21\", \"22\", \"23\", \"24\", \"25\", \"26\", \"27\", \"28\", \"29\", \"30\", \"31\", \"32\", \"33\", \"34\", \"35\", \"38\", \"39\", \"40\", \"41\", \"42\", \"43\", \"44\", \"45\", \"46\", \"47\", \"48\", \"49\", \"50\", \"51\", \"52\", \"54\"], \"mode\": \"lines\", \"name\": \"matthews_correlation_max\", \"stepped\": true, \"type\": \"scatter\", \"data\": [0.42012394649713614, 0.463594682849522, 0.47006396255740385, 0.47006396255740385, 0.5031220173627408, 0.5031220173627408, 0.5031220173627408, 0.5031220173627408, 0.5031220173627408, 0.5031220173627408, 0.5031220173627408, 0.5031220173627408, 0.5031220173627408, 0.5031220173627408, 0.5031220173627408, 0.5031220173627408, 0.5031220173627408, 0.5031220173627408, 0.5031220173627408, 0.5031220173627408, 0.5031220173627408, 0.5031220173627408, 0.5031220173627408, 0.5031220173627408, 0.5031220173627408, 0.5031220173627408, 0.5031220173627408, 0.5031220173627408, 0.5031220173627408, 0.5031220173627408, 0.5031220173627408, 0.5031220173627408, 0.5031220173627408, 0.5031220173627408, 0.5031220173627408, 0.5031220173627408, 0.5031220173627408, 0.5031220173627408, 0.5031220173627408, 0.5031220173627408, 0.5031220173627408, 0.5031220173627408, 0.5031220173627408, 0.5031220173627408, 0.5031220173627408, 0.5031220173627408, 0.5031220173627408, 0.5031220173627408, 0.5031220173627408, 0.5031220173627408, 0.5031220173627408, 0.5031220173627408]}], \"f1_score_micro\": [{\"categories\": [\"0\", \"1\", \"2\", \"3\", \"4\", \"5\", \"6\", \"7\", \"8\", \"9\", \"10\", \"11\", \"12\", \"13\", \"14\", \"15\", \"16\", \"17\", \"18\", \"19\", \"20\", \"21\", \"22\", \"23\", \"24\", \"25\", \"26\", \"27\", \"28\", \"29\", \"30\", \"31\", \"32\", \"33\", \"34\", \"35\", \"38\", \"39\", \"40\", \"41\", \"42\", \"43\", \"44\", \"45\", \"46\", \"47\", \"48\", \"49\", \"50\", \"51\", \"52\", \"54\"], \"mode\": \"markers\", \"name\": \"f1_score_micro\", \"stepped\": false, \"type\": \"scatter\", \"data\": [0.7435577580314423, 0.7631237183868763, 0.7695317840054683, 0.7644053315105946, 0.7657211209842789, 0.7565618591934381, 0.7500170881749829, 0.7527341079972658, 0.7122351332877649, 0.6927375256322623, 0.7226760082023239, 0.7473855092276145, 0.7526486671223515, 0.7761278195488721, 0.7382946001367054, 0.7304340396445659, 0.7565618591934381, 0.7343472317156527, 0.7213773069036227, 0.7578434723171565, 0.774794941900205, 0.7421223513328776, 0.75, 0.753896103896104, 0.7748120300751878, 0.7500512645249486, 0.7565276828434724, 0.7565447710184553, 0.7605092276144907, 0.7514012303485987, 0.6393198906356801, 0.7526315789473684, 0.740909090909091, 0.7448393711551606, 0.7500854408749146, 0.7343984962406015, 0.6679596719070402, 0.7473855092276145, 0.7591934381408066, 0.6900888585099111, 0.6626452494873547, 0.7643198906356801, 0.7708817498291183, 0.6706254272043746, 0.7461722488038278, 0.7487354750512645, 0.746138072453862, 0.746120984278879, 0.650974025974026, 0.6848257006151742, 0.7526486671223513, 0.7682843472317158]}, {\"categories\": [\"0\", \"1\", \"2\", \"3\", \"4\", \"5\", \"6\", \"7\", \"8\", \"9\", \"10\", \"11\", \"12\", \"13\", \"14\", \"15\", \"16\", \"17\", \"18\", \"19\", \"20\", \"21\", \"22\", \"23\", \"24\", \"25\", \"26\", \"27\", \"28\", \"29\", \"30\", \"31\", \"32\", \"33\", \"34\", \"35\", \"38\", \"39\", \"40\", \"41\", \"42\", \"43\", \"44\", \"45\", \"46\", \"47\", \"48\", \"49\", \"50\", \"51\", \"52\", \"54\"], \"mode\": \"lines\", \"name\": \"f1_score_micro_max\", \"stepped\": true, \"type\": \"scatter\", \"data\": [0.7435577580314423, 0.7631237183868763, 0.7695317840054683, 0.7695317840054683, 0.7695317840054683, 0.7695317840054683, 0.7695317840054683, 0.7695317840054683, 0.7695317840054683, 0.7695317840054683, 0.7695317840054683, 0.7695317840054683, 0.7695317840054683, 0.7761278195488721, 0.7761278195488721, 0.7761278195488721, 0.7761278195488721, 0.7761278195488721, 0.7761278195488721, 0.7761278195488721, 0.7761278195488721, 0.7761278195488721, 0.7761278195488721, 0.7761278195488721, 0.7761278195488721, 0.7761278195488721, 0.7761278195488721, 0.7761278195488721, 0.7761278195488721, 0.7761278195488721, 0.7761278195488721, 0.7761278195488721, 0.7761278195488721, 0.7761278195488721, 0.7761278195488721, 0.7761278195488721, 0.7761278195488721, 0.7761278195488721, 0.7761278195488721, 0.7761278195488721, 0.7761278195488721, 0.7761278195488721, 0.7761278195488721, 0.7761278195488721, 0.7761278195488721, 0.7761278195488721, 0.7761278195488721, 0.7761278195488721, 0.7761278195488721, 0.7761278195488721, 0.7761278195488721, 0.7761278195488721]}], \"precision_score_macro\": [{\"categories\": [\"0\", \"1\", \"2\", \"3\", \"4\", \"5\", \"6\", \"7\", \"8\", \"9\", \"10\", \"11\", \"12\", \"13\", \"14\", \"15\", \"16\", \"17\", \"18\", \"19\", \"20\", \"21\", \"22\", \"23\", \"24\", \"25\", \"26\", \"27\", \"28\", \"29\", \"30\", \"31\", \"32\", \"33\", \"34\", \"35\", \"38\", \"39\", \"40\", \"41\", \"42\", \"43\", \"44\", \"45\", \"46\", \"47\", \"48\", \"49\", \"50\", \"51\", \"52\", \"54\"], \"mode\": \"markers\", \"name\": \"precision_score_macro\", \"stepped\": false, \"type\": \"scatter\", \"data\": [0.7145898331417102, 0.7415800197062398, 0.7513351241077324, 0.77030734915111, 0.7464420171101702, 0.7380021247908195, 0.7251769513948044, 0.7377314715444092, 0.7465305957525447, 0.6587361668801055, 0.7547907013832931, 0.7484190713868613, 0.7406201073758595, 0.7620721180370615, 0.7239739361129233, 0.7022345431578187, 0.7528713029572396, 0.7185382266734518, 0.7132745209944628, 0.7373777379478058, 0.7521560458063667, 0.7275087878918132, 0.7340691212467239, 0.7334067745364743, 0.7614431130158684, 0.7235066682148247, 0.7389539710844507, 0.7464892120975114, 0.7384610484397438, 0.7245862180049618, 0.5903280093409904, 0.7308484477699345, 0.7668829778427668, 0.7276963707011386, 0.7338386261463596, 0.705862377256889, 0.6234532152218331, 0.7356325891039702, 0.7366018124047233, 0.6539387375864587, 0.6212717152793876, 0.7468084097448102, 0.7625141719671579, 0.6523892128808119, 0.724283222331262, 0.7227021912615663, 0.7288270614650413, 0.7306611113517653, 0.325487012987013, 0.6518857371415214, 0.7285373931511556, 0.7463387747768314]}, {\"categories\": [\"0\", \"1\", \"2\", \"3\", \"4\", \"5\", \"6\", \"7\", \"8\", \"9\", \"10\", \"11\", \"12\", \"13\", \"14\", \"15\", \"16\", \"17\", \"18\", \"19\", \"20\", \"21\", \"22\", \"23\", \"24\", \"25\", \"26\", \"27\", \"28\", \"29\", \"30\", \"31\", \"32\", \"33\", \"34\", \"35\", \"38\", \"39\", \"40\", \"41\", \"42\", \"43\", \"44\", \"45\", \"46\", \"47\", \"48\", \"49\", \"50\", \"51\", \"52\", \"54\"], \"mode\": \"lines\", \"name\": \"precision_score_macro_max\", \"stepped\": true, \"type\": \"scatter\", \"data\": [0.7145898331417102, 0.7415800197062398, 0.7513351241077324, 0.77030734915111, 0.77030734915111, 0.77030734915111, 0.77030734915111, 0.77030734915111, 0.77030734915111, 0.77030734915111, 0.77030734915111, 0.77030734915111, 0.77030734915111, 0.77030734915111, 0.77030734915111, 0.77030734915111, 0.77030734915111, 0.77030734915111, 0.77030734915111, 0.77030734915111, 0.77030734915111, 0.77030734915111, 0.77030734915111, 0.77030734915111, 0.77030734915111, 0.77030734915111, 0.77030734915111, 0.77030734915111, 0.77030734915111, 0.77030734915111, 0.77030734915111, 0.77030734915111, 0.77030734915111, 0.77030734915111, 0.77030734915111, 0.77030734915111, 0.77030734915111, 0.77030734915111, 0.77030734915111, 0.77030734915111, 0.77030734915111, 0.77030734915111, 0.77030734915111, 0.77030734915111, 0.77030734915111, 0.77030734915111, 0.77030734915111, 0.77030734915111, 0.77030734915111, 0.77030734915111, 0.77030734915111, 0.77030734915111]}], \"log_loss\": [{\"categories\": [\"0\", \"1\", \"2\", \"3\", \"4\", \"5\", \"6\", \"7\", \"8\", \"9\", \"10\", \"11\", \"12\", \"13\", \"14\", \"15\", \"16\", \"17\", \"18\", \"19\", \"20\", \"21\", \"22\", \"23\", \"24\", \"25\", \"26\", \"27\", \"28\", \"29\", \"30\", \"31\", \"32\", \"33\", \"34\", \"35\", \"38\", \"39\", \"40\", \"41\", \"42\", \"43\", \"44\", \"45\", \"46\", \"47\", \"48\", \"49\", \"50\", \"51\", \"52\", \"54\"], \"mode\": \"markers\", \"name\": \"log_loss\", \"stepped\": false, \"type\": \"scatter\", \"data\": [0.6451874261406342, 0.48076833399371866, 0.4828078689560898, 0.5089773233157177, 0.49121510392010503, 0.4996666312448787, 0.6154522073926977, 0.5032170666695993, 0.5431060606965123, 1.0188964270123164, 0.5403141389611567, 0.5237146385847977, 0.523320106458352, 0.4835499287783188, 0.5440471382515886, 0.9319943403027608, 0.5147685455342051, 0.6471130548687878, 0.5529072266834199, 0.535633505044892, 0.5280792164169517, 0.5698030509644996, 0.5295951778880167, 0.5114151092885242, 0.48208062502048116, 0.5677157920179297, 0.5145219485685416, 0.5158147747167304, 0.49854548038676805, 0.5240680182671651, 0.6593916661713185, 0.4849895058911814, 0.5495149597472324, 0.5162077439490353, 0.5001044181413092, 0.6427733814543898, 0.5964451722460297, 0.5347923024727346, 0.47805803051840695, 0.6015199826141591, 0.95390554267884, 0.4856161513602416, 0.4894076942713627, 0.683989381501423, 0.49491236765505964, 0.4997836846913767, 0.9171270295284562, 1.0854553610124151, 0.6340762318971314, 0.5932707816924911, 0.5015028218246814, 0.4855753182975411]}, {\"categories\": [\"0\", \"1\", \"2\", \"3\", \"4\", \"5\", \"6\", \"7\", \"8\", \"9\", \"10\", \"11\", \"12\", \"13\", \"14\", \"15\", \"16\", \"17\", \"18\", \"19\", \"20\", \"21\", \"22\", \"23\", \"24\", \"25\", \"26\", \"27\", \"28\", \"29\", \"30\", \"31\", \"32\", \"33\", \"34\", \"35\", \"38\", \"39\", \"40\", \"41\", \"42\", \"43\", \"44\", \"45\", \"46\", \"47\", \"48\", \"49\", \"50\", \"51\", \"52\", \"54\"], \"mode\": \"lines\", \"name\": \"log_loss_min\", \"stepped\": true, \"type\": \"scatter\", \"data\": [0.6451874261406342, 0.48076833399371866, 0.48076833399371866, 0.48076833399371866, 0.48076833399371866, 0.48076833399371866, 0.48076833399371866, 0.48076833399371866, 0.48076833399371866, 0.48076833399371866, 0.48076833399371866, 0.48076833399371866, 0.48076833399371866, 0.48076833399371866, 0.48076833399371866, 0.48076833399371866, 0.48076833399371866, 0.48076833399371866, 0.48076833399371866, 0.48076833399371866, 0.48076833399371866, 0.48076833399371866, 0.48076833399371866, 0.48076833399371866, 0.48076833399371866, 0.48076833399371866, 0.48076833399371866, 0.48076833399371866, 0.48076833399371866, 0.48076833399371866, 0.48076833399371866, 0.48076833399371866, 0.48076833399371866, 0.48076833399371866, 0.48076833399371866, 0.48076833399371866, 0.48076833399371866, 0.48076833399371866, 0.47805803051840695, 0.47805803051840695, 0.47805803051840695, 0.47805803051840695, 0.47805803051840695, 0.47805803051840695, 0.47805803051840695, 0.47805803051840695, 0.47805803051840695, 0.47805803051840695, 0.47805803051840695, 0.47805803051840695, 0.47805803051840695, 0.47805803051840695]}], \"precision_score_weighted\": [{\"categories\": [\"0\", \"1\", \"2\", \"3\", \"4\", \"5\", \"6\", \"7\", \"8\", \"9\", \"10\", \"11\", \"12\", \"13\", \"14\", \"15\", \"16\", \"17\", \"18\", \"19\", \"20\", \"21\", \"22\", \"23\", \"24\", \"25\", \"26\", \"27\", \"28\", \"29\", \"30\", \"31\", \"32\", \"33\", \"34\", \"35\", \"38\", \"39\", \"40\", \"41\", \"42\", \"43\", \"44\", \"45\", \"46\", \"47\", \"48\", \"49\", \"50\", \"51\", \"52\", \"54\"], \"mode\": \"markers\", \"name\": \"precision_score_weighted\", \"stepped\": false, \"type\": \"scatter\", \"data\": [0.7422211674802061, 0.7638831377709204, 0.7679115563568152, 0.7711985321939574, 0.7797813454306213, 0.7576810540670038, 0.7488328952030263, 0.7524917060951182, 0.7362866428485236, 0.6862877054807229, 0.7464569273473252, 0.7564815466761343, 0.782917806287226, 0.7776592753170262, 0.768681833250063, 0.7273726277702017, 0.7616997455788811, 0.7591339234686634, 0.7614429900370954, 0.7550536952342678, 0.7727487195333971, 0.7693345229368044, 0.7739489292964157, 0.7692970409650127, 0.7766430284099155, 0.7515602600226554, 0.7551203838251151, 0.7583421154181856, 0.7656119742846356, 0.7506631278948417, 0.6299804215784663, 0.7525410762299554, 0.7601970329730825, 0.743138505717553, 0.7728122277860304, 0.7354652962248147, 0.6521815633376795, 0.7805132246006654, 0.7581622164844619, 0.6792106656534663, 0.6584686501206939, 0.7655011233572682, 0.7724937560891834, 0.6969129140082684, 0.7495957588472133, 0.7482080431085993, 0.7491283545750096, 0.7510129590851817, 0.42687712083757523, 0.6752747495392322, 0.7556176450630164, 0.7690277191538037]}, {\"categories\": [\"0\", \"1\", \"2\", \"3\", \"4\", \"5\", \"6\", \"7\", \"8\", \"9\", \"10\", \"11\", \"12\", \"13\", \"14\", \"15\", \"16\", \"17\", \"18\", \"19\", \"20\", \"21\", \"22\", \"23\", \"24\", \"25\", \"26\", \"27\", \"28\", \"29\", \"30\", \"31\", \"32\", \"33\", \"34\", \"35\", \"38\", \"39\", \"40\", \"41\", \"42\", \"43\", \"44\", \"45\", \"46\", \"47\", \"48\", \"49\", \"50\", \"51\", \"52\", \"54\"], \"mode\": \"lines\", \"name\": \"precision_score_weighted_max\", \"stepped\": true, \"type\": \"scatter\", \"data\": [0.7422211674802061, 0.7638831377709204, 0.7679115563568152, 0.7711985321939574, 0.7797813454306213, 0.7797813454306213, 0.7797813454306213, 0.7797813454306213, 0.7797813454306213, 0.7797813454306213, 0.7797813454306213, 0.7797813454306213, 0.782917806287226, 0.782917806287226, 0.782917806287226, 0.782917806287226, 0.782917806287226, 0.782917806287226, 0.782917806287226, 0.782917806287226, 0.782917806287226, 0.782917806287226, 0.782917806287226, 0.782917806287226, 0.782917806287226, 0.782917806287226, 0.782917806287226, 0.782917806287226, 0.782917806287226, 0.782917806287226, 0.782917806287226, 0.782917806287226, 0.782917806287226, 0.782917806287226, 0.782917806287226, 0.782917806287226, 0.782917806287226, 0.782917806287226, 0.782917806287226, 0.782917806287226, 0.782917806287226, 0.782917806287226, 0.782917806287226, 0.782917806287226, 0.782917806287226, 0.782917806287226, 0.782917806287226, 0.782917806287226, 0.782917806287226, 0.782917806287226, 0.782917806287226, 0.782917806287226]}]}, \"metricName\": null, \"primaryMetricName\": \"AUC_weighted\", \"showLegend\": false}, \"run_metrics\": [{\"name\": \"experiment_status\", \"run_id\": \"AutoML_719a1e66-cebe-467b-a703-4e27f4c221be\", \"categories\": [0, 1, 2, 3, 4, 5, 6, 7, 8, 9], \"series\": [{\"data\": [\"DatasetCrossValidationSplit\", \"ModelSelection\", \"BestRunExplainModel\", \"ModelExplanationDataSetSetup\", \"PickSurrogateModel\", \"EngineeredFeatureExplanations\", \"EngineeredFeatureExplanations\", \"RawFeaturesExplanations\", \"RawFeaturesExplanations\", \"BestRunExplainModel\"]}]}, {\"name\": \"experiment_status_description\", \"run_id\": \"AutoML_719a1e66-cebe-467b-a703-4e27f4c221be\", \"categories\": [0, 1, 2, 3, 4, 5, 6, 7, 8, 9], \"series\": [{\"data\": [\"Generating CV splits.\", \"Beginning model selection.\", \"Best run model explanations started\", \"Model explanations data setup completed\", \"Choosing LightGBM as the surrogate model for explanations\", \"Computation of engineered features started\", \"Computation of engineered features completed\", \"Computation of raw features started\", \"Computation of raw features completed\", \"Best run model explanations completed\"]}]}, {\"name\": \"average_precision_score_macro\", \"run_id\": \"AutoML_719a1e66-cebe-467b-a703-4e27f4c221be\", \"categories\": [0], \"series\": [{\"data\": [0.8287844745317304]}]}, {\"name\": \"recall_score_macro\", \"run_id\": \"AutoML_719a1e66-cebe-467b-a703-4e27f4c221be\", \"categories\": [0], \"series\": [{\"data\": [0.7320188849853091]}]}, {\"name\": \"recall_score_weighted\", \"run_id\": \"AutoML_719a1e66-cebe-467b-a703-4e27f4c221be\", \"categories\": [0], \"series\": [{\"data\": [0.7682843472317158]}]}, {\"name\": \"log_loss\", \"run_id\": \"AutoML_719a1e66-cebe-467b-a703-4e27f4c221be\", \"categories\": [0], \"series\": [{\"data\": [0.4855753182975411]}]}, {\"name\": \"AUC_micro\", \"run_id\": \"AutoML_719a1e66-cebe-467b-a703-4e27f4c221be\", \"categories\": [0], \"series\": [{\"data\": [0.8621462409051898]}]}, {\"name\": \"AUC_macro\", \"run_id\": \"AutoML_719a1e66-cebe-467b-a703-4e27f4c221be\", \"categories\": [0], \"series\": [{\"data\": [0.847381744164364]}]}, {\"name\": \"recall_score_micro\", \"run_id\": \"AutoML_719a1e66-cebe-467b-a703-4e27f4c221be\", \"categories\": [0], \"series\": [{\"data\": [0.7682843472317158]}]}, {\"name\": \"precision_score_micro\", \"run_id\": \"AutoML_719a1e66-cebe-467b-a703-4e27f4c221be\", \"categories\": [0], \"series\": [{\"data\": [0.7682843472317158]}]}, {\"name\": \"balanced_accuracy\", \"run_id\": \"AutoML_719a1e66-cebe-467b-a703-4e27f4c221be\", \"categories\": [0], \"series\": [{\"data\": [0.7320188849853091]}]}, {\"name\": \"norm_macro_recall\", \"run_id\": \"AutoML_719a1e66-cebe-467b-a703-4e27f4c221be\", \"categories\": [0], \"series\": [{\"data\": [0.46403776997061835]}]}, {\"name\": \"average_precision_score_weighted\", \"run_id\": \"AutoML_719a1e66-cebe-467b-a703-4e27f4c221be\", \"categories\": [0], \"series\": [{\"data\": [0.8563965039142104]}]}, {\"name\": \"weighted_accuracy\", \"run_id\": \"AutoML_719a1e66-cebe-467b-a703-4e27f4c221be\", \"categories\": [0], \"series\": [{\"data\": [0.7955374799929864]}]}, {\"name\": \"f1_score_weighted\", \"run_id\": \"AutoML_719a1e66-cebe-467b-a703-4e27f4c221be\", \"categories\": [0], \"series\": [{\"data\": [0.7653596664080272]}]}, {\"name\": \"f1_score_macro\", \"run_id\": \"AutoML_719a1e66-cebe-467b-a703-4e27f4c221be\", \"categories\": [0], \"series\": [{\"data\": [0.7354148627420873]}]}, {\"name\": \"precision_score_macro\", \"run_id\": \"AutoML_719a1e66-cebe-467b-a703-4e27f4c221be\", \"categories\": [0], \"series\": [{\"data\": [0.7463387747768314]}]}, {\"name\": \"accuracy\", \"run_id\": \"AutoML_719a1e66-cebe-467b-a703-4e27f4c221be\", \"categories\": [0], \"series\": [{\"data\": [0.7682843472317158]}]}, {\"name\": \"matthews_correlation\", \"run_id\": \"AutoML_719a1e66-cebe-467b-a703-4e27f4c221be\", \"categories\": [0], \"series\": [{\"data\": [0.47778623776534995]}]}, {\"name\": \"average_precision_score_micro\", \"run_id\": \"AutoML_719a1e66-cebe-467b-a703-4e27f4c221be\", \"categories\": [0], \"series\": [{\"data\": [0.8629466507965724]}]}, {\"name\": \"precision_score_weighted\", \"run_id\": \"AutoML_719a1e66-cebe-467b-a703-4e27f4c221be\", \"categories\": [0], \"series\": [{\"data\": [0.7690277191538037]}]}, {\"name\": \"AUC_weighted\", \"run_id\": \"AutoML_719a1e66-cebe-467b-a703-4e27f4c221be\", \"categories\": [0], \"series\": [{\"data\": [0.8473817441643637]}]}, {\"name\": \"f1_score_micro\", \"run_id\": \"AutoML_719a1e66-cebe-467b-a703-4e27f4c221be\", \"categories\": [0], \"series\": [{\"data\": [0.7682843472317158]}]}], \"run_logs\": \"\\nRun is completed.\", \"graph\": {}, \"widget_settings\": {\"childWidgetDisplay\": \"popup\", \"send_telemetry\": false, \"log_level\": \"INFO\", \"sdk_version\": \"1.20.0\"}, \"loading\": false}"
     },
     "metadata": {},
     "output_type": "display_data"
    },
    {
     "name": "stdout",
     "output_type": "stream",
     "text": [
      "https://ml.azure.com/experiments/automlpimadiabetesNoFeat/runs/AutoML_719a1e66-cebe-467b-a703-4e27f4c221be?wsid=/subscriptions/8a086c9c-5530-4791-89af-62c8cdfda3fd/resourcegroups/trn-aue-advanced-analytics-ml/workspaces/trn-aue-aa-ml\n",
      "\n",
      "\n",
      "****************************************************************************************************\n",
      "DATA GUARDRAILS: \n",
      "\n",
      "TYPE:         Cross validation\n",
      "STATUS:       DONE\n",
      "DESCRIPTION:  Each iteration of the trained model was validated through cross-validation.\n",
      "              \n",
      "DETAILS:      \n",
      "+---------------------------------+\n",
      "|Number of folds                  |\n",
      "+=================================+\n",
      "|10                               |\n",
      "+---------------------------------+\n",
      "\n",
      "****************************************************************************************************\n",
      "\n",
      "TYPE:         Class balancing detection\n",
      "STATUS:       PASSED\n",
      "DESCRIPTION:  Your inputs were analyzed, and all classes are balanced in your training data.\n",
      "              Learn more about imbalanced data: https://aka.ms/AutomatedMLImbalancedData\n",
      "\n",
      "****************************************************************************************************\n",
      "\n",
      "****************************************************************************************************\n",
      "ITERATION: The iteration being evaluated.\n",
      "PIPELINE: A summary description of the pipeline being evaluated.\n",
      "DURATION: Time taken for the current iteration.\n",
      "METRIC: The result of computing score on the fitted pipeline.\n",
      "BEST: The best observed score thus far.\n",
      "****************************************************************************************************\n",
      "\n",
      " ITERATION   PIPELINE                                       DURATION      METRIC      BEST\n",
      "         0   MaxAbsScaler LightGBM                          0:02:07       0.8047    0.8047\n",
      "         1   MaxAbsScaler XGBoostClassifier                 0:02:07       0.8342    0.8342\n",
      "         2   MinMaxScaler RandomForest                      0:01:56       0.8315    0.8342\n",
      "         3   RobustScaler ExtremeRandomTrees                0:02:08       0.8330    0.8342\n",
      "         4   MinMaxScaler RandomForest                      0:02:02       0.8307    0.8342\n"
     ]
    }
   ],
   "source": [
    "from azureml.widgets import RunDetails\n",
    "\n",
    "RunDetails(remote_run).show()\n",
    "print(remote_run.get_portal_url())\n",
    "remote_run.wait_for_completion(show_output=True)\n",
    "\n",
    "\n",
    "best_run, fitted_model = remote_run.get_output()\n",
    "\n",
    "#fitted_model.steps[1][1].estimators"
   ]
  },
  {
   "cell_type": "code",
   "execution_count": 26,
   "metadata": {
    "gather": {
     "logged": 1612348432581
    },
    "jupyter": {
     "outputs_hidden": false,
     "source_hidden": false
    },
    "nteract": {
     "transient": {
      "deleting": false
     }
    }
   },
   "outputs": [
    {
     "name": "stdout",
     "output_type": "stream",
     "text": [
      "Run(Experiment: automlpimadiabetesNoFeat,\n",
      "Id: AutoML_719a1e66-cebe-467b-a703-4e27f4c221be_54,\n",
      "Type: azureml.scriptrun,\n",
      "Status: Completed)\n",
      "0.8473817441643637\n"
     ]
    }
   ],
   "source": [
    "# Print Best Run\n",
    "\n",
    "print(best_run)\n",
    "\n",
    "print(best_run.properties['score'])"
   ]
  },
  {
   "cell_type": "code",
   "execution_count": 27,
   "metadata": {
    "gather": {
     "logged": 1612348442658
    },
    "jupyter": {
     "outputs_hidden": false,
     "source_hidden": false
    },
    "nteract": {
     "transient": {
      "deleting": false
     }
    }
   },
   "outputs": [
    {
     "name": "stdout",
     "output_type": "stream",
     "text": [
      "Pipeline(memory=None,\n",
      "         steps=[('prefittedsoftvotingclassifier',\n",
      "                 PreFittedSoftVotingClassifier(classification_labels=None,\n",
      "                                               estimators=[('34',\n",
      "                                                            Pipeline(memory=None,\n",
      "                                                                     steps=[('MinMaxScaler',\n",
      "                                                                             MinMaxScaler(copy=True,\n",
      "                                                                                          feature_range=(0,\n",
      "                                                                                                         1))),\n",
      "                                                                            ('ExtraTreesClassifier',\n",
      "                                                                             ExtraTreesClassifier(bootstrap=True,\n",
      "                                                                                                  ccp_alpha=0.0,\n",
      "                                                                                                  class_weight='balanced',\n",
      "                                                                                                  criterion='gini',\n",
      "                                                                                                  max_depth=...\n",
      "                                                                                                    oob_score=False,\n",
      "                                                                                                    random_state=None,\n",
      "                                                                                                    verbose=0,\n",
      "                                                                                                    warm_start=False))],\n",
      "                                                                     verbose=False))],\n",
      "                                               flatten_transform=None,\n",
      "                                               weights=[0.09090909090909091,\n",
      "                                                        0.09090909090909091,\n",
      "                                                        0.09090909090909091,\n",
      "                                                        0.09090909090909091,\n",
      "                                                        0.09090909090909091,\n",
      "                                                        0.09090909090909091,\n",
      "                                                        0.09090909090909091,\n",
      "                                                        0.09090909090909091,\n",
      "                                                        0.09090909090909091,\n",
      "                                                        0.09090909090909091,\n",
      "                                                        0.09090909090909091]))],\n",
      "         verbose=False)\n"
     ]
    }
   ],
   "source": [
    "# Print Fitted Model\n",
    "\n",
    "print(fitted_model)"
   ]
  },
  {
   "cell_type": "markdown",
   "metadata": {},
   "source": [
    "## Best Model\n",
    "\n",
    "Get the best model from the automl experiments and display all the properties of the model.\n",
    "\n"
   ]
  },
  {
   "cell_type": "code",
   "execution_count": 25,
   "metadata": {
    "gather": {
     "logged": 1612219144417
    },
    "jupyter": {
     "outputs_hidden": false,
     "source_hidden": false
    },
    "nteract": {
     "transient": {
      "deleting": false
     }
    }
   },
   "outputs": [
    {
     "name": "stdout",
     "output_type": "stream",
     "text": [
      "Run(Experiment: automlpimadiabetes,\n",
      "Id: AutoML_ee49c83d-a7f9-4a51-acc9-c8760158baea_38,\n",
      "Type: azureml.scriptrun,\n",
      "Status: Completed)\n",
      "Pipeline(memory=None,\n",
      "         steps=[('datatransformer',\n",
      "                 DataTransformer(enable_dnn=None, enable_feature_sweeping=None,\n",
      "                                 feature_sweeping_config=None,\n",
      "                                 feature_sweeping_timeout=None,\n",
      "                                 featurization_config=None, force_text_dnn=None,\n",
      "                                 is_cross_validation=None,\n",
      "                                 is_onnx_compatible=None, logger=None,\n",
      "                                 observer=None, task=None, working_dir=None)),\n",
      "                ('prefittedsoftvotingclassifier',...\n",
      "                                                                                               reg_lambda=1.9791666666666667,\n",
      "                                                                                               scale_pos_weight=1,\n",
      "                                                                                               seed=None,\n",
      "                                                                                               silent=None,\n",
      "                                                                                               subsample=1,\n",
      "                                                                                               tree_method='auto',\n",
      "                                                                                               verbose=-10,\n",
      "                                                                                               verbosity=0))],\n",
      "                                                                     verbose=False))],\n",
      "                                               flatten_transform=None,\n",
      "                                               weights=[0.15384615384615385,\n",
      "                                                        0.07692307692307693,\n",
      "                                                        0.15384615384615385,\n",
      "                                                        0.07692307692307693,\n",
      "                                                        0.07692307692307693,\n",
      "                                                        0.07692307692307693,\n",
      "                                                        0.07692307692307693,\n",
      "                                                        0.15384615384615385,\n",
      "                                                        0.15384615384615385]))],\n",
      "         verbose=False)\n",
      "Y_transformer(['LabelEncoder', LabelEncoder()])\n",
      "Best run id: AutoML_ee49c83d-a7f9-4a51-acc9-c8760158baea_38\n",
      "################################\n",
      "\n",
      " AUC_weighted: 0.8474947459449205\n",
      "################################\n",
      "\n",
      " Learning rate: []\n",
      "################################\n"
     ]
    },
    {
     "data": {
      "text/plain": [
       "{'_aml_system_azureml.automlComponent': 'AutoML',\n",
       " '_aml_system_ComputeTargetStatus': '{\"AllocationState\":\"steady\",\"PreparingNodeCount\":0,\"RunningNodeCount\":4,\"CurrentNodeCount\":5}',\n",
       " 'ensembled_iterations': '[1, 32, 24, 3, 29, 14, 15, 17, 30]',\n",
       " 'ensembled_algorithms': \"['XGBoostClassifier', 'ExtremeRandomTrees', 'XGBoostClassifier', 'RandomForest', 'LogisticRegression', 'RandomForest', 'ExtremeRandomTrees', 'ExtremeRandomTrees', 'XGBoostClassifier']\",\n",
       " 'ensemble_weights': '[0.15384615384615385, 0.07692307692307693, 0.15384615384615385, 0.07692307692307693, 0.07692307692307693, 0.07692307692307693, 0.07692307692307693, 0.15384615384615385, 0.15384615384615385]',\n",
       " 'best_individual_pipeline_score': '0.8366210317228242',\n",
       " 'best_individual_iteration': '1',\n",
       " '_aml_system_automl_is_child_run_end_telemetry_event_logged': 'True',\n",
       " 'model_explain_run_id': 'AutoML_ee49c83d-a7f9-4a51-acc9-c8760158baea_ModelExplain',\n",
       " 'model_explanation': 'True'}"
      ]
     },
     "execution_count": 25,
     "metadata": {},
     "output_type": "execute_result"
    }
   ],
   "source": [
    "import joblib\n",
    "import azureml.train.automl\n",
    "\n",
    "# Get your best run and save the model from that run.\n",
    "\n",
    "#!pip install azureml-train-automl-runtime==1.20.0\n",
    "\n",
    "#!pip install azureml-sklearn\n",
    "\n",
    "if \"output\" not in os.listdir():\n",
    "   os.mkdir(\"./output\")   \n",
    "\n",
    "remote_run.get_metrics('AUC_weighted')\n",
    "\n",
    "best_run, fitted_model = remote_run.get_output()\n",
    "print(best_run)\n",
    "print(fitted_model)\n",
    "\n",
    "#best_run = remote_run.get_best_child()\n",
    "best_run_metrics = best_run.get_metrics()\n",
    "parameter_values = best_run.get_details()['runDefinition']['arguments']\n",
    "\n",
    "print ('Best run id:',best_run.id)\n",
    "print ('################################')\n",
    "print ('\\n AUC_weighted:',best_run_metrics['AUC_weighted'])\n",
    "print ('################################')\n",
    "print ('\\n Learning rate:', parameter_values)\n",
    "print ('################################')\n",
    "\n",
    "\n",
    "best_run.get_details()\n",
    "best_run.get_tags()\n"
   ]
  },
  {
   "cell_type": "code",
   "execution_count": 8,
   "metadata": {
    "gather": {
     "logged": 1611657251126
    },
    "jupyter": {
     "outputs_hidden": false,
     "source_hidden": false
    },
    "nteract": {
     "transient": {
      "deleting": false
     }
    }
   },
   "outputs": [
    {
     "data": {
      "text/plain": [
       "['./output/Capstone_automl_best.joblib']"
      ]
     },
     "execution_count": 8,
     "metadata": {},
     "output_type": "execute_result"
    }
   ],
   "source": [
    "\n",
    "best_run.get_file_names()\n",
    "joblib.dump(parameter_values,filename='./output/Capstone_automl_best.joblib')"
   ]
  },
  {
   "cell_type": "markdown",
   "metadata": {},
   "source": [
    "## Model Deployment\n",
    "\n",
    "Remember you have to deploy only one of the two models you trained.. Perform the steps in the rest of this notebook only if you wish to deploy this model.\n"
   ]
  },
  {
   "cell_type": "code",
   "execution_count": 48,
   "metadata": {
    "gather": {
     "logged": 1611664012368
    },
    "jupyter": {
     "outputs_hidden": false,
     "source_hidden": false
    },
    "nteract": {
     "transient": {
      "deleting": false
     }
    }
   },
   "outputs": [
    {
     "name": "stdout",
     "output_type": "stream",
     "text": [
      "automlpimadiabetes\tautomlpimadiabetes:3\t3\n"
     ]
    }
   ],
   "source": [
    "\n",
    "model_dep = remote_run.register_model(model_name='automlpimadiabetes',\n",
    "                           tags={'Name': 'Pima Diabetes Best AutoML Model'})#,\n",
    "                           #model_path='outputs/automldiabetesbmodel.pkl')\n",
    "print(model_dep.name, model_dep.id, model_dep.version, sep='\\t')"
   ]
  },
  {
   "cell_type": "markdown",
   "metadata": {
    "collapsed": true,
    "gather": {
     "logged": 1598431657736
    },
    "jupyter": {
     "outputs_hidden": false,
     "source_hidden": false
    },
    "nteract": {
     "transient": {
      "deleting": false
     }
    }
   },
   "source": [
    "## Register the WebService"
   ]
  },
  {
   "cell_type": "code",
   "execution_count": 61,
   "metadata": {
    "gather": {
     "logged": 1598432707604
    },
    "jupyter": {
     "outputs_hidden": false,
     "source_hidden": false
    },
    "nteract": {
     "transient": {
      "deleting": false
     }
    }
   },
   "outputs": [
    {
     "name": "stdout",
     "output_type": "stream",
     "text": [
      "Tips: You can try get_logs(): https://aka.ms/debugimage#dockerlog or local deployment: https://aka.ms/debugimage#debug-locally to debug if deployment takes longer than 10 minutes.\n",
      "Running........................................................................................................................."
     ]
    }
   ],
   "source": [
    "from azureml.core.webservice import AciWebservice, Webservice\n",
    "from azureml.core.model import Model\n",
    "from azureml.core.environment import Environment\n",
    "from azureml.core.model import InferenceConfig\n",
    "\n",
    "bestmodel, fmodel = remote_run.get_output()\n",
    "bestmodel.download_file('outputs/scoring_file_v_1_0_0.py', 'scoring.py')  \n",
    "#bestmodel.download_file('outputs/conda_env_v_1_0_0.yml', myenv)  \n",
    "\n",
    "#env = Environment.get(ws, \"AzureML-Minimal\").clone('temp')\n",
    "#env = Environment.get(ws, \"AzureML-Minimal\",'myenv')\n",
    "#env = Environment.from_conda_specification(name='automl',file_path='conda_env_v_1_0_0.yml')\n",
    "\n",
    "env = bestmodel.get_environment()\n",
    "\n",
    "for pip_package in [\"scikit-learn\"]:\n",
    "    env.python.conda_dependencies.add_pip_package(pip_package)\n",
    "\n",
    "inference_config = InferenceConfig(entry_script='scoring.py',\n",
    "                                    environment=env)\n",
    "\n",
    "\n",
    "deployment_config = AciWebservice.deploy_configuration(cpu_cores = 1, memory_gb = 1)\n",
    "service = Model.deploy(ws, \"pimadiabetesendpv3\", [model_dep], inference_config, deployment_config)\n",
    "service.wait_for_deployment(show_output = True)\n",
    "print(service.state)\n",
    "\n"
   ]
  },
  {
   "cell_type": "markdown",
   "metadata": {
    "collapsed": true,
    "gather": {
     "logged": 1598432765711
    },
    "jupyter": {
     "outputs_hidden": false,
     "source_hidden": false
    },
    "nteract": {
     "transient": {
      "deleting": false
     }
    }
   },
   "source": [
    "## Test and delete WebService"
   ]
  },
  {
   "cell_type": "code",
   "execution_count": 7,
   "metadata": {
    "gather": {
     "logged": 1612323685296
    },
    "jupyter": {
     "outputs_hidden": false,
     "source_hidden": false
    },
    "nteract": {
     "transient": {
      "deleting": false
     }
    }
   },
   "outputs": [
    {
     "name": "stdout",
     "output_type": "stream",
     "text": [
      "http://159a4ac6-4925-4238-bd97-dbe0430d3a97.australiaeast.azurecontainer.io/score\n",
      "<Response [200]>\n",
      "\"{\\\"result\\\": [\\\"tested_negative\\\", \\\"tested_positive\\\", \\\"tested_positive\\\"]}\"\n"
     ]
    }
   ],
   "source": [
    "import requests\n",
    "import json\n",
    "from azureml.core.authentication import InteractiveLoginAuthentication\n",
    "from azureml.core.webservice import AciWebservice, Webservice\n",
    "\n",
    "\n",
    "service = Webservice(workspace=ws, name='pimadiabetesendpv3')\n",
    "print(service.scoring_uri)\n",
    "scoring_uri = service.scoring_uri\n",
    "#print(service.swagger_uri)\n",
    "\n",
    "# Set the content type\n",
    "headers = {'Content-Type': 'application/json'}\n",
    "# If authentication is enabled, set the authorization header\n",
    "headers['Authorization'] = f'Bearer {key}'\n",
    "\n",
    "# URL for the web service\n",
    "#scoring_uri = '<your web service URI>'\n",
    "# If the service is authenticated, set the key or token\n",
    "#key = '<your key or token>'\n",
    "\n",
    "# Two sets of data to score, so we get two results back\n",
    "data = {\"data\":\n",
    "        [\n",
    "            [\n",
    "                1,\n",
    "                150,\n",
    "                80,\n",
    "                29,\n",
    "                0,\n",
    "                28.1,\n",
    "                0.627,\n",
    "                25,\n",
    "            ],\n",
    "            [\n",
    "               3,\n",
    "                150,\n",
    "                80,\n",
    "                29,\n",
    "                0,\n",
    "                28.1,\n",
    "                0.627,\n",
    "                44,],\n",
    "            [\n",
    "               4,\n",
    "                150,\n",
    "                80,\n",
    "                29,\n",
    "                0,\n",
    "                28.1,\n",
    "                0.627,\n",
    "                45,]\n",
    "        ]\n",
    "        }\n",
    "# Convert to JSON string\n",
    "input_data = json.dumps(data)\n",
    "\n",
    "# Make the request and display the response\n",
    "resp = requests.post(scoring_uri, input_data, headers=headers)\n",
    "print (resp)\n",
    "print(resp.text)"
   ]
  },
  {
   "cell_type": "markdown",
   "metadata": {
    "nteract": {
     "transient": {
      "deleting": false
     }
    }
   },
   "source": [
    "## Enable Logging and Log Capture"
   ]
  },
  {
   "cell_type": "code",
   "execution_count": 8,
   "metadata": {
    "collapsed": true,
    "gather": {
     "logged": 1612090088330
    },
    "jupyter": {
     "outputs_hidden": false,
     "source_hidden": false
    },
    "nteract": {
     "transient": {
      "deleting": false
     }
    }
   },
   "outputs": [],
   "source": [
    "service = Webservice(workspace=ws, name='pimadiabetesendpv3')\n",
    "service.update(enable_app_insights=True)\n",
    "\n",
    "logs = service.get_logs()\n",
    "print(logs)"
   ]
  },
  {
   "cell_type": "markdown",
   "metadata": {
    "nteract": {
     "transient": {
      "deleting": false
     }
    }
   },
   "source": [
    "## Delete WebSERVICE"
   ]
  },
  {
   "cell_type": "code",
   "execution_count": 69,
   "metadata": {
    "collapsed": true,
    "gather": {
     "logged": 1611729855749
    },
    "jupyter": {
     "outputs_hidden": false,
     "source_hidden": false
    },
    "nteract": {
     "transient": {
      "deleting": false
     }
    }
   },
   "outputs": [],
   "source": [
    "service = Webservice(workspace=ws, name='pimadiabetesendpv2')\n",
    "service.delete()"
   ]
  },
  {
   "cell_type": "markdown",
   "metadata": {
    "nteract": {
     "transient": {
      "deleting": false
     }
    }
   },
   "source": [
    "## ONNX Model"
   ]
  },
  {
   "cell_type": "code",
   "execution_count": 85,
   "metadata": {
    "collapsed": true,
    "gather": {
     "logged": 1611742861467
    },
    "jupyter": {
     "outputs_hidden": false,
     "source_hidden": false
    },
    "nteract": {
     "transient": {
      "deleting": false
     }
    }
   },
   "outputs": [
    {
     "name": "stdout",
     "output_type": "stream",
     "text": [
      "Registering model best_model.onnx\n"
     ]
    }
   ],
   "source": [
    "from azureml.automl.runtime.onnx_convert import OnnxConverter\n",
    "\n",
    "best_run, onnx_mdl = remote_run.get_output(return_onnx_model=True)\n",
    "\n",
    "onnx_fl_path = \"./best_model.onnx\"\n",
    "OnnxConverter.save_onnx_model(onnx_mdl, onnx_fl_path)\n",
    "\n",
    "\n",
    "model = Model.register(model_path = \"./\",\n",
    "                       model_name = \"best_model.onnx\",\n",
    "                       tags = {\"onnx\": \"MyFirstonnx\"},\n",
    "                       description = \"pimadiabetesonnx\",\n",
    "                       workspace = ws)\n",
    "\n"
   ]
  },
  {
   "cell_type": "code",
   "execution_count": 27,
   "metadata": {
    "collapsed": true,
    "gather": {
     "logged": 1612219220807
    },
    "jupyter": {
     "outputs_hidden": false,
     "source_hidden": false
    },
    "nteract": {
     "transient": {
      "deleting": false
     }
    }
   },
   "outputs": [],
   "source": [
    "from azureml.core.webservice import AciWebservice, Webservice\n",
    "from azureml.core.model import Model\n",
    "from azureml.core.environment import Environment\n",
    "from azureml.core.model import InferenceConfig\n",
    "\n",
    "bestmodel, fmodel = remote_run.get_output()\n",
    "#bestmodel.download_file('outputs/scoring_file_v_1_0_0.py', 'scoring.py') \n",
    "bestmodel.download_file('outputs/conda_env_v_1_0_0.yml', 'myenv.yml')  "
   ]
  }
 ],
 "metadata": {
  "kernel_info": {
   "name": "python3"
  },
  "kernelspec": {
   "display_name": "Python 3",
   "language": "python",
   "name": "python3"
  },
  "language_info": {
   "codemirror_mode": {
    "name": "ipython",
    "version": 3
   },
   "file_extension": ".py",
   "mimetype": "text/x-python",
   "name": "python",
   "nbconvert_exporter": "python",
   "pygments_lexer": "ipython3",
   "version": "3.6.9"
  },
  "nteract": {
   "version": "nteract-front-end@1.0.0"
  }
 },
 "nbformat": 4,
 "nbformat_minor": 2
}
